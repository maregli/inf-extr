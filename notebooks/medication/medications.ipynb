{
 "cells": [
  {
   "cell_type": "code",
   "execution_count": 6,
   "metadata": {},
   "outputs": [],
   "source": [
    "import sys\n",
    "import os\n",
    "sys.path.append(os.getcwd()+\"/../..\")\n",
    "from src import paths\n",
    "\n",
    "import torch\n",
    "\n",
    "from pydantic import BaseModel, Field\n",
    "from enum import Enum, auto\n",
    "from src.utils import (load_model_and_tokenizer, \n",
    "                        get_sampler, \n",
    "                        get_format_fun, \n",
    "                        format_prompt, \n",
    "                        get_outlines_generator, \n",
    "                        get_pydantic_schema, \n",
    "                        outlines_medication_prompting,\n",
    "                        get_default_pydantic_model)\n",
    "\n",
    "from outlines import samplers\n",
    "from outlines.generate import SequenceGenerator\n",
    "from outlines.samplers import Sampler\n",
    "\n",
    "import pandas as pd\n",
    "\n",
    "import json\n",
    "\n",
    "from datasets import Dataset\n",
    "\n",
    "from typing import Callable, Union\n",
    "\n",
    "from pydantic import BaseModel"
   ]
  },
  {
   "cell_type": "code",
   "execution_count": 22,
   "metadata": {},
   "outputs": [
    {
     "data": {
      "text/plain": [
       "<module 'src.utils' from '/cluster/home/eglimar/inf-extr/notebooks/medication/../../src/utils.py'>"
      ]
     },
     "execution_count": 22,
     "metadata": {},
     "output_type": "execute_result"
    }
   ],
   "source": [
    "import importlib\n",
    "import src.utils\n",
    "importlib.reload(src.utils)"
   ]
  },
  {
   "cell_type": "code",
   "execution_count": 3,
   "metadata": {},
   "outputs": [
    {
     "data": {
      "application/vnd.jupyter.widget-view+json": {
       "model_id": "9d8fd3964fe64bcc925ce50a9ca56cf4",
       "version_major": 2,
       "version_minor": 0
      },
      "text/plain": [
       "Loading checkpoint shards:   0%|          | 0/2 [00:00<?, ?it/s]"
      ]
     },
     "metadata": {},
     "output_type": "display_data"
    }
   ],
   "source": [
    "model, tokenizer = load_model_and_tokenizer(\"Llama2-MedTuned-7b\",\n",
    "                                            task_type = \"outlines\",\n",
    "                                            quantization = \"4bit\",\n",
    "                                            attn_implementation = \"flash_attention_2\",\n",
    "                                           )"
   ]
  },
  {
   "cell_type": "code",
   "execution_count": 29,
   "metadata": {},
   "outputs": [],
   "source": [
    "sampler = get_sampler(\"greedy\")\n",
    "schema = get_pydantic_schema(\"medication\")\n",
    "default_model = get_default_pydantic_model(\"medication\")\n",
    "generator = get_outlines_generator(model, sampler, task = \"json\", schema = schema)"
   ]
  },
  {
   "cell_type": "code",
   "execution_count": 37,
   "metadata": {},
   "outputs": [
    {
     "data": {
      "text/plain": [
       "'{\"medications\":[{\"name\":\"Cipralex\",\"unit\":\"IE/mmol\",\"amount\":20.0,\"morning\":0.5,\"noon\":0.0,\"evening\":0.0,\"night\":0.0,\"extra\":\"für 4 Tage\"}]}'"
      ]
     },
     "execution_count": 37,
     "metadata": {},
     "output_type": "execute_result"
    }
   ],
   "source": [
    "schema(medications = [{\"name\": \"Cipralex\", \"unit\": \"IE/mmol\", \"amount\": 20, \"morning\": 0.5, \"noon\": 0, \"evening\": 0, \"night\": 0, \"extra\": \"für 4 Tage\"}]).json()"
   ]
  },
  {
   "cell_type": "code",
   "execution_count": 30,
   "metadata": {},
   "outputs": [],
   "source": [
    "df = Dataset.load_from_disk(paths.DATA_PATH_PREPROCESSED/\"medication/kisim_medication_sample\")"
   ]
  },
  {
   "cell_type": "code",
   "execution_count": 110,
   "metadata": {},
   "outputs": [
    {
     "name": "stdout",
     "output_type": "stream",
     "text": [
      "---------------\n",
      "0\n",
      "Prednison 100 mg\t1-0-0\t\t24.09. - 07.10.2016\n",
      "Prednison 80 mg\t\t1-0-0\t\t08.10. - 14.10.2016\n",
      "Prednison 60 mg\t\t1-0-0\t\t15.10. - 21.10.2016\n",
      "Prednison 40 mg\t\t1-0-0\t\t22.10.2016 bis auf weiteres\n",
      "\n",
      "Pantozol 40 mg\t\t1-0-0 \t\tfür die Dauer der Prednison-Behandlung\n",
      "---------------\n",
      "1\n",
      "Auge rechts:\n",
      "Floxal AT 4x/d für 5 Tage\n",
      "Vitamine A AS zur Nacht\n",
      "---------------\n",
      "2\n",
      "Volare Handgelenksschiene zur Nacht, bitte 1x für beide Hände\n",
      "\n",
      "Dg.: CTS bds\n",
      "---------------\n",
      "3\n",
      "Ebrufen 200 mg\n",
      "---------------\n",
      "4\n",
      "Paracetamol 500 Hänseler neue Formel Tabl 20 (teilbar)\n",
      "bei Bedarf\n",
      "\n",
      "\n",
      "Ibuprofen Adico Filmtabl 400 mg 50 \n",
      "bei Bedarf\n",
      "\n",
      "Dauerrezept\n",
      "---------------\n",
      "5\n",
      "Nexium MUPS-Tabl 40 mg 14 Stück Einnahme: 1-0-0\n",
      "Zolpidem Winthrop Filmtabl 10mg 10 Stück (teilbar) Einnahme: 0-0-1\n",
      "---------------\n",
      "6\n",
      "Einlagen\n",
      "---------------\n",
      "7\n",
      "Amoxicillin Sandoz (Disp Tabl 1000 mg)\n",
      "---------------\n",
      "8\n",
      "Fampyra 10mg 1-0-1 per os\n",
      "---------------\n",
      "9\n",
      "Burgerstein Vitamin D3 (Kaps)\n",
      "---------------\n",
      "10\n",
      "Novalgin (Filmtabl 500 mg)\n",
      "---------------\n",
      "11\n",
      "Cetallerg 10mg\n",
      "Rp für 12 Monate\n",
      "---------------\n",
      "12\n",
      "Magnesium Diasporal (Gran 300 mg)\n",
      "---------------\n",
      "13\n",
      "Sirdalud MR (Ret Kaps 6 mg)\n",
      "---------------\n",
      "14\n",
      "Pantozol (Filmtabl 40 mg)\n",
      "---------------\n",
      "15\n",
      "Pradif T (Ret Tabl 400 mcg)\n",
      "---------------\n",
      "16\n",
      "Frau Fleseriu-Erhan Adriana geb. 29.8.1972\n",
      "Adresse: Fliederweg 3, 5244 Birrhard\n",
      "Versicherung: Sanitas Nr.: 99396702\n",
      "\n",
      "Gültigkeit: 1 Jahr\n",
      "\n",
      "Tecfidera 240mg 1-0-1\n",
      "---------------\n",
      "17\n",
      "1 volare Handgelenksschiene Typ Mafra (rechts)\n",
      "\n",
      "(Ind. V.a. Karpaltunnelsyndrom rechts)\n",
      "---------------\n",
      "18\n",
      "Lacrycon (Augengel) Tagesdosen\n",
      "---------------\n",
      "19\n",
      "Toviaz (Ret Tabl 4 mg)\n",
      "---------------\n",
      "20\n",
      "Rezept für ein Jahr gültig\n",
      "---------------\n",
      "21\n",
      "Vi-De 3 (Tropfen 4500 IE/ml)\n",
      "---------------\n",
      "22\n",
      "Stüzstrümpfe Stärke 2 bis zu Oberschenkel\n",
      "---------------\n",
      "23\n",
      "1 OP MAGNESIOCARD Gran 10 mmol Orange     1-1-1\n",
      "---------------\n",
      "24\n",
      "Pantozol (Filmtabl 40 mg)\n",
      "---------------\n",
      "25\n",
      "Diprosalic Lösung: 1mal täglich (morgens und abends) tropfenweise auf die Kopfhaut auftragen und leicht einreiben, dann 3x/woche weiter\n",
      "\n",
      "Daivobet Salbe, \n",
      "b. Bedarf auf Psoriasistellen auf dem Körper \n",
      "\n",
      "Dermovate Creme\n",
      "stärker wirksam, auf die infiltrierten Psoriasisstellen im Schub tgl für 10-14 Tage, dann 2-3x/Woche für 4 Wochen\n",
      "\n",
      "Excipial U Lipolotion \n",
      "oder alternativ \n",
      "Excipial U Hydrolotio \n",
      "---------------\n",
      "26\n",
      "Buscopan (Drag 10 mg)\n",
      "---------------\n",
      "27\n",
      "Nasonex Dosier Nasenspray (Nasenspray 50 mcg)\n",
      "---------------\n",
      "28\n",
      "Lyrica 25 mg \t\t0-0-0-1 bei Auftreten von neuropathischen Schmerzen in der Nacht, + 1x Tabl. in Reserve bei Schmerzen (max 0-0-0-2). \n",
      "---------------\n",
      "29\n",
      "Vi-De 3 (Tropfen 4500 IE/ml)\n",
      "---------------\n",
      "30\n",
      "Tegretol CR (Divitabs 200 mg)\n",
      "---------------\n",
      "31\n",
      "Burgerstein\n",
      "---------------\n",
      "32\n",
      "Irfen Dolo 400 mg OPI\n",
      "1x1 bei Bed.\n",
      "---------------\n",
      "33\n",
      "Prednison 20mg\n",
      "1-0-0 5 Tage\n",
      "Pantozol 40mg\n",
      "1-0-0 5 Tage\n",
      "---------------\n",
      "34\n",
      "Micardis Amlo (Tabl) 80/5 mg\n",
      "---------------\n",
      "35\n",
      "Magnesiocard (Gran 10 mmol) Orange Btl\n",
      "---------------\n",
      "36\n",
      "Lyrica (Kaps 150 mg)\n",
      "---------------\n",
      "37\n",
      "Vi-De 3 (Tropfen 4500 IE/ml)\n",
      "---------------\n",
      "38\n",
      "Insulin NovoRapid Penfill (Inj Lös) Patrone\n",
      "---------------\n",
      "39\n",
      "Vi-De 3 (Tropfen 4500 IE/ml)\n",
      "---------------\n",
      "40\n",
      "Defalgan 1 an 2 Tagen pro Woche \n",
      "---------------\n",
      "41\n",
      "Bepanthen (Salbe 5 %)\n",
      "---------------\n",
      "42\n",
      "Nevanac (Susp Opht 0.1 %)\n",
      "---------------\n",
      "43\n",
      "1 Handgelenksschiene zur Nacht rechts\n",
      "---------------\n",
      "44\n",
      "Aspégic (Plv 500 mg) Btl\n",
      "---------------\n",
      "45\n",
      "1 OP Elocom Sa 1x/T für 10 T, alle 2 T für 10 T\n",
      "1 OP Excipial repair\n",
      "---------------\n",
      "46\n",
      "Toviaz 8 mg\t\t\t0-0-0-1, bis auf weiteres\n",
      "\n",
      "Pradif T\t\t\t\t0-0-0-1, bis auf weiteres\n",
      "---------------\n",
      "47\n",
      "Bactrim forte (Tabl) 800/160mg\n",
      "---------------\n",
      "48\n",
      "1 OP Otrivin Spray 3x3/d für 5 Tage\n",
      "1 OP Mefenacid 500mg 1-1-1\n",
      "---------------\n",
      "49\n",
      "Palexia (Filmtabl 50 mg)\n",
      "---------------\n",
      "50\n",
      "Pantozol (Filmtabl 20 mg)\n",
      "---------------\n",
      "51\n",
      "Lithiofor (Ret Tabl 660 mg)\n",
      "---------------\n",
      "52\n",
      "Lacrycon AT bds nach Bedarf\n",
      "---------------\n",
      "53\n",
      "1 OP ALFACORTON Creme 2.5 % \n",
      "---------------\n",
      "54\n",
      "Elocom (Creme 1 mg/g)\n",
      "---------------\n",
      "55\n",
      "Fampyra (DE) Retardtabletten 10mg (Fampridin Retardtabletten)\n",
      "1 -0 -1\n",
      "---------------\n",
      "56\n",
      "Katheter SpeediCat CH 12\n",
      "Gazenkompressen gefaltet\n",
      "Octenisept 500 ml\n",
      "---------------\n",
      "57\n",
      "Vi-De 3 (Tropfen 4500 IE/ml)\n",
      "---------------\n",
      "58\n",
      "Brufen Brausegranulat 600mg   1OP\n",
      "---------------\n",
      "59\n",
      "Dafalgan 1g bei Bedarf (max. 4g pro Tag)\n",
      "---------------\n",
      "60\n",
      "Detrusitol SR 4mg\n",
      "1Tbl. tgl.\n",
      "---------------\n",
      "61\n",
      "Deumavan Salbe (Salbe) Natur ohne Lavendel Tb\n",
      "---------------\n",
      "62\n",
      "1 Blutdruckmessgertät zur Selbstmessung\n",
      "---------------\n",
      "63\n",
      "orthopädische Fusseinlagen bds.\n",
      "---------------\n",
      "64\n",
      "Otrivin Schnupfen (Gtt Nas 0.1 %)\n",
      "---------------\n",
      "65\n",
      "Epiduo Gel\n",
      "flächig auf die Stirn und Schläfen\n",
      "jeden zweiten bis dritten Tag\n",
      "bei guter Verträglichkeit täglich\n",
      "\n",
      "Kann Kleider bleichen! \n",
      "---------------\n",
      "66\n",
      "1 OP Citalopram Ecosol (Filmtabletten 20 mg) 0.5-0-0\n",
      "\n",
      "Gültigkeit: 1 Jahr\n",
      "---------------\n",
      "67\n",
      "Pantozol (Filmtabl 20 mg)\n",
      "---------------\n",
      "68\n",
      "PK-Merz Filmtabl 100 \n",
      "\n",
      "erste Woche 1-0-0\n",
      "bei Bedarf zweite Woche 1-1-0 oder 2-0-0\n",
      "---------------\n",
      "69\n",
      "Vitamin D3 Streuli (Tropfen 4000 IE/ml)\n",
      "---------------\n",
      "70\n",
      "Dafalgan (Tabl 500 mg)\n",
      "---------------\n",
      "71\n",
      "ViDe3 20 Tropfen für drei Wochen\n",
      "---------------\n",
      "72\n",
      "Vi-De 3 (Tropfen 4500 IE/ml)\n",
      "---------------\n",
      "73\n",
      "VITAMIN D3 Streuli Tropfen 4000 E/ml\n",
      "---------------\n",
      "74\n",
      "Prednison-Ausschleichschema:\n",
      "\n",
      "Prednison 15 mg für 5 Tage\n",
      "folgend: Prednison 12,5 mg für 5 Tage\n",
      "\t\tPrednison 10 mg für 5 Tage\n",
      "\t\tPrednison 7,5 mg für 5 Tage\n",
      "\t\tPrednison 5 mg für 5 Tage\n",
      "\t\tPrednison 2,5 mg für 5 Tage\n",
      "\n",
      "Esomeprazol 40 mg für die Dauer der Cortisoneinnahme\n",
      "---------------\n",
      "75\n",
      "Voltaren Retard 75 (Ret Drag 75 mg)\n",
      "---------------\n",
      "76\n",
      "Rezept für 1 Jahr gültig\n",
      "---------------\n",
      "77\n",
      "Fampyra 10 mg \t\t1-1-0\n",
      "Sifrol 0.125 mg \t\t2h vor Schlafegehen\n",
      "---------------\n",
      "78\n",
      "für 1 Jahr \n",
      "\n",
      "Avanex:  Vers.-Nr. 96472969 \n",
      "\n",
      "Tecfidera 120mg 1-0-1 \tfür 1 Woche\n",
      "ab 2. Woche Tecfidra 240mg 1-0-1 \n",
      "\n",
      "---------------\n",
      "79\n",
      "Medrol 100 mg 10-0-0 po 4 Tage\n",
      "Pantoprazol 40 mg 1-0-0- 7 Tage\n",
      "---------------\n",
      "80\n",
      "Vi-De 3 (Tropfen 4500 IE/ml)\n",
      "---------------\n",
      "81\n",
      "Voltaren (Drag 50 mg)\n",
      "---------------\n",
      "82\n",
      "Nexium MUPS-Tabl 20 mg 14 \n",
      "---------------\n",
      "83\n",
      "Dafalgan (Tabl 500 mg)\n",
      "---------------\n",
      "84\n",
      "Brufen 200 mg, bei Bedarf (max 6/Tag)\n",
      "\n",
      "Dafalgan 500 mg, bei Bedarf (max 8/Tag)\n",
      "---------------\n",
      "85\n",
      "Normacol Sachet\n",
      "---------------\n",
      "86\n",
      "Vi-de 3 Tropfen \t\t1x Fläschen aufs Mal, danach 8 Tropfen tgl.\n",
      "---------------\n",
      "87\n",
      "Lioresal 10 mg\n",
      "S: 0-0-1/2 \t3 Tage\n",
      "1/2-0-1/2 \t3 Tage\n",
      "1/2-1/2-1/2 \t3 Tage\n",
      "1/2-1/2-1 \t3 Tage\n",
      "1-1/2-1 \t\t3 Tage\n",
      "dann 1-1-1\n",
      "\n",
      "Bei Abnahme der Kraft oder Nebenwirkungen wie Schläfrigkeit zurück auf die vorherige Dosisstufe\n",
      "\n",
      "---------------\n",
      "88\n",
      "Lioresal (Tabl 10 mg)\n",
      "---------------\n",
      "89\n",
      "Vi-De 3 (Tropfen 4500 IE/ml)\n",
      "---------------\n",
      "90\n",
      "Benexol B12 50 Tbl. \n",
      "(1 Tbl. tgl.)\n",
      "---------------\n",
      "91\n",
      "Aldara 5% Creme Sach 12 \n",
      "S. In der ersten Woche Montag, Mittwoch, Freitag einmal täglich auf roten Fleck an der Stirne auftragen. Falls geringe Rötung, ab der zweiten Woche Anwendung Montag bis Freitag einmal täglich, bis sich eine leicht nässende oder verkrustete Entzündung einstellt (meist nach 2 bis 4 Wochen Anwendung). Dann Stop Aldara und abheilen lassen.\n",
      "---------------\n",
      "92\n",
      "Pantozol 20mg \t\tp.o.\t1-0-0 für 3 Tage\n",
      "Zolpidem 10mg\t\tp.o. 1-0-0 für 3 Tage\n",
      "---------------\n",
      "93\n",
      "Gilenya 0,5 mg p.o.\t1-0-0\n",
      "\n",
      "Assura Kranken- und Unfallversicherung\n",
      "Vers.-Nr. 00000914176\n",
      "\n",
      "1 Jahr gültig\n",
      "---------------\n",
      "94\n",
      "Procutol Shampoo\n",
      "S: 2-3x/Woche zum Duschen\n",
      "---------------\n",
      "95\n",
      "Prednison Galepharm (Tabl 20 mg)\n",
      "---------------\n",
      "96\n",
      "Burfen 600mg b.B. \n",
      "---------------\n",
      "97\n",
      "Gültig für 12 Monate\n",
      "Gilenya®\n",
      "Fingolimod.\n",
      "\n",
      "Eine Kapsel mit 0.5 mg einmal täglich oral\n",
      "\n",
      "für\n",
      "Herr\n",
      "Schumacher Roger\n",
      "Hirzenbachstrasse 32\n",
      "CH-8051, Zürich\n",
      "\n",
      "versichert bei\n",
      "CONCORDIA\n",
      "Vers.-Nr. 989.08.07.009.7 (Hauptgarant) \n",
      "---------------\n",
      "98\n",
      "Eprex (Inj Lös 30000 IE/0.75ml) (Protecs) Fertspr\n",
      "---------------\n",
      "99\n",
      "Rezept für 1 Jahr gültig\n"
     ]
    }
   ],
   "source": [
    "# Look at different medication formats:\n",
    "for idx, text in enumerate(df[\"text\"]):\n",
    "    print(5*\"---\")\n",
    "    print(idx)\n",
    "    print(text)"
   ]
  },
  {
   "cell_type": "code",
   "execution_count": 31,
   "metadata": {},
   "outputs": [],
   "source": [
    "with open(paths.DATA_PATH_PREPROCESSED/\"medication/task_instruction.txt\", \"r\") as f:\n",
    "    task_instruction = f.read()\n",
    "\n",
    "with open(paths.DATA_PATH_PREPROCESSED/\"medication/system_prompt.txt\", \"r\") as f:\n",
    "    system_prompt = f.read()\n",
    "\n",
    "with open(paths.DATA_PATH_PREPROCESSED/\"medication/examples.json\", \"r\") as file:\n",
    "    examples = json.load(file)                  \n",
    "format_fun = get_format_fun(\"few_shot_instruction\")"
   ]
  },
  {
   "cell_type": "code",
   "execution_count": 84,
   "metadata": {},
   "outputs": [],
   "source": [
    "# text_input = format_prompt(df[\"text\"], format_fun, system_prompt = system_prompt, task_instruction=task_instruction, examples = examples)"
   ]
  },
  {
   "cell_type": "code",
   "execution_count": 15,
   "metadata": {},
   "outputs": [],
   "source": [
    "# results, successful = outlines_prompting_to(text = text_input, generator = generator, schema = schema, filename=\"medication-few-shot-instruction\", batch_size = 1, wait_time = 250) "
   ]
  },
  {
   "cell_type": "code",
   "execution_count": 34,
   "metadata": {},
   "outputs": [],
   "source": [
    "test = df[\"text\"][74]\n",
    "test_input = format_prompt([test], format_fun, system_prompt = system_prompt, task_instruction=task_instruction, examples = examples)"
   ]
  },
  {
   "cell_type": "code",
   "execution_count": 35,
   "metadata": {},
   "outputs": [
    {
     "name": "stdout",
     "output_type": "stream",
     "text": [
      "Prednison-Ausschleichschema:\n",
      "\n",
      "Prednison 15 mg für 5 Tage\n",
      "folgend: Prednison 12,5 mg für 5 Tage\n",
      "\t\tPrednison 10 mg für 5 Tage\n",
      "\t\tPrednison 7,5 mg für 5 Tage\n",
      "\t\tPrednison 5 mg für 5 Tage\n",
      "\t\tPrednison 2,5 mg für 5 Tage\n",
      "\n",
      "Esomeprazol 40 mg für die Dauer der Cortisoneinnahme\n"
     ]
    },
    {
     "name": "stderr",
     "output_type": "stream",
     "text": [
      "                                                         "
     ]
    },
    {
     "name": "stdout",
     "output_type": "stream",
     "text": [
      "Saved intermediate results to /cluster/dataset/midatams/inf-extr/results/intermediate/intermediate_results1710490674.3404074.pt\n"
     ]
    },
    {
     "name": "stderr",
     "output_type": "stream",
     "text": [
      "\r"
     ]
    }
   ],
   "source": [
    "print(test)\n",
    "result, successful = outlines_medication_prompting(text= test_input, generator = generator, max_tokens = 1000, batch_size = 1)"
   ]
  },
  {
   "cell_type": "code",
   "execution_count": 36,
   "metadata": {},
   "outputs": [
    {
     "data": {
      "text/plain": [
       "['{\"medications\":[{\"name\":\"Prednison\",\"dose\":15.0,\"dose_unit\":\"mg\",\"morning\":1.0,\"noon\":1.0,\"evening\":1.0,\"night\":1.0,\"extra\":\"für 5 Tage\"},{\"name\":\"Prednison\",\"dose\":12.0,\"dose_unit\":\"mg\",\"morning\":1.0,\"noon\":1.0,\"evening\":1.0,\"night\":1.0,\"extra\":\"für 5 Tage\"},{\"name\":\"Prednison\",\"dose\":10.0,\"dose_unit\":\"mg\",\"morning\":1.0,\"noon\":1.0,\"evening\":1.0,\"night\":1.0,\"extra\":\"für 5 Tage\"},{\"name\":\"Prednison\",\"dose\":7.0,\"dose_unit\":\"mg\",\"morning\":1.0,\"noon\":1.0,\"evening\":1.0,\"night\":1.0,\"extra\":\"für 5 Tage\"},{\"name\":\"Prednison\",\"dose\":5.0,\"dose_unit\":\"mg\",\"morning\":1.0,\"noon\":1.0,\"evening\":1.0,\"night\":1.0,\"extra\":\"für 5 Tage\"}]}']"
      ]
     },
     "execution_count": 36,
     "metadata": {},
     "output_type": "execute_result"
    }
   ],
   "source": [
    "result"
   ]
  },
  {
   "cell_type": "code",
   "execution_count": 21,
   "metadata": {},
   "outputs": [
    {
     "name": "stdout",
     "output_type": "stream",
     "text": [
      "{\n",
      "\"medications\": [\n",
      "{\n",
      "\"name\": \"Novalgin\",\n",
      "\"unit\": \"mg\",\n",
      "\"amount\": 500"
     ]
    },
    {
     "ename": "KeyboardInterrupt",
     "evalue": "",
     "output_type": "error",
     "traceback": [
      "\u001b[0;31m---------------------------------------------------------------------------\u001b[0m",
      "\u001b[0;31mKeyboardInterrupt\u001b[0m                         Traceback (most recent call last)",
      "Cell \u001b[0;32mIn[21], line 1\u001b[0m\n\u001b[0;32m----> 1\u001b[0m \u001b[38;5;28;43;01mfor\u001b[39;49;00m\u001b[43m \u001b[49m\u001b[43mtoken\u001b[49m\u001b[43m \u001b[49m\u001b[38;5;129;43;01min\u001b[39;49;00m\u001b[43m \u001b[49m\u001b[43mgenerator\u001b[49m\u001b[38;5;241;43m.\u001b[39;49m\u001b[43mstream\u001b[49m\u001b[43m(\u001b[49m\u001b[43mtest_input\u001b[49m\u001b[43m,\u001b[49m\u001b[43m \u001b[49m\u001b[43mmax_tokens\u001b[49m\u001b[43m \u001b[49m\u001b[38;5;241;43m=\u001b[39;49m\u001b[43m \u001b[49m\u001b[38;5;241;43m200\u001b[39;49m\u001b[43m)\u001b[49m\u001b[43m:\u001b[49m\n\u001b[1;32m      2\u001b[0m \u001b[43m    \u001b[49m\u001b[38;5;28;43mprint\u001b[39;49m\u001b[43m(\u001b[49m\u001b[43mtoken\u001b[49m\u001b[43m,\u001b[49m\u001b[43m \u001b[49m\u001b[43mend\u001b[49m\u001b[43m \u001b[49m\u001b[38;5;241;43m=\u001b[39;49m\u001b[43m \u001b[49m\u001b[38;5;124;43m\"\u001b[39;49m\u001b[38;5;124;43m\"\u001b[39;49m\u001b[43m)\u001b[49m\n",
      "File \u001b[0;32m/cluster/customapps/biomed/grlab/users/eglimar/software/virtualenvs/inf-extr-RuZI_Gck-py3.11/lib/python3.11/site-packages/outlines/generate/api.py:327\u001b[0m, in \u001b[0;36mSequenceGenerator.stream.<locals>.token_generator\u001b[0;34m()\u001b[0m\n\u001b[1;32m    325\u001b[0m     \u001b[38;5;28;01mreturn\u001b[39;00m\n\u001b[1;32m    326\u001b[0m \u001b[38;5;28;01mtry\u001b[39;00m:\n\u001b[0;32m--> 327\u001b[0m     sequence \u001b[38;5;241m=\u001b[39m \u001b[38;5;28mnext\u001b[39m(states)\n\u001b[1;32m    328\u001b[0m     num_generated \u001b[38;5;241m+\u001b[39m\u001b[38;5;241m=\u001b[39m \u001b[38;5;241m1\u001b[39m\n\u001b[1;32m    329\u001b[0m \u001b[38;5;28;01mexcept\u001b[39;00m \u001b[38;5;167;01mStopIteration\u001b[39;00m:\n",
      "File \u001b[0;32m/cluster/customapps/biomed/grlab/users/eglimar/software/virtualenvs/inf-extr-RuZI_Gck-py3.11/lib/python3.11/site-packages/outlines/generate/generator.py:71\u001b[0m, in \u001b[0;36msequence_generator\u001b[0;34m(model, sampler, fsms, token_ids, sequence_weights, attention_masks, fsm_states, rng)\u001b[0m\n\u001b[1;32m     69\u001b[0m \u001b[38;5;28;01mwhile\u001b[39;00m \u001b[38;5;28;01mTrue\u001b[39;00m:\n\u001b[1;32m     70\u001b[0m     \u001b[38;5;28;01mtry\u001b[39;00m:\n\u001b[0;32m---> 71\u001b[0m         logits, kv_cache \u001b[38;5;241m=\u001b[39m \u001b[43mmodel\u001b[49m\u001b[43m(\u001b[49m\u001b[43mtoken_ids\u001b[49m\u001b[43m,\u001b[49m\u001b[43m \u001b[49m\u001b[43mattention_masks\u001b[49m\u001b[43m,\u001b[49m\u001b[43m \u001b[49m\u001b[43mkv_cache\u001b[49m\u001b[43m)\u001b[49m\n\u001b[1;32m     72\u001b[0m     \u001b[38;5;28;01mexcept\u001b[39;00m \u001b[38;5;167;01mIndexError\u001b[39;00m:  \u001b[38;5;66;03m# Exceeding the context length\u001b[39;00m\n\u001b[1;32m     73\u001b[0m         \u001b[38;5;28;01mraise\u001b[39;00m ContextLengthExceededError(\n\u001b[1;32m     74\u001b[0m             \u001b[38;5;124m\"\u001b[39m\u001b[38;5;124mThe input length exceeds the context length of the model.\u001b[39m\u001b[38;5;124m\"\u001b[39m\n\u001b[1;32m     75\u001b[0m         )\n",
      "File \u001b[0;32m/cluster/customapps/biomed/grlab/users/eglimar/software/virtualenvs/inf-extr-RuZI_Gck-py3.11/lib/python3.11/site-packages/outlines/models/transformers.py:116\u001b[0m, in \u001b[0;36mTransformer.__call__\u001b[0;34m(self, input_ids, attention_mask, past_key_values)\u001b[0m\n\u001b[1;32m    110\u001b[0m \u001b[38;5;28;01mdef\u001b[39;00m \u001b[38;5;21m__call__\u001b[39m(\n\u001b[1;32m    111\u001b[0m     \u001b[38;5;28mself\u001b[39m,\n\u001b[1;32m    112\u001b[0m     input_ids: torch\u001b[38;5;241m.\u001b[39mLongTensor,\n\u001b[1;32m    113\u001b[0m     attention_mask: torch\u001b[38;5;241m.\u001b[39mLongTensor,\n\u001b[1;32m    114\u001b[0m     past_key_values: Optional[Tuple] \u001b[38;5;241m=\u001b[39m \u001b[38;5;28;01mNone\u001b[39;00m,\n\u001b[1;32m    115\u001b[0m ) \u001b[38;5;241m-\u001b[39m\u001b[38;5;241m>\u001b[39m torch\u001b[38;5;241m.\u001b[39mFloatTensor:\n\u001b[0;32m--> 116\u001b[0m     logits, kv_cache \u001b[38;5;241m=\u001b[39m \u001b[38;5;28;43mself\u001b[39;49m\u001b[38;5;241;43m.\u001b[39;49m\u001b[43mforward\u001b[49m\u001b[43m(\u001b[49m\u001b[43minput_ids\u001b[49m\u001b[43m,\u001b[49m\u001b[43m \u001b[49m\u001b[43mattention_mask\u001b[49m\u001b[43m,\u001b[49m\u001b[43m \u001b[49m\u001b[43mpast_key_values\u001b[49m\u001b[43m)\u001b[49m\n\u001b[1;32m    117\u001b[0m     next_token_logits \u001b[38;5;241m=\u001b[39m logits[\u001b[38;5;241m.\u001b[39m\u001b[38;5;241m.\u001b[39m\u001b[38;5;241m.\u001b[39m, \u001b[38;5;241m-\u001b[39m\u001b[38;5;241m1\u001b[39m, :]\n\u001b[1;32m    119\u001b[0m     \u001b[38;5;28;01mreturn\u001b[39;00m next_token_logits, kv_cache\n",
      "File \u001b[0;32m/cluster/customapps/biomed/grlab/users/eglimar/software/virtualenvs/inf-extr-RuZI_Gck-py3.11/lib/python3.11/site-packages/torch/utils/_contextlib.py:115\u001b[0m, in \u001b[0;36mcontext_decorator.<locals>.decorate_context\u001b[0;34m(*args, **kwargs)\u001b[0m\n\u001b[1;32m    112\u001b[0m \u001b[38;5;129m@functools\u001b[39m\u001b[38;5;241m.\u001b[39mwraps(func)\n\u001b[1;32m    113\u001b[0m \u001b[38;5;28;01mdef\u001b[39;00m \u001b[38;5;21mdecorate_context\u001b[39m(\u001b[38;5;241m*\u001b[39margs, \u001b[38;5;241m*\u001b[39m\u001b[38;5;241m*\u001b[39mkwargs):\n\u001b[1;32m    114\u001b[0m     \u001b[38;5;28;01mwith\u001b[39;00m ctx_factory():\n\u001b[0;32m--> 115\u001b[0m         \u001b[38;5;28;01mreturn\u001b[39;00m \u001b[43mfunc\u001b[49m\u001b[43m(\u001b[49m\u001b[38;5;241;43m*\u001b[39;49m\u001b[43margs\u001b[49m\u001b[43m,\u001b[49m\u001b[43m \u001b[49m\u001b[38;5;241;43m*\u001b[39;49m\u001b[38;5;241;43m*\u001b[39;49m\u001b[43mkwargs\u001b[49m\u001b[43m)\u001b[49m\n",
      "File \u001b[0;32m/cluster/customapps/biomed/grlab/users/eglimar/software/virtualenvs/inf-extr-RuZI_Gck-py3.11/lib/python3.11/site-packages/outlines/models/transformers.py:99\u001b[0m, in \u001b[0;36mTransformer.forward\u001b[0;34m(self, input_ids, attention_mask, past_key_values)\u001b[0m\n\u001b[1;32m     96\u001b[0m \u001b[38;5;28;01mif\u001b[39;00m past_key_values:\n\u001b[1;32m     97\u001b[0m     input_ids \u001b[38;5;241m=\u001b[39m input_ids[\u001b[38;5;241m.\u001b[39m\u001b[38;5;241m.\u001b[39m\u001b[38;5;241m.\u001b[39m, \u001b[38;5;241m-\u001b[39m\u001b[38;5;241m1\u001b[39m]\u001b[38;5;241m.\u001b[39munsqueeze(\u001b[38;5;241m-\u001b[39m\u001b[38;5;241m1\u001b[39m)\n\u001b[0;32m---> 99\u001b[0m output \u001b[38;5;241m=\u001b[39m \u001b[38;5;28;43mself\u001b[39;49m\u001b[38;5;241;43m.\u001b[39;49m\u001b[43mmodel\u001b[49m\u001b[43m(\u001b[49m\n\u001b[1;32m    100\u001b[0m \u001b[43m    \u001b[49m\u001b[43minput_ids\u001b[49m\u001b[43m,\u001b[49m\n\u001b[1;32m    101\u001b[0m \u001b[43m    \u001b[49m\u001b[43mattention_mask\u001b[49m\u001b[38;5;241;43m=\u001b[39;49m\u001b[43mattention_mask\u001b[49m\u001b[43m,\u001b[49m\n\u001b[1;32m    102\u001b[0m \u001b[43m    \u001b[49m\u001b[43mreturn_dict\u001b[49m\u001b[38;5;241;43m=\u001b[39;49m\u001b[38;5;28;43;01mTrue\u001b[39;49;00m\u001b[43m,\u001b[49m\n\u001b[1;32m    103\u001b[0m \u001b[43m    \u001b[49m\u001b[43moutput_attentions\u001b[49m\u001b[38;5;241;43m=\u001b[39;49m\u001b[38;5;28;43;01mFalse\u001b[39;49;00m\u001b[43m,\u001b[49m\n\u001b[1;32m    104\u001b[0m \u001b[43m    \u001b[49m\u001b[43moutput_hidden_states\u001b[49m\u001b[38;5;241;43m=\u001b[39;49m\u001b[38;5;28;43;01mFalse\u001b[39;49;00m\u001b[43m,\u001b[49m\n\u001b[1;32m    105\u001b[0m \u001b[43m    \u001b[49m\u001b[43mpast_key_values\u001b[49m\u001b[38;5;241;43m=\u001b[39;49m\u001b[43mpast_key_values\u001b[49m\u001b[43m,\u001b[49m\n\u001b[1;32m    106\u001b[0m \u001b[43m\u001b[49m\u001b[43m)\u001b[49m\n\u001b[1;32m    108\u001b[0m \u001b[38;5;28;01mreturn\u001b[39;00m output\u001b[38;5;241m.\u001b[39mlogits, output\u001b[38;5;241m.\u001b[39mpast_key_values\n",
      "File \u001b[0;32m/cluster/customapps/biomed/grlab/users/eglimar/software/virtualenvs/inf-extr-RuZI_Gck-py3.11/lib/python3.11/site-packages/torch/nn/modules/module.py:1511\u001b[0m, in \u001b[0;36mModule._wrapped_call_impl\u001b[0;34m(self, *args, **kwargs)\u001b[0m\n\u001b[1;32m   1509\u001b[0m     \u001b[38;5;28;01mreturn\u001b[39;00m \u001b[38;5;28mself\u001b[39m\u001b[38;5;241m.\u001b[39m_compiled_call_impl(\u001b[38;5;241m*\u001b[39margs, \u001b[38;5;241m*\u001b[39m\u001b[38;5;241m*\u001b[39mkwargs)  \u001b[38;5;66;03m# type: ignore[misc]\u001b[39;00m\n\u001b[1;32m   1510\u001b[0m \u001b[38;5;28;01melse\u001b[39;00m:\n\u001b[0;32m-> 1511\u001b[0m     \u001b[38;5;28;01mreturn\u001b[39;00m \u001b[38;5;28;43mself\u001b[39;49m\u001b[38;5;241;43m.\u001b[39;49m\u001b[43m_call_impl\u001b[49m\u001b[43m(\u001b[49m\u001b[38;5;241;43m*\u001b[39;49m\u001b[43margs\u001b[49m\u001b[43m,\u001b[49m\u001b[43m \u001b[49m\u001b[38;5;241;43m*\u001b[39;49m\u001b[38;5;241;43m*\u001b[39;49m\u001b[43mkwargs\u001b[49m\u001b[43m)\u001b[49m\n",
      "File \u001b[0;32m/cluster/customapps/biomed/grlab/users/eglimar/software/virtualenvs/inf-extr-RuZI_Gck-py3.11/lib/python3.11/site-packages/torch/nn/modules/module.py:1520\u001b[0m, in \u001b[0;36mModule._call_impl\u001b[0;34m(self, *args, **kwargs)\u001b[0m\n\u001b[1;32m   1515\u001b[0m \u001b[38;5;66;03m# If we don't have any hooks, we want to skip the rest of the logic in\u001b[39;00m\n\u001b[1;32m   1516\u001b[0m \u001b[38;5;66;03m# this function, and just call forward.\u001b[39;00m\n\u001b[1;32m   1517\u001b[0m \u001b[38;5;28;01mif\u001b[39;00m \u001b[38;5;129;01mnot\u001b[39;00m (\u001b[38;5;28mself\u001b[39m\u001b[38;5;241m.\u001b[39m_backward_hooks \u001b[38;5;129;01mor\u001b[39;00m \u001b[38;5;28mself\u001b[39m\u001b[38;5;241m.\u001b[39m_backward_pre_hooks \u001b[38;5;129;01mor\u001b[39;00m \u001b[38;5;28mself\u001b[39m\u001b[38;5;241m.\u001b[39m_forward_hooks \u001b[38;5;129;01mor\u001b[39;00m \u001b[38;5;28mself\u001b[39m\u001b[38;5;241m.\u001b[39m_forward_pre_hooks\n\u001b[1;32m   1518\u001b[0m         \u001b[38;5;129;01mor\u001b[39;00m _global_backward_pre_hooks \u001b[38;5;129;01mor\u001b[39;00m _global_backward_hooks\n\u001b[1;32m   1519\u001b[0m         \u001b[38;5;129;01mor\u001b[39;00m _global_forward_hooks \u001b[38;5;129;01mor\u001b[39;00m _global_forward_pre_hooks):\n\u001b[0;32m-> 1520\u001b[0m     \u001b[38;5;28;01mreturn\u001b[39;00m \u001b[43mforward_call\u001b[49m\u001b[43m(\u001b[49m\u001b[38;5;241;43m*\u001b[39;49m\u001b[43margs\u001b[49m\u001b[43m,\u001b[49m\u001b[43m \u001b[49m\u001b[38;5;241;43m*\u001b[39;49m\u001b[38;5;241;43m*\u001b[39;49m\u001b[43mkwargs\u001b[49m\u001b[43m)\u001b[49m\n\u001b[1;32m   1522\u001b[0m \u001b[38;5;28;01mtry\u001b[39;00m:\n\u001b[1;32m   1523\u001b[0m     result \u001b[38;5;241m=\u001b[39m \u001b[38;5;28;01mNone\u001b[39;00m\n",
      "File \u001b[0;32m/cluster/customapps/biomed/grlab/users/eglimar/software/virtualenvs/inf-extr-RuZI_Gck-py3.11/lib/python3.11/site-packages/accelerate/hooks.py:166\u001b[0m, in \u001b[0;36madd_hook_to_module.<locals>.new_forward\u001b[0;34m(module, *args, **kwargs)\u001b[0m\n\u001b[1;32m    164\u001b[0m         output \u001b[38;5;241m=\u001b[39m module\u001b[38;5;241m.\u001b[39m_old_forward(\u001b[38;5;241m*\u001b[39margs, \u001b[38;5;241m*\u001b[39m\u001b[38;5;241m*\u001b[39mkwargs)\n\u001b[1;32m    165\u001b[0m \u001b[38;5;28;01melse\u001b[39;00m:\n\u001b[0;32m--> 166\u001b[0m     output \u001b[38;5;241m=\u001b[39m \u001b[43mmodule\u001b[49m\u001b[38;5;241;43m.\u001b[39;49m\u001b[43m_old_forward\u001b[49m\u001b[43m(\u001b[49m\u001b[38;5;241;43m*\u001b[39;49m\u001b[43margs\u001b[49m\u001b[43m,\u001b[49m\u001b[43m \u001b[49m\u001b[38;5;241;43m*\u001b[39;49m\u001b[38;5;241;43m*\u001b[39;49m\u001b[43mkwargs\u001b[49m\u001b[43m)\u001b[49m\n\u001b[1;32m    167\u001b[0m \u001b[38;5;28;01mreturn\u001b[39;00m module\u001b[38;5;241m.\u001b[39m_hf_hook\u001b[38;5;241m.\u001b[39mpost_forward(module, output)\n",
      "File \u001b[0;32m/cluster/customapps/biomed/grlab/users/eglimar/software/virtualenvs/inf-extr-RuZI_Gck-py3.11/lib/python3.11/site-packages/transformers/models/llama/modeling_llama.py:1168\u001b[0m, in \u001b[0;36mLlamaForCausalLM.forward\u001b[0;34m(self, input_ids, attention_mask, position_ids, past_key_values, inputs_embeds, labels, use_cache, output_attentions, output_hidden_states, return_dict, cache_position)\u001b[0m\n\u001b[1;32m   1165\u001b[0m return_dict \u001b[38;5;241m=\u001b[39m return_dict \u001b[38;5;28;01mif\u001b[39;00m return_dict \u001b[38;5;129;01mis\u001b[39;00m \u001b[38;5;129;01mnot\u001b[39;00m \u001b[38;5;28;01mNone\u001b[39;00m \u001b[38;5;28;01melse\u001b[39;00m \u001b[38;5;28mself\u001b[39m\u001b[38;5;241m.\u001b[39mconfig\u001b[38;5;241m.\u001b[39muse_return_dict\n\u001b[1;32m   1167\u001b[0m \u001b[38;5;66;03m# decoder outputs consists of (dec_features, layer_state, dec_hidden, dec_attn)\u001b[39;00m\n\u001b[0;32m-> 1168\u001b[0m outputs \u001b[38;5;241m=\u001b[39m \u001b[38;5;28;43mself\u001b[39;49m\u001b[38;5;241;43m.\u001b[39;49m\u001b[43mmodel\u001b[49m\u001b[43m(\u001b[49m\n\u001b[1;32m   1169\u001b[0m \u001b[43m    \u001b[49m\u001b[43minput_ids\u001b[49m\u001b[38;5;241;43m=\u001b[39;49m\u001b[43minput_ids\u001b[49m\u001b[43m,\u001b[49m\n\u001b[1;32m   1170\u001b[0m \u001b[43m    \u001b[49m\u001b[43mattention_mask\u001b[49m\u001b[38;5;241;43m=\u001b[39;49m\u001b[43mattention_mask\u001b[49m\u001b[43m,\u001b[49m\n\u001b[1;32m   1171\u001b[0m \u001b[43m    \u001b[49m\u001b[43mposition_ids\u001b[49m\u001b[38;5;241;43m=\u001b[39;49m\u001b[43mposition_ids\u001b[49m\u001b[43m,\u001b[49m\n\u001b[1;32m   1172\u001b[0m \u001b[43m    \u001b[49m\u001b[43mpast_key_values\u001b[49m\u001b[38;5;241;43m=\u001b[39;49m\u001b[43mpast_key_values\u001b[49m\u001b[43m,\u001b[49m\n\u001b[1;32m   1173\u001b[0m \u001b[43m    \u001b[49m\u001b[43minputs_embeds\u001b[49m\u001b[38;5;241;43m=\u001b[39;49m\u001b[43minputs_embeds\u001b[49m\u001b[43m,\u001b[49m\n\u001b[1;32m   1174\u001b[0m \u001b[43m    \u001b[49m\u001b[43muse_cache\u001b[49m\u001b[38;5;241;43m=\u001b[39;49m\u001b[43muse_cache\u001b[49m\u001b[43m,\u001b[49m\n\u001b[1;32m   1175\u001b[0m \u001b[43m    \u001b[49m\u001b[43moutput_attentions\u001b[49m\u001b[38;5;241;43m=\u001b[39;49m\u001b[43moutput_attentions\u001b[49m\u001b[43m,\u001b[49m\n\u001b[1;32m   1176\u001b[0m \u001b[43m    \u001b[49m\u001b[43moutput_hidden_states\u001b[49m\u001b[38;5;241;43m=\u001b[39;49m\u001b[43moutput_hidden_states\u001b[49m\u001b[43m,\u001b[49m\n\u001b[1;32m   1177\u001b[0m \u001b[43m    \u001b[49m\u001b[43mreturn_dict\u001b[49m\u001b[38;5;241;43m=\u001b[39;49m\u001b[43mreturn_dict\u001b[49m\u001b[43m,\u001b[49m\n\u001b[1;32m   1178\u001b[0m \u001b[43m    \u001b[49m\u001b[43mcache_position\u001b[49m\u001b[38;5;241;43m=\u001b[39;49m\u001b[43mcache_position\u001b[49m\u001b[43m,\u001b[49m\n\u001b[1;32m   1179\u001b[0m \u001b[43m\u001b[49m\u001b[43m)\u001b[49m\n\u001b[1;32m   1181\u001b[0m hidden_states \u001b[38;5;241m=\u001b[39m outputs[\u001b[38;5;241m0\u001b[39m]\n\u001b[1;32m   1182\u001b[0m \u001b[38;5;28;01mif\u001b[39;00m \u001b[38;5;28mself\u001b[39m\u001b[38;5;241m.\u001b[39mconfig\u001b[38;5;241m.\u001b[39mpretraining_tp \u001b[38;5;241m>\u001b[39m \u001b[38;5;241m1\u001b[39m:\n",
      "File \u001b[0;32m/cluster/customapps/biomed/grlab/users/eglimar/software/virtualenvs/inf-extr-RuZI_Gck-py3.11/lib/python3.11/site-packages/torch/nn/modules/module.py:1511\u001b[0m, in \u001b[0;36mModule._wrapped_call_impl\u001b[0;34m(self, *args, **kwargs)\u001b[0m\n\u001b[1;32m   1509\u001b[0m     \u001b[38;5;28;01mreturn\u001b[39;00m \u001b[38;5;28mself\u001b[39m\u001b[38;5;241m.\u001b[39m_compiled_call_impl(\u001b[38;5;241m*\u001b[39margs, \u001b[38;5;241m*\u001b[39m\u001b[38;5;241m*\u001b[39mkwargs)  \u001b[38;5;66;03m# type: ignore[misc]\u001b[39;00m\n\u001b[1;32m   1510\u001b[0m \u001b[38;5;28;01melse\u001b[39;00m:\n\u001b[0;32m-> 1511\u001b[0m     \u001b[38;5;28;01mreturn\u001b[39;00m \u001b[38;5;28;43mself\u001b[39;49m\u001b[38;5;241;43m.\u001b[39;49m\u001b[43m_call_impl\u001b[49m\u001b[43m(\u001b[49m\u001b[38;5;241;43m*\u001b[39;49m\u001b[43margs\u001b[49m\u001b[43m,\u001b[49m\u001b[43m \u001b[49m\u001b[38;5;241;43m*\u001b[39;49m\u001b[38;5;241;43m*\u001b[39;49m\u001b[43mkwargs\u001b[49m\u001b[43m)\u001b[49m\n",
      "File \u001b[0;32m/cluster/customapps/biomed/grlab/users/eglimar/software/virtualenvs/inf-extr-RuZI_Gck-py3.11/lib/python3.11/site-packages/torch/nn/modules/module.py:1520\u001b[0m, in \u001b[0;36mModule._call_impl\u001b[0;34m(self, *args, **kwargs)\u001b[0m\n\u001b[1;32m   1515\u001b[0m \u001b[38;5;66;03m# If we don't have any hooks, we want to skip the rest of the logic in\u001b[39;00m\n\u001b[1;32m   1516\u001b[0m \u001b[38;5;66;03m# this function, and just call forward.\u001b[39;00m\n\u001b[1;32m   1517\u001b[0m \u001b[38;5;28;01mif\u001b[39;00m \u001b[38;5;129;01mnot\u001b[39;00m (\u001b[38;5;28mself\u001b[39m\u001b[38;5;241m.\u001b[39m_backward_hooks \u001b[38;5;129;01mor\u001b[39;00m \u001b[38;5;28mself\u001b[39m\u001b[38;5;241m.\u001b[39m_backward_pre_hooks \u001b[38;5;129;01mor\u001b[39;00m \u001b[38;5;28mself\u001b[39m\u001b[38;5;241m.\u001b[39m_forward_hooks \u001b[38;5;129;01mor\u001b[39;00m \u001b[38;5;28mself\u001b[39m\u001b[38;5;241m.\u001b[39m_forward_pre_hooks\n\u001b[1;32m   1518\u001b[0m         \u001b[38;5;129;01mor\u001b[39;00m _global_backward_pre_hooks \u001b[38;5;129;01mor\u001b[39;00m _global_backward_hooks\n\u001b[1;32m   1519\u001b[0m         \u001b[38;5;129;01mor\u001b[39;00m _global_forward_hooks \u001b[38;5;129;01mor\u001b[39;00m _global_forward_pre_hooks):\n\u001b[0;32m-> 1520\u001b[0m     \u001b[38;5;28;01mreturn\u001b[39;00m \u001b[43mforward_call\u001b[49m\u001b[43m(\u001b[49m\u001b[38;5;241;43m*\u001b[39;49m\u001b[43margs\u001b[49m\u001b[43m,\u001b[49m\u001b[43m \u001b[49m\u001b[38;5;241;43m*\u001b[39;49m\u001b[38;5;241;43m*\u001b[39;49m\u001b[43mkwargs\u001b[49m\u001b[43m)\u001b[49m\n\u001b[1;32m   1522\u001b[0m \u001b[38;5;28;01mtry\u001b[39;00m:\n\u001b[1;32m   1523\u001b[0m     result \u001b[38;5;241m=\u001b[39m \u001b[38;5;28;01mNone\u001b[39;00m\n",
      "File \u001b[0;32m/cluster/customapps/biomed/grlab/users/eglimar/software/virtualenvs/inf-extr-RuZI_Gck-py3.11/lib/python3.11/site-packages/accelerate/hooks.py:166\u001b[0m, in \u001b[0;36madd_hook_to_module.<locals>.new_forward\u001b[0;34m(module, *args, **kwargs)\u001b[0m\n\u001b[1;32m    164\u001b[0m         output \u001b[38;5;241m=\u001b[39m module\u001b[38;5;241m.\u001b[39m_old_forward(\u001b[38;5;241m*\u001b[39margs, \u001b[38;5;241m*\u001b[39m\u001b[38;5;241m*\u001b[39mkwargs)\n\u001b[1;32m    165\u001b[0m \u001b[38;5;28;01melse\u001b[39;00m:\n\u001b[0;32m--> 166\u001b[0m     output \u001b[38;5;241m=\u001b[39m \u001b[43mmodule\u001b[49m\u001b[38;5;241;43m.\u001b[39;49m\u001b[43m_old_forward\u001b[49m\u001b[43m(\u001b[49m\u001b[38;5;241;43m*\u001b[39;49m\u001b[43margs\u001b[49m\u001b[43m,\u001b[49m\u001b[43m \u001b[49m\u001b[38;5;241;43m*\u001b[39;49m\u001b[38;5;241;43m*\u001b[39;49m\u001b[43mkwargs\u001b[49m\u001b[43m)\u001b[49m\n\u001b[1;32m    167\u001b[0m \u001b[38;5;28;01mreturn\u001b[39;00m module\u001b[38;5;241m.\u001b[39m_hf_hook\u001b[38;5;241m.\u001b[39mpost_forward(module, output)\n",
      "File \u001b[0;32m/cluster/customapps/biomed/grlab/users/eglimar/software/virtualenvs/inf-extr-RuZI_Gck-py3.11/lib/python3.11/site-packages/transformers/models/llama/modeling_llama.py:1008\u001b[0m, in \u001b[0;36mLlamaModel.forward\u001b[0;34m(self, input_ids, attention_mask, position_ids, past_key_values, inputs_embeds, use_cache, output_attentions, output_hidden_states, return_dict, cache_position)\u001b[0m\n\u001b[1;32m    997\u001b[0m     layer_outputs \u001b[38;5;241m=\u001b[39m \u001b[38;5;28mself\u001b[39m\u001b[38;5;241m.\u001b[39m_gradient_checkpointing_func(\n\u001b[1;32m    998\u001b[0m         decoder_layer\u001b[38;5;241m.\u001b[39m\u001b[38;5;21m__call__\u001b[39m,\n\u001b[1;32m    999\u001b[0m         hidden_states,\n\u001b[0;32m   (...)\u001b[0m\n\u001b[1;32m   1005\u001b[0m         cache_position,\n\u001b[1;32m   1006\u001b[0m     )\n\u001b[1;32m   1007\u001b[0m \u001b[38;5;28;01melse\u001b[39;00m:\n\u001b[0;32m-> 1008\u001b[0m     layer_outputs \u001b[38;5;241m=\u001b[39m \u001b[43mdecoder_layer\u001b[49m\u001b[43m(\u001b[49m\n\u001b[1;32m   1009\u001b[0m \u001b[43m        \u001b[49m\u001b[43mhidden_states\u001b[49m\u001b[43m,\u001b[49m\n\u001b[1;32m   1010\u001b[0m \u001b[43m        \u001b[49m\u001b[43mattention_mask\u001b[49m\u001b[38;5;241;43m=\u001b[39;49m\u001b[43mcausal_mask\u001b[49m\u001b[43m,\u001b[49m\n\u001b[1;32m   1011\u001b[0m \u001b[43m        \u001b[49m\u001b[43mposition_ids\u001b[49m\u001b[38;5;241;43m=\u001b[39;49m\u001b[43mposition_ids\u001b[49m\u001b[43m,\u001b[49m\n\u001b[1;32m   1012\u001b[0m \u001b[43m        \u001b[49m\u001b[43mpast_key_value\u001b[49m\u001b[38;5;241;43m=\u001b[39;49m\u001b[43mpast_key_values\u001b[49m\u001b[43m,\u001b[49m\n\u001b[1;32m   1013\u001b[0m \u001b[43m        \u001b[49m\u001b[43moutput_attentions\u001b[49m\u001b[38;5;241;43m=\u001b[39;49m\u001b[43moutput_attentions\u001b[49m\u001b[43m,\u001b[49m\n\u001b[1;32m   1014\u001b[0m \u001b[43m        \u001b[49m\u001b[43muse_cache\u001b[49m\u001b[38;5;241;43m=\u001b[39;49m\u001b[43muse_cache\u001b[49m\u001b[43m,\u001b[49m\n\u001b[1;32m   1015\u001b[0m \u001b[43m        \u001b[49m\u001b[43mcache_position\u001b[49m\u001b[38;5;241;43m=\u001b[39;49m\u001b[43mcache_position\u001b[49m\u001b[43m,\u001b[49m\n\u001b[1;32m   1016\u001b[0m \u001b[43m    \u001b[49m\u001b[43m)\u001b[49m\n\u001b[1;32m   1018\u001b[0m hidden_states \u001b[38;5;241m=\u001b[39m layer_outputs[\u001b[38;5;241m0\u001b[39m]\n\u001b[1;32m   1020\u001b[0m \u001b[38;5;28;01mif\u001b[39;00m use_cache:\n",
      "File \u001b[0;32m/cluster/customapps/biomed/grlab/users/eglimar/software/virtualenvs/inf-extr-RuZI_Gck-py3.11/lib/python3.11/site-packages/torch/nn/modules/module.py:1511\u001b[0m, in \u001b[0;36mModule._wrapped_call_impl\u001b[0;34m(self, *args, **kwargs)\u001b[0m\n\u001b[1;32m   1509\u001b[0m     \u001b[38;5;28;01mreturn\u001b[39;00m \u001b[38;5;28mself\u001b[39m\u001b[38;5;241m.\u001b[39m_compiled_call_impl(\u001b[38;5;241m*\u001b[39margs, \u001b[38;5;241m*\u001b[39m\u001b[38;5;241m*\u001b[39mkwargs)  \u001b[38;5;66;03m# type: ignore[misc]\u001b[39;00m\n\u001b[1;32m   1510\u001b[0m \u001b[38;5;28;01melse\u001b[39;00m:\n\u001b[0;32m-> 1511\u001b[0m     \u001b[38;5;28;01mreturn\u001b[39;00m \u001b[38;5;28;43mself\u001b[39;49m\u001b[38;5;241;43m.\u001b[39;49m\u001b[43m_call_impl\u001b[49m\u001b[43m(\u001b[49m\u001b[38;5;241;43m*\u001b[39;49m\u001b[43margs\u001b[49m\u001b[43m,\u001b[49m\u001b[43m \u001b[49m\u001b[38;5;241;43m*\u001b[39;49m\u001b[38;5;241;43m*\u001b[39;49m\u001b[43mkwargs\u001b[49m\u001b[43m)\u001b[49m\n",
      "File \u001b[0;32m/cluster/customapps/biomed/grlab/users/eglimar/software/virtualenvs/inf-extr-RuZI_Gck-py3.11/lib/python3.11/site-packages/torch/nn/modules/module.py:1520\u001b[0m, in \u001b[0;36mModule._call_impl\u001b[0;34m(self, *args, **kwargs)\u001b[0m\n\u001b[1;32m   1515\u001b[0m \u001b[38;5;66;03m# If we don't have any hooks, we want to skip the rest of the logic in\u001b[39;00m\n\u001b[1;32m   1516\u001b[0m \u001b[38;5;66;03m# this function, and just call forward.\u001b[39;00m\n\u001b[1;32m   1517\u001b[0m \u001b[38;5;28;01mif\u001b[39;00m \u001b[38;5;129;01mnot\u001b[39;00m (\u001b[38;5;28mself\u001b[39m\u001b[38;5;241m.\u001b[39m_backward_hooks \u001b[38;5;129;01mor\u001b[39;00m \u001b[38;5;28mself\u001b[39m\u001b[38;5;241m.\u001b[39m_backward_pre_hooks \u001b[38;5;129;01mor\u001b[39;00m \u001b[38;5;28mself\u001b[39m\u001b[38;5;241m.\u001b[39m_forward_hooks \u001b[38;5;129;01mor\u001b[39;00m \u001b[38;5;28mself\u001b[39m\u001b[38;5;241m.\u001b[39m_forward_pre_hooks\n\u001b[1;32m   1518\u001b[0m         \u001b[38;5;129;01mor\u001b[39;00m _global_backward_pre_hooks \u001b[38;5;129;01mor\u001b[39;00m _global_backward_hooks\n\u001b[1;32m   1519\u001b[0m         \u001b[38;5;129;01mor\u001b[39;00m _global_forward_hooks \u001b[38;5;129;01mor\u001b[39;00m _global_forward_pre_hooks):\n\u001b[0;32m-> 1520\u001b[0m     \u001b[38;5;28;01mreturn\u001b[39;00m \u001b[43mforward_call\u001b[49m\u001b[43m(\u001b[49m\u001b[38;5;241;43m*\u001b[39;49m\u001b[43margs\u001b[49m\u001b[43m,\u001b[49m\u001b[43m \u001b[49m\u001b[38;5;241;43m*\u001b[39;49m\u001b[38;5;241;43m*\u001b[39;49m\u001b[43mkwargs\u001b[49m\u001b[43m)\u001b[49m\n\u001b[1;32m   1522\u001b[0m \u001b[38;5;28;01mtry\u001b[39;00m:\n\u001b[1;32m   1523\u001b[0m     result \u001b[38;5;241m=\u001b[39m \u001b[38;5;28;01mNone\u001b[39;00m\n",
      "File \u001b[0;32m/cluster/customapps/biomed/grlab/users/eglimar/software/virtualenvs/inf-extr-RuZI_Gck-py3.11/lib/python3.11/site-packages/accelerate/hooks.py:166\u001b[0m, in \u001b[0;36madd_hook_to_module.<locals>.new_forward\u001b[0;34m(module, *args, **kwargs)\u001b[0m\n\u001b[1;32m    164\u001b[0m         output \u001b[38;5;241m=\u001b[39m module\u001b[38;5;241m.\u001b[39m_old_forward(\u001b[38;5;241m*\u001b[39margs, \u001b[38;5;241m*\u001b[39m\u001b[38;5;241m*\u001b[39mkwargs)\n\u001b[1;32m    165\u001b[0m \u001b[38;5;28;01melse\u001b[39;00m:\n\u001b[0;32m--> 166\u001b[0m     output \u001b[38;5;241m=\u001b[39m \u001b[43mmodule\u001b[49m\u001b[38;5;241;43m.\u001b[39;49m\u001b[43m_old_forward\u001b[49m\u001b[43m(\u001b[49m\u001b[38;5;241;43m*\u001b[39;49m\u001b[43margs\u001b[49m\u001b[43m,\u001b[49m\u001b[43m \u001b[49m\u001b[38;5;241;43m*\u001b[39;49m\u001b[38;5;241;43m*\u001b[39;49m\u001b[43mkwargs\u001b[49m\u001b[43m)\u001b[49m\n\u001b[1;32m    167\u001b[0m \u001b[38;5;28;01mreturn\u001b[39;00m module\u001b[38;5;241m.\u001b[39m_hf_hook\u001b[38;5;241m.\u001b[39mpost_forward(module, output)\n",
      "File \u001b[0;32m/cluster/customapps/biomed/grlab/users/eglimar/software/virtualenvs/inf-extr-RuZI_Gck-py3.11/lib/python3.11/site-packages/transformers/models/llama/modeling_llama.py:749\u001b[0m, in \u001b[0;36mLlamaDecoderLayer.forward\u001b[0;34m(self, hidden_states, attention_mask, position_ids, past_key_value, output_attentions, use_cache, cache_position, **kwargs)\u001b[0m\n\u001b[1;32m    747\u001b[0m residual \u001b[38;5;241m=\u001b[39m hidden_states\n\u001b[1;32m    748\u001b[0m hidden_states \u001b[38;5;241m=\u001b[39m \u001b[38;5;28mself\u001b[39m\u001b[38;5;241m.\u001b[39mpost_attention_layernorm(hidden_states)\n\u001b[0;32m--> 749\u001b[0m hidden_states \u001b[38;5;241m=\u001b[39m \u001b[38;5;28;43mself\u001b[39;49m\u001b[38;5;241;43m.\u001b[39;49m\u001b[43mmlp\u001b[49m\u001b[43m(\u001b[49m\u001b[43mhidden_states\u001b[49m\u001b[43m)\u001b[49m\n\u001b[1;32m    750\u001b[0m hidden_states \u001b[38;5;241m=\u001b[39m residual \u001b[38;5;241m+\u001b[39m hidden_states\n\u001b[1;32m    752\u001b[0m outputs \u001b[38;5;241m=\u001b[39m (hidden_states,)\n",
      "File \u001b[0;32m/cluster/customapps/biomed/grlab/users/eglimar/software/virtualenvs/inf-extr-RuZI_Gck-py3.11/lib/python3.11/site-packages/torch/nn/modules/module.py:1511\u001b[0m, in \u001b[0;36mModule._wrapped_call_impl\u001b[0;34m(self, *args, **kwargs)\u001b[0m\n\u001b[1;32m   1509\u001b[0m     \u001b[38;5;28;01mreturn\u001b[39;00m \u001b[38;5;28mself\u001b[39m\u001b[38;5;241m.\u001b[39m_compiled_call_impl(\u001b[38;5;241m*\u001b[39margs, \u001b[38;5;241m*\u001b[39m\u001b[38;5;241m*\u001b[39mkwargs)  \u001b[38;5;66;03m# type: ignore[misc]\u001b[39;00m\n\u001b[1;32m   1510\u001b[0m \u001b[38;5;28;01melse\u001b[39;00m:\n\u001b[0;32m-> 1511\u001b[0m     \u001b[38;5;28;01mreturn\u001b[39;00m \u001b[38;5;28;43mself\u001b[39;49m\u001b[38;5;241;43m.\u001b[39;49m\u001b[43m_call_impl\u001b[49m\u001b[43m(\u001b[49m\u001b[38;5;241;43m*\u001b[39;49m\u001b[43margs\u001b[49m\u001b[43m,\u001b[49m\u001b[43m \u001b[49m\u001b[38;5;241;43m*\u001b[39;49m\u001b[38;5;241;43m*\u001b[39;49m\u001b[43mkwargs\u001b[49m\u001b[43m)\u001b[49m\n",
      "File \u001b[0;32m/cluster/customapps/biomed/grlab/users/eglimar/software/virtualenvs/inf-extr-RuZI_Gck-py3.11/lib/python3.11/site-packages/torch/nn/modules/module.py:1520\u001b[0m, in \u001b[0;36mModule._call_impl\u001b[0;34m(self, *args, **kwargs)\u001b[0m\n\u001b[1;32m   1515\u001b[0m \u001b[38;5;66;03m# If we don't have any hooks, we want to skip the rest of the logic in\u001b[39;00m\n\u001b[1;32m   1516\u001b[0m \u001b[38;5;66;03m# this function, and just call forward.\u001b[39;00m\n\u001b[1;32m   1517\u001b[0m \u001b[38;5;28;01mif\u001b[39;00m \u001b[38;5;129;01mnot\u001b[39;00m (\u001b[38;5;28mself\u001b[39m\u001b[38;5;241m.\u001b[39m_backward_hooks \u001b[38;5;129;01mor\u001b[39;00m \u001b[38;5;28mself\u001b[39m\u001b[38;5;241m.\u001b[39m_backward_pre_hooks \u001b[38;5;129;01mor\u001b[39;00m \u001b[38;5;28mself\u001b[39m\u001b[38;5;241m.\u001b[39m_forward_hooks \u001b[38;5;129;01mor\u001b[39;00m \u001b[38;5;28mself\u001b[39m\u001b[38;5;241m.\u001b[39m_forward_pre_hooks\n\u001b[1;32m   1518\u001b[0m         \u001b[38;5;129;01mor\u001b[39;00m _global_backward_pre_hooks \u001b[38;5;129;01mor\u001b[39;00m _global_backward_hooks\n\u001b[1;32m   1519\u001b[0m         \u001b[38;5;129;01mor\u001b[39;00m _global_forward_hooks \u001b[38;5;129;01mor\u001b[39;00m _global_forward_pre_hooks):\n\u001b[0;32m-> 1520\u001b[0m     \u001b[38;5;28;01mreturn\u001b[39;00m \u001b[43mforward_call\u001b[49m\u001b[43m(\u001b[49m\u001b[38;5;241;43m*\u001b[39;49m\u001b[43margs\u001b[49m\u001b[43m,\u001b[49m\u001b[43m \u001b[49m\u001b[38;5;241;43m*\u001b[39;49m\u001b[38;5;241;43m*\u001b[39;49m\u001b[43mkwargs\u001b[49m\u001b[43m)\u001b[49m\n\u001b[1;32m   1522\u001b[0m \u001b[38;5;28;01mtry\u001b[39;00m:\n\u001b[1;32m   1523\u001b[0m     result \u001b[38;5;241m=\u001b[39m \u001b[38;5;28;01mNone\u001b[39;00m\n",
      "File \u001b[0;32m/cluster/customapps/biomed/grlab/users/eglimar/software/virtualenvs/inf-extr-RuZI_Gck-py3.11/lib/python3.11/site-packages/accelerate/hooks.py:166\u001b[0m, in \u001b[0;36madd_hook_to_module.<locals>.new_forward\u001b[0;34m(module, *args, **kwargs)\u001b[0m\n\u001b[1;32m    164\u001b[0m         output \u001b[38;5;241m=\u001b[39m module\u001b[38;5;241m.\u001b[39m_old_forward(\u001b[38;5;241m*\u001b[39margs, \u001b[38;5;241m*\u001b[39m\u001b[38;5;241m*\u001b[39mkwargs)\n\u001b[1;32m    165\u001b[0m \u001b[38;5;28;01melse\u001b[39;00m:\n\u001b[0;32m--> 166\u001b[0m     output \u001b[38;5;241m=\u001b[39m \u001b[43mmodule\u001b[49m\u001b[38;5;241;43m.\u001b[39;49m\u001b[43m_old_forward\u001b[49m\u001b[43m(\u001b[49m\u001b[38;5;241;43m*\u001b[39;49m\u001b[43margs\u001b[49m\u001b[43m,\u001b[49m\u001b[43m \u001b[49m\u001b[38;5;241;43m*\u001b[39;49m\u001b[38;5;241;43m*\u001b[39;49m\u001b[43mkwargs\u001b[49m\u001b[43m)\u001b[49m\n\u001b[1;32m    167\u001b[0m \u001b[38;5;28;01mreturn\u001b[39;00m module\u001b[38;5;241m.\u001b[39m_hf_hook\u001b[38;5;241m.\u001b[39mpost_forward(module, output)\n",
      "File \u001b[0;32m/cluster/customapps/biomed/grlab/users/eglimar/software/virtualenvs/inf-extr-RuZI_Gck-py3.11/lib/python3.11/site-packages/transformers/models/llama/modeling_llama.py:236\u001b[0m, in \u001b[0;36mLlamaMLP.forward\u001b[0;34m(self, x)\u001b[0m\n\u001b[1;32m    234\u001b[0m     down_proj \u001b[38;5;241m=\u001b[39m \u001b[38;5;28msum\u001b[39m(down_proj)\n\u001b[1;32m    235\u001b[0m \u001b[38;5;28;01melse\u001b[39;00m:\n\u001b[0;32m--> 236\u001b[0m     down_proj \u001b[38;5;241m=\u001b[39m \u001b[38;5;28mself\u001b[39m\u001b[38;5;241m.\u001b[39mdown_proj(\u001b[38;5;28mself\u001b[39m\u001b[38;5;241m.\u001b[39mact_fn(\u001b[38;5;28;43mself\u001b[39;49m\u001b[38;5;241;43m.\u001b[39;49m\u001b[43mgate_proj\u001b[49m\u001b[43m(\u001b[49m\u001b[43mx\u001b[49m\u001b[43m)\u001b[49m) \u001b[38;5;241m*\u001b[39m \u001b[38;5;28mself\u001b[39m\u001b[38;5;241m.\u001b[39mup_proj(x))\n\u001b[1;32m    238\u001b[0m \u001b[38;5;28;01mreturn\u001b[39;00m down_proj\n",
      "File \u001b[0;32m/cluster/customapps/biomed/grlab/users/eglimar/software/virtualenvs/inf-extr-RuZI_Gck-py3.11/lib/python3.11/site-packages/torch/nn/modules/module.py:1511\u001b[0m, in \u001b[0;36mModule._wrapped_call_impl\u001b[0;34m(self, *args, **kwargs)\u001b[0m\n\u001b[1;32m   1509\u001b[0m     \u001b[38;5;28;01mreturn\u001b[39;00m \u001b[38;5;28mself\u001b[39m\u001b[38;5;241m.\u001b[39m_compiled_call_impl(\u001b[38;5;241m*\u001b[39margs, \u001b[38;5;241m*\u001b[39m\u001b[38;5;241m*\u001b[39mkwargs)  \u001b[38;5;66;03m# type: ignore[misc]\u001b[39;00m\n\u001b[1;32m   1510\u001b[0m \u001b[38;5;28;01melse\u001b[39;00m:\n\u001b[0;32m-> 1511\u001b[0m     \u001b[38;5;28;01mreturn\u001b[39;00m \u001b[38;5;28;43mself\u001b[39;49m\u001b[38;5;241;43m.\u001b[39;49m\u001b[43m_call_impl\u001b[49m\u001b[43m(\u001b[49m\u001b[38;5;241;43m*\u001b[39;49m\u001b[43margs\u001b[49m\u001b[43m,\u001b[49m\u001b[43m \u001b[49m\u001b[38;5;241;43m*\u001b[39;49m\u001b[38;5;241;43m*\u001b[39;49m\u001b[43mkwargs\u001b[49m\u001b[43m)\u001b[49m\n",
      "File \u001b[0;32m/cluster/customapps/biomed/grlab/users/eglimar/software/virtualenvs/inf-extr-RuZI_Gck-py3.11/lib/python3.11/site-packages/torch/nn/modules/module.py:1520\u001b[0m, in \u001b[0;36mModule._call_impl\u001b[0;34m(self, *args, **kwargs)\u001b[0m\n\u001b[1;32m   1515\u001b[0m \u001b[38;5;66;03m# If we don't have any hooks, we want to skip the rest of the logic in\u001b[39;00m\n\u001b[1;32m   1516\u001b[0m \u001b[38;5;66;03m# this function, and just call forward.\u001b[39;00m\n\u001b[1;32m   1517\u001b[0m \u001b[38;5;28;01mif\u001b[39;00m \u001b[38;5;129;01mnot\u001b[39;00m (\u001b[38;5;28mself\u001b[39m\u001b[38;5;241m.\u001b[39m_backward_hooks \u001b[38;5;129;01mor\u001b[39;00m \u001b[38;5;28mself\u001b[39m\u001b[38;5;241m.\u001b[39m_backward_pre_hooks \u001b[38;5;129;01mor\u001b[39;00m \u001b[38;5;28mself\u001b[39m\u001b[38;5;241m.\u001b[39m_forward_hooks \u001b[38;5;129;01mor\u001b[39;00m \u001b[38;5;28mself\u001b[39m\u001b[38;5;241m.\u001b[39m_forward_pre_hooks\n\u001b[1;32m   1518\u001b[0m         \u001b[38;5;129;01mor\u001b[39;00m _global_backward_pre_hooks \u001b[38;5;129;01mor\u001b[39;00m _global_backward_hooks\n\u001b[1;32m   1519\u001b[0m         \u001b[38;5;129;01mor\u001b[39;00m _global_forward_hooks \u001b[38;5;129;01mor\u001b[39;00m _global_forward_pre_hooks):\n\u001b[0;32m-> 1520\u001b[0m     \u001b[38;5;28;01mreturn\u001b[39;00m \u001b[43mforward_call\u001b[49m\u001b[43m(\u001b[49m\u001b[38;5;241;43m*\u001b[39;49m\u001b[43margs\u001b[49m\u001b[43m,\u001b[49m\u001b[43m \u001b[49m\u001b[38;5;241;43m*\u001b[39;49m\u001b[38;5;241;43m*\u001b[39;49m\u001b[43mkwargs\u001b[49m\u001b[43m)\u001b[49m\n\u001b[1;32m   1522\u001b[0m \u001b[38;5;28;01mtry\u001b[39;00m:\n\u001b[1;32m   1523\u001b[0m     result \u001b[38;5;241m=\u001b[39m \u001b[38;5;28;01mNone\u001b[39;00m\n",
      "File \u001b[0;32m/cluster/customapps/biomed/grlab/users/eglimar/software/virtualenvs/inf-extr-RuZI_Gck-py3.11/lib/python3.11/site-packages/accelerate/hooks.py:166\u001b[0m, in \u001b[0;36madd_hook_to_module.<locals>.new_forward\u001b[0;34m(module, *args, **kwargs)\u001b[0m\n\u001b[1;32m    164\u001b[0m         output \u001b[38;5;241m=\u001b[39m module\u001b[38;5;241m.\u001b[39m_old_forward(\u001b[38;5;241m*\u001b[39margs, \u001b[38;5;241m*\u001b[39m\u001b[38;5;241m*\u001b[39mkwargs)\n\u001b[1;32m    165\u001b[0m \u001b[38;5;28;01melse\u001b[39;00m:\n\u001b[0;32m--> 166\u001b[0m     output \u001b[38;5;241m=\u001b[39m \u001b[43mmodule\u001b[49m\u001b[38;5;241;43m.\u001b[39;49m\u001b[43m_old_forward\u001b[49m\u001b[43m(\u001b[49m\u001b[38;5;241;43m*\u001b[39;49m\u001b[43margs\u001b[49m\u001b[43m,\u001b[49m\u001b[43m \u001b[49m\u001b[38;5;241;43m*\u001b[39;49m\u001b[38;5;241;43m*\u001b[39;49m\u001b[43mkwargs\u001b[49m\u001b[43m)\u001b[49m\n\u001b[1;32m    167\u001b[0m \u001b[38;5;28;01mreturn\u001b[39;00m module\u001b[38;5;241m.\u001b[39m_hf_hook\u001b[38;5;241m.\u001b[39mpost_forward(module, output)\n",
      "File \u001b[0;32m/cluster/customapps/biomed/grlab/users/eglimar/software/virtualenvs/inf-extr-RuZI_Gck-py3.11/lib/python3.11/site-packages/bitsandbytes/nn/modules.py:256\u001b[0m, in \u001b[0;36mLinear4bit.forward\u001b[0;34m(self, x)\u001b[0m\n\u001b[1;32m    253\u001b[0m     x \u001b[38;5;241m=\u001b[39m x\u001b[38;5;241m.\u001b[39mto(\u001b[38;5;28mself\u001b[39m\u001b[38;5;241m.\u001b[39mcompute_dtype)\n\u001b[1;32m    255\u001b[0m bias \u001b[38;5;241m=\u001b[39m \u001b[38;5;28;01mNone\u001b[39;00m \u001b[38;5;28;01mif\u001b[39;00m \u001b[38;5;28mself\u001b[39m\u001b[38;5;241m.\u001b[39mbias \u001b[38;5;129;01mis\u001b[39;00m \u001b[38;5;28;01mNone\u001b[39;00m \u001b[38;5;28;01melse\u001b[39;00m \u001b[38;5;28mself\u001b[39m\u001b[38;5;241m.\u001b[39mbias\u001b[38;5;241m.\u001b[39mto(\u001b[38;5;28mself\u001b[39m\u001b[38;5;241m.\u001b[39mcompute_dtype)\n\u001b[0;32m--> 256\u001b[0m out \u001b[38;5;241m=\u001b[39m \u001b[43mbnb\u001b[49m\u001b[38;5;241;43m.\u001b[39;49m\u001b[43mmatmul_4bit\u001b[49m\u001b[43m(\u001b[49m\u001b[43mx\u001b[49m\u001b[43m,\u001b[49m\u001b[43m \u001b[49m\u001b[38;5;28;43mself\u001b[39;49m\u001b[38;5;241;43m.\u001b[39;49m\u001b[43mweight\u001b[49m\u001b[38;5;241;43m.\u001b[39;49m\u001b[43mt\u001b[49m\u001b[43m(\u001b[49m\u001b[43m)\u001b[49m\u001b[43m,\u001b[49m\u001b[43m \u001b[49m\u001b[43mbias\u001b[49m\u001b[38;5;241;43m=\u001b[39;49m\u001b[43mbias\u001b[49m\u001b[43m,\u001b[49m\u001b[43m \u001b[49m\u001b[43mquant_state\u001b[49m\u001b[38;5;241;43m=\u001b[39;49m\u001b[38;5;28;43mself\u001b[39;49m\u001b[38;5;241;43m.\u001b[39;49m\u001b[43mweight\u001b[49m\u001b[38;5;241;43m.\u001b[39;49m\u001b[43mquant_state\u001b[49m\u001b[43m)\u001b[49m\n\u001b[1;32m    258\u001b[0m out \u001b[38;5;241m=\u001b[39m out\u001b[38;5;241m.\u001b[39mto(inp_dtype)\n\u001b[1;32m    260\u001b[0m \u001b[38;5;28;01mreturn\u001b[39;00m out\n",
      "File \u001b[0;32m/cluster/customapps/biomed/grlab/users/eglimar/software/virtualenvs/inf-extr-RuZI_Gck-py3.11/lib/python3.11/site-packages/bitsandbytes/autograd/_functions.py:577\u001b[0m, in \u001b[0;36mmatmul_4bit\u001b[0;34m(A, B, quant_state, out, bias)\u001b[0m\n\u001b[1;32m    575\u001b[0m         \u001b[38;5;28;01mreturn\u001b[39;00m out\n\u001b[1;32m    576\u001b[0m \u001b[38;5;28;01melse\u001b[39;00m:\n\u001b[0;32m--> 577\u001b[0m     \u001b[38;5;28;01mreturn\u001b[39;00m \u001b[43mMatMul4Bit\u001b[49m\u001b[38;5;241;43m.\u001b[39;49m\u001b[43mapply\u001b[49m\u001b[43m(\u001b[49m\u001b[43mA\u001b[49m\u001b[43m,\u001b[49m\u001b[43m \u001b[49m\u001b[43mB\u001b[49m\u001b[43m,\u001b[49m\u001b[43m \u001b[49m\u001b[43mout\u001b[49m\u001b[43m,\u001b[49m\u001b[43m \u001b[49m\u001b[43mbias\u001b[49m\u001b[43m,\u001b[49m\u001b[43m \u001b[49m\u001b[43mquant_state\u001b[49m\u001b[43m)\u001b[49m\n",
      "File \u001b[0;32m/cluster/customapps/biomed/grlab/users/eglimar/software/virtualenvs/inf-extr-RuZI_Gck-py3.11/lib/python3.11/site-packages/torch/autograd/function.py:553\u001b[0m, in \u001b[0;36mFunction.apply\u001b[0;34m(cls, *args, **kwargs)\u001b[0m\n\u001b[1;32m    550\u001b[0m \u001b[38;5;28;01mif\u001b[39;00m \u001b[38;5;129;01mnot\u001b[39;00m torch\u001b[38;5;241m.\u001b[39m_C\u001b[38;5;241m.\u001b[39m_are_functorch_transforms_active():\n\u001b[1;32m    551\u001b[0m     \u001b[38;5;66;03m# See NOTE: [functorch vjp and autograd interaction]\u001b[39;00m\n\u001b[1;32m    552\u001b[0m     args \u001b[38;5;241m=\u001b[39m _functorch\u001b[38;5;241m.\u001b[39mutils\u001b[38;5;241m.\u001b[39munwrap_dead_wrappers(args)\n\u001b[0;32m--> 553\u001b[0m     \u001b[38;5;28;01mreturn\u001b[39;00m \u001b[38;5;28;43msuper\u001b[39;49m\u001b[43m(\u001b[49m\u001b[43m)\u001b[49m\u001b[38;5;241;43m.\u001b[39;49m\u001b[43mapply\u001b[49m\u001b[43m(\u001b[49m\u001b[38;5;241;43m*\u001b[39;49m\u001b[43margs\u001b[49m\u001b[43m,\u001b[49m\u001b[43m \u001b[49m\u001b[38;5;241;43m*\u001b[39;49m\u001b[38;5;241;43m*\u001b[39;49m\u001b[43mkwargs\u001b[49m\u001b[43m)\u001b[49m  \u001b[38;5;66;03m# type: ignore[misc]\u001b[39;00m\n\u001b[1;32m    555\u001b[0m \u001b[38;5;28;01mif\u001b[39;00m \u001b[38;5;129;01mnot\u001b[39;00m is_setup_ctx_defined:\n\u001b[1;32m    556\u001b[0m     \u001b[38;5;28;01mraise\u001b[39;00m \u001b[38;5;167;01mRuntimeError\u001b[39;00m(\n\u001b[1;32m    557\u001b[0m         \u001b[38;5;124m\"\u001b[39m\u001b[38;5;124mIn order to use an autograd.Function with functorch transforms \u001b[39m\u001b[38;5;124m\"\u001b[39m\n\u001b[1;32m    558\u001b[0m         \u001b[38;5;124m\"\u001b[39m\u001b[38;5;124m(vmap, grad, jvp, jacrev, ...), it must override the setup_context \u001b[39m\u001b[38;5;124m\"\u001b[39m\n\u001b[1;32m    559\u001b[0m         \u001b[38;5;124m\"\u001b[39m\u001b[38;5;124mstaticmethod. For more details, please see \u001b[39m\u001b[38;5;124m\"\u001b[39m\n\u001b[1;32m    560\u001b[0m         \u001b[38;5;124m\"\u001b[39m\u001b[38;5;124mhttps://pytorch.org/docs/master/notes/extending.func.html\u001b[39m\u001b[38;5;124m\"\u001b[39m\n\u001b[1;32m    561\u001b[0m     )\n",
      "File \u001b[0;32m/cluster/customapps/biomed/grlab/users/eglimar/software/virtualenvs/inf-extr-RuZI_Gck-py3.11/lib/python3.11/site-packages/bitsandbytes/autograd/_functions.py:516\u001b[0m, in \u001b[0;36mMatMul4Bit.forward\u001b[0;34m(ctx, A, B, out, bias, quant_state)\u001b[0m\n\u001b[1;32m    511\u001b[0m         \u001b[38;5;28;01mreturn\u001b[39;00m torch\u001b[38;5;241m.\u001b[39mempty(A\u001b[38;5;241m.\u001b[39mshape[:\u001b[38;5;241m-\u001b[39m\u001b[38;5;241m1\u001b[39m] \u001b[38;5;241m+\u001b[39m B_shape[:\u001b[38;5;241m1\u001b[39m], dtype\u001b[38;5;241m=\u001b[39mA\u001b[38;5;241m.\u001b[39mdtype, device\u001b[38;5;241m=\u001b[39mA\u001b[38;5;241m.\u001b[39mdevice)\n\u001b[1;32m    514\u001b[0m \u001b[38;5;66;03m# 1. Dequantize\u001b[39;00m\n\u001b[1;32m    515\u001b[0m \u001b[38;5;66;03m# 2. MatmulnN\u001b[39;00m\n\u001b[0;32m--> 516\u001b[0m output \u001b[38;5;241m=\u001b[39m torch\u001b[38;5;241m.\u001b[39mnn\u001b[38;5;241m.\u001b[39mfunctional\u001b[38;5;241m.\u001b[39mlinear(A, \u001b[43mF\u001b[49m\u001b[38;5;241;43m.\u001b[39;49m\u001b[43mdequantize_4bit\u001b[49m\u001b[43m(\u001b[49m\u001b[43mB\u001b[49m\u001b[43m,\u001b[49m\u001b[43m \u001b[49m\u001b[43mquant_state\u001b[49m\u001b[43m)\u001b[49m\u001b[38;5;241;43m.\u001b[39;49m\u001b[43mto\u001b[49m\u001b[43m(\u001b[49m\u001b[43mA\u001b[49m\u001b[38;5;241;43m.\u001b[39;49m\u001b[43mdtype\u001b[49m\u001b[43m)\u001b[49m\u001b[38;5;241m.\u001b[39mt(), bias)\n\u001b[1;32m    518\u001b[0m \u001b[38;5;66;03m# 3. Save state\u001b[39;00m\n\u001b[1;32m    519\u001b[0m ctx\u001b[38;5;241m.\u001b[39mstate \u001b[38;5;241m=\u001b[39m quant_state\n",
      "\u001b[0;31mKeyboardInterrupt\u001b[0m: "
     ]
    }
   ],
   "source": [
    "for token in generator.stream(test_input, max_tokens = 200):\n",
    "    print(token, end = \"\")"
   ]
  },
  {
   "cell_type": "code",
   "execution_count": 12,
   "metadata": {},
   "outputs": [],
   "source": [
    "import torch\n",
    "torch.save(result, paths.RESULTS_PATH/\"medication/testing.pt\")"
   ]
  },
  {
   "cell_type": "code",
   "execution_count": 14,
   "metadata": {},
   "outputs": [],
   "source": [
    "test_res = torch.load(paths.RESULTS_PATH/\"medication/testing.pt\")"
   ]
  },
  {
   "cell_type": "code",
   "execution_count": 18,
   "metadata": {},
   "outputs": [
    {
     "data": {
      "text/plain": [
       "['{\"medications\":[{\"name\":\"Novalgin\",\"unit\":\"mg\",\"amount\":500.0,\"morning\":0.0,\"noon\":0.0,\"evening\":0.0,\"night\":0.0}]}',\n",
       " '{\"medications\":[{\"name\":\"Cetallerg\",\"unit\":\"mg\",\"amount\":10.0,\"morning\":0.5,\"noon\":0.0,\"evening\":0.0,\"night\":0.0}]}',\n",
       " '{\"medications\":[{\"name\":\"Magnesium Diasporal\",\"unit\":\"mg\",\"amount\":300.0,\"morning\":0.0,\"noon\":0.0,\"evening\":0.0,\"night\":0.0}]}']"
      ]
     },
     "execution_count": 18,
     "metadata": {},
     "output_type": "execute_result"
    }
   ],
   "source": [
    "[res.json() for res in test_res]"
   ]
  },
  {
   "cell_type": "code",
   "execution_count": 121,
   "metadata": {},
   "outputs": [],
   "source": [
    "def medication_prompting_to(text: list[str], generator: SequenceGenerator, default_model:Type[BaseModel], batch_size: int = 1, wait_time:int = 120)-> list[Union[str, BaseModel]]:\n",
    "    \"\"\"\n",
    "    Generates a list of sequences using the given outlines generator and sampler. Function has built in time-out function, as the generation is prone\n",
    "    to hang with a complicated schema.\n",
    "\n",
    "    Args:\n",
    "        text (list[str]): list of strings to be used as prompts\n",
    "        generator (outlines.SequenceGenerator): outlines generator\n",
    "        default_model (Type[BaseModel]): default pydantic model to return if the generation times out\n",
    "        batch_size (int, optional): batch size. Defaults to 1.\n",
    "        wait_time (int, optional): wait time. Defaults to 120.\n",
    "\n",
    "    Returns:\n",
    "        list[Union[str, pydantic.BaseModel]]: list of generated sequences\n",
    "    \"\"\"\n",
    "\n",
    "    dataloader = DataLoader(text, batch_size = batch_size, shuffle = False)\n",
    "\n",
    "    results = []\n",
    "    successful = []\n",
    "\n",
    "    # Save intermediate results\n",
    "    filename = \"intermediate_results\" + str(time.time()) + \".pt\"\n",
    "\n",
    "    def timeout_handler(signum, frame):\n",
    "        raise TimeoutError(\"Timed out\")\n",
    "    \n",
    "    signal.signal(signal.SIGALRM, timeout_handler)\n",
    "\n",
    "    bar_prompt = tqdm(dataloader, desc=\"Prompting\", leave=False)\n",
    "\n",
    "    for batch in bar_prompt:\n",
    "        try:\n",
    "            signal.alarm(wait_time)  # Set the timeout\n",
    "            result = generator(batch)\n",
    "            if batch_size == 1:\n",
    "                result = \n",
    "            results.extend(result)\n",
    "            successful.extend([True] * len(batch))\n",
    "        \n",
    "        except TimeoutError:\n",
    "            print(\"Timed out at observation number\", len(results))\n",
    "            successful.extend([False] * len(batch))\n",
    "            results.extend([default_model for _ in range(len(batch))])\n",
    "\n",
    "        # except TimeoutError:\n",
    "        #     print(\"Timed out, trying stream_input\")\n",
    "        #     bar_stream = tqdm(batch, desc=\"Stream input\", leave=False)\n",
    "        #     for text in bar_stream:\n",
    "        #         _res = stream_input(text, generator)\n",
    "        #         try: \n",
    "        #             _res = schema.model_validate_json(_res)\n",
    "        #             successful.append(True)\n",
    "        #         except:\n",
    "        #             successful.append(False)\n",
    "        #         results.append(_res)\n",
    "        finally:\n",
    "            signal.alarm(0)\n",
    "        print(results)\n",
    "        print(type(results))\n",
    "        print(len(results))\n",
    "        # if batch_size == 1:\n",
    "        #     # Using this because generator returns tuples with the first item being the keys of the highest pedantic schema, the second being the value\n",
    "        #     results_unpacked = [res[1] for res in results]\n",
    "        # results_json = [res.json() for res in results_unpacked]\n",
    "        # results_json += [{\"successful\": s} for s in successful]\n",
    "        # os.makedirs(paths.RESULTS_PATH/\"intermediate\", exist_ok=True)\n",
    "        # torch.save(results_json, paths.RESULTS_PATH/\"intermediate\"/filename)\n",
    "        # print(f\"Saved intermediate results to {paths.RESULTS_PATH/'intermediate'}/{filename}\")\n",
    "    return results, successful"
   ]
  },
  {
   "cell_type": "code",
   "execution_count": 125,
   "metadata": {},
   "outputs": [
    {
     "name": "stderr",
     "output_type": "stream",
     "text": [
      "                                                        "
     ]
    },
    {
     "name": "stdout",
     "output_type": "stream",
     "text": [
      "[MedicationList(medications=[Medication(name='Novalgin', unit=<MedicationUnit.mg: 'mg'>, amount=500.0, morning=1.0, noon=0.0, evening=0.0, night=0.0)]), MedicationList(medications=[Medication(name='Cetallerg', unit=<MedicationUnit.mg: 'mg'>, amount=10.0, morning=1.0, noon=0.0, evening=0.0, night=0.0)])]\n",
      "<class 'list'>\n",
      "2\n"
     ]
    },
    {
     "name": "stderr",
     "output_type": "stream",
     "text": [
      "\r"
     ]
    }
   ],
   "source": [
    "results2, successful2 = outlines_prompting_to(text = test_input, generator = generator, default_model = default_model, batch_size = 2, wait_time = 180) "
   ]
  },
  {
   "cell_type": "code",
   "execution_count": 124,
   "metadata": {},
   "outputs": [
    {
     "data": {
      "text/plain": [
       "[('medications',\n",
       "  [Medication(name='Novalgin', unit=<MedicationUnit.mg: 'mg'>, amount=500.0, morning=1.0, noon=0.0, evening=0.0, night=0.0)]),\n",
       " ('medications',\n",
       "  [Medication(name='Cetallerg', unit=<MedicationUnit.mg: 'mg'>, amount=10.0, morning=1.0, noon=0.0, evening=0.0, night=0.0)])]"
      ]
     },
     "execution_count": 124,
     "metadata": {},
     "output_type": "execute_result"
    }
   ],
   "source": [
    "results"
   ]
  },
  {
   "cell_type": "code",
   "execution_count": 126,
   "metadata": {},
   "outputs": [
    {
     "data": {
      "text/plain": [
       "[MedicationList(medications=[Medication(name='Novalgin', unit=<MedicationUnit.mg: 'mg'>, amount=500.0, morning=1.0, noon=0.0, evening=0.0, night=0.0)]),\n",
       " MedicationList(medications=[Medication(name='Cetallerg', unit=<MedicationUnit.mg: 'mg'>, amount=10.0, morning=1.0, noon=0.0, evening=0.0, night=0.0)])]"
      ]
     },
     "execution_count": 126,
     "metadata": {},
     "output_type": "execute_result"
    }
   ],
   "source": [
    "results2"
   ]
  },
  {
   "cell_type": "code",
   "execution_count": 153,
   "metadata": {},
   "outputs": [
    {
     "data": {
      "text/plain": [
       "src.utils.Medication"
      ]
     },
     "execution_count": 153,
     "metadata": {},
     "output_type": "execute_result"
    }
   ],
   "source": [
    "type(results[0][1][0])"
   ]
  },
  {
   "cell_type": "code",
   "execution_count": 145,
   "metadata": {},
   "outputs": [
    {
     "data": {
      "text/plain": [
       "MedicationList(medications=[Medication(name='Novalgin', unit=<MedicationUnit.mg: 'mg'>, amount=500.0, morning=1.0, noon=0.0, evening=0.0, night=0.0)])"
      ]
     },
     "execution_count": 145,
     "metadata": {},
     "output_type": "execute_result"
    }
   ],
   "source": [
    "# medication\n",
    "\n",
    "MedicationList(medications = results[0][1])"
   ]
  },
  {
   "cell_type": "code",
   "execution_count": 123,
   "metadata": {},
   "outputs": [
    {
     "data": {
      "text/plain": [
       "'{\"name\":\"unknown\",\"unit\":\"unknown\",\"amount\":-99.0,\"morning\":-99.0,\"noon\":-99.0,\"evening\":-99.0,\"night\":-99.0}'"
      ]
     },
     "execution_count": 123,
     "metadata": {},
     "output_type": "execute_result"
    }
   ],
   "source": [
    "default_model.json()"
   ]
  },
  {
   "cell_type": "code",
   "execution_count": 117,
   "metadata": {},
   "outputs": [
    {
     "data": {
      "text/plain": [
       "Medication(name='unknown', unit=<MedicationUnit.unknown: 'unknown'>, amount=-99.0, morning=-99.0, noon=-99.0, evening=-99.0, night=-99.0)"
      ]
     },
     "execution_count": 117,
     "metadata": {},
     "output_type": "execute_result"
    }
   ],
   "source": [
    "default_schema"
   ]
  },
  {
   "cell_type": "code",
   "execution_count": 72,
   "metadata": {},
   "outputs": [
    {
     "data": {
      "text/plain": [
       "['{\"medications\":[{\"name\":\"unknown\",\"unit\":\"unknown\",\"amount\":-99.0,\"morning\":-99.0,\"noon\":-99.0,\"evening\":-99.0,\"night\":-99.0}]}',\n",
       " {'successful': False}]"
      ]
     },
     "execution_count": 72,
     "metadata": {},
     "output_type": "execute_result"
    }
   ],
   "source": [
    "torch.load(paths.RESULTS_PATH/\"intermediate/intermediate_results1710344797.0171728.pt\")"
   ]
  },
  {
   "cell_type": "code",
   "execution_count": 46,
   "metadata": {},
   "outputs": [],
   "source": [
    "filename = \"medication_test\"\n",
    "results_dump = [res.json() for res in results]\n",
    "torch.save(results_dump, paths.RESULTS_PATH/\"medication\"/f\"{filename}.pt\")"
   ]
  },
  {
   "cell_type": "code",
   "execution_count": 45,
   "metadata": {},
   "outputs": [
    {
     "data": {
      "text/plain": [
       "['{\"medications\":[{\"name\":\"Vi-De\",\"unit\":\"tropfen\",\"amount\":4500.0,\"morning\":0.0,\"noon\":0.0,\"evening\":0.0,\"night\":0.0}]}']"
      ]
     },
     "execution_count": 45,
     "metadata": {},
     "output_type": "execute_result"
    }
   ],
   "source": [
    "results_dump"
   ]
  },
  {
   "cell_type": "code",
   "execution_count": 63,
   "metadata": {},
   "outputs": [
    {
     "name": "stdout",
     "output_type": "stream",
     "text": [
      "[INST]<<SYS>>You are a helpful, respectful and honest assistant. Always answer as helpfully as possible, while being safe.\n",
      "Your answers should not include any harmful, unethical, racist, sexist, toxic, dangerous, or illegal content.\n",
      "Please ensure that your responses are socially unbiased and positive in nature.\n",
      "If a question does not makeany sense, or is not factually coherent, explain why instead of answering something not correct. \n",
      "If you don’t know the answer to a question, please don’t share false information.\n",
      "<</SYS>>\n",
      "\n",
      "### Instruction:\n",
      "Your task is to extract specific information from medication descriptions. \n",
      "The input for this task is a list of medication descriptions, a report or doctors recipe, and the output should be a complete list of dictionaries (one per medication) with the following keys:\n",
      "- name (str): The name of the medication.\n",
      "- dose (float): The dose of the medication.\n",
      "- unit (str): The unit of the dose (mg, ug, g, stk).\n",
      "- morning (float): The dose to be taken in the morning.\n",
      "- noon (float): The dose to be taken at noon.\n",
      "- evening (float): The dose to be taken in the evening.\n",
      "- night (float): The dose to be taken at night.\n",
      "\n",
      "The output format should look like this:\n",
      "[\n",
      "    {name: \"MedicationName1\", dose: MedicationDose1, unit: \"MedicationDoseUnit1\", morning: MorningDose1, noon: NoonDose1, evening: EveningDose1, night: NightDose1},\n",
      "    {name: \"MedicationName2\", dose: MedicationDose2, unit: \"MedicationDoseUnit2\", morning: MorningDose2, noon: NoonDose2, evening: EveningDose2, night: NightDose2},\n",
      "    ...\n",
      "]\n",
      "\n",
      "- The MedicationName can consist of multiple words with whitespace and should be returned as a single string. If you don't find any mentions of medications or drugs, it should be represented as \"unknown\".\n",
      "- The MedicationDose should be in one of the following formats: mg, ug, g, stk, ml, tropfen, unknown. If the MedicationDose is not detected, it should be represented as \"unknown\".\n",
      "- The MedicationDoseUnit is a float value. If the MedicationDoseUnit is not detected, it should be represented as -99.\n",
      "- The intake doses over the day can be given in several ways:\n",
      "    - If the amount of doses is given in the form of float-float-float, it corresponds to MorningDose-NoonDose-EveningDose with NightDose being 0.\n",
      "    - If the amount of doses is given in the form float-float-float-float, it corresponds to MorningDose-NoonDose-EveningDose-NightDose.\n",
      "    - If the amount of doses is given in the form of a set number of intakes per day, you can put all doses for the MorningDose.\n",
      "    - If an intake schema like the ones above is not detected, all doses should be represented as -99.\n",
      "\n",
      "Here is an example to help you understand the task:\n",
      "Input:\n",
      "1 OP Cipralex 20 mg 0.5-0-0 für 4 Tag\n",
      " 3 OP Propranolol 35g 3-0-1-0\n",
      "Output:\n",
      "[{name: \"Cipralex\", unit: \"mg\", amount: 20, morning: 0.5, noon: 0, evening: 0, night: 0}, {name: \"Propranolol\", unit: \"g\", amount: 35, morning: 3, noon: 0, evening: 1, night: 1}]\n",
      "Input:\n",
      "Blutdruckmessgerät über einen Zeitraum von 3 Wochen\n",
      "Output:\n",
      "[{name: \"Blutdruckmessgerät\", unit: \"unknown\", amount: 1, morning: -99, noon: -99, evening: -99, night: -99}]\n",
      "Input:\n",
      "Rezept für Propranolol, einmal täglich, 0.5mg\n",
      "Output:\n",
      "[{name: \"Propranolol\", unit: \"mg\", amount: 0.5, morning: 1, noon: 0, evening: 0, night: 0}]\n",
      "\n",
      "Please provide your answer for the following Input.\n",
      "\n",
      "### Input:\n",
      "1 OP Propanolol 20 mg 1-0-1\n",
      "2 OP Medrol 32 mg 1-0-0\n",
      "1 OP Calcimagon D3 forte 1-0-0\n",
      "\n",
      "### Output:\n",
      "[/INST]\n"
     ]
    }
   ],
   "source": [
    "test = df[\"text\"][1]\n",
    "test_few_shot = format_prompt([test], few_shot_instruction, system_prompt = system_prompt, task_instruction=task_instruction, examples = examples)\n",
    "print(test_few_shot[0])"
   ]
  },
  {
   "cell_type": "code",
   "execution_count": 64,
   "metadata": {
    "scrolled": true
   },
   "outputs": [
    {
     "name": "stdout",
     "output_type": "stream",
     "text": [
      "1 OP Propanolol 20 mg 1-0-1\n",
      "2 OP Medrol 32 mg 1-0-0\n",
      "1 OP Calcimagon D3 forte 1-0-0\n",
      "{\n",
      "\"medications\": [\n",
      "{\n",
      "\"name\": \"Propanolol\",\n",
      "\"unit\": \"mg\",\n",
      "\"amount\": 20,\n",
      "\"morning\": 1,\n",
      "\"noon\": 0,\n",
      "\"evening\": 1,\n",
      "\"night\": 0\n",
      "},\n",
      "{\n",
      "\"name\": \"Medrol\",\n",
      "\"unit\": \"mg\",\n",
      "\"amount\": 32,\n",
      "\"morning\": 1,\n",
      "\"noon\": 0,\n",
      "\"evening\": 0,\n",
      "\"night\": 0\n",
      "},\n",
      "{\n",
      "\"name\": \"Calcimagon D3 forte\",\n",
      "\"unit\": \"mg\",\n",
      "\"amount\": 1,\n",
      "\"morning\": 0,\n",
      "\"noon\": 0,\n",
      "\"evening\": 0,\n",
      "\"night\": 0\n",
      "}\n",
      "]\n",
      "}"
     ]
    }
   ],
   "source": [
    "print(test)\n",
    "for token in generator.stream(test_few_shot):\n",
    "    print(token, end =\"\")"
   ]
  },
  {
   "cell_type": "code",
   "execution_count": 65,
   "metadata": {},
   "outputs": [
    {
     "name": "stdout",
     "output_type": "stream",
     "text": [
      "1 OP Propanolol 20 mg 1-0-1\n",
      "2 OP Medrol 32 mg 1-0-0\n",
      "1 OP Calcimagon D3 forte 1-0-0\n",
      "{\n",
      "\"medications\": [\n",
      "{\n",
      "\"name\": \"Propanolol\",\n",
      "\"unit\": \"mg\",\n",
      "\"amount\": 20,\n",
      "\"morning\": 1,\n",
      "\"noon\": 1,\n",
      "\"evening\": 1,\n",
      "\"night\": 1\n",
      "},\n",
      "{\n",
      "\"name\": \"Medrol\",\n",
      "\"unit\": \"mg\",\n",
      "\"amount\": 32,\n",
      "\"morning\": 1,\n",
      "\"noon\": 1,\n",
      "\"evening\": 1,\n",
      "\"night\": 1\n",
      "},\n",
      "{\n",
      "\"name\": \"Calcimagon D3 forte\",\n",
      "\"unit\": \"ml\",\n",
      "\"amount\": 1,\n",
      "\"morning\": 1,\n",
      "\"noon\": 1,\n",
      "\"evening\": 1,\n",
      "\"night\": 1\n",
      "}\n",
      "]\n",
      "}"
     ]
    }
   ],
   "source": [
    "test_instruct= format_prompt([test], zero_shot_instruction, system_prompt = system_prompt, task_instruction=task_instruction, examples = examples)\n",
    "print(test)\n",
    "for token in generator.stream(test_instruct):\n",
    "    print(token, end =\"\")"
   ]
  },
  {
   "cell_type": "code",
   "execution_count": 66,
   "metadata": {},
   "outputs": [
    {
     "name": "stdout",
     "output_type": "stream",
     "text": [
      "Gültig für 12 Monate\n",
      "Gilenya\n",
      "Fingolimod.\n",
      "\n",
      "Eine Kapsel mit 0,5 mg einmal täglich oral\n",
      "\n",
      "für Herr Holenstein Daniel\n",
      "Geboren 14.01.1965\n",
      "Weltiweg 4\n",
      "CH-5330 Bad Zurzach\n",
      "\n",
      "Krankenkasse: Die Eidgenössische Gesundheitskasse\n",
      "Vers.-nummer: 2194915\n",
      "{\n",
      "\"medications\" : [\n",
      "{\n",
      "\"name\" : \"Gilenya\",\n",
      "\"unit\" : \"mg\",\n",
      "\"amount\" : 0.5,\n",
      "\"morning\" : 1,\n",
      "\"noon\" : 0,\n",
      "\"evening\" : 0,\n",
      "\"night\" : 0\n",
      "},\n",
      "{\n",
      "\"name\" : \"Fingolimod\",\n",
      "\"unit\" : \"mg\",\n",
      "\"amount\" : 0.5,\n",
      "\"morning\" : 1,\n",
      "\"noon\" : 0,\n",
      "\"evening\" : 0,\n",
      "\"night\" : 0\n",
      "}\n",
      "]\n",
      "}"
     ]
    }
   ],
   "source": [
    "test1 = df[\"text\"][38]\n",
    "test1_few_shot = format_prompt([test1], few_shot_instruction, system_prompt = system_prompt, task_instruction=task_instruction, examples = examples)\n",
    "print(test1)\n",
    "for token in generator.stream(test1_few_shot):\n",
    "    print(token, end =\"\")"
   ]
  },
  {
   "cell_type": "code",
   "execution_count": 67,
   "metadata": {},
   "outputs": [
    {
     "name": "stdout",
     "output_type": "stream",
     "text": [
      "Gültig für 12 Monate\n",
      "Gilenya\n",
      "Fingolimod.\n",
      "\n",
      "Eine Kapsel mit 0,5 mg einmal täglich oral\n",
      "\n",
      "für Herr Holenstein Daniel\n",
      "Geboren 14.01.1965\n",
      "Weltiweg 4\n",
      "CH-5330 Bad Zurzach\n",
      "\n",
      "Krankenkasse: Die Eidgenössische Gesundheitskasse\n",
      "Vers.-nummer: 2194915\n",
      "{\n",
      "\"medications\" : [\n",
      "{\n",
      "\"name\" : \"Gilenya\",\n",
      "\"unit\" : \"tropfen\",\n",
      "\"amount\" : 0.5\n",
      ",\"morning\" : 0,\n",
      "\"noon\" : 0,\n",
      "\"evening\" : 0,\n",
      "\"night\" : 0\n",
      "}, \n",
      "{\n",
      "\"name\" : \"Fingolimod.\",\n",
      "\"unit\" : \"tropfen\",\n",
      "\"amount\" : 0.5\n",
      ",\"morning\" : 0,\n",
      "\"noon\" : 0,\n",
      "\"evening\" : 0,\n",
      "\"night\" : 0\n",
      "}\n",
      "]\n",
      "}"
     ]
    }
   ],
   "source": [
    "test1_instruct = format_prompt([test1], zero_shot_instruction, system_prompt = system_prompt, task_instruction=task_instruction, examples = examples)\n",
    "print(test1)\n",
    "for token in generator.stream(test1_instruct):\n",
    "    print(token, end =\"\")"
   ]
  },
  {
   "cell_type": "code",
   "execution_count": 68,
   "metadata": {},
   "outputs": [
    {
     "name": "stdout",
     "output_type": "stream",
     "text": [
      "Fussorthese\n",
      "{ \"medications\": [\n",
      "{ \"name\": \"Fussorthese\", \"unit\": \"unknown\", \"amount\": 1, \"morning\": -99, \"noon\": -99, \"evening\": -99, \"night\": -99 }\n",
      "] }"
     ]
    }
   ],
   "source": [
    "test3 = df[\"text\"][23]\n",
    "test3_few_shot = format_prompt([test3], few_shot_instruction, system_prompt = system_prompt, task_instruction=task_instruction, examples = examples)\n",
    "print(test3)\n",
    "for token in generator.stream(test3_few_shot):\n",
    "    print(token, end =\"\")"
   ]
  },
  {
   "cell_type": "code",
   "execution_count": 69,
   "metadata": {},
   "outputs": [
    {
     "name": "stdout",
     "output_type": "stream",
     "text": [
      "Fussorthese\n",
      "{\"medications\": [\n",
      "{\"name\": \"Fussorthese\", \"unit\": \"unknown\", \"amount\": 1, \"morning\": 1, \"noon\": 1, \"evening\": 1, \"night\": 1}\n",
      "]}"
     ]
    }
   ],
   "source": [
    "test3_instruct = format_prompt([test3], zero_shot_instruction, system_prompt = system_prompt, task_instruction=task_instruction, examples = examples)\n",
    "print(test3)\n",
    "for token in generator.stream(test3_instruct):\n",
    "    print(token, end =\"\")"
   ]
  },
  {
   "cell_type": "code",
   "execution_count": 70,
   "metadata": {},
   "outputs": [],
   "source": [
    "result3 = generator(test3)"
   ]
  },
  {
   "cell_type": "code",
   "execution_count": 71,
   "metadata": {},
   "outputs": [
    {
     "data": {
      "text/plain": [
       "MedicationList(medications=[Medication(name='Diclofenac', unit=<MedicationUnit.tropfen: 'tropfen'>, amount=50.0, morning=1.0, noon=1.0, evening=1.0, night=1.0)])"
      ]
     },
     "execution_count": 71,
     "metadata": {},
     "output_type": "execute_result"
    }
   ],
   "source": [
    "result3"
   ]
  },
  {
   "cell_type": "markdown",
   "metadata": {},
   "source": [
    "Problems:\n",
    "- Some inputs are structured with one line per medication e.g. df[\"text\"][0], others are medical recipes like df[\"text\"][38]. The model struggles a bit sometimes with inputs that are not as well structured (but still really good)\n",
    "- The problem above seems to be solvable by providing appropriate examples but I don't know if I get all the different input formats.\n",
    "- Sometimes medications are misspelled (like Propanolol) and model extracts it the way it was (which is the desired behaviour I think, because I don't have the medical expertise to correct it). Unsure what the best way to correct it is.\n",
    "- A lot of times the schema for intake changes, so after 2 weeks maybe it is less or more. Additionally extracting this in detail could be very hard and might negatively affect the performance of the other outputs (which seem more important to me, but I am no doctor). This is also only the case for a few of the examples as far as I can tell.\n",
    "- If the text just mentions \"once daily\" or similar I told the model to map it all in the morning (so once daily is 1-0-0) but not sure if that would be desired behaviour.\n",
    "- How would I evaluate the performance (spelling mistakes, forget medicine etc.). I could evaluate a test set myself (100 examples) but I can't guarantee that the criteria I set would be reasonable from a medical point of view."
   ]
  },
  {
   "cell_type": "code",
   "execution_count": 4,
   "metadata": {},
   "outputs": [],
   "source": [
    "sampler = get_sampler(\"multinomial\")\n",
    "generator = get_outlines_generator(model = model, sampler = sampler, task = \"text\")"
   ]
  },
  {
   "cell_type": "code",
   "execution_count": 9,
   "metadata": {},
   "outputs": [],
   "source": [
    "df = Dataset.load_from_disk(paths.DATA_PATH_PREPROCESSED/\"medication/kisim_medication_sample\")\n",
    "results = torch.load(paths.RESULTS_PATH/\"medication/medication_outlines_Llama2-MedTuned-13b_4bit_few_shot_instruction_examples_10.pt\")"
   ]
  },
  {
   "cell_type": "code",
   "execution_count": 11,
   "metadata": {},
   "outputs": [
    {
     "data": {
      "text/plain": [
       "'{\"medications\":[{\"name\":\"Fampyra\",\"dose\":10.0,\"dose_unit\":\"mg\",\"morning\":1.0,\"noon\":1.0,\"evening\":0.0,\"night\":0.0,\"extra\":\"1-1-0\"},{\"name\":\"Sifrol\",\"dose\":0.125,\"dose_unit\":\"mg\",\"morning\":-99.0,\"noon\":-99.0,\"evening\":-99.0,\"night\":-99.0,\"extra\":\"2h vor Schlafegehen\"}]}'"
      ]
     },
     "execution_count": 11,
     "metadata": {},
     "output_type": "execute_result"
    }
   ],
   "source": [
    "results[\"model_answers\"][77]"
   ]
  },
  {
   "cell_type": "code",
   "execution_count": 12,
   "metadata": {},
   "outputs": [
    {
     "data": {
      "text/plain": [
       "'Fampyra 10 mg \\t\\t1-1-0\\nSifrol 0.125 mg \\t\\t2h vor Schlafegehen'"
      ]
     },
     "execution_count": 12,
     "metadata": {},
     "output_type": "execute_result"
    }
   ],
   "source": [
    "df[\"text\"][77]"
   ]
  },
  {
   "cell_type": "code",
   "execution_count": 27,
   "metadata": {},
   "outputs": [],
   "source": [
    "input = \"\"\"[INST]Your task is to extract specific information from medication descriptions. \n",
    "The input for this task is a list of medication descriptions, a report or doctors recipe, and the output should be how each these medications have to be taken during the day.\n",
    "The intake follows for each medication can follow a specific schema, which has to be translated to a format like 0.5-1-2-0\n",
    "The output should consist of the following:\n",
    "- morning (float): The dose to be taken in the morning.\n",
    "- noon (float): The dose to be taken at noon.\n",
    "- evening (float): The dose to be taken in the evening.\n",
    "- night (float): The dose to be taken at night.\n",
    "\n",
    "The output format should be: \n",
    "\n",
    "float-float-float-float\n",
    "\n",
    "This corresponds to morningDose-noonDose-eveningDose-nightDose\n",
    "\n",
    "- The intake doses over the day can be given several ways:\n",
    "    - If the amount of doses is given in the form of float-float-float, it corresponds to MorningDose-NoonDose-EveningDose with NightDose being 0.\n",
    "    - If the amount of doses is given in the form float-float-float-float, it corresponds to MorningDose-NoonDose-EveningDose-NightDose.\n",
    "    - If keywords like \"Morgen\", \"Mittag\", \"Abend\", \"Nacht\" are used, the corresponding doses should be extracted and the others set set 0.\n",
    "    - If an intake schema like the ones above is not detected, MorningDose, NoonDose, EveningDose and NightDose should all be represented as -99.\n",
    "\n",
    "Here is an example:\n",
    "\n",
    "Input:\n",
    "Fampyra 10 mg \\t\\t1-1-0\\nSifrol 0.125 mg \\t\\t2h vor Schlafegehen\n",
    "\n",
    "Output:\n",
    "Let's think step by step.\n",
    "\n",
    "Step 1: Split Input\n",
    "First, we need to split the input into separate medication descriptions.\n",
    "\n",
    "Fampyra 10 mg     1-1-0\n",
    "Sifrol 0.125 mg     2h vor Schlafegehen\n",
    "\n",
    "Step 2: Extract Intake Schema\n",
    "Now, we'll go through each medication description to extract the intake schema.\n",
    "\n",
    "For Fampyra 10 mg:\n",
    "The intake schema is given as 1-1-0, which corresponds to Morning-Noon-Evening with Night being 0.\n",
    "So the output for Fampyra would be: 1.0-1.0-0.0-0.0\n",
    "\n",
    "For Sifrol 0.125 mg:\n",
    "The description mentions \"2h vor Schlafegehen\", which means \"2 hours before going to sleep\". This corresponds to NightDose.\n",
    "So the output for Sifrol would be: 0.0-0.0-0.0-1.0\n",
    "\n",
    "Answer:\n",
    "1.0-1.0-0.0-0.0\n",
    "0.0-0.0-0.0-1.0\n",
    "Each line corresponds to one medication's intake schema in the format: morning-noon-evening-night. If a dose is not mentioned, it's represented as 0.0.\n",
    "\n",
    "###Input:\n",
    "Vitamine A AS zur Nacht\n",
    "\n",
    "[/INST]\n",
    "Let's think step by step:\"\"\""
   ]
  },
  {
   "cell_type": "code",
   "execution_count": 28,
   "metadata": {},
   "outputs": [
    {
     "name": "stdout",
     "output_type": "stream",
     "text": [
      "\n",
      "\n",
      "Step 1: Split Input\n",
      "First, we need to split the input into separate medication descriptions.\n",
      "\n",
      "Vitamine : B-Nacht\n",
      "A : I-Nacht\n",
      "AS : O\n",
      "zur : O\n",
      "Nacht : O \n"
     ]
    }
   ],
   "source": [
    "for token in generator.stream(input):\n",
    "    print(token, end = \"\")"
   ]
  }
 ],
 "metadata": {
  "kernelspec": {
   "display_name": "Python 3 (ipykernel)",
   "language": "python",
   "name": "python3"
  },
  "language_info": {
   "codemirror_mode": {
    "name": "ipython",
    "version": 3
   },
   "file_extension": ".py",
   "mimetype": "text/x-python",
   "name": "python",
   "nbconvert_exporter": "python",
   "pygments_lexer": "ipython3",
   "version": "3.11.4"
  }
 },
 "nbformat": 4,
 "nbformat_minor": 4
}

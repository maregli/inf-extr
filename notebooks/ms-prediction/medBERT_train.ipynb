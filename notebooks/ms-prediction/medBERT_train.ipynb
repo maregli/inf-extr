{
 "cells": [
  {
   "cell_type": "code",
   "execution_count": 1,
   "metadata": {},
   "outputs": [],
   "source": [
    "from transformers import AutoTokenizer, AutoModelForSequenceClassification, AutoModel, DataCollatorWithPadding, get_scheduler\n",
    "from datasets import load_dataset, concatenate_datasets\n",
    "\n",
    "from accelerate import Accelerator\n",
    "\n",
    "import torch\n",
    "from torch.utils.data import DataLoader\n",
    "from torch.optim import AdamW\n",
    "\n",
    "import numpy as np\n",
    "\n",
    "import os\n",
    "import sys\n",
    "sys.path.append(os.getcwd()+\"/../..\")\n",
    "\n",
    "from src import paths\n",
    "\n",
    "import tqdm\n",
    "\n",
    "import evaluate \n",
    "\n",
    "from sklearn.metrics import f1_score, precision_score, recall_score, ConfusionMatrixDisplay\n"
   ]
  },
  {
   "cell_type": "code",
   "execution_count": 2,
   "metadata": {},
   "outputs": [
    {
     "name": "stderr",
     "output_type": "stream",
     "text": [
      "HF google storage unreachable. Downloading and preparing it from source\n"
     ]
    },
    {
     "data": {
      "application/vnd.jupyter.widget-view+json": {
       "model_id": "e8b6637444d24a9696b3226ecfd79d32",
       "version_major": 2,
       "version_minor": 0
      },
      "text/plain": [
       "Downloading data files:   0%|          | 0/3 [00:00<?, ?it/s]"
      ]
     },
     "metadata": {},
     "output_type": "display_data"
    },
    {
     "data": {
      "application/vnd.jupyter.widget-view+json": {
       "model_id": "62f47467ce604f9cad3052ba6ec3b5f6",
       "version_major": 2,
       "version_minor": 0
      },
      "text/plain": [
       "Extracting data files:   0%|          | 0/3 [00:00<?, ?it/s]"
      ]
     },
     "metadata": {},
     "output_type": "display_data"
    },
    {
     "data": {
      "application/vnd.jupyter.widget-view+json": {
       "model_id": "a642ad7a986144499d28c40ab2320c44",
       "version_major": 2,
       "version_minor": 0
      },
      "text/plain": [
       "Generating train split: 0 examples [00:00, ? examples/s]"
      ]
     },
     "metadata": {},
     "output_type": "display_data"
    },
    {
     "data": {
      "application/vnd.jupyter.widget-view+json": {
       "model_id": "a3c28b72d17140c0aa22a64103ab1d32",
       "version_major": 2,
       "version_minor": 0
      },
      "text/plain": [
       "Generating validation split: 0 examples [00:00, ? examples/s]"
      ]
     },
     "metadata": {},
     "output_type": "display_data"
    },
    {
     "data": {
      "application/vnd.jupyter.widget-view+json": {
       "model_id": "f1eb564e4310421c9bdb32697cc408a0",
       "version_major": 2,
       "version_minor": 0
      },
      "text/plain": [
       "Generating test split: 0 examples [00:00, ? examples/s]"
      ]
     },
     "metadata": {},
     "output_type": "display_data"
    }
   ],
   "source": [
    "# Load data\n",
    "data_files = {\"train\": \"ms-diag_clean_train.csv\", \"validation\": \"ms-diag_clean_val.csv\", \"test\": \"ms-diag_clean_test.csv\"}\n",
    "df = load_dataset(os.path.join(paths.DATA_PATH_PREPROCESSED,'ms-diag'), data_files = data_files)\n",
    "\n",
    "# Number of labels\n",
    "num_labels = len(set(df['train']['labels']))\n",
    "\n",
    "# Label to id\n",
    "label2id = {label: i for i, label in enumerate(set(df['train']['labels']))}\n",
    "id2label = {i: label for i, label in enumerate(set(df['train']['labels']))}"
   ]
  },
  {
   "cell_type": "code",
   "execution_count": 3,
   "metadata": {},
   "outputs": [
    {
     "data": {
      "text/plain": [
       "{0: 'primary_progressive_multiple_sclerosis',\n",
       " 1: 'relapsing_remitting_multiple_sclerosis',\n",
       " 2: 'secondary_progressive_multiple_sclerosis'}"
      ]
     },
     "execution_count": 3,
     "metadata": {},
     "output_type": "execute_result"
    }
   ],
   "source": [
    "id2label"
   ]
  },
  {
   "cell_type": "code",
   "execution_count": 4,
   "metadata": {},
   "outputs": [
    {
     "data": {
      "application/vnd.jupyter.widget-view+json": {
       "model_id": "21f14752f1eb40c8bd87052352d05698",
       "version_major": 2,
       "version_minor": 0
      },
      "text/plain": [
       "Filter:   0%|          | 0/123 [00:00<?, ? examples/s]"
      ]
     },
     "metadata": {},
     "output_type": "display_data"
    },
    {
     "data": {
      "application/vnd.jupyter.widget-view+json": {
       "model_id": "48fd1e5a523d4419bf5d9d7ec5844f69",
       "version_major": 2,
       "version_minor": 0
      },
      "text/plain": [
       "Filter:   0%|          | 0/123 [00:00<?, ? examples/s]"
      ]
     },
     "metadata": {},
     "output_type": "display_data"
    },
    {
     "data": {
      "application/vnd.jupyter.widget-view+json": {
       "model_id": "bbec9d46a33e47cfaeb556bc2c5151b7",
       "version_major": 2,
       "version_minor": 0
      },
      "text/plain": [
       "Filter:   0%|          | 0/123 [00:00<?, ? examples/s]"
      ]
     },
     "metadata": {},
     "output_type": "display_data"
    }
   ],
   "source": [
    "# Subsample stratisfied by label\n",
    "df['train'] = concatenate_datasets([df['train'].filter(lambda example: example['labels'] == 'primary_progressive_multiple_sclerosis'), \n",
    "                                     df['train'].filter(lambda example: example['labels'] == 'secondary_progressive_multiple_sclerosis'),\n",
    "                                     df['train'].filter(lambda example: example['labels'] == \"relapsing_remitting_multiple_sclerosis\").select(range(0,20))])"
   ]
  },
  {
   "cell_type": "code",
   "execution_count": null,
   "metadata": {},
   "outputs": [],
   "source": [
    "# # Run this cell if you want to download and fine-tune the model\n",
    "# from huggingface_hub import notebook_login\n",
    "\n",
    "# # Login to Hugging Face Hub as model is gated\n",
    "# notebook_login()\n",
    "\n",
    "# # Checkpoint\n",
    "# checkpoint = \"GerMedBERT/medbert-512\"\n",
    "\n",
    "# # Load tokenizer\n",
    "# tokenizer = AutoTokenizer.from_pretrained(checkpoint)\n",
    "\n",
    "# # Save tokenizer\n",
    "# tokenizer.save_pretrained(paths.MODEL_PATH/'medbert')\n",
    "\n",
    "# # Load model for embedding\n",
    "# model = AutoModel.from_pretrained(checkpoint)\n",
    "\n",
    "# # Save model\n",
    "# model.save_pretrained(paths.MODEL_PATH/'medbert')"
   ]
  },
  {
   "cell_type": "code",
   "execution_count": 5,
   "metadata": {},
   "outputs": [
    {
     "name": "stderr",
     "output_type": "stream",
     "text": [
      "Some weights of BertForSequenceClassification were not initialized from the model checkpoint at /cluster/dataset/midatams/inf-extr/resources/models/medbert and are newly initialized: ['classifier.bias', 'classifier.weight']\n",
      "You should probably TRAIN this model on a down-stream task to be able to use it for predictions and inference.\n"
     ]
    }
   ],
   "source": [
    "# Load tokenizer\n",
    "tokenizer = AutoTokenizer.from_pretrained(paths.MODEL_PATH/'medbert')\n",
    "\n",
    "# Load model\n",
    "model = AutoModelForSequenceClassification.from_pretrained(paths.MODEL_PATH/'medbert', num_labels=num_labels)"
   ]
  },
  {
   "cell_type": "code",
   "execution_count": 6,
   "metadata": {},
   "outputs": [
    {
     "data": {
      "application/vnd.jupyter.widget-view+json": {
       "model_id": "e6ac02a164ff4f699ce9a5c86698e7f4",
       "version_major": 2,
       "version_minor": 0
      },
      "text/plain": [
       "Map:   0%|          | 0/33 [00:00<?, ? examples/s]"
      ]
     },
     "metadata": {},
     "output_type": "display_data"
    },
    {
     "data": {
      "application/vnd.jupyter.widget-view+json": {
       "model_id": "a58fc1fd92d04b2cafa7c882b51c9b48",
       "version_major": 2,
       "version_minor": 0
      },
      "text/plain": [
       "Map:   0%|          | 0/14 [00:00<?, ? examples/s]"
      ]
     },
     "metadata": {},
     "output_type": "display_data"
    },
    {
     "data": {
      "application/vnd.jupyter.widget-view+json": {
       "model_id": "51ef1e5caa2942c4864fbe1833356990",
       "version_major": 2,
       "version_minor": 0
      },
      "text/plain": [
       "Map:   0%|          | 0/59 [00:00<?, ? examples/s]"
      ]
     },
     "metadata": {},
     "output_type": "display_data"
    }
   ],
   "source": [
    "def prepare_data(data):\n",
    "    \n",
    "    # Label\n",
    "    data['labels'] = [label2id[label] for label in data['labels']]\n",
    "\n",
    "    # Tokenize\n",
    "    data = tokenizer(data['text'], padding=True, truncation=True, return_tensors='pt')\n",
    "\n",
    "    return data\n",
    "\n",
    "# Tokenize dataset\n",
    "dataset = df.map(prepare_data, batched=True, remove_columns=['rid', 'text', 'date'], batch_size=512)"
   ]
  },
  {
   "cell_type": "code",
   "execution_count": 7,
   "metadata": {},
   "outputs": [
    {
     "name": "stderr",
     "output_type": "stream",
     "text": [
      "Detected kernel version 5.4.0, which is below the recommended minimum of 5.5.0; this can cause the process to hang. It is recommended to upgrade the kernel to the minimum version or higher.\n"
     ]
    },
    {
     "data": {
      "application/vnd.jupyter.widget-view+json": {
       "model_id": "20e35bdc621c461d985158d77b7c7268",
       "version_major": 2,
       "version_minor": 0
      },
      "text/plain": [
       "Filter:   0%|          | 0/33 [00:00<?, ? examples/s]"
      ]
     },
     "metadata": {},
     "output_type": "display_data"
    },
    {
     "data": {
      "application/vnd.jupyter.widget-view+json": {
       "model_id": "7bd5be7739f04e778e2200db049c7064",
       "version_major": 2,
       "version_minor": 0
      },
      "text/plain": [
       "Filter:   0%|          | 0/33 [00:00<?, ? examples/s]"
      ]
     },
     "metadata": {},
     "output_type": "display_data"
    },
    {
     "data": {
      "application/vnd.jupyter.widget-view+json": {
       "model_id": "f8be1ab5604647a598b011e1b4fcef7f",
       "version_major": 2,
       "version_minor": 0
      },
      "text/plain": [
       "Filter:   0%|          | 0/33 [00:00<?, ? examples/s]"
      ]
     },
     "metadata": {},
     "output_type": "display_data"
    }
   ],
   "source": [
    "# Training arguments\n",
    "EPOCHS = 15\n",
    "BATCH_SIZE = 16\n",
    "TRAIN_STEPS = EPOCHS * len(dataset['train']) // BATCH_SIZE\n",
    "\n",
    "# Collator\n",
    "collate_fn = DataCollatorWithPadding(tokenizer=tokenizer, padding=True, return_tensors='pt')\n",
    "\n",
    "# Dataloader\n",
    "train_loader = DataLoader(dataset['train'], batch_size=BATCH_SIZE, collate_fn=collate_fn, shuffle=True)\n",
    "val_loader = DataLoader(dataset['validation'], batch_size=BATCH_SIZE, collate_fn=collate_fn, shuffle=False)\n",
    "test_loader = DataLoader(dataset['test'], batch_size=BATCH_SIZE, collate_fn=collate_fn, shuffle=False)\n",
    "\n",
    "# Accelerator\n",
    "accelerator = Accelerator(mixed_precision='fp16')\n",
    "\n",
    "# Optimizer and scheduler\n",
    "optim = AdamW(model.parameters(), lr=1e-6)\n",
    "lr_scheduler = get_scheduler(\n",
    "    \"linear\",\n",
    "    optim,\n",
    "    num_warmup_steps=0,\n",
    "    num_training_steps=TRAIN_STEPS\n",
    ")\n",
    "\n",
    "#f1_metric = evaluate.load(\"f1\")\n",
    "\n",
    "# Class weights\n",
    "power = 1\n",
    "class_weights = [1/np.log(len(dataset['train'].filter(lambda example: example['labels'] == label))) for label in set(dataset['train']['labels'])]\n",
    "class_weights = [weight**power for weight in class_weights]\n",
    "class_weights = torch.tensor(class_weights, dtype=torch.float)\n",
    "\n",
    "\n",
    "loss_fun = torch.nn.CrossEntropyLoss(weight=class_weights)\n",
    "\n",
    "# Prepare with accelerator\n",
    "model, optim, train_loader, val_loader, test_loader, loss_fun = accelerator.prepare(\n",
    "    model, optim, train_loader, val_loader, test_loader, loss_fun\n",
    ")"
   ]
  },
  {
   "cell_type": "code",
   "execution_count": 8,
   "metadata": {},
   "outputs": [
    {
     "data": {
      "text/plain": [
       "tensor([0.4809, 0.3338, 0.6213])"
      ]
     },
     "execution_count": 8,
     "metadata": {},
     "output_type": "execute_result"
    }
   ],
   "source": [
    "class_weights"
   ]
  },
  {
   "cell_type": "code",
   "execution_count": 9,
   "metadata": {},
   "outputs": [
    {
     "name": "stderr",
     "output_type": "stream",
     "text": [
      "  0%|          | 0/30 [00:00<?, ?it/s]You're using a BertTokenizerFast tokenizer. Please note that with a fast tokenizer, using the `__call__` method is faster than using a method to encode the text followed by a call to the `pad` method to get a padded encoding.\n",
      " 13%|█▎        | 4/30 [00:13<00:56,  2.17s/it]"
     ]
    },
    {
     "name": "stdout",
     "output_type": "stream",
     "text": [
      "Epoch 1: F1 score: 0.01098901098901099 Loss: 1.1168190240859985 Accuracy: 0.07142857142857142\n"
     ]
    },
    {
     "name": "stderr",
     "output_type": "stream",
     "text": [
      " 23%|██▎       | 7/30 [00:15<00:24,  1.06s/it]"
     ]
    },
    {
     "name": "stdout",
     "output_type": "stream",
     "text": [
      "Epoch 2: F1 score: 0.4511278195488722 Loss: 1.093677043914795 Accuracy: 0.35714285714285715\n"
     ]
    },
    {
     "name": "stderr",
     "output_type": "stream",
     "text": [
      " 33%|███▎      | 10/30 [00:16<00:12,  1.57it/s]"
     ]
    },
    {
     "name": "stdout",
     "output_type": "stream",
     "text": [
      "Epoch 3: F1 score: 0.6233766233766234 Loss: 1.0751813650131226 Accuracy: 0.5714285714285714\n"
     ]
    },
    {
     "name": "stderr",
     "output_type": "stream",
     "text": [
      " 43%|████▎     | 13/30 [00:17<00:08,  2.04it/s]"
     ]
    },
    {
     "name": "stdout",
     "output_type": "stream",
     "text": [
      "Epoch 4: F1 score: 0.7542857142857142 Loss: 1.065490961074829 Accuracy: 0.7857142857142857\n"
     ]
    },
    {
     "name": "stderr",
     "output_type": "stream",
     "text": [
      " 53%|█████▎    | 16/30 [00:18<00:06,  2.32it/s]"
     ]
    },
    {
     "name": "stdout",
     "output_type": "stream",
     "text": [
      "Epoch 5: F1 score: 0.7542857142857142 Loss: 1.0587817430496216 Accuracy: 0.7857142857142857\n"
     ]
    },
    {
     "name": "stderr",
     "output_type": "stream",
     "text": [
      " 63%|██████▎   | 19/30 [00:19<00:04,  2.62it/s]"
     ]
    },
    {
     "name": "stdout",
     "output_type": "stream",
     "text": [
      "Epoch 6: F1 score: 0.7542857142857142 Loss: 1.0522735118865967 Accuracy: 0.7857142857142857\n"
     ]
    },
    {
     "name": "stderr",
     "output_type": "stream",
     "text": [
      " 67%|██████▋   | 20/30 [00:19<00:03,  2.98it/s]"
     ]
    },
    {
     "name": "stdout",
     "output_type": "stream",
     "text": [
      "Epoch 7: F1 score: 0.7542857142857142 Loss: 1.0479764938354492 Accuracy: 0.7857142857142857\n"
     ]
    },
    {
     "name": "stderr",
     "output_type": "stream",
     "text": [
      " 83%|████████▎ | 25/30 [00:55<00:17,  3.54s/it]"
     ]
    },
    {
     "name": "stdout",
     "output_type": "stream",
     "text": [
      "Epoch 8: F1 score: 0.7542857142857142 Loss: 1.0435985326766968 Accuracy: 0.7857142857142857\n"
     ]
    },
    {
     "name": "stderr",
     "output_type": "stream",
     "text": [
      " 93%|█████████▎| 28/30 [00:56<00:03,  1.90s/it]"
     ]
    },
    {
     "name": "stdout",
     "output_type": "stream",
     "text": [
      "Epoch 9: F1 score: 0.7912087912087912 Loss: 1.0406850576400757 Accuracy: 0.8571428571428571\n"
     ]
    },
    {
     "name": "stderr",
     "output_type": "stream",
     "text": [
      "31it [00:57,  1.13s/it]                        "
     ]
    },
    {
     "name": "stdout",
     "output_type": "stream",
     "text": [
      "Epoch 10: F1 score: 0.7912087912087912 Loss: 1.039419174194336 Accuracy: 0.8571428571428571\n"
     ]
    },
    {
     "name": "stderr",
     "output_type": "stream",
     "text": [
      "34it [00:59,  1.30it/s]"
     ]
    },
    {
     "name": "stdout",
     "output_type": "stream",
     "text": [
      "Epoch 11: F1 score: 0.7912087912087912 Loss: 1.039419174194336 Accuracy: 0.8571428571428571\n"
     ]
    },
    {
     "name": "stderr",
     "output_type": "stream",
     "text": [
      "37it [00:59,  1.85it/s]"
     ]
    },
    {
     "name": "stdout",
     "output_type": "stream",
     "text": [
      "Epoch 12: F1 score: 0.7912087912087912 Loss: 1.039419174194336 Accuracy: 0.8571428571428571\n"
     ]
    },
    {
     "name": "stderr",
     "output_type": "stream",
     "text": [
      "40it [01:00,  2.32it/s]"
     ]
    },
    {
     "name": "stdout",
     "output_type": "stream",
     "text": [
      "Epoch 13: F1 score: 0.7912087912087912 Loss: 1.039419174194336 Accuracy: 0.8571428571428571\n"
     ]
    },
    {
     "name": "stderr",
     "output_type": "stream",
     "text": [
      "43it [01:01,  2.63it/s]"
     ]
    },
    {
     "name": "stdout",
     "output_type": "stream",
     "text": [
      "Epoch 14: F1 score: 0.7912087912087912 Loss: 1.039419174194336 Accuracy: 0.8571428571428571\n"
     ]
    },
    {
     "name": "stderr",
     "output_type": "stream",
     "text": [
      "44it [01:01,  2.99it/s]"
     ]
    },
    {
     "name": "stdout",
     "output_type": "stream",
     "text": [
      "Epoch 15: F1 score: 0.7912087912087912 Loss: 1.039419174194336 Accuracy: 0.8571428571428571\n"
     ]
    }
   ],
   "source": [
    "# Training\n",
    "torch.manual_seed(42)\n",
    "progress_bar = tqdm.tqdm(range(TRAIN_STEPS))\n",
    "\n",
    "for epoch in range(EPOCHS):\n",
    "    model.train()\n",
    "    for batch in train_loader:\n",
    "        optim.zero_grad()\n",
    "        outputs = model(**batch)\n",
    "        loss = loss_fun(outputs.logits, batch['labels'])\n",
    "        accelerator.backward(loss)\n",
    "        optim.step()\n",
    "        lr_scheduler.step()\n",
    "        progress_bar.update(1)\n",
    "\n",
    "    model.eval()\n",
    "    with torch.no_grad():\n",
    "        preds = []\n",
    "        labels = []\n",
    "        val_loss = 0\n",
    "        acc = 0\n",
    "        for batch in val_loader:\n",
    "            outputs = model(**batch)\n",
    "            predictions = outputs.logits.argmax(dim=-1)\n",
    "            \n",
    "            val_loss += loss_fun(outputs.logits, batch['labels'])\n",
    "            acc += (predictions == batch['labels']).sum().item()\n",
    "            \n",
    "            preds.extend(predictions.tolist())\n",
    "            labels.extend(batch['labels'].tolist())\n",
    "\n",
    "    f1 = f1_score(labels, preds, average='weighted')\n",
    "    if epoch == 0:\n",
    "            min_val_loss = val_loss\n",
    "    elif epoch >= 5 & (val_loss < min_val_loss):\n",
    "        min_val_loss = val_loss\n",
    "        model.save_pretrained(paths.MODEL_PATH/'ms_diag_medbert')\n",
    "\n",
    "    print(f\"Epoch {epoch+1}: F1 score: {f1} Loss: {val_loss/len(val_loader)} Accuracy: {acc/len(dataset['validation'])}\")"
   ]
  },
  {
   "cell_type": "code",
   "execution_count": 10,
   "metadata": {},
   "outputs": [
    {
     "name": "stderr",
     "output_type": "stream",
     "text": [
      "\n",
      "  0%|          | 0/4 [00:00<?, ?it/s]\u001b[A\n",
      "100%|██████████| 4/4 [00:00<00:00, 16.57it/s]\u001b[A\n"
     ]
    }
   ],
   "source": [
    "torch.cuda.empty_cache()\n",
    "\n",
    "# Predictions\n",
    "predictions = []\n",
    "labels = []\n",
    "#f1_test = evaluate.load(\"f1\")\n",
    "for batch in tqdm.tqdm(test_loader):\n",
    "    with torch.no_grad():\n",
    "        outputs = model(**batch)\n",
    "        logits = outputs.logits\n",
    "        preds = torch.argmax(logits, dim=-1)\n",
    "        #f1_test.add_batch(predictions=preds, references=batch['labels'])\n",
    "        predictions.extend(preds.tolist())\n",
    "        labels.extend(batch['labels'].tolist())\n",
    "\n",
    "#f1_score = f1_test.compute(average='weighted')\n",
    "#print(\"F1\", f1_score)"
   ]
  },
  {
   "cell_type": "code",
   "execution_count": 11,
   "metadata": {},
   "outputs": [
    {
     "name": "stdout",
     "output_type": "stream",
     "text": [
      "F1 Score: 0.7907492475843497\n",
      "Precision: 0.7691833590138675\n",
      "Recall: 0.8135593220338984\n"
     ]
    },
    {
     "data": {
      "text/plain": [
       "<sklearn.metrics._plot.confusion_matrix.ConfusionMatrixDisplay at 0x14c7b09176d0>"
      ]
     },
     "execution_count": 11,
     "metadata": {},
     "output_type": "execute_result"
    },
    {
     "data": {
      "image/png": "[encoded data removed]",
      "text/plain": [
       "<Figure size 640x480 with 2 Axes>"
      ]
     },
     "metadata": {},
     "output_type": "display_data"
    }
   ],
   "source": [
    "from sklearn.metrics import f1_score, precision_score, recall_score, ConfusionMatrixDisplay\n",
    "# f1 score, precision, recall\n",
    "print(f\"F1 Score: {f1_score(labels, predictions, average='weighted')}\")\n",
    "print(f\"Precision: {precision_score(labels, predictions, average='weighted')}\")\n",
    "print(f\"Recall: {recall_score(labels, predictions, average='weighted')}\")\n",
    "# Confusion matrix\n",
    "ConfusionMatrixDisplay.from_predictions(labels, predictions, display_labels=list(id2label.values()), xticks_rotation='vertical')"
   ]
  },
  {
   "cell_type": "code",
   "execution_count": 19,
   "metadata": {},
   "outputs": [
    {
     "name": "stdout",
     "output_type": "stream",
     "text": [
      "Label secondary_progressive_multiple_sclerosis\n",
      "Predicted relapsing_remitting_multiple_sclerosis\n",
      "Text:  Multiple Sklerose sekundär progredient mit überlagernden Schüben, EM 2005 ED 2006 EDSS 4.0 aktuell: klinisch aktiv, radiologisch nicht aktiv, Progression ja (nach Lublin et al. 2013) neu aufgetretene Sensibilitätsstörung linker Fuss seit Mitte Juni mit unvollständiger Rückbildung unter Cortison Verlauf:  Retrobulbärneuritis im linken Auge 2005.  drei Monate später (2005) in beiden Händen Sensibilitätsstörungen erneut ca. drei Monate später Sensibilitätsstörungen der Zunge und der rechten Gesichtshälfte 2006 - 2009 stabiler Verlauf ohne Beschwerden ab 2009 Mühe mit Rennen, ab 2013 progrediente Gangstörung mit Spastik 12/16 fraglicher Schub mit Verschlechterung der Gangstörung, Cortisongabe in Italien 06/2019: Schub mit Hypästhesie des linken Fusses und zweimaliger Cortisonstosstherapie Diagnostisch oligoklonale Banden im Liquor positiv, Aquaporin-4-AK negativ; immunologisches Screening bis auf unspezifisch erhöhte ANA (1:160) unauffällig MRI Schädel und Wirbelsäule vom 01/17:  wenige Läsionen im Neurokranium, ausgedehnte Läsionen im Halsmark und untere BWS MRI Gehirn 08/2017: Demyelinisierender Plaque auf Höhe der 'root entry zone' des Nervus trigeminus rechts, vorbestehend. Insgesamt stationärer Befund  MRI Neuroachse 07/2018: stabiler Befund MRI Neuroachse 07/2019: stabiler Befund therapeutisch: Rebif 09/2006- 2016 (aufgrund von Kopfschmerzen nach Einnahme abgesetzt)   B-Zell-depletierende Therapie mit Rituximab empfohlen Gehäufte Exazerbationen einer bekannten Trigeminusneuropathie rechts mit Sensibliltätsstörung des linken Beins ätiologisch: demyelinisierende Plaque (i.R.v. Diagnose 2) auf Höhe der 'root entry zone' des Nervus trigeminus rechts und Auslassung der Carbamazepinmedikation DD: zusätzlicher Gefäss-Nerv-Konflikt aktuell: kaum Beschwerden diagnostisch:  Labor vom 18.07.2018: Natrium 130, CK 378 EKG vom 18.07.2018: nc SR, ST, keine Erregungsrückbildungsstörungen therapeutisch im Verlauf:  Pregabalin anamnestisch nur wenige Tage eingenommen wg. befürchteter Nebenwirkungen Carbamazepin mit anamnestisch guter Wirkung, aber auch Nebenwirkungen wie Schwindel, Gangunsicherheit, Benommenheit Keppra bislang nicht regelmässig eingenommen Akutbehandlung bei Schmerzexazerbation mit insg. 100 mg Phenytoin i.v. am 25.10.2017 Akutbehandlung bei Schmerzexazerbation mit insg. 200 mg Phenytoin i.v. am 31.08.2017 Akutbehandlung bei Schmerzexazerbation mit insg. 100 mg Phenytoin i.v. am 27.06.2018 Akutbehandlung bei Schmerzexazerbation mit insg. 200 mg Phenytoin i.v. am 29.06.2018, ausserdem Wiederaufnahme von Carbamazepin, Lamotrigin (2x25mg/d) weiter Akutbehandlung bei Schmerzexazerbation mit insg. 200 mg Phenytoin i.v. am 18.07.2018 \n",
      "Label secondary_progressive_multiple_sclerosis\n",
      "Predicted relapsing_remitting_multiple_sclerosis\n",
      "Text:  Schubförmige, unvollständig remittierende Multiple Sklerose mit sekundär progredientem Verlauf, EM 2007, ED 2010, EDSS 6.5 INDENT aktuell: klinisch: nicht aktiv, radiologisch: nicht aktiv, Progression: ja (nach Lublin et al. 2013) anamnestisch: zunehmende Einschränkung der Gehfähigkeit mit deutlicher Progredienz seit 2017 klinisch: rechts- und beinbetonte Tetraparese (Arm distal betont), überwiegend rollstuhlmobil Verlauf: INDENT 2007: febriler Infekt mit Steifheit der Beine, spontane Regredienz nach 2-3 Tagen INDENT 2008: Hinken des linken Beines nach 30min Gehzeit mit sukzessiver Verkürzung der Latenz bis zum Auftreten des Hinkens bis 09/2009 -> erstmaliges Ansprechen von Aussenstehenden INDENT 12/2009: zentraler Lagerungsschwindel INDENT 2017: progrediente Verschlechterung der Gehfähigkeit mit 2 Walkingstöcken, längere Strecken mit dem Rollstuhl diagnostisch: Labor INDENT Liquor: Befund nicht vorliegend INDENT Virologisches & bakteriologisches Screening: HIV, HBV, HCV; Treponema pallidum, Borrelia burdorferi; Befunde nicht vorliegend INDENT Immunologisches Screening: ANA, RF, Anti-CCP, Anti-native DNA, Anti-SSA/B (Ro/La), Anti-Cardiolipin, ANCA; Befunde nicht vorliegend INDENT JC-Virus: Befund nicht vorliegend Bildgebung INDENT cMRI vom 07.10.2015 (Spital Netz Bern): Status idem zu 11/2014 INDENT cMRI vom 06.04.2016 (Spital Aarberg): Stable disease zu 10/2015, keine Progression, keine Aktivität. Kein Anhalt für PML INDENT MRI gesamte WS vom 16.08.2016 (InselSpital Bern): Kein Nachweis einer akuten Pathologie im Rahmen der intrathekalen Kathetereinlage INDENT cMRI vom 09.12.2016 (InselSpital Bern): Multiple infra- und supratentorielle Läsionen bei bekannter MS. Keine Schrankenstörung. Keine Anhaltspunkte für eine PML; keine Voruntersuchungen zum Vergleich vorliegend. INDENT MRI Neuroachse vom 30.06.2017 (InselSpital Bern): Stationäre Läsionslast supra- und infratentoriell sowie im zervikalen Myelon ohne Aktivitätszeichen. Keine Anhaltspunkte für eine PML. INDENT cMRI und MRI HWS vom 08.12.2017 (InselSpital Bern): idem zu 06/2017 INDENT cMRI vom 24.08.2018 (InselSpital Bern): stabiler Befund mit supra- und infratentoriellen Läsionen ohne KM-Aufnahme und ohne H.a. PML  therapeutisch: INDENT Cortisonstoss 03/2010 (UAW: agrressiv, insomnent) INDENT Gilenya 01/2014-04/2015 (Wechsel bei erneutem Schub) INDENT 04/2015-05/2018 Tysabri; insgesamt ca. 33 Infusionen (Wechsel bei Progredienz) INDENT Ocrevus 08.05. und 24.05.2018 1. Zyklus, 27.11.2018 2. Zyklus erfolgt symptomatisch:  INDENT Baclofenpumpe seit 16.08.2016 (sukzessive Steigerung bis 145 µg/d 12/2017, reduziert auf aktuell 125 µg/d) INDENT St.n. Sativex (UAW 'Flash' beim Autofahren), Sirdalud (keine Wirkung), Lioresal (keine Wirkung und Durchfälle) INDENT Neuroreha 08/2016 und Neuroreha 05/2018 (Klinik Bethesda); zuletzt nur passagere Besserung INDENT TENS seit 08/2018 INDENT Hanftropfen  Rezidivierende Synkopen unklarer Ätiologie INDENT anamnestisch: insgesamt 10-12 Synkopen seit der Schulzeit in Überforderungssituationen; zuletzt nach OPS 05/2016 im Liegen nach Einsatz der Probepumpe, keine Stürze oder Verletzungen Keratoplastik rechts, 2002\n",
      "Label relapsing_remitting_multiple_sclerosis\n",
      "Predicted primary_progressive_multiple_sclerosis\n",
      "Text:  39-jährige Patientin mit sekundärer Sterilität seit 06/2010 INDENT aktuell in der Zyklusanamnese bestehende Menometrorrhagien  INDENT analgetikapflichtige Dysmenorrhoe INDENT Uterus myomatosus INDENT MRI Abdomen vom 11.10.2019: V. a. eingeblutete Ovarialzysten beidseits DD Endometriome. Hämatosalpinx links. Myom Seitenwand rechts FIGO 2 von 4.8 x 3.6 x 4.3 cm. Niche bei St. n. Sectio mit allenfalls noch minim angrenzendem myometralen Saum INDENT Myomektomie Vorderwand im 11/2019 (Pfannenstiellaparotomie), postoperativ Revision bei epifaszialem Hämatom INDENT Endometriose rASRM Grad IV ED 11/2019, Beginn Therapie mit Visanne INDENT St.n. erfolgloser Embryotransfer nach Eizellspende in Indien am 09.07.2018 INDENT St.n. mehrfachem Abbruch wegen polyfollikulärer Reaktion unter Clomid und Gonal F seit 09/2014 INDENT Malcompliance mit ungeschütztem GV und polifollikulärer Reaktion  INDENT unkontrollierter Therapieversuch mit Gonadotropinen zu Hause 5/2017 INDENT St.n. Gonadotropin-Stimulation und getimtem GV (auf Wunsch) ohne SS 10/2014 INDENT St.n. Sectio caesarea 2000 (Schwangerschaft spontan eingetreten, anderer Partner) INDENT Valvuläre Kardiopathie INDENT Kombiniertes nicht verkalktes postrheumatisches Mitralvitium INDENT St. n. Mitralvalvuloplastie 8/99 INDENT ED im Rahmen der ersten Schwangerschaft 1999 bei Anstrengungsdyspnoe ab der 11. SSW INDENT Kardiologie,17.03.2016: klinisch und echokardiographisch stabilem Verlauf, mittelschwere Mitralinsuffizienz und leichte residuelle Mitralstenose ohne pulmonale Drucksteigerung INDENT bei Eintritt einer Schwangerschaft engmaschige Kontrollen in der kardiolog. Sprechstunde sowie niedermolekulares Heparin empfohlen  INDENT Geburtshilfliches Konsil mit Empfehlung Mehrlingsschwangerschaften zu vermeiden, Kontrollen am Zentrum empfohlen  INDENT letzte kardiologische Kontrolle18.03.2015 Partner: INDENT Männliche Subfertilität (Asthenoteratozoospermie 10/13, Teratozoospermie 12/13).  INDENT Urolog. Abklärung im USZ erfolgt: PSA erhöht 02/2014, Verlaufskontrolle normwertig 05/2014, jährliche Kontrollen bei HA empfohlen INDENT Probatorische Aufbereitung IUI und IVF geeignet 03/14\n",
      "Label primary_progressive_multiple_sclerosis\n",
      "Predicted relapsing_remitting_multiple_sclerosis\n",
      "Text:  1. Multiple Sklerose, a.e. primär-progredient, DD aufgelagerte Schübe (EM 2008, ED 11/2011), EDSS 6.0 Aktuell: klinisch nicht aktiv, radiologisch fraglich aktiv (DD technisch bedingt), keine Progression (nach Lublin et al. 2013) Verlauf: INDENT 2008: Lhermitte-Zeichen mit elektrischer Sensation vom Hals bis in das linke Bein INDENT 2008: progredientes Schleifen des linken Beines, Gehstrecke > 5km INDENT 2008-2011: stetige Verschlechterung der Gangstörung im linken Bein INDENT 2011: Diagnosestellung: Gehstrecke mit Pause nach 30 Minuten, anschliessend Schmerzen im Rücken, aber uneingeschränkte Gehstrecke INDENT 2015: Gehstrecke 300 m ohne Pause und Hilfe INDENT 06/2016: massive Verschlechterung der Gehstrecke auf 34 m, nach Aufenthalt in Valens ca. 500 m mit Schiene INDENT 06/2017: massive Verschlechterung mit Gehstreckenminderung und Schwäche im linken Bein (200 m) und linken Arm, zudem langsame Verschlechterung im rechten Bein mit Kraftminderung und leichter Spastik INDENT 01/2018: EDSS 5.0 INDENT 05/2018: Gehstrecke mit bds. Gehhilfe ca. 150 - 200 m, EDSS 6.5 Radiologisch: INDENT 16.10.2017 cMRI: Keine Hinweise auf aktive Entzündung. Läsionslast im Gehirn ist unverämdert zu 16.06.2016. Diffuser Befall im Halsmark ohne merkliche Änderung.Thorakal keine sicheren Herde nachweisbar. INDENT cMRI 02/2018: stationäre Läsionslast, diskrete infratentorielle Volumenminderung INDENT MRI Neuroachse 08/2018: stabiler Befund INDENT MRI Neuroachse 01/2019: stabiler Befund INDENT cMRI 12.07.2019: 3 neue, kleine demyelinisierende Läsionen ohne Kontrastmittelanreicherung in der superioren Medulla oblongata anterior rechts, rechts temporooccipital juxtakortikal und rechts im inferioren Anteil des Gyrus praecentralis juxtakortikal (DD technisch bedingt bei Wechsel des MRI-Geräts) INDENT sMRI 12.07.2019: Neue T2-Läsionen intramedullär ohne Kontrastmittelanreicherung auf Höhe superiorer BWK 5 anterior links paramedian bis links posterolateral, auf Höhe BWK 9 zentral um den vorbestehend leicht akzentuierten Zentralkanal, auf Höhe superiorer LWK 1 posterior beidseits (DD technisch bedingt bei Wechsel des MRI-Geräts).  Sonstige Diagnostik: INDENT Liquor: OKB positiv, Borrelien-Antikörper negativ INDENT Serologie 2011: Borrelien und Treponema-Antikörper negativ, ANA, ANCA, Anti-Cardiolipin, Anti-Glykoprotein negativ INDENT 07/2011: Medianus SSEP: Normalbefund bds., Tibialis-SSEP: Pathologisch bds. linksbetont INDENT 02/2018: leicht- bis mittelgradige kognitive Minderleistungen in den vier Teilbereichen verbale Erfassungsspanne, anterogrades verbales episodisches Gedächtnis (Lernen und langfristig verzögerter Abruf), Arbeitsgedächtnis (Auslassungen) sowie figurale Ideenproduktion; körperliche Fatigue-Symptomatik Therapie: INDENT 01/2013 - 20.02.2017: Gilenya INDENT seit 04/2017: Rituximab alle 4 Wochen in Klinik Hirslanden (700 mg), Dosisreduktion auf alle 6 Monate November 2017 empfohlen; folgend ab November 2017: Fortführung der Therapie alle 2 Monate, letzte Gabe: 08.01.2018 INDENT aHSCT: Hochdosischemotherapie mit autologer Stammzelltransplantation ab 06.07.2018 INDENT Stammzellmobilisierungs-Chemotherapie:  INDENT Cyclophosphamid 2g/m2 abs. 3500 mgd1,2 INDENT Mesna 2 g/m2abs. 3500 mgd1,2 INDENT G-CSF-Stimulation 30 Mio E/d 09.07. - 11.07.2018, 2x30 Mio E/d 12.07. - 16.07.2018  INDENT Periphere Stammzellsammlung 17.07.2018 INDENT Fazit: 10.02 x 106/kg KG CD34-positive Zellen INDENT Hochdosischemotherapie ab 28.07.2018 (= Tag -6) INDENT BCNU (Carmustin) 300 mg/m² i.v.absolut 528 mgTag -6 INDENT Etoposid (VP-16) 200 mg/m² i.v.absolut 352 mgTag -5 bis -2 INDENT Ara-C (Cytarabin) 200 mg/m² i.v.absolut 352 mgTag -5 bis -2 INDENT Melphalan 140 mg/m² i.v.absolut 245 mgTag -1 INDENT ATG (rabbit) 3.75 mg/kg i.v.absolut 235 mgTag 1+2 INDENT Autologe Stammzelltransplantation 03.08.2018 5.1 x 106/kg KG CD34-positive Zellen symptomatische Therapie: INDENT Fampyra 10mg 1-0-0 INDENT Lioresal bei Stabilitätsverlust wieder pausiert 2. Depression  INDENT St. n. stationärer psychiatrischer Behandlung 02.04.-20.04.2019 Privatklinik Schlössli (Clienia)  3. Idopathische Fazialisparese (ED 1994)  INDENT St. n. operativem Dekompressionsversuch 1994  4. V.a. Impingement-Syndrom an der Schulter rechts seit 05/2019 INDENT akut aufgetreten bei Fitnessübung im 05/2019 5. Verdacht auf MGUS, ED 08/2020\n",
      "Label primary_progressive_multiple_sclerosis\n",
      "Predicted relapsing_remitting_multiple_sclerosis\n",
      "Text:  Primär Progrediente Multiple Sklerose, EM ca. 07/2017, ED 07/2018 EDSS 3.0 INDENT aktuell klinisch nicht aktiv, radiologisch aktiv, aktuell keine Progression, gemäss Lublin kriterien INDENT Verlauf: INDENT Gehstrecke 2017 im Sommer noch mehrere KM ohne Probleme INDENT Gehstrecke Sommer 2018 500m, teils sehr unsicher INDENT Fühlstörungen im Bereich C6 links am ehesten radikulär INDENT Diagnostik: INDENT LP 07/2018: ZZ 9/ml, Protein 308mg/l, intrathekale IgG und IgM Produktion, pos. OKB (Typ 2), pos MRZ Reaktion INDENT Serologie: ANA, anti-CCP, ANCA, anti-Phospholipid-Ak, Immunfixation, Aquaporin4-Ak, NMO-Ak, Borrelien und HIV Serologie unauffällig INDENT cMRI 13.07.2018: Multiple demyelinisierende Läsionen subependymal, im Balken, der Balkenstrahlung, juxtacortical sowie infratentoriell mit einer Gd+ Läsion INDENT MRI Myelon 10.07.2018: multiple Läsionen des Myelons, eine davon mit flauer KM-Aufnahme, mittelgradige Enge HWK 5/6 bds mit möglicher Reizung der C6 Wurzel INDENT VEP: rechts leicht verzögert, links normal INDENT SSEP bds. mässiggradig verzögert INDENT MRI Neuroachse 03/2019: eine neue Läsion im hinteren Balken am ehesten ohne Schrankenstörung INDENT cMRI 09/2019: stabiler Befund INDENT Therapie: INDENT Medrol 500mg/d 20. - 25.07.2018 INDENT am 30.10.2018 1. Teil der Erstgabe Ocrevus, am 13.11.2018 2. Teil der Erstgabe Ocrevus INDENT CD20-Antikörper-Therapie-assoziierte subakute Aggravation neurologischer Symptome unter Ocrelizumab nach dem 1. Teil des 1. Zyklus Ocrevus  INDENT 2. Zyklus am 15.05.2019 INDENT Therapieversuch mit Fampyra im 04/2019: keine Verbesserung\n",
      "Label primary_progressive_multiple_sclerosis\n",
      "Predicted relapsing_remitting_multiple_sclerosis\n",
      "Text:  Primär chronisch progrediente Multiple Sklerose, EM 2008, ED 2012, EDSS 4.0 aktuell: klinisch: stabil, radiologisch: stabil, Progression: ja (nach Lublin et al. 2013) INDENT Besserung der Kraft im linken Bein. Probleme beim Laufen, leichte Urge-Symptomatik und gelegentliche Einschlafprobleme. Klinisch spastisch-ataktisches Gangbild mit linksbetonter Spastik in den UE, beidseits gesteigerter PSR, Fallneigung im Rombergstehversuch nach hinten. Leichte Pallhypästhesie der UE (6/8). INDENT Verlauf:  INDENT 1996 Sturz mit dem Rad INDENT 2008 Lähmung des linken Beines nach körperl. Belastung, Parästhesien skelettal und im li. Oberschenkel INDENT seit ca. 2013 neurogene Blasenstörung mit Dranginkontinenz INDENT seit ca. 2014 progrediente Schwäche des rechten Beines INDENT 02/2018: CD20-Antikörper-Therapie-assoziierte subakute Aggravation neurologischer Symptome unter Ocrelizumab INDENT Diagnostik: INDENT 2009 MRI Gehirn und WS: 3 periventrikuläre Läsionen, 1 Läsion auf Höhe C3/C4 INDENT 06/2012 Lumbalpunktion und Serum: TSH normal, ANA, CCP-Ak, Anti-Streptolysin, c-ANCA, p-ANCA, Glykoprotein 1, Hepatitis, HIV, Borrelien, T. pallidum negativ, unauffällige Elektrophorese, OKB im Liquor positiv (Fr. Dr. Strasser in Solothurn) INDENT 12/2014 MRI Gehirn und WS: 1 neue Läsion im rechten frontalen Marklager, multiple T2-hyperintense Läsionen cervical ab C3, alle Läsionen ohne KM-Aufnahme  INDENT 03/2016 MRI Gehirn und Wirbelsäule: stationärer Befund zu 12/2014 INDENT 03/2017 MRI Gehirn: stationärer Befund INDENT 03/2018 MRI Neuroachse: stationärer Befund INDENT AK-Diagnostik: negativ für HBV, HCV, HIV INDENT Therapie:  INDENT 03/2015 - 12/2017 Fampyra® 10 mg 1-0-1 INDENT Sativex® Spray  INDENT aktuell Ocrelizumab seit 02/2018, Erstgabe am 06.02.2018 300 mg, Zweiter Teil Erstgabe am 20.02.2018, 2. Zyklus am 17.08.2018, 3. Zyklus am 19.02.2019 INDENT 02/2018: CD20-Antikörper-Therapie-assoziierte subakute Aggravation neurologischer Symptome unter Ocrelizumab INDENT Medrol 500 mg p.o. über 4 Tage vom 22.-25.02.2018 Migräne ohne Aura (ICHD-III beta 1.1) anamnestisch: aktuelle Frequenz: alle 14 Tage für 24-48 Stunden, bilateral meist rechtsbetont und frontal  lokalisierte pulsierende Kopfschmerzen starker Intensität, begleitet von Nausea und Erbrechen, Photo- und Phonophobie\n",
      "Label relapsing_remitting_multiple_sclerosis\n",
      "Predicted secondary_progressive_multiple_sclerosis\n",
      "Text:  Schubförmige Multiple Sklerose ED 10/2020\n",
      "Label secondary_progressive_multiple_sclerosis\n",
      "Predicted relapsing_remitting_multiple_sclerosis\n",
      "Text:  Schubförmige Multiple Sklerose (ED 1990), EDSS 6.5, V.a. sekundär-progredienten Verlauf INDENT aktuell: seit Ende 03/2018 aufgrund schwerer Belastungssituation am Arbeitsplatz zunehmende schmerzhafte Krämpfe aller Extremitäten rechts- und beinbetont, Zunahme der Beinschwäche, zusätzlich Gedächtnis- und Konzentrationsstörungen, am Eintrittstag bei allgemeinem Schwächegefühl nicht mehr aufstehen können INDENT anamnestisch: Gehstrecke zuvor 150 m mit Gehhilfe, vermehrte Sturzanfälligkeit, Harninkontinenz, leichte Fatigue-Symptomatik INDENT klinisch: rechts- und beinbetonte spastische Tetraparese, Gang- und Standataxie, Sensibilitätsminderung der rechten Extremität, neurogene Blasenfunktionsstörung  INDENT Verlauf: INDENT EM: Müdigkeit schon als Kind INDENT ED 1990: beide Beine plötzlich gelähmt INDENT 05/2009: deutliche Verschlechterung der vorbestehenden Gang- und Standunsicherheit durch starken Schwankschwindel INDENT 2010-2011: Gehhilfe INDENT 2012: Valens INDENT 2016: Gehstrecke 150m mit Gehhilfe INDENT 11/2016: Schub mit linksseitiger sensomotorischer Hemisymptomatik INDENT 2017: Valens INDENT 06/2017: letzter Schub ausgelöst durch Kieferhöhlenentzündung INDENT Diagnostik: INDENT 1990: Lumbalpunktion (Dr. Bevermeier) INDENT 03/2015 MRI spinal: T2-Läsionen im Myelon auf Höhe C1, C3, und C5/6, bei C3 und C5/6 ist das Myelon zusätzlich atroph, im STIR-Bild zeigen sich weitere Signalveränderungen im hochthorakalen Myelon, keine KM-Aufnahme INDENT 11/2016 cMRI: Nachweis von multiplen Signalveränderungen im Gehirn, passend zu Entmarkungen im Rahmen der bekannten MS, keine KM-Anreicherung, Diffusionsstörungen kortikal frontal rechts ohne ADC-Senkung, dese Diffusionsstörung ist bereits am 23.01.2014 in gleicher Art und Weise sichtbar gewesen, normal weite intrakrankielle Liquorräume, keine Veränderugen zu 23.01.2014 INDENT 01/2018: HBV-, HCV- und HIV Serologie negativ INDENT MRI Neuroachse vom 25.05.2018: leichte Progredienz der intrazerebralen MS-Plaques im Centrum semiovale beidseitig, im Pons, im Vermis links und am Forceps major rechts, keine PML, deutliche Beteiligung des gesamten mitabgebildeten Myelons wobei gegenüber der Voruntersuchung MR-HWS keine wesentliche Progredienz besteht, auf Höhe HWK 4 leicht zunehmende Signalintensität und auf Höhe BWK 4 auf neu aufgetretene Plaques, segmental geringe Myelonatrophie INDENT Therapie: INDENT Betainterferon INDENT 2009: Avonex (nach wenigen Tagen wegen UAW abgesetzt) INDENT 2012: Copaxone (nach wenigen Tagen wegen UAW abgesetzt) INDENT 2013-2016: mit Unterbrechungen Tecfidera (UAW Übelkeit, Schwindel, Grippesymptomatik) INDENT zwischen 2015 und 2015 6x Kortisonstosstherapie INDENT seit 02/2018: Rituximab 375 mg/kg KG (07.02.2018: 656 mg) INDENT 05/2018 Umstellung vom 4-Amynopiridin auf Fampyra 20 mg/d\n",
      "Label relapsing_remitting_multiple_sclerosis\n",
      "Predicted secondary_progressive_multiple_sclerosis\n",
      "Text:  14mm grosser Rundherd im linken Oberlappen, DD Hamartom, Zyste mit Pilzball, Tuberkulom, benigner Tumor INDENT Aktuell:  INDENT CT Thorax vom 22.12.2017: Verglichen mit der letzten vorliegenden CT-Voruntersuchung vom 11.01.2013 sowie in Zusammenschau mit der MR-Voruntersuchung der Wirbelsäule vom 21.03.2017 im längerfristigen Verlauf minim grössenprogredienter, zentral partiell lufthaltiger, randständig partiell verkalkter pulmonaler Nodulus apiko-posterior im Oberlappen links, in erster Linie unspezifisch/postentzündlich.  INDENT In der aktuellen Untersuchung kein Korrelat zu den in der MR-Voruntersuchung beschriebenen zwei neuen Läsionen zentral rechts auf Höhe BWK 7.  INDENT MRI 21.03.2017: Bekannter Lungenrundherd im Oberlappen links. Zwei neue im Unterlappen rechts. Diesbezüglich erneute Verlaufskontrolle mittels CT-Thorax empfohlen.  INDENT Spirometrie mit Diffusion vom 06.11.2017: normale Spirometrie und Diffusionskapazität  INDENT CT Thorax vom 11.01.2013: Grössenstationärer Rundherd Oberlappen links jedoch mit zunehmenden zentralen Lufteinschlüssen und kleinsten Verkalkungen- somit a. e. weiter benigne und in Resorption begriffen.  Weiterer kurzfristiger Verlauf sinnvoll.\n",
      "Label relapsing_remitting_multiple_sclerosis\n",
      "Predicted primary_progressive_multiple_sclerosis\n",
      "Text:  INDENT 39-jährige Patientin mit primärer Sterilität seit 15 Jahren (1998) INDENT Multiple Sklerose, schubförmiger Verlauf mit Residuen (ED: 9/2004) INDENT Beim Partner Verdacht auf Subfertilität bei hypo- bis normogonadotropem Hypogonadismus, Status nach off label use Clomifen 50 mg jeden 2. Tag und anschliessender probatorischer Spermienaufbereitung\n",
      "Label primary_progressive_multiple_sclerosis\n",
      "Predicted relapsing_remitting_multiple_sclerosis\n",
      "Text:  Primär-progrediente Multiple Sklerose, EM 1987, ED 1994, EDSS 8.0 Anamnestisch: beinbetonten, teils nächtliche, teils durch minime Blasenfüllung auftretende Spastiken der Beine, Feinmotorikstörungen der Hände mit zunehmnder Verschlechterung, Fatigue Klinisch: bein- und rechtssbetonte spastische Tetraparese, neurogene Blasenstörung mit suprapubischen DK, Anus präter, Feinmotorikstörung, Fatigue Verlauf:  INDENT 1987: Gefühlsstörungen (Hypästhesie) beim Laufen in den Beinen, Gangstörungen mit Koordinationsproblemen und Stolpern INDENT 1992 Trigeminusneurie rechts 2. und 3. Nerv INDENT 1994: ED Schulthessklinik, 20 km laufen kein Problem INDENT Ende 1990er Jahre 2-3 km Laufen mit Pausen INDENT 2004: 100-200 m mit einseitiger Gehhilfe INDENT ab 09/2004: nach dem Einsetzten der Baclofenpumpe Rollstuhlpflichtigkeit INDENT Port-a-Cath- Einlage im 04/18 Diagnostik: INDENT 1994: LP mit MS-typischen Bild INDENT MRI Balgrist (2016-2017)  INDENT 26.11.2015 MRI HWS/BWS: Längerstreckige zervikale Myelopathie mit begleitender Myelonatrophie, beginnend auf Höhe C3/4 bis C6 ohne sichtbare pathologische KM-Anreicherung. Neu aufgetretende kleine fokale Flüssigkeits-isointense Läsion im Funikullus posterior rechts von 1,5mm auf Höhe C4/5. Weiterhin langstreckige thorakale Myelopathie von C7-L1 sich ausdehnend. In der sagittalen T2w sichtbar. INDENT cMRI 28.7.2016: Periventrikuläre, subkortikale und infratentorielle Marklagerveränderungen. Im Vergleich zu 05/2011 keine progredienn im Verlauf. Black holes in der T1-Sequenz. Kein Nachweis einer Schrankenstörung. Im angeschnittenen zervikalen Myelon bekanntermassen ausgeprägte myelopathische Veränderungen. INDENT cMRI und spinal 09/2017: Soweit mit der Voruntersuchung vergleichbar in etwa unverändertes Ausmass der nicht-aktiven intrazerebralen MS Läsionen. Etwas progrediente Hirnatrophie. INDENT cMRI vom 09/18: im Vergleich zu MRI 2016 neue demyelinisierende Läsion im Pons links.  Therapie: INDENT 1990er Jahre: Copaxone INDENT 1990er Jahre: Betaferone INDENT 12/2004: 6.Zyklen Mitoxantron INDENT 20.09.2004: Baclofen-Pumpe mit Katheterspitze Th10  INDENT seit 2004: keine immunmodulatorische Therapie INDENT am 16.03.2018. 1. Gabe von Ocrevus 300mg, Teil 2 der ersten Gabe 300 mg am 29.03.2018 INDENT aktuell: 2. Gabe von Ocrevus 600mg am 02.10.2018 Neurogene Blasenfunktionsstörung bei Diagnose 1 V.a. Arterielle Hypertonie St.n. laparoskopischer Sigmaresektion mit Anlage einer endständigen Deszendostomie sowie Implantation eines intraperitoniealen IPST-Netzes 10/2016 bei therapierefraktärer neurogener Darmfunktionsstörung im Rahmen Diagnose 1 Osteoporose Partieller Peroxydase-Mangel der Leukozyten INDENT Cave: falsch tiefe Neutrophilen-Zahl bei automatischer Differenzierung, weshalb das Blutbild im  Rahmen der zytostatischen Behandlung mittels manueller Differenzierung überprüft werden muss\n"
     ]
    }
   ],
   "source": [
    "import pandas as pd\n",
    "df_test = pd.read_csv(os.path.join(paths.DATA_PATH_PREPROCESSED,'ms-diag/ms-diag_clean_test.csv'))\n",
    "for i, label in enumerate(labels):\n",
    "    if label != predictions[i]:\n",
    "        print(\"Label\", id2label[label])\n",
    "        print(\"Predicted\", id2label[predictions[i]])\n",
    "        print(\"Text: \", df_test.iloc[i][\"text\"])"
   ]
  }
 ],
 "metadata": {
  "kernelspec": {
   "display_name": "Python 3 (ipykernel)",
   "language": "python",
   "name": "python3"
  },
  "language_info": {
   "codemirror_mode": {
    "name": "ipython",
    "version": 3
   },
   "file_extension": ".py",
   "mimetype": "text/x-python",
   "name": "python",
   "nbconvert_exporter": "python",
   "pygments_lexer": "ipython3",
   "version": "3.9.18"
  }
 },
 "nbformat": 4,
 "nbformat_minor": 4
}

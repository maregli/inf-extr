{
 "cells": [
  {
   "cell_type": "code",
   "execution_count": 28,
   "metadata": {},
   "outputs": [],
   "source": [
    "from pydantic import BaseModel, Field\n",
    "from enum import Enum, auto"
   ]
  },
  {
   "cell_type": "code",
   "execution_count": 63,
   "metadata": {},
   "outputs": [
    {
     "name": "stdout",
     "output_type": "stream",
     "text": [
      "{\"medications\":[{\"name\":\"Avonex\",\"unit\":\"mg\",\"amount\":100.0,\"intake\":\"1-0-0\"},{\"name\":\"Copaxone\",\"unit\":\"mg\",\"amount\":20.0,\"intake\":\"-99\"}]}\n"
     ]
    }
   ],
   "source": [
    "medication_names = [\n",
    "    \"Avonex\",\n",
    "    \"Betaferon\",\n",
    "    \"Plegridy\",\n",
    "    \"Copaxone\",\n",
    "    \"Glatiramyl\",\n",
    "    \"Aubagio\",\n",
    "    \"Tecfidera\",\n",
    "    \"Gilenya\",\n",
    "    \"Tysabri\",\n",
    "    \"Ocrevus\",\n",
    "    \"Lemtrada\",\n",
    "    \"Novantron\",\n",
    "    \"Endoxan\",\n",
    "    \"MabThera\",\n",
    "    \"Imurek\",\n",
    "    \"Mayzent\",\n",
    "    \"Medrol\",\n",
    "    \"Solu-Medrol\",\n",
    "    \"Solumedrol\",\n",
    "    \"Cortison\",\n",
    "    \"Interferon beta-1a\",\n",
    "    \"Interferon beta-1b\",\n",
    "    \"Peginterferon beta-1a\",\n",
    "    \"Glatirameracetat\",\n",
    "    \"Teriflunomid\",\n",
    "    \"Dimethylfumarat\",\n",
    "    \"Fingolimod\",\n",
    "    \"Natalizumab\",\n",
    "    \"Ocrelizumab\",\n",
    "    \"Alemtuzumab\",\n",
    "    \"Mitoxantron\",\n",
    "    \"Cyclophosphamid\",\n",
    "    \"Rituximab\",\n",
    "    \"Azathioprin\",\n",
    "    \"Siponimod\",\n",
    "    \"Glucocorticosteroid\"\n",
    "]\n",
    "\n",
    "medication_keys = [medication.replace(\"-\", \"_\").replace(\" \", \"_\").lower() for medication in medication_names]\n",
    "\n",
    "MedicationName = Enum(\"MedicationName\", [(key, value) for key, value in zip(medication_keys, medication_names)])\n",
    "\n",
    "class MedicationUnit(str, Enum):\n",
    "    mg = \"mg\"\n",
    "    ug = \"ug\"\n",
    "    g = \"g\"\n",
    "\n",
    "class Medication(BaseModel):\n",
    "    name: MedicationName\n",
    "    unit: MedicationUnit\n",
    "    amount: float\n",
    "    intake: str = Field(pattern=r'^\\d+(\\.\\d{1,2})?-\\d+(\\.\\d{1,2})?-\\d+(\\.\\d{1,2})?(-\\d+(\\.\\d{1,2})?)?|(-99)$')\n",
    "\n",
    "\n",
    "class MedicationList(BaseModel):\n",
    "    medications: list[Medication]\n",
    "\n",
    "# Instantiate Medication\n",
    "medication1 = Medication(\n",
    "    name=\"Avonex\",\n",
    "    unit=\"mg\",\n",
    "    amount=100.0,\n",
    "    intake=\"1-0-0\"\n",
    ")\n",
    "\n",
    "medication2 = Medication(\n",
    "    name=MedicationName.copaxone,\n",
    "    unit=MedicationUnit.mg,\n",
    "    amount=20.0,\n",
    "    intake=\"-99\"\n",
    ")\n",
    "\n",
    "medication_list = MedicationList(medications=[medication1, medication2])\n",
    "\n",
    "print(medication_list.json())"
   ]
  }
 ],
 "metadata": {
  "kernelspec": {
   "display_name": "inf-extr-BlECHwmE-py3.10",
   "language": "python",
   "name": "python3"
  },
  "language_info": {
   "codemirror_mode": {
    "name": "ipython",
    "version": 3
   },
   "file_extension": ".py",
   "mimetype": "text/x-python",
   "name": "python",
   "nbconvert_exporter": "python",
   "pygments_lexer": "ipython3",
   "version": "3.10.12"
  }
 },
 "nbformat": 4,
 "nbformat_minor": 2
}

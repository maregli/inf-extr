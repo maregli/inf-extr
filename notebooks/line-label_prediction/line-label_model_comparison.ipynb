{
 "cells": [
  {
   "cell_type": "code",
   "execution_count": null,
   "metadata": {},
   "outputs": [],
   "source": [
    "from datasets import DatasetDict\n",
    "import torch\n",
    "import umap\n",
    "import pandas as pd\n",
    "import numpy as np\n",
    "import os\n",
    "import sys\n",
    "sys.path.append(os.getcwd()+\"/../..\")\n",
    "from src import paths\n",
    "import matplotlib.pyplot as plt\n",
    "from sklearn.decomposition import PCA\n",
    "from sklearn.metrics import f1_score, precision_score, recall_score, ConfusionMatrixDisplay\n"
   ]
  },
  {
   "cell_type": "code",
   "execution_count": null,
   "metadata": {},
   "outputs": [],
   "source": [
    "def plot_embeddings(embeddings: torch.tensor, labels:list, title = \"plot\", method=\"pca\", aggregation=\"mean\"):\n",
    "    \"\"\"\n",
    "    Plot embeddings using PCA or UMAP\n",
    "    \"\"\"\n",
    "\n",
    "    # Create a PCA object\n",
    "    if method == \"umap\":\n",
    "        reducer = umap.UMAP()\n",
    "    elif method == \"pca\":\n",
    "        reducer = PCA(n_components=2)\n",
    "    elif method == \"tsne\":\n",
    "        reducer = TSNE(n_components=2, perplexity=5, n_iter=250)\n",
    "    else:\n",
    "        raise ValueError(\"Reducer Method not implemented\")\n",
    "\n",
    "    # Aggregate embeddings along sequence dimension\n",
    "    if aggregation == \"mean\":\n",
    "        embeddings = torch.mean(embeddings, dim=1)\n",
    "    elif aggregation == \"cls\":\n",
    "        embeddings = embeddings[:,0,:]\n",
    "    else:\n",
    "        raise ValueError(\"Aggregation method not implemented\")\n",
    "\n",
    "    # Fit and transform the embeddings using the PCA object\n",
    "    principalComponents = reducer.fit_transform(embeddings)\n",
    "\n",
    "    # Create a dataframe with the embeddings and the corresponding labels\n",
    "    df_embeddings = pd.DataFrame(principalComponents, columns=['x', 'y'])\n",
    "    df_embeddings['label'] = labels\n",
    "    \n",
    "    for label in df_embeddings['label'].unique():\n",
    "        _df = df_embeddings[df_embeddings['label'] == label]\n",
    "        plt.scatter(_df['x'], _df['y'], alpha=0.5)\n",
    "        plt.legend(df_embeddings['label'].unique())\n",
    "\n",
    "    # Add a title and show the plot\n",
    "    plt.title(title)\n",
    "\n",
    "    plt.show()"
   ]
  },
  {
   "cell_type": "code",
   "execution_count": null,
   "metadata": {},
   "outputs": [],
   "source": [
    "# Load embeddings\n",
    "embeddings = torch.load(paths.DATA_PATH_PREPROCESSED/'line-label_pred'/'line-label-medBERT-embeddings_fine-tuned.pt')\n",
    "\n",
    "# Load predictions\n",
    "predictions = torch.load(paths.DATA_PATH_PREPROCESSED/'line-label_pred'/'line-label-medBERT-predictions_fine-tuned.pt')\n",
    "\n",
    "# Load dataset\n",
    "dataset = DatasetDict.load_from_disk(paths.DATA_PATH_PREPROCESSED/'line_labelling_clean_dataset')\n",
    "\n",
    "# Import label dict\n",
    "import json\n",
    "with open(os.path.join(paths.DATA_PATH_PREPROCESSED, \"line_labelling_clean_class_mapping.json\"), \"r\") as f:\n",
    "    label_dict = json.load(f)"
   ]
  },
  {
   "cell_type": "code",
   "execution_count": null,
   "metadata": {},
   "outputs": [],
   "source": [
    "# Accuracy\n",
    "preds = np.argmax(predictions.predictions, axis=1)\n",
    "labels = np.argmax(predictions.label_ids, axis=1)\n",
    "\n",
    "print(f\"Accuracy: {np.sum(preds == labels) / len(labels)}\")"
   ]
  },
  {
   "cell_type": "code",
   "execution_count": null,
   "metadata": {},
   "outputs": [],
   "source": [
    "# f1 score, precision, recall\n",
    "print(f\"F1 Score: {f1_score(labels, preds, average='weighted')}\")\n",
    "print(f\"Precision: {precision_score(labels, preds, average='weighted')}\")\n",
    "print(f\"Recall: {recall_score(labels, preds, average='weighted')}\")"
   ]
  },
  {
   "cell_type": "code",
   "execution_count": null,
   "metadata": {},
   "outputs": [],
   "source": [
    "# Confusion Matrix\n",
    "ConfusionMatrixDisplay.from_predictions(labels, preds, xticks_rotation=90, display_labels=list(label_dict.values()))"
   ]
  },
  {
   "cell_type": "code",
   "execution_count": null,
   "metadata": {},
   "outputs": [],
   "source": [
    "# Plot embeddings\n",
    "plot_embeddings(embeddings=embeddings, labels=dataset[\"test\"][\"class_agg\"], title=\"medBERT embeddings PCA\", method=\"pca\", aggregation=\"mean\")"
   ]
  },
  {
   "cell_type": "code",
   "execution_count": null,
   "metadata": {},
   "outputs": [],
   "source": [
    "# Plot embeddings UMAP\n",
    "plot_embeddings(embeddings=embeddings, labels=dataset[\"test\"][\"class_agg\"], title=\"medBERT embeddings UMAP\", method=\"umap\", aggregation=\"mean\")"
   ]
  },
  {
   "cell_type": "markdown",
   "metadata": {},
   "source": [
    "## Bert base multilingual cased"
   ]
  },
  {
   "cell_type": "code",
   "execution_count": null,
   "metadata": {},
   "outputs": [],
   "source": [
    "# Load embeddings\n",
    "embeddings = torch.load(paths.DATA_PATH_PREPROCESSED/'line-label_pred'/'line-label-bert-multilingual-embeddings_fine-tuned.pt')\n",
    "\n",
    "# Load predictions\n",
    "predictions = torch.load(paths.DATA_PATH_PREPROCESSED/'line-label_pred'/'line-label-bert-multilingual-predictions_fine-tuned.pt')"
   ]
  },
  {
   "cell_type": "code",
   "execution_count": null,
   "metadata": {},
   "outputs": [],
   "source": [
    "# Accuracy\n",
    "preds = np.argmax(predictions.predictions, axis=1)\n",
    "labels = np.argmax(predictions.label_ids, axis=1)\n",
    "\n",
    "print(f\"Accuracy: {np.sum(preds == labels) / len(labels)}\")"
   ]
  },
  {
   "cell_type": "code",
   "execution_count": null,
   "metadata": {},
   "outputs": [],
   "source": [
    "# f1 score, precision, recall\n",
    "print(f\"F1 Score: {f1_score(labels, preds, average='weighted')}\")\n",
    "print(f\"Precision: {precision_score(labels, preds, average='weighted')}\")\n",
    "print(f\"Recall: {recall_score(labels, preds, average='weighted')}\")"
   ]
  },
  {
   "cell_type": "code",
   "execution_count": null,
   "metadata": {},
   "outputs": [],
   "source": [
    "# Confusion Matrix\n",
    "ConfusionMatrixDisplay.from_predictions(labels, preds, xticks_rotation=90, display_labels=list(label_dict.values()))"
   ]
  },
  {
   "cell_type": "code",
   "execution_count": null,
   "metadata": {},
   "outputs": [],
   "source": [
    "# Plot embeddings\n",
    "plot_embeddings(embeddings=embeddings, labels=dataset[\"test\"][\"class_agg\"], title=\"medBERT embeddings PCA\", method=\"pca\", aggregation=\"mean\")"
   ]
  },
  {
   "cell_type": "code",
   "execution_count": null,
   "metadata": {},
   "outputs": [],
   "source": [
    "# Plot embeddings UMAP\n",
    "plot_embeddings(embeddings=embeddings, labels=dataset[\"test\"][\"class_agg\"], title=\"medBERT embeddings UMAP\", method=\"umap\", aggregation=\"mean\")"
   ]
  }
 ],
 "metadata": {
  "kernelspec": {
   "display_name": "inf-extr",
   "language": "python",
   "name": "python3"
  },
  "language_info": {
   "codemirror_mode": {
    "name": "ipython",
    "version": 3
   },
   "file_extension": ".py",
   "mimetype": "text/x-python",
   "name": "python",
   "nbconvert_exporter": "python",
   "pygments_lexer": "ipython3",
   "version": "3.9.18"
  }
 },
 "nbformat": 4,
 "nbformat_minor": 2
}

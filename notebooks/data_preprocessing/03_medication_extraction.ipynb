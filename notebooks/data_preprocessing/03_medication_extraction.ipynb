{
 "cells": [
  {
   "cell_type": "code",
   "execution_count": null,
   "metadata": {},
   "outputs": [],
   "source": [
    "import pandas as pd\n",
    "\n",
    "import sys\n",
    "import os\n",
    "sys.path.append(os.getcwd()+\"/../..\")\n",
    "from src import paths\n",
    "\n",
    "from datasets import Dataset\n",
    "\n",
    "import json"
   ]
  },
  {
   "cell_type": "code",
   "execution_count": null,
   "metadata": {},
   "outputs": [],
   "source": [
    "# Medication file\n",
    "kisim_medication = pd.read_csv(paths.DATA_PATH_SEANTIS/\"kisim_medication.csv\")\n",
    "\n",
    "# Drop nan values\n",
    "kisim_medication = kisim_medication.dropna(subset=[\"medication_name\"])\n",
    "\n",
    "# Select columns\n",
    "kisim_medication = kisim_medication[[\"medication_name\", \"research_id\"]].rename(columns={\"medication_name\": \"text\", \"research_id\": \"rid\"})\n",
    "\n",
    "# Remove empty strings\n",
    "kisim_medication = kisim_medication[kisim_medication[\"text\"] != \"\"]\n",
    "\n",
    "# Select random 100 rows\n",
    "kisim_medication_sample = kisim_medication.sample(100, random_state=42)\n",
    "\n",
    "for index, row in kisim_medication_sample.iterrows():\n",
    "    print(row[\"text\"])\n",
    "    print(50*\"-\")"
   ]
  },
  {
   "cell_type": "markdown",
   "metadata": {},
   "source": [
    "Some entries don't have medications in them but stuff like: \"Bauchgurt\" or \"Blutdruckmessgerät\".\n",
    "Other entries don't have a full medication intake, like \"Sirdalud MR (Ret Kaps 6 mg)\""
   ]
  },
  {
   "cell_type": "code",
   "execution_count": null,
   "metadata": {},
   "outputs": [],
   "source": [
    "# Create Dataset\n",
    "kisim_sample = Dataset.from_dict({\n",
    "    \"text\": kisim_medication_sample[\"text\"],\n",
    "    \"rid\": kisim_medication_sample[\"rid\"],\n",
    "})"
   ]
  },
  {
   "cell_type": "code",
   "execution_count": null,
   "metadata": {},
   "outputs": [],
   "source": [
    "# Save datasets\n",
    "os.makedirs(paths.DATA_PATH_PREPROCESSED/\"medication\", exist_ok=True)\n",
    "kisim_medication_sample.to_csv(paths.DATA_PATH_PREPROCESSED/\"medication/kisim_medication_sample.csv\", index=False)\n",
    "kisim_sample.save_to_disk(paths.DATA_PATH_PREPROCESSED/\"medication/kisim_medication_sample\")"
   ]
  },
  {
   "cell_type": "markdown",
   "metadata": {},
   "source": [
    "## Prompting with Outlines\n",
    "\n",
    "The following part is used to create the files for the prompting task with outlines. Write task instruction, system prompt and examples."
   ]
  },
  {
   "cell_type": "code",
   "execution_count": null,
   "metadata": {},
   "outputs": [],
   "source": [
    "# Look at different medication formats:\n",
    "for idx, text in enumerate(kisim_sample[\"text\"]):\n",
    "    print(5*\"---\")\n",
    "    print(idx)\n",
    "    print(text)"
   ]
  },
  {
   "cell_type": "code",
   "execution_count": null,
   "metadata": {},
   "outputs": [],
   "source": [
    "# Prompt\n",
    "task_instruction =\"\"\"Your task is to extract specific information from medication descriptions. \n",
    "The input for this task is a list of medication descriptions, a report or doctors recipe, and the output should be a complete list of dictionaries (one per medication) with the following keys:\n",
    "- name (str): The name of the medication.\n",
    "- dose (float): The dose of the medication.\n",
    "- dose_unit (str): The unit of the dose.\n",
    "- morning (float): The dose to be taken in the morning.\n",
    "- noon (float): The dose to be taken at noon.\n",
    "- evening (float): The dose to be taken in the evening.\n",
    "- night (float): The dose to be taken at night.\n",
    "- extra (str): Any additional information about the medication, especially its intake.\n",
    "\n",
    "The output format should look like this:\n",
    "[\n",
    "    {name: \"MedicationName1\", dose: MedicationDose1, dose_unit: \"MedicationDoseUnit1\", morning: MorningDose1, noon: NoonDose1, evening: EveningDose1, night: NightDose1, extra: \"ExtraInfo1\"},\n",
    "    {name: \"MedicationName2\", dose: MedicationDose2, dose_unit: \"MedicationDoseUnit2\", morning: MorningDose2, noon: NoonDose2, evening: EveningDose2, night: NightDose2, extra: \"ExtraInfo2\"},\n",
    "    ...\n",
    "]\n",
    "\n",
    "- The MedicationName can consist of multiple words with whitespace and should be returned as a single string. If you don't find any mentions of medications or drugs, it should be represented as \"unknown\".\n",
    "- The MedicationDose is a float value. If the MedicationDose is not detected, it should be represented as -99.\n",
    "- The MedicationDoseUnit can have various formats (e.g. mg, ug, g, stk, ml, tropfen, IE/ml, mmol, unknown, etc.). If the MedicationDoseUnit is not detected, it should be represented as \"unknown\".\n",
    "- The intake doses over the day can be given several ways:\n",
    "    - If the amount of doses is given in the form of float-float-float, it corresponds to MorningDose-NoonDose-EveningDose with NightDose being 0.\n",
    "    - If the amount of doses is given in the form float-float-float-float, it corresponds to MorningDose-NoonDose-EveningDose-NightDose.\n",
    "    - If keywords like \"Morgen\", \"Mittag\", \"Abend\", \"Nacht\" are used, the corresponding dose should be extracted.\n",
    "    - If an intake schema like the ones above is not detected, MorningDose, NoonDose, EveningDose and NightDose should all be represented as -99.\n",
    "- The extra field can contain any additional information about the medication, like its intake (e.g. daily, for 2 weeks). This field can be empty if no additional information is found. \n",
    "\"\"\"\n",
    "\n",
    "system_prompt = \"\"\"You are a helpful, respectful and honest assistant. Always answer as helpfully as possible, while being safe.\n",
    "Your answers should not include any harmful, unethical, racist, sexist, toxic, dangerous, or illegal content.\n",
    "Please ensure that your responses are socially unbiased and positive in nature.\n",
    "If a question does not makeany sense, or is not factually coherent, explain why instead of answering something not correct. \n",
    "If you don’t know the answer to a question, please don’t share false information.\n",
    "\"\"\"\n",
    "\n",
    "with open(paths.DATA_PATH_PREPROCESSED/\"medication/task_instruction.txt\", \"w\") as file:\n",
    "    file.write(task_instruction)\n",
    "\n",
    "with open(paths.DATA_PATH_PREPROCESSED/\"medication/system_prompt.txt\", \"w\") as file:\n",
    "    file.write(system_prompt)"
   ]
  },
  {
   "cell_type": "code",
   "execution_count": null,
   "metadata": {},
   "outputs": [],
   "source": [
    "# Examples for few shot based on the text formats I have seen\n",
    "examples = [{\"text\": \"1 OP Cipralex 20 mg 0.5-0-0 für 4 Tag\\n 3 OP Propranolol 35g 3-0-1-0\", \"labels\" : '[{name: \"Cipralex\", dose: 20, dose_unit: \"mg\", morning: 0.5, noon: 0, evening: 0, night: 0, extra: \"für 4 Tage\"}, {name: \"Propranolol\", dose: 35, dose_unit: \"g\", morning: 3, noon: 0, evening: 1, night: 1, extra: \"\"}]'},\n",
    "           {\"text\": \"Blutdruckmessgerät über einen Zeitraum von 3 Wochen\", \"labels\": '[{name: \"Blutdruckmessgerät\", dose: 1, dose_unit: \"unknown\", morning: -99, noon: -99, evening: -99, night: -99, extra: \"3 Wochen\"}]'},\n",
    "           {\"text\": \"Rezept für Propranolol, einmal täglich, 0.5mg\", \"labels\": '[{name: \"Propranolol\", dose: 0.5, dose_unit: \"mg\", morning: -99, noon: -99, evening: -99, night: -99, extra: \"einmal täglich\"}]'},\n",
    "           {\"text\": \"Gültigkeit bis Sommer 2024\", \"labels\": '[{name: \"unknown\", dose: -99, dose_unit: \"unknown\", morning: -99, noon: -99, evening: -99, night: -99, extra: \"bis Sommer 2024\"}]'},\n",
    "           {\"text\": \"1 Tablette Aspirin 100 mg täglich nach dem Frühstück\", \"labels\": '[{name: \"Aspirin\", dose: 100, dose_unit: \"mg\", morning: 1, noon: 0, evening: 0, night: 0, extra: \"täglich nach dem Frühstück\"}]'},\n",
    "           {\"text\": \"2 Sprühstöße Symbicort 2x täglich morgens und abends\", \"labels\": '[{name: \"Symbicort\",  dose: 2, dose_unit: \"Sprühstöße\", morning: 1, noon: 0, evening: 1, night: 0, extra: \"2x2 täglich morgens und abends\"}]'},\n",
    "           {\"text\": \"Ibuprofen 400mg zur Nacht\", \"labels\": '[{name: \"Ibuprofen\", dose: 400, dose_unit: \"mg\", morning: 0, noon: 0, evening: 0, night: 1, extra: \"zur Nacht\"}]'},\n",
    "           {\"text\": \"Levocetirizin 5 mg 1-0-1\", \"labels\": '[{name: \"Levocetirizin\", dose: 5, dose_unit: \"mg\", morning: 1, noon: 0, evening: 1, night: 0, extra: \"\"}]'},\n",
    "            {\"text\": \"1 Tablette Pantoprazol 40 mg morgens\", \"labels\": '[{name: \"Pantoprazol\", dose: 40, dose_unit: \"mg\", morning: 1, noon: 0, evening: 0, night: 0, extra: \"morgens\"}]'},\n",
    "            {\"text\": \"Stützstrümpfe beidseitig nach Bedarf\", \"labels\": '[{name: \"Stützstrümpfe\", dose: 2, dose_unit: \"unknown\", morning: -99, noon: -99, evening: -99, night: -99, extra: \"nach Bedarf\"}]'},\n",
    "]\n",
    "           \n",
    "# Save dictionary\n",
    "with open(paths.DATA_PATH_PREPROCESSED/\"medication/examples.json\", \"w\") as file:\n",
    "    json.dump(examples, file, indent=4)"
   ]
  }
 ],
 "metadata": {
  "kernelspec": {
   "display_name": "Python 3 (ipykernel)",
   "language": "python",
   "name": "python3"
  },
  "language_info": {
   "codemirror_mode": {
    "name": "ipython",
    "version": 3
   },
   "file_extension": ".py",
   "mimetype": "text/x-python",
   "name": "python",
   "nbconvert_exporter": "python",
   "pygments_lexer": "ipython3",
   "version": "3.11.4"
  }
 },
 "nbformat": 4,
 "nbformat_minor": 4
}

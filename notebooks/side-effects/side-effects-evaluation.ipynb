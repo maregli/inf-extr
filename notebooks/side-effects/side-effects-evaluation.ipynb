{
 "cells": [
  {
   "cell_type": "code",
   "execution_count": 862,
   "metadata": {},
   "outputs": [],
   "source": [
    "import sys\n",
    "import os\n",
    "sys.path.append(os.getcwd()+\"/../..\")\n",
    "from src import paths\n",
    "\n",
    "from src.utils import get_default_pydantic_model, SideEffect, SideEffectList\n",
    "\n",
    "import pandas as pd\n",
    "import torch\n",
    "\n",
    "import json\n",
    "\n",
    "import numpy as np\n",
    "\n",
    "from bert_score import BERTScorer"
   ]
  },
  {
   "cell_type": "code",
   "execution_count": 863,
   "metadata": {},
   "outputs": [
    {
     "name": "stderr",
     "output_type": "stream",
     "text": [
      "Some weights of BertModel were not initialized from the model checkpoint at /mnt/c/Users/marc_/OneDrive/ETH/MSC_Thesis/inf-extr/resources/models/medbert-512 and are newly initialized: ['bert.pooler.dense.bias', 'bert.pooler.dense.weight']\n",
      "You should probably TRAIN this model on a down-stream task to be able to use it for predictions and inference.\n"
     ]
    }
   ],
   "source": [
    "with open(paths.DATA_PATH_PREPROCESSED/\"side-effects/examples.json\", \"r\") as f:\n",
    "        examples = json.load(f)\n",
    "\n",
    "# Load examples to check if model was confused\n",
    "examples = [json.loads(e[\"labels\"]) for e in examples]\n",
    "medication_side_effects = []\n",
    "for item in examples:\n",
    "    for med_effect_dict in item:\n",
    "        medication_side_effects.append((med_effect_dict['medication'].lower(), med_effect_dict['side_effect'].lower()))\n",
    "\n",
    "medication_side_effects = list(set(medication_side_effects) - set((\"unknown\", \"unknown\")))\n",
    "\n",
    "default_model = get_default_pydantic_model(\"side_effects\")\n",
    "\n",
    "scorer = BERTScorer(model_type=os.path.join(paths.MODEL_PATH, \"medbert-512\"), num_layers=4)"
   ]
  },
  {
   "cell_type": "code",
   "execution_count": 864,
   "metadata": {},
   "outputs": [],
   "source": [
    "def preprocess_group(grouped_df: pd.DataFrame)->pd.DataFrame:\n",
    "    \"\"\"\n",
    "    Preprocess a group of rows (grouped by obs index) from the dataframe. The preprocessing consists of:\n",
    "    - Fusing all the side effects per medication with \",\" (so only one row per medication is left)\n",
    "    - Replacing the medication name and side effects with \"unknown\" if the group has the same medication and side effects as example, which is a sign that the model was confused.\n",
    "\n",
    "    Args:\n",
    "        grouped_df (pd.DataFrame): A group of rows from the dataframe.\n",
    "\n",
    "    Returns:\n",
    "        pd.DataFrame: A dataframe with the group preprocessed.\n",
    "    \"\"\"\n",
    "\n",
    "    df = []\n",
    "    duplicated = False\n",
    "\n",
    "    # If the group has the same medication and side effects as example just put \"unknown\" for both, as model was confused\n",
    "    duplicate_count = 0\n",
    "    for med, side_effect in medication_side_effects:\n",
    "         for index, row in grouped_df.iterrows():\n",
    "            if row[\"medication\"].lower() == med and row[\"side_effect\"].lower() == side_effect:\n",
    "                duplicate_count += 1\n",
    "    # if duplicate_count >= 3:\n",
    "    #     # print(\"Changed at index: \", grouped_df[\"index\"].iloc[0])\n",
    "    #     grouped_df = pd.DataFrame({\"medication\": \"unknown\", \"side_effect\": \"unknown\", \"text\": grouped_df[\"text\"].iloc[0], \"original_text\": grouped_df[\"original_text\"].iloc[0], \"index\": grouped_df[\"index\"].iloc[0]}, index=[0])\n",
    "    if duplicate_count >=1:\n",
    "        duplicated = True\n",
    "    \n",
    "    # group by medication name\n",
    "    for med, group in grouped_df.groupby(\"medication\"):\n",
    "       # Fuse all the side effects with \",\"\n",
    "        side_effects = group[\"side_effect\"].str.cat(sep=\",\")\n",
    "        text = group[\"text\"].iloc[0]\n",
    "        original_text = group[\"original_text\"].iloc[0]\n",
    "        index = group[\"index\"].iloc[0]\n",
    "        # Create a new row\n",
    "        new_row = {\"medication\": med, \"side_effect\": side_effects, \"text\": text, \"original_text\": original_text, \"index\": index, \"duplicated\": duplicated, \"successful\": group[\"successful\"].iloc[0]}\n",
    "        # Append the new row to the dataframe\n",
    "        df.append(new_row)\n",
    "\n",
    "    return pd.DataFrame(df)\n",
    "\n",
    "def prepare_results(path: str)->pd.DataFrame:\n",
    "    \"\"\" \n",
    "    Prepare the results from the model to be compared with the labels. The preprocessing consists of:\n",
    "    - Fixing the model answers, replacing them with the default model answer if they are invalid (in regards to JSON structure).\n",
    "    - Grouping the results by index and preprocessing the group. (See preprocess_group() function for more details.)\n",
    "    - Lowercasing and converting everything to string.\n",
    "\n",
    "    Args:\n",
    "        path (str): Path to the results file.\n",
    "        \n",
    "    Returns:\n",
    "        pd.DataFrame: A dataframe with the results preprocessed.\n",
    "    \"\"\"\n",
    "    results = torch.load(path)\n",
    "    df = pd.DataFrame(results)\n",
    "\n",
    "    df[\"successful\"] = True\n",
    "\n",
    "    # Fix model_answers\n",
    "    for idx, row in df.iterrows():\n",
    "        try:\n",
    "            # Does model answer have key \"side_effects\"?\n",
    "            answer = json.loads(row[\"model_answers\"])\n",
    "\n",
    "            # Is answer a valid SideEffectList?\n",
    "            SideEffectList(**answer)\n",
    "\n",
    "            # Is the element an empty list?\n",
    "            if len(answer[\"side_effects\"]) == 0:\n",
    "                raise ValueError(\"Empty list\")\n",
    "            \n",
    "            # Are all the elements valid SideEffect?\n",
    "            for med in answer[\"side_effects\"]:\n",
    "                SideEffect(**med)\n",
    "            \n",
    "            df.at[idx, \"model_answers\"] = json.dumps(answer)\n",
    "\n",
    "            \n",
    "        except:\n",
    "            df.at[idx, \"model_answers\"] = default_model.model_dump_json()\n",
    "            # print(f\"Error at index {idx}\")\n",
    "            df.at[idx, \"successful\"] = False\n",
    "    \n",
    "    dfs = []\n",
    "    for idx, row in df.iterrows():\n",
    "        row = row.to_dict()\n",
    "        answer = json.loads(row[\"model_answers\"])\n",
    "        medications = answer[\"side_effects\"]\n",
    "        for med in medications:\n",
    "            med[\"text\"] = row.get(\"text\", \"\")\n",
    "            med[\"original_text\"] = row.get(\"original_text\", \"\")\n",
    "            med[\"index\"] = row.get(\"index\", \"\")\n",
    "            med[\"successful\"] = row.get(\"successful\", \"\")\n",
    "            dfs.append((med))\n",
    "\n",
    "    res = pd.DataFrame(dfs)\n",
    "\n",
    "    res = res.sort_values(by=\"index\")\n",
    "\n",
    "    # Group by index and preprocess\n",
    "    _dfs = []\n",
    "\n",
    "    for index, group in res.groupby(\"index\"):\n",
    "        _dfs.append(preprocess_group(group))\n",
    "\n",
    "    res = pd.concat(_dfs)\n",
    "\n",
    "    # Convert everything to string and lowercase\n",
    "    res = res.map(lambda x: str(x).lower())\n",
    "\n",
    "    return res\n",
    "\n",
    "def prepare_labels(path: str)->pd.DataFrame:\n",
    "    \"\"\"\n",
    "    Prepare the labels to be compared with the results. The preprocessing consists of:\n",
    "    - Lowercasing and converting everything to string.\n",
    "\n",
    "    Args:\n",
    "        path (str): Path to the labels file.\n",
    "\n",
    "    Returns:\n",
    "\n",
    "        pd.DataFrame: A dataframe with the labels preprocessed.\n",
    "    \"\"\"\n",
    "    labels = pd.read_excel(path) \n",
    "\n",
    "    # Convert everything to string and lowercase\n",
    "    labels = labels.map(lambda x: str(x).lower())\n",
    "\n",
    "    return labels\n",
    "\n",
    "def calculate_precision_recall_f1(ground_truth:list, predicted:list)->tuple[float, float, float]:\n",
    "    \"\"\"\n",
    "    Calculate precision and recall from two lists, allowing for partial string matches.\n",
    "    A string does not have to be exactly the same to be considered a match, it is enough if one string is a substring of the other.\n",
    "    This function is used to evaluate the medication names.\n",
    "\n",
    "    Args:\n",
    "        ground_truth (list): List of ground truth medication names.\n",
    "        predicted (list): List of predicted medication names.\n",
    "\n",
    "    Returns:\n",
    "        float: Precision\n",
    "        float: Recall\n",
    "        float: F1 Score\n",
    "    \"\"\"\n",
    "    # Convert lists to sets for easier comparison\n",
    "    ground_truth_set = set(ground_truth)\n",
    "    predicted_set = set(predicted)\n",
    "\n",
    "    # Initialize counters\n",
    "    true_positives = 0\n",
    "    false_positives = 0\n",
    "\n",
    "    # Calculate True Positives and False Positives\n",
    "    for pred_med in predicted_set:\n",
    "        found_match = False\n",
    "        for truth_med in ground_truth_set:\n",
    "            if pred_med in truth_med or truth_med in pred_med:\n",
    "                true_positives += 1\n",
    "                found_match = True\n",
    "                break\n",
    "        if not found_match:\n",
    "            false_positives += 1\n",
    "\n",
    "    # Calculate False Negatives\n",
    "    false_negatives = len(ground_truth_set) - true_positives\n",
    "\n",
    "    # Calculate Precision\n",
    "    if true_positives + false_positives == 0:\n",
    "        precision = 0  # Handle division by zero\n",
    "    else:\n",
    "        precision = true_positives / (true_positives + false_positives)\n",
    "\n",
    "    # Calculate Recall\n",
    "    if true_positives + false_negatives == 0:\n",
    "        recall = 0  # Handle division by zero\n",
    "    else:\n",
    "        recall = true_positives / (true_positives + false_negatives)\n",
    "\n",
    "    # Calculate F1 Score\n",
    "    if precision + recall == 0:\n",
    "        f1 = 0\n",
    "    else:\n",
    "        f1 = 2 * (precision * recall) / (precision + recall)\n",
    "\n",
    "    return precision, recall, f1\n",
    "\n",
    "    # texts_gt = \"\"\n",
    "    # texts_pred = \"\"\n",
    "\n",
    "    # # Reorder the lists with approximate matching\n",
    "    # for pred in predicted:\n",
    "    #     for gt in ground_truth:\n",
    "    #         if pred in gt or gt in pred:\n",
    "    #             texts_gt += gt + \" \"\n",
    "    #             texts_pred += pred + \" \"\n",
    "    #             ground_truth.remove(gt)\n",
    "    #             predicted.remove(pred)\n",
    "    #             break\n",
    "    \n",
    "    # # Leftover ground truth and predictions\n",
    "    # texts_gt += \" \".join(ground_truth)\n",
    "    # texts_pred += \" \".join(predicted)\n",
    "\n",
    "    # # Calculate bert score\n",
    "    # precision, recall, f1 = scorer.score([texts_pred], [texts_gt])\n",
    "\n",
    "    # return precision.item(), recall.item(), f1.item()\n",
    "\n",
    "\n",
    "def calculate_bert_score(ground_truth:list[dict], predicted:list[dict], scorer:BERTScorer)->tuple[float, float, float]:\n",
    "    \"\"\" \n",
    "    Calculate bert score from two lists of dictionaries. This function is used to evaluate the side effects.\n",
    "\n",
    "    Args:\n",
    "        ground_truth (list): List of ground truth medication names and their side effect.\n",
    "        predicted (list): List of predicted medication names and their side effect.\n",
    "        scorer (BERTScorer): BERTScorer object to score the similarity between the side effects.\n",
    "    \"\"\"\n",
    "\n",
    "    # Match the prediction to the ground truth with medication name\n",
    "    precision = []\n",
    "    recall = []\n",
    "    f1 = []\n",
    "    texts_gt = \"\"\n",
    "    texts_pred = \"\"\n",
    "\n",
    "    for pred_id, pred in enumerate(predicted):\n",
    "        for gt_id, gt in enumerate(ground_truth):\n",
    "            if pred[\"medication\"] in gt[\"medication\"] or gt[\"medication\"] in pred[\"medication\"]:\n",
    "                texts_gt += gt[\"side_effect\"] + \" \"\n",
    "                texts_pred += pred[\"side_effect\"] + \" \"\n",
    "                ground_truth.pop(gt_id)\n",
    "                predicted.pop(pred_id)\n",
    "                break\n",
    "    \n",
    "    # Leftover ground truth and predictions\n",
    "    texts_gt += \" \".join([gt[\"side_effect\"] for gt in ground_truth])\n",
    "    texts_pred += \" \".join([pred[\"side_effect\"] for pred in predicted])\n",
    "    \n",
    "    # Calculate bert score\n",
    "    precision, recall, f1 = scorer.score([texts_pred], [texts_gt])\n",
    "\n",
    "    return precision.item(), recall.item(), f1.item()\n",
    "\n",
    "    # for pred_id, pred in enumerate(predicted):\n",
    "    #     for gt_id, gt in enumerate(ground_truth):\n",
    "    #         if pred[\"medication\"] in gt[\"medication\"] or gt[\"medication\"] in pred[\"medication\"]:\n",
    "    #             p, r, f = scorer.score([pred[\"side_effect\"]], [gt[\"side_effect\"]])\n",
    "    #             precision.append(p)\n",
    "    #             recall.append(r)\n",
    "    #             f1.append(f)\n",
    "    #             # Remove the ground truth and prediction from the list\n",
    "    #             ground_truth.pop(gt_id)\n",
    "    #             predicted.pop(pred_id)\n",
    "    \n",
    "    # # Append 0 to the bert score for the remaining ground truth and predictions\n",
    "    # precision.extend([torch.zeros(1)]*(len(ground_truth)+len(predicted)))\n",
    "    # recall.extend([torch.zeros(1)]*(len(ground_truth)+len(predicted)))\n",
    "    # f1.extend([torch.zeros(1)]*(len(ground_truth)+len(predicted)))\n",
    "\n",
    "    # precision = torch.cat(precision, dim=0)\n",
    "    # recall = torch.cat(recall, dim=0)\n",
    "    # f1 = torch.cat(f1, dim=0)\n",
    "\n",
    "\n",
    "    # return torch.mean(precision).item(), torch.mean(recall).item(), torch.mean(f1).item()\n",
    "\n",
    "def create_metrics_df(labels_path:str, results_path:str, scorer:BERTScorer)->pd.DataFrame:\n",
    "    \"\"\"\n",
    "    Create a dataframe with the metrics for each index. The metrics are:\n",
    "    - Precision, Recall and F1 score for medication names\n",
    "    - Precision, Recall and F1 score for side effects\n",
    "\n",
    "    Args:\n",
    "        labels_path (str): Path to the labels file.\n",
    "        results_path (str): Path to the results file.\n",
    "        scorer (BERTScorer): BERTScorer object to score the similarity between the side effects.\n",
    "\n",
    "    Returns:\n",
    "        pd.DataFrame: A dataframe with the metrics for each index.\n",
    "    \"\"\"\n",
    "    \n",
    "    labels = prepare_labels(labels_path)\n",
    "    res = prepare_results(results_path)\n",
    "\n",
    "    dfs = []\n",
    "    for index, group in res.groupby(\"index\"):\n",
    "        text = group[\"text\"].iloc[0]\n",
    "        original_text = group[\"original_text\"].iloc[0]\n",
    "        index = group[\"index\"].iloc[0]\n",
    "        preds_med = group[\"medication\"].to_list()\n",
    "        preds_se = group[\"side_effect\"].to_list()\n",
    "        labels_med = labels[labels[\"index\"] == index][\"medication\"].to_list()\n",
    "        labels_se = labels[labels[\"index\"] == index][\"side_effect\"].to_list()\n",
    "\n",
    "        # Side effects\n",
    "        ground_truth = labels[labels[\"index\"] == index].to_dict(orient=\"records\")\n",
    "        predicted = group.to_dict(orient=\"records\")\n",
    "        side_effects_precision, side_effects_recall, side_effects_f1 = calculate_bert_score(ground_truth, predicted, scorer)\n",
    "\n",
    "        # Medication\n",
    "        ground_truth = labels[labels[\"index\"] == index][\"medication\"].to_list()\n",
    "        predicted = group[\"medication\"].to_list()\n",
    "        medication_precision, medication_recall, medication_f1 = calculate_precision_recall_f1(ground_truth, predicted)\n",
    "\n",
    "        # Check if duplicated is the same for all in group\n",
    "        assert len(group[\"duplicated\"].unique()) == 1\n",
    "        assert len(group[\"successful\"].unique()) == 1\n",
    "\n",
    "        if group[\"duplicated\"].iloc[0] == \"false\":\n",
    "            duplicated = False\n",
    "        else:\n",
    "            duplicated = True\n",
    "        \n",
    "        if group[\"successful\"].iloc[0] == \"false\":\n",
    "            successful = False\n",
    "        else:\n",
    "            successful = True\n",
    "\n",
    "        dfs.append({\"text\": text, \n",
    "                    \"original_text\": original_text, \n",
    "                    \"index\": index, \n",
    "                    \"preds_med\": preds_med,\n",
    "                    \"labels_med\": labels_med,\n",
    "                    \"preds_se\": preds_se,\n",
    "                    \"labels_se\": labels_se,\n",
    "                    \"duplicated\": duplicated,\n",
    "                    \"successful\": successful,\n",
    "                    \"side_effects_precision\": side_effects_precision, \"side_effects_recall\": side_effects_recall, \"side_effects_f1\": side_effects_f1, \"medication_precision\": medication_precision, \"medication_recall\": medication_recall, \"medication_f1\": medication_f1})\n",
    "\n",
    "    return pd.DataFrame(dfs)\n",
    "\n",
    "def create_agg_metrics_df(labels_path:str, results_path:str, scorer:BERTScorer)->pd.DataFrame:\n",
    "    \"\"\"\n",
    "    Create a dataframe with the aggregated metrics for the whole dataset. The metrics are:\n",
    "    - Precision, Recall and F1 score for medication names\n",
    "    - Precision, Recall and F1 score for side effects\n",
    "\n",
    "    Args:\n",
    "        labels_path (str): Path to the labels file.\n",
    "        results_path (str): Path to the results file.\n",
    "        scorer (BERTScorer): BERTScorer object to score the similarity between the side effects.\n",
    "\n",
    "    Returns:\n",
    "        pd.DataFrame: A dataframe with the aggregated metrics for the whole dataset.\n",
    "    \"\"\"\n",
    "    metrics = create_metrics_df(labels_path, results_path, scorer)\n",
    "\n",
    "    # Calculate the average of the metrics\n",
    "    agg_metrics = metrics.agg({\"side_effects_precision\": \"mean\", \"side_effects_recall\": \"mean\", \"side_effects_f1\": \"mean\", \"medication_precision\": \"mean\", \"medication_recall\": \"mean\", \"medication_f1\": \"mean\", \"duplicated\": \"sum\", \"successful\": \"sum\"})\n",
    "\n",
    "    return agg_metrics"
   ]
  },
  {
   "cell_type": "code",
   "execution_count": 865,
   "metadata": {},
   "outputs": [],
   "source": [
    "def summarize(paths:list[str], labels:str, scorer:BERTScorer)->pd.DataFrame:\n",
    "    \"\"\"\n",
    "    Summarize the results from the model. The summary consists of:\n",
    "    - Precision, Recall and F1 score for medication names\n",
    "    - Precision, Recall and F1 score for side effects\n",
    "    - Aggregated metrics for the whole dataset\n",
    "\n",
    "    Args:\n",
    "        paths (list): List of paths to the results files.\n",
    "        labels (str): Path to the labels file.\n",
    "        scorer (BERTScorer): BERTScorer object to score the similarity between the side effects.\n",
    "\n",
    "    Returns:\n",
    "        pd.DataFrame: A dataframe with the summary of the results.\n",
    "    \"\"\"\n",
    "    dfs = []\n",
    "    for path in paths:\n",
    "        metrics = create_agg_metrics_df(labels, path, scorer)\n",
    "        path = str(path)\n",
    "        if path.endswith(\"rag.pt\"):\n",
    "            metrics[\"approach\"] = \"S2A-1\"\n",
    "        elif path.endswith(\"s2a.pt\"):\n",
    "            metrics[\"approach\"] = \"S2A-2\"\n",
    "        else:\n",
    "            metrics[\"approach\"] = \"Base\"\n",
    "        \n",
    "        if \"few_shot_vanilla\" in path:\n",
    "            metrics[\"strategy\"] = \"Few-Shot Base\"\n",
    "        elif \"few_shot_instruction\" in path:\n",
    "            metrics[\"strategy\"] = \"Few-Shot Instruction\"\n",
    "        elif \"zero_shot_vanilla\" in path:\n",
    "            metrics[\"strategy\"] = \"Zero-Shot Base\"\n",
    "        elif \"zero_shot_instruction\" in path:\n",
    "            metrics[\"strategy\"] = \"Zero-Shot Instruction\"\n",
    "        else:\n",
    "            ValueError(\"Unknown strategy\")\n",
    "        dfs.append(metrics)\n",
    "    return pd.DataFrame(dfs)"
   ]
  },
  {
   "cell_type": "code",
   "execution_count": 866,
   "metadata": {},
   "outputs": [],
   "source": [
    "file_paths = [paths.RESULTS_PATH/\"side-effects/side-effects_outlines_Llama2-MedTuned-13b_4bit_zero_shot_vanilla.pt\",\n",
    "              paths.RESULTS_PATH/\"side-effects/side-effects_outlines_Llama2-MedTuned-13b_4bit_zero_shot_instruction.pt\",\n",
    "              paths.RESULTS_PATH/\"side-effects/side-effects_outlines_Llama2-MedTuned-13b_4bit_few_shot_vanilla_10_examples.pt\",\n",
    "              paths.RESULTS_PATH/\"side-effects/side-effects_outlines_Llama2-MedTuned-13b_4bit_few_shot_instruction_10_examples.pt\",\n",
    "              paths.RESULTS_PATH/\"side-effects/side-effects_outlines_Llama2-MedTuned-13b_4bit_zero_shot_vanilla_rag.pt\",\n",
    "              paths.RESULTS_PATH/\"side-effects/side-effects_outlines_Llama2-MedTuned-13b_4bit_zero_shot_instruction_rag.pt\",\n",
    "              paths.RESULTS_PATH/\"side-effects/side-effects_outlines_Llama2-MedTuned-13b_4bit_few_shot_vanilla_10_examples_rag.pt\",\n",
    "              paths.RESULTS_PATH/\"side-effects/side-effects_outlines_Llama2-MedTuned-13b_4bit_few_shot_instruction_10_examples_rag.pt\",\n",
    "              paths.RESULTS_PATH/\"side-effects/side-effects_outlines_Llama2-MedTuned-13b_4bit_zero_shot_vanilla_s2a.pt\",\n",
    "              paths.RESULTS_PATH/\"side-effects/side-effects_outlines_Llama2-MedTuned-13b_4bit_zero_shot_instruction_s2a.pt\",\n",
    "              paths.RESULTS_PATH/\"side-effects/side-effects_outlines_Llama2-MedTuned-13b_4bit_few_shot_vanilla_10_examples_s2a.pt\",\n",
    "              paths.RESULTS_PATH/\"side-effects/side-effects_outlines_Llama2-MedTuned-13b_4bit_few_shot_instruction_10_examples_s2a.pt\",]"
   ]
  },
  {
   "cell_type": "markdown",
   "metadata": {},
   "source": [
    "# 13B"
   ]
  },
  {
   "cell_type": "markdown",
   "metadata": {},
   "source": [
    "## Base"
   ]
  },
  {
   "cell_type": "code",
   "execution_count": 867,
   "metadata": {},
   "outputs": [
    {
     "data": {
      "text/plain": [
       "side_effects_precision     0.476860\n",
       "side_effects_recall        0.581228\n",
       "side_effects_f1            0.513299\n",
       "medication_precision       0.310531\n",
       "medication_recall          0.750000\n",
       "medication_f1              0.415100\n",
       "duplicated                11.000000\n",
       "successful                96.000000\n",
       "dtype: float64"
      ]
     },
     "execution_count": 867,
     "metadata": {},
     "output_type": "execute_result"
    }
   ],
   "source": [
    "# Zero Shot Vanilla\n",
    "create_agg_metrics_df(paths.RESULTS_PATH/\"side-effects/labels.xlsx\", paths.RESULTS_PATH/\"side-effects/side-effects_outlines_Llama2-MedTuned-13b_4bit_zero_shot_vanilla.pt\", scorer)\n"
   ]
  },
  {
   "cell_type": "code",
   "execution_count": 868,
   "metadata": {},
   "outputs": [
    {
     "data": {
      "text/plain": [
       "side_effects_precision     0.530966\n",
       "side_effects_recall        0.637905\n",
       "side_effects_f1            0.568499\n",
       "medication_precision       0.427310\n",
       "medication_recall          0.881667\n",
       "medication_f1              0.538481\n",
       "duplicated                13.000000\n",
       "successful                94.000000\n",
       "dtype: float64"
      ]
     },
     "execution_count": 868,
     "metadata": {},
     "output_type": "execute_result"
    }
   ],
   "source": [
    "# Zero Shot instruction\n",
    "create_agg_metrics_df(paths.RESULTS_PATH/\"side-effects/labels.xlsx\", paths.RESULTS_PATH/\"side-effects/side-effects_outlines_Llama2-MedTuned-13b_4bit_zero_shot_instruction.pt\", scorer)\n"
   ]
  },
  {
   "cell_type": "code",
   "execution_count": 869,
   "metadata": {},
   "outputs": [
    {
     "data": {
      "text/plain": [
       "side_effects_precision     0.612221\n",
       "side_effects_recall        0.739852\n",
       "side_effects_f1            0.658761\n",
       "medication_precision       0.435992\n",
       "medication_recall          0.725000\n",
       "medication_f1              0.509984\n",
       "duplicated                41.000000\n",
       "successful                95.000000\n",
       "dtype: float64"
      ]
     },
     "execution_count": 869,
     "metadata": {},
     "output_type": "execute_result"
    }
   ],
   "source": [
    "# Few Shot Vanilla\n",
    "create_agg_metrics_df(paths.RESULTS_PATH/\"side-effects/labels.xlsx\", paths.RESULTS_PATH/\"side-effects/side-effects_outlines_Llama2-MedTuned-13b_4bit_few_shot_vanilla_10_examples.pt\", scorer)"
   ]
  },
  {
   "cell_type": "code",
   "execution_count": 870,
   "metadata": {},
   "outputs": [
    {
     "data": {
      "text/plain": [
       "side_effects_precision     0.579748\n",
       "side_effects_recall        0.727668\n",
       "side_effects_f1            0.632492\n",
       "medication_precision       0.403071\n",
       "medication_recall          0.743333\n",
       "medication_f1              0.485891\n",
       "duplicated                41.000000\n",
       "successful                95.000000\n",
       "dtype: float64"
      ]
     },
     "execution_count": 870,
     "metadata": {},
     "output_type": "execute_result"
    }
   ],
   "source": [
    "create_agg_metrics_df(paths.RESULTS_PATH/\"side-effects/labels.xlsx\", paths.RESULTS_PATH/\"side-effects/side-effects_outlines_Llama2-MedTuned-13b_4bit_few_shot_instruction_10_examples.pt\", scorer)"
   ]
  },
  {
   "cell_type": "markdown",
   "metadata": {},
   "source": [
    "## RAG"
   ]
  },
  {
   "cell_type": "code",
   "execution_count": 871,
   "metadata": {},
   "outputs": [
    {
     "data": {
      "text/plain": [
       "side_effects_precision     0.552860\n",
       "side_effects_recall        0.621523\n",
       "side_effects_f1            0.574738\n",
       "medication_precision       0.401992\n",
       "medication_recall          0.778333\n",
       "medication_f1              0.490021\n",
       "duplicated                24.000000\n",
       "successful                99.000000\n",
       "dtype: float64"
      ]
     },
     "execution_count": 871,
     "metadata": {},
     "output_type": "execute_result"
    }
   ],
   "source": [
    "# Zero Shot Vanilla\n",
    "create_agg_metrics_df(paths.RESULTS_PATH/\"side-effects/labels.xlsx\", paths.RESULTS_PATH/\"side-effects/side-effects_outlines_Llama2-MedTuned-13b_4bit_zero_shot_vanilla_rag.pt\", scorer)\n"
   ]
  },
  {
   "cell_type": "code",
   "execution_count": 872,
   "metadata": {},
   "outputs": [
    {
     "data": {
      "text/plain": [
       "side_effects_precision     0.560098\n",
       "side_effects_recall        0.621091\n",
       "side_effects_f1            0.579904\n",
       "medication_precision       0.422183\n",
       "medication_recall          0.768333\n",
       "medication_f1              0.506132\n",
       "duplicated                25.000000\n",
       "successful                99.000000\n",
       "dtype: float64"
      ]
     },
     "execution_count": 872,
     "metadata": {},
     "output_type": "execute_result"
    }
   ],
   "source": [
    "# Zero Shot instruction\n",
    "create_agg_metrics_df(paths.RESULTS_PATH/\"side-effects/labels.xlsx\", paths.RESULTS_PATH/\"side-effects/side-effects_outlines_Llama2-MedTuned-13b_4bit_zero_shot_instruction_rag.pt\", scorer)\n"
   ]
  },
  {
   "cell_type": "code",
   "execution_count": 873,
   "metadata": {},
   "outputs": [
    {
     "data": {
      "text/plain": [
       "side_effects_precision     0.621593\n",
       "side_effects_recall        0.696528\n",
       "side_effects_f1            0.643909\n",
       "medication_precision       0.429722\n",
       "medication_recall          0.680000\n",
       "medication_f1              0.489893\n",
       "duplicated                50.000000\n",
       "successful                96.000000\n",
       "dtype: float64"
      ]
     },
     "execution_count": 873,
     "metadata": {},
     "output_type": "execute_result"
    }
   ],
   "source": [
    "# Few Shot Vanilla\n",
    "create_agg_metrics_df(paths.RESULTS_PATH/\"side-effects/labels.xlsx\", paths.RESULTS_PATH/\"side-effects/side-effects_outlines_Llama2-MedTuned-13b_4bit_few_shot_vanilla_10_examples_rag.pt\", scorer)"
   ]
  },
  {
   "cell_type": "code",
   "execution_count": 874,
   "metadata": {},
   "outputs": [
    {
     "data": {
      "text/plain": [
       "side_effects_precision     0.604449\n",
       "side_effects_recall        0.725081\n",
       "side_effects_f1            0.646291\n",
       "medication_precision       0.436619\n",
       "medication_recall          0.791667\n",
       "medication_f1              0.526373\n",
       "duplicated                46.000000\n",
       "successful                97.000000\n",
       "dtype: float64"
      ]
     },
     "execution_count": 874,
     "metadata": {},
     "output_type": "execute_result"
    }
   ],
   "source": [
    "create_agg_metrics_df(paths.RESULTS_PATH/\"side-effects/labels.xlsx\", paths.RESULTS_PATH/\"side-effects/side-effects_outlines_Llama2-MedTuned-13b_4bit_few_shot_instruction_10_examples_rag.pt\", scorer)"
   ]
  },
  {
   "cell_type": "markdown",
   "metadata": {},
   "source": [
    "## S2A"
   ]
  },
  {
   "cell_type": "code",
   "execution_count": 875,
   "metadata": {},
   "outputs": [
    {
     "data": {
      "text/plain": [
       "side_effects_precision      0.652418\n",
       "side_effects_recall         0.647912\n",
       "side_effects_f1             0.642934\n",
       "medication_precision        0.806429\n",
       "medication_recall           0.870000\n",
       "medication_f1               0.820833\n",
       "duplicated                 12.000000\n",
       "successful                100.000000\n",
       "dtype: float64"
      ]
     },
     "execution_count": 875,
     "metadata": {},
     "output_type": "execute_result"
    }
   ],
   "source": [
    "# Zero Shot Vanilla\n",
    "create_agg_metrics_df(paths.RESULTS_PATH/\"side-effects/labels.xlsx\", paths.RESULTS_PATH/\"side-effects/side-effects_outlines_Llama2-MedTuned-13b_4bit_zero_shot_vanilla_s2a.pt\", scorer)\n"
   ]
  },
  {
   "cell_type": "code",
   "execution_count": 876,
   "metadata": {},
   "outputs": [
    {
     "data": {
      "text/plain": [
       "side_effects_precision     0.741831\n",
       "side_effects_recall        0.726890\n",
       "side_effects_f1            0.728542\n",
       "medication_precision       0.953095\n",
       "medication_recall          0.990000\n",
       "medication_f1              0.961500\n",
       "duplicated                19.000000\n",
       "successful                92.000000\n",
       "dtype: float64"
      ]
     },
     "execution_count": 876,
     "metadata": {},
     "output_type": "execute_result"
    }
   ],
   "source": [
    "# Zero Shot instruction\n",
    "create_agg_metrics_df(paths.RESULTS_PATH/\"side-effects/labels.xlsx\", paths.RESULTS_PATH/\"side-effects/side-effects_outlines_Llama2-MedTuned-13b_4bit_zero_shot_instruction_s2a.pt\", scorer)\n"
   ]
  },
  {
   "cell_type": "code",
   "execution_count": 877,
   "metadata": {},
   "outputs": [
    {
     "data": {
      "text/plain": [
       "side_effects_precision     0.768935\n",
       "side_effects_recall        0.785101\n",
       "side_effects_f1            0.768471\n",
       "medication_precision       0.882857\n",
       "medication_recall          0.900000\n",
       "medication_f1              0.874667\n",
       "duplicated                32.000000\n",
       "successful                97.000000\n",
       "dtype: float64"
      ]
     },
     "execution_count": 877,
     "metadata": {},
     "output_type": "execute_result"
    }
   ],
   "source": [
    "# Few Shot Vanilla\n",
    "create_agg_metrics_df(paths.RESULTS_PATH/\"side-effects/labels.xlsx\", paths.RESULTS_PATH/\"side-effects/side-effects_outlines_Llama2-MedTuned-13b_4bit_few_shot_vanilla_10_examples_s2a.pt\", scorer)"
   ]
  },
  {
   "cell_type": "code",
   "execution_count": 878,
   "metadata": {},
   "outputs": [
    {
     "data": {
      "text/plain": [
       "side_effects_precision     0.757953\n",
       "side_effects_recall        0.812161\n",
       "side_effects_f1            0.775305\n",
       "medication_precision       0.851429\n",
       "medication_recall          0.900000\n",
       "medication_f1              0.851056\n",
       "duplicated                29.000000\n",
       "successful                98.000000\n",
       "dtype: float64"
      ]
     },
     "execution_count": 878,
     "metadata": {},
     "output_type": "execute_result"
    }
   ],
   "source": [
    "create_agg_metrics_df(paths.RESULTS_PATH/\"side-effects/labels.xlsx\", paths.RESULTS_PATH/\"side-effects/side-effects_outlines_Llama2-MedTuned-13b_4bit_few_shot_instruction_10_examples_s2a.pt\", scorer)"
   ]
  },
  {
   "cell_type": "markdown",
   "metadata": {},
   "source": [
    "## Summary"
   ]
  },
  {
   "cell_type": "code",
   "execution_count": 879,
   "metadata": {},
   "outputs": [],
   "source": [
    "def latex_metrics(metrics:pd.DataFrame)->str:\n",
    "    \"\"\"\n",
    "    Convert the metrics dataframe to a latex table.\n",
    "    \"\"\"\n",
    "    dfs = []\n",
    "    for strat, group in metrics.groupby(\"strategy\"):\n",
    "        cols = [col for col in metrics.columns if col not in [\"strategy\", \"approach\"]]\n",
    "        df_base = group[group[\"approach\"] == \"Base\"][cols].reset_index(drop=True)\n",
    "        df_base.columns = [f\"{col}_base\" for col in cols]\n",
    "        df_rag = group[group[\"approach\"] == \"S2A-1\"][cols].reset_index(drop=True)\n",
    "        df_rag.columns = [f\"{col}_rag\" for col in cols]\n",
    "        df_s2a = group[group[\"approach\"] == \"S2A-2\"][cols].reset_index(drop=True)\n",
    "        df_s2a.columns = [f\"{col}_s2a\" for col in cols]\n",
    "        df = pd.concat([df_base, df_rag, df_s2a], axis=1)\n",
    "        df[\"strategy\"] = strat\n",
    "        dfs.append(df)\n",
    "\n",
    "    return pd.concat(dfs, axis=0)"
   ]
  },
  {
   "cell_type": "code",
   "execution_count": 880,
   "metadata": {},
   "outputs": [],
   "source": [
    "results = summarize(file_paths, paths.RESULTS_PATH/\"side-effects/labels.xlsx\", scorer)\n",
    "results = results.round(2)\n",
    "results.to_csv(paths.RESULTS_PATH/\"side-effects/summary13b.csv\", index=False)"
   ]
  },
  {
   "cell_type": "code",
   "execution_count": 881,
   "metadata": {},
   "outputs": [],
   "source": [
    "thesis13b = latex_metrics(results)\n",
    "thesis13b_precision = thesis13b[[\"strategy\"] + [col for col in thesis13b.columns if \"precision\" in col]]\n",
    "thesis13b_recall = thesis13b[[\"strategy\"] + [col for col in thesis13b.columns if \"recall\" in col]]\n",
    "thesis13b_f1 = thesis13b[[\"strategy\"] + [col for col in thesis13b.columns if \"f1\" in col]]\n",
    "\n",
    "thesis13b_precision.to_csv(paths.RESULTS_PATH/\"side-effects/thesis13b_precision.csv\", index=False)\n",
    "thesis13b_recall.to_csv(paths.RESULTS_PATH/\"side-effects/thesis13b_recall.csv\", index=False)\n",
    "thesis13b_f1.to_csv(paths.RESULTS_PATH/\"side-effects/thesis13b_f1.csv\", index=False)"
   ]
  },
  {
   "cell_type": "markdown",
   "metadata": {},
   "source": [
    "- Model seems to have difficulties if there is no medication mentioned with side effects. It repeats the examples. I could set a threshold of 3 or more repeated examples is indication that model is confused, so just put \"unknown/unknown\"\n",
    "- also split medications that contain \"/\" into two lists\n",
    "- concatenate the side effects for the same medications with \",\""
   ]
  },
  {
   "cell_type": "code",
   "execution_count": 882,
   "metadata": {},
   "outputs": [
    {
     "data": {
      "text/html": [
       "<div>\n",
       "<style scoped>\n",
       "    .dataframe tbody tr th:only-of-type {\n",
       "        vertical-align: middle;\n",
       "    }\n",
       "\n",
       "    .dataframe tbody tr th {\n",
       "        vertical-align: top;\n",
       "    }\n",
       "\n",
       "    .dataframe thead th {\n",
       "        text-align: right;\n",
       "    }\n",
       "</style>\n",
       "<table border=\"1\" class=\"dataframe\">\n",
       "  <thead>\n",
       "    <tr style=\"text-align: right;\">\n",
       "      <th></th>\n",
       "      <th>side_effects_precision</th>\n",
       "      <th>side_effects_recall</th>\n",
       "      <th>side_effects_f1</th>\n",
       "      <th>medication_precision</th>\n",
       "      <th>medication_recall</th>\n",
       "      <th>medication_f1</th>\n",
       "      <th>duplicated</th>\n",
       "      <th>successful</th>\n",
       "      <th>approach</th>\n",
       "      <th>strategy</th>\n",
       "    </tr>\n",
       "  </thead>\n",
       "  <tbody>\n",
       "    <tr>\n",
       "      <th>0</th>\n",
       "      <td>0.48</td>\n",
       "      <td>0.58</td>\n",
       "      <td>0.51</td>\n",
       "      <td>0.31</td>\n",
       "      <td>0.75</td>\n",
       "      <td>0.42</td>\n",
       "      <td>11.0</td>\n",
       "      <td>96.0</td>\n",
       "      <td>Base</td>\n",
       "      <td>Zero-Shot Base</td>\n",
       "    </tr>\n",
       "    <tr>\n",
       "      <th>1</th>\n",
       "      <td>0.53</td>\n",
       "      <td>0.64</td>\n",
       "      <td>0.57</td>\n",
       "      <td>0.43</td>\n",
       "      <td>0.88</td>\n",
       "      <td>0.54</td>\n",
       "      <td>13.0</td>\n",
       "      <td>94.0</td>\n",
       "      <td>Base</td>\n",
       "      <td>Zero-Shot Instruction</td>\n",
       "    </tr>\n",
       "    <tr>\n",
       "      <th>2</th>\n",
       "      <td>0.61</td>\n",
       "      <td>0.74</td>\n",
       "      <td>0.66</td>\n",
       "      <td>0.44</td>\n",
       "      <td>0.72</td>\n",
       "      <td>0.51</td>\n",
       "      <td>41.0</td>\n",
       "      <td>95.0</td>\n",
       "      <td>Base</td>\n",
       "      <td>Few-Shot Base</td>\n",
       "    </tr>\n",
       "    <tr>\n",
       "      <th>3</th>\n",
       "      <td>0.58</td>\n",
       "      <td>0.73</td>\n",
       "      <td>0.63</td>\n",
       "      <td>0.40</td>\n",
       "      <td>0.74</td>\n",
       "      <td>0.49</td>\n",
       "      <td>41.0</td>\n",
       "      <td>95.0</td>\n",
       "      <td>Base</td>\n",
       "      <td>Few-Shot Instruction</td>\n",
       "    </tr>\n",
       "    <tr>\n",
       "      <th>4</th>\n",
       "      <td>0.55</td>\n",
       "      <td>0.62</td>\n",
       "      <td>0.57</td>\n",
       "      <td>0.40</td>\n",
       "      <td>0.78</td>\n",
       "      <td>0.49</td>\n",
       "      <td>24.0</td>\n",
       "      <td>99.0</td>\n",
       "      <td>S2A-1</td>\n",
       "      <td>Zero-Shot Base</td>\n",
       "    </tr>\n",
       "    <tr>\n",
       "      <th>5</th>\n",
       "      <td>0.56</td>\n",
       "      <td>0.62</td>\n",
       "      <td>0.58</td>\n",
       "      <td>0.42</td>\n",
       "      <td>0.77</td>\n",
       "      <td>0.51</td>\n",
       "      <td>25.0</td>\n",
       "      <td>99.0</td>\n",
       "      <td>S2A-1</td>\n",
       "      <td>Zero-Shot Instruction</td>\n",
       "    </tr>\n",
       "    <tr>\n",
       "      <th>6</th>\n",
       "      <td>0.62</td>\n",
       "      <td>0.70</td>\n",
       "      <td>0.64</td>\n",
       "      <td>0.43</td>\n",
       "      <td>0.68</td>\n",
       "      <td>0.49</td>\n",
       "      <td>50.0</td>\n",
       "      <td>96.0</td>\n",
       "      <td>S2A-1</td>\n",
       "      <td>Few-Shot Base</td>\n",
       "    </tr>\n",
       "    <tr>\n",
       "      <th>7</th>\n",
       "      <td>0.60</td>\n",
       "      <td>0.73</td>\n",
       "      <td>0.65</td>\n",
       "      <td>0.44</td>\n",
       "      <td>0.79</td>\n",
       "      <td>0.53</td>\n",
       "      <td>46.0</td>\n",
       "      <td>97.0</td>\n",
       "      <td>S2A-1</td>\n",
       "      <td>Few-Shot Instruction</td>\n",
       "    </tr>\n",
       "    <tr>\n",
       "      <th>8</th>\n",
       "      <td>0.65</td>\n",
       "      <td>0.65</td>\n",
       "      <td>0.64</td>\n",
       "      <td>0.81</td>\n",
       "      <td>0.87</td>\n",
       "      <td>0.82</td>\n",
       "      <td>12.0</td>\n",
       "      <td>100.0</td>\n",
       "      <td>S2A-2</td>\n",
       "      <td>Zero-Shot Base</td>\n",
       "    </tr>\n",
       "    <tr>\n",
       "      <th>9</th>\n",
       "      <td>0.74</td>\n",
       "      <td>0.73</td>\n",
       "      <td>0.73</td>\n",
       "      <td>0.95</td>\n",
       "      <td>0.99</td>\n",
       "      <td>0.96</td>\n",
       "      <td>19.0</td>\n",
       "      <td>92.0</td>\n",
       "      <td>S2A-2</td>\n",
       "      <td>Zero-Shot Instruction</td>\n",
       "    </tr>\n",
       "    <tr>\n",
       "      <th>10</th>\n",
       "      <td>0.77</td>\n",
       "      <td>0.79</td>\n",
       "      <td>0.77</td>\n",
       "      <td>0.88</td>\n",
       "      <td>0.90</td>\n",
       "      <td>0.87</td>\n",
       "      <td>32.0</td>\n",
       "      <td>97.0</td>\n",
       "      <td>S2A-2</td>\n",
       "      <td>Few-Shot Base</td>\n",
       "    </tr>\n",
       "    <tr>\n",
       "      <th>11</th>\n",
       "      <td>0.76</td>\n",
       "      <td>0.81</td>\n",
       "      <td>0.78</td>\n",
       "      <td>0.85</td>\n",
       "      <td>0.90</td>\n",
       "      <td>0.85</td>\n",
       "      <td>29.0</td>\n",
       "      <td>98.0</td>\n",
       "      <td>S2A-2</td>\n",
       "      <td>Few-Shot Instruction</td>\n",
       "    </tr>\n",
       "  </tbody>\n",
       "</table>\n",
       "</div>"
      ],
      "text/plain": [
       "    side_effects_precision  side_effects_recall  side_effects_f1  \\\n",
       "0                     0.48                 0.58             0.51   \n",
       "1                     0.53                 0.64             0.57   \n",
       "2                     0.61                 0.74             0.66   \n",
       "3                     0.58                 0.73             0.63   \n",
       "4                     0.55                 0.62             0.57   \n",
       "5                     0.56                 0.62             0.58   \n",
       "6                     0.62                 0.70             0.64   \n",
       "7                     0.60                 0.73             0.65   \n",
       "8                     0.65                 0.65             0.64   \n",
       "9                     0.74                 0.73             0.73   \n",
       "10                    0.77                 0.79             0.77   \n",
       "11                    0.76                 0.81             0.78   \n",
       "\n",
       "    medication_precision  medication_recall  medication_f1  duplicated  \\\n",
       "0                   0.31               0.75           0.42        11.0   \n",
       "1                   0.43               0.88           0.54        13.0   \n",
       "2                   0.44               0.72           0.51        41.0   \n",
       "3                   0.40               0.74           0.49        41.0   \n",
       "4                   0.40               0.78           0.49        24.0   \n",
       "5                   0.42               0.77           0.51        25.0   \n",
       "6                   0.43               0.68           0.49        50.0   \n",
       "7                   0.44               0.79           0.53        46.0   \n",
       "8                   0.81               0.87           0.82        12.0   \n",
       "9                   0.95               0.99           0.96        19.0   \n",
       "10                  0.88               0.90           0.87        32.0   \n",
       "11                  0.85               0.90           0.85        29.0   \n",
       "\n",
       "    successful approach               strategy  \n",
       "0         96.0     Base         Zero-Shot Base  \n",
       "1         94.0     Base  Zero-Shot Instruction  \n",
       "2         95.0     Base          Few-Shot Base  \n",
       "3         95.0     Base   Few-Shot Instruction  \n",
       "4         99.0    S2A-1         Zero-Shot Base  \n",
       "5         99.0    S2A-1  Zero-Shot Instruction  \n",
       "6         96.0    S2A-1          Few-Shot Base  \n",
       "7         97.0    S2A-1   Few-Shot Instruction  \n",
       "8        100.0    S2A-2         Zero-Shot Base  \n",
       "9         92.0    S2A-2  Zero-Shot Instruction  \n",
       "10        97.0    S2A-2          Few-Shot Base  \n",
       "11        98.0    S2A-2   Few-Shot Instruction  "
      ]
     },
     "execution_count": 882,
     "metadata": {},
     "output_type": "execute_result"
    }
   ],
   "source": [
    "results"
   ]
  },
  {
   "cell_type": "markdown",
   "metadata": {},
   "source": [
    "# 7B"
   ]
  },
  {
   "cell_type": "markdown",
   "metadata": {},
   "source": [
    "## Base"
   ]
  },
  {
   "cell_type": "code",
   "execution_count": 883,
   "metadata": {},
   "outputs": [
    {
     "data": {
      "text/plain": [
       "side_effects_precision     0.483710\n",
       "side_effects_recall        0.470272\n",
       "side_effects_f1            0.469532\n",
       "medication_precision       0.232186\n",
       "medication_recall          0.301667\n",
       "medication_f1              0.239222\n",
       "duplicated                35.000000\n",
       "successful                65.000000\n",
       "dtype: float64"
      ]
     },
     "execution_count": 883,
     "metadata": {},
     "output_type": "execute_result"
    }
   ],
   "source": [
    "# Zero Shot Vanilla\n",
    "create_agg_metrics_df(paths.RESULTS_PATH/\"side-effects/labels.xlsx\", paths.RESULTS_PATH/\"side-effects/side-effects_outlines_Llama2-MedTuned-7b_4bit_zero_shot_vanilla.pt\", scorer)\n"
   ]
  },
  {
   "cell_type": "code",
   "execution_count": 884,
   "metadata": {},
   "outputs": [
    {
     "data": {
      "text/plain": [
       "side_effects_precision     0.439665\n",
       "side_effects_recall        0.433439\n",
       "side_effects_f1            0.429156\n",
       "medication_precision       0.202595\n",
       "medication_recall          0.248333\n",
       "medication_f1              0.209222\n",
       "duplicated                 5.000000\n",
       "successful                98.000000\n",
       "dtype: float64"
      ]
     },
     "execution_count": 884,
     "metadata": {},
     "output_type": "execute_result"
    }
   ],
   "source": [
    "# Zero Shot instruction\n",
    "create_agg_metrics_df(paths.RESULTS_PATH/\"side-effects/labels.xlsx\", paths.RESULTS_PATH/\"side-effects/side-effects_outlines_Llama2-MedTuned-7b_4bit_zero_shot_instruction.pt\", scorer)\n"
   ]
  },
  {
   "cell_type": "code",
   "execution_count": 885,
   "metadata": {},
   "outputs": [
    {
     "data": {
      "text/plain": [
       "side_effects_precision     0.567207\n",
       "side_effects_recall        0.562819\n",
       "side_effects_f1            0.559396\n",
       "medication_precision       0.398333\n",
       "medication_recall          0.378333\n",
       "medication_f1              0.380000\n",
       "duplicated                18.000000\n",
       "successful                98.000000\n",
       "dtype: float64"
      ]
     },
     "execution_count": 885,
     "metadata": {},
     "output_type": "execute_result"
    }
   ],
   "source": [
    "# Few Shot Vanilla\n",
    "create_agg_metrics_df(paths.RESULTS_PATH/\"side-effects/labels.xlsx\", paths.RESULTS_PATH/\"side-effects/side-effects_outlines_Llama2-MedTuned-7b_4bit_few_shot_vanilla_10_examples.pt\", scorer)"
   ]
  },
  {
   "cell_type": "code",
   "execution_count": 886,
   "metadata": {},
   "outputs": [
    {
     "data": {
      "text/plain": [
       "side_effects_precision     0.577289\n",
       "side_effects_recall        0.569135\n",
       "side_effects_f1            0.566868\n",
       "medication_precision       0.393333\n",
       "medication_recall          0.366667\n",
       "medication_f1              0.374444\n",
       "duplicated                22.000000\n",
       "successful                93.000000\n",
       "dtype: float64"
      ]
     },
     "execution_count": 886,
     "metadata": {},
     "output_type": "execute_result"
    }
   ],
   "source": [
    "create_agg_metrics_df(paths.RESULTS_PATH/\"side-effects/labels.xlsx\", paths.RESULTS_PATH/\"side-effects/side-effects_outlines_Llama2-MedTuned-7b_4bit_few_shot_instruction_10_examples.pt\", scorer)"
   ]
  },
  {
   "cell_type": "markdown",
   "metadata": {},
   "source": [
    "## RAG"
   ]
  },
  {
   "cell_type": "code",
   "execution_count": 887,
   "metadata": {},
   "outputs": [
    {
     "data": {
      "text/plain": [
       "side_effects_precision      0.565181\n",
       "side_effects_recall         0.514139\n",
       "side_effects_f1             0.529431\n",
       "medication_precision        0.420357\n",
       "medication_recall           0.428333\n",
       "medication_f1               0.413444\n",
       "duplicated                 18.000000\n",
       "successful                100.000000\n",
       "dtype: float64"
      ]
     },
     "execution_count": 887,
     "metadata": {},
     "output_type": "execute_result"
    }
   ],
   "source": [
    "# Zero Shot Vanilla\n",
    "create_agg_metrics_df(paths.RESULTS_PATH/\"side-effects/labels.xlsx\", paths.RESULTS_PATH/\"side-effects/side-effects_outlines_Llama2-MedTuned-7b_4bit_zero_shot_vanilla_rag.pt\", scorer)\n"
   ]
  },
  {
   "cell_type": "code",
   "execution_count": 888,
   "metadata": {},
   "outputs": [
    {
     "data": {
      "text/plain": [
       "side_effects_precision     0.509794\n",
       "side_effects_recall        0.470241\n",
       "side_effects_f1            0.481800\n",
       "medication_precision       0.412333\n",
       "medication_recall          0.408333\n",
       "medication_f1              0.402381\n",
       "duplicated                19.000000\n",
       "successful                99.000000\n",
       "dtype: float64"
      ]
     },
     "execution_count": 888,
     "metadata": {},
     "output_type": "execute_result"
    }
   ],
   "source": [
    "# Zero Shot instruction\n",
    "create_agg_metrics_df(paths.RESULTS_PATH/\"side-effects/labels.xlsx\", paths.RESULTS_PATH/\"side-effects/side-effects_outlines_Llama2-MedTuned-7b_4bit_zero_shot_instruction_rag.pt\", scorer)\n"
   ]
  },
  {
   "cell_type": "code",
   "execution_count": 889,
   "metadata": {},
   "outputs": [
    {
     "data": {
      "text/plain": [
       "side_effects_precision      0.577987\n",
       "side_effects_recall         0.577308\n",
       "side_effects_f1             0.571423\n",
       "medication_precision        0.385000\n",
       "medication_recall           0.378333\n",
       "medication_f1               0.378333\n",
       "duplicated                 24.000000\n",
       "successful                100.000000\n",
       "dtype: float64"
      ]
     },
     "execution_count": 889,
     "metadata": {},
     "output_type": "execute_result"
    }
   ],
   "source": [
    "# Few Shot Vanilla\n",
    "create_agg_metrics_df(paths.RESULTS_PATH/\"side-effects/labels.xlsx\", paths.RESULTS_PATH/\"side-effects/side-effects_outlines_Llama2-MedTuned-7b_4bit_few_shot_vanilla_10_examples_rag.pt\", scorer)"
   ]
  },
  {
   "cell_type": "code",
   "execution_count": 890,
   "metadata": {},
   "outputs": [
    {
     "data": {
      "text/plain": [
       "side_effects_precision     0.603300\n",
       "side_effects_recall        0.605233\n",
       "side_effects_f1            0.598004\n",
       "medication_precision       0.397262\n",
       "medication_recall          0.403333\n",
       "medication_f1              0.389833\n",
       "duplicated                29.000000\n",
       "successful                97.000000\n",
       "dtype: float64"
      ]
     },
     "execution_count": 890,
     "metadata": {},
     "output_type": "execute_result"
    }
   ],
   "source": [
    "create_agg_metrics_df(paths.RESULTS_PATH/\"side-effects/labels.xlsx\", paths.RESULTS_PATH/\"side-effects/side-effects_outlines_Llama2-MedTuned-7b_4bit_few_shot_instruction_10_examples_rag.pt\", scorer)"
   ]
  },
  {
   "cell_type": "markdown",
   "metadata": {},
   "source": [
    "## S2A"
   ]
  },
  {
   "cell_type": "code",
   "execution_count": 891,
   "metadata": {},
   "outputs": [
    {
     "data": {
      "text/plain": [
       "side_effects_precision      0.577548\n",
       "side_effects_recall         0.547854\n",
       "side_effects_f1             0.553986\n",
       "medication_precision        0.790000\n",
       "medication_recall           0.720000\n",
       "medication_f1               0.743333\n",
       "duplicated                  1.000000\n",
       "successful                100.000000\n",
       "dtype: float64"
      ]
     },
     "execution_count": 891,
     "metadata": {},
     "output_type": "execute_result"
    }
   ],
   "source": [
    "# Zero Shot Vanilla\n",
    "create_agg_metrics_df(paths.RESULTS_PATH/\"side-effects/labels.xlsx\", paths.RESULTS_PATH/\"side-effects/side-effects_outlines_Llama2-MedTuned-7b_4bit_zero_shot_vanilla_s2a.pt\", scorer)\n"
   ]
  },
  {
   "cell_type": "code",
   "execution_count": 892,
   "metadata": {},
   "outputs": [
    {
     "data": {
      "text/plain": [
       "side_effects_precision     0.596390\n",
       "side_effects_recall        0.545501\n",
       "side_effects_f1            0.559707\n",
       "medication_precision       0.820000\n",
       "medication_recall          0.743333\n",
       "medication_f1              0.768333\n",
       "duplicated                 5.000000\n",
       "successful                99.000000\n",
       "dtype: float64"
      ]
     },
     "execution_count": 892,
     "metadata": {},
     "output_type": "execute_result"
    }
   ],
   "source": [
    "# Zero Shot instruction\n",
    "create_agg_metrics_df(paths.RESULTS_PATH/\"side-effects/labels.xlsx\", paths.RESULTS_PATH/\"side-effects/side-effects_outlines_Llama2-MedTuned-7b_4bit_zero_shot_instruction_s2a.pt\", scorer)\n"
   ]
  },
  {
   "cell_type": "code",
   "execution_count": 893,
   "metadata": {},
   "outputs": [
    {
     "data": {
      "text/plain": [
       "side_effects_precision     0.584967\n",
       "side_effects_recall        0.582505\n",
       "side_effects_f1            0.579639\n",
       "medication_precision       0.550000\n",
       "medication_recall          0.486667\n",
       "medication_f1              0.506667\n",
       "duplicated                12.000000\n",
       "successful                99.000000\n",
       "dtype: float64"
      ]
     },
     "execution_count": 893,
     "metadata": {},
     "output_type": "execute_result"
    }
   ],
   "source": [
    "# Few Shot Vanilla\n",
    "create_agg_metrics_df(paths.RESULTS_PATH/\"side-effects/labels.xlsx\", paths.RESULTS_PATH/\"side-effects/side-effects_outlines_Llama2-MedTuned-7b_4bit_few_shot_vanilla_10_examples_s2a.pt\", scorer)"
   ]
  },
  {
   "cell_type": "code",
   "execution_count": 894,
   "metadata": {},
   "outputs": [
    {
     "data": {
      "text/plain": [
       "side_effects_precision     0.607340\n",
       "side_effects_recall        0.592319\n",
       "side_effects_f1            0.594689\n",
       "medication_precision       0.470000\n",
       "medication_recall          0.418333\n",
       "medication_f1              0.435000\n",
       "duplicated                20.000000\n",
       "successful                96.000000\n",
       "dtype: float64"
      ]
     },
     "execution_count": 894,
     "metadata": {},
     "output_type": "execute_result"
    }
   ],
   "source": [
    "create_agg_metrics_df(paths.RESULTS_PATH/\"side-effects/labels.xlsx\", paths.RESULTS_PATH/\"side-effects/side-effects_outlines_Llama2-MedTuned-7b_4bit_few_shot_instruction_10_examples_s2a.pt\", scorer)"
   ]
  },
  {
   "cell_type": "code",
   "execution_count": 895,
   "metadata": {},
   "outputs": [],
   "source": [
    "file_paths7b = [paths.RESULTS_PATH/\"side-effects/side-effects_outlines_Llama2-MedTuned-7b_4bit_zero_shot_vanilla.pt\",\n",
    "              paths.RESULTS_PATH/\"side-effects/side-effects_outlines_Llama2-MedTuned-7b_4bit_zero_shot_instruction.pt\",\n",
    "              paths.RESULTS_PATH/\"side-effects/side-effects_outlines_Llama2-MedTuned-7b_4bit_few_shot_vanilla_10_examples.pt\",\n",
    "              paths.RESULTS_PATH/\"side-effects/side-effects_outlines_Llama2-MedTuned-7b_4bit_few_shot_instruction_10_examples.pt\",\n",
    "              paths.RESULTS_PATH/\"side-effects/side-effects_outlines_Llama2-MedTuned-7b_4bit_zero_shot_vanilla_rag.pt\",\n",
    "              paths.RESULTS_PATH/\"side-effects/side-effects_outlines_Llama2-MedTuned-7b_4bit_zero_shot_instruction_rag.pt\",\n",
    "              paths.RESULTS_PATH/\"side-effects/side-effects_outlines_Llama2-MedTuned-7b_4bit_few_shot_vanilla_10_examples_rag.pt\",\n",
    "              paths.RESULTS_PATH/\"side-effects/side-effects_outlines_Llama2-MedTuned-7b_4bit_few_shot_instruction_10_examples_rag.pt\",\n",
    "              paths.RESULTS_PATH/\"side-effects/side-effects_outlines_Llama2-MedTuned-7b_4bit_zero_shot_vanilla_s2a.pt\",\n",
    "              paths.RESULTS_PATH/\"side-effects/side-effects_outlines_Llama2-MedTuned-7b_4bit_zero_shot_instruction_s2a.pt\",\n",
    "              paths.RESULTS_PATH/\"side-effects/side-effects_outlines_Llama2-MedTuned-7b_4bit_few_shot_vanilla_10_examples_s2a.pt\",\n",
    "              paths.RESULTS_PATH/\"side-effects/side-effects_outlines_Llama2-MedTuned-7b_4bit_few_shot_instruction_10_examples_s2a.pt\",]"
   ]
  },
  {
   "cell_type": "code",
   "execution_count": 896,
   "metadata": {},
   "outputs": [],
   "source": [
    "results7b = summarize(file_paths7b, paths.RESULTS_PATH/\"side-effects/labels.xlsx\", scorer)\n",
    "results7b = results7b.round(2)\n",
    "results7b.to_csv(paths.RESULTS_PATH/\"side-effects/summary7b.csv\", index=False)"
   ]
  },
  {
   "cell_type": "code",
   "execution_count": 897,
   "metadata": {},
   "outputs": [],
   "source": [
    "thesis7b = latex_metrics(results7b)\n",
    "thesis7b_precision = thesis7b[[\"strategy\"] + [col for col in thesis7b.columns if \"precision\" in col]]\n",
    "thesis7b_recall = thesis7b[[\"strategy\"] + [col for col in thesis7b.columns if \"recall\" in col]]\n",
    "thesis7b_f1 = thesis7b[[\"strategy\"] + [col for col in thesis7b.columns if \"f1\" in col]]\n",
    "\n",
    "thesis7b_precision.to_csv(paths.RESULTS_PATH/\"side-effects/thesis7b_precision.csv\", index=False)\n",
    "thesis7b_recall.to_csv(paths.RESULTS_PATH/\"side-effects/thesis7b_recall.csv\", index=False)\n",
    "thesis7b_f1.to_csv(paths.RESULTS_PATH/\"side-effects/thesis7b_f1.csv\", index=False)"
   ]
  },
  {
   "cell_type": "code",
   "execution_count": 898,
   "metadata": {},
   "outputs": [
    {
     "data": {
      "text/html": [
       "<div>\n",
       "<style scoped>\n",
       "    .dataframe tbody tr th:only-of-type {\n",
       "        vertical-align: middle;\n",
       "    }\n",
       "\n",
       "    .dataframe tbody tr th {\n",
       "        vertical-align: top;\n",
       "    }\n",
       "\n",
       "    .dataframe thead th {\n",
       "        text-align: right;\n",
       "    }\n",
       "</style>\n",
       "<table border=\"1\" class=\"dataframe\">\n",
       "  <thead>\n",
       "    <tr style=\"text-align: right;\">\n",
       "      <th></th>\n",
       "      <th>side_effects_precision</th>\n",
       "      <th>side_effects_recall</th>\n",
       "      <th>side_effects_f1</th>\n",
       "      <th>medication_precision</th>\n",
       "      <th>medication_recall</th>\n",
       "      <th>medication_f1</th>\n",
       "      <th>duplicated</th>\n",
       "      <th>successful</th>\n",
       "      <th>approach</th>\n",
       "      <th>strategy</th>\n",
       "    </tr>\n",
       "  </thead>\n",
       "  <tbody>\n",
       "    <tr>\n",
       "      <th>0</th>\n",
       "      <td>0.48</td>\n",
       "      <td>0.47</td>\n",
       "      <td>0.47</td>\n",
       "      <td>0.23</td>\n",
       "      <td>0.30</td>\n",
       "      <td>0.24</td>\n",
       "      <td>35.0</td>\n",
       "      <td>65.0</td>\n",
       "      <td>Base</td>\n",
       "      <td>Zero-Shot Base</td>\n",
       "    </tr>\n",
       "    <tr>\n",
       "      <th>1</th>\n",
       "      <td>0.44</td>\n",
       "      <td>0.43</td>\n",
       "      <td>0.43</td>\n",
       "      <td>0.20</td>\n",
       "      <td>0.25</td>\n",
       "      <td>0.21</td>\n",
       "      <td>5.0</td>\n",
       "      <td>98.0</td>\n",
       "      <td>Base</td>\n",
       "      <td>Zero-Shot Instruction</td>\n",
       "    </tr>\n",
       "    <tr>\n",
       "      <th>2</th>\n",
       "      <td>0.57</td>\n",
       "      <td>0.56</td>\n",
       "      <td>0.56</td>\n",
       "      <td>0.40</td>\n",
       "      <td>0.38</td>\n",
       "      <td>0.38</td>\n",
       "      <td>18.0</td>\n",
       "      <td>98.0</td>\n",
       "      <td>Base</td>\n",
       "      <td>Few-Shot Base</td>\n",
       "    </tr>\n",
       "    <tr>\n",
       "      <th>3</th>\n",
       "      <td>0.58</td>\n",
       "      <td>0.57</td>\n",
       "      <td>0.57</td>\n",
       "      <td>0.39</td>\n",
       "      <td>0.37</td>\n",
       "      <td>0.37</td>\n",
       "      <td>22.0</td>\n",
       "      <td>93.0</td>\n",
       "      <td>Base</td>\n",
       "      <td>Few-Shot Instruction</td>\n",
       "    </tr>\n",
       "    <tr>\n",
       "      <th>4</th>\n",
       "      <td>0.57</td>\n",
       "      <td>0.51</td>\n",
       "      <td>0.53</td>\n",
       "      <td>0.42</td>\n",
       "      <td>0.43</td>\n",
       "      <td>0.41</td>\n",
       "      <td>18.0</td>\n",
       "      <td>100.0</td>\n",
       "      <td>S2A-1</td>\n",
       "      <td>Zero-Shot Base</td>\n",
       "    </tr>\n",
       "    <tr>\n",
       "      <th>5</th>\n",
       "      <td>0.51</td>\n",
       "      <td>0.47</td>\n",
       "      <td>0.48</td>\n",
       "      <td>0.41</td>\n",
       "      <td>0.41</td>\n",
       "      <td>0.40</td>\n",
       "      <td>19.0</td>\n",
       "      <td>99.0</td>\n",
       "      <td>S2A-1</td>\n",
       "      <td>Zero-Shot Instruction</td>\n",
       "    </tr>\n",
       "    <tr>\n",
       "      <th>6</th>\n",
       "      <td>0.58</td>\n",
       "      <td>0.58</td>\n",
       "      <td>0.57</td>\n",
       "      <td>0.38</td>\n",
       "      <td>0.38</td>\n",
       "      <td>0.38</td>\n",
       "      <td>24.0</td>\n",
       "      <td>100.0</td>\n",
       "      <td>S2A-1</td>\n",
       "      <td>Few-Shot Base</td>\n",
       "    </tr>\n",
       "    <tr>\n",
       "      <th>7</th>\n",
       "      <td>0.60</td>\n",
       "      <td>0.61</td>\n",
       "      <td>0.60</td>\n",
       "      <td>0.40</td>\n",
       "      <td>0.40</td>\n",
       "      <td>0.39</td>\n",
       "      <td>29.0</td>\n",
       "      <td>97.0</td>\n",
       "      <td>S2A-1</td>\n",
       "      <td>Few-Shot Instruction</td>\n",
       "    </tr>\n",
       "    <tr>\n",
       "      <th>8</th>\n",
       "      <td>0.58</td>\n",
       "      <td>0.55</td>\n",
       "      <td>0.55</td>\n",
       "      <td>0.79</td>\n",
       "      <td>0.72</td>\n",
       "      <td>0.74</td>\n",
       "      <td>1.0</td>\n",
       "      <td>100.0</td>\n",
       "      <td>S2A-2</td>\n",
       "      <td>Zero-Shot Base</td>\n",
       "    </tr>\n",
       "    <tr>\n",
       "      <th>9</th>\n",
       "      <td>0.60</td>\n",
       "      <td>0.55</td>\n",
       "      <td>0.56</td>\n",
       "      <td>0.82</td>\n",
       "      <td>0.74</td>\n",
       "      <td>0.77</td>\n",
       "      <td>5.0</td>\n",
       "      <td>99.0</td>\n",
       "      <td>S2A-2</td>\n",
       "      <td>Zero-Shot Instruction</td>\n",
       "    </tr>\n",
       "    <tr>\n",
       "      <th>10</th>\n",
       "      <td>0.58</td>\n",
       "      <td>0.58</td>\n",
       "      <td>0.58</td>\n",
       "      <td>0.55</td>\n",
       "      <td>0.49</td>\n",
       "      <td>0.51</td>\n",
       "      <td>12.0</td>\n",
       "      <td>99.0</td>\n",
       "      <td>S2A-2</td>\n",
       "      <td>Few-Shot Base</td>\n",
       "    </tr>\n",
       "    <tr>\n",
       "      <th>11</th>\n",
       "      <td>0.61</td>\n",
       "      <td>0.59</td>\n",
       "      <td>0.59</td>\n",
       "      <td>0.47</td>\n",
       "      <td>0.42</td>\n",
       "      <td>0.44</td>\n",
       "      <td>20.0</td>\n",
       "      <td>96.0</td>\n",
       "      <td>S2A-2</td>\n",
       "      <td>Few-Shot Instruction</td>\n",
       "    </tr>\n",
       "  </tbody>\n",
       "</table>\n",
       "</div>"
      ],
      "text/plain": [
       "    side_effects_precision  side_effects_recall  side_effects_f1  \\\n",
       "0                     0.48                 0.47             0.47   \n",
       "1                     0.44                 0.43             0.43   \n",
       "2                     0.57                 0.56             0.56   \n",
       "3                     0.58                 0.57             0.57   \n",
       "4                     0.57                 0.51             0.53   \n",
       "5                     0.51                 0.47             0.48   \n",
       "6                     0.58                 0.58             0.57   \n",
       "7                     0.60                 0.61             0.60   \n",
       "8                     0.58                 0.55             0.55   \n",
       "9                     0.60                 0.55             0.56   \n",
       "10                    0.58                 0.58             0.58   \n",
       "11                    0.61                 0.59             0.59   \n",
       "\n",
       "    medication_precision  medication_recall  medication_f1  duplicated  \\\n",
       "0                   0.23               0.30           0.24        35.0   \n",
       "1                   0.20               0.25           0.21         5.0   \n",
       "2                   0.40               0.38           0.38        18.0   \n",
       "3                   0.39               0.37           0.37        22.0   \n",
       "4                   0.42               0.43           0.41        18.0   \n",
       "5                   0.41               0.41           0.40        19.0   \n",
       "6                   0.38               0.38           0.38        24.0   \n",
       "7                   0.40               0.40           0.39        29.0   \n",
       "8                   0.79               0.72           0.74         1.0   \n",
       "9                   0.82               0.74           0.77         5.0   \n",
       "10                  0.55               0.49           0.51        12.0   \n",
       "11                  0.47               0.42           0.44        20.0   \n",
       "\n",
       "    successful approach               strategy  \n",
       "0         65.0     Base         Zero-Shot Base  \n",
       "1         98.0     Base  Zero-Shot Instruction  \n",
       "2         98.0     Base          Few-Shot Base  \n",
       "3         93.0     Base   Few-Shot Instruction  \n",
       "4        100.0    S2A-1         Zero-Shot Base  \n",
       "5         99.0    S2A-1  Zero-Shot Instruction  \n",
       "6        100.0    S2A-1          Few-Shot Base  \n",
       "7         97.0    S2A-1   Few-Shot Instruction  \n",
       "8        100.0    S2A-2         Zero-Shot Base  \n",
       "9         99.0    S2A-2  Zero-Shot Instruction  \n",
       "10        99.0    S2A-2          Few-Shot Base  \n",
       "11        96.0    S2A-2   Few-Shot Instruction  "
      ]
     },
     "execution_count": 898,
     "metadata": {},
     "output_type": "execute_result"
    }
   ],
   "source": [
    "results7b"
   ]
  },
  {
   "cell_type": "code",
   "execution_count": 899,
   "metadata": {},
   "outputs": [
    {
     "data": {
      "text/plain": [
       "['{\"side_effects\":[{\"medication\":\"Phenytoinaufsättigung\",\"side_effect\":\"Intoxikation\"}]}',\n",
       " '{\"side_effects\":[{\"medication\":\"Lymphopenie\",\"side_effect\":\"bekannte NW\"}]}',\n",
       " '{\"side_effects\":[{\"medication\":\"kutane Verhärtungen\",\"side_effect\":\"grippeähnliche Nebenwirkungen\"}]}',\n",
       " '{\"side_effects\":[{\"medication\":\"Prednison\",\"side_effect\":\"Diabetes mellitus (Prednison), Osteoporose (Prednison), Neutropenie (Imurek), Niereninsuffizienz (z.\"}]}',\n",
       " '{\"side_effects\":[{\"medication\":\"grippeähnliche Nebenwirkungen\",\"side_effect\":\"strong\"}]}',\n",
       " '{\"side_effects\":[{\"medication\":\"grippeähnliche Nebenwirkungen\",\"side_effect\":\"unknown\"}]}',\n",
       " '{\"side_effects\":[{\"medication\":\"kutanen Verhärtungen\",\"side_effect\":\"grippeähnliche Nebenwirkungen\"}]}',\n",
       " '{\"side_effects\":[{\"medication\":\"Valproat/Lamotrigin\",\"side_effect\":\"akzentuiert seit 10.07.2009, am ehesten Nebenwirkung\"}]}',\n",
       " '{\"side_effects\":[{\"medication\":\"grippeähnliche Nebenwirkungen\",\"side_effect\":\"persistierend\"}]}',\n",
       " '{\"side_effects\":[{\"medication\":\"Betaferon\",\"side_effect\":\"kutanen Verhärtungen und grippeähnliche Nebenwirkungen\"}]}',\n",
       " '{\"side_effects\":[{\"medication\":\"grippeähnliche Nebenwirkungen\",\"side_effect\":\"unknown\"}]}',\n",
       " '{\"side_effects\":[{\"medication\":\"grippeähnliche Nebenwirkungen\",\"side_effect\":\"unknown\"}]}',\n",
       " '{\"side_effects\":[{\"medication\":\"gastrointestinalen NebenwirkUN\",\"side_effect\":\"unknown\"}]}',\n",
       " '{\"side_effects\":[{\"medication\":\"gastrointestinalen NebenwirkUN\",\"side_effect\":\"unknown\"}]}',\n",
       " '{\"side_effects\":[{\"medication\":\"NW allgemeine Schwäche, Schwнд\",\"side_effect\":\"unknown\"}]}',\n",
       " '{\"side_effects\":[{\"medication\":\"Betaferon\",\"side_effect\":\"kutanen Verhärtungen und grippeähnliche Nebenwirkungen\"}]}',\n",
       " '{\"side_effects\":[{\"medication\":\"Tegretol\",\"side_effect\":\"Neuralgien\"}]}',\n",
       " '{\"side_effects\":[]}',\n",
       " '{\"side_effects\":[{\"medication\":\"psychische Nebenwirkungen\",\"side_effect\":\"massive Aversion\"}]}',\n",
       " '{\"side_effects\":[{\"medication\":\"Optikusneuritis\",\"side_effect\":\"unknown\"}]}',\n",
       " '{\"side_effects\":[{\"medication\":\"gastrointestinaler NebenwirkUN\",\"side_effect\":\"unknown\"}]}',\n",
       " '{\"side_effects\":[{\"medication\":\"Salazopyrin\",\"side_effect\":\"GI-Nebenwirkungen\"}]}',\n",
       " '{\"side_effects\":[{\"medication\":\"unknown\",\"side_effect\":\"unknown\"}]}',\n",
       " '{\"side_effects\":[{\"medication\":\"Tecfidera\",\"side_effect\":\"gastrointestinalen Nebenwirkungen\"}]}',\n",
       " '{\"side_effects\":[{\"medication\":\"Toviaz®\",\"side_effect\":\"unknown\"}]}',\n",
       " '{\"side_effects\":[]}',\n",
       " '{\"side_effects\":[{\"medication\":\"grippeähnliche Nebenwirkungen\",\"side_effect\":\"strong\"}]}',\n",
       " '{\"side_effects\":[{\"medication\":\"Rituximab\",\"side_effect\":\"DD nicht dokumentierte Rhythmusstörung\"}]}',\n",
       " '{\"side_effects\":[{\"medication\":\"Rebif\",\"side_effect\":\"unknown\"}]}',\n",
       " '{\"side_effects\":[{\"medication\":\"gastrointestinalen NebenwirkUN\",\"side_effect\":\"unknown\"}]}',\n",
       " '{\"side_effects\":[{\"medication\":\"gastrointestinalen NebenwirkUN\",\"side_effect\":\"unknown\"}]}',\n",
       " '{\"side_effects\":[{\"medication\":\"grippeähnliche Nebenwirkungen\",\"side_effect\":\"unknown\"}]}',\n",
       " '{\"side_effects\":[{\"medication\":\"unknown\",\"side_effect\":\"unknown\"}]}',\n",
       " '{\"side_effects\":[{\"medication\":\"Clindamycin\",\"side_effect\":\"allergie-ähnlich\"}]}',\n",
       " '{\"side_effects\":[{\"medication\":\"Fampyra\",\"side_effect\":\"Non-Responderin und Nebenwirkungen\"}]}',\n",
       " '{\"side_effects\":[{\"medication\":\"Spinalkanalstenose L2/3 bei \",\"side_effect\":\"medianer DH, Hypertrophie Ligamenta flava, leichte foraminale Stenose L3 links, leichte Kompression \"}]}',\n",
       " '{\"side_effects\":[{\"medication\":\"Humira\",\"side_effect\":\"NW -lokale Rötung sowie Atemnot\"}]}',\n",
       " '{\"side_effects\":[{\"medication\":\"gastroenteritis\",\"side_effect\":\"Nebenwirkung\"}]}',\n",
       " '{\"side_effects\":[{\"medication\":\"gastrointestinalen NebenwirkUN\",\"side_effect\":\"unknown\"}]}',\n",
       " '{\"side_effects\":[{\"medication\":\"unknown\",\"side_effect\":\"unknown\"}]}',\n",
       " '{\"side_effects\":[{\"medication\":\"unknown\",\"side_effect\":\"unknown\"}]}',\n",
       " '{\"side_effects\":[{\"medication\":\"grippeähnliche Nebenwirkungen\",\"side_effect\":\"unknown\"}]}',\n",
       " '{\"side_effects\":[{\"medication\":\"Detrusitol\",\"side_effect\":\"unknown\"}]}',\n",
       " '{\"side_effects\":[{\"medication\":\"Rebif\",\"side_effect\":\"anhaltende Nebenwirkungen und Schubaktivität\"}]}',\n",
       " '{\"side_effects\":[{\"medication\":\"gastrointestinalen NebenwirkUN\",\"side_effect\":\"unknown\"}]}',\n",
       " '{\"side_effects\":[{\"medication\":\"gastrointestinalen NebenwirkUN\",\"side_effect\":\"unknown\"}]}',\n",
       " '{\"side_effects\":[{\"medication\":\"Bactrim\",\"side_effect\":\"unknown\"}]}',\n",
       " '{\"side_effects\":[{\"medication\":\"Betaferon\",\"side_effect\":\"starke Hautreaktionen\"}]}',\n",
       " '{\"side_effects\":[{\"medication\":\"grippe- und kutanen Nebenwirkǔ\",\"side_effect\":\"unknown\"}]}',\n",
       " '{\"side_effects\":[{\"medication\":\"grippe\",\"side_effect\":\"NW\"}]}',\n",
       " '{\"side_effects\":[{\"medication\":\"Revlimid\",\"side_effect\":\"kardialen Nebenwirkungen (symptomatische Bradykardie)\"}]}',\n",
       " '{\"side_effects\":[{\"medication\":\"Nicotine\",\"side_effect\":\"Withdrawal symptoms\"}]}',\n",
       " '{\"side_effects\":[{\"medication\":\"Tecfidera\",\"side_effect\":\"fehlender Wirkung und Nebenwirkungen\"}]}',\n",
       " '{\"side_effects\":[{\"medication\":\"Glatiramer\",\"side_effect\":\"schmerzhafte subkutane Knoten\"}]}',\n",
       " '{\"side_effects\":[{\"medication\":\"CellCept\",\"side_effect\":\"Nebenwirkungen\"}]}',\n",
       " '{\"side_effects\":[{\"medication\":\"grippeähnliche Nebenwirkungen\",\"side_effect\":\"unknown\"}]}',\n",
       " '{\"side_effects\":[{\"medication\":\"gastrointestinalen NebenwirkUN\",\"side_effect\":\"unknown\"}]}',\n",
       " '{\"side_effects\":[{\"medication\":\"Tysabri\",\"side_effect\":\"peritonitis\"}]}',\n",
       " '{\"side_effects\":[{\"medication\":\"Timonil\",\"side_effect\":\"Reduktion\"}]}',\n",
       " '{\"side_effects\":[{\"medication\":\"Vimpat\",\"side_effect\":\"stabilem Verlauf und NW (Appetitlosigkeit, Geschmackveränderungen) im 06/2020 abgesetzt\"}]}',\n",
       " '{\"side_effects\":[{\"medication\":\"grippeähnliche Nebenwirkungen\",\"side_effect\":\"unknown\"}]}',\n",
       " '{\"side_effects\":[{\"medication\":\"Schwindel\",\"side_effect\":\"Gangunsicherheit\"}]}',\n",
       " '{\"side_effects\":[{\"medication\":\"Rebetol\",\"side_effect\":\"Nebenwirkung\"}]}',\n",
       " '{\"side_effects\":[{\"medication\":\"kognitive Nebenwirkungen\",\"side_effect\":\"Verlangsamung\"}]}',\n",
       " '{\"side_effects\":[{\"medication\":\"grippeähnliche Nebenwirkungen\",\"side_effect\":\"unknown\"}]}',\n",
       " '{\"side_effects\":[{\"medication\":\"Rivotril\",\"side_effect\":\"unknown\"}]}',\n",
       " '{\"side_effects\":[{\"medication\":\"Rebif\",\"side_effect\":\"systemische u. lokale Nebenwirkungen\"}]}',\n",
       " '{\"side_effects\":[{\"medication\":\"grippeähnliche Nebenwirkungen\",\"side_effect\":\"unknown\"}]}',\n",
       " '{\"side_effects\":[{\"medication\":\"Betaferon\",\"side_effect\":\"kutanen Verhärtungen und grippeähnliche Nebenwirkungen\"}]}',\n",
       " '{\"side_effects\":[{\"medication\":\"gut vertragen\",\"side_effect\":\"unknown\"}]}',\n",
       " '{\"side_effects\":[{\"medication\":\"Trittico\",\"side_effect\":\"unknown\"}]}',\n",
       " '{\"side_effects\":[{\"medication\":\"gastrointestinalen NebenwirkUN\",\"side_effect\":\"unknown\"}]}',\n",
       " '{\"side_effects\":[{\"medication\":\"Everolimus\",\"side_effect\":\"unknown\"}]}',\n",
       " '{\"side_effects\":[{\"medication\":\"gastrointestinalen NebenwirkUN\",\"side_effect\":\"unknown\"}]}',\n",
       " '{\"side_effects\":[{\"medication\":\"Schwindel\",\"side_effect\":\"vermehrt\"}]}',\n",
       " '{\"side_effects\":[{\"medication\":\"grippeähnliche Nebenwirkungen\",\"side_effect\":\"unknown\"}]}',\n",
       " '{\"side_effects\":[]}',\n",
       " '{\"side_effects\":[{\"medication\":\"Adipositas\",\"side_effect\":\"unknown\"}]}',\n",
       " '{\"side_effects\":[{\"medication\":\"Betaferon\",\"side_effect\":\"kutanen Verhärtungen und grippeähnliche Nebenwirkungen\"}]}',\n",
       " '{\"side_effects\":[{\"medication\":\"unknown\",\"side_effect\":\"unknown\"}]}',\n",
       " '{\"side_effects\":[{\"medication\":\"allergische Dermatitis\",\"side_effect\":\"unknown\"}]}',\n",
       " '{\"side_effects\":[{\"medication\":\"Valproat\",\"side_effect\":\"unknown\"}]}',\n",
       " '{\"side_effects\":[{\"medication\":\"Rebif\",\"side_effect\":\"grippeähnliche Nebenwirkungen\"}]}',\n",
       " '{\"side_effects\":[{\"medication\":\"unknown\",\"side_effect\":\"unknown\"}]}',\n",
       " '{\"side_effects\":[{\"medication\":\"Toviaz®\",\"side_effect\":\"Nebenwirkungen\"}]}',\n",
       " '{\"side_effects\":[{\"medication\":\"Letrozol\",\"side_effect\":\"Nw\"}]}',\n",
       " '{\"side_effects\":[{\"medication\":\"Rebif\",\"side_effect\":\"psychische Nebenwirkungen incl. Gewichtszunahme und Leberwerterhöhung (weniger als 3x Normwert)\"}]}',\n",
       " '{\"side_effects\":[{\"medication\":\"Schübe\",\"side_effect\":\"unknown\"}]}',\n",
       " '{\"side_effects\":[{\"medication\":\"grippeähnliche Nebenwirkungen\",\"side_effect\":\"unknown\"}]}',\n",
       " '{\"side_effects\":[]}',\n",
       " '{\"side_effects\":[{\"medication\":\"Medikamentennebenwirkung\",\"side_effect\":\"unknown\"}]}',\n",
       " '{\"side_effects\":[{\"medication\":\"unknown\",\"side_effect\":\"unknown\"}]}',\n",
       " '{\"side_effects\":[{\"medication\":\"grippeähnliche Nebenwirkungen\",\"side_effect\":\"unknown\"}]}',\n",
       " '{\"side_effects\":[{\"medication\":\"Rebif\",\"side_effect\":\"unknown\"}]}',\n",
       " '{\"side_effects\":[{\"medication\":\"Enbrel\",\"side_effect\":\"localer Rotzung, Einstichstelle und zentralnervösen Nebenwirkungen\"}]}',\n",
       " '{\"side_effects\":[{\"medication\":\"Actemra\",\"side_effect\":\"subjektiven Nebenwirkungen\"}]}',\n",
       " '{\"side_effects\":[{\"medication\":\"grippeähnliche Nebenwirkungen\",\"side_effect\":\"unknown\"}]}',\n",
       " '{\"side_effects\":[{\"medication\":\"Müdigkeit\",\"side_effect\":\"pannungstypkopfschmerzen\"}]}',\n",
       " '{\"side_effects\":[{\"medication\":\"unknown\",\"side_effect\":\"unknown\"}]}',\n",
       " '{\"side_effects\":[{\"medication\":\"Fampyra\",\"side_effect\":\"unknown\"}]}']"
      ]
     },
     "execution_count": 899,
     "metadata": {},
     "output_type": "execute_result"
    }
   ],
   "source": [
    "torch.load(paths.RESULTS_PATH/\"side-effects/side-effects_outlines_Llama2-MedTuned-7b_4bit_few_shot_instruction_10_examples_s2a.pt\")[\"model_answers\"]"
   ]
  },
  {
   "cell_type": "code",
   "execution_count": 900,
   "metadata": {},
   "outputs": [
    {
     "data": {
      "text/plain": [
       "successful\n",
       "true     124\n",
       "false     35\n",
       "Name: count, dtype: int64"
      ]
     },
     "execution_count": 900,
     "metadata": {},
     "output_type": "execute_result"
    }
   ],
   "source": [
    "prepare_results(paths.RESULTS_PATH/\"side-effects/side-effects_outlines_Llama2-MedTuned-7b_4bit_zero_shot_vanilla.pt\")[\"successful\"].value_counts()"
   ]
  }
 ],
 "metadata": {
  "kernelspec": {
   "display_name": "inf-extr-BlECHwmE-py3.10",
   "language": "python",
   "name": "python3"
  },
  "language_info": {
   "codemirror_mode": {
    "name": "ipython",
    "version": 3
   },
   "file_extension": ".py",
   "mimetype": "text/x-python",
   "name": "python",
   "nbconvert_exporter": "python",
   "pygments_lexer": "ipython3",
   "version": "3.10.12"
  }
 },
 "nbformat": 4,
 "nbformat_minor": 2
}

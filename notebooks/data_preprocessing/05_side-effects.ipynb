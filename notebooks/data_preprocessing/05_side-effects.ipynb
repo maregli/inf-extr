{
 "cells": [
  {
   "cell_type": "markdown",
   "metadata": {},
   "source": [
    "# Side effects Data\n",
    "\n",
    "To run this you first have to run preprocessing/01_classifying text lines and also preprocessing/02_ms-classification and preprocessing 04/llama-finetune. This ensures that you have the same data."
   ]
  },
  {
   "cell_type": "code",
   "execution_count": null,
   "metadata": {},
   "outputs": [],
   "source": [
    "import sys\n",
    "import os\n",
    "sys.path.append(os.getcwd()+\"/../..\")\n",
    "from src import paths\n",
    "\n",
    "import pandas as pd\n",
    "\n",
    "from datasets import Dataset\n",
    "\n",
    "import json\n",
    "\n",
    "from datasets import DatasetDict\n",
    "\n",
    "from sklearn.model_selection import train_test_split"
   ]
  },
  {
   "cell_type": "code",
   "execution_count": null,
   "metadata": {},
   "outputs": [],
   "source": [
    "df = pd.read_csv(paths.DATA_PATH_PREPROCESSED/\"text-finetune/kisim_diagnoses_combined.csv\")"
   ]
  },
  {
   "cell_type": "code",
   "execution_count": null,
   "metadata": {},
   "outputs": [],
   "source": [
    "keywords = [\"Nebenwirkung\", \" NW \"]\n",
    "\n",
    "# Filter out all the entries that contain more\n",
    "df_se = df[df[\"text\"].str.contains(\"|\".join(keywords), case=False, na=False)]\n",
    "\n",
    "# Filter only one text per rid (so no doublte texts)\n",
    "df_se = df_se.drop_duplicates(subset=\"research_id\")"
   ]
  },
  {
   "cell_type": "code",
   "execution_count": null,
   "metadata": {},
   "outputs": [],
   "source": [
    "# Print the lines that contain the keyword\n",
    "for text in df_se[\"text\"]:\n",
    "    text = text.splitlines()\n",
    "    for line in text:\n",
    "        if any(keyword in line for keyword in keywords):\n",
    "            print(line)\n",
    "            print(\"-\" * 50)"
   ]
  },
  {
   "cell_type": "code",
   "execution_count": null,
   "metadata": {},
   "outputs": [],
   "source": [
    "len(df_se)"
   ]
  },
  {
   "cell_type": "markdown",
   "metadata": {},
   "source": [
    "Sample 100 of them"
   ]
  },
  {
   "cell_type": "code",
   "execution_count": null,
   "metadata": {},
   "outputs": [],
   "source": [
    "# Sample 100 entries\n",
    "df_se_sample = df_se.sample(100, random_state=42)"
   ]
  },
  {
   "cell_type": "code",
   "execution_count": null,
   "metadata": {},
   "outputs": [],
   "source": [
    "# Create HF dataset\n",
    "os.makedirs(paths.DATA_PATH_PREPROCESSED/\"side-effects\", exist_ok=True)\n",
    "df_se_sample.rename(columns={\"research_id\": \"rid\"}, inplace=True)\n",
    "df_se_sample = df_se_sample[[\"rid\", \"text\"]]\n",
    "df_se_sample.to_csv(paths.DATA_PATH_PREPROCESSED/\"side-effects/kisim_diagnoses_combined_se_sample.csv\", index=False)\n",
    "ds_se = Dataset.from_pandas(df_se_sample, preserve_index=False)"
   ]
  },
  {
   "cell_type": "code",
   "execution_count": null,
   "metadata": {},
   "outputs": [],
   "source": [
    "# Save the dataset\n",
    "ds_se.save_to_disk(paths.DATA_PATH_PREPROCESSED/\"side-effects/kisim_diagnoses_combined_se_sample\")"
   ]
  },
  {
   "cell_type": "markdown",
   "metadata": {},
   "source": [
    "# Prompting"
   ]
  },
  {
   "cell_type": "code",
   "execution_count": null,
   "metadata": {},
   "outputs": [],
   "source": [
    "# Prompt\n",
    "task_instruction =\"\"\"Your task is to extract medications that showed adverse side effects from a medical report. \n",
    "The input for this task is a medical report in text form, and the output should be a complete list of dictionaries (one per medication) with the following keys:\n",
    "\n",
    "- \"medication\" (str): the name of the medication\n",
    "- \"side_effect\" (str): the side effect of the medication\n",
    "\n",
    "The output format should look like this:\n",
    "[\n",
    "    {\"medication\": \"MedicationName1\", \"side_effect\": \"SideEffect1\"},\n",
    "    {\"medication\": \"MedicationName2\", \"side_effect\": \"SideEffect2\"},\n",
    "    ...\n",
    "]\n",
    "\n",
    "- The \"MedicationName\" can consist of multiple words with whitespace and should be returned as a single string. If you don't find the medication that cause the side-effect, the output should be \"unknown\".\n",
    "- The \"SideEffect\" describes the specific adverse event that was caused by the medication. Sometimes it is not explicitly mentioned; in this case, it should be represented as \"unknown\".\n",
    "- If you can't find any mentions in the input of medications that showed adverse side effects, the output should be [{\"medication\": \"unknown\", \"side_effect\": \"unknown\"},]\n",
    "\n",
    "Only medications that showed adverse side effects should be extracted. If a medication is mentioned but no side effect is mentioned, it should not be included in the output.\n",
    "The text is in German, watch for the keywords \"Nebenwirkung\", \"Begleiterscheinung\", \"Begleitsymptom\", \"Begleitphänomen\" to identify the side effects.\n",
    "\n",
    "\"\"\"\n",
    "\n",
    "system_prompt = \"\"\"You are a helpful, respectful and honest assistant. Always answer as helpfully as possible, while being safe.\n",
    "Your answers should not include any harmful, unethical, racist, sexist, toxic, dangerous, or illegal content.\n",
    "Please ensure that your responses are socially unbiased and positive in nature.\n",
    "If a question does not makeany sense, or is not factually coherent, explain why instead of answering something not correct. \n",
    "If you don’t know the answer to a question, please don’t share false information.\n",
    "\"\"\"\n",
    "\n",
    "with open(paths.DATA_PATH_PREPROCESSED/\"side-effects/task_instruction.txt\", \"w\") as file:\n",
    "    file.write(task_instruction)\n",
    "with open(paths.DATA_PATH_PREPROCESSED/\"side-effects/system_prompt.txt\", \"w\") as file:\n",
    "    file.write(system_prompt)"
   ]
  },
  {
   "cell_type": "code",
   "execution_count": null,
   "metadata": {},
   "outputs": [],
   "source": [
    "task_instruction_german = \"\"\"Ihre Aufgabe ist es, aus einem medizinischen Bericht Medikamente zu extrahieren, die unerwünschte Nebenwirkungen aufweisen. \n",
    "Die Eingabe für diese Aufgabe ist ein medizinischer Bericht in Textform, und die Ausgabe sollte eine vollständige Liste von Wörterbüchern (eines pro Medikament) mit den folgenden Schlüsseln sein:\n",
    "\n",
    "- \"medication\" (str): der Name des Medikaments\n",
    "- \"side_effect\" (str): die Nebenwirkung des Medikaments\n",
    "\n",
    "Das Ausgabeformat sollte wie folgt aussehen:\n",
    "[\n",
    "    {\"Medikation\": \"Medikamentenname1\", \"Nebenwirkung\": \"side_effect1\"},\n",
    "    {\"Medikation\": \"Medikamentenname2\", \"Nebenwirkung\": \"Nebenwirkung2\"},\n",
    "    ...\n",
    "]\n",
    "\n",
    "- Der \"Medikamentenname\" kann aus mehreren Wörtern mit Leerzeichen bestehen und sollte als eine einzige Zeichenkette zurückgegeben werden. Wenn Sie das Medikament, das die Nebenwirkung verursacht, nicht finden, sollte die Ausgabe \"unbekannt\" lauten.\n",
    "- Der \"SideEffect\" beschreibt das spezifische unerwünschte Ereignis, das durch das Medikament verursacht wurde. Manchmal wird sie nicht ausdrücklich erwähnt; in diesem Fall sollte sie als \"unbekannt\" dargestellt werden.\n",
    "- Wenn Sie in der Eingabe keine Erwähnung von Medikamenten finden, die unerwünschte Nebenwirkungen zeigten, sollte die Ausgabe [{\"medication\": \"unknown\", \"side_effect\": \"unknown\"},] sein.\n",
    "\n",
    "Es sollten nur Medikamente extrahiert werden, die unerwünschte Nebenwirkungen aufwiesen. Wird ein Medikament erwähnt, aber keine Nebenwirkung angegeben, sollte es nicht in die Ausgabe aufgenommen werden.\n",
    "Der Text ist in Deutsch, achten Sie auf die Schlüsselwörter \"Nebenwirkung\", \"Begleiterscheinung\", \"Begleitsymptom\", \"Begleitphänomen\", um die Nebenwirkungen zu identifizieren.\n",
    "\"\"\""
   ]
  },
  {
   "cell_type": "code",
   "execution_count": null,
   "metadata": {},
   "outputs": [],
   "source": [
    "examples = [\n",
    "    {\"text\": \"INDENT 12/2014 - 08/2015: Behandlung mit Tecfidera unterbrochen aufgrund von gastrointestinalen Nebenwirkungen\", \"labels\" : '[{\"medication\": \"Tecfidera\", \"side_effect\": \"gastrointestinalen Nebenwirkungen\"}]'},\n",
    "    {\"text\": \"11/97 - 02/05: Einnahme von Rebif beendet aufgrund von Nebenwirkungen\", \"labels\" : '[{\"medication\": \"Rebif\", \"side_effect\": \"unknown\"}]'},\n",
    "    {\"text\": \"Unspezifische unerwünschte Reaktion auf ein Medikament oder eine Substanz\", \"labels\" : '[{\"medication\": \"unknown\", \"side_effect\": \"unknown\"}]'},\n",
    "    {\"text\" : \"die Diagnose ist eine klinisch Isoliertes Syndrom (CIS)\", \"labels\" : '[{\"medication\": \"unknown\", \"side_effect\": \"unknown\"}]'},\n",
    "    {\"text\": \"INDENT St.n. symptomatischer Therapie mit Fampyra (insgesamt 2 Therapieversuche, gestoppt bei Wirkungslosogkeit und i.R. der kardialen Vorbefunden), Therapieversuch mit Modasomil/Remeron (keine Besserung), Venlafaxin (bei Nebenwirkungen gestoppt), Sirdalud\", \"labels\" : '[{\"medication\": \"Venlafaxin\", \"side_effect\": \"unknown\"}]'},\n",
    "    {\"text\": \"10/2019: Beginn mit Gabapentin bis zu einer Dosis von 100 mg täglich. Phenytoinaufsättigung vom 09.10. bis 13.10.2019 (wurde aufgrund von Intoxikation mit Nebenwirkungen abgebrochen). 01/2020: Gabapentin bis zu einer Dosis von 300 mg täglich, Phenytoin oral 200 mg täglich bis zur Operation im Februar 2020, dann Absetzen von Gabapentin im Mai 2020. 02/2020: Erneute perkutane Thermokoagulation des Ganglion gasseri.\", \"labels\": '[{\"medication\": \"Phenytoinaufsättigung\", \"side_effect\": \"Intoxikation\"}]'},\n",
    "    {\"text\": \"Bekannte Nebenwirkung der Lymphozytopenie unter Medrol. Avonex wurde am 26.08.14 abgesetzt, da Fumaderm zur Behandlung von Psoriasis und Multipler Sklerose begonnen wurde, jedoch mit Überlappung von Fumaderm (Beginn am 31.07.2014).\", \"labels\": '[{\"medication\": \"Medrol\", \"side_effect\": \"Lymphozytopenie\"}]'},\n",
    "    {\"text\": \"10/05-10/13: Behandlung mit Betaferon, was zu kutanen Verhärtungen und grippeähnlichen Nebenwirkungen führte. Seit dem 07.10.13 Behandlung mit Gilenya.\", \"labels\": '[{\"medication\": \"Betaferon\", \"side_effect\": \"kutanen Verhärtungen und grippeähnliche Nebenwirkungen\"}]'},\n",
    "    {\"text\": \"Im Jahr 2005 für drei Monate Behandlung mit Pantoprazol, jedoch aufgrund starker grippeähnlicher Nebenwirkungen und Spritzenphobie abgebrochen. Seit dem 06.02.2007 Teilnahme an der FREEDOMS-Studie, später an der FREEDOMS Extension.\", \"labels\": '[{\"medication\": \"Pantoprazol\", \"side_effect\": \"grippeähnliche Nebenwirkungen\"}]'},\n",
    "    {\"text\": \"Paracetamol 89ug 1/ Woche seit 07/2017; Umstellung aufgrund steigender grippaler Nebenwirkungen', 'INDENT Seit 17.10.2014 Dimethylfumarat (Tecfidera), bisher gut vertragen']\", \"labels\": '[{\"medication\": \"Paracetamol\", \"side_effect\": \"grippeähnliche Nebenwirkungen\"}]'},\n",
    "]\n",
    "\n",
    "# Save dictionary\n",
    "with open(paths.DATA_PATH_PREPROCESSED/\"side-effects/examples.json\", \"w\") as file:\n",
    "    json.dump(examples, file, indent=4)"
   ]
  },
  {
   "cell_type": "markdown",
   "metadata": {},
   "source": [
    "# S2A\n",
    "\n",
    "As the line classifier was trained very unspecific in regards to medication (medms and the rest of medications was part of leftover category). Will train again.\n",
    "For this will load line_labelled data and put everything medication in class 0, everything else in class 1."
   ]
  },
  {
   "cell_type": "code",
   "execution_count": null,
   "metadata": {},
   "outputs": [],
   "source": [
    "# Load csv\n",
    "df_med = pd.read_csv(paths.DATA_PATH_PREPROCESSED/\"line-label/line-label_clean.csv\")\n",
    "\n",
    "# Labels are 0 if class == \"medms\" or \"medo\", 1 otherwise\n",
    "df_med[\"labels\"] = df_med[\"class\"].apply(lambda x: 0 if x in [\"medms\", \"medo\"] else 1)\n",
    "\n",
    "# Train val split\n",
    "df_train, df_val = train_test_split(df_med, test_size=0.2, random_state=42, stratify=df_med[\"labels\"])\n",
    "\n",
    "# Oversample the minority class"
   ]
  },
  {
   "cell_type": "code",
   "execution_count": null,
   "metadata": {},
   "outputs": [],
   "source": [
    "# Create huggingface datasetDict\n",
    "ds_train = Dataset.from_pandas(df_train, preserve_index=False)\n",
    "ds_val = Dataset.from_pandas(df_val, preserve_index=False)\n",
    "\n",
    "ds_dict = DatasetDict({\"train\": ds_train, \"val\": ds_val})\n",
    "\n",
    "# Save the dataset\n",
    "ds_dict.save_to_disk(paths.DATA_PATH_PREPROCESSED/\"line-label/line-label_medication_dataset\")"
   ]
  },
  {
   "cell_type": "markdown",
   "metadata": {},
   "source": [
    "Alternatively create dataset consisting of lines with buzzwords in them."
   ]
  },
  {
   "cell_type": "code",
   "execution_count": null,
   "metadata": {},
   "outputs": [],
   "source": [
    "reports = []\n",
    "for text in df_se_sample[\"text\"]:\n",
    "    text = text.splitlines()\n",
    "    _report = []\n",
    "    for idx, line in enumerate(text):\n",
    "        if any(keyword.lower() in line.lower() for keyword in keywords):\n",
    "            _report.extend([line])\n",
    "    if not _report:\n",
    "        _report.append(\"No relevant lines found.\")\n",
    "        print(text)\n",
    "    print(\"\\n\".join(_report))\n",
    "    print(\"-\" * 50)\n",
    "    reports.append(\"\\n\".join(_report))\n"
   ]
  },
  {
   "cell_type": "code",
   "execution_count": null,
   "metadata": {},
   "outputs": [],
   "source": [
    "df_se_sample_s2a = df_se_sample.copy()\n",
    "df_se_sample_s2a[\"original_text\"] = df_se_sample_s2a[\"text\"]\n",
    "df_se_sample_s2a[\"text\"] = reports\n",
    "\n",
    "df_se_sample_s2a.to_csv(paths.DATA_PATH_PREPROCESSED/\"side-effects/kisim_diagnoses_combined_se_sample_s2a.csv\", index=False)\n",
    "\n",
    "# Save the dataset\n",
    "ds_se_s2a = Dataset.from_pandas(df_se_sample_s2a, preserve_index=False)\n",
    "ds_se_s2a.save_to_disk(paths.DATA_PATH_PREPROCESSED/\"side-effects/kisim_diagnoses_combined_se_sample_s2a\")"
   ]
  }
 ],
 "metadata": {
  "kernelspec": {
   "display_name": "Python 3 (ipykernel)",
   "language": "python",
   "name": "python3"
  },
  "language_info": {
   "codemirror_mode": {
    "name": "ipython",
    "version": 3
   },
   "file_extension": ".py",
   "mimetype": "text/x-python",
   "name": "python",
   "nbconvert_exporter": "python",
   "pygments_lexer": "ipython3",
   "version": "3.10.12"
  }
 },
 "nbformat": 4,
 "nbformat_minor": 4
}

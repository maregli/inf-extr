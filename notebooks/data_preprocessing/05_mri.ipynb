{
 "cells": [
  {
   "cell_type": "code",
   "execution_count": null,
   "metadata": {},
   "outputs": [],
   "source": []
  },
  {
   "cell_type": "code",
   "execution_count": null,
   "metadata": {},
   "outputs": [],
   "source": [
    "# Diagnosis text\n",
    "text = pd.read_csv(paths.DATA_PATH_SEANTIS/'kisim_diagnoses.csv')\n",
    "\n",
    "# MRI Labels\n",
    "mri = pd.read_csv(paths.DATA_PATH_SEANTIS/'magnetic_resonance_images.csv')"
   ]
  },
  {
   "cell_type": "code",
   "execution_count": null,
   "metadata": {},
   "outputs": [],
   "source": [
    "# Relevant columns\n",
    "text = text[['research_id', 'diagnosis_label']]\n",
    "mri = mri[['research_id', 'mri_kind', 'mri_number_new_enlarged_t2_lesions', 'mri_number_t1_gd_plus_lesions']]\n",
    "\n",
    "# Rename mri columns\n",
    "print(mri.columns)\n",
    "mri.columns = ['research_id', 'mri_kind', 'new_lesions', 'km_new_lesions']"
   ]
  }
 ],
 "metadata": {
  "language_info": {
   "name": "python"
  }
 },
 "nbformat": 4,
 "nbformat_minor": 2
}

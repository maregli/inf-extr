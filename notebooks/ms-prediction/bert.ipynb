{
 "cells": [
  {
   "cell_type": "markdown",
   "metadata": {},
   "source": [
    "# Predicting MS diagnosis with BERT"
   ]
  },
  {
   "cell_type": "code",
   "execution_count": null,
   "metadata": {},
   "outputs": [],
   "source": [
    "import sys\n",
    "import os\n",
    "sys.path.append(os.getcwd()+\"/../..\")\n",
    "from src import paths\n",
    "import pandas as pd"
   ]
  },
  {
   "cell_type": "code",
   "execution_count": null,
   "metadata": {},
   "outputs": [],
   "source": [
    "# Load data\n",
    "kisim_diagnoses = pd.read_csv(os.path.join(paths.DATA_PATH_PREPROCESSED, \"kisim_diagnoses_extracted.csv\"))\n",
    "diagnoses = pd.read_csv(os.path.join(paths.DATA_PATH_PREPROCESSED, \"diagnoses_extracted.csv\"))\n",
    "\n",
    "# Merge data according to research_id\n",
    "df = pd.merge(kisim_diagnoses, diagnoses, on=\"research_id\", how=\"inner\")"
   ]
  }
 ],
 "metadata": {
  "kernelspec": {
   "display_name": "inf-extr",
   "language": "python",
   "name": "python3"
  },
  "language_info": {
   "codemirror_mode": {
    "name": "ipython",
    "version": 3
   },
   "file_extension": ".py",
   "mimetype": "text/x-python",
   "name": "python",
   "nbconvert_exporter": "python",
   "pygments_lexer": "ipython3",
   "version": "3.9.18"
  }
 },
 "nbformat": 4,
 "nbformat_minor": 2
}

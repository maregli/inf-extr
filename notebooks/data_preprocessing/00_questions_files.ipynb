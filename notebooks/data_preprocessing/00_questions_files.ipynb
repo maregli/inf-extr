{
 "cells": [
  {
   "cell_type": "code",
   "execution_count": null,
   "id": "3218e3c9",
   "metadata": {},
   "outputs": [],
   "source": [
    "import sys\n",
    "import os\n",
    "sys.path.append(os.getcwd()+\"/../..\")\n",
    "from src import paths\n",
    "import pandas as pd\n",
    "import importlib\n",
    "from src.data import data_loader"
   ]
  },
  {
   "cell_type": "markdown",
   "id": "9e3737b0",
   "metadata": {},
   "source": [
    "## Kisim Diagnosis\n",
    "\n",
    "There are multiple subdirectotires relating to imports from different dates in the data/seantis directory. There seem to be two files of interest for the MS task: diagnoses.csv and kisim_diagnoses.csv"
   ]
  },
  {
   "cell_type": "code",
   "execution_count": null,
   "id": "43a82305",
   "metadata": {},
   "outputs": [],
   "source": [
    "def get_nested_csv(dir_name: str, file_name: str):\n",
    "    \"\"\"\n",
    "    Returns a joint pandas dataframe from the files matching file_name\n",
    "    in all the different import dates subdirectories of the directory\n",
    "    specified by dir_name\n",
    "    \n",
    "    :param dir_name: The name of the directory (e.g. \"seantis\")\n",
    "    :param file_name: The name of the csv file to be read. (e.g. \"diagnoses.csv\")\n",
    "    \"\"\"\n",
    "    list_dfs = []\n",
    "\n",
    "    for root, dirs, files in os.walk(os.path.join(paths.DATA_PATH_RAW, dir_name)):\n",
    "        if \"imported_\" in root:\n",
    "            try:\n",
    "                _df = pd.read_csv(os.path.join(root, file_name))\n",
    "                list_dfs.append(_df)\n",
    "            except FileNotFoundError:\n",
    "                print(f\"File not found in: {root}\")\n",
    "                continue\n",
    "            except UnicodeDecodeError:\n",
    "                print(f\"UnicodeDecodeError in: {root}\")\n",
    "                continue\n",
    "\n",
    "    df = pd.concat(list_dfs)\n",
    "    return df"
   ]
  },
  {
   "cell_type": "code",
   "execution_count": null,
   "id": "2701d3d0",
   "metadata": {},
   "outputs": [],
   "source": [
    "# Diagnoses.csv files\n",
    "diagnoses = get_nested_csv(\"seantis\", \"diagnoses.csv\")\n",
    "display(diagnoses.head())\n",
    "\n",
    "# Count duplicate research ids\n",
    "print(\"Duplicate research_ids: \", diagnoses.research_id.duplicated().sum())\n",
    "\n",
    "# List unique diseases:\n",
    "print(\"Unique Diseases:\\n\", diagnoses.disease.unique())"
   ]
  },
  {
   "cell_type": "code",
   "execution_count": null,
   "id": "73540e2f",
   "metadata": {},
   "outputs": [],
   "source": [
    "# Kisim Diagnoses \n",
    "kisim_diagnoses = get_nested_csv(\"seantis\", \"kisim_diagnoses.csv\")\n",
    "display(kisim_diagnoses.head())\n",
    "\n",
    "#Count duplicate diagnosis ids\n",
    "print(\"Duplicate diagnosis_id: \", kisim_diagnoses.diagnosis_id.duplicated().sum())"
   ]
  },
  {
   "cell_type": "code",
   "execution_count": null,
   "id": "1629f0cf",
   "metadata": {},
   "outputs": [],
   "source": [
    "# Example for a kisim_diagnosis\n",
    "kisim_diagnoses.diagnosis_label.iloc[0]"
   ]
  },
  {
   "cell_type": "code",
   "execution_count": null,
   "id": "a08bc592",
   "metadata": {},
   "outputs": [],
   "source": [
    "# Reports diagnosis\n",
    "reports_kisim_diagnoses = get_nested_csv(\"reports_with_struct_data\",\n",
    "                                         \"reports_kisim_diagnoses.csv\")\n",
    "reports_kisim_diagnoses.head()"
   ]
  },
  {
   "cell_type": "code",
   "execution_count": null,
   "id": "aa768742",
   "metadata": {},
   "outputs": [],
   "source": [
    "# Checking if these are identical to kisim_diagnoses\n",
    "pd.set_option(\"max_colwidth\", None)\n",
    "reports_kisim_diagnoses[reports_kisim_diagnoses.diagnosis_id == kisim_diagnoses.diagnosis_id.iloc[0]].diagnosis_label"
   ]
  },
  {
   "cell_type": "markdown",
   "id": "2986e79b",
   "metadata": {},
   "source": [
    "## Questions\n",
    "### diagnoses.csv\n",
    "- What is the purpose of diagnoses.csv? \n",
    "- Is the diagnosis the disease in? How does it differ from the diagnosis_label in kisim_diagnosis?\n",
    "- Why are there duplicate research_ids? Are there multiple diagnoses per patient?\n",
    "- Are the unique labels all different diseases, or are they maybe coded differently for different imports?\n",
    "\n",
    "### kisim_diagnoses\n",
    "- What is the purpose of kisim_diagnosis? \n",
    "- Why are there duplicate diagnosis_ids (shouldn't they be unique)?\n",
    "\n",
    "### reports_with_struct_data/reports_kisim_diagnoses\n",
    "- Are these identical to the kisim_diagnoses? From the example it seems so\n",
    "\n",
    "### Goal\n",
    "- Do you want me to map from kisim_diagnosis.diagnosis_label (input) to a class in diagnoses.disease (output)? \n",
    "- How would I know which input corresponds to which output if there are multiple diagnoses_ids and research_ids?"
   ]
  }
 ],
 "metadata": {
  "kernelspec": {
   "display_name": "Python 3 (ipykernel)",
   "language": "python",
   "name": "python3"
  },
  "language_info": {
   "codemirror_mode": {
    "name": "ipython",
    "version": 3
   },
   "file_extension": ".py",
   "mimetype": "text/x-python",
   "name": "python",
   "nbconvert_exporter": "python",
   "pygments_lexer": "ipython3",
   "version": "3.9.18"
  }
 },
 "nbformat": 4,
 "nbformat_minor": 5
}

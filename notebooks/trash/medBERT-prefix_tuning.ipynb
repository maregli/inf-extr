{
 "cells": [
  {
   "cell_type": "code",
   "execution_count": 1,
   "metadata": {},
   "outputs": [],
   "source": [
    "from transformers import AutoTokenizer, AutoModelForSequenceClassification, DataCollatorWithPadding, BitsAndBytesConfig, TrainingArguments, Trainer, get_linear_schedule_with_warmup\n",
    "from datasets import load_dataset, concatenate_datasets, Dataset\n",
    "\n",
    "from peft import get_peft_config, get_peft_model, prepare_model_for_kbit_training, PeftConfig, PeftModel\n",
    "\n",
    "from accelerate import Accelerator\n",
    "\n",
    "import torch\n",
    "from torch.utils.data import DataLoader\n",
    "\n",
    "import numpy as np\n",
    "import pandas as pd\n",
    "\n",
    "import os\n",
    "import sys\n",
    "sys.path.append(os.getcwd()+\"/../..\")\n",
    "\n",
    "from src import paths\n",
    "\n",
    "from tqdm import tqdm\n",
    "\n",
    "import evaluate "
   ]
  },
  {
   "cell_type": "code",
   "execution_count": 2,
   "metadata": {},
   "outputs": [
    {
     "name": "stdout",
     "output_type": "stream",
     "text": [
      "GPU 0: NVIDIA GeForce RTX 3050 Ti Laptop GPU\n",
      "   Total Memory: 4.00 GB\n",
      "   Free Memory: 3.23 GB\n",
      "   Allocated Memory : 0.00 GB\n",
      "   Reserved Memory : 0.00 GB\n"
     ]
    }
   ],
   "source": [
    "def check_gpu_memory():\n",
    "    if torch.cuda.is_available():\n",
    "        num_gpus = torch.cuda.device_count()\n",
    "        for gpu_id in range(num_gpus):\n",
    "            free_mem, total_mem = torch.cuda.mem_get_info(gpu_id)\n",
    "            gpu_properties = torch.cuda.get_device_properties(gpu_id)\n",
    "            print(f\"GPU {gpu_id}: {gpu_properties.name}\")\n",
    "            print(f\"   Total Memory: {total_mem / (1024 ** 3):.2f} GB\")\n",
    "            print(f\"   Free Memory: {free_mem / (1024 ** 3):.2f} GB\")\n",
    "            print(f\"   Allocated Memory : {torch.cuda.memory_allocated(gpu_id) / (1024 ** 3):.2f} GB\")\n",
    "            print(f\"   Reserved Memory : {torch.cuda.memory_reserved(gpu_id) / (1024 ** 3):.2f} GB\")\n",
    "    else:\n",
    "        print(\"No GPU available.\")\n",
    "\n",
    "check_gpu_memory()"
   ]
  },
  {
   "cell_type": "code",
   "execution_count": 3,
   "metadata": {},
   "outputs": [],
   "source": [
    "def get_artifical_data_for_label(label:str):\n",
    "    label_dict = {\n",
    "        \"rrms\": \"relapsing_remitting_multiple_sclerosis\",\n",
    "        \"ppms\": \"primary_progressive_multiple_sclerosis\",\n",
    "        \"spms\": \"secondary_progressive_multiple_sclerosis\"\n",
    "    }\n",
    "    generated_data = pd.read_csv(paths.DATA_PATH_PREPROCESSED/f'ms-diag/artificial_{label}.csv')\n",
    "    generated_data[\"labels\"] = label_dict[label]\n",
    "    generated_data = generated_data[[\"0\", \"labels\"]].rename(columns = {\"0\":\"text\"})\n",
    "\n",
    "    return generated_data\n",
    "\n",
    "def get_artifical_data_all():\n",
    "    artifical_data = []\n",
    "    for label in [\"rrms\", \"ppms\", \"spms\"]:\n",
    "        try: \n",
    "            artifical_data.append(get_artifical_data_for_label(label))\n",
    "        except:\n",
    "            print(f\"Could not find data for {label}\")\n",
    "    artifical_data = pd.concat(artifical_data)\n",
    "    artifical_data = Dataset.from_pandas(artifical_data).remove_columns('__index_level_0__')\n",
    "    return artifical_data"
   ]
  },
  {
   "cell_type": "code",
   "execution_count": 4,
   "metadata": {},
   "outputs": [
    {
     "name": "stdout",
     "output_type": "stream",
     "text": [
      "Could not find data for rrms\n"
     ]
    }
   ],
   "source": [
    "# Load data\n",
    "data_files = {\"train\": \"ms-diag_clean_train.csv\", \"validation\": \"ms-diag_clean_val.csv\", \"test\": \"ms-diag_clean_test.csv\"}\n",
    "df = load_dataset(os.path.join(paths.DATA_PATH_PREPROCESSED,'ms-diag'), data_files = data_files)\n",
    "df[\"train\"] = concatenate_datasets([get_artifical_data_all(), df[\"train\"]])\n",
    "\n",
    "# Number of labels\n",
    "num_labels = len(set(df['train']['labels']))\n",
    "\n",
    "# Label to id\n",
    "label2id = {'primary_progressive_multiple_sclerosis': 0,\n",
    "            'relapsing_remitting_multiple_sclerosis': 1,\n",
    "            'secondary_progressive_multiple_sclerosis': 2}\n",
    "id2label = {v:k for k,v in label2id.items()}"
   ]
  },
  {
   "cell_type": "code",
   "execution_count": 56,
   "metadata": {},
   "outputs": [
    {
     "data": {
      "text/plain": [
       "DatasetDict({\n",
       "    train: Dataset({\n",
       "        features: ['text', 'labels', 'rid', 'date'],\n",
       "        num_rows: 383\n",
       "    })\n",
       "    validation: Dataset({\n",
       "        features: ['rid', 'date', 'labels', 'text'],\n",
       "        num_rows: 14\n",
       "    })\n",
       "    test: Dataset({\n",
       "        features: ['rid', 'date', 'labels', 'text'],\n",
       "        num_rows: 59\n",
       "    })\n",
       "})"
      ]
     },
     "execution_count": 56,
     "metadata": {},
     "output_type": "execute_result"
    }
   ],
   "source": [
    "df"
   ]
  },
  {
   "cell_type": "code",
   "execution_count": 13,
   "metadata": {},
   "outputs": [
    {
     "name": "stdout",
     "output_type": "stream",
     "text": [
      "Memory before Model is loaded:\n",
      "\n",
      "GPU 0: NVIDIA GeForce RTX 3050 Ti Laptop GPU\n",
      "   Total Memory: 4.00 GB\n",
      "   Free Memory: 0.00 GB\n",
      "   Allocated Memory : 1.36 GB\n",
      "   Reserved Memory : 3.70 GB\n"
     ]
    },
    {
     "name": "stderr",
     "output_type": "stream",
     "text": [
      "Some weights of BertForSequenceClassification were not initialized from the model checkpoint at /mnt/c/Users/marc_/OneDrive/ETH/MSC_Thesis/inf-extr/resources/models/medbert and are newly initialized: ['classifier.weight', 'classifier.bias']\n",
      "You should probably TRAIN this model on a down-stream task to be able to use it for predictions and inference.\n"
     ]
    },
    {
     "name": "stdout",
     "output_type": "stream",
     "text": [
      "Memory after Model is loaded:\n",
      "\n",
      "GPU 0: NVIDIA GeForce RTX 3050 Ti Laptop GPU\n",
      "   Total Memory: 4.00 GB\n",
      "   Free Memory: 1.27 GB\n",
      "   Allocated Memory : 1.46 GB\n",
      "   Reserved Memory : 1.92 GB\n"
     ]
    }
   ],
   "source": [
    "print(\"Memory before Model is loaded:\\n\")\n",
    "check_gpu_memory()\n",
    "\n",
    "# Load tokenizer\n",
    "tokenizer = AutoTokenizer.from_pretrained(paths.MODEL_PATH/'medbert')\n",
    "\n",
    "# Load model\n",
    "model = AutoModelForSequenceClassification.from_pretrained(paths.MODEL_PATH/'medbert', num_labels=num_labels, load_in_4bit=True)\n",
    "print(\"Memory after Model is loaded:\\n\")\n",
    "check_gpu_memory()\n",
    "model = prepare_model_for_kbit_training(model)"
   ]
  },
  {
   "cell_type": "code",
   "execution_count": 14,
   "metadata": {},
   "outputs": [
    {
     "name": "stdout",
     "output_type": "stream",
     "text": [
      "PrefixTuningConfig(peft_type=<PeftType.PREFIX_TUNING: 'PREFIX_TUNING'>, auto_mapping=None, base_model_name_or_path=None, revision=None, task_type='SEQ_CLS', inference_mode=False, num_virtual_tokens=0, token_dim=768, num_transformer_submodules=1, num_attention_heads=8, num_layers=12, encoder_hidden_size=128, prefix_projection=True)\n"
     ]
    }
   ],
   "source": [
    "# For quantized training need to prepare model\n",
    "config = {\n",
    "    \"peft_type\": \"PREFIX_TUNING\",\n",
    "    \"task_type\": \"SEQ_CLS\",\n",
    "    \"inference_mode\": False,\n",
    "    \"num_virtual_tokens\": 0,\n",
    "    \"token_dim\": model.config.hidden_size,\n",
    "    \"num_transformer_submodules\": 1,\n",
    "    \"num_attention_heads\": model.config.num_attention_heads,\n",
    "    \"num_layers\": model.config.num_hidden_layers,\n",
    "    \"encoder_hidden_size\": 128,\n",
    "    \"prefix_projection\": True,\n",
    "}\n",
    "peft_config = get_peft_config(config)\n",
    "print(peft_config)\n",
    "model = get_peft_model(model, peft_config)"
   ]
  },
  {
   "cell_type": "code",
   "execution_count": 15,
   "metadata": {},
   "outputs": [
    {
     "name": "stdout",
     "output_type": "stream",
     "text": [
      "trainable params: 2,478,467 || all params: 111,562,118 || trainable%: 2.2216026769947126\n",
      "base_model.classifier.modules_to_save.default.weight Shape: torch.Size([3, 768])\n",
      "base_model.classifier.modules_to_save.default.bias Shape: torch.Size([3])\n",
      "prompt_encoder.default.embedding.weight Shape: torch.Size([0, 768])\n",
      "prompt_encoder.default.transform.0.weight Shape: torch.Size([128, 768])\n",
      "prompt_encoder.default.transform.0.bias Shape: torch.Size([128])\n",
      "prompt_encoder.default.transform.2.weight Shape: torch.Size([18432, 128])\n",
      "prompt_encoder.default.transform.2.bias Shape: torch.Size([18432])\n"
     ]
    }
   ],
   "source": [
    "# Trainable parameters\n",
    "model.print_trainable_parameters()\n",
    "for name, param in model.named_parameters():\n",
    "    if param.requires_grad:\n",
    "        print(name, \"Shape:\",param.shape)"
   ]
  },
  {
   "cell_type": "code",
   "execution_count": 16,
   "metadata": {},
   "outputs": [],
   "source": [
    "# Prepare dataset\n",
    "if getattr(tokenizer, \"pad_token_id\") is None:\n",
    "    tokenizer.pad_token_id = tokenizer.eos_token_id\n",
    "\n",
    "\n",
    "def tokenize_function(examples):\n",
    "    # We need space for the prefixes, so if the sequence is longer/equal than the max model length we need to truncate to tokenizer.model_max_length - peft_config.num_virtual_tokens\n",
    "    outputs = tokenizer(examples[\"text\"], truncation=True, max_length=128)\n",
    "    outputs[\"labels\"] = [label2id[label] for label in examples[\"labels\"]]\n",
    "    return outputs\n",
    "\n",
    "encoded_dataset = df.map(tokenize_function, batched=True, remove_columns=[\"text\", \"rid\", \"date\"])\n",
    "\n",
    "# Small train dataset with balanced classes\n",
    "rmms_id = label2id['relapsing_remitting_multiple_sclerosis']\n",
    "small_train_dataset = concatenate_datasets([encoded_dataset['train'].filter(lambda example: example['labels'] != rmms_id), encoded_dataset['train'].filter(lambda example: example['labels'] == rmms_id).shuffle(seed=42).select(range(10))])"
   ]
  },
  {
   "cell_type": "code",
   "execution_count": 17,
   "metadata": {},
   "outputs": [],
   "source": [
    "# Hyperparameters\n",
    "train_batch_size = 32\n",
    "eval_batch_size = 16\n",
    "learning_rate = 1e-2\n",
    "num_epochs = 4\n",
    "gradient_accumulation_steps = 1\n",
    "\n",
    "device = torch.device(\"cuda\") if torch.cuda.is_available() else torch.device(\"cpu\")"
   ]
  },
  {
   "cell_type": "code",
   "execution_count": 18,
   "metadata": {},
   "outputs": [],
   "source": [
    "# Prepare data collator\n",
    "data_collator = DataCollatorWithPadding(tokenizer, padding=\"longest\")\n",
    "\n",
    "# DataLoaders creation\n",
    "train_dataloader = DataLoader(\n",
    "    encoded_dataset[\"train\"], shuffle=True, collate_fn=data_collator, batch_size=train_batch_size,\n",
    ")\n",
    "eval_dataloader = DataLoader(\n",
    "    encoded_dataset[\"validation\"], shuffle=False, collate_fn=data_collator, batch_size=eval_batch_size\n",
    ")"
   ]
  },
  {
   "cell_type": "code",
   "execution_count": 19,
   "metadata": {},
   "outputs": [],
   "source": [
    "# Optimizer\n",
    "optimizer = torch.optim.AdamW(model.parameters(), lr=learning_rate)\n",
    "\n",
    "lr_scheduler = get_linear_schedule_with_warmup(\n",
    "    optimizer=optimizer,\n",
    "    num_warmup_steps=0,\n",
    "    num_training_steps=(len(train_dataloader) * num_epochs),\n",
    ")\n",
    "\n",
    "# Loss\n",
    "# Class weights\n",
    "power = 1\n",
    "class_weights = [1/np.log(len(encoded_dataset['train'].filter(lambda example: example['labels'] == label))) for label in set(encoded_dataset['train']['labels'])]\n",
    "class_weights = [weight**power for weight in class_weights]\n",
    "class_weights = torch.tensor(class_weights, dtype=model.dtype).detach().to(device)\n",
    "\n",
    "\n",
    "loss_fun = torch.nn.CrossEntropyLoss(weight=class_weights)"
   ]
  },
  {
   "cell_type": "code",
   "execution_count": 20,
   "metadata": {},
   "outputs": [
    {
     "name": "stderr",
     "output_type": "stream",
     "text": [
      "  0%|          | 0/12 [00:00<?, ?it/s]You're using a BertTokenizerFast tokenizer. Please note that with a fast tokenizer, using the `__call__` method is faster than using a method to encode the text followed by a call to the `pad` method to get a padded encoding.\n",
      "/home/ubuntu/anaconda3/envs/inf-extr/lib/python3.9/site-packages/torch/utils/checkpoint.py:429: UserWarning: torch.utils.checkpoint: please pass in use_reentrant=True or use_reentrant=False explicitly. The default value of use_reentrant will be updated to be False in the future. To maintain current behavior, pass use_reentrant=True. It is recommended that you use use_reentrant=False. Refer to docs for more details on the differences between the two variants.\n",
      "  warnings.warn(\n",
      "100%|██████████| 12/12 [00:09<00:00,  1.32it/s]\n",
      "100%|██████████| 1/1 [00:00<00:00,  1.57it/s]\n"
     ]
    },
    {
     "name": "stdout",
     "output_type": "stream",
     "text": [
      "epoch=0: train_epoch_loss=tensor(1.2849, device='cuda:0') eval_epoch_loss=tensor(0.9211, device='cuda:0')\n"
     ]
    },
    {
     "name": "stderr",
     "output_type": "stream",
     "text": [
      "100%|██████████| 12/12 [00:08<00:00,  1.36it/s]\n",
      "100%|██████████| 1/1 [00:00<00:00,  1.86it/s]\n"
     ]
    },
    {
     "name": "stdout",
     "output_type": "stream",
     "text": [
      "epoch=1: train_epoch_loss=tensor(0.8014, device='cuda:0') eval_epoch_loss=tensor(0.6723, device='cuda:0')\n"
     ]
    },
    {
     "name": "stderr",
     "output_type": "stream",
     "text": [
      "100%|██████████| 12/12 [00:08<00:00,  1.36it/s]\n",
      "100%|██████████| 1/1 [00:00<00:00,  1.85it/s]\n"
     ]
    },
    {
     "name": "stdout",
     "output_type": "stream",
     "text": [
      "epoch=2: train_epoch_loss=tensor(0.6545, device='cuda:0') eval_epoch_loss=tensor(0.7073, device='cuda:0')\n"
     ]
    },
    {
     "name": "stderr",
     "output_type": "stream",
     "text": [
      "100%|██████████| 12/12 [00:09<00:00,  1.29it/s]\n",
      "100%|██████████| 1/1 [00:00<00:00,  1.72it/s]"
     ]
    },
    {
     "name": "stdout",
     "output_type": "stream",
     "text": [
      "epoch=3: train_epoch_loss=tensor(0.5512, device='cuda:0') eval_epoch_loss=tensor(0.7401, device='cuda:0')\n"
     ]
    },
    {
     "name": "stderr",
     "output_type": "stream",
     "text": [
      "\n"
     ]
    }
   ],
   "source": [
    "# Seed\n",
    "torch.manual_seed(42)\n",
    "torch.cuda.manual_seed(42)\n",
    "\n",
    "# Training\n",
    "model.to(device)\n",
    "\n",
    "for epoch in range(num_epochs):\n",
    "    model.train()\n",
    "    total_loss = 0\n",
    "    for step, batch in enumerate(tqdm(train_dataloader)):\n",
    "        optimizer.zero_grad()\n",
    "        batch.to(device)\n",
    "        outputs = model(**batch)\n",
    "        logits = outputs.logits\n",
    "        # loss = loss_fun(logits, batch['labels'])\n",
    "        loss = outputs.loss\n",
    "        total_loss += loss.detach().float()\n",
    "\n",
    "        loss = loss / gradient_accumulation_steps\n",
    "        loss.backward()\n",
    "        if (step + 1) % gradient_accumulation_steps == 0:\n",
    "            optimizer.step()\n",
    "            lr_scheduler.step()\n",
    "\n",
    "    model.eval()\n",
    "    eval_loss = 0\n",
    "    eval_preds = []\n",
    "    for step, batch in enumerate(tqdm(eval_dataloader)):\n",
    "        batch = {k: v.to(device) for k, v in batch.items()}\n",
    "        with torch.no_grad():\n",
    "            outputs = model(**batch)\n",
    "        loss = outputs.loss\n",
    "        eval_loss += loss.detach().float()\n",
    "\n",
    "    eval_epoch_loss = eval_loss / len(eval_dataloader)\n",
    "    train_epoch_loss = total_loss / len(train_dataloader)\n",
    "    print(f\"{epoch=}: {train_epoch_loss=} {eval_epoch_loss=}\")"
   ]
  },
  {
   "cell_type": "code",
   "execution_count": 65,
   "metadata": {},
   "outputs": [
    {
     "name": "stderr",
     "output_type": "stream",
     "text": [
      "Some weights of BertForSequenceClassification were not initialized from the model checkpoint at /mnt/c/Users/marc_/OneDrive/ETH/MSC_Thesis/inf-extr/resources/models/medbert and are newly initialized: ['classifier.bias', 'classifier.weight']\n",
      "You should probably TRAIN this model on a down-stream task to be able to use it for predictions and inference.\n"
     ]
    }
   ],
   "source": [
    "# Save model\n",
    "# model.save_pretrained(paths.MODEL_PATH/'peft_medbert_msdiag')\n",
    "\n",
    "# Load model\n",
    "# config = PeftConfig.from_pretrained(paths.MODEL_PATH/'peft_medbert_msdiag')\n",
    "loaded_model = AutoModelForSequenceClassification.from_pretrained(paths.MODEL_PATH/'medbert', num_labels=num_labels, torch_dtype=torch.bfloat16)\n",
    "loaded_model = PeftModel.from_pretrained(model = loaded_model, model_id = paths.MODEL_PATH/'peft_medbert_msdiag')"
   ]
  },
  {
   "cell_type": "code",
   "execution_count": 66,
   "metadata": {},
   "outputs": [
    {
     "name": "stderr",
     "output_type": "stream",
     "text": [
      "100%|██████████| 4/4 [00:00<00:00, 17.97it/s]\n"
     ]
    }
   ],
   "source": [
    "# Inference on test set\n",
    "loaded_model.to(device)\n",
    "loaded_model.eval()\n",
    "test_dataloader = DataLoader(\n",
    "    encoded_dataset[\"test\"], shuffle=False, collate_fn=data_collator, batch_size=eval_batch_size\n",
    ")\n",
    "test_preds_loaded = []\n",
    "for step, batch in enumerate(tqdm(test_dataloader)):\n",
    "    batch = {k: v.to(device) for k, v in batch.items()}\n",
    "    with torch.no_grad():\n",
    "        logits = loaded_model(**batch).logits.to(torch.float32)\n",
    "    test_preds_loaded.append(logits.detach().cpu().numpy())\n",
    "\n",
    "test_preds_loaded = np.concatenate(test_preds_loaded)\n",
    "test_preds_loaded = np.argmax(test_preds_loaded, axis=1)"
   ]
  },
  {
   "cell_type": "code",
   "execution_count": 67,
   "metadata": {},
   "outputs": [
    {
     "data": {
      "text/plain": [
       "array([1, 1, 1, 2, 1, 1, 2, 1, 1, 1, 1, 1, 1, 1, 1, 1, 0, 1, 1, 1, 1, 1,\n",
       "       1, 1, 1, 1, 1, 1, 1, 1, 1, 1, 1, 1, 1, 2, 1, 1, 2, 1, 1, 1, 1, 1,\n",
       "       1, 1, 1, 2, 1, 1, 1, 1, 1, 1, 1, 1, 1, 2, 1])"
      ]
     },
     "execution_count": 67,
     "metadata": {},
     "output_type": "execute_result"
    }
   ],
   "source": [
    "test_preds_loaded"
   ]
  },
  {
   "cell_type": "code",
   "execution_count": 68,
   "metadata": {},
   "outputs": [
    {
     "name": "stderr",
     "output_type": "stream",
     "text": [
      "100%|██████████| 4/4 [00:00<00:00, 22.40it/s]\n"
     ]
    }
   ],
   "source": [
    "# Inference on test set\n",
    "model.eval()\n",
    "test_dataloader = DataLoader(\n",
    "    encoded_dataset[\"test\"], shuffle=False, collate_fn=data_collator, batch_size=eval_batch_size\n",
    ")\n",
    "test_preds = []\n",
    "for step, batch in enumerate(tqdm(test_dataloader)):\n",
    "    batch = {k: v.to(device) for k, v in batch.items()}\n",
    "    with torch.no_grad():\n",
    "        logits = model(**batch).logits.to(torch.float32)\n",
    "    test_preds.append(logits.detach().cpu().numpy())\n",
    "\n",
    "test_preds = np.concatenate(test_preds)\n",
    "test_preds = np.argmax(test_preds, axis=1)"
   ]
  },
  {
   "cell_type": "code",
   "execution_count": 69,
   "metadata": {},
   "outputs": [
    {
     "data": {
      "text/plain": [
       "array([1, 1, 1, 2, 1, 1, 2, 1, 1, 1, 1, 1, 1, 1, 1, 1, 0, 1, 1, 1, 1, 1,\n",
       "       1, 1, 1, 1, 1, 1, 1, 1, 1, 1, 1, 1, 1, 2, 1, 1, 2, 1, 1, 1, 1, 1,\n",
       "       1, 1, 1, 2, 1, 1, 1, 1, 1, 1, 1, 1, 1, 2, 1])"
      ]
     },
     "execution_count": 69,
     "metadata": {},
     "output_type": "execute_result"
    }
   ],
   "source": [
    "test_preds"
   ]
  },
  {
   "cell_type": "code",
   "execution_count": 74,
   "metadata": {},
   "outputs": [
    {
     "data": {
      "text/plain": [
       "array([ True,  True,  True,  True,  True,  True,  True,  True,  True,\n",
       "        True,  True,  True,  True,  True,  True,  True,  True,  True,\n",
       "        True,  True,  True,  True,  True,  True,  True,  True,  True,\n",
       "        True,  True,  True,  True,  True,  True,  True,  True,  True,\n",
       "        True,  True,  True,  True,  True,  True,  True,  True,  True,\n",
       "        True,  True,  True,  True,  True,  True,  True,  True,  True,\n",
       "        True,  True,  True,  True,  True])"
      ]
     },
     "execution_count": 74,
     "metadata": {},
     "output_type": "execute_result"
    }
   ],
   "source": [
    "test_preds_loaded == test_preds"
   ]
  },
  {
   "cell_type": "code",
   "execution_count": 70,
   "metadata": {},
   "outputs": [
    {
     "name": "stdout",
     "output_type": "stream",
     "text": [
      "Accuracy: 0.8983050847457628\n",
      "Precision: 0.764957264957265\n",
      "Recall: 0.6260683760683761\n",
      "F1: 0.601994301994302\n"
     ]
    }
   ],
   "source": [
    "# Sklearn F1, precision, recall, accuracy\n",
    "from sklearn.metrics import f1_score, precision_score, recall_score, accuracy_score, ConfusionMatrixDisplay\n",
    "print(f\"Accuracy: {accuracy_score(encoded_dataset['test']['labels'], test_preds)}\")\n",
    "print(f\"Precision: {precision_score(encoded_dataset['test']['labels'], test_preds, average='macro')}\")\n",
    "print(f\"Recall: {recall_score(encoded_dataset['test']['labels'], test_preds, average='macro')}\")\n",
    "print(f\"F1: {f1_score(encoded_dataset['test']['labels'], test_preds, average='macro')}\")"
   ]
  },
  {
   "cell_type": "code",
   "execution_count": 71,
   "metadata": {},
   "outputs": [
    {
     "data": {
      "text/plain": [
       "<sklearn.metrics._plot.confusion_matrix.ConfusionMatrixDisplay at 0x7faffba66cd0>"
      ]
     },
     "execution_count": 71,
     "metadata": {},
     "output_type": "execute_result"
    },
    {
     "data": {
      "image/png": "[encoded data removed]",
      "text/plain": [
       "<Figure size 640x480 with 2 Axes>"
      ]
     },
     "metadata": {},
     "output_type": "display_data"
    }
   ],
   "source": [
    "# ConfusionMatrixDisplay\n",
    "ConfusionMatrixDisplay.from_predictions(encoded_dataset[\"test\"][\"labels\"], test_preds, display_labels=label2id, xticks_rotation=\"vertical\")"
   ]
  },
  {
   "cell_type": "markdown",
   "metadata": {},
   "source": [
    "class PromptLearningConfig(PeftConfig):\n",
    "    \"\"\"\n",
    "    This is the base configuration class to store the configuration of [`PrefixTuning`], [`PromptEncoder`], or\n",
    "    [`PromptTuning`].\n",
    "\n",
    "    Args:\n",
    "        num_virtual_tokens (`int`): The number of virtual tokens to use.\n",
    "        token_dim (`int`): The hidden embedding dimension of the base transformer model.\n",
    "        num_transformer_submodules (`int`): The number of transformer submodules in the base transformer model.\n",
    "        num_attention_heads (`int`): The number of attention heads in the base transformer model.\n",
    "        num_layers (`int`): The number of layers in the base transformer model.\n",
    "    \"\"\"\n",
    "\n",
    "    num_virtual_tokens: int = field(default=None, metadata={\"help\": \"Number of virtual tokens\"})\n",
    "    token_dim: int = field(\n",
    "        default=None, metadata={\"help\": \"The hidden embedding dimension of the base transformer model\"}\n",
    "    )\n",
    "    num_transformer_submodules: Optional[int] = field(\n",
    "        default=None, metadata={\"help\": \"Number of transformer submodules\"}\n",
    "    )\n",
    "    num_attention_heads: Optional[int] = field(default=None, metadata={\"help\": \"Number of attention heads\"})\n",
    "    num_layers: Optional[int] = field(default=None, metadata={\"help\": \"Number of transformer layers\"})"
   ]
  },
  {
   "cell_type": "markdown",
   "metadata": {},
   "source": [
    "configuratio interpretation:\n",
    "- num_virtual_tokens: number of prefix tokens to append to (each layer?)\n",
    "- num_transformer_submodules: 1 or 2? for decoder/encoder? or is it number of layers? I think decoder encoder architecture because if it is not set, they set it to 1 except in a Seq2Seq task. And they create embeddings for the virtual tokens only once for each submodule?\n",
    "- num_layers: to how many layers we should add the prefix tuning?\n",
    "- The peft model will automatically try to infer all the model specification from model.config in the `get_peft_model()` call. It will also automatically construct the PEFT Model class from the task type: return MODEL_TYPE_TO_PEFT_MODEL_MAPPING[peft_config.task_type](model, peft_config, adapter_name=adapter_name)\n",
    "- you can add multiple adapters (must be all of same peft type though) to a mode each with their own configurations. You must give them unique names, otherwise gives name \"default\". Each prompt encoding and the whole process will be done for every single adapter I think. It first prepares the peft config by matching non specified elements with the model config. It then sets up the prompt encoder (_set_up_prompt_encoder(adapter_name)) using the created config for the adapter\n",
    "- If specification is PROMPT_TUNING we just create a trainable word embeddings matrix. By inserting an init text you can initialize the embedding from the base tokenizer and base model. \n",
    "- I think the prompt_token ids are initialized separately from the existing ids for the tokenizer. Because we have a different embedding matrix we can initialize from 0 to 19 say and then put it through, then concatenate the weights again to the embeddings of the base model without the virtual tokens. As they don't have any meaning and we will always have the same order of them (first will be virtual token 0, then 1 etc.) we also don't really neew to match them in the forward pass order will always be same.\n",
    "\n",
    "``` python\n",
    "if config.num_transformer_submodules is None:\n",
    "            config.num_transformer_submodules = 2 if config.task_type == TaskType.SEQ_2_SEQ_LM else 1\n",
    "total_virtual_tokens = config.num_virtual_tokens * config.num_transformer_submodules\n",
    "```\n",
    "\n",
    "```\n",
    "def _prepare_prompt_learning_config(peft_config, model_config):\n",
    "    if peft_config.num_layers is None:\n",
    "        if \"num_hidden_layers\" in model_config:\n",
    "            num_layers = model_config[\"num_hidden_layers\"]\n",
    "        elif \"num_layers\" in model_config:\n",
    "            num_layers = model_config[\"num_layers\"]\n",
    "        elif \"n_layer\" in model_config:\n",
    "            num_layers = model_config[\"n_layer\"]\n",
    "        else:\n",
    "            raise ValueError(\"Please specify `num_layers` in `peft_config`\")\n",
    "        peft_config.num_layers = num_layers\n",
    "\n",
    "    if peft_config.token_dim is None:\n",
    "        if \"hidden_size\" in model_config:\n",
    "            token_dim = model_config[\"hidden_size\"]\n",
    "        elif \"n_embd\" in model_config:\n",
    "            token_dim = model_config[\"n_embd\"]\n",
    "        elif \"d_model\" in model_config:\n",
    "            token_dim = model_config[\"d_model\"]\n",
    "        else:\n",
    "            raise ValueError(\"Please specify `token_dim` in `peft_config`\")\n",
    "        peft_config.token_dim = token_dim\n",
    "\n",
    "    if peft_config.num_attention_heads is None:\n",
    "        if \"num_attention_heads\" in model_config:\n",
    "            num_attention_heads = model_config[\"num_attention_heads\"]\n",
    "        elif \"n_head\" in model_config:\n",
    "            num_attention_heads = model_config[\"n_head\"]\n",
    "        elif \"num_heads\" in model_config:\n",
    "            num_attention_heads = model_config[\"num_heads\"]\n",
    "        elif \"encoder_attention_heads\" in model_config:\n",
    "            num_attention_heads = model_config[\"encoder_attention_heads\"]\n",
    "        else:\n",
    "            raise ValueError(\"Please specify `num_attention_heads` in `peft_config`\")\n",
    "        peft_config.num_attention_heads = num_attention_heads\n",
    "\n",
    "    if getattr(peft_config, \"encoder_hidden_size\", None) is None:\n",
    "        setattr(peft_config, \"encoder_hidden_size\", peft_config.token_dim)\n",
    "\n",
    "    return peft_config\n",
    "```"
   ]
  },
  {
   "cell_type": "markdown",
   "metadata": {},
   "source": [
    "prefix tuning forward:\n",
    "- The prefixes are inserted into the model using the past_key_values which is the cached keys and values of the whole sequence before the current token in the autoregressive generation procedure. Instead of computing these keys and values with a model forward pass, we simply compute them directly with our MLP model. This is also why we need the number of attention heads (as we need a pair for every head).\n",
    "- The prompt encoder returns num_layers * 2 * token_dim past key values, so for every layer a key and value. Reading this one could think only \"one token\" (one key value pair) is generated. But later this is reshaped into:\n",
    "\n",
    "past_key_values = past_key_values.view(\n",
    "                batch_size,\n",
    "                peft_config.num_virtual_tokens,\n",
    "                peft_config.num_layers * 2,\n",
    "                peft_config.num_attention_heads,\n",
    "                peft_config.token_dim // peft_config.num_attention_heads,\n",
    "            )\n",
    "\n",
    "so we again have num_virtual_tokens as a dimension. This matrix is then permuted and split which I don't know the specifics of but it ensures that it is in the correct format.\n",
    "\n",
    "def _prefix_tuning_forward(\n",
    "        self,\n",
    "        input_ids=None,\n",
    "        attention_mask=None,\n",
    "        inputs_embeds=None,\n",
    "        labels=None,\n",
    "        output_attentions=None,\n",
    "        output_hidden_states=None,\n",
    "        return_dict=None,\n",
    "        **kwargs,\n",
    "    ):\n",
    "        batch_size = _get_batch_size(input_ids, inputs_embeds)\n",
    "        past_key_values = self.get_prompt(batch_size)\n",
    "        fwd_params = list(inspect.signature(self.base_model.forward).parameters.keys())\n",
    "        kwargs.update(\n",
    "            {\n",
    "                \"input_ids\": input_ids,\n",
    "                \"attention_mask\": attention_mask,\n",
    "                \"inputs_embeds\": inputs_embeds,\n",
    "                \"output_attentions\": output_attentions,\n",
    "                \"output_hidden_states\": output_hidden_states,\n",
    "                \"return_dict\": return_dict,\n",
    "                \"past_key_values\": past_key_values,\n",
    "            }\n",
    "        )\n",
    "        if \"past_key_values\" in fwd_params:\n",
    "            return self.base_model(labels=labels, **kwargs)\n",
    "        else:\n",
    "            transformer_backbone_name = self.base_model.get_submodule(self.transformer_backbone_name)\n",
    "            fwd_params = list(inspect.signature(transformer_backbone_name.forward).parameters.keys())\n",
    "            if \"past_key_values\" not in fwd_params:\n",
    "                raise ValueError(\"Model does not support past key values which are required for prefix tuning.\")\n",
    "            outputs = transformer_backbone_name(**kwargs)\n",
    "            pooled_output = outputs[1] if len(outputs) > 1 else outputs[0]\n",
    "            if \"dropout\" in [name for name, _ in list(self.base_model.named_children())]:\n",
    "                pooled_output = self.base_model.dropout(pooled_output)\n",
    "            logits = self.base_model.get_submodule(self.cls_layer_name)(pooled_output)\n",
    "\n",
    "            loss = None\n",
    "            if labels is not None:\n",
    "                if self.config.problem_type is None:\n",
    "                    if self.base_model.num_labels == 1:\n",
    "                        self.config.problem_type = \"regression\"\n",
    "                    elif self.base_model.num_labels > 1 and (labels.dtype == torch.long or labels.dtype == torch.int):\n",
    "                        self.config.problem_type = \"single_label_classification\"\n",
    "                    else:\n",
    "                        self.config.problem_type = \"multi_label_classification\"\n",
    "\n",
    "                if self.config.problem_type == \"regression\":\n",
    "                    loss_fct = MSELoss()\n",
    "                    if self.base_model.num_labels == 1:\n",
    "                        loss = loss_fct(logits.squeeze(), labels.squeeze())\n",
    "                    else:\n",
    "                        loss = loss_fct(logits, labels)\n",
    "                elif self.config.problem_type == \"single_label_classification\":\n",
    "                    loss_fct = CrossEntropyLoss()\n",
    "                    loss = loss_fct(logits.view(-1, self.base_model.num_labels), labels.view(-1))\n",
    "                elif self.config.problem_type == \"multi_label_classification\":\n",
    "                    loss_fct = BCEWithLogitsLoss()\n",
    "                    loss = loss_fct(logits, labels)\n",
    "            if not return_dict:\n",
    "                output = (logits,) + outputs[2:]\n",
    "                return ((loss,) + output) if loss is not None else output\n",
    "\n",
    "            return SequenceClassifierOutput(\n",
    "                loss=loss,\n",
    "                logits=logits,\n",
    "                hidden_states=outputs.hidden_states,\n",
    "                attentions=outputs.attentions,\n",
    "            )\n",
    "\n",
    "def get_prompt(self, batch_size: int, task_ids: Optional[torch.Tensor] = None) -> torch.Tensor:\n",
    "        \"\"\"\n",
    "        Returns the virtual prompts to use for Peft. Only applicable when using a prompt learning method.\n",
    "        \"\"\"\n",
    "        peft_config = self.active_peft_config\n",
    "        prompt_encoder = self.prompt_encoder[self.active_adapter]\n",
    "        prompt_tokens = (\n",
    "            self.prompt_tokens[self.active_adapter]\n",
    "            .unsqueeze(0)\n",
    "            .expand(batch_size, -1)\n",
    "            .to(prompt_encoder.embedding.weight.device)\n",
    "        )\n",
    "        if peft_config.peft_type == PeftType.PREFIX_TUNING:\n",
    "            prompt_tokens = prompt_tokens[:, : peft_config.num_virtual_tokens]\n",
    "            if peft_config.inference_mode:\n",
    "                past_key_values = prompt_encoder.embedding.weight.repeat(batch_size, 1, 1)\n",
    "            else:\n",
    "                past_key_values = prompt_encoder(prompt_tokens)\n",
    "            if self.base_model_torch_dtype is not None:\n",
    "                past_key_values = past_key_values.to(self.base_model_torch_dtype)\n",
    "            past_key_values = past_key_values.view(\n",
    "                batch_size,\n",
    "                peft_config.num_virtual_tokens,\n",
    "                peft_config.num_layers * 2,\n",
    "                peft_config.num_attention_heads,\n",
    "                peft_config.token_dim // peft_config.num_attention_heads,\n",
    "            )\n",
    "            if peft_config.num_transformer_submodules == 2:\n",
    "                past_key_values = torch.cat([past_key_values, past_key_values], dim=2)\n",
    "            past_key_values = past_key_values.permute([2, 0, 3, 1, 4]).split(\n",
    "                peft_config.num_transformer_submodules * 2\n",
    "            )\n",
    "            if TRANSFORMERS_MODELS_TO_PREFIX_TUNING_POSTPROCESS_MAPPING.get(self.config.model_type, None) is not None:\n",
    "                post_process_fn = TRANSFORMERS_MODELS_TO_PREFIX_TUNING_POSTPROCESS_MAPPING[self.config.model_type]\n",
    "                past_key_values = post_process_fn(past_key_values)\n",
    "            return past_key_values\n",
    "        else:\n",
    "            if peft_config.peft_type == PeftType.MULTITASK_PROMPT_TUNING:\n",
    "                prompts = prompt_encoder(prompt_tokens, task_ids)\n",
    "            else:\n",
    "                if peft_config.inference_mode:\n",
    "                    prompts = prompt_encoder.embedding.weight.repeat(batch_size, 1, 1)\n",
    "                else:\n",
    "                    prompts = prompt_encoder(prompt_tokens)\n",
    "            return prompts\n",
    "\n",
    "\n",
    "class PrefixEncoder(torch.nn.Module):\n",
    "    r\"\"\"\n",
    "    The `torch.nn` model to encode the prefix.\n",
    "\n",
    "    Args:\n",
    "        config ([`PrefixTuningConfig`]): The configuration of the prefix encoder.\n",
    "\n",
    "    Example:\n",
    "\n",
    "    ```py\n",
    "    >>> from peft import PrefixEncoder, PrefixTuningConfig\n",
    "\n",
    "    >>> config = PrefixTuningConfig(\n",
    "    ...     peft_type=\"PREFIX_TUNING\",\n",
    "    ...     task_type=\"SEQ_2_SEQ_LM\",\n",
    "    ...     num_virtual_tokens=20,\n",
    "    ...     token_dim=768,\n",
    "    ...     num_transformer_submodules=1,\n",
    "    ...     num_attention_heads=12,\n",
    "    ...     num_layers=12,\n",
    "    ...     encoder_hidden_size=768,\n",
    "    ... )\n",
    "    >>> prefix_encoder = PrefixEncoder(config)\n",
    "    ```\n",
    "\n",
    "    **Attributes**:\n",
    "        - **embedding** (`torch.nn.Embedding`) -- The embedding layer of the prefix encoder.\n",
    "        - **transform** (`torch.nn.Sequential`) -- The two-layer MLP to transform the prefix embeddings if\n",
    "          `prefix_projection` is `True`.\n",
    "        - **prefix_projection** (`bool`) -- Whether to project the prefix embeddings.\n",
    "\n",
    "    Input shape: (`batch_size`, `num_virtual_tokens`)\n",
    "\n",
    "    Output shape: (`batch_size`, `num_virtual_tokens`, `2*layers*hidden`)\n",
    "    \"\"\"\n",
    "\n",
    "    def __init__(self, config):\n",
    "        super().__init__()\n",
    "        self.prefix_projection = config.prefix_projection\n",
    "        token_dim = config.token_dim\n",
    "        num_layers = config.num_layers\n",
    "        encoder_hidden_size = config.encoder_hidden_size\n",
    "        num_virtual_tokens = config.num_virtual_tokens\n",
    "        if self.prefix_projection and not config.inference_mode:\n",
    "            # Use a two-layer MLP to encode the prefix\n",
    "            self.embedding = torch.nn.Embedding(num_virtual_tokens, token_dim)\n",
    "            self.transform = torch.nn.Sequential(\n",
    "                torch.nn.Linear(token_dim, encoder_hidden_size),\n",
    "                torch.nn.Tanh(),\n",
    "                torch.nn.Linear(encoder_hidden_size, num_layers * 2 * token_dim),\n",
    "            )\n",
    "        else:\n",
    "            self.embedding = torch.nn.Embedding(num_virtual_tokens, num_layers * 2 * token_dim)\n",
    "\n",
    "    def forward(self, prefix: torch.Tensor):\n",
    "        if self.prefix_projection:\n",
    "            prefix_tokens = self.embedding(prefix)\n",
    "            past_key_values = self.transform(prefix_tokens)\n",
    "        else:\n",
    "            past_key_values = self.embedding(prefix)\n",
    "        return past_key_values"
   ]
  }
 ],
 "metadata": {
  "kernelspec": {
   "display_name": "Python 3 (ipykernel)",
   "language": "python",
   "name": "python3"
  },
  "language_info": {
   "codemirror_mode": {
    "name": "ipython",
    "version": 3
   },
   "file_extension": ".py",
   "mimetype": "text/x-python",
   "name": "python",
   "nbconvert_exporter": "python",
   "pygments_lexer": "ipython3",
   "version": "3.9.18"
  }
 },
 "nbformat": 4,
 "nbformat_minor": 4
}

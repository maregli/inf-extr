{
 "cells": [
  {
   "cell_type": "code",
   "execution_count": 24,
   "id": "9e927d5c-5913-48ef-a16e-6b0dfcca48ab",
   "metadata": {},
   "outputs": [],
   "source": [
    "import sys\n",
    "import os\n",
    "sys.path.append(os.getcwd()+\"/../..\")\n",
    "from src import paths\n",
    "\n",
    "import torch\n",
    "import json\n",
    "import pandas as pd\n",
    "\n",
    "from src.utils import get_default_pydantic_model"
   ]
  },
  {
   "cell_type": "code",
   "execution_count": 3,
   "id": "e2b46637-3ee8-4978-b394-af305c740224",
   "metadata": {},
   "outputs": [],
   "source": [
    "results = torch.load(paths.RESULTS_PATH/\"medication/medication_outlines_Llama2-MedTuned-13b_4bit_few_shot_instruction_examples_10.pt\")"
   ]
  },
  {
   "cell_type": "code",
   "execution_count": 19,
   "id": "08f3baf4-accd-4b0c-a245-f61d6d985586",
   "metadata": {},
   "outputs": [],
   "source": [
    "pd.set_option('display.max_colwidth', None)\n",
    "df = pd.DataFrame(results)"
   ]
  },
  {
   "cell_type": "code",
   "execution_count": 22,
   "id": "d8deb93a-2dd3-41ea-a113-b6c17e1d864f",
   "metadata": {},
   "outputs": [
    {
     "data": {
      "text/html": [
       "<div>\n",
       "<style scoped>\n",
       "    .dataframe tbody tr th:only-of-type {\n",
       "        vertical-align: middle;\n",
       "    }\n",
       "\n",
       "    .dataframe tbody tr th {\n",
       "        vertical-align: top;\n",
       "    }\n",
       "\n",
       "    .dataframe thead th {\n",
       "        text-align: right;\n",
       "    }\n",
       "</style>\n",
       "<table border=\"1\" class=\"dataframe\">\n",
       "  <thead>\n",
       "    <tr style=\"text-align: right;\">\n",
       "      <th></th>\n",
       "      <th>model_answers</th>\n",
       "      <th>rid</th>\n",
       "      <th>text</th>\n",
       "      <th>successful</th>\n",
       "    </tr>\n",
       "  </thead>\n",
       "  <tbody>\n",
       "    <tr>\n",
       "      <th>74</th>\n",
       "      <td>{\\n\"medications\": [\\n{\\n\"name\": \"Prednison\",\\n\"dose\": 15,\\n\"dose_unit\": \"mg\",\\n\"morning\": 1,\\n\"noon\": 0,\\n\"evening\": 1,\\n\"night\": 0,\\n\"extra\": \"für 5 Tage\"\\n},\\n{\\n\"name\": \"Prednison\",\\n\"dose\": 12.5,\\n\"dose_unit\": \"mg\",\\n\"morning\": 1,\\n\"noon\": 0,\\n\"evening\": 1,\\n\"night\": 0,\\n\"extra\": \"für 5 Tage\"\\n},\\n{\\n\"name\": \"Prednison\",\\n\"dose\": 10,\\n\"dose_unit\": \"mg\",\\n\"morning\": 1,\\n\"noon\": 0,\\n\"evening\": 1,\\n\"night\": 0,\\n\"extra\": \"für 5 Tage\"\\n},\\n{\\n\"name\": \"Prednison\",\\n\"dose\": 7.5,\\n\"dose_unit\": \"mg\",\\n\"morning\": 1,\\n\"noon\": 0,\\n\"evening\": 1,\\n\"night\": 0,\\n\"extra\": \"für 5 Tage\"\\n},\\n{\\n\"name\": \"Prednison\",\\n\"dose\": 5,\\n\"dose_unit\": \"mg\",\\n\"morning\": 1,\\n\"noon\": 0,\\n\"evening\": 1,\\n\"night\": 0,\\n\"extra\": \"für 5 Tage\"\\n},\\n{\\n\"name\": \"Prednison\",\\n\"dose\": 2.5,\\n\"dose_unit\": \"mg\",\\n\"morning\": 1,\\n\"noon\": 0,\\n\"evening\": 1,\\n\"night\": 0,\\n\"extra\": \"für 5 Tage\"\\n},\\n{\\n\"name\": \"Esomeprazol\",\\n\"dose\": 40,\\n\"dose_unit\": \"mg\",\\n\"morning\": 1,\\n\"no</td>\n",
       "      <td>0B18717F-5BF0-42C5-8DD0-0332914D94A3</td>\n",
       "      <td>Prednison-Ausschleichschema:\\n\\nPrednison 15 mg für 5 Tage\\nfolgend: Prednison 12,5 mg für 5 Tage\\n\\t\\tPrednison 10 mg für 5 Tage\\n\\t\\tPrednison 7,5 mg für 5 Tage\\n\\t\\tPrednison 5 mg für 5 Tage\\n\\t\\tPrednison 2,5 mg für 5 Tage\\n\\nEsomeprazol 40 mg für die Dauer der Cortisoneinnahme</td>\n",
       "      <td>False</td>\n",
       "    </tr>\n",
       "    <tr>\n",
       "      <th>87</th>\n",
       "      <td>{\\n\"medications\": [\\n{\\n\"name\": \"Lioresal\",\\n\"dose\": 10,\\n\"dose_unit\": \"mg\",\\n\"morning\": 0,\\n\"noon\": 0,\\n\"evening\": 0,\\n\"night\": 0,\\n\"extra\": \"3 Tage\"\\n},\\n{\\n\"name\": \"1/2\",\\n\"dose\": 0,\\n\"dose_unit\": \"unknown\",\\n\"morning\": 0,\\n\"noon\": 0,\\n\"evening\": 0,\\n\"night\": 0,\\n\"extra\": \"3 Tage\"\\n},\\n{\\n\"name\": \"1/2-0-1/2\",\\n\"dose\": 0,\\n\"dose_unit\": \"unknown\",\\n\"morning\": 0,\\n\"noon\": 0,\\n\"evening\": 0,\\n\"night\": 0,\\n\"extra\": \"3 Tage\"\\n},\\n{\\n\"name\": \"1/2-1/2-1/2\",\\n\"dose\": 0,\\n\"dose_unit\": \"unknown\",\\n\"morning\": 0,\\n\"noon\": 0,\\n\"evening\": 0,\\n\"night\": 0,\\n\"extra\": \"3 Tage\"\\n},\\n{\\n\"name\": \"1/2-1/2-1\",\\n\"dose\": 0,\\n\"dose_unit\": \"unknown\",\\n\"morning\": 0,\\n\"noon\": 0,\\n\"evening\": 0,\\n\"night\": 0,\\n\"extra\": \"3 Tage\"\\n},\\n{\\n\"name\": \"1\",\\n\"dose\": 1,\\n\"dose_unit\": \"unknown\",\\n\"morning\": 0,\\n\"noon\": 0,\\n\"evening\": 0,\\n\"night\": 0,\\n\"extra\": \"3 Tage\"\\n},\\n{\\n\"name\": \"1-1/2\",\\n\"dose\": 1,\\n\"dose_unit\": \"unknown\",\\n\"morning\": 0,\\n\"noon\": 0,\\n\"even</td>\n",
       "      <td>745DA433-83BC-48B0-889D-9578F7F7C3D8</td>\n",
       "      <td>Lioresal 10 mg\\nS: 0-0-1/2 \\t3 Tage\\n1/2-0-1/2 \\t3 Tage\\n1/2-1/2-1/2 \\t3 Tage\\n1/2-1/2-1 \\t3 Tage\\n1-1/2-1 \\t\\t3 Tage\\ndann 1-1-1\\n\\nBei Abnahme der Kraft oder Nebenwirkungen wie Schläfrigkeit zurück auf die vorherige Dosisstufe\\n</td>\n",
       "      <td>False</td>\n",
       "    </tr>\n",
       "  </tbody>\n",
       "</table>\n",
       "</div>"
      ],
      "text/plain": [
       "                                                                                                                                                                                                                                                                                                                                                                                                                                                                                                                                                                                                                                                                                                                                                                                                                                                                                                                                                                     model_answers  \\\n",
       "74  {\\n\"medications\": [\\n{\\n\"name\": \"Prednison\",\\n\"dose\": 15,\\n\"dose_unit\": \"mg\",\\n\"morning\": 1,\\n\"noon\": 0,\\n\"evening\": 1,\\n\"night\": 0,\\n\"extra\": \"für 5 Tage\"\\n},\\n{\\n\"name\": \"Prednison\",\\n\"dose\": 12.5,\\n\"dose_unit\": \"mg\",\\n\"morning\": 1,\\n\"noon\": 0,\\n\"evening\": 1,\\n\"night\": 0,\\n\"extra\": \"für 5 Tage\"\\n},\\n{\\n\"name\": \"Prednison\",\\n\"dose\": 10,\\n\"dose_unit\": \"mg\",\\n\"morning\": 1,\\n\"noon\": 0,\\n\"evening\": 1,\\n\"night\": 0,\\n\"extra\": \"für 5 Tage\"\\n},\\n{\\n\"name\": \"Prednison\",\\n\"dose\": 7.5,\\n\"dose_unit\": \"mg\",\\n\"morning\": 1,\\n\"noon\": 0,\\n\"evening\": 1,\\n\"night\": 0,\\n\"extra\": \"für 5 Tage\"\\n},\\n{\\n\"name\": \"Prednison\",\\n\"dose\": 5,\\n\"dose_unit\": \"mg\",\\n\"morning\": 1,\\n\"noon\": 0,\\n\"evening\": 1,\\n\"night\": 0,\\n\"extra\": \"für 5 Tage\"\\n},\\n{\\n\"name\": \"Prednison\",\\n\"dose\": 2.5,\\n\"dose_unit\": \"mg\",\\n\"morning\": 1,\\n\"noon\": 0,\\n\"evening\": 1,\\n\"night\": 0,\\n\"extra\": \"für 5 Tage\"\\n},\\n{\\n\"name\": \"Esomeprazol\",\\n\"dose\": 40,\\n\"dose_unit\": \"mg\",\\n\"morning\": 1,\\n\"no   \n",
       "87          {\\n\"medications\": [\\n{\\n\"name\": \"Lioresal\",\\n\"dose\": 10,\\n\"dose_unit\": \"mg\",\\n\"morning\": 0,\\n\"noon\": 0,\\n\"evening\": 0,\\n\"night\": 0,\\n\"extra\": \"3 Tage\"\\n},\\n{\\n\"name\": \"1/2\",\\n\"dose\": 0,\\n\"dose_unit\": \"unknown\",\\n\"morning\": 0,\\n\"noon\": 0,\\n\"evening\": 0,\\n\"night\": 0,\\n\"extra\": \"3 Tage\"\\n},\\n{\\n\"name\": \"1/2-0-1/2\",\\n\"dose\": 0,\\n\"dose_unit\": \"unknown\",\\n\"morning\": 0,\\n\"noon\": 0,\\n\"evening\": 0,\\n\"night\": 0,\\n\"extra\": \"3 Tage\"\\n},\\n{\\n\"name\": \"1/2-1/2-1/2\",\\n\"dose\": 0,\\n\"dose_unit\": \"unknown\",\\n\"morning\": 0,\\n\"noon\": 0,\\n\"evening\": 0,\\n\"night\": 0,\\n\"extra\": \"3 Tage\"\\n},\\n{\\n\"name\": \"1/2-1/2-1\",\\n\"dose\": 0,\\n\"dose_unit\": \"unknown\",\\n\"morning\": 0,\\n\"noon\": 0,\\n\"evening\": 0,\\n\"night\": 0,\\n\"extra\": \"3 Tage\"\\n},\\n{\\n\"name\": \"1\",\\n\"dose\": 1,\\n\"dose_unit\": \"unknown\",\\n\"morning\": 0,\\n\"noon\": 0,\\n\"evening\": 0,\\n\"night\": 0,\\n\"extra\": \"3 Tage\"\\n},\\n{\\n\"name\": \"1-1/2\",\\n\"dose\": 1,\\n\"dose_unit\": \"unknown\",\\n\"morning\": 0,\\n\"noon\": 0,\\n\"even   \n",
       "\n",
       "                                     rid  \\\n",
       "74  0B18717F-5BF0-42C5-8DD0-0332914D94A3   \n",
       "87  745DA433-83BC-48B0-889D-9578F7F7C3D8   \n",
       "\n",
       "                                                                                                                                                                                                                                                                                          text  \\\n",
       "74  Prednison-Ausschleichschema:\\n\\nPrednison 15 mg für 5 Tage\\nfolgend: Prednison 12,5 mg für 5 Tage\\n\\t\\tPrednison 10 mg für 5 Tage\\n\\t\\tPrednison 7,5 mg für 5 Tage\\n\\t\\tPrednison 5 mg für 5 Tage\\n\\t\\tPrednison 2,5 mg für 5 Tage\\n\\nEsomeprazol 40 mg für die Dauer der Cortisoneinnahme   \n",
       "87                                                      Lioresal 10 mg\\nS: 0-0-1/2 \\t3 Tage\\n1/2-0-1/2 \\t3 Tage\\n1/2-1/2-1/2 \\t3 Tage\\n1/2-1/2-1 \\t3 Tage\\n1-1/2-1 \\t\\t3 Tage\\ndann 1-1-1\\n\\nBei Abnahme der Kraft oder Nebenwirkungen wie Schläfrigkeit zurück auf die vorherige Dosisstufe\\n   \n",
       "\n",
       "    successful  \n",
       "74       False  \n",
       "87       False  "
      ]
     },
     "execution_count": 22,
     "metadata": {},
     "output_type": "execute_result"
    }
   ],
   "source": [
    "df[~df[\"successful\"]]"
   ]
  },
  {
   "cell_type": "code",
   "execution_count": 25,
   "id": "349230be-f5ba-445e-82d4-769977f29abb",
   "metadata": {},
   "outputs": [],
   "source": [
    "default_model = get_default_pydantic_model(\"medication\")"
   ]
  },
  {
   "cell_type": "code",
   "execution_count": null,
   "id": "7c347c79-741c-420b-a8ae-5f857df84861",
   "metadata": {},
   "outputs": [],
   "source": [
    "df[~df[\"successful\"]]"
   ]
  },
  {
   "cell_type": "code",
   "execution_count": 29,
   "id": "237cf1b6-b22f-4883-a1dc-5dee5608da0d",
   "metadata": {},
   "outputs": [
    {
     "name": "stdout",
     "output_type": "stream",
     "text": [
      "{\"medications\":[{\"name\":\"Prednison\",\"dose\":100.0,\"dose_unit\":\"mg\",\"morning\":1.0,\"noon\":0.0,\"evening\":0.0,\"night\":0.0,\"extra\":\"24.09. - 07.10.2016\"},{\"name\":\"Prednison\",\"dose\":80.0,\"dose_unit\":\"mg\",\"morning\":1.0,\"noon\":0.0,\"evening\":1.0,\"night\":0.0,\"extra\":\"08.10. - 14.10.2016\"},{\"name\":\"Prednison\",\"dose\":60.0,\"dose_unit\":\"mg\",\"morning\":1.0,\"noon\":0.0,\"evening\":1.0,\"night\":0.0,\"extra\":\"15.10. - 21.10.2016\"},{\"name\":\"Prednison\",\"dose\":40.0,\"dose_unit\":\"mg\",\"morning\":1.0,\"noon\":0.0,\"evening\":0.0,\"night\":0.0,\"extra\":\"22.10.2016 bis auf weiteres\"},{\"name\":\"Pantozol\",\"dose\":40.0,\"dose_unit\":\"mg\",\"morning\":1.0,\"noon\":0.0,\"evening\":1.0,\"night\":0.0,\"extra\":\"für die Dauer der Prednison-Behandlung\"}]} Prednison 100 mg\t1-0-0\t\t24.09. - 07.10.2016\n",
      "Prednison 80 mg\t\t1-0-0\t\t08.10. - 14.10.2016\n",
      "Prednison 60 mg\t\t1-0-0\t\t15.10. - 21.10.2016\n",
      "Prednison 40 mg\t\t1-0-0\t\t22.10.2016 bis auf weiteres\n",
      "\n",
      "Pantozol 40 mg\t\t1-0-0 \t\tfür die Dauer der Prednison-Behandlung\n"
     ]
    }
   ],
   "source": [
    "for i, j in zip(df[\"model_answers\"], df[\"text\"]):\n",
    "    print(i, j)\n",
    "    break"
   ]
  },
  {
   "cell_type": "code",
   "execution_count": 30,
   "id": "ed62cfe4-bd02-47d2-a29d-c9ebeaa69cb6",
   "metadata": {},
   "outputs": [
    {
     "ename": "TypeError",
     "evalue": "string indices must be integers, not 'str'",
     "output_type": "error",
     "traceback": [
      "\u001b[0;31m---------------------------------------------------------------------------\u001b[0m",
      "\u001b[0;31mTypeError\u001b[0m                                 Traceback (most recent call last)",
      "Cell \u001b[0;32mIn[30], line 7\u001b[0m\n\u001b[1;32m      5\u001b[0m \u001b[38;5;28;01mexcept\u001b[39;00m:\n\u001b[1;32m      6\u001b[0m     answer \u001b[38;5;241m=\u001b[39m default_model\u001b[38;5;241m.\u001b[39mjson()\n\u001b[0;32m----> 7\u001b[0m medications \u001b[38;5;241m=\u001b[39m \u001b[43manswer\u001b[49m\u001b[43m[\u001b[49m\u001b[38;5;124;43m\"\u001b[39;49m\u001b[38;5;124;43mmedications\u001b[39;49m\u001b[38;5;124;43m\"\u001b[39;49m\u001b[43m]\u001b[49m\n\u001b[1;32m      8\u001b[0m \u001b[38;5;28;01mfor\u001b[39;00m med \u001b[38;5;129;01min\u001b[39;00m medications:\n\u001b[1;32m      9\u001b[0m     med[\u001b[38;5;124m\"\u001b[39m\u001b[38;5;124mtext\u001b[39m\u001b[38;5;124m\"\u001b[39m] \u001b[38;5;241m=\u001b[39m text\n",
      "\u001b[0;31mTypeError\u001b[0m: string indices must be integers, not 'str'"
     ]
    }
   ],
   "source": [
    "dfs = []\n",
    "for idx, (answer, text) in enumerate(zip(df[\"model_answers\"], df[\"text\"])):\n",
    "    try:\n",
    "        answer = json.loads(answer)\n",
    "    except:\n",
    "        answer = default_model.json()\n",
    "    medications = answer[\"medications\"]\n",
    "    for med in medications:\n",
    "        med[\"text\"] = text\n",
    "        med[\"id\"] = idx\n",
    "        dfs.append((med))\n",
    "res = pd.DataFrame(dfs)"
   ]
  },
  {
   "cell_type": "code",
   "execution_count": 41,
   "id": "036299bb-a270-4073-bcb1-ecd445e5835c",
   "metadata": {},
   "outputs": [],
   "source": [
    "results.to_csv(paths.RESULTS_PATH/\"medication/labels.csv\")"
   ]
  }
 ],
 "metadata": {
  "kernelspec": {
   "display_name": "Python 3 (ipykernel)",
   "language": "python",
   "name": "python3"
  },
  "language_info": {
   "codemirror_mode": {
    "name": "ipython",
    "version": 3
   },
   "file_extension": ".py",
   "mimetype": "text/x-python",
   "name": "python",
   "nbconvert_exporter": "python",
   "pygments_lexer": "ipython3",
   "version": "3.11.4"
  }
 },
 "nbformat": 4,
 "nbformat_minor": 5
}

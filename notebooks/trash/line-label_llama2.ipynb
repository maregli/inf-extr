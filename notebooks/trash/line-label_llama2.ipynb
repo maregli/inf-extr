{
 "cells": [
  {
   "cell_type": "code",
   "execution_count": null,
   "metadata": {},
   "outputs": [],
   "source": [
    "from transformers import LlamaModel, LlamaTokenizer\n",
    "from datasets import DatasetDict, Features, Sequence, Value\n",
    "import datasets\n",
    "import transformers\n",
    "import torch\n",
    "import os\n",
    "import sys\n",
    "sys.path.append(os.getcwd()+\"/../..\")\n",
    "from src import paths\n",
    "import tqdm"
   ]
  },
  {
   "cell_type": "code",
   "execution_count": null,
   "metadata": {},
   "outputs": [],
   "source": [
    "# # Download model\n",
    "# checkpoint = \"meta-llama/Llama-2-7b-hf\"\n",
    "# model = AutoModelForCausalLM.from_pretrained(checkpoint)\n",
    "# tokenizer = AutoTokenizer.from_pretrained(model)\n",
    "\n",
    "# # Save model\n",
    "# model.save_pretrained(paths.MODEL_PATH/'llama2')\n",
    "\n",
    "# # Save tokenizer\n",
    "# tokenizer.save_pretrained(paths.MODEL_PATH/'llama2')"
   ]
  },
  {
   "cell_type": "code",
   "execution_count": null,
   "metadata": {},
   "outputs": [],
   "source": [
    "# Load model and tokenizer\n",
    "tokenizer = LlamaTokenizer.from_pretrained(paths.MODEL_PATH/'llama2', padding_side='left')\n",
    "model = LlamaModel.from_pretrained(paths.MODEL_PATH/'llama2', device_map=\"auto\", load_in_4bit=True)"
   ]
  },
  {
   "cell_type": "code",
   "execution_count": null,
   "metadata": {},
   "outputs": [],
   "source": [
    "# Check device allocation\n",
    "for name, param in model.named_parameters():\n",
    "    print(f\"Device of {name}: \", param.device)"
   ]
  },
  {
   "cell_type": "code",
   "execution_count": null,
   "metadata": {},
   "outputs": [],
   "source": [
    "# Dataset\n",
    "dataset = DatasetDict.load_from_disk(paths.DATA_PATH_PREPROCESSED/'line_labelling/line_labelling_clean_dataset')\n",
    "\n",
    "# Tokenize\n",
    "def tokenize(examples):\n",
    "    return tokenizer(examples['text'], padding=\"max_length\", truncation=True, max_length=256, return_tensors='pt')\n",
    "\n",
    "# # Set format of labels to FloatTensor\n",
    "features = Features({'labels': Sequence(Value(dtype='float32')),\n",
    "                     'input_ids': Sequence(Value(dtype='int32')),\n",
    "                     'attention_mask': Sequence(Value(dtype='int32')),\n",
    "                     'token_type_ids': Sequence(Value(dtype='int32')),\n",
    "                     'class_agg': Value(dtype='string'),\n",
    "                     'rid': Value(dtype='string'),\n",
    "                     'text': Value(dtype='string'),\n",
    "                     'class': Value(dtype='string')\n",
    "                     })\n",
    "\n",
    "# Tokenize dataset\n",
    "dataset = dataset.map(tokenize, batched=True, features=features)\n",
    "\n",
    "# Train/Val/Test \n",
    "train_dataset = dataset['train']\n",
    "val_dataset = dataset['val']\n",
    "test_dataset = dataset['test']"
   ]
  },
  {
   "cell_type": "code",
   "execution_count": null,
   "metadata": {},
   "outputs": [],
   "source": [
    "# Generate train embeddings, use mean over sequence of last layer\n",
    "def embed_dataset(\n",
    "        dataset: datasets.Dataset = None,\n",
    "        model: transformers.PreTrainedModel = None, \n",
    "        batch_size: int = 4\n",
    "        ) -> dict:\n",
    "    \"\"\" \n",
    "    Embeds a dataset using a model.\n",
    "\n",
    "    Args:\n",
    "\n",
    "        dataset (datasets.Dataset): Dataset to embed.\n",
    "        model (transformers.PreTrainedModel): Model to use for embedding.\n",
    "        batch_size (int): Batch size to use for embedding.\n",
    "\n",
    "    Returns:\n",
    "    \n",
    "            torch.Tensor: Embeddings of the dataset. Size (len(dataset), model.config.hidden_size, ).\n",
    "    \"\"\"\n",
    "    embeddings = []\n",
    "    \n",
    "    for i in range(0, len(dataset), batch_size):\n",
    "        batch = dataset[i:i+batch_size]\n",
    "        with torch.no_grad():\n",
    "            outputs = model(**batch)\n",
    "            embeddings = outputs.last_hidden_state.mean(dim=1)\n",
    "            embeddings.append(embeddings)\n",
    "        \n",
    "\n",
    "    return {'embeddings': torch.cat(embeddings, dim=0), 'labels': dataset['labels']}"
   ]
  },
  {
   "cell_type": "code",
   "execution_count": null,
   "metadata": {},
   "outputs": [],
   "source": [
    "# Embed train dataset\n",
    "BATCH_SIZE = 4\n",
    "train_embeddings = embed_dataset(train_dataset, model, BATCH_SIZE)\n",
    "val_embeddings = embed_dataset(val_dataset, model, BATCH_SIZE)\n",
    "test_embeddings = embed_dataset(test_dataset, model, BATCH_SIZE)\n",
    "\n",
    "# Save embeddings\n",
    "torch.save(train_embeddings, paths.DATA_PATH_PREPROCESSED/'line_label_pred/llama2-train_embeddings.pt')\n",
    "torch.save(val_embeddings, paths.DATA_PATH_PREPROCESSED/'line_label_pred/llama2-val_embeddings.pt')\n",
    "torch.save(test_embeddings, paths.DATA_PATH_PREPROCESSED/'line_label_pred/llama2-test_embeddings.pt')"
   ]
  },
  {
   "cell_type": "code",
   "execution_count": null,
   "metadata": {},
   "outputs": [],
   "source": [
    "# Free up memory\n",
    "del model\n",
    "torch.cuda.empty_cache()"
   ]
  },
  {
   "cell_type": "code",
   "execution_count": null,
   "metadata": {},
   "outputs": [],
   "source": [
    "# Classification Head (Linear)\n",
    "from torch import nn\n",
    "from torch.nn import functional as F\n",
    "from torch.utils.data import Dataset, DataLoader\n",
    "from torch.optim import AdamW\n",
    "\n",
    "class ClassificationDataset(Dataset):\n",
    "    \"\"\"Dataset for classification.\"\"\"\n",
    "    def __init__(self, embeddings: torch.Tensor, labels: torch.Tensor):\n",
    "        self.embeddings = embeddings\n",
    "        self.labels = labels\n",
    "\n",
    "    def __len__(self):\n",
    "        return len(self.labels)\n",
    "\n",
    "    def __getitem__(self, idx):\n",
    "        return self.embeddings[idx], self.labels[idx]\n",
    "\n",
    "class ClassificationHead(nn.Module):\n",
    "    \"\"\"Classification Head for n classes.\"\"\"\n",
    "    def __init__(self, input_dim: int = None, output_dim: int = 3):\n",
    "        super().__init__()\n",
    "        self.input_dim = input_dim\n",
    "        self.output_dim = output_dim\n",
    "        self.linear1 = nn.Linear(self.input_dim, self.output_dim)\n",
    "        \n",
    "    def forward(self, x: torch.Tensor) -> torch.Tensor:\n",
    "        return self.linear1(x)"
   ]
  },
  {
   "cell_type": "code",
   "execution_count": null,
   "metadata": {},
   "outputs": [],
   "source": [
    "# Hyperparameters\n",
    "LEARNING_RATE = 0.001\n",
    "EPOCHS = 10\n",
    "HIDDEN_DIM = train_embeddings['embeddings'].shape[1]\n",
    "OUTPUT_DIM = train_embeddings['labels'].shape[1]\n",
    "\n",
    "# Initialize datasets\n",
    "train_dataset = ClassificationDataset(train_embeddings['embeddings'], train_embeddings['labels'])\n",
    "val_dataset = ClassificationDataset(val_embeddings['embeddings'], val_embeddings['labels'])\n",
    "test_dataset = ClassificationDataset(test_embeddings['embeddings'], test_embeddings['labels'])\n",
    "\n",
    "# Initialize dataloaders\n",
    "train_dataloader = DataLoader(train_dataset, batch_size=4, shuffle=True)\n",
    "val_dataloader = DataLoader(val_dataset, batch_size=4, shuffle=False)\n",
    "test_dataloader = DataLoader(test_dataset, batch_size=4, shuffle=False)\n",
    "\n",
    "# Initialize model\n",
    "model = ClassificationHead(input_dim=HIDDEN_DIM, output_dim=OUTPUT_DIM)\n",
    "\n",
    "# Initialize optimizer\n",
    "optimizer = AdamW(model.parameters(), lr=LEARNING_RATE)\n",
    "\n",
    "# Initialize loss function\n",
    "loss_fn = nn.CrossEntropyLoss()"
   ]
  },
  {
   "cell_type": "code",
   "execution_count": null,
   "metadata": {},
   "outputs": [],
   "source": [
    "# Train Loop\n",
    "for epoch in range(EPOCHS):\n",
    "    # Training\n",
    "    model.train()\n",
    "    bar = tqdm(train_dataloader)\n",
    "\n",
    "    for batch in bar:\n",
    "        optimizer.zero_grad()\n",
    "        embeddings, labels = batch\n",
    "        logits = model(embeddings)\n",
    "        loss = loss_fn(logits, labels)\n",
    "        loss.backward()\n",
    "        optimizer.step()\n",
    "        bar.set_description(f\"Epoch {epoch} loss: {loss.item():.5f}\")\n",
    "    \n",
    "    # Validation\n",
    "    model.eval()\n",
    "    bar = tqdm(val_dataloader)\n",
    "    val_loss = 0\n",
    "    for batch in bar:\n",
    "        embeddings, labels = batch\n",
    "        with torch.no_grad():\n",
    "            logits = model(embeddings)\n",
    "            loss = loss_fn(logits, labels)\n",
    "            val_loss += loss.item()\n",
    "    val_loss /= len(val_dataloader)\n",
    "    print(f\"Validation loss: {val_loss:.5f}\")\n",
    "\n",
    "    # Save model if validation loss is lower than previous validation loss\n",
    "    if epoch == 0:\n",
    "        best_val_loss = val_loss\n",
    "    elif val_loss < best_val_loss:\n",
    "        best_val_loss = val_loss\n",
    "        torch.save(model.state_dict(), paths.MODEL_PATH/'line_label_pred/llama2-classification-head.pt')"
   ]
  },
  {
   "cell_type": "code",
   "execution_count": null,
   "metadata": {},
   "outputs": [],
   "source": [
    "# Test\n",
    "model.load_state_dict(torch.load(paths.MODEL_PATH/'line_label_pred/llama2-classification-head.pt'))\n",
    "model.eval()\n",
    "bar = tqdm(test_dataloader)\n",
    "logits = []\n",
    "labels = []\n",
    "embeddings = []\n",
    "\n",
    "for batch in bar:\n",
    "    embeddings, labels = batch\n",
    "    with torch.no_grad():\n",
    "        logits = model(embeddings)\n",
    "        logits.append(logits)\n",
    "        labels.append(labels)\n",
    "        embeddings.append(embeddings)\n",
    "\n",
    "results = {'logits': torch.cat(logits, dim=0), 'labels': torch.cat(labels, dim=0), 'embeddings': torch.cat(embeddings, dim=0)}\n",
    "torch.save(results, paths.RESULTS_PATH/'line_labelling-LLAMA2-classification-test_output.pt')"
   ]
  },
  {
   "cell_type": "code",
   "execution_count": null,
   "metadata": {},
   "outputs": [],
   "source": [
    "model_inputs = tokenizer(['A list of colors: red, blue'], return_tensors=\"pt\").to(\"cuda\")\n",
    "model_inputs = {k: v.to(torch.int32).to(\"cuda\") for k, v in model_inputs.items()}"
   ]
  },
  {
   "cell_type": "code",
   "execution_count": null,
   "metadata": {},
   "outputs": [],
   "source": [
    "model_inputs['input_ids'].dtype"
   ]
  },
  {
   "cell_type": "code",
   "execution_count": null,
   "metadata": {},
   "outputs": [],
   "source": [
    "generated_ids = model.generate(**model_inputs, max_new_tokens=20)"
   ]
  },
  {
   "cell_type": "code",
   "execution_count": null,
   "metadata": {},
   "outputs": [],
   "source": [
    "tokenizer.batch_decode(generated_ids, skip_special_tokens=True)[0]"
   ]
  },
  {
   "cell_type": "code",
   "execution_count": null,
   "metadata": {},
   "outputs": [],
   "source": [
    "pipeline = transformers.pipeline(\n",
    "    \"text-generation\",\n",
    "    tokenizer=tokenizer,\n",
    "    model=model,\n",
    "    torch_dtype=torch.float32,\n",
    "    device_map=\"auto\",\n",
    ")"
   ]
  },
  {
   "cell_type": "code",
   "execution_count": null,
   "metadata": {},
   "outputs": [],
   "source": [
    "sequences = pipeline(\n",
    "    'I liked \"Breaking Bad\" and \"Band of Brothers\". Do you have any recommendations of other shows I might like?\\n',\n",
    "    do_sample=True,\n",
    "    top_k=10,\n",
    "    num_return_sequences=1,\n",
    "    eos_token_id=tokenizer.eos_token_id,\n",
    "    max_length=200,\n",
    ")\n",
    "for seq in sequences:\n",
    "    print(f\"Result: {seq['generated_text']}\")"
   ]
  },
  {
   "cell_type": "code",
   "execution_count": null,
   "metadata": {},
   "outputs": [],
   "source": [
    "import subprocess as sp\n",
    "import os\n",
    "\n",
    "def get_gpu_memory():\n",
    "    command = \"nvidia-smi --query-gpu=memory.free --format=csv\"\n",
    "    memory_free_info = sp.check_output(command.split()).decode('ascii').split('\\n')[:-1][1:]\n",
    "    memory_free_values = [int(x.split()[0]) for i, x in enumerate(memory_free_info)]\n",
    "    return memory_free_values\n",
    "\n",
    "get_gpu_memory()"
   ]
  }
 ],
 "metadata": {
  "kernelspec": {
   "display_name": "Python 3 (ipykernel)",
   "language": "python",
   "name": "python3"
  },
  "language_info": {
   "codemirror_mode": {
    "name": "ipython",
    "version": 3
   },
   "file_extension": ".py",
   "mimetype": "text/x-python",
   "name": "python",
   "nbconvert_exporter": "python",
   "pygments_lexer": "ipython3",
   "version": "3.9.18"
  }
 },
 "nbformat": 4,
 "nbformat_minor": 4
}

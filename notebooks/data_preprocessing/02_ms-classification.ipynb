{
 "cells": [
  {
   "cell_type": "markdown",
   "metadata": {},
   "source": [
    "# MS Prediction Data Cleaning"
   ]
  },
  {
   "cell_type": "code",
   "execution_count": 1,
   "metadata": {},
   "outputs": [],
   "source": [
    "import pandas as pd\n",
    "\n",
    "import sys\n",
    "import os\n",
    "sys.path.append(os.getcwd()+\"/../..\")\n",
    "from src import paths\n",
    "\n",
    "from dateutil import parser\n",
    "import datetime\n",
    "\n",
    "from sklearn.model_selection import train_test_split\n"
   ]
  },
  {
   "cell_type": "markdown",
   "metadata": {},
   "source": [
    "## Diagnoses labels\n",
    "\n",
    "Found in `seantis/diagnoses.csv` in the `disease` column."
   ]
  },
  {
   "cell_type": "code",
   "execution_count": 2,
   "metadata": {},
   "outputs": [],
   "source": [
    "labels = pd.read_csv(paths.DATA_PATH_SEANTIS/'diagnoses.csv')"
   ]
  },
  {
   "cell_type": "code",
   "execution_count": 3,
   "metadata": {},
   "outputs": [
    {
     "data": {
      "text/html": [
       "<div>\n",
       "<style scoped>\n",
       "    .dataframe tbody tr th:only-of-type {\n",
       "        vertical-align: middle;\n",
       "    }\n",
       "\n",
       "    .dataframe tbody tr th {\n",
       "        vertical-align: top;\n",
       "    }\n",
       "\n",
       "    .dataframe thead th {\n",
       "        text-align: right;\n",
       "    }\n",
       "</style>\n",
       "<table border=\"1\" class=\"dataframe\">\n",
       "  <thead>\n",
       "    <tr style=\"text-align: right;\">\n",
       "      <th></th>\n",
       "      <th>diagnosis_date</th>\n",
       "      <th>diagnosis_reliability</th>\n",
       "      <th>disease</th>\n",
       "      <th>disease_onset_date</th>\n",
       "      <th>research_id</th>\n",
       "    </tr>\n",
       "  </thead>\n",
       "  <tbody>\n",
       "    <tr>\n",
       "      <th>0</th>\n",
       "      <td>2011-10</td>\n",
       "      <td>confirmed</td>\n",
       "      <td>Progressive multifokale Leukencephalopathie (PML)</td>\n",
       "      <td>2011-10</td>\n",
       "      <td>A0684D32-19C0-4538-AFDE-52959CCD8B63</td>\n",
       "    </tr>\n",
       "    <tr>\n",
       "      <th>1</th>\n",
       "      <td>2002-08</td>\n",
       "      <td>confirmed</td>\n",
       "      <td>relapsing_remitting_multiple_sclerosis</td>\n",
       "      <td>2002-06</td>\n",
       "      <td>A0684D32-19C0-4538-AFDE-52959CCD8B63</td>\n",
       "    </tr>\n",
       "    <tr>\n",
       "      <th>2</th>\n",
       "      <td>2011-11</td>\n",
       "      <td>confirmed</td>\n",
       "      <td>St.n. symptomatischer Epilepsie mit einfach fo...</td>\n",
       "      <td>2011-11</td>\n",
       "      <td>A0684D32-19C0-4538-AFDE-52959CCD8B63</td>\n",
       "    </tr>\n",
       "    <tr>\n",
       "      <th>3</th>\n",
       "      <td>2008-10</td>\n",
       "      <td>confirmed</td>\n",
       "      <td>relapsing_remitting_multiple_sclerosis</td>\n",
       "      <td>2003</td>\n",
       "      <td>AAE63006-727A-4DF6-82B7-32A86AB8F5C1</td>\n",
       "    </tr>\n",
       "    <tr>\n",
       "      <th>4</th>\n",
       "      <td>2000</td>\n",
       "      <td>NaN</td>\n",
       "      <td>relapsing_remitting_multiple_sclerosis</td>\n",
       "      <td>2000</td>\n",
       "      <td>EF6AFC6C-BEB1-43B9-A5F4-79F321FF100C</td>\n",
       "    </tr>\n",
       "  </tbody>\n",
       "</table>\n",
       "</div>"
      ],
      "text/plain": [
       "  diagnosis_date diagnosis_reliability  \\\n",
       "0        2011-10             confirmed   \n",
       "1        2002-08             confirmed   \n",
       "2        2011-11             confirmed   \n",
       "3        2008-10             confirmed   \n",
       "4           2000                   NaN   \n",
       "\n",
       "                                             disease disease_onset_date  \\\n",
       "0  Progressive multifokale Leukencephalopathie (PML)            2011-10   \n",
       "1             relapsing_remitting_multiple_sclerosis            2002-06   \n",
       "2  St.n. symptomatischer Epilepsie mit einfach fo...            2011-11   \n",
       "3             relapsing_remitting_multiple_sclerosis               2003   \n",
       "4             relapsing_remitting_multiple_sclerosis               2000   \n",
       "\n",
       "                            research_id  \n",
       "0  A0684D32-19C0-4538-AFDE-52959CCD8B63  \n",
       "1  A0684D32-19C0-4538-AFDE-52959CCD8B63  \n",
       "2  A0684D32-19C0-4538-AFDE-52959CCD8B63  \n",
       "3  AAE63006-727A-4DF6-82B7-32A86AB8F5C1  \n",
       "4  EF6AFC6C-BEB1-43B9-A5F4-79F321FF100C  "
      ]
     },
     "execution_count": 3,
     "metadata": {},
     "output_type": "execute_result"
    }
   ],
   "source": [
    "labels.head()"
   ]
  },
  {
   "cell_type": "code",
   "execution_count": 4,
   "metadata": {},
   "outputs": [
    {
     "name": "stdout",
     "output_type": "stream",
     "text": [
      "Label distribution:\n",
      "disease\n",
      "relapsing_remitting_multiple_sclerosis                                              284\n",
      "clinically_isolated_syndrome                                                         45\n",
      "secondary_progressive_multiple_sclerosis                                             27\n",
      "primary_progressive_multiple_sclerosis                                               18\n",
      "Schubförmige Multiple Sklerose                                                        3\n",
      "Multiple Sklerose a.e. primär progredient                                             2\n",
      "Progressive multifokale Leukencephalopathie (PML)                                     1\n",
      "St.n. symptomatischer Epilepsie mit einfach fokalen und komplex fokalen Anfällen      1\n",
      "Schubförmig remittierende Multiple Sklerose (RRMS)                                    1\n",
      "Multiple Sklerose mit am ehesten progredientem Verlauf                                1\n",
      "Schubförmig remittierende Multiple Sklerose                                           1\n",
      "Multiple Sklerose                                                                     1\n",
      "Multiple Sklerose mit V.a. sekundär chronisch-progredienten Verlauf                   1\n",
      "Multiple Sklerose mit a.e. primär-progredientem Verlauf                               1\n",
      "Name: count, dtype: int64\n",
      "None:  0 \n",
      "\n",
      "Unique patient IDs:  333\n",
      "Duplicate patient IDs:  54\n"
     ]
    }
   ],
   "source": [
    "print(\"Label distribution:\")\n",
    "print(labels['disease'].value_counts())\n",
    "print(\"None: \", labels['disease'].isna().sum(), \"\\n\")\n",
    "print(\"Unique patient IDs: \", len(labels['research_id'].unique()))\n",
    "print(\"Duplicate patient IDs: \", len(labels['research_id']) - len(labels['research_id'].unique()))"
   ]
  },
  {
   "cell_type": "code",
   "execution_count": 5,
   "metadata": {},
   "outputs": [
    {
     "name": "stdout",
     "output_type": "stream",
     "text": [
      "Diagnosis reliability:\n",
      "diagnosis_reliability\n",
      "confirmed      267\n",
      "status_post     51\n",
      "suspected       12\n",
      "Name: count, dtype: int64\n"
     ]
    }
   ],
   "source": [
    "print(\"Diagnosis reliability:\")\n",
    "print(labels['diagnosis_reliability'].value_counts())"
   ]
  },
  {
   "cell_type": "code",
   "execution_count": 6,
   "metadata": {},
   "outputs": [
    {
     "name": "stdout",
     "output_type": "stream",
     "text": [
      "Missing dates:\n",
      "0\n",
      "\n",
      "\n",
      "Date column formats:\n",
      "diagnosis_date\n",
      "7     270\n",
      "4      67\n",
      "10     50\n",
      "Name: count, dtype: int64\n",
      "\n",
      "\n",
      "Example date:\n",
      "2020-10-30\n"
     ]
    }
   ],
   "source": [
    "# Print missing dates\n",
    "print(\"Missing dates:\")\n",
    "print(labels[\"diagnosis_date\"].isna().sum())\n",
    "print(\"\\n\")\n",
    "\n",
    "# Date column formats\n",
    "print(\"Date column formats:\")\n",
    "print(labels[\"diagnosis_date\"].apply(lambda x: len(x)).value_counts())\n",
    "print(\"\\n\")\n",
    "\n",
    "# Print a 10 character date\n",
    "print(\"Example date:\")\n",
    "print(labels[\"diagnosis_date\"][labels[\"diagnosis_date\"].apply(lambda x: len(x)) == 10].iloc[1])"
   ]
  },
  {
   "cell_type": "code",
   "execution_count": 7,
   "metadata": {},
   "outputs": [
    {
     "name": "stdout",
     "output_type": "stream",
     "text": [
      "       format  count\n",
      "0     YYYY-MM    270\n",
      "1        YYYY     67\n",
      "2  YYYY-MM-DD     50\n"
     ]
    }
   ],
   "source": [
    "# Guessing the date format from the length and example. Seems to follow english format with YYYY-MM-DD.\n",
    "date_map = {\n",
    "    7: \"YYYY-MM\",\n",
    "    10: \"YYYY-MM-DD\",\n",
    "    4: \"YYYY\",\n",
    "}\n",
    "print(labels[\"diagnosis_date\"].apply(lambda x: len(x))\n",
    "      .value_counts()\n",
    "      .reset_index()\n",
    "      .replace({\"diagnosis_date\": date_map})\n",
    "      .rename(columns={\"diagnosis_date\": \"format\"}))"
   ]
  },
  {
   "cell_type": "code",
   "execution_count": 8,
   "metadata": {},
   "outputs": [
    {
     "name": "stdout",
     "output_type": "stream",
     "text": [
      "Examples Patients with multiple labels:\n"
     ]
    },
    {
     "data": {
      "text/html": [
       "<div>\n",
       "<style scoped>\n",
       "    .dataframe tbody tr th:only-of-type {\n",
       "        vertical-align: middle;\n",
       "    }\n",
       "\n",
       "    .dataframe tbody tr th {\n",
       "        vertical-align: top;\n",
       "    }\n",
       "\n",
       "    .dataframe thead th {\n",
       "        text-align: right;\n",
       "    }\n",
       "</style>\n",
       "<table border=\"1\" class=\"dataframe\">\n",
       "  <thead>\n",
       "    <tr style=\"text-align: right;\">\n",
       "      <th></th>\n",
       "      <th>diagnosis_date</th>\n",
       "      <th>diagnosis_reliability</th>\n",
       "      <th>disease</th>\n",
       "      <th>disease_onset_date</th>\n",
       "      <th>research_id</th>\n",
       "    </tr>\n",
       "  </thead>\n",
       "  <tbody>\n",
       "    <tr>\n",
       "      <th>114</th>\n",
       "      <td>2013-11</td>\n",
       "      <td>confirmed</td>\n",
       "      <td>relapsing_remitting_multiple_sclerosis</td>\n",
       "      <td>2012-12</td>\n",
       "      <td>05157228-A1C5-4335-B990-AF72B312FF1A</td>\n",
       "    </tr>\n",
       "    <tr>\n",
       "      <th>115</th>\n",
       "      <td>2013-04</td>\n",
       "      <td>status_post</td>\n",
       "      <td>clinically_isolated_syndrome</td>\n",
       "      <td>2012-12</td>\n",
       "      <td>05157228-A1C5-4335-B990-AF72B312FF1A</td>\n",
       "    </tr>\n",
       "    <tr>\n",
       "      <th>163</th>\n",
       "      <td>2015-02</td>\n",
       "      <td>confirmed</td>\n",
       "      <td>relapsing_remitting_multiple_sclerosis</td>\n",
       "      <td>2014-09</td>\n",
       "      <td>08F1FA27-6213-47AF-B967-DC44CCCE9613</td>\n",
       "    </tr>\n",
       "    <tr>\n",
       "      <th>164</th>\n",
       "      <td>2014-10</td>\n",
       "      <td>status_post</td>\n",
       "      <td>clinically_isolated_syndrome</td>\n",
       "      <td>2014-09-28</td>\n",
       "      <td>08F1FA27-6213-47AF-B967-DC44CCCE9613</td>\n",
       "    </tr>\n",
       "    <tr>\n",
       "      <th>63</th>\n",
       "      <td>2009-11</td>\n",
       "      <td>confirmed</td>\n",
       "      <td>relapsing_remitting_multiple_sclerosis</td>\n",
       "      <td>2009-01</td>\n",
       "      <td>146E4473-897F-402D-9F33-7943658FB47D</td>\n",
       "    </tr>\n",
       "    <tr>\n",
       "      <th>...</th>\n",
       "      <td>...</td>\n",
       "      <td>...</td>\n",
       "      <td>...</td>\n",
       "      <td>...</td>\n",
       "      <td>...</td>\n",
       "    </tr>\n",
       "    <tr>\n",
       "      <th>304</th>\n",
       "      <td>1997-10</td>\n",
       "      <td>confirmed</td>\n",
       "      <td>secondary_progressive_multiple_sclerosis</td>\n",
       "      <td>1992</td>\n",
       "      <td>F4D0C12B-8BEC-4B0E-BB80-44909D9A8507</td>\n",
       "    </tr>\n",
       "    <tr>\n",
       "      <th>188</th>\n",
       "      <td>2015-07</td>\n",
       "      <td>status_post</td>\n",
       "      <td>clinically_isolated_syndrome</td>\n",
       "      <td>2015-06</td>\n",
       "      <td>F5C813F0-1281-4C7E-87E1-78BA8AC3738A</td>\n",
       "    </tr>\n",
       "    <tr>\n",
       "      <th>189</th>\n",
       "      <td>2016-01</td>\n",
       "      <td>confirmed</td>\n",
       "      <td>relapsing_remitting_multiple_sclerosis</td>\n",
       "      <td>2015-06</td>\n",
       "      <td>F5C813F0-1281-4C7E-87E1-78BA8AC3738A</td>\n",
       "    </tr>\n",
       "    <tr>\n",
       "      <th>176</th>\n",
       "      <td>2017-03</td>\n",
       "      <td>confirmed</td>\n",
       "      <td>relapsing_remitting_multiple_sclerosis</td>\n",
       "      <td>2015-04</td>\n",
       "      <td>F713ABCC-6E83-45E5-B660-E68CA43024CF</td>\n",
       "    </tr>\n",
       "    <tr>\n",
       "      <th>177</th>\n",
       "      <td>2015-05</td>\n",
       "      <td>status_post</td>\n",
       "      <td>clinically_isolated_syndrome</td>\n",
       "      <td>2015-04</td>\n",
       "      <td>F713ABCC-6E83-45E5-B660-E68CA43024CF</td>\n",
       "    </tr>\n",
       "  </tbody>\n",
       "</table>\n",
       "<p>107 rows × 5 columns</p>\n",
       "</div>"
      ],
      "text/plain": [
       "    diagnosis_date diagnosis_reliability  \\\n",
       "114        2013-11             confirmed   \n",
       "115        2013-04           status_post   \n",
       "163        2015-02             confirmed   \n",
       "164        2014-10           status_post   \n",
       "63         2009-11             confirmed   \n",
       "..             ...                   ...   \n",
       "304        1997-10             confirmed   \n",
       "188        2015-07           status_post   \n",
       "189        2016-01             confirmed   \n",
       "176        2017-03             confirmed   \n",
       "177        2015-05           status_post   \n",
       "\n",
       "                                      disease disease_onset_date  \\\n",
       "114    relapsing_remitting_multiple_sclerosis            2012-12   \n",
       "115              clinically_isolated_syndrome            2012-12   \n",
       "163    relapsing_remitting_multiple_sclerosis            2014-09   \n",
       "164              clinically_isolated_syndrome         2014-09-28   \n",
       "63     relapsing_remitting_multiple_sclerosis            2009-01   \n",
       "..                                        ...                ...   \n",
       "304  secondary_progressive_multiple_sclerosis               1992   \n",
       "188              clinically_isolated_syndrome            2015-06   \n",
       "189    relapsing_remitting_multiple_sclerosis            2015-06   \n",
       "176    relapsing_remitting_multiple_sclerosis            2015-04   \n",
       "177              clinically_isolated_syndrome            2015-04   \n",
       "\n",
       "                              research_id  \n",
       "114  05157228-A1C5-4335-B990-AF72B312FF1A  \n",
       "115  05157228-A1C5-4335-B990-AF72B312FF1A  \n",
       "163  08F1FA27-6213-47AF-B967-DC44CCCE9613  \n",
       "164  08F1FA27-6213-47AF-B967-DC44CCCE9613  \n",
       "63   146E4473-897F-402D-9F33-7943658FB47D  \n",
       "..                                    ...  \n",
       "304  F4D0C12B-8BEC-4B0E-BB80-44909D9A8507  \n",
       "188  F5C813F0-1281-4C7E-87E1-78BA8AC3738A  \n",
       "189  F5C813F0-1281-4C7E-87E1-78BA8AC3738A  \n",
       "176  F713ABCC-6E83-45E5-B660-E68CA43024CF  \n",
       "177  F713ABCC-6E83-45E5-B660-E68CA43024CF  \n",
       "\n",
       "[107 rows x 5 columns]"
      ]
     },
     "metadata": {},
     "output_type": "display_data"
    }
   ],
   "source": [
    "# Print the entries for the patients with multiple labels\n",
    "print(\"Examples Patients with multiple labels:\")\n",
    "display((labels[labels[\"research_id\"].duplicated(keep=False)].sort_values(by=[\"research_id\", \"disease_onset_date\"])))"
   ]
  },
  {
   "cell_type": "markdown",
   "metadata": {},
   "source": [
    "### Problems\n",
    "\n",
    "- Mix of german and english labels.\n",
    "- Irrelevant labels\n",
    "- Class imbalance\n",
    "- There could be multiple diagnoses per patient\n",
    "- The date column contains multiple formats, YYYY-MM, YYYY, YYYY-MM-DD\n",
    "- Some diagnoses are not confirmed, could be detrimental to model training. In old approach they excluded these.\n",
    "\n",
    "### Conclusion\n",
    "\n",
    "- Map all non-english labels to their corresponding english class\n",
    "- Exclude irrelevant labels (like clinically_isolated_syndrome). Keep relevant labels (relapsing_remitting_multiple_sclerosis (RRMS), secondary_progressive_multiple_sclerosis (SPMS), primary_progressive_multiple_sclerosis (PPMS))\n",
    "- Do dataset-splits stratified\n",
    "- Match with text from `kisim_diagnosis` based on RID, check again how much remains.\n",
    "- Multiple diagnoses per patient are reasonable, but problem is automatically solved by excluding non-confirmed diagnoses as all of the RRMS diagnoses were made status_post which shouldn't be info in the text.\n",
    "- Clean date column by using YYYY-MM-DD format, mapping YYYY to the YYYY-01-01 and YYYY-MM to YYYY-MM-01\n",
    "- Exclude non-confirmed diagnoses like in old approach."
   ]
  },
  {
   "cell_type": "code",
   "execution_count": 9,
   "metadata": {},
   "outputs": [
    {
     "name": "stdout",
     "output_type": "stream",
     "text": [
      "Label distribution:\n",
      "disease\n",
      "relapsing_remitting_multiple_sclerosis      286\n",
      "secondary_progressive_multiple_sclerosis     28\n",
      "primary_progressive_multiple_sclerosis       21\n",
      "Name: count, dtype: int64 \n",
      "\n",
      "Unique patient IDs:  328\n",
      "Duplicate patient IDs:  7\n"
     ]
    }
   ],
   "source": [
    "map_dict = {\n",
    "    \"Schubförmig remittierende Multiple Sklerose (RRMS)\": \"relapsing_remitting_multiple_sclerosis\",\n",
    "    \"Schubförmig remittierende Multiple Sklerose\": \"relapsing_remitting_multiple_sclerosis\",\n",
    "    \"Schubförmig remittierende Multiple Sklerose \": \"relapsing_remitting_multiple_sclerosis\",\n",
    "    \"Multiple Sklerose mit V.a. sekundär chronisch-progredienten Verlauf\": \"secondary_progressive_multiple_sclerosis\",\n",
    "    \"Multiple Sklerose a.e. primär progredient\": \"primary_progressive_multiple_sclerosis\",\n",
    "    \"Multiple Sklerose mit a.e. primär-progredientem Verlauf\": \"primary_progressive_multiple_sclerosis\",\n",
    "}\n",
    "\n",
    "label_list = [\"relapsing_remitting_multiple_sclerosis\", \"secondary_progressive_multiple_sclerosis\", \"primary_progressive_multiple_sclerosis\"]\n",
    "\n",
    "labels_cleaned = labels.replace(map_dict)\n",
    "labels_cleaned = labels_cleaned[labels_cleaned[\"disease\"].isin(label_list)]\n",
    "print(\"Label distribution:\")\n",
    "print(labels_cleaned[\"disease\"].value_counts(), \"\\n\")\n",
    "print(\"Unique patient IDs: \", len(labels_cleaned['research_id'].unique()))\n",
    "print(\"Duplicate patient IDs: \", len(labels_cleaned['research_id']) - len(labels_cleaned['research_id'].unique()))"
   ]
  },
  {
   "cell_type": "code",
   "execution_count": 10,
   "metadata": {},
   "outputs": [],
   "source": [
    "# Date column to YYYY-MM-DD format with default 2023-01-01\n",
    "labels_cleaned[\"diagnosis_date\"] = labels_cleaned[\"diagnosis_date\"].apply(lambda x: parser.parse(x, default=datetime.datetime(2023, 1, 1)).strftime(\"%Y-%m-%d\"))"
   ]
  },
  {
   "cell_type": "code",
   "execution_count": 11,
   "metadata": {},
   "outputs": [],
   "source": [
    "# Remove rows with non-confirmed diagnosis\n",
    "labels_cleaned = labels_cleaned[labels_cleaned[\"diagnosis_reliability\"] == \"confirmed\"]\n",
    "# Keep only date, rid and disease and rename columns\n",
    "labels_cleaned = labels_cleaned[[\"research_id\", \"diagnosis_date\", \"disease\", \"diagnosis_reliability\"]].rename(columns={\"research_id\": \"rid\", \"diagnosis_date\": \"date\", \"disease\": \"label\"})"
   ]
  },
  {
   "cell_type": "code",
   "execution_count": 12,
   "metadata": {},
   "outputs": [
    {
     "name": "stdout",
     "output_type": "stream",
     "text": [
      "Examples Patients with multiple labels:\n"
     ]
    },
    {
     "data": {
      "text/html": [
       "<div>\n",
       "<style scoped>\n",
       "    .dataframe tbody tr th:only-of-type {\n",
       "        vertical-align: middle;\n",
       "    }\n",
       "\n",
       "    .dataframe tbody tr th {\n",
       "        vertical-align: top;\n",
       "    }\n",
       "\n",
       "    .dataframe thead th {\n",
       "        text-align: right;\n",
       "    }\n",
       "</style>\n",
       "<table border=\"1\" class=\"dataframe\">\n",
       "  <thead>\n",
       "    <tr style=\"text-align: right;\">\n",
       "      <th></th>\n",
       "      <th>rid</th>\n",
       "      <th>date</th>\n",
       "      <th>label</th>\n",
       "      <th>diagnosis_reliability</th>\n",
       "    </tr>\n",
       "  </thead>\n",
       "  <tbody>\n",
       "  </tbody>\n",
       "</table>\n",
       "</div>"
      ],
      "text/plain": [
       "Empty DataFrame\n",
       "Columns: [rid, date, label, diagnosis_reliability]\n",
       "Index: []"
      ]
     },
     "metadata": {},
     "output_type": "display_data"
    },
    {
     "name": "stdout",
     "output_type": "stream",
     "text": [
      "Summary of cleaned dataset: \n",
      "\n",
      "        rid date label diagnosis_reliability\n",
      "count   260  260   260                   260\n",
      "unique  260  149     3                     1 \n",
      "\n",
      "shape:  (260, 4) \n",
      "\n",
      "label distribution: \n",
      " label\n",
      "relapsing_remitting_multiple_sclerosis      228\n",
      "secondary_progressive_multiple_sclerosis     17\n",
      "primary_progressive_multiple_sclerosis       15\n",
      "Name: count, dtype: int64 \n",
      "\n",
      "missing: \n",
      " rid                      0\n",
      "date                     0\n",
      "label                    0\n",
      "diagnosis_reliability    0\n",
      "dtype: int64 \n",
      "\n"
     ]
    }
   ],
   "source": [
    "# Print the entries for the patients with multiple labels\n",
    "print(\"Examples Patients with multiple labels:\")\n",
    "display((labels_cleaned[labels_cleaned[\"rid\"].duplicated(keep=False)].sort_values(by=[\"rid\", \"date\"])))\n",
    "\n",
    "print(\"Summary of cleaned dataset: \\n\")\n",
    "print(labels_cleaned.describe().iloc[:2], \"\\n\")\n",
    "print(\"shape: \", labels_cleaned.shape, \"\\n\")\n",
    "print(\"label distribution: \\n\", labels_cleaned[\"label\"].value_counts(), \"\\n\")\n",
    "print(\"missing: \\n\", labels_cleaned.isna().sum(), \"\\n\")"
   ]
  },
  {
   "cell_type": "markdown",
   "metadata": {},
   "source": [
    "### After Cleaning\n",
    "\n",
    "We end up with 228 cases of RRMS, 17 SPMS and 15 PPMS of 260 unique rids."
   ]
  },
  {
   "cell_type": "markdown",
   "metadata": {},
   "source": [
    "## Diagnosis text\n",
    "\n",
    "The diagnosis text is in `kisim_diagnoses.csv`"
   ]
  },
  {
   "cell_type": "code",
   "execution_count": 13,
   "metadata": {},
   "outputs": [],
   "source": [
    "text = pd.read_csv(paths.DATA_PATH_SEANTIS/'kisim_diagnoses.csv')"
   ]
  },
  {
   "cell_type": "code",
   "execution_count": 14,
   "metadata": {},
   "outputs": [
    {
     "data": {
      "text/html": [
       "<div>\n",
       "<style scoped>\n",
       "    .dataframe tbody tr th:only-of-type {\n",
       "        vertical-align: middle;\n",
       "    }\n",
       "\n",
       "    .dataframe tbody tr th {\n",
       "        vertical-align: top;\n",
       "    }\n",
       "\n",
       "    .dataframe thead th {\n",
       "        text-align: right;\n",
       "    }\n",
       "</style>\n",
       "<table border=\"1\" class=\"dataframe\">\n",
       "  <thead>\n",
       "    <tr style=\"text-align: right;\">\n",
       "      <th></th>\n",
       "      <th>data_provider_code</th>\n",
       "      <th>diagnosis_code</th>\n",
       "      <th>diagnosis_code_system</th>\n",
       "      <th>diagnosis_code_system_version</th>\n",
       "      <th>diagnosis_date</th>\n",
       "      <th>diagnosis_encoded</th>\n",
       "      <th>diagnosis_id</th>\n",
       "      <th>diagnosis_label</th>\n",
       "      <th>diagnosis_ranking</th>\n",
       "      <th>diagnosis_role</th>\n",
       "      <th>LastUpdateDateTime</th>\n",
       "      <th>research_id</th>\n",
       "    </tr>\n",
       "  </thead>\n",
       "  <tbody>\n",
       "    <tr>\n",
       "      <th>0</th>\n",
       "      <td>CHE-108.904.325</td>\n",
       "      <td>NaN</td>\n",
       "      <td>NaN</td>\n",
       "      <td>NaN</td>\n",
       "      <td>NaN</td>\n",
       "      <td>no</td>\n",
       "      <td>7024338|1</td>\n",
       "      <td>Kutane Karzinogenese \\r\\nSpinozelläre Karzinom...</td>\n",
       "      <td>primary</td>\n",
       "      <td>discharge</td>\n",
       "      <td>2021-01-19 08:34:58.0800000</td>\n",
       "      <td>AAE63006-727A-4DF6-82B7-32A86AB8F5C1</td>\n",
       "    </tr>\n",
       "    <tr>\n",
       "      <th>1</th>\n",
       "      <td>CHE-108.904.325</td>\n",
       "      <td>NaN</td>\n",
       "      <td>NaN</td>\n",
       "      <td>NaN</td>\n",
       "      <td>NaN</td>\n",
       "      <td>no</td>\n",
       "      <td>5255555|1</td>\n",
       "      <td>Aktuell kompensierte Harnblasensituation bei s...</td>\n",
       "      <td>primary</td>\n",
       "      <td>discharge</td>\n",
       "      <td>2016-10-07 14:06:05.2630000</td>\n",
       "      <td>AAE63006-727A-4DF6-82B7-32A86AB8F5C1</td>\n",
       "    </tr>\n",
       "    <tr>\n",
       "      <th>2</th>\n",
       "      <td>CHE-108.904.325</td>\n",
       "      <td>NaN</td>\n",
       "      <td>NaN</td>\n",
       "      <td>NaN</td>\n",
       "      <td>NaN</td>\n",
       "      <td>no</td>\n",
       "      <td>6435406|1</td>\n",
       "      <td>Aktuell kompensierte Harnblasensituation bei s...</td>\n",
       "      <td>primary</td>\n",
       "      <td>discharge</td>\n",
       "      <td>2020-04-28 06:27:53.2300000</td>\n",
       "      <td>AAE63006-727A-4DF6-82B7-32A86AB8F5C1</td>\n",
       "    </tr>\n",
       "    <tr>\n",
       "      <th>3</th>\n",
       "      <td>CHE-108.904.325</td>\n",
       "      <td>NaN</td>\n",
       "      <td>NaN</td>\n",
       "      <td>NaN</td>\n",
       "      <td>NaN</td>\n",
       "      <td>no</td>\n",
       "      <td>6352273|5</td>\n",
       "      <td>Schubförmige Multiple Sklerose\\r\\nES 03, ED 10...</td>\n",
       "      <td>secondary</td>\n",
       "      <td>discharge</td>\n",
       "      <td>2019-07-24 11:21:01.4300000</td>\n",
       "      <td>AAE63006-727A-4DF6-82B7-32A86AB8F5C1</td>\n",
       "    </tr>\n",
       "    <tr>\n",
       "      <th>4</th>\n",
       "      <td>CHE-108.904.325</td>\n",
       "      <td>NaN</td>\n",
       "      <td>NaN</td>\n",
       "      <td>NaN</td>\n",
       "      <td>NaN</td>\n",
       "      <td>no</td>\n",
       "      <td>6352273|4</td>\n",
       "      <td>Aktuell kompensierte Harnblasensituation bei s...</td>\n",
       "      <td>secondary</td>\n",
       "      <td>discharge</td>\n",
       "      <td>2019-07-24 11:21:01.4300000</td>\n",
       "      <td>AAE63006-727A-4DF6-82B7-32A86AB8F5C1</td>\n",
       "    </tr>\n",
       "  </tbody>\n",
       "</table>\n",
       "</div>"
      ],
      "text/plain": [
       "  data_provider_code diagnosis_code diagnosis_code_system  \\\n",
       "0    CHE-108.904.325            NaN                   NaN   \n",
       "1    CHE-108.904.325            NaN                   NaN   \n",
       "2    CHE-108.904.325            NaN                   NaN   \n",
       "3    CHE-108.904.325            NaN                   NaN   \n",
       "4    CHE-108.904.325            NaN                   NaN   \n",
       "\n",
       "  diagnosis_code_system_version diagnosis_date diagnosis_encoded diagnosis_id  \\\n",
       "0                           NaN            NaN                no    7024338|1   \n",
       "1                           NaN            NaN                no    5255555|1   \n",
       "2                           NaN            NaN                no    6435406|1   \n",
       "3                           NaN            NaN                no    6352273|5   \n",
       "4                           NaN            NaN                no    6352273|4   \n",
       "\n",
       "                                     diagnosis_label diagnosis_ranking  \\\n",
       "0  Kutane Karzinogenese \\r\\nSpinozelläre Karzinom...           primary   \n",
       "1  Aktuell kompensierte Harnblasensituation bei s...           primary   \n",
       "2  Aktuell kompensierte Harnblasensituation bei s...           primary   \n",
       "3  Schubförmige Multiple Sklerose\\r\\nES 03, ED 10...         secondary   \n",
       "4  Aktuell kompensierte Harnblasensituation bei s...         secondary   \n",
       "\n",
       "  diagnosis_role           LastUpdateDateTime  \\\n",
       "0      discharge  2021-01-19 08:34:58.0800000   \n",
       "1      discharge  2016-10-07 14:06:05.2630000   \n",
       "2      discharge  2020-04-28 06:27:53.2300000   \n",
       "3      discharge  2019-07-24 11:21:01.4300000   \n",
       "4      discharge  2019-07-24 11:21:01.4300000   \n",
       "\n",
       "                            research_id  \n",
       "0  AAE63006-727A-4DF6-82B7-32A86AB8F5C1  \n",
       "1  AAE63006-727A-4DF6-82B7-32A86AB8F5C1  \n",
       "2  AAE63006-727A-4DF6-82B7-32A86AB8F5C1  \n",
       "3  AAE63006-727A-4DF6-82B7-32A86AB8F5C1  \n",
       "4  AAE63006-727A-4DF6-82B7-32A86AB8F5C1  "
      ]
     },
     "execution_count": 14,
     "metadata": {},
     "output_type": "execute_result"
    }
   ],
   "source": [
    "text.head()"
   ]
  },
  {
   "cell_type": "code",
   "execution_count": 15,
   "metadata": {},
   "outputs": [
    {
     "name": "stdout",
     "output_type": "stream",
     "text": [
      "Description of text dataset: \n",
      "\n",
      "       data_provider_code diagnosis_code diagnosis_code_system  \\\n",
      "count                7238           2101                  2101   \n",
      "unique                  1            514                     1   \n",
      "\n",
      "       diagnosis_code_system_version diagnosis_date diagnosis_encoded  \\\n",
      "count                           1808           2067              7238   \n",
      "unique                             6            415                 2   \n",
      "\n",
      "       diagnosis_id diagnosis_label diagnosis_ranking diagnosis_role  \\\n",
      "count          7238            7236              7238           7238   \n",
      "unique         7238            3498                 2              1   \n",
      "\n",
      "       LastUpdateDateTime research_id  \n",
      "count                7238        7238  \n",
      "unique               1505         275   \n",
      "\n",
      "Shape of text dataset: \n",
      "\n",
      "(7238, 12) \n",
      "\n",
      "None values: \n",
      "\n",
      "data_provider_code                  0\n",
      "diagnosis_code                   5137\n",
      "diagnosis_code_system            5137\n",
      "diagnosis_code_system_version    5430\n",
      "diagnosis_date                   5171\n",
      "diagnosis_encoded                   0\n",
      "diagnosis_id                        0\n",
      "diagnosis_label                     2\n",
      "diagnosis_ranking                   0\n",
      "diagnosis_role                      0\n",
      "LastUpdateDateTime                  0\n",
      "research_id                         0\n",
      "dtype: int64 \n",
      "\n"
     ]
    }
   ],
   "source": [
    "print(\"Description of text dataset: \\n\")\n",
    "print(text.describe().iloc[:2], \"\\n\")\n",
    "\n",
    "print(\"Shape of text dataset: \\n\")\n",
    "print(text.shape, \"\\n\")\n",
    "\n",
    "print(\"None values: \\n\")\n",
    "print(text.isna().sum(), \"\\n\")"
   ]
  },
  {
   "cell_type": "code",
   "execution_count": 16,
   "metadata": {},
   "outputs": [
    {
     "name": "stdout",
     "output_type": "stream",
     "text": [
      "Unique patient IDs:  275\n",
      "There is at least one date per rid:  research_id\n",
      "016B6D16-2BBA-4C05-A8E4-30F761C95813     True\n",
      "08301EF0-1057-41AB-9911-772AE295E282    False\n",
      "086D33C8-DDD3-4DE2-BFE0-A945076A2335    False\n",
      "088B7604-2F11-459A-8C8C-8E1A19943333     True\n",
      "08F1FA27-6213-47AF-B967-DC44CCCE9613     True\n",
      "                                        ...  \n",
      "F85F7220-F7BB-40EC-B2D9-A32EF15FFB86    False\n",
      "F876F155-CC5E-4512-AED1-2991D22B5DE9    False\n",
      "F87876FA-3068-4A93-AE71-6071CBE5F1F2     True\n",
      "F99EA55D-F709-47AD-A9C4-69764B3FEFF0     True\n",
      "FD303233-49CC-47B2-A5B4-5A50EA63327B     True\n",
      "Name: diagnosis_date, Length: 275, dtype: bool\n"
     ]
    }
   ],
   "source": [
    "# Unique patient IDs\n",
    "print(\"Unique patient IDs: \", len(text['research_id'].unique()))\n",
    "\n",
    "# Is there at least one date per rid?\n",
    "print(\"There is at least one date per rid: \", text.groupby(\"research_id\")[\"diagnosis_date\"].apply(lambda x: x.notna().sum().all()))"
   ]
  },
  {
   "cell_type": "code",
   "execution_count": 17,
   "metadata": {},
   "outputs": [
    {
     "name": "stdout",
     "output_type": "stream",
     "text": [
      "Date column formats:\n",
      "diagnosis_date\n",
      "27    2067\n",
      "Name: count, dtype: int64\n"
     ]
    }
   ],
   "source": [
    "# Date column formats\n",
    "print(\"Date column formats:\")\n",
    "print(text[\"diagnosis_date\"].dropna().apply(lambda x: len(x)).value_counts())"
   ]
  },
  {
   "cell_type": "code",
   "execution_count": 18,
   "metadata": {},
   "outputs": [
    {
     "name": "stdout",
     "output_type": "stream",
     "text": [
      "Example date:\n",
      "2018-12-06 18:53:00.0000000\n"
     ]
    }
   ],
   "source": [
    "print(\"Example date:\")\n",
    "print(text[\"diagnosis_date\"].dropna().iloc[0])"
   ]
  },
  {
   "cell_type": "code",
   "execution_count": 19,
   "metadata": {},
   "outputs": [
    {
     "name": "stdout",
     "output_type": "stream",
     "text": [
      "Longest text is equal to newest text:  False\n",
      "[False, False, False, False, False, False, True, False, False, False, False, False, False, True, True, False, True, False, False, False, True, False, False, False, True, False, False, False, False, False, False, False, False, False, False, False, False, False, False, False, False, False, False, False, True, False, False, False, False, True, False, False, False, False, False, False, False, False, True, False, False, False, False, False, True, False, False, False, False, False, False, False, False, False, True, False, True, False, False, False, False, False, True, False, False, False, False, False, False, False, True, False, False, False, False, False, False, False, True, False, False, False, True, False, False, False, False, False, True, False, True, True, False, False, False, False, False, False, False, False, False, True, True, False, False, False, True, False, True, False, False, False, True, False, False, False, False, False, False, True, False, False, False, False, False, False, False, False, False, False, False, False, True, False, False, False, False, False, False, False, False, False, False, True, True, False, False, False, False, False, False, True, False, False, False, False, False, False, False, False, False, False, False, False, False, False, False, False, False, False, False, False, False, False, False, False, False, False, False, False, False, False, False, False, False, False, False, False, False, False, True, True, True, True, True, False, False, True, False, False, False, False, True, True, False, False, False, True, True, True, False, False, False, False, False, False, False, False, False, True, False, True, False, True, True, True, False, False, False, False, False, False, False, False, True, False, False, False, False, False, False, False, False, False, False, False, True, True, False, True, False, True, True, False, False]\n"
     ]
    }
   ],
   "source": [
    "# Get latest date per rid, then check if text is longest for that entry for that rid\n",
    "text_lengths = text\n",
    "text_lengths[\"text_length\"] = text_lengths[\"diagnosis_label\"].dropna().apply(lambda x: len(x))\n",
    "longest_equal_newest = []\n",
    "for rid in text_lengths[\"research_id\"].unique():\n",
    "    longest_text = text_lengths[text_lengths[\"research_id\"] == rid].sort_values(by=\"text_length\", ascending=False).iloc[0][\"diagnosis_label\"]\n",
    "    newest_text = text_lengths[text_lengths[\"research_id\"] == rid].sort_values(by=\"diagnosis_date\", ascending=False).iloc[0][\"diagnosis_label\"]\n",
    "    longest_equal_newest.append(longest_text == newest_text)\n",
    "\n",
    "print(\"Longest text is equal to newest text: \", all(longest_equal_newest))\n",
    "print(longest_equal_newest)"
   ]
  },
  {
   "cell_type": "markdown",
   "metadata": {},
   "source": [
    "## Problems\n",
    "- There are multiple text entries per rid (diagnosis_label column). This is because doctors mostly just appended to existing reports, meaning the longest one should be the newest, or fullest report. \n",
    "- The LastUpdateDate is not useful for the dates, as different rows, that correspond to the same entries, share this date\n",
    "- The diagnosis_date column has a lot of missing values. Because of missing values matching is hard to match using date.\n",
    "- The date column is formated in the YYYY-MM-DD hh:mm:ss.ms format, could reformat\n",
    "\n",
    "# Conclusions\n",
    "- Multiple entries per rid, I will use the longest.\n",
    "- I will clean the date column and fill the na values with the latest per rid (if it has even one). Date column might not be used for analysis but might prove useful for time-series follow-up."
   ]
  },
  {
   "cell_type": "code",
   "execution_count": 20,
   "metadata": {},
   "outputs": [],
   "source": [
    "# Relevant columns\n",
    "text_cleaned = text[[\"research_id\", \"diagnosis_date\", \"diagnosis_label\"]].rename(columns={\"research_id\": \"rid\", \"diagnosis_date\": \"date\", \"diagnosis_label\": \"text\"})\n",
    "\n",
    "# Date column to YYYY-MM-DD format with default 2023-01-01 then set latest date per rid if date is missing\n",
    "text_cleaned[\"date\"] = text_cleaned[\"date\"].apply(lambda x: parser.parse(str(x), default=datetime.datetime(2023, 1, 1)).strftime(\"%Y-%m-%d\") if pd.notna(x) else x)\n",
    "text_cleaned['date'] = pd.to_datetime(text_cleaned['date'])\n",
    "text_cleaned['date'] = text_cleaned.groupby('rid')['date'].transform(lambda x: x.fillna(x.max()))\n",
    "\n",
    "# Extract longest text per rid\n",
    "text_cleaned = text_cleaned.groupby(\"rid\").apply(lambda x: x.loc[x['text'].str.len().idxmax()]).reset_index(drop=True)"
   ]
  },
  {
   "cell_type": "code",
   "execution_count": 21,
   "metadata": {},
   "outputs": [
    {
     "data": {
      "text/html": [
       "<div>\n",
       "<style scoped>\n",
       "    .dataframe tbody tr th:only-of-type {\n",
       "        vertical-align: middle;\n",
       "    }\n",
       "\n",
       "    .dataframe tbody tr th {\n",
       "        vertical-align: top;\n",
       "    }\n",
       "\n",
       "    .dataframe thead th {\n",
       "        text-align: right;\n",
       "    }\n",
       "</style>\n",
       "<table border=\"1\" class=\"dataframe\">\n",
       "  <thead>\n",
       "    <tr style=\"text-align: right;\">\n",
       "      <th></th>\n",
       "      <th>rid</th>\n",
       "      <th>date</th>\n",
       "      <th>text</th>\n",
       "    </tr>\n",
       "  </thead>\n",
       "  <tbody>\n",
       "    <tr>\n",
       "      <th>0</th>\n",
       "      <td>016B6D16-2BBA-4C05-A8E4-30F761C95813</td>\n",
       "      <td>2020-08-17</td>\n",
       "      <td>Diagnosen allgemein\\r\\n··Schubförmige Multiple...</td>\n",
       "    </tr>\n",
       "    <tr>\n",
       "      <th>1</th>\n",
       "      <td>08301EF0-1057-41AB-9911-772AE295E282</td>\n",
       "      <td>NaT</td>\n",
       "      <td>Schubförmige Multiple Sklerose, ED 2006\\r\\n··E...</td>\n",
       "    </tr>\n",
       "    <tr>\n",
       "      <th>2</th>\n",
       "      <td>086D33C8-DDD3-4DE2-BFE0-A945076A2335</td>\n",
       "      <td>NaT</td>\n",
       "      <td>Schubförmige Multiple Sklerose (EM 12/2009, ED...</td>\n",
       "    </tr>\n",
       "    <tr>\n",
       "      <th>3</th>\n",
       "      <td>088B7604-2F11-459A-8C8C-8E1A19943333</td>\n",
       "      <td>2015-10-30</td>\n",
       "      <td>Schubförmig-remittierende Multiple Sklerose, E...</td>\n",
       "    </tr>\n",
       "    <tr>\n",
       "      <th>4</th>\n",
       "      <td>08F1FA27-6213-47AF-B967-DC44CCCE9613</td>\n",
       "      <td>2016-03-09</td>\n",
       "      <td>Schubförmig remittierende Multiple Sklerose, E...</td>\n",
       "    </tr>\n",
       "  </tbody>\n",
       "</table>\n",
       "</div>"
      ],
      "text/plain": [
       "                                    rid       date  \\\n",
       "0  016B6D16-2BBA-4C05-A8E4-30F761C95813 2020-08-17   \n",
       "1  08301EF0-1057-41AB-9911-772AE295E282        NaT   \n",
       "2  086D33C8-DDD3-4DE2-BFE0-A945076A2335        NaT   \n",
       "3  088B7604-2F11-459A-8C8C-8E1A19943333 2015-10-30   \n",
       "4  08F1FA27-6213-47AF-B967-DC44CCCE9613 2016-03-09   \n",
       "\n",
       "                                                text  \n",
       "0  Diagnosen allgemein\\r\\n··Schubförmige Multiple...  \n",
       "1  Schubförmige Multiple Sklerose, ED 2006\\r\\n··E...  \n",
       "2  Schubförmige Multiple Sklerose (EM 12/2009, ED...  \n",
       "3  Schubförmig-remittierende Multiple Sklerose, E...  \n",
       "4  Schubförmig remittierende Multiple Sklerose, E...  "
      ]
     },
     "execution_count": 21,
     "metadata": {},
     "output_type": "execute_result"
    }
   ],
   "source": [
    "text_cleaned.head()"
   ]
  },
  {
   "cell_type": "markdown",
   "metadata": {},
   "source": [
    "## Joining Datasets\n",
    "\n",
    "We can join the datasets based on the rid. For rids with multiple entries we will use the date column to match them exactly. "
   ]
  },
  {
   "cell_type": "code",
   "execution_count": 23,
   "metadata": {},
   "outputs": [
    {
     "name": "stdout",
     "output_type": "stream",
     "text": [
      "Unique patient IDs in labels:  260\n",
      "Unique patient IDs in text:  275\n",
      "Overlap of rid between labels and text:  199\n",
      "Number of double labeled patients in both datasets:  0\n"
     ]
    }
   ],
   "source": [
    "# Overlap of rid between labels and text\n",
    "print(\"Unique patient IDs in labels: \", len(labels_cleaned['rid'].unique()))\n",
    "print(\"Unique patient IDs in text: \", len(text_cleaned['rid'].unique()))\n",
    "print(\"Overlap of rid between labels and text: \", len(set(labels_cleaned[\"rid\"]).intersection(set(text_cleaned[\"rid\"]))))\n",
    "\n",
    "# Double labels\n",
    "# Join labels and text on rid\n",
    "double_labeled = labels_cleaned[\"rid\"][labels_cleaned[\"rid\"].duplicated(keep=\"first\")]\n",
    "print(\"Number of double labeled patients in both datasets: \", len(set(double_labeled).intersection(set(text_cleaned[\"rid\"]))))"
   ]
  },
  {
   "cell_type": "code",
   "execution_count": 24,
   "metadata": {},
   "outputs": [],
   "source": [
    "# Join labels and text on rid\n",
    "df = pd.merge(labels_cleaned, text_cleaned, on=[\"rid\"], how=\"inner\").drop(columns=[\"date_y\", \"diagnosis_reliability\"]).rename(columns={\"date_x\": \"date\"})\n",
    "\n",
    "# Set dtype of all columns to string\n",
    "df = df.astype(str)"
   ]
  },
  {
   "cell_type": "code",
   "execution_count": 25,
   "metadata": {},
   "outputs": [
    {
     "name": "stdout",
     "output_type": "stream",
     "text": [
      "Summary of cleaned dataset: \n",
      "\n",
      "<class 'pandas.core.frame.DataFrame'>\n",
      "RangeIndex: 199 entries, 0 to 198\n",
      "Data columns (total 4 columns):\n",
      " #   Column  Non-Null Count  Dtype \n",
      "---  ------  --------------  ----- \n",
      " 0   rid     199 non-null    object\n",
      " 1   date    199 non-null    object\n",
      " 2   label   199 non-null    object\n",
      " 3   text    199 non-null    object\n",
      "dtypes: object(4)\n",
      "memory usage: 6.3+ KB\n",
      "None \n",
      "\n",
      "shape:  (199, 4) \n",
      "\n",
      "label distribution: \n",
      " label\n",
      "relapsing_remitting_multiple_sclerosis      173\n",
      "secondary_progressive_multiple_sclerosis     13\n",
      "primary_progressive_multiple_sclerosis       13\n",
      "Name: count, dtype: int64 \n",
      "\n",
      "missing: \n",
      " rid      0\n",
      "date     0\n",
      "label    0\n",
      "text     0\n",
      "dtype: int64 \n",
      "\n"
     ]
    }
   ],
   "source": [
    "# Summary of cleaned dataset\n",
    "print(\"Summary of cleaned dataset: \\n\")\n",
    "print(df.info(), \"\\n\")\n",
    "print(\"shape: \", df.shape, \"\\n\")\n",
    "print(\"label distribution: \\n\", df[\"label\"].value_counts(), \"\\n\")\n",
    "print(\"missing: \\n\", df.isna().sum(), \"\\n\")"
   ]
  },
  {
   "cell_type": "code",
   "execution_count": 27,
   "metadata": {},
   "outputs": [],
   "source": [
    "# Train test split\n",
    "train, test = train_test_split(df, test_size=0.2, random_state=42, stratify=df[\"label\"])\n",
    "train, val = train_test_split(train, test_size=0.1, random_state=42, stratify=train[\"label\"])\n",
    "\n",
    "# Save to csv\n",
    "train.to_csv(paths.DATA_PATH_PREPROCESSED/'ms-diag/ms-diag_clean_train.csv', index=False)\n",
    "val.to_csv(paths.DATA_PATH_PREPROCESSED/'ms-diag/ms-diag_clean_val.csv', index=False)\n",
    "test.to_csv(paths.DATA_PATH_PREPROCESSED/'ms-diag/ms-diag_clean_test.csv', index=False)"
   ]
  },
  {
   "cell_type": "code",
   "execution_count": null,
   "metadata": {},
   "outputs": [
    {
     "name": "stdout",
     "output_type": "stream",
     "text": [
      "Train label distribution: \n",
      " label\n",
      "relapsing_remitting_multiple_sclerosis      124\n",
      "secondary_progressive_multiple_sclerosis     10\n",
      "primary_progressive_multiple_sclerosis        9\n",
      "Name: count, dtype: int64 \n",
      "\n",
      "Val label distribution: \n",
      " label\n",
      "relapsing_remitting_multiple_sclerosis      14\n",
      "primary_progressive_multiple_sclerosis       1\n",
      "secondary_progressive_multiple_sclerosis     1\n",
      "Name: count, dtype: int64 \n",
      "\n",
      "Test label distribution: \n",
      " label\n",
      "relapsing_remitting_multiple_sclerosis      35\n",
      "primary_progressive_multiple_sclerosis       3\n",
      "secondary_progressive_multiple_sclerosis     2\n",
      "Name: count, dtype: int64 \n",
      "\n"
     ]
    }
   ],
   "source": [
    "print(\"Train label distribution: \\n\", train[\"label\"].value_counts(), \"\\n\")\n",
    "print(\"Val label distribution: \\n\", val[\"label\"].value_counts(), \"\\n\")\n",
    "print(\"Test label distribution: \\n\", test[\"label\"].value_counts(), \"\\n\")"
   ]
  }
 ],
 "metadata": {
  "kernelspec": {
   "display_name": "inf-extr",
   "language": "python",
   "name": "python3"
  },
  "language_info": {
   "codemirror_mode": {
    "name": "ipython",
    "version": 3
   },
   "file_extension": ".py",
   "mimetype": "text/x-python",
   "name": "python",
   "nbconvert_exporter": "python",
   "pygments_lexer": "ipython3",
   "version": "3.9.18"
  }
 },
 "nbformat": 4,
 "nbformat_minor": 2
}

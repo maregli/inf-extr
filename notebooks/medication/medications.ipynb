{
 "cells": [
  {
   "cell_type": "code",
   "execution_count": 1,
   "metadata": {},
   "outputs": [],
   "source": [
    "import sys\n",
    "import os\n",
    "sys.path.append(os.getcwd()+\"/../..\")\n",
    "from src import paths\n",
    "\n",
    "from pydantic import BaseModel, Field\n",
    "from enum import Enum, auto\n",
    "from src.utils import load_model_and_tokenizer, zero_shot_base, zero_shot_instruction, few_shot_base, few_shot_instruction\n",
    "\n",
    "from outlines import samplers\n",
    "import outlines\n",
    "\n",
    "import pandas as pd\n",
    "\n",
    "import json\n",
    "\n",
    "from datasets import Dataset"
   ]
  },
  {
   "cell_type": "code",
   "execution_count": 2,
   "metadata": {},
   "outputs": [],
   "source": [
    "# Load medication dict\n",
    "with open(paths.DATA_PATH_PREPROCESSED/\"medication/medication_dict.json\", \"r\") as f:\n",
    "    medication_dict = json.load(f)\n",
    "\n",
    "MedicationName = Enum(\"MedicationName\", [(key, value) for key, value in medication_dict.items()])\n",
    "\n",
    "class MedicationUnit(str, Enum):\n",
    "    mg = \"mg\"\n",
    "    ug = \"ug\"\n",
    "    g = \"g\"\n",
    "    unknown = \"unknown\"\n",
    "\n",
    "intake_amount = Field(pattern=r\"\\d+(\\.\\d{1,2})?\")\n",
    "\n",
    "class Medication(BaseModel):\n",
    "    name: MedicationName\n",
    "    unit: MedicationUnit\n",
    "    amount: float\n",
    "    morning: float\n",
    "    noon: float\n",
    "    evening: float\n",
    "    night: float\n",
    "\n",
    "class MedicationList(BaseModel):\n",
    "    medications: list[Medication]\n",
    "\n",
    "# Instantiate Medication\n",
    "medication1 = Medication(\n",
    "    name=\"Avonex\",\n",
    "    unit=\"mg\",\n",
    "    amount=100.0,\n",
    "    morning=-99,\n",
    "    noon=0.5,\n",
    "    evening=0,\n",
    "    night=1,\n",
    ")"
   ]
  },
  {
   "cell_type": "code",
   "execution_count": 3,
   "metadata": {},
   "outputs": [
    {
     "data": {
      "application/vnd.jupyter.widget-view+json": {
       "model_id": "cb503c37b1c94e5ea1524360f48c14d3",
       "version_major": 2,
       "version_minor": 0
      },
      "text/plain": [
       "Loading checkpoint shards:   0%|          | 0/3 [00:00<?, ?it/s]"
      ]
     },
     "metadata": {},
     "output_type": "display_data"
    }
   ],
   "source": [
    "model, tokenizer = load_model_and_tokenizer(\"Llama2-MedTuned-13b\",\n",
    "                                            task_type = \"outlines\",\n",
    "                                            quantization = \"4bit\",\n",
    "                                           )"
   ]
  },
  {
   "cell_type": "code",
   "execution_count": 16,
   "metadata": {},
   "outputs": [],
   "source": [
    "sampler = samplers.greedy()\n",
    "generator = outlines.generate.json(model, Medication, sampler = sampler)"
   ]
  },
  {
   "cell_type": "code",
   "execution_count": 3,
   "metadata": {},
   "outputs": [],
   "source": [
    "df = Dataset.load_from_disk(paths.DATA_PATH_PREPROCESSED/\"medication/kisim_medication\")"
   ]
  },
  {
   "cell_type": "code",
   "execution_count": 4,
   "metadata": {},
   "outputs": [],
   "source": [
    "with open(paths.DATA_PATH_PREPROCESSED/\"medication/task_instruction.txt\", \"r\") as f:\n",
    "    task_instruction = f.read()\n",
    "\n",
    "with open(paths.DATA_PATH_PREPROCESSED/\"medication/system_prompt.txt\", \"r\") as f:\n",
    "    system_prompt = f.read()\n",
    "                    \n",
    "# Outlines uses the default tokenize settings to encode, thus special tokens are added automatically and need not be added in the prompt.\n"
   ]
  },
  {
   "cell_type": "code",
   "execution_count": 18,
   "metadata": {},
   "outputs": [],
   "source": [
    "from typing import Callable, Union\n",
    "from outlines.generate import SequenceGenerator\n",
    "from outlines.samplers import Sampler\n",
    "from pydantic import BaseModel"
   ]
  },
  {
   "cell_type": "code",
   "execution_count": 23,
   "metadata": {},
   "outputs": [],
   "source": [
    "def format_prompt(text: list[str], format_fun: Callable[list[str], list[str]], *args, **kwargs) -> list[str]:\n",
    "    \"\"\"\n",
    "    Formats a list of texts using a given formatting function. Used for formatting text with a prompt template.\n",
    "\n",
    "    Args:\n",
    "        text (list[str]): list of strings to be formatted\n",
    "        format_fun (Callable[list[str], list[str]]): formatting function. Specify additional arguments using *args and **kwargs.\n",
    "\n",
    "    Returns:\n",
    "        list[str]: list of formatted strings\n",
    "    \"\"\"\n",
    "    return [format_fun(t, **kwargs) for t in text]\n",
    "\n",
    "def outlines_prompting(text: list[str], generator: SequenceGenerator, sampler: Sampler, batch_size: int = 4)-> list[Union[str, BaseModel]]:\n",
    "    \"\"\"\n",
    "    Generates a list of sequences using the given outlines generator and sampler.\n",
    "\n",
    "    Args:\n",
    "        text (list[str]): list of strings to be used as prompts\n",
    "        generator (outlines.SequenceGenerator): outlines generator\n",
    "        sampler (outlines.Sampler): outlines sampler\n",
    "        batch_size (int, optional): batch size. Defaults to 4.\n",
    "\n",
    "    Returns:\n",
    "        list[Union[str, pydantic.BaseModel]]: list of generated sequences\n",
    "    \"\"\"\n",
    "    dataloader = DataLoader(text, batch_size = batch_size, shuffle = False)\n",
    "\n",
    "    results = []\n",
    "\n",
    "    for batch in tqdm(dataloader):\n",
    "        answer = generator(batch)\n",
    "        results.extend(answer)\n",
    "\n",
    "    return results\n"
   ]
  },
  {
   "cell_type": "code",
   "execution_count": 30,
   "metadata": {},
   "outputs": [
    {
     "data": {
      "text/plain": [
       "['[INST]<<SYS>>You are a helpful, respectful and honest assistant. Always answer as helpfully as possible, while being safe.\\nYour answers should not include any harmful, unethical, racist, sexist, toxic, dangerous, or illegal content.\\nPlease ensure that your responses are socially unbiased and positive in nature.\\nIf a question does not makeany sense, or is not factually coherent, explain why instead of answering something not correct. \\nIf you don’t know the answer to a question, please don’t share false information.\\n<</SYS>>\\n\\n### Instruction:\\nYour task is to extract specific information from medication descriptions. \\nThe input for this task is a medication description, and the output should be the medication name, the dose, the dose unit, and the amount of intake doses over the day in JSON format.\\nThe JSON format should look like this:\\n{name: MedicationName, dose: MedicationDose, unit: MedicationDoseUnit, morning: MorningDose, noon: NoonDose, evening: EveningDose, night: NightDose}\\n- The MedicationName can consist of multiple words with whitespaces and should be returned as a single string. If the MedicationName is not detected or if there is no mentions of medications, it should be represented as \"unknown\". \"\\n- The MedicationDose should be in one of the following formats: mg, ug, g. If the MedicationDose is not detected, it should be represented as \"unknown\".\\n- The MedicationDoseUnit is a float value. If the MedicationDoseUnit is not detected, it should be represented as -99.\\n- The intake doses over the day can be given in two ways:\\n    - If the amount of doses is given in the format of float-float-float, it corresponds to MorningDose-NoonDose-EveningDose with NightDose being 0.\\n    - If it is given in the form float-float-float-float, it corresponds to MorningDose-NoonDose-EveningDose-NightDose.\\n    - If a schema like the two above is not detected, all doses should be represented as -99.\\n\\nHere is an example to help you understand the task:\\nInput:\\n1 OP Medrol 32 mg \\t1-0-0\\nOutput:\\n{name: \"Medrol\", unit: \"mg\", amount: 32, morning: 1, noon: 0, evening: 0, night: 0}\\n\\nPlease provide your answer for the following Input.\\n\\n### Input:\\n1 OP Medrol 32 mg \\t1-0-0\\n\\n### Output:\\n[/INST]',\n",
       " '[INST]<<SYS>>You are a helpful, respectful and honest assistant. Always answer as helpfully as possible, while being safe.\\nYour answers should not include any harmful, unethical, racist, sexist, toxic, dangerous, or illegal content.\\nPlease ensure that your responses are socially unbiased and positive in nature.\\nIf a question does not makeany sense, or is not factually coherent, explain why instead of answering something not correct. \\nIf you don’t know the answer to a question, please don’t share false information.\\n<</SYS>>\\n\\n### Instruction:\\nYour task is to extract specific information from medication descriptions. \\nThe input for this task is a medication description, and the output should be the medication name, the dose, the dose unit, and the amount of intake doses over the day in JSON format.\\nThe JSON format should look like this:\\n{name: MedicationName, dose: MedicationDose, unit: MedicationDoseUnit, morning: MorningDose, noon: NoonDose, evening: EveningDose, night: NightDose}\\n- The MedicationName can consist of multiple words with whitespaces and should be returned as a single string. If the MedicationName is not detected or if there is no mentions of medications, it should be represented as \"unknown\". \"\\n- The MedicationDose should be in one of the following formats: mg, ug, g. If the MedicationDose is not detected, it should be represented as \"unknown\".\\n- The MedicationDoseUnit is a float value. If the MedicationDoseUnit is not detected, it should be represented as -99.\\n- The intake doses over the day can be given in two ways:\\n    - If the amount of doses is given in the format of float-float-float, it corresponds to MorningDose-NoonDose-EveningDose with NightDose being 0.\\n    - If it is given in the form float-float-float-float, it corresponds to MorningDose-NoonDose-EveningDose-NightDose.\\n    - If a schema like the two above is not detected, all doses should be represented as -99.\\n\\nHere is an example to help you understand the task:\\nInput:\\n1 OP Medrol 32 mg \\t1-0-0\\nOutput:\\n{name: \"Medrol\", unit: \"mg\", amount: 32, morning: 1, noon: 0, evening: 0, night: 0}\\n\\nPlease provide your answer for the following Input.\\n\\n### Input:\\n2 OP Keppra 500 mg\\t3-0-3\\n\\n### Output:\\n[/INST]',\n",
       " '[INST]<<SYS>>You are a helpful, respectful and honest assistant. Always answer as helpfully as possible, while being safe.\\nYour answers should not include any harmful, unethical, racist, sexist, toxic, dangerous, or illegal content.\\nPlease ensure that your responses are socially unbiased and positive in nature.\\nIf a question does not makeany sense, or is not factually coherent, explain why instead of answering something not correct. \\nIf you don’t know the answer to a question, please don’t share false information.\\n<</SYS>>\\n\\n### Instruction:\\nYour task is to extract specific information from medication descriptions. \\nThe input for this task is a medication description, and the output should be the medication name, the dose, the dose unit, and the amount of intake doses over the day in JSON format.\\nThe JSON format should look like this:\\n{name: MedicationName, dose: MedicationDose, unit: MedicationDoseUnit, morning: MorningDose, noon: NoonDose, evening: EveningDose, night: NightDose}\\n- The MedicationName can consist of multiple words with whitespaces and should be returned as a single string. If the MedicationName is not detected or if there is no mentions of medications, it should be represented as \"unknown\". \"\\n- The MedicationDose should be in one of the following formats: mg, ug, g. If the MedicationDose is not detected, it should be represented as \"unknown\".\\n- The MedicationDoseUnit is a float value. If the MedicationDoseUnit is not detected, it should be represented as -99.\\n- The intake doses over the day can be given in two ways:\\n    - If the amount of doses is given in the format of float-float-float, it corresponds to MorningDose-NoonDose-EveningDose with NightDose being 0.\\n    - If it is given in the form float-float-float-float, it corresponds to MorningDose-NoonDose-EveningDose-NightDose.\\n    - If a schema like the two above is not detected, all doses should be represented as -99.\\n\\nHere is an example to help you understand the task:\\nInput:\\n1 OP Medrol 32 mg \\t1-0-0\\nOutput:\\n{name: \"Medrol\", unit: \"mg\", amount: 32, morning: 1, noon: 0, evening: 0, night: 0}\\n\\nPlease provide your answer for the following Input.\\n\\n### Input:\\n1 OP Urbanyl 10 mg \\t0-0-0.5 noch für eine Woche\\n\\n### Output:\\n[/INST]',\n",
       " '[INST]<<SYS>>You are a helpful, respectful and honest assistant. Always answer as helpfully as possible, while being safe.\\nYour answers should not include any harmful, unethical, racist, sexist, toxic, dangerous, or illegal content.\\nPlease ensure that your responses are socially unbiased and positive in nature.\\nIf a question does not makeany sense, or is not factually coherent, explain why instead of answering something not correct. \\nIf you don’t know the answer to a question, please don’t share false information.\\n<</SYS>>\\n\\n### Instruction:\\nYour task is to extract specific information from medication descriptions. \\nThe input for this task is a medication description, and the output should be the medication name, the dose, the dose unit, and the amount of intake doses over the day in JSON format.\\nThe JSON format should look like this:\\n{name: MedicationName, dose: MedicationDose, unit: MedicationDoseUnit, morning: MorningDose, noon: NoonDose, evening: EveningDose, night: NightDose}\\n- The MedicationName can consist of multiple words with whitespaces and should be returned as a single string. If the MedicationName is not detected or if there is no mentions of medications, it should be represented as \"unknown\". \"\\n- The MedicationDose should be in one of the following formats: mg, ug, g. If the MedicationDose is not detected, it should be represented as \"unknown\".\\n- The MedicationDoseUnit is a float value. If the MedicationDoseUnit is not detected, it should be represented as -99.\\n- The intake doses over the day can be given in two ways:\\n    - If the amount of doses is given in the format of float-float-float, it corresponds to MorningDose-NoonDose-EveningDose with NightDose being 0.\\n    - If it is given in the form float-float-float-float, it corresponds to MorningDose-NoonDose-EveningDose-NightDose.\\n    - If a schema like the two above is not detected, all doses should be represented as -99.\\n\\nHere is an example to help you understand the task:\\nInput:\\n1 OP Medrol 32 mg \\t1-0-0\\nOutput:\\n{name: \"Medrol\", unit: \"mg\", amount: 32, morning: 1, noon: 0, evening: 0, night: 0}\\n\\nPlease provide your answer for the following Input.\\n\\n### Input:\\n1 OP Rivotril 0.5 mg\\t1-1-0 noch für eine Woche, dann 1-1-1\\n\\n### Output:\\n[/INST]',\n",
       " '[INST]<<SYS>>You are a helpful, respectful and honest assistant. Always answer as helpfully as possible, while being safe.\\nYour answers should not include any harmful, unethical, racist, sexist, toxic, dangerous, or illegal content.\\nPlease ensure that your responses are socially unbiased and positive in nature.\\nIf a question does not makeany sense, or is not factually coherent, explain why instead of answering something not correct. \\nIf you don’t know the answer to a question, please don’t share false information.\\n<</SYS>>\\n\\n### Instruction:\\nYour task is to extract specific information from medication descriptions. \\nThe input for this task is a medication description, and the output should be the medication name, the dose, the dose unit, and the amount of intake doses over the day in JSON format.\\nThe JSON format should look like this:\\n{name: MedicationName, dose: MedicationDose, unit: MedicationDoseUnit, morning: MorningDose, noon: NoonDose, evening: EveningDose, night: NightDose}\\n- The MedicationName can consist of multiple words with whitespaces and should be returned as a single string. If the MedicationName is not detected or if there is no mentions of medications, it should be represented as \"unknown\". \"\\n- The MedicationDose should be in one of the following formats: mg, ug, g. If the MedicationDose is not detected, it should be represented as \"unknown\".\\n- The MedicationDoseUnit is a float value. If the MedicationDoseUnit is not detected, it should be represented as -99.\\n- The intake doses over the day can be given in two ways:\\n    - If the amount of doses is given in the format of float-float-float, it corresponds to MorningDose-NoonDose-EveningDose with NightDose being 0.\\n    - If it is given in the form float-float-float-float, it corresponds to MorningDose-NoonDose-EveningDose-NightDose.\\n    - If a schema like the two above is not detected, all doses should be represented as -99.\\n\\nHere is an example to help you understand the task:\\nInput:\\n1 OP Medrol 32 mg \\t1-0-0\\nOutput:\\n{name: \"Medrol\", unit: \"mg\", amount: 32, morning: 1, noon: 0, evening: 0, night: 0}\\n\\nPlease provide your answer for the following Input.\\n\\n### Input:\\n1 OP Propanolol 20 mg 1-0-1\\n\\n### Output:\\n[/INST]']"
      ]
     },
     "execution_count": 30,
     "metadata": {},
     "output_type": "execute_result"
    }
   ],
   "source": [
    "format_prompt(df[\"text\"][:5], few_shot_instruction, system_prompt=system_prompt, task_instruction=task_instruction, examples = examples)"
   ]
  },
  {
   "cell_type": "code",
   "execution_count": 20,
   "metadata": {},
   "outputs": [
    {
     "name": "stdout",
     "output_type": "stream",
     "text": [
      "[INST]<<SYS>>You are a helpful, respectful and honest assistant. Always answer as helpfully as possible, while being safe.\n",
      "Your answers should not include any harmful, unethical, racist, sexist, toxic, dangerous, or illegal content.\n",
      "Please ensure that your responses are socially unbiased and positive in nature.\n",
      "If a question does not makeany sense, or is not factually coherent, explain why instead of answering something not correct. \n",
      "If you don’t know the answer to a question, please don’t share false information.\n",
      "<</SYS>>\n",
      "\n",
      "### Instruction:\n",
      "Your task is to extract specific information from medication descriptions. \n",
      "The input for this task is a medication description, and the output should be the medication name, the dose, the dose unit, and the amount of intake doses over the day in JSON format.\n",
      "The JSON format should look like this:\n",
      "{name: MedicationName, dose: MedicationDose, unit: MedicationDoseUnit, morning: MorningDose, noon: NoonDose, evening: EveningDose, night: NightDose}\n",
      "- The MedicationName can consist of multiple words with whitespaces and should be returned as a single string. If the MedicationName is not detected or if there is no mentions of medications, it should be represented as \"unknown\". \"\n",
      "- The MedicationDose should be in one of the following formats: mg, ug, g. If the MedicationDose is not detected, it should be represented as \"unknown\".\n",
      "- The MedicationDoseUnit is a float value. If the MedicationDoseUnit is not detected, it should be represented as -99.\n",
      "- The intake doses over the day can be given in two ways:\n",
      "    - If the amount of doses is given in the format of float-float-float, it corresponds to MorningDose-NoonDose-EveningDose with NightDose being 0.\n",
      "    - If it is given in the form float-float-float-float, it corresponds to MorningDose-NoonDose-EveningDose-NightDose.\n",
      "    - If a schema like the two above is not detected, all doses should be represented as -99.\n",
      "\n",
      "Here is an example to help you understand the task:\n",
      "Input:\n",
      "1 OP Medrol 32 mg \t1-0-0\n",
      "Output:\n",
      "{name: \"Medrol\", unit: \"mg\", amount: 32, morning: 1, noon: 0, evening: 0, night: 0}\n",
      "\n",
      "Please provide your answer for the following Input.\n",
      "\n",
      "### Input:\n",
      "1 OP Medrol 32 mg \t1-0-0\n",
      "\n",
      "### Output:\n",
      "[/INST]\n"
     ]
    }
   ],
   "source": [
    "examples = [{\"text\": df[\"text\"][0], \"labels\" : '{name: \"Medrol\", unit: \"mg\", amount: 32, morning: 1, noon: 0, evening: 0, night: 0}'}]\n",
    "print(few_shot_instruction(df[\"text\"][0], system_prompt, task_instruction, examples))"
   ]
  }
 ],
 "metadata": {
  "kernelspec": {
   "display_name": "Python 3 (ipykernel)",
   "language": "python",
   "name": "python3"
  },
  "language_info": {
   "codemirror_mode": {
    "name": "ipython",
    "version": 3
   },
   "file_extension": ".py",
   "mimetype": "text/x-python",
   "name": "python",
   "nbconvert_exporter": "python",
   "pygments_lexer": "ipython3",
   "version": "3.10.12"
  }
 },
 "nbformat": 4,
 "nbformat_minor": 4
}

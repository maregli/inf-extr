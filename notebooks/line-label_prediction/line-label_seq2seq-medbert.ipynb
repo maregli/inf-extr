{
 "cells": [
  {
   "cell_type": "code",
   "execution_count": 1,
   "metadata": {},
   "outputs": [],
   "source": [
    "from transformers import AutoTokenizer, AutoModelForTokenClassification\n",
    "from datasets import DatasetDict, Dataset\n",
    "import torch\n",
    "from torch.utils.data import DataLoader, Dataset\n",
    "from torch.optim import Adam\n",
    "import os\n",
    "import sys\n",
    "sys.path.append(os.getcwd()+\"/../..\")\n",
    "from src import paths\n",
    "import tqdm\n",
    "import json"
   ]
  },
  {
   "cell_type": "markdown",
   "metadata": {},
   "source": [
    "# Line Labelling Seq2Seq\n",
    "\n",
    "To exploit the sequential structure of line labels, I will build a NER model on top of the embedded sentences. It will basically be a token level classification but each token represents a line in the report."
   ]
  },
  {
   "cell_type": "code",
   "execution_count": 2,
   "metadata": {},
   "outputs": [],
   "source": [
    "# Load dataset\n",
    "dataset = DatasetDict.load_from_disk(paths.DATA_PATH_PREPROCESSED/'line_labelling/line_labelling_clean_dataset')\n",
    "\n",
    "# Num Labels\n",
    "num_labels = len(set(dataset['train']['class_agg']))\n",
    "\n",
    "# train output of previous model\n",
    "train_data = torch.load(paths.RESULTS_PATH/'line_labelling/medBERT-finetuned-train_output.pt')\n",
    "val_data = torch.load(paths.RESULTS_PATH/'line_labelling/medBERT-finetuned-val_output.pt')\n",
    "test_data = torch.load(paths.RESULTS_PATH/'line_labelling/medBERT-finetuned-test_output.pt')"
   ]
  },
  {
   "cell_type": "code",
   "execution_count": 3,
   "metadata": {},
   "outputs": [],
   "source": [
    "# Preprocess data for token classification\n",
    "def get_rid_dict(dataset, split:str = \"train\"):\n",
    "    \"\"\"\n",
    "    Returns a dictionary containing the rids of the reports as keys and the corresponding index in the dataset as values.\n",
    "\n",
    "    Args:\n",
    "        dataset (datasets.DatasetDict): DatasetDict containing the train, validation and test datasets.\n",
    "        split (str, optional): Split of the data. Defaults to \"train\".\n",
    "\n",
    "    Returns:\n",
    "        dict: Dictionary containing the rids of the reports as keys and the corresponding index in the dataset as values.\n",
    "    \"\"\"\n",
    "    rids = dataset[split]['rid']\n",
    "    rids_index = {}\n",
    "    for i, rid in enumerate(rids):\n",
    "        if rid not in rids_index:\n",
    "            rids_index[rid] = [i]\n",
    "        else:\n",
    "            rids_index[rid].append(i)\n",
    "    return rids_index\n",
    "\n",
    "def preprocess_data(data:dict, rid_dict:dict, model: torch.nn.Module, tokenizer):\n",
    "    \"\"\"\n",
    "    Preprocesses data for token classification.\n",
    "\n",
    "    Args:\n",
    "        data (dict of torch.Tensor): Embeddings of the reports. Contains ['embeddings', 'logits', 'labels'] in torch.Tensor format.\n",
    "        rid_dict (dict): Dictionary containing the rids of the reports as keys and the corresponding index in the dataset as values. Used to group text lines.      \n",
    "        model: Model used for token classification. Contains pretrained model and tokenizer.\n",
    "        tokenizer (transformers.PreTrainedTokenizer): Tokenizer used for token classification.\n",
    "    \"\"\"\n",
    "\n",
    "    # Hidden dimension of the model\n",
    "    hidden_dim = model.config.hidden_size\n",
    "    assert hidden_dim == data[\"embeddings\"].shape[2], \"Hidden dimension of the model and the embeddings do not match.\"\n",
    "\n",
    "    # CLS and SEP token embeddings\n",
    "    cls_embeds = model.get_input_embeddings()(torch.tensor([tokenizer.cls_token_id], device=\"cuda\")).to(\"cpu\")\n",
    "    sep_embeds = model.get_input_embeddings()(torch.tensor([tokenizer.sep_token_id], device=\"cuda\")).to(\"cpu\")\n",
    "\n",
    "    # Extracting embeddings for each report and concatenating them\n",
    "    data_dict = {}\n",
    "\n",
    "    # Need to pad input_embeddings to have the same number of sentences for each report\n",
    "    # Longest report + 2 (CLS and SEP)\n",
    "    max_sentences = max([len(rid_dict[rid]) for rid in rid_dict.keys()]) + 2\n",
    "    print(\"Max sentences: \", max_sentences)\n",
    "\n",
    "    for idx, rid in enumerate(rid_dict.keys()):\n",
    "        data_dict[idx] = {}\n",
    "\n",
    "        # Embeddings (note: by indexing we already get a tensor of shape (num_sentences, hidden_dim) with num_sentences the number of sentences in the report))\n",
    "        data_dict[idx][\"embeddings\"] = data[\"embeddings\"][rid_dict[rid], 0, :]\n",
    "\n",
    "        # Append CLS and SEP embeddings at the beginning and at the end\n",
    "        data_dict[idx][\"embeddings\"] = torch.cat((cls_embeds, data_dict[idx][\"embeddings\"], sep_embeds), dim=0)\n",
    "\n",
    "        # Pad to max_sentences\n",
    "        data_dict[idx][\"embeddings\"] = torch.nn.functional.pad(data_dict[idx][\"embeddings\"], (0, 0, 0, max_sentences - data_dict[idx][\"embeddings\"].shape[0]), \"constant\", 0)\n",
    "        \n",
    "        # NER Tag with padding\n",
    "        data_dict[idx][\"ner_tag\"] = [torch.argmax(label, dim = 0).item() for label in data[\"labels\"][rid_dict[rid]]]\n",
    "        data_dict[idx][\"ner_tag\"] = [-100] + data_dict[idx][\"ner_tag\"] + [-100] + [-100]*(max_sentences - len(data_dict[idx][\"ner_tag\"]) - 2)\n",
    "        data_dict[idx][\"ner_tag\"] = torch.LongTensor(data_dict[idx][\"ner_tag\"])\n",
    "\n",
    "        # Attention mask\n",
    "        data_dict[idx][\"attention_mask\"] = torch.ones(max_sentences)\n",
    "        data_dict[idx][\"attention_mask\"][data_dict[idx][\"ner_tag\"] == -100] = 0\n",
    "\n",
    "        # Token type ids\n",
    "        data_dict[idx][\"token_type_ids\"] = torch.zeros(max_sentences, dtype=torch.long)\n",
    "\n",
    "        # Clone and detach all tensors\n",
    "        for key in data_dict[idx].keys():\n",
    "            data_dict[idx][key] = data_dict[idx][key].clone().detach()\n",
    "\n",
    "    return data_dict"
   ]
  },
  {
   "cell_type": "code",
   "execution_count": 4,
   "metadata": {},
   "outputs": [
    {
     "data": {
      "text/plain": [
       "BertForTokenClassification(\n",
       "  (bert): BertModel(\n",
       "    (embeddings): BertEmbeddings(\n",
       "      (word_embeddings): Embedding(30000, 768, padding_idx=0)\n",
       "      (position_embeddings): Embedding(512, 768)\n",
       "      (token_type_embeddings): Embedding(2, 768)\n",
       "      (LayerNorm): LayerNorm((768,), eps=1e-12, elementwise_affine=True)\n",
       "      (dropout): Dropout(p=0.1, inplace=False)\n",
       "    )\n",
       "    (encoder): BertEncoder(\n",
       "      (layer): ModuleList(\n",
       "        (0-11): 12 x BertLayer(\n",
       "          (attention): BertAttention(\n",
       "            (self): BertSelfAttention(\n",
       "              (query): Linear(in_features=768, out_features=768, bias=True)\n",
       "              (key): Linear(in_features=768, out_features=768, bias=True)\n",
       "              (value): Linear(in_features=768, out_features=768, bias=True)\n",
       "              (dropout): Dropout(p=0.1, inplace=False)\n",
       "            )\n",
       "            (output): BertSelfOutput(\n",
       "              (dense): Linear(in_features=768, out_features=768, bias=True)\n",
       "              (LayerNorm): LayerNorm((768,), eps=1e-12, elementwise_affine=True)\n",
       "              (dropout): Dropout(p=0.1, inplace=False)\n",
       "            )\n",
       "          )\n",
       "          (intermediate): BertIntermediate(\n",
       "            (dense): Linear(in_features=768, out_features=3072, bias=True)\n",
       "            (intermediate_act_fn): GELUActivation()\n",
       "          )\n",
       "          (output): BertOutput(\n",
       "            (dense): Linear(in_features=3072, out_features=768, bias=True)\n",
       "            (LayerNorm): LayerNorm((768,), eps=1e-12, elementwise_affine=True)\n",
       "            (dropout): Dropout(p=0.1, inplace=False)\n",
       "          )\n",
       "        )\n",
       "      )\n",
       "    )\n",
       "  )\n",
       "  (dropout): Dropout(p=0.1, inplace=False)\n",
       "  (classifier): Linear(in_features=768, out_features=8, bias=True)\n",
       ")"
      ]
     },
     "execution_count": 4,
     "metadata": {},
     "output_type": "execute_result"
    }
   ],
   "source": [
    "# Model and tokenizer\n",
    "model = AutoModelForTokenClassification.from_pretrained(paths.MODEL_PATH/'medbert-diag-label')\n",
    "tokenizer = AutoTokenizer.from_pretrained(paths.MODEL_PATH/'medbert-512')\n",
    "\n",
    "# Device\n",
    "device = torch.device('cuda') if torch.cuda.is_available() else torch.device('cpu')\n",
    "\n",
    "model.to(device)"
   ]
  },
  {
   "cell_type": "code",
   "execution_count": 5,
   "metadata": {},
   "outputs": [
    {
     "name": "stdout",
     "output_type": "stream",
     "text": [
      "Max sentences:  59\n",
      "Max sentences:  37\n",
      "Max sentences:  43\n"
     ]
    }
   ],
   "source": [
    "# Get rid_dict\n",
    "train_rid_dict = get_rid_dict(dataset, split=\"train\")\n",
    "val_rid_dict = get_rid_dict(dataset, split=\"val\")\n",
    "test_rid_dict = get_rid_dict(dataset, split=\"test\")\n",
    "\n",
    "# Preprocess data\n",
    "train_data_dict = preprocess_data(train_data, train_rid_dict, model, tokenizer)\n",
    "val_data_dict = preprocess_data(val_data, val_rid_dict, model, tokenizer)\n",
    "test_data_dict = preprocess_data(test_data, test_rid_dict, model, tokenizer)"
   ]
  },
  {
   "cell_type": "code",
   "execution_count": 6,
   "metadata": {},
   "outputs": [],
   "source": [
    "# Create dataset\n",
    "class TokenLineLabelDataSet(Dataset):\n",
    "    def __init__(self, data):\n",
    "        self.data = data\n",
    "\n",
    "    def __len__(self):\n",
    "        return len(self.data.keys())\n",
    "\n",
    "    def __getitem__(self, idx):\n",
    "        return self.data[idx]\n",
    "\n",
    "# Training, validation and test dataset\n",
    "train_dataset = TokenLineLabelDataSet(train_data_dict)\n",
    "val_dataset = TokenLineLabelDataSet(val_data_dict)\n",
    "test_dataset = TokenLineLabelDataSet(test_data_dict)\n",
    "\n",
    "# Dataloader\n",
    "train_dataloader = DataLoader(train_dataset, batch_size=8, shuffle=True)\n",
    "val_dataloader = DataLoader(val_dataset, batch_size=8, shuffle=False)\n",
    "test_dataloader = DataLoader(test_dataset, batch_size=8, shuffle=False)\n",
    "\n",
    "# Training Arguments\n",
    "batch_size = 8\n",
    "learning_rate = 5e-6\n",
    "epochs = 32\n",
    "weight_decay = 0.01\n",
    "optimizer = Adam(model.parameters(), lr=learning_rate, weight_decay=weight_decay)"
   ]
  },
  {
   "cell_type": "code",
   "execution_count": 14,
   "metadata": {},
   "outputs": [
    {
     "name": "stdout",
     "output_type": "stream",
     "text": [
      "Epoch:  0\n"
     ]
    },
    {
     "name": "stderr",
     "output_type": "stream",
     "text": [
      "  0%|          | 0/6 [00:00<?, ?it/s]"
     ]
    },
    {
     "name": "stderr",
     "output_type": "stream",
     "text": [
      "100%|██████████| 6/6 [00:01<00:00,  4.21it/s]\n",
      "100%|██████████| 2/2 [00:00<00:00,  8.90it/s]\n"
     ]
    },
    {
     "name": "stdout",
     "output_type": "stream",
     "text": [
      "Epochs: 1 | Loss: 1.997 | Accuracy: 0.219 | Val_Loss: 1.843 | Accuracy: 0.384\n",
      "Epoch:  1\n"
     ]
    },
    {
     "name": "stderr",
     "output_type": "stream",
     "text": [
      "100%|██████████| 6/6 [00:01<00:00,  5.65it/s]\n",
      "100%|██████████| 2/2 [00:00<00:00, 13.15it/s]\n"
     ]
    },
    {
     "name": "stdout",
     "output_type": "stream",
     "text": [
      "Epochs: 2 | Loss: 1.701 | Accuracy: 0.440 | Val_Loss: 1.544 | Accuracy: 0.551\n",
      "Epoch:  2\n"
     ]
    },
    {
     "name": "stderr",
     "output_type": "stream",
     "text": [
      "100%|██████████| 6/6 [00:01<00:00,  5.54it/s]\n",
      "100%|██████████| 2/2 [00:00<00:00, 12.51it/s]\n"
     ]
    },
    {
     "name": "stdout",
     "output_type": "stream",
     "text": [
      "Epochs: 3 | Loss: 1.378 | Accuracy: 0.678 | Val_Loss: 1.266 | Accuracy: 0.727\n",
      "Epoch:  3\n"
     ]
    },
    {
     "name": "stderr",
     "output_type": "stream",
     "text": [
      "100%|██████████| 6/6 [00:01<00:00,  5.61it/s]\n",
      "100%|██████████| 2/2 [00:00<00:00, 10.66it/s]\n"
     ]
    },
    {
     "name": "stdout",
     "output_type": "stream",
     "text": [
      "Epochs: 4 | Loss: 1.084 | Accuracy: 0.784 | Val_Loss: 1.082 | Accuracy: 0.743\n",
      "Epoch:  4\n"
     ]
    },
    {
     "name": "stderr",
     "output_type": "stream",
     "text": [
      "100%|██████████| 6/6 [00:01<00:00,  5.49it/s]\n",
      "100%|██████████| 2/2 [00:00<00:00, 13.14it/s]\n"
     ]
    },
    {
     "name": "stdout",
     "output_type": "stream",
     "text": [
      "Epochs: 5 | Loss: 0.820 | Accuracy: 0.837 | Val_Loss: 0.968 | Accuracy: 0.774\n",
      "Epoch:  5\n"
     ]
    },
    {
     "name": "stderr",
     "output_type": "stream",
     "text": [
      "100%|██████████| 6/6 [00:01<00:00,  5.42it/s]\n",
      "100%|██████████| 2/2 [00:00<00:00, 13.92it/s]\n"
     ]
    },
    {
     "name": "stdout",
     "output_type": "stream",
     "text": [
      "Epochs: 6 | Loss: 0.650 | Accuracy: 0.881 | Val_Loss: 0.906 | Accuracy: 0.782\n",
      "Epoch:  6\n"
     ]
    },
    {
     "name": "stderr",
     "output_type": "stream",
     "text": [
      "100%|██████████| 6/6 [00:01<00:00,  5.55it/s]\n",
      "100%|██████████| 2/2 [00:00<00:00, 13.35it/s]\n"
     ]
    },
    {
     "name": "stdout",
     "output_type": "stream",
     "text": [
      "Epochs: 7 | Loss: 0.525 | Accuracy: 0.910 | Val_Loss: 0.893 | Accuracy: 0.790\n",
      "Epoch:  7\n"
     ]
    },
    {
     "name": "stderr",
     "output_type": "stream",
     "text": [
      "100%|██████████| 6/6 [00:01<00:00,  5.62it/s]\n",
      "100%|██████████| 2/2 [00:00<00:00, 11.19it/s]\n"
     ]
    },
    {
     "name": "stdout",
     "output_type": "stream",
     "text": [
      "Epochs: 8 | Loss: 0.426 | Accuracy: 0.935 | Val_Loss: 0.892 | Accuracy: 0.811\n",
      "Epoch:  8\n"
     ]
    },
    {
     "name": "stderr",
     "output_type": "stream",
     "text": [
      "100%|██████████| 6/6 [00:01<00:00,  5.55it/s]\n",
      "100%|██████████| 2/2 [00:00<00:00, 14.91it/s]\n"
     ]
    },
    {
     "name": "stdout",
     "output_type": "stream",
     "text": [
      "Epochs: 9 | Loss: 0.350 | Accuracy: 0.947 | Val_Loss: 0.883 | Accuracy: 0.811\n",
      "Epoch:  9\n"
     ]
    },
    {
     "name": "stderr",
     "output_type": "stream",
     "text": [
      "100%|██████████| 6/6 [00:01<00:00,  5.67it/s]\n",
      "100%|██████████| 2/2 [00:00<00:00, 10.63it/s]\n"
     ]
    },
    {
     "name": "stdout",
     "output_type": "stream",
     "text": [
      "Epochs: 10 | Loss: 0.306 | Accuracy: 0.945 | Val_Loss: 0.859 | Accuracy: 0.811\n",
      "Epoch:  10\n"
     ]
    },
    {
     "name": "stderr",
     "output_type": "stream",
     "text": [
      "100%|██████████| 6/6 [00:01<00:00,  5.55it/s]\n",
      "100%|██████████| 2/2 [00:00<00:00, 14.47it/s]\n"
     ]
    },
    {
     "name": "stdout",
     "output_type": "stream",
     "text": [
      "Epochs: 11 | Loss: 0.266 | Accuracy: 0.961 | Val_Loss: 0.873 | Accuracy: 0.811\n",
      "Epoch:  11\n"
     ]
    },
    {
     "name": "stderr",
     "output_type": "stream",
     "text": [
      "100%|██████████| 6/6 [00:01<00:00,  5.60it/s]\n",
      "100%|██████████| 2/2 [00:00<00:00, 11.43it/s]\n"
     ]
    },
    {
     "name": "stdout",
     "output_type": "stream",
     "text": [
      "Epochs: 12 | Loss: 0.239 | Accuracy: 0.959 | Val_Loss: 0.899 | Accuracy: 0.811\n",
      "Epoch:  12\n"
     ]
    },
    {
     "name": "stderr",
     "output_type": "stream",
     "text": [
      "100%|██████████| 6/6 [00:01<00:00,  5.48it/s]\n",
      "100%|██████████| 2/2 [00:00<00:00, 14.11it/s]\n"
     ]
    },
    {
     "name": "stdout",
     "output_type": "stream",
     "text": [
      "Epochs: 13 | Loss: 0.210 | Accuracy: 0.963 | Val_Loss: 0.902 | Accuracy: 0.811\n",
      "Epoch:  13\n"
     ]
    },
    {
     "name": "stderr",
     "output_type": "stream",
     "text": [
      "100%|██████████| 6/6 [00:01<00:00,  5.47it/s]\n",
      "100%|██████████| 2/2 [00:00<00:00, 14.51it/s]\n"
     ]
    },
    {
     "name": "stdout",
     "output_type": "stream",
     "text": [
      "Epochs: 14 | Loss: 0.183 | Accuracy: 0.970 | Val_Loss: 0.905 | Accuracy: 0.811\n",
      "Epoch:  14\n"
     ]
    },
    {
     "name": "stderr",
     "output_type": "stream",
     "text": [
      "100%|██████████| 6/6 [00:01<00:00,  5.44it/s]\n",
      "100%|██████████| 2/2 [00:00<00:00, 14.44it/s]\n"
     ]
    },
    {
     "name": "stdout",
     "output_type": "stream",
     "text": [
      "Epochs: 15 | Loss: 0.182 | Accuracy: 0.963 | Val_Loss: 0.916 | Accuracy: 0.811\n",
      "Epoch:  15\n"
     ]
    },
    {
     "name": "stderr",
     "output_type": "stream",
     "text": [
      "100%|██████████| 6/6 [00:01<00:00,  5.43it/s]\n",
      "100%|██████████| 2/2 [00:00<00:00, 12.06it/s]\n"
     ]
    },
    {
     "name": "stdout",
     "output_type": "stream",
     "text": [
      "Epochs: 16 | Loss: 0.175 | Accuracy: 0.965 | Val_Loss: 0.927 | Accuracy: 0.811\n",
      "Epoch:  16\n"
     ]
    },
    {
     "name": "stderr",
     "output_type": "stream",
     "text": [
      "100%|██████████| 6/6 [00:01<00:00,  5.47it/s]\n",
      "100%|██████████| 2/2 [00:00<00:00, 12.76it/s]\n"
     ]
    },
    {
     "name": "stdout",
     "output_type": "stream",
     "text": [
      "Epochs: 17 | Loss: 0.165 | Accuracy: 0.965 | Val_Loss: 0.948 | Accuracy: 0.811\n",
      "Epoch:  17\n"
     ]
    },
    {
     "name": "stderr",
     "output_type": "stream",
     "text": [
      "100%|██████████| 6/6 [00:01<00:00,  5.36it/s]\n",
      "100%|██████████| 2/2 [00:00<00:00, 11.77it/s]\n"
     ]
    },
    {
     "name": "stdout",
     "output_type": "stream",
     "text": [
      "Epochs: 18 | Loss: 0.155 | Accuracy: 0.972 | Val_Loss: 0.948 | Accuracy: 0.811\n",
      "Epoch:  18\n"
     ]
    },
    {
     "name": "stderr",
     "output_type": "stream",
     "text": [
      "100%|██████████| 6/6 [00:01<00:00,  5.49it/s]\n",
      "100%|██████████| 2/2 [00:00<00:00, 13.18it/s]\n"
     ]
    },
    {
     "name": "stdout",
     "output_type": "stream",
     "text": [
      "Epochs: 19 | Loss: 0.141 | Accuracy: 0.974 | Val_Loss: 0.941 | Accuracy: 0.809\n",
      "Epoch:  19\n"
     ]
    },
    {
     "name": "stderr",
     "output_type": "stream",
     "text": [
      "100%|██████████| 6/6 [00:01<00:00,  5.41it/s]\n",
      "100%|██████████| 2/2 [00:00<00:00, 12.39it/s]\n"
     ]
    },
    {
     "name": "stdout",
     "output_type": "stream",
     "text": [
      "Epochs: 20 | Loss: 0.136 | Accuracy: 0.973 | Val_Loss: 0.947 | Accuracy: 0.809\n",
      "Epoch:  20\n"
     ]
    },
    {
     "name": "stderr",
     "output_type": "stream",
     "text": [
      "100%|██████████| 6/6 [00:01<00:00,  5.54it/s]\n",
      "100%|██████████| 2/2 [00:00<00:00, 10.23it/s]\n"
     ]
    },
    {
     "name": "stdout",
     "output_type": "stream",
     "text": [
      "Epochs: 21 | Loss: 0.126 | Accuracy: 0.977 | Val_Loss: 0.977 | Accuracy: 0.809\n",
      "Epoch:  21\n"
     ]
    },
    {
     "name": "stderr",
     "output_type": "stream",
     "text": [
      "100%|██████████| 6/6 [00:01<00:00,  5.42it/s]\n",
      "100%|██████████| 2/2 [00:00<00:00, 10.46it/s]\n"
     ]
    },
    {
     "name": "stdout",
     "output_type": "stream",
     "text": [
      "Epochs: 22 | Loss: 0.122 | Accuracy: 0.976 | Val_Loss: 1.005 | Accuracy: 0.809\n",
      "Epoch:  22\n"
     ]
    },
    {
     "name": "stderr",
     "output_type": "stream",
     "text": [
      "100%|██████████| 6/6 [00:01<00:00,  5.37it/s]\n",
      "100%|██████████| 2/2 [00:00<00:00, 13.04it/s]\n"
     ]
    },
    {
     "name": "stdout",
     "output_type": "stream",
     "text": [
      "Epochs: 23 | Loss: 0.119 | Accuracy: 0.976 | Val_Loss: 0.999 | Accuracy: 0.809\n",
      "Epoch:  23\n"
     ]
    },
    {
     "name": "stderr",
     "output_type": "stream",
     "text": [
      "100%|██████████| 6/6 [00:01<00:00,  5.50it/s]\n",
      "100%|██████████| 2/2 [00:00<00:00, 13.74it/s]\n"
     ]
    },
    {
     "name": "stdout",
     "output_type": "stream",
     "text": [
      "Epochs: 24 | Loss: 0.115 | Accuracy: 0.976 | Val_Loss: 1.021 | Accuracy: 0.811\n",
      "Epoch:  24\n"
     ]
    },
    {
     "name": "stderr",
     "output_type": "stream",
     "text": [
      "100%|██████████| 6/6 [00:01<00:00,  5.51it/s]\n",
      "100%|██████████| 2/2 [00:00<00:00,  9.76it/s]\n"
     ]
    },
    {
     "name": "stdout",
     "output_type": "stream",
     "text": [
      "Epochs: 25 | Loss: 0.112 | Accuracy: 0.980 | Val_Loss: 1.016 | Accuracy: 0.814\n",
      "Epoch:  25\n"
     ]
    },
    {
     "name": "stderr",
     "output_type": "stream",
     "text": [
      "100%|██████████| 6/6 [00:01<00:00,  5.37it/s]\n",
      "100%|██████████| 2/2 [00:00<00:00, 11.42it/s]\n"
     ]
    },
    {
     "name": "stdout",
     "output_type": "stream",
     "text": [
      "Epochs: 26 | Loss: 0.103 | Accuracy: 0.977 | Val_Loss: 1.019 | Accuracy: 0.814\n",
      "Epoch:  26\n"
     ]
    },
    {
     "name": "stderr",
     "output_type": "stream",
     "text": [
      "100%|██████████| 6/6 [00:01<00:00,  5.50it/s]\n",
      "100%|██████████| 2/2 [00:00<00:00, 10.62it/s]\n"
     ]
    },
    {
     "name": "stdout",
     "output_type": "stream",
     "text": [
      "Epochs: 27 | Loss: 0.104 | Accuracy: 0.981 | Val_Loss: 1.032 | Accuracy: 0.814\n",
      "Epoch:  27\n"
     ]
    },
    {
     "name": "stderr",
     "output_type": "stream",
     "text": [
      "100%|██████████| 6/6 [00:01<00:00,  5.40it/s]\n",
      "100%|██████████| 2/2 [00:00<00:00, 10.56it/s]\n"
     ]
    },
    {
     "name": "stdout",
     "output_type": "stream",
     "text": [
      "Epochs: 28 | Loss: 0.094 | Accuracy: 0.981 | Val_Loss: 1.028 | Accuracy: 0.814\n",
      "Epoch:  28\n"
     ]
    },
    {
     "name": "stderr",
     "output_type": "stream",
     "text": [
      "100%|██████████| 6/6 [00:01<00:00,  5.50it/s]\n",
      "100%|██████████| 2/2 [00:00<00:00, 12.25it/s]\n"
     ]
    },
    {
     "name": "stdout",
     "output_type": "stream",
     "text": [
      "Epochs: 29 | Loss: 0.091 | Accuracy: 0.981 | Val_Loss: 1.039 | Accuracy: 0.814\n",
      "Epoch:  29\n"
     ]
    },
    {
     "name": "stderr",
     "output_type": "stream",
     "text": [
      "100%|██████████| 6/6 [00:01<00:00,  5.39it/s]\n",
      "100%|██████████| 2/2 [00:00<00:00, 11.68it/s]\n"
     ]
    },
    {
     "name": "stdout",
     "output_type": "stream",
     "text": [
      "Epochs: 30 | Loss: 0.105 | Accuracy: 0.974 | Val_Loss: 1.040 | Accuracy: 0.811\n",
      "Epoch:  30\n"
     ]
    },
    {
     "name": "stderr",
     "output_type": "stream",
     "text": [
      "100%|██████████| 6/6 [00:01<00:00,  5.18it/s]\n",
      "100%|██████████| 2/2 [00:00<00:00, 13.45it/s]\n"
     ]
    },
    {
     "name": "stdout",
     "output_type": "stream",
     "text": [
      "Epochs: 31 | Loss: 0.095 | Accuracy: 0.981 | Val_Loss: 1.026 | Accuracy: 0.811\n",
      "Epoch:  31\n"
     ]
    },
    {
     "name": "stderr",
     "output_type": "stream",
     "text": [
      "100%|██████████| 6/6 [00:01<00:00,  5.48it/s]\n",
      "100%|██████████| 2/2 [00:00<00:00, 11.52it/s]"
     ]
    },
    {
     "name": "stdout",
     "output_type": "stream",
     "text": [
      "Epochs: 32 | Loss: 0.097 | Accuracy: 0.979 | Val_Loss: 1.020 | Accuracy: 0.811\n"
     ]
    },
    {
     "name": "stderr",
     "output_type": "stream",
     "text": [
      "\n"
     ]
    }
   ],
   "source": [
    "# Training\n",
    "# Seed\n",
    "torch.manual_seed(42)\n",
    "\n",
    "for epoch in range(epochs):\n",
    "\n",
    "    # Training Loop\n",
    "    print(\"Epoch: \", epoch)\n",
    "    total_acc_train = 0\n",
    "    total_loss_train = 0\n",
    "    model.train()\n",
    "\n",
    "    # Best accuracy and loss for best model\n",
    "    best_acc = 0\n",
    "    best_loss = 1000\n",
    "\n",
    "    # Batch loop\n",
    "    for batch in tqdm.tqdm(train_dataloader):\n",
    "        optimizer.zero_grad()\n",
    "        inputs_embeds = batch[\"embeddings\"].to(device)\n",
    "        attention_mask = batch[\"attention_mask\"].to(device)\n",
    "        token_type_ids = batch[\"token_type_ids\"].to(device)\n",
    "        labels = batch[\"ner_tag\"].to(device)\n",
    "        outputs = model(inputs_embeds=inputs_embeds, attention_mask=attention_mask, token_type_ids=token_type_ids, labels=labels)\n",
    "        \n",
    "        # Accuracy and loss cleaned\n",
    "        logits = outputs.logits\n",
    "        loss = outputs.loss\n",
    "        logits_clean = logits[labels != -100]\n",
    "        label_clean = labels[labels != -100]\n",
    "\n",
    "        predictions = logits_clean.argmax(dim=1)\n",
    "        acc = (predictions == label_clean).float().mean()\n",
    "\n",
    "        total_acc_train += acc.item()\n",
    "        total_loss_train += loss.item()\n",
    "    \n",
    "        loss.backward()\n",
    "        optimizer.step()\n",
    "\n",
    "    # Validation\n",
    "    model.eval()\n",
    "    total_acc_val = 0\n",
    "    total_loss_val = 0\n",
    "\n",
    "    with torch.no_grad():\n",
    "        for batch in tqdm.tqdm(val_dataloader):\n",
    "            inputs_embeds = batch[\"embeddings\"].to(device)\n",
    "            attention_mask = batch[\"attention_mask\"].to(device)\n",
    "            token_type_ids = batch[\"token_type_ids\"].to(device)\n",
    "            labels = batch[\"ner_tag\"].to(device)\n",
    "            outputs = model(inputs_embeds=inputs_embeds, attention_mask=attention_mask, token_type_ids=token_type_ids, labels=labels)\n",
    "            \n",
    "\n",
    "            # Accuracy and loss cleaned\n",
    "            logits = outputs.logits\n",
    "            loss = outputs.loss\n",
    "\n",
    "            logits_clean = logits[labels != -100]\n",
    "            label_clean = labels[labels != -100]\n",
    "\n",
    "            predictions = logits_clean.argmax(dim=1)\n",
    "            acc = (predictions == label_clean).float().mean()\n",
    "\n",
    "            total_acc_val += acc.item()\n",
    "            total_loss_val += loss.item()\n",
    "\n",
    "        val_accuracy = total_acc_val / len(val_dataloader)\n",
    "        val_loss = total_loss_val / len(val_dataloader)\n",
    "\n",
    "        avg_train_loss = total_loss_train / len(train_dataloader)\n",
    "        avg_train_acc = total_acc_train / len(train_dataloader)\n",
    "\n",
    "        avg_val_loss = total_loss_val / len(val_dataloader)\n",
    "        avg_val_acc = total_acc_val / len(val_dataloader)\n",
    "\n",
    "        print(\n",
    "            f'Epochs: {epoch + 1} | Loss: {avg_train_loss:.3f} | Accuracy: {avg_train_acc:.3f} | Val_Loss: {avg_val_loss:.3f} | Accuracy: {avg_val_acc:.3f}')\n",
    "\n",
    "        # Save model if validation loss is lower than previous validation loss\n",
    "        if epoch == 0:\n",
    "            min_val_loss = val_loss\n",
    "        elif val_loss < min_val_loss:\n",
    "            min_val_loss = val_loss\n",
    "            torch.save(model.state_dict(), paths.MODEL_PATH/'line-label-seq2seq-medbert-min-loss.pt')\n",
    "        elif val_accuracy < min_val_acc:\n",
    "            min_val_acc = val_accuracy\n",
    "            torch.save(model.state_dict(), paths.MODEL_PATH/'line-label-seq2seq-medbert-best-accuracy.pt')"
   ]
  },
  {
   "cell_type": "code",
   "execution_count": 7,
   "metadata": {},
   "outputs": [
    {
     "data": {
      "text/plain": [
       "<All keys matched successfully>"
      ]
     },
     "execution_count": 7,
     "metadata": {},
     "output_type": "execute_result"
    }
   ],
   "source": [
    "# Load best model\n",
    "model.load_state_dict(torch.load(paths.MODEL_PATH/'line-label-seq2seq.pt'))"
   ]
  },
  {
   "cell_type": "code",
   "execution_count": 26,
   "metadata": {},
   "outputs": [
    {
     "name": "stderr",
     "output_type": "stream",
     "text": [
      "100%|██████████| 2/2 [00:01<00:00,  1.90it/s]\n"
     ]
    }
   ],
   "source": [
    "# Preparing Results\n",
    "model.eval()\n",
    "test_labels = []\n",
    "test_logits = []\n",
    "test_embeddings = []\n",
    "with torch.no_grad():\n",
    "    test_loss = 0\n",
    "    for batch in tqdm.tqdm(test_dataloader):\n",
    "        inputs_embeds = batch[\"embeddings\"].to(device)\n",
    "        attention_mask = batch[\"attention_mask\"].to(device)\n",
    "        token_type_ids = batch[\"token_type_ids\"].to(device)\n",
    "        labels = batch[\"ner_tag\"].to(device)\n",
    "        outputs = model(inputs_embeds=inputs_embeds, attention_mask=attention_mask, token_type_ids=token_type_ids, labels=labels, output_hidden_states=True)\n",
    "        \n",
    "        # Accuracy and loss cleaned\n",
    "        logits_clean = outputs.logits[labels != -100].to(\"cpu\")\n",
    "        label_clean = labels[labels != -100].to(\"cpu\")\n",
    "        embeddings_clean = outputs.hidden_states[-1][labels != -100].to(\"cpu\")\n",
    "\n",
    "        test_labels.append(label_clean)\n",
    "        test_logits.append(logits_clean)\n",
    "        test_embeddings.append(embeddings_clean)\n",
    "            "
   ]
  },
  {
   "cell_type": "code",
   "execution_count": 27,
   "metadata": {},
   "outputs": [],
   "source": [
    "# For comparability: saving results in a dictionary with keys \"embeddings\" torch.tensor(n_test_samples, seq_length, n_classes), \n",
    "# \"logits\" torch.tensor(n_test_samples, n_classes) and true OHE \"labels\" (n_test_samples, n_classes).\n",
    "\n",
    "# test_labels need to be OHE\n",
    "test_labels = torch.cat(test_labels, dim=0)\n",
    "test_labels = torch.zeros((test_labels.shape[0], num_labels)).scatter_(-1, test_labels.unsqueeze(-1), 1)\n",
    "\n",
    "# Test Logits\n",
    "test_logits = torch.cat(test_logits, dim=0)\n",
    "\n",
    "# Test Embeddings consist of 1 token, results expects sequence, thus unsqueeze at dim 1\n",
    "test_embeddings = torch.cat(test_embeddings, dim=0).unsqueeze(1)\n",
    "\n",
    "# Save results\n",
    "results = {\"embeddings\": test_embeddings, \"logits\": test_logits, \"labels\": test_labels}\n",
    "torch.save(results, paths.RESULTS_PATH/'line_labelling/medbert-token-finetuned-test_output.pt')"
   ]
  }
 ],
 "metadata": {
  "kernelspec": {
   "display_name": "inf-extr",
   "language": "python",
   "name": "python3"
  },
  "language_info": {
   "codemirror_mode": {
    "name": "ipython",
    "version": 3
   },
   "file_extension": ".py",
   "mimetype": "text/x-python",
   "name": "python",
   "nbconvert_exporter": "python",
   "pygments_lexer": "ipython3",
   "version": "3.9.18"
  }
 },
 "nbformat": 4,
 "nbformat_minor": 2
}

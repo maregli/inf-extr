{
 "cells": [
  {
   "cell_type": "code",
   "execution_count": 1,
   "metadata": {},
   "outputs": [],
   "source": [
    "from transformers import AutoTokenizer, AutoModelForTokenClassification\n",
    "from datasets import DatasetDict\n",
    "import torch\n",
    "from torch.utils.data import DataLoader, Dataset\n",
    "from torch.optim import Adam\n",
    "import numpy as np\n",
    "import os\n",
    "import sys\n",
    "sys.path.append(os.getcwd()+\"/../..\")\n",
    "from src import paths\n",
    "import tqdm\n",
    "import accelerate"
   ]
  },
  {
   "cell_type": "markdown",
   "metadata": {},
   "source": [
    "# Line Labelling Seq2Seq\n",
    "\n",
    "To exploit the sequential structure of line labels, I will build a NER model on top of the embedded sentences. It will basically be a token level classification but each token represents a line in the report."
   ]
  },
  {
   "cell_type": "code",
   "execution_count": 2,
   "metadata": {},
   "outputs": [],
   "source": [
    "# Load dataset\n",
    "dataset = DatasetDict.load_from_disk(paths.DATA_PATH_PREPROCESSED/'line_labelling/line_labelling_clean_dataset')\n",
    "\n",
    "# Num Labels\n",
    "num_labels = len(set(dataset['train']['class_agg']))\n",
    "\n",
    "# train output of previous model\n",
    "train_data = torch.load(paths.RESULTS_PATH/'line_labelling/medBERT-finetuned-train_output.pt')\n",
    "val_data = torch.load(paths.RESULTS_PATH/'line_labelling/medBERT-finetuned-val_output.pt')\n",
    "test_data = torch.load(paths.RESULTS_PATH/'line_labelling/medBERT-finetuned-test_output.pt')"
   ]
  },
  {
   "cell_type": "code",
   "execution_count": 3,
   "metadata": {},
   "outputs": [],
   "source": [
    "# Preprocess data for token classification\n",
    "def get_rid_dict(dataset, split:str = \"train\"):\n",
    "    \"\"\"\n",
    "    Returns a dictionary containing the rids of the reports as keys and the corresponding index in the dataset as values.\n",
    "\n",
    "    Args:\n",
    "        dataset (datasets.DatasetDict): DatasetDict containing the train, validation and test datasets.\n",
    "        split (str, optional): Split of the data. Defaults to \"train\".\n",
    "\n",
    "    Returns:\n",
    "        dict: Dictionary containing the rids of the reports as keys and the corresponding index in the dataset as values.\n",
    "    \"\"\"\n",
    "    rids = dataset[split]['rid']\n",
    "    rids_index = {}\n",
    "    for i, rid in enumerate(rids):\n",
    "        if rid not in rids_index:\n",
    "            rids_index[rid] = [i]\n",
    "        else:\n",
    "            rids_index[rid].append(i)\n",
    "    return rids_index\n",
    "\n",
    "def preprocess_data(data:dict, rid_dict:dict):\n",
    "    \"\"\"\n",
    "    Preprocesses data for token classification.\n",
    "\n",
    "    Args:\n",
    "        data (dict of torch.Tensor): Embeddings of the reports. Contains ['embeddings', 'logits', 'labels'] in torch.Tensor format.\n",
    "        rid_dict (dict): Dictionary containing the rids of the reports as keys and the corresponding index in the dataset as values. Used to group text lines.      \n",
    "    \"\"\"\n",
    "\n",
    "    # Extracting embeddings for each report and concatenating them\n",
    "    data_dict = {}\n",
    "\n",
    "    max_sentences = max([len(rid_dict[rid]) for rid in rid_dict.keys()])\n",
    "    print(\"Max sentences: \", max_sentences)\n",
    "\n",
    "    for idx, rid in enumerate(rid_dict.keys()):\n",
    "        data_dict[idx] = {}\n",
    "\n",
    "        # Embeddings (must pad to max_sentences in dim 2)\n",
    "        data_dict[idx][\"embeddings\"] = data[\"embeddings\"][rid_dict[rid], 0, :]\n",
    "        data_dict[idx][\"embeddings\"] = torch.nn.functional.pad(data_dict[idx][\"embeddings\"], (0, 0, 0, max_sentences - data_dict[idx][\"embeddings\"].shape[0]), \"constant\", 0)\n",
    "\n",
    "        # NER Tag with padding\n",
    "        data_dict[idx][\"ner_tag\"] = [torch.argmax(label, dim = 0).item() for label in data[\"labels\"][rid_dict[rid]]]\n",
    "        data_dict[idx][\"ner_tag\"] = data_dict[idx][\"ner_tag\"] + [-100]*(max_sentences - len(data_dict[idx][\"ner_tag\"]))\n",
    "        data_dict[idx][\"ner_tag\"] = torch.LongTensor(data_dict[idx][\"ner_tag\"])\n",
    "\n",
    "        # Attention mask\n",
    "        data_dict[idx][\"attention_mask\"] = torch.ones(max_sentences)\n",
    "        data_dict[idx][\"attention_mask\"][data_dict[idx][\"ner_tag\"] == -100] = 0\n",
    "\n",
    "        # Clone and detach all tensors\n",
    "        for key in data_dict[idx].keys():\n",
    "            data_dict[idx][key] = data_dict[idx][key].clone().detach()\n",
    "\n",
    "    return data_dict"
   ]
  },
  {
   "cell_type": "code",
   "execution_count": 4,
   "metadata": {},
   "outputs": [],
   "source": [
    "# Model and tokenizer\n",
    "#checkpoint = \"xlm-roberta-large\"\n",
    "\n",
    "# Roberta Model\n",
    "model = AutoModelForTokenClassification.from_pretrained(paths.MODEL_PATH/'roberta-xlm-large', num_labels=num_labels)\n",
    "#tokenizer = AutoTokenizer.from_pretrained(checkpoint)"
   ]
  },
  {
   "cell_type": "code",
   "execution_count": 5,
   "metadata": {},
   "outputs": [
    {
     "name": "stdout",
     "output_type": "stream",
     "text": [
      "Max sentences:  57\n",
      "Max sentences:  35\n",
      "Max sentences:  41\n"
     ]
    }
   ],
   "source": [
    "# Get rid_dict\n",
    "train_rid_dict = get_rid_dict(dataset, split=\"train\")\n",
    "val_rid_dict = get_rid_dict(dataset, split=\"val\")\n",
    "test_rid_dict = get_rid_dict(dataset, split=\"test\")\n",
    "\n",
    "# Preprocess data\n",
    "train_data_dict = preprocess_data(train_data, train_rid_dict)\n",
    "val_data_dict = preprocess_data(val_data, val_rid_dict)\n",
    "test_data_dict = preprocess_data(test_data, test_rid_dict)"
   ]
  },
  {
   "cell_type": "code",
   "execution_count": 6,
   "metadata": {},
   "outputs": [],
   "source": [
    "class RobertaXMLModel(torch.nn.Module):\n",
    "    \"\"\"\n",
    "    Model for token classification using a pretrained Roberta model.\n",
    "    \"\"\"\n",
    "    def __init__(self, model, input_dim:int, device:torch.device):\n",
    "        super(RobertaXMLModel, self).__init__()\n",
    "        self.device = device\n",
    "        self.model = model\n",
    "        self.model.to(self.device)\n",
    "        self.embed_mapping = torch.nn.Linear(input_dim, self.model.config.hidden_size).to(self.device)\n",
    "        self.activation = torch.nn.ReLU().to(self.device)\n",
    "\n",
    "    def forward(self, inputs_embeds, attention_mask, labels=None, output_hidden_states=False):\n",
    "        \"\"\"\n",
    "        Forward pass of the model. Must map from hidden BERT dimension to the dimension of the Roberta Embeddings first,\n",
    "        then replace the CLS and SEP embeddings with the embeddings of the Roberta model.\n",
    "        \"\"\"\n",
    "        \n",
    "        # Map to roberta hidden dimension\n",
    "        inputs_embeds = self.activation(self.embed_mapping(inputs_embeds))\n",
    "\n",
    "        # Forward pass\n",
    "        outputs = self.model(inputs_embeds=inputs_embeds, attention_mask=attention_mask, labels=labels, output_hidden_states = output_hidden_states)\n",
    "        return outputs\n",
    "        "
   ]
  },
  {
   "cell_type": "code",
   "execution_count": 7,
   "metadata": {},
   "outputs": [
    {
     "name": "stderr",
     "output_type": "stream",
     "text": [
      "Detected kernel version 5.4.0, which is below the recommended minimum of 5.5.0; this can cause the process to hang. It is recommended to upgrade the kernel to the minimum version or higher.\n"
     ]
    }
   ],
   "source": [
    "# Model\n",
    "accelerator = accelerate.Accelerator(mixed_precision='fp16', gradient_accumulation_steps=2)\n",
    "device = accelerator.device\n",
    "model_custom = RobertaXMLModel(model=model, input_dim=train_data[\"embeddings\"].shape[2], device=device)"
   ]
  },
  {
   "cell_type": "code",
   "execution_count": 8,
   "metadata": {},
   "outputs": [],
   "source": [
    "# Training Arguments\n",
    "batch_size = 4\n",
    "learning_rate = 5e-6\n",
    "epochs = 32\n",
    "weight_decay = 0.01\n",
    "optimizer = Adam(model_custom.parameters(), lr=learning_rate, weight_decay=weight_decay)\n",
    "\n",
    "# Create dataset\n",
    "class TokenLineLabelDataSet(Dataset):\n",
    "    def __init__(self, data):\n",
    "        self.data = data\n",
    "\n",
    "    def __len__(self):\n",
    "        return len(self.data.keys())\n",
    "\n",
    "    def __getitem__(self, idx):\n",
    "        return self.data[idx]\n",
    "\n",
    "# Training, validation and test dataset\n",
    "train_dataset = TokenLineLabelDataSet(train_data_dict)\n",
    "val_dataset = TokenLineLabelDataSet(val_data_dict)\n",
    "test_dataset = TokenLineLabelDataSet(test_data_dict)\n",
    "\n",
    "# Dataloader\n",
    "train_dataloader = DataLoader(train_dataset, batch_size=batch_size, shuffle=True)\n",
    "val_dataloader = DataLoader(val_dataset, batch_size=batch_size, shuffle=False)\n",
    "test_dataloader = DataLoader(test_dataset, batch_size=batch_size, shuffle=False)\n",
    "\n",
    "# Accelerator\n",
    "model_custom, optimizer, train_dataloader, val_dataloader = accelerator.prepare(model_custom, optimizer, train_dataloader, val_dataloader)"
   ]
  },
  {
   "cell_type": "code",
   "execution_count": 9,
   "metadata": {},
   "outputs": [
    {
     "name": "stdout",
     "output_type": "stream",
     "text": [
      "Epoch:  0\n"
     ]
    },
    {
     "name": "stderr",
     "output_type": "stream",
     "text": [
      "100%|██████████| 12/12 [00:01<00:00,  6.21it/s]\n",
      "100%|██████████| 3/3 [00:00<00:00, 28.31it/s]\n"
     ]
    },
    {
     "name": "stdout",
     "output_type": "stream",
     "text": [
      "Epochs: 1 | Loss: 2.236 | Accuracy: 0.151 | Val_Loss: 2.101 | Accuracy: 0.247\n",
      "Epoch:  1\n"
     ]
    },
    {
     "name": "stderr",
     "output_type": "stream",
     "text": [
      "100%|██████████| 12/12 [00:01<00:00,  8.69it/s]\n",
      "100%|██████████| 3/3 [00:00<00:00, 28.28it/s]\n"
     ]
    },
    {
     "name": "stdout",
     "output_type": "stream",
     "text": [
      "Epochs: 2 | Loss: 2.137 | Accuracy: 0.192 | Val_Loss: 2.068 | Accuracy: 0.250\n",
      "Epoch:  2\n"
     ]
    },
    {
     "name": "stderr",
     "output_type": "stream",
     "text": [
      "100%|██████████| 12/12 [00:01<00:00,  8.05it/s]\n",
      "100%|██████████| 3/3 [00:00<00:00, 28.75it/s]\n"
     ]
    },
    {
     "name": "stdout",
     "output_type": "stream",
     "text": [
      "Epochs: 3 | Loss: 2.068 | Accuracy: 0.244 | Val_Loss: 1.948 | Accuracy: 0.355\n",
      "Epoch:  3\n"
     ]
    },
    {
     "name": "stderr",
     "output_type": "stream",
     "text": [
      "100%|██████████| 12/12 [00:01<00:00,  8.37it/s]\n",
      "100%|██████████| 3/3 [00:00<00:00, 26.30it/s]\n"
     ]
    },
    {
     "name": "stdout",
     "output_type": "stream",
     "text": [
      "Epochs: 4 | Loss: 1.952 | Accuracy: 0.343 | Val_Loss: 1.798 | Accuracy: 0.428\n",
      "Epoch:  4\n"
     ]
    },
    {
     "name": "stderr",
     "output_type": "stream",
     "text": [
      "100%|██████████| 12/12 [00:01<00:00,  8.37it/s]\n",
      "100%|██████████| 3/3 [00:00<00:00, 28.16it/s]\n"
     ]
    },
    {
     "name": "stdout",
     "output_type": "stream",
     "text": [
      "Epochs: 5 | Loss: 1.677 | Accuracy: 0.497 | Val_Loss: 1.465 | Accuracy: 0.630\n",
      "Epoch:  5\n"
     ]
    },
    {
     "name": "stderr",
     "output_type": "stream",
     "text": [
      "100%|██████████| 12/12 [00:01<00:00,  8.87it/s]\n",
      "100%|██████████| 3/3 [00:00<00:00, 29.38it/s]\n"
     ]
    },
    {
     "name": "stdout",
     "output_type": "stream",
     "text": [
      "Epochs: 6 | Loss: 1.362 | Accuracy: 0.591 | Val_Loss: 1.206 | Accuracy: 0.714\n",
      "Epoch:  6\n"
     ]
    },
    {
     "name": "stderr",
     "output_type": "stream",
     "text": [
      "100%|██████████| 12/12 [00:01<00:00,  8.90it/s]\n",
      "100%|██████████| 3/3 [00:00<00:00, 28.98it/s]\n"
     ]
    },
    {
     "name": "stdout",
     "output_type": "stream",
     "text": [
      "Epochs: 7 | Loss: 1.112 | Accuracy: 0.711 | Val_Loss: 1.076 | Accuracy: 0.720\n",
      "Epoch:  7\n"
     ]
    },
    {
     "name": "stderr",
     "output_type": "stream",
     "text": [
      "100%|██████████| 12/12 [00:01<00:00,  8.84it/s]\n",
      "100%|██████████| 3/3 [00:00<00:00, 29.06it/s]\n"
     ]
    },
    {
     "name": "stdout",
     "output_type": "stream",
     "text": [
      "Epochs: 8 | Loss: 0.908 | Accuracy: 0.779 | Val_Loss: 1.000 | Accuracy: 0.735\n",
      "Epoch:  8\n"
     ]
    },
    {
     "name": "stderr",
     "output_type": "stream",
     "text": [
      "100%|██████████| 12/12 [00:01<00:00,  8.84it/s]\n",
      "100%|██████████| 3/3 [00:00<00:00, 29.43it/s]\n"
     ]
    },
    {
     "name": "stdout",
     "output_type": "stream",
     "text": [
      "Epochs: 9 | Loss: 0.705 | Accuracy: 0.834 | Val_Loss: 0.860 | Accuracy: 0.750\n",
      "Epoch:  9\n"
     ]
    },
    {
     "name": "stderr",
     "output_type": "stream",
     "text": [
      "100%|██████████| 12/12 [00:01<00:00,  8.91it/s]\n",
      "100%|██████████| 3/3 [00:00<00:00, 29.09it/s]\n"
     ]
    },
    {
     "name": "stdout",
     "output_type": "stream",
     "text": [
      "Epochs: 10 | Loss: 0.558 | Accuracy: 0.863 | Val_Loss: 0.907 | Accuracy: 0.805\n",
      "Epoch:  10\n"
     ]
    },
    {
     "name": "stderr",
     "output_type": "stream",
     "text": [
      "100%|██████████| 12/12 [00:01<00:00,  8.93it/s]\n",
      "100%|██████████| 3/3 [00:00<00:00, 29.46it/s]\n"
     ]
    },
    {
     "name": "stdout",
     "output_type": "stream",
     "text": [
      "Epochs: 11 | Loss: 0.478 | Accuracy: 0.895 | Val_Loss: 0.941 | Accuracy: 0.805\n",
      "Epoch:  11\n"
     ]
    },
    {
     "name": "stderr",
     "output_type": "stream",
     "text": [
      "100%|██████████| 12/12 [00:01<00:00,  8.84it/s]\n",
      "100%|██████████| 3/3 [00:00<00:00, 29.16it/s]\n"
     ]
    },
    {
     "name": "stdout",
     "output_type": "stream",
     "text": [
      "Epochs: 12 | Loss: 0.446 | Accuracy: 0.896 | Val_Loss: 0.939 | Accuracy: 0.780\n",
      "Epoch:  12\n"
     ]
    },
    {
     "name": "stderr",
     "output_type": "stream",
     "text": [
      "100%|██████████| 12/12 [00:01<00:00,  8.92it/s]\n",
      "100%|██████████| 3/3 [00:00<00:00, 29.16it/s]\n"
     ]
    },
    {
     "name": "stdout",
     "output_type": "stream",
     "text": [
      "Epochs: 13 | Loss: 0.485 | Accuracy: 0.895 | Val_Loss: 0.962 | Accuracy: 0.779\n",
      "Epoch:  13\n"
     ]
    },
    {
     "name": "stderr",
     "output_type": "stream",
     "text": [
      "100%|██████████| 12/12 [00:01<00:00,  8.89it/s]\n",
      "100%|██████████| 3/3 [00:00<00:00, 29.47it/s]\n"
     ]
    },
    {
     "name": "stdout",
     "output_type": "stream",
     "text": [
      "Epochs: 14 | Loss: 0.427 | Accuracy: 0.900 | Val_Loss: 1.015 | Accuracy: 0.799\n",
      "Epoch:  14\n"
     ]
    },
    {
     "name": "stderr",
     "output_type": "stream",
     "text": [
      "100%|██████████| 12/12 [00:01<00:00,  8.95it/s]\n",
      "100%|██████████| 3/3 [00:00<00:00, 29.54it/s]\n"
     ]
    },
    {
     "name": "stdout",
     "output_type": "stream",
     "text": [
      "Epochs: 15 | Loss: 0.404 | Accuracy: 0.914 | Val_Loss: 0.924 | Accuracy: 0.797\n",
      "Epoch:  15\n"
     ]
    },
    {
     "name": "stderr",
     "output_type": "stream",
     "text": [
      "100%|██████████| 12/12 [00:01<00:00,  9.31it/s]\n",
      "100%|██████████| 3/3 [00:00<00:00, 28.80it/s]\n"
     ]
    },
    {
     "name": "stdout",
     "output_type": "stream",
     "text": [
      "Epochs: 16 | Loss: 0.400 | Accuracy: 0.918 | Val_Loss: 0.934 | Accuracy: 0.812\n",
      "Epoch:  16\n"
     ]
    },
    {
     "name": "stderr",
     "output_type": "stream",
     "text": [
      "100%|██████████| 12/12 [00:01<00:00,  8.82it/s]\n",
      "100%|██████████| 3/3 [00:00<00:00, 28.88it/s]\n"
     ]
    },
    {
     "name": "stdout",
     "output_type": "stream",
     "text": [
      "Epochs: 17 | Loss: 0.271 | Accuracy: 0.953 | Val_Loss: 0.984 | Accuracy: 0.817\n",
      "Epoch:  17\n"
     ]
    },
    {
     "name": "stderr",
     "output_type": "stream",
     "text": [
      "100%|██████████| 12/12 [00:01<00:00,  8.85it/s]\n",
      "100%|██████████| 3/3 [00:00<00:00, 29.42it/s]\n"
     ]
    },
    {
     "name": "stdout",
     "output_type": "stream",
     "text": [
      "Epochs: 18 | Loss: 0.219 | Accuracy: 0.959 | Val_Loss: 1.036 | Accuracy: 0.813\n",
      "Epoch:  18\n"
     ]
    },
    {
     "name": "stderr",
     "output_type": "stream",
     "text": [
      "100%|██████████| 12/12 [00:01<00:00,  8.96it/s]\n",
      "100%|██████████| 3/3 [00:00<00:00, 29.35it/s]\n"
     ]
    },
    {
     "name": "stdout",
     "output_type": "stream",
     "text": [
      "Epochs: 19 | Loss: 0.208 | Accuracy: 0.954 | Val_Loss: 1.090 | Accuracy: 0.817\n",
      "Epoch:  19\n"
     ]
    },
    {
     "name": "stderr",
     "output_type": "stream",
     "text": [
      "100%|██████████| 12/12 [00:01<00:00,  8.89it/s]\n",
      "100%|██████████| 3/3 [00:00<00:00, 28.11it/s]\n"
     ]
    },
    {
     "name": "stdout",
     "output_type": "stream",
     "text": [
      "Epochs: 20 | Loss: 0.196 | Accuracy: 0.963 | Val_Loss: 1.058 | Accuracy: 0.813\n",
      "Epoch:  20\n"
     ]
    },
    {
     "name": "stderr",
     "output_type": "stream",
     "text": [
      "100%|██████████| 12/12 [00:01<00:00,  8.06it/s]\n",
      "100%|██████████| 3/3 [00:00<00:00, 30.08it/s]\n"
     ]
    },
    {
     "name": "stdout",
     "output_type": "stream",
     "text": [
      "Epochs: 21 | Loss: 0.203 | Accuracy: 0.962 | Val_Loss: 1.010 | Accuracy: 0.813\n",
      "Epoch:  21\n"
     ]
    },
    {
     "name": "stderr",
     "output_type": "stream",
     "text": [
      "100%|██████████| 12/12 [00:01<00:00,  8.94it/s]\n",
      "100%|██████████| 3/3 [00:00<00:00, 30.18it/s]\n"
     ]
    },
    {
     "name": "stdout",
     "output_type": "stream",
     "text": [
      "Epochs: 22 | Loss: 0.172 | Accuracy: 0.962 | Val_Loss: 1.067 | Accuracy: 0.813\n",
      "Epoch:  22\n"
     ]
    },
    {
     "name": "stderr",
     "output_type": "stream",
     "text": [
      "100%|██████████| 12/12 [00:01<00:00,  8.96it/s]\n",
      "100%|██████████| 3/3 [00:00<00:00, 27.87it/s]\n"
     ]
    },
    {
     "name": "stdout",
     "output_type": "stream",
     "text": [
      "Epochs: 23 | Loss: 0.175 | Accuracy: 0.969 | Val_Loss: 1.079 | Accuracy: 0.813\n",
      "Epoch:  23\n"
     ]
    },
    {
     "name": "stderr",
     "output_type": "stream",
     "text": [
      "100%|██████████| 12/12 [00:01<00:00,  8.50it/s]\n",
      "100%|██████████| 3/3 [00:00<00:00, 28.18it/s]\n"
     ]
    },
    {
     "name": "stdout",
     "output_type": "stream",
     "text": [
      "Epochs: 24 | Loss: 0.144 | Accuracy: 0.972 | Val_Loss: 1.095 | Accuracy: 0.808\n",
      "Epoch:  24\n"
     ]
    },
    {
     "name": "stderr",
     "output_type": "stream",
     "text": [
      "100%|██████████| 12/12 [00:01<00:00,  8.44it/s]\n",
      "100%|██████████| 3/3 [00:00<00:00, 28.22it/s]\n"
     ]
    },
    {
     "name": "stdout",
     "output_type": "stream",
     "text": [
      "Epochs: 25 | Loss: 0.135 | Accuracy: 0.974 | Val_Loss: 1.136 | Accuracy: 0.813\n",
      "Epoch:  25\n"
     ]
    },
    {
     "name": "stderr",
     "output_type": "stream",
     "text": [
      "100%|██████████| 12/12 [00:01<00:00,  8.49it/s]\n",
      "100%|██████████| 3/3 [00:00<00:00, 28.58it/s]\n"
     ]
    },
    {
     "name": "stdout",
     "output_type": "stream",
     "text": [
      "Epochs: 26 | Loss: 0.142 | Accuracy: 0.974 | Val_Loss: 1.155 | Accuracy: 0.813\n",
      "Epoch:  26\n"
     ]
    },
    {
     "name": "stderr",
     "output_type": "stream",
     "text": [
      "100%|██████████| 12/12 [00:01<00:00,  8.57it/s]\n",
      "100%|██████████| 3/3 [00:00<00:00, 28.61it/s]\n"
     ]
    },
    {
     "name": "stdout",
     "output_type": "stream",
     "text": [
      "Epochs: 27 | Loss: 0.138 | Accuracy: 0.977 | Val_Loss: 1.141 | Accuracy: 0.813\n",
      "Epoch:  27\n"
     ]
    },
    {
     "name": "stderr",
     "output_type": "stream",
     "text": [
      "100%|██████████| 12/12 [00:01<00:00,  8.52it/s]\n",
      "100%|██████████| 3/3 [00:00<00:00, 28.85it/s]\n"
     ]
    },
    {
     "name": "stdout",
     "output_type": "stream",
     "text": [
      "Epochs: 28 | Loss: 0.117 | Accuracy: 0.979 | Val_Loss: 1.139 | Accuracy: 0.817\n",
      "Epoch:  28\n"
     ]
    },
    {
     "name": "stderr",
     "output_type": "stream",
     "text": [
      "100%|██████████| 12/12 [00:01<00:00,  8.66it/s]\n",
      "100%|██████████| 3/3 [00:00<00:00, 28.34it/s]\n"
     ]
    },
    {
     "name": "stdout",
     "output_type": "stream",
     "text": [
      "Epochs: 29 | Loss: 0.121 | Accuracy: 0.978 | Val_Loss: 1.183 | Accuracy: 0.813\n",
      "Epoch:  29\n"
     ]
    },
    {
     "name": "stderr",
     "output_type": "stream",
     "text": [
      "100%|██████████| 12/12 [00:01<00:00,  7.88it/s]\n",
      "100%|██████████| 3/3 [00:00<00:00, 27.51it/s]\n"
     ]
    },
    {
     "name": "stdout",
     "output_type": "stream",
     "text": [
      "Epochs: 30 | Loss: 0.139 | Accuracy: 0.978 | Val_Loss: 1.157 | Accuracy: 0.813\n",
      "Epoch:  30\n"
     ]
    },
    {
     "name": "stderr",
     "output_type": "stream",
     "text": [
      "100%|██████████| 12/12 [00:01<00:00,  8.25it/s]\n",
      "100%|██████████| 3/3 [00:00<00:00, 24.93it/s]\n"
     ]
    },
    {
     "name": "stdout",
     "output_type": "stream",
     "text": [
      "Epochs: 31 | Loss: 0.124 | Accuracy: 0.973 | Val_Loss: 1.191 | Accuracy: 0.813\n",
      "Epoch:  31\n"
     ]
    },
    {
     "name": "stderr",
     "output_type": "stream",
     "text": [
      "100%|██████████| 12/12 [00:01<00:00,  7.85it/s]\n",
      "100%|██████████| 3/3 [00:00<00:00, 28.74it/s]"
     ]
    },
    {
     "name": "stdout",
     "output_type": "stream",
     "text": [
      "Epochs: 32 | Loss: 0.109 | Accuracy: 0.978 | Val_Loss: 1.181 | Accuracy: 0.813\n"
     ]
    },
    {
     "name": "stderr",
     "output_type": "stream",
     "text": [
      "\n"
     ]
    }
   ],
   "source": [
    "# Training\n",
    "# Seed\n",
    "torch.manual_seed(42)\n",
    "\n",
    "for epoch in range(epochs):\n",
    "\n",
    "    # Training Loop\n",
    "    print(\"Epoch: \", epoch)\n",
    "    total_acc_train = 0\n",
    "    total_loss_train = 0\n",
    "    model.train()\n",
    "\n",
    "    # Best accuracy and loss for best model\n",
    "    best_acc = 0\n",
    "    best_loss = 1000\n",
    "\n",
    "    # Batch loop\n",
    "    for batch in tqdm.tqdm(train_dataloader):\n",
    "        optimizer.zero_grad()\n",
    "        inputs_embeds = batch[\"embeddings\"]\n",
    "        attention_mask = batch[\"attention_mask\"]\n",
    "        labels = batch[\"ner_tag\"]\n",
    "\n",
    "        outputs = model_custom(inputs_embeds=inputs_embeds, attention_mask=attention_mask, labels=labels)\n",
    "        \n",
    "        # Accuracy and loss cleaned\n",
    "        logits = outputs.logits\n",
    "        loss = outputs.loss\n",
    "        logits_clean = logits[labels != -100]\n",
    "        label_clean = labels[labels != -100]\n",
    "\n",
    "        predictions = logits_clean.argmax(dim=1)\n",
    "        acc = (predictions == label_clean).float().mean()\n",
    "\n",
    "        total_acc_train += acc.item()\n",
    "        total_loss_train += loss.item()\n",
    "    \n",
    "        accelerator.backward(loss)\n",
    "        optimizer.step()\n",
    "\n",
    "\n",
    "    # Validation\n",
    "    model.eval()\n",
    "    total_acc_val = 0\n",
    "    total_loss_val = 0\n",
    "\n",
    "    with torch.no_grad():\n",
    "        for batch in tqdm.tqdm(val_dataloader):\n",
    "            inputs_embeds = batch[\"embeddings\"]\n",
    "            attention_mask = batch[\"attention_mask\"]\n",
    "            labels = batch[\"ner_tag\"]\n",
    "            \n",
    "            outputs = model_custom(inputs_embeds=inputs_embeds, attention_mask=attention_mask, labels=labels)\n",
    "            \n",
    "\n",
    "            # Accuracy and loss cleaned\n",
    "            logits = outputs.logits\n",
    "            loss = outputs.loss\n",
    "\n",
    "            logits_clean = logits[labels != -100]\n",
    "            label_clean = labels[labels != -100]\n",
    "\n",
    "            predictions = logits_clean.argmax(dim=1)\n",
    "            acc = (predictions == label_clean).float().mean()\n",
    "\n",
    "            total_acc_val += acc.item()\n",
    "            total_loss_val += loss.item()\n",
    "\n",
    "        val_accuracy = total_acc_val / len(val_dataloader)\n",
    "        val_loss = total_loss_val / len(val_dataloader)\n",
    "\n",
    "        avg_train_loss = total_loss_train / len(train_dataloader)\n",
    "        avg_train_acc = total_acc_train / len(train_dataloader)\n",
    "\n",
    "        avg_val_loss = total_loss_val / len(val_dataloader)\n",
    "        avg_val_acc = total_acc_val / len(val_dataloader)\n",
    "\n",
    "        print(\n",
    "            f'Epochs: {epoch + 1} | Loss: {avg_train_loss:.3f} | Accuracy: {avg_train_acc:.3f} | Val_Loss: {avg_val_loss:.3f} | Accuracy: {avg_val_acc:.3f}')\n",
    "\n",
    "\n",
    "        # Save model if validation loss is lower than previous validation loss\n",
    "        if epoch == 0:\n",
    "            min_val_loss = val_loss\n",
    "            min_val_acc = val_accuracy\n",
    "        elif val_loss < min_val_loss:\n",
    "            min_val_loss = val_loss\n",
    "            torch.save(model_custom.state_dict(), paths.MODEL_PATH/'line-label-seq2seq-roberta-best-loss.pt')\n",
    "        elif val_accuracy < min_val_acc:\n",
    "            min_val_acc = val_accuracy\n",
    "            torch.save(model_custom.state_dict(), paths.MODEL_PATH/'line-label-seq2seq-roberta-best-accuracy.pt')"
   ]
  },
  {
   "cell_type": "code",
   "execution_count": null,
   "metadata": {},
   "outputs": [],
   "source": []
  },
  {
   "cell_type": "code",
   "execution_count": 10,
   "metadata": {},
   "outputs": [
    {
     "name": "stderr",
     "output_type": "stream",
     "text": [
      "100%|██████████| 4/4 [00:00<00:00, 46.26it/s]"
     ]
    },
    {
     "name": "stdout",
     "output_type": "stream",
     "text": [
      "Test loss:  0.4901980496942997\n"
     ]
    },
    {
     "name": "stderr",
     "output_type": "stream",
     "text": [
      "\n"
     ]
    }
   ],
   "source": [
    "# Predictions on test set\n",
    "test_dataloader = accelerator.prepare(test_dataloader)\n",
    "model_custom.eval()\n",
    "test_labels = []\n",
    "test_predictions = []\n",
    "logits_list = []\n",
    "\n",
    "with torch.no_grad():\n",
    "    test_loss = 0\n",
    "    for batch in tqdm.tqdm(test_dataloader):\n",
    "        inputs_embeds = batch[\"embeddings\"]\n",
    "        attention_mask = batch[\"attention_mask\"]\n",
    "        labels = batch[\"ner_tag\"]\n",
    "            \n",
    "        outputs = model_custom(inputs_embeds=inputs_embeds, attention_mask=attention_mask, labels=labels)\n",
    "        \n",
    "        # Accuracy and loss cleaned\n",
    "        logits_batch = outputs.logits\n",
    "        loss = outputs.loss\n",
    "\n",
    "        logits = logits_batch[labels != -100]\n",
    "        label_clean = labels[labels != -100]\n",
    "\n",
    "        predictions = logits.argmax(dim=1)\n",
    "        acc = (predictions == label_clean).float().mean()\n",
    "\n",
    "        test_labels.append(label_clean)\n",
    "        test_predictions.append(predictions)\n",
    "        logits_list.append(logits)\n",
    "\n",
    "        test_loss += loss.item()\n",
    "\n",
    "test_loss = test_loss / len(test_dataloader)\n",
    "print(\"Test loss: \", test_loss)      \n",
    "            "
   ]
  },
  {
   "cell_type": "code",
   "execution_count": 11,
   "metadata": {},
   "outputs": [],
   "source": [
    "# Save Results\n",
    "results = {\n",
    "    \"test_labels\": test_labels,\n",
    "    \"test_predictions\": test_predictions,\n",
    "    \"logits\": logits_list\n",
    "}\n",
    "\n",
    "torch.save(results, paths.RESULTS_PATH/'line_labelling/RoBERTA-seq2seq-finetuned-test.pt')"
   ]
  },
  {
   "cell_type": "code",
   "execution_count": 12,
   "metadata": {},
   "outputs": [
    {
     "name": "stdout",
     "output_type": "stream",
     "text": [
      "F1 score:  0.9137968328414687\n",
      "Recall:  0.9159420289855073\n",
      "Precision:  0.9165121245709806\n"
     ]
    }
   ],
   "source": [
    "from sklearn.metrics import f1_score, recall_score, precision_score\n",
    "# F1 score, recall and precision\n",
    "test_labels = torch.cat(test_labels, dim=0)\n",
    "test_predictions = torch.cat(test_predictions, dim=0)\n",
    "\n",
    "print(\"F1 score: \", f1_score(test_labels.cpu(), test_predictions.cpu(), average='weighted'))\n",
    "print(\"Recall: \", recall_score(test_labels.cpu(), test_predictions.cpu(), average='weighted'))\n",
    "print(\"Precision: \", precision_score(test_labels.cpu(), test_predictions.cpu(), average='weighted'))"
   ]
  }
 ],
 "metadata": {
  "kernelspec": {
   "display_name": "Python 3 (ipykernel)",
   "language": "python",
   "name": "python3"
  },
  "language_info": {
   "codemirror_mode": {
    "name": "ipython",
    "version": 3
   },
   "file_extension": ".py",
   "mimetype": "text/x-python",
   "name": "python",
   "nbconvert_exporter": "python",
   "pygments_lexer": "ipython3",
   "version": "3.9.18"
  }
 },
 "nbformat": 4,
 "nbformat_minor": 4
}

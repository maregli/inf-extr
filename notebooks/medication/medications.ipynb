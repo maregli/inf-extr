{
 "cells": [
  {
   "cell_type": "code",
   "execution_count": 19,
   "metadata": {},
   "outputs": [],
   "source": [
    "import sys\n",
    "import os\n",
    "sys.path.append(os.getcwd()+\"/../..\")\n",
    "from src import paths\n",
    "\n",
    "from pydantic import BaseModel, Field\n",
    "from enum import Enum, auto\n",
    "from src.utils import load_model_and_tokenizer\n",
    "\n",
    "from outlines import samplers\n",
    "import outlines\n",
    "\n",
    "import pandas as pd\n"
   ]
  },
  {
   "cell_type": "code",
   "execution_count": 2,
   "metadata": {},
   "outputs": [],
   "source": [
    "medication_names = [\n",
    "    \"Avonex\",\n",
    "    \"Betaferon\",\n",
    "    \"Plegridy\",\n",
    "    \"Copaxone\",\n",
    "    \"Glatiramyl\",\n",
    "    \"Aubagio\",\n",
    "    \"Tecfidera\",\n",
    "    \"Gilenya\",\n",
    "    \"Tysabri\",\n",
    "    \"Ocrevus\",\n",
    "    \"Lemtrada\",\n",
    "    \"Novantron\",\n",
    "    \"Endoxan\",\n",
    "    \"MabThera\",\n",
    "    \"Imurek\",\n",
    "    \"Mayzent\",\n",
    "    \"Medrol\",\n",
    "    \"Solu-Medrol\",\n",
    "    \"Solumedrol\",\n",
    "    \"Cortison\",\n",
    "    \"Interferon beta-1a\",\n",
    "    \"Interferon beta-1b\",\n",
    "    \"Peginterferon beta-1a\",\n",
    "    \"Glatirameracetat\",\n",
    "    \"Teriflunomid\",\n",
    "    \"Dimethylfumarat\",\n",
    "    \"Fingolimod\",\n",
    "    \"Natalizumab\",\n",
    "    \"Ocrelizumab\",\n",
    "    \"Alemtuzumab\",\n",
    "    \"Mitoxantron\",\n",
    "    \"Cyclophosphamid\",\n",
    "    \"Rituximab\",\n",
    "    \"Azathioprin\",\n",
    "    \"Siponimod\",\n",
    "    \"Glucocorticosteroid\"\n",
    "]\n",
    "\n",
    "medication_keys = [medication.replace(\"-\", \"_\").replace(\" \", \"_\").lower() for medication in medication_names]\n",
    "\n",
    "MedicationName = Enum(\"MedicationName\", [(key, value) for key, value in zip(medication_keys, medication_names)])\n",
    "\n",
    "class MedicationUnit(str, Enum):\n",
    "    mg = \"mg\"\n",
    "    ug = \"ug\"\n",
    "    g = \"g\"\n",
    "\n",
    "intake_amount = Field(pattern=r\"\\d+(\\.\\d{1,2})?\")\n",
    "\n",
    "class Medication(BaseModel):\n",
    "    name: MedicationName\n",
    "    unit: MedicationUnit\n",
    "    amount: float\n",
    "    morning: float\n",
    "    noon: float\n",
    "    evening: float\n",
    "    night: float\n",
    "    # intake: str = Field(pattern=r\"(-99)|(\\d+(\\.\\d{1})?-\\d+(\\.\\d{1})?-\\d+(\\.\\d{1})?)-\\d+(\\.\\d{1})?\")\n",
    "\n",
    "\n",
    "class MedicationList(BaseModel):\n",
    "    medications: list[Medication]\n",
    "\n",
    "# Instantiate Medication\n",
    "medication1 = Medication(\n",
    "    name=\"Avonex\",\n",
    "    unit=\"mg\",\n",
    "    amount=100.0,\n",
    "    morning=1,\n",
    "    noon=0.5,\n",
    "    evening=0,\n",
    "    night=1,\n",
    ")"
   ]
  },
  {
   "cell_type": "code",
   "execution_count": 3,
   "metadata": {},
   "outputs": [
    {
     "data": {
      "application/vnd.jupyter.widget-view+json": {
       "model_id": "cb503c37b1c94e5ea1524360f48c14d3",
       "version_major": 2,
       "version_minor": 0
      },
      "text/plain": [
       "Loading checkpoint shards:   0%|          | 0/3 [00:00<?, ?it/s]"
      ]
     },
     "metadata": {},
     "output_type": "display_data"
    }
   ],
   "source": [
    "model, tokenizer = load_model_and_tokenizer(\"Llama2-MedTuned-13b\",\n",
    "                                            task_type = \"outlines\",\n",
    "                                            quantization = \"4bit\",\n",
    "                                           )"
   ]
  },
  {
   "cell_type": "code",
   "execution_count": 16,
   "metadata": {},
   "outputs": [],
   "source": [
    "sampler = samplers.greedy()\n",
    "generator = outlines.generate.json(model, Medication, sampler = sampler)"
   ]
  },
  {
   "cell_type": "code",
   "execution_count": 33,
   "metadata": {},
   "outputs": [],
   "source": [
    "task_instruction = (\"Your task is to extract specific information from medication descriptions. \"\n",
    "                    \"The information to extract includes the medication name, dose, dose unit, \"\n",
    "                    \"and the amount of doses that have to be taken at morning-noon-evening-night. \"\n",
    "                    \"The Medication name can consist of multiple words with whitespaces and should be returned as a single string. \"\n",
    "                    \"The dose is one of the following: mg, ug, g. \"\n",
    "                    \"The dose unit is a float. \"\n",
    "                    \"The amount of intake doses can be given in two ways: \"\n",
    "                    \"If The amount of doses is given in the format of float-float-float, it corresponds to \"\n",
    "                    \"morning-noon-evening and night should be set to 0. If it is given in the form float-float-float-float it corresponds to \"\n",
    "                    \"morning-noon-evening-night. \"\n",
    "                    \"Your output should follow this specific json format: {name: str:[MedicationName], \"\n",
    "                    \"unit: str:[MedicationUnit], amount: float: [MedicationAmount], morning: float[MorningIntake], \"\n",
    "                    \"noon: float[NoonIntake], evening: float[EveningIntake], night: float[NightIntake]\"\n",
    "                   )\n",
    "\n",
    "def zero_shot_base(report:str, task_instruction:str)->str:\n",
    "    \"\"\"Zero-shot base for Llama prompting\n",
    "\n",
    "    Args:\n",
    "        report (str): medical report\n",
    "        task_instruction (str): instruction for the task\n",
    "\n",
    "    Returns:\n",
    "        str: reformatted medical report with base\n",
    "\n",
    "    \"\"\"\n",
    "    base_prompt = \"<s>[INST]<<SYS>>{system_prompt}<</SYS>>\\n\\n{instruction}{input}[/INST]\\nThe type of multiple sclerosis stated in the german medical report is: \"\n",
    "    system_prompt =  (\"\\nYou are a helpful, respectful and honest assistant. Always answer as helpfully as possible, while being safe. \"\n",
    "                      \"Your answers should not include any harmful, unethical, racist, sexist, toxic, dangerous, or illegal content. \"\n",
    "                       \"Please ensure that your responses are socially unbiased and positive in nature.\\n\\nIf a question does not make \"\n",
    "                        \"any sense, or is not factually coherent, explain why instead of answering something not correct. If you don’t \"\n",
    "                        \"know the answer to a question, please don’t share false information.\\n\"\n",
    "                        )\n",
    "    \n",
    "    input = base_prompt.format(system_prompt = system_prompt, instruction = task_instruction, input =  report)\n",
    "\n",
    "    return input\n",
    "    \n",
    "def zero_shot_instruction(report:str, task_instruction)->str:\n",
    "    \"\"\"Zero-shot instruction for the MS extraction task\n",
    "    \n",
    "    Args:\n",
    "        report (str): medical report\n",
    "        task_instruction (str): instruction for the task\n",
    "        \n",
    "        Returns:\n",
    "            str: reformatted medical report with instruction\n",
    "            \n",
    "            \"\"\"\n",
    "    instruction_base_prompt = \"<s>[INST]\\n### Instruction:\\n{instruction}\\n\\n### Input:\\n{input}[/INST]\\n\\n### Output:\\n\"\n",
    "    input = instruction_base_prompt.format(instruction = task_instruction, input =  report)\n",
    "\n",
    "    return input\n",
    "\n",
    "\n",
    "\n",
    "def few_shot_base(report:str, task_instruction:str, examples:list[dict])->str:\n",
    "    \"\"\"Few Shot base for the MS extraction task\n",
    "\n",
    "    Args:\n",
    "        report (str): medical report\n",
    "        task_instruction (str): instruction for the task\n",
    "        examples (list[dict]): list of examples. Each example is a dict with keys text, labels.\n",
    "\n",
    "    Returns:\n",
    "        str: reformatted medical report with base\n",
    "\n",
    "    \"\"\"\n",
    "    base_prompt = (\"<s>[INST]<<SYS>>{system_prompt}<</SYS>>\\n\\n{instruction} \"\n",
    "                   \"Here is an example to help you understand the task: {examples} \\n\"\n",
    "                   \"Please provide your answer for the following Report:\\n{input}[/INST]\\nDiagnosis:\\n\"\n",
    "                   )\n",
    "    \n",
    "    system_prompt = (\n",
    "    \"\\nYou are a helpful, respectful and honest assistant. Always answer as helpfully as possible, while being safe. \"\n",
    "    \"Your answers should not include any harmful, unethical, racist, sexist, toxic, dangerous, or illegal content. \"\n",
    "    \"Please ensure that your responses are socially unbiased and positive in nature.\\n\\nIf a question does not make \"\n",
    "    \"any sense, or is not factually coherent, explain why instead of answering something not correct. If you don’t \"\n",
    "    \"know the answer to a question, please don’t share false information.\\n\"\n",
    "    )\n",
    "    insert_examples = \"\"\n",
    "    for example in examples:\n",
    "        text = example[\"text\"]\n",
    "        label = example[\"labels\"]\n",
    "        insert_examples += f\"Report:\\n{text}\\nLabel:\\n{label}\\n\"\n",
    "    \n",
    "    input = base_prompt.format(system_prompt = system_prompt, instruction = task_instruction, examples = insert_examples, input = report)\n",
    "    return input\n"
   ]
  },
  {
   "cell_type": "code",
   "execution_count": 35,
   "metadata": {},
   "outputs": [],
   "source": [
    "test = kisim_medications[\"medication_name\"].iloc[0].split(\"\\n\")[0]\n",
    "examples = [{\"text\": test, \"labels\" : '{name: \"Medrol\", unit: \"mg\", amount: 32, morning: 1, noon: 0, evening: 0, night: 0}'}]\n",
    "input = few_shot_base(test, task_instruction, examples)"
   ]
  },
  {
   "cell_type": "code",
   "execution_count": 18,
   "metadata": {},
   "outputs": [],
   "source": [
    "kisim_medications = pd.read_csv(os.path.join(paths.DATA_PATH_SEANTIS, \"kisim_medication.csv\"))"
   ]
  },
  {
   "cell_type": "code",
   "execution_count": 20,
   "metadata": {},
   "outputs": [
    {
     "data": {
      "text/plain": [
       "'<s>[INST]\\n### Instruction:\\nYour task is to extract specific information from medication descriptions. The information to extract includes the medication name, dose, dose unit, and the amount of doses that have to be taken at morning-noon-evening-night. The Medication name can consist of multiple words with whitespaces and should be returned as a single string. The dose is one of the following: mg, ug, g. The dose unit is a float. The amount of intake doses can be given in two ways: If The amount of doses is given in the format of float-float-float, it corresponds to morning-noon-evening and night should be set to 0. If it is given in the form float-float-float-float it corresponds to morning-noon-evening-night. Your output should follow this specific json format: {name: str:[MedicationName], unit: str:[MedicationUnit], amount: float: [MedicationAmount], morning: float[MorningIntake], noon: float[NoonIntake], evening: float[EveningIntake], night: float[NightIntake]\\n\\n### Input:\\n1 OP Medrol 32 mg \\t1-0-0[/INST]\\n\\n### Output:\\n'"
      ]
     },
     "execution_count": 20,
     "metadata": {},
     "output_type": "execute_result"
    }
   ],
   "source": [
    "input = zero_shot_instruction(test, task_instruction)\n",
    "input"
   ]
  },
  {
   "cell_type": "code",
   "execution_count": null,
   "metadata": {},
   "outputs": [
    {
     "name": "stdout",
     "output_type": "stream",
     "text": [
      "{\n",
      "\"name\": \"Medrol\",\n",
      "\"unit\": \"mg\",\n",
      "\"amount\": 32,\n",
      "\"morning"
     ]
    }
   ],
   "source": [
    "for word in generator.stream(input):\n",
    "    print(word, end = \"\")"
   ]
  }
 ],
 "metadata": {
  "kernelspec": {
   "display_name": "Python 3 (ipykernel)",
   "language": "python",
   "name": "python3"
  },
  "language_info": {
   "codemirror_mode": {
    "name": "ipython",
    "version": 3
   },
   "file_extension": ".py",
   "mimetype": "text/x-python",
   "name": "python",
   "nbconvert_exporter": "python",
   "pygments_lexer": "ipython3",
   "version": "3.11.4"
  }
 },
 "nbformat": 4,
 "nbformat_minor": 4
}

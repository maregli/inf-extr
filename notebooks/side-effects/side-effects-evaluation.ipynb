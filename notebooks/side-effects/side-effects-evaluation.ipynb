{
 "cells": [
  {
   "cell_type": "code",
   "execution_count": 95,
   "metadata": {},
   "outputs": [],
   "source": [
    "import sys\n",
    "import os\n",
    "sys.path.append(os.getcwd()+\"/../..\")\n",
    "from src import paths\n",
    "\n",
    "from src.utils import get_default_pydantic_model, SideEffect, SideEffectList\n",
    "\n",
    "import pandas as pd\n",
    "import torch\n",
    "\n",
    "import json\n",
    "\n",
    "import numpy as np\n",
    "\n",
    "from bert_score import BERTScorer\n",
    "\n",
    "from transformers import BertModel, BertTokenizer\n",
    "from sklearn.metrics.pairwise import cosine_similarity"
   ]
  },
  {
   "cell_type": "code",
   "execution_count": 96,
   "metadata": {},
   "outputs": [
    {
     "name": "stderr",
     "output_type": "stream",
     "text": [
      "Some weights of BertModel were not initialized from the model checkpoint at /mnt/c/Users/marc_/OneDrive/ETH/MSC_Thesis/inf-extr/resources/models/medbert-512 and are newly initialized: ['bert.pooler.dense.bias', 'bert.pooler.dense.weight']\n",
      "You should probably TRAIN this model on a down-stream task to be able to use it for predictions and inference.\n"
     ]
    }
   ],
   "source": [
    "with open(paths.DATA_PATH_PREPROCESSED/\"side-effects/examples.json\", \"r\") as f:\n",
    "        examples = json.load(f)\n",
    "\n",
    "# Load examples to check if model was confused\n",
    "examples = [json.loads(e[\"labels\"]) for e in examples]\n",
    "medication_side_effects = []\n",
    "for item in examples:\n",
    "    for med_effect_dict in item:\n",
    "        medication_side_effects.append((med_effect_dict['medication'].lower(), med_effect_dict['side_effect'].lower()))\n",
    "\n",
    "medication_side_effects = list(set(medication_side_effects) - set((\"unknown\", \"unknown\")))\n",
    "\n",
    "device = torch.device(\"cuda\" if torch.cuda.is_available() else \"cpu\")\n",
    "\n",
    "default_model = get_default_pydantic_model(\"side_effects\")\n",
    "model = BertModel.from_pretrained(os.path.join(paths.MODEL_PATH, \"medbert-512\")).to(device)\n",
    "tokenizer = BertTokenizer.from_pretrained(os.path.join(paths.MODEL_PATH, \"medbert-512\"))\n",
    "\n",
    "# scorer = BERTScorer(model_type=os.path.join(paths.MODEL_PATH, \"medbert-512\"), num_layers=4)"
   ]
  },
  {
   "cell_type": "code",
   "execution_count": 97,
   "metadata": {},
   "outputs": [],
   "source": [
    "def high_cosine_similarity(ground_truth:str, prediction:str, model:BertModel, tokenizer:BertTokenizer, threshhold:float = 0.7):\n",
    "    with torch.no_grad():\n",
    "        ground_truth = model(**tokenizer(ground_truth, return_tensors=\"pt\", padding=True, truncation=True, max_length=512).to(model.device))[\"last_hidden_state\"].to(\"cpu\")\n",
    "        prediction = model(**tokenizer(prediction, return_tensors=\"pt\", padding=True, truncation=True, max_length=512).to(model.device))[\"last_hidden_state\"].to(\"cpu\")\n",
    "        ground_truth = ground_truth.mean(dim=1)\n",
    "        prediction = prediction.mean(dim=1)\n",
    "        return cosine_similarity(ground_truth, prediction).item() > threshhold\n"
   ]
  },
  {
   "cell_type": "code",
   "execution_count": 98,
   "metadata": {},
   "outputs": [],
   "source": [
    "def preprocess_group(grouped_df: pd.DataFrame)->pd.DataFrame:\n",
    "    \"\"\"\n",
    "    Preprocess a group of rows (grouped by obs index) from the dataframe. The preprocessing consists of:\n",
    "    - Fusing all the side effects per medication with \",\" (so only one row per medication is left)\n",
    "    - Replacing the medication name and side effects with \"unknown\" if the group has the same medication and side effects as example, which is a sign that the model was confused.\n",
    "\n",
    "    Args:\n",
    "        grouped_df (pd.DataFrame): A group of rows from the dataframe.\n",
    "\n",
    "    Returns:\n",
    "        pd.DataFrame: A dataframe with the group preprocessed.\n",
    "    \"\"\"\n",
    "\n",
    "    df = []\n",
    "    duplicated = False\n",
    "\n",
    "    # If the group has the same medication and side effects as example just put \"unknown\" for both, as model was confused\n",
    "    duplicate_count = 0\n",
    "    for med, side_effect in medication_side_effects:\n",
    "         for index, row in grouped_df.iterrows():\n",
    "            if row[\"medication\"].lower() == med and row[\"side_effect\"].lower() == side_effect:\n",
    "                duplicate_count += 1\n",
    "    # if duplicate_count >= 3:\n",
    "    #     # print(\"Changed at index: \", grouped_df[\"index\"].iloc[0])\n",
    "    #     grouped_df = pd.DataFrame({\"medication\": \"unknown\", \"side_effect\": \"unknown\", \"text\": grouped_df[\"text\"].iloc[0], \"original_text\": grouped_df[\"original_text\"].iloc[0], \"index\": grouped_df[\"index\"].iloc[0]}, index=[0])\n",
    "    if duplicate_count >=1:\n",
    "        duplicated = True\n",
    "    \n",
    "    # group by medication name\n",
    "    for med, group in grouped_df.groupby(\"medication\"):\n",
    "       # Fuse all the side effects with \",\"\n",
    "        side_effects = group[\"side_effect\"].str.cat(sep=\",\")\n",
    "        text = group[\"text\"].iloc[0]\n",
    "        original_text = group[\"original_text\"].iloc[0]\n",
    "        index = group[\"index\"].iloc[0]\n",
    "        # Create a new row\n",
    "        new_row = {\"medication\": med, \"side_effect\": side_effects, \"text\": text, \"original_text\": original_text, \"index\": index, \"duplicated\": duplicated, \"successful\": group[\"successful\"].iloc[0]}\n",
    "        # Append the new row to the dataframe\n",
    "        df.append(new_row)\n",
    "\n",
    "    return pd.DataFrame(df)\n",
    "\n",
    "def prepare_results(path: str)->pd.DataFrame:\n",
    "    \"\"\" \n",
    "    Prepare the results from the model to be compared with the labels. The preprocessing consists of:\n",
    "    - Fixing the model answers, replacing them with the default model answer if they are invalid (in regards to JSON structure).\n",
    "    - Grouping the results by index and preprocessing the group. (See preprocess_group() function for more details.)\n",
    "    - Lowercasing and converting everything to string.\n",
    "\n",
    "    Args:\n",
    "        path (str): Path to the results file.\n",
    "        \n",
    "    Returns:\n",
    "        pd.DataFrame: A dataframe with the results preprocessed.\n",
    "    \"\"\"\n",
    "    results = torch.load(path)\n",
    "    df = pd.DataFrame(results)\n",
    "\n",
    "    df[\"successful\"] = True\n",
    "\n",
    "    # Fix model_answers\n",
    "    for idx, row in df.iterrows():\n",
    "        try:\n",
    "            # Does model answer have key \"side_effects\"?\n",
    "            answer = json.loads(row[\"model_answers\"])\n",
    "\n",
    "            # Is answer a valid SideEffectList?\n",
    "            SideEffectList(**answer)\n",
    "\n",
    "            # Is the element an empty list?\n",
    "            if len(answer[\"side_effects\"]) == 0:\n",
    "                raise ValueError(\"Empty list\")\n",
    "            \n",
    "            # Are all the elements valid SideEffect?\n",
    "            for med in answer[\"side_effects\"]:\n",
    "                SideEffect(**med)\n",
    "            \n",
    "            df.at[idx, \"model_answers\"] = json.dumps(answer)\n",
    "\n",
    "            \n",
    "        except:\n",
    "            df.at[idx, \"model_answers\"] = default_model.model_dump_json()\n",
    "            # print(f\"Error at index {idx}\")\n",
    "            df.at[idx, \"successful\"] = False\n",
    "    \n",
    "    dfs = []\n",
    "    for idx, row in df.iterrows():\n",
    "        row = row.to_dict()\n",
    "        answer = json.loads(row[\"model_answers\"])\n",
    "        medications = answer[\"side_effects\"]\n",
    "        for med in medications:\n",
    "            med[\"text\"] = row.get(\"text\", \"\")\n",
    "            med[\"original_text\"] = row.get(\"original_text\", \"\")\n",
    "            med[\"index\"] = row.get(\"index\", \"\")\n",
    "            med[\"successful\"] = row.get(\"successful\", \"\")\n",
    "            dfs.append((med))\n",
    "\n",
    "    res = pd.DataFrame(dfs)\n",
    "\n",
    "    res = res.sort_values(by=\"index\")\n",
    "\n",
    "    # Group by index and preprocess\n",
    "    _dfs = []\n",
    "\n",
    "    for index, group in res.groupby(\"index\"):\n",
    "        _dfs.append(preprocess_group(group))\n",
    "\n",
    "    res = pd.concat(_dfs)\n",
    "\n",
    "    # Convert everything to string and lowercase\n",
    "    res = res.map(lambda x: str(x).lower())\n",
    "\n",
    "    return res\n",
    "\n",
    "def prepare_labels(path: str)->pd.DataFrame:\n",
    "    \"\"\"\n",
    "    Prepare the labels to be compared with the results. The preprocessing consists of:\n",
    "    - Lowercasing and converting everything to string.\n",
    "\n",
    "    Args:\n",
    "        path (str): Path to the labels file.\n",
    "\n",
    "    Returns:\n",
    "\n",
    "        pd.DataFrame: A dataframe with the labels preprocessed.\n",
    "    \"\"\"\n",
    "    labels = pd.read_excel(path) \n",
    "\n",
    "    # Convert everything to string and lowercase\n",
    "    labels = labels.map(lambda x: str(x).lower())\n",
    "\n",
    "    return labels\n",
    "\n",
    "def calculate_precision_recall_f1(ground_truth:list, predicted:list)->tuple[float, float, float]:\n",
    "    \"\"\"\n",
    "    Calculate precision and recall from two lists, allowing for partial string matches.\n",
    "    A string does not have to be exactly the same to be considered a match, it is enough if one string is a substring of the other.\n",
    "    This function is used to evaluate the medication names.\n",
    "\n",
    "    Args:\n",
    "        ground_truth (list): List of ground truth medication names.\n",
    "        predicted (list): List of predicted medication names.\n",
    "\n",
    "    Returns:\n",
    "        float: Precision\n",
    "        float: Recall\n",
    "        float: F1 Score\n",
    "    \"\"\"\n",
    "    # Convert lists to sets for easier comparison\n",
    "    ground_truth_set = set(ground_truth)\n",
    "    predicted_set = set(predicted)\n",
    "\n",
    "    # Initialize counters\n",
    "    true_positives = 0\n",
    "    false_positives = 0\n",
    "\n",
    "    # Calculate True Positives and False Positives\n",
    "    for pred_med in predicted_set:\n",
    "        found_match = False\n",
    "        for truth_med in ground_truth_set:\n",
    "            if pred_med in truth_med or truth_med in pred_med:\n",
    "                true_positives += 1\n",
    "                found_match = True\n",
    "                break\n",
    "        if not found_match:\n",
    "            false_positives += 1\n",
    "\n",
    "    # Calculate False Negatives\n",
    "    false_negatives = len(ground_truth_set) - true_positives\n",
    "\n",
    "    # Calculate Precision\n",
    "    if true_positives + false_positives == 0:\n",
    "        precision = 0  # Handle division by zero\n",
    "    else:\n",
    "        precision = true_positives / (true_positives + false_positives)\n",
    "\n",
    "    # Calculate Recall\n",
    "    if true_positives + false_negatives == 0:\n",
    "        recall = 0  # Handle division by zero\n",
    "    else:\n",
    "        recall = true_positives / (true_positives + false_negatives)\n",
    "\n",
    "    # Calculate F1 Score\n",
    "    if precision + recall == 0:\n",
    "        f1 = 0\n",
    "    else:\n",
    "        f1 = 2 * (precision * recall) / (precision + recall)\n",
    "\n",
    "    return precision, recall, f1\n",
    "\n",
    "    # texts_gt = \"\"\n",
    "    # texts_pred = \"\"\n",
    "\n",
    "    # # Reorder the lists with approximate matching\n",
    "    # for pred in predicted:\n",
    "    #     for gt in ground_truth:\n",
    "    #         if pred in gt or gt in pred:\n",
    "    #             texts_gt += gt + \" \"\n",
    "    #             texts_pred += pred + \" \"\n",
    "    #             ground_truth.remove(gt)\n",
    "    #             predicted.remove(pred)\n",
    "    #             break\n",
    "    \n",
    "    # # Leftover ground truth and predictions\n",
    "    # texts_gt += \" \".join(ground_truth)\n",
    "    # texts_pred += \" \".join(predicted)\n",
    "\n",
    "    # # Calculate bert score\n",
    "    # precision, recall, f1 = scorer.score([texts_pred], [texts_gt])\n",
    "\n",
    "    # return precision.item(), recall.item(), f1.item()\n",
    "\n",
    "\n",
    "def calculate_bert_score(ground_truth:list[dict], predicted:list[dict], model:BertModel, tokenizer:BertTokenizer, threshold:float=0.9)->tuple[float, float, float]:\n",
    "    \"\"\" \n",
    "    Calculate bert score from two lists of dictionaries. This function is used to evaluate the side effects.\n",
    "\n",
    "    Args:\n",
    "        ground_truth (list): List of ground truth medication names and their side effect.\n",
    "        predicted (list): List of predicted medication names and their side effect.\n",
    "        model (BertModel): BertModel object to calculate the cosine similarity.\n",
    "        tokenizer (BertTokenizer): BertTokenizer object to tokenize the text.\n",
    "    \"\"\"\n",
    "\n",
    "    # Match the prediction to the ground truth with medication name\n",
    "    tp = 0\n",
    "    fn = 0\n",
    "    fp = 0\n",
    "\n",
    "    for pred_id, pred in enumerate(predicted):\n",
    "        for gt_id, gt in enumerate(ground_truth):\n",
    "            if pred[\"medication\"] in gt[\"medication\"] or gt[\"medication\"] in pred[\"medication\"]:\n",
    "                if high_cosine_similarity([pred[\"side_effect\"]], [gt[\"side_effect\"]], model, tokenizer, threshold):\n",
    "                    tp += 1\n",
    "                else:\n",
    "                    fp += 1\n",
    "                    fn += 1\n",
    "                # Remove the ground truth and prediction from the list\n",
    "                ground_truth.pop(gt_id)\n",
    "                predicted.pop(pred_id)\n",
    "\n",
    "    # For remaining ground truth\n",
    "    fn += len(ground_truth)\n",
    "    fp += len(predicted)\n",
    "\n",
    "    # Calculate Precision\n",
    "    if tp + fp == 0:\n",
    "        precision = 0\n",
    "    else:\n",
    "        precision = tp / (tp + fp)\n",
    "\n",
    "    # Calculate Recall\n",
    "    if tp + fn == 0:\n",
    "        recall = 0\n",
    "    else:\n",
    "        recall = tp / (tp + fn)\n",
    "\n",
    "    # Calculate F1 Score\n",
    "    if precision + recall == 0:\n",
    "        f1 = 0\n",
    "    else:\n",
    "        f1 = 2 * (precision * recall) / (precision + recall)\n",
    "\n",
    "    return precision, recall, f1\n",
    "\n",
    "\n",
    "def create_metrics_df(labels_path:str, results_path:str, *args, **kwargs)->pd.DataFrame:\n",
    "    \"\"\"\n",
    "    Create a dataframe with the metrics for each index. The metrics are:\n",
    "    - Precision, Recall and F1 score for medication names\n",
    "    - Precision, Recall and F1 score for side effects\n",
    "\n",
    "    Args:\n",
    "        labels_path (str): Path to the labels file.\n",
    "        results_path (str): Path to the results file.\n",
    "\n",
    "    Returns:\n",
    "        pd.DataFrame: A dataframe with the metrics for each index.\n",
    "    \"\"\"\n",
    "    \n",
    "    labels = prepare_labels(labels_path)\n",
    "    res = prepare_results(results_path)\n",
    "\n",
    "    dfs = []\n",
    "    for index, group in res.groupby(\"index\"):\n",
    "        text = group[\"text\"].iloc[0]\n",
    "        original_text = group[\"original_text\"].iloc[0]\n",
    "        index = group[\"index\"].iloc[0]\n",
    "        preds_med = group[\"medication\"].to_list()\n",
    "        preds_se = group[\"side_effect\"].to_list()\n",
    "        labels_med = labels[labels[\"index\"] == index][\"medication\"].to_list()\n",
    "        labels_se = labels[labels[\"index\"] == index][\"side_effect\"].to_list()\n",
    "\n",
    "        # Side effects\n",
    "        ground_truth = labels[labels[\"index\"] == index].to_dict(orient=\"records\")\n",
    "        predicted = group.to_dict(orient=\"records\")\n",
    "        model = kwargs.get(\"model\")\n",
    "        tokenizer = kwargs.get(\"tokenizer\")\n",
    "        threshold = kwargs.get(\"threshold\", 0.9)\n",
    "        assert model is not None and tokenizer is not None, \"Model and tokenizer must be provided as keyword arguments for side effects evaluation.\"\n",
    "        side_effects_precision, side_effects_recall, side_effects_f1 = calculate_bert_score(ground_truth, predicted, model, tokenizer, threshold)\n",
    "\n",
    "        # Medication\n",
    "        ground_truth = labels[labels[\"index\"] == index][\"medication\"].to_list()\n",
    "        predicted = group[\"medication\"].to_list()\n",
    "        medication_precision, medication_recall, medication_f1 = calculate_precision_recall_f1(ground_truth, predicted)\n",
    "\n",
    "        # Check if duplicated is the same for all in group\n",
    "        assert len(group[\"duplicated\"].unique()) == 1\n",
    "        assert len(group[\"successful\"].unique()) == 1\n",
    "\n",
    "        if group[\"duplicated\"].iloc[0] == \"false\":\n",
    "            duplicated = False\n",
    "        else:\n",
    "            duplicated = True\n",
    "        \n",
    "        if group[\"successful\"].iloc[0] == \"false\":\n",
    "            successful = False\n",
    "        else:\n",
    "            successful = True\n",
    "\n",
    "        dfs.append({\"text\": text, \n",
    "                    \"original_text\": original_text, \n",
    "                    \"index\": index, \n",
    "                    \"preds_med\": preds_med,\n",
    "                    \"labels_med\": labels_med,\n",
    "                    \"preds_se\": preds_se,\n",
    "                    \"labels_se\": labels_se,\n",
    "                    \"duplicated\": duplicated,\n",
    "                    \"successful\": successful,\n",
    "                    \"side_effects_precision\": side_effects_precision, \"side_effects_recall\": side_effects_recall, \"side_effects_f1\": side_effects_f1, \"medication_precision\": medication_precision, \"medication_recall\": medication_recall, \"medication_f1\": medication_f1})\n",
    "\n",
    "    return pd.DataFrame(dfs)\n",
    "\n",
    "def create_agg_metrics_df(labels_path:str, results_path:str, *args, **kwargs)->pd.DataFrame:\n",
    "    \"\"\"\n",
    "    Create a dataframe with the aggregated metrics for the whole dataset. The metrics are:\n",
    "    - Precision, Recall and F1 score for medication names\n",
    "    - Precision, Recall and F1 score for side effects\n",
    "\n",
    "    Args:\n",
    "        labels_path (str): Path to the labels file.\n",
    "        results_path (str): Path to the results file.\n",
    "        scorer (BERTScorer): BERTScorer object to score the similarity between the side effects.\n",
    "\n",
    "    Returns:\n",
    "        pd.DataFrame: A dataframe with the aggregated metrics for the whole dataset.\n",
    "    \"\"\"\n",
    "    metrics = create_metrics_df(labels_path, results_path, *args, **kwargs)\n",
    "\n",
    "    # Calculate the average of the metrics\n",
    "    agg_metrics = metrics.agg({\"side_effects_precision\": \"mean\", \"side_effects_recall\": \"mean\", \"side_effects_f1\": \"mean\", \"medication_precision\": \"mean\", \"medication_recall\": \"mean\", \"medication_f1\": \"mean\", \"duplicated\": \"sum\", \"successful\": \"sum\"})\n",
    "\n",
    "    return agg_metrics"
   ]
  },
  {
   "cell_type": "code",
   "execution_count": 99,
   "metadata": {},
   "outputs": [],
   "source": [
    "def summarize(paths:list[str], labels:str, *args, **kwargs)->pd.DataFrame:\n",
    "    \"\"\"\n",
    "    Summarize the results from the model. The summary consists of:\n",
    "    - Precision, Recall and F1 score for medication names\n",
    "    - Precision, Recall and F1 score for side effects\n",
    "    - Aggregated metrics for the whole dataset\n",
    "\n",
    "    Args:\n",
    "        paths (list): List of paths to the results files.\n",
    "        labels (str): Path to the labels file.\n",
    "\n",
    "    Returns:\n",
    "        pd.DataFrame: A dataframe with the summary of the results.\n",
    "    \"\"\"\n",
    "    dfs = []\n",
    "    for path in paths:\n",
    "        metrics = create_agg_metrics_df(labels, path, *args, **kwargs)\n",
    "        path = str(path)\n",
    "        if path.endswith(\"rag.pt\"):\n",
    "            metrics[\"approach\"] = \"S2A-1\"\n",
    "        elif path.endswith(\"s2a.pt\"):\n",
    "            metrics[\"approach\"] = \"S2A-2\"\n",
    "        else:\n",
    "            metrics[\"approach\"] = \"Base\"\n",
    "        \n",
    "        if \"few_shot_vanilla\" in path:\n",
    "            metrics[\"strategy\"] = \"Few-Shot Base\"\n",
    "        elif \"few_shot_instruction\" in path:\n",
    "            metrics[\"strategy\"] = \"Few-Shot Instruction\"\n",
    "        elif \"zero_shot_vanilla\" in path:\n",
    "            metrics[\"strategy\"] = \"Zero-Shot Base\"\n",
    "        elif \"zero_shot_instruction\" in path:\n",
    "            metrics[\"strategy\"] = \"Zero-Shot Instruction\"\n",
    "        else:\n",
    "            ValueError(\"Unknown strategy\")\n",
    "        dfs.append(metrics)\n",
    "    return pd.DataFrame(dfs)"
   ]
  },
  {
   "cell_type": "code",
   "execution_count": 100,
   "metadata": {},
   "outputs": [],
   "source": [
    "file_paths = [paths.RESULTS_PATH/\"side-effects/side-effects_outlines_Llama2-MedTuned-13b_4bit_zero_shot_vanilla.pt\",\n",
    "              paths.RESULTS_PATH/\"side-effects/side-effects_outlines_Llama2-MedTuned-13b_4bit_zero_shot_instruction.pt\",\n",
    "              paths.RESULTS_PATH/\"side-effects/side-effects_outlines_Llama2-MedTuned-13b_4bit_few_shot_vanilla_10_examples.pt\",\n",
    "              paths.RESULTS_PATH/\"side-effects/side-effects_outlines_Llama2-MedTuned-13b_4bit_few_shot_instruction_10_examples.pt\",\n",
    "              paths.RESULTS_PATH/\"side-effects/side-effects_outlines_Llama2-MedTuned-13b_4bit_zero_shot_vanilla_rag.pt\",\n",
    "              paths.RESULTS_PATH/\"side-effects/side-effects_outlines_Llama2-MedTuned-13b_4bit_zero_shot_instruction_rag.pt\",\n",
    "              paths.RESULTS_PATH/\"side-effects/side-effects_outlines_Llama2-MedTuned-13b_4bit_few_shot_vanilla_10_examples_rag.pt\",\n",
    "              paths.RESULTS_PATH/\"side-effects/side-effects_outlines_Llama2-MedTuned-13b_4bit_few_shot_instruction_10_examples_rag.pt\",\n",
    "              paths.RESULTS_PATH/\"side-effects/side-effects_outlines_Llama2-MedTuned-13b_4bit_zero_shot_vanilla_s2a.pt\",\n",
    "              paths.RESULTS_PATH/\"side-effects/side-effects_outlines_Llama2-MedTuned-13b_4bit_zero_shot_instruction_s2a.pt\",\n",
    "              paths.RESULTS_PATH/\"side-effects/side-effects_outlines_Llama2-MedTuned-13b_4bit_few_shot_vanilla_10_examples_s2a.pt\",\n",
    "              paths.RESULTS_PATH/\"side-effects/side-effects_outlines_Llama2-MedTuned-13b_4bit_few_shot_instruction_10_examples_s2a.pt\",]"
   ]
  },
  {
   "cell_type": "markdown",
   "metadata": {},
   "source": [
    "# 13B"
   ]
  },
  {
   "cell_type": "markdown",
   "metadata": {},
   "source": [
    "## Base"
   ]
  },
  {
   "cell_type": "code",
   "execution_count": 107,
   "metadata": {},
   "outputs": [
    {
     "data": {
      "text/plain": [
       "side_effects_precision     0.188633\n",
       "side_effects_recall        0.460000\n",
       "side_effects_f1            0.253973\n",
       "medication_precision       0.310531\n",
       "medication_recall          0.750000\n",
       "medication_f1              0.415100\n",
       "duplicated                11.000000\n",
       "successful                96.000000\n",
       "dtype: float64"
      ]
     },
     "execution_count": 107,
     "metadata": {},
     "output_type": "execute_result"
    }
   ],
   "source": [
    "# Zero Shot Vanilla\n",
    "create_agg_metrics_df(paths.RESULTS_PATH/\"side-effects/labels.xlsx\", paths.RESULTS_PATH/\"side-effects/side-effects_outlines_Llama2-MedTuned-13b_4bit_zero_shot_vanilla.pt\", model=model, tokenizer=tokenizer, threshold = 0.5)\n"
   ]
  },
  {
   "cell_type": "code",
   "execution_count": 108,
   "metadata": {},
   "outputs": [
    {
     "data": {
      "text/plain": [
       "side_effects_precision     0.291452\n",
       "side_effects_recall        0.576667\n",
       "side_effects_f1            0.361858\n",
       "medication_precision       0.427310\n",
       "medication_recall          0.881667\n",
       "medication_f1              0.538481\n",
       "duplicated                13.000000\n",
       "successful                94.000000\n",
       "dtype: float64"
      ]
     },
     "execution_count": 108,
     "metadata": {},
     "output_type": "execute_result"
    }
   ],
   "source": [
    "# Zero Shot instruction\n",
    "create_agg_metrics_df(paths.RESULTS_PATH/\"side-effects/labels.xlsx\", paths.RESULTS_PATH/\"side-effects/side-effects_outlines_Llama2-MedTuned-13b_4bit_zero_shot_instruction.pt\", model=model, tokenizer=tokenizer, threshold = 0.5)"
   ]
  },
  {
   "cell_type": "code",
   "execution_count": 109,
   "metadata": {},
   "outputs": [
    {
     "data": {
      "text/plain": [
       "side_effects_precision     0.359897\n",
       "side_effects_recall        0.586667\n",
       "side_effects_f1            0.420048\n",
       "medication_precision       0.435992\n",
       "medication_recall          0.725000\n",
       "medication_f1              0.509984\n",
       "duplicated                41.000000\n",
       "successful                95.000000\n",
       "dtype: float64"
      ]
     },
     "execution_count": 109,
     "metadata": {},
     "output_type": "execute_result"
    }
   ],
   "source": [
    "# Few Shot Vanilla\n",
    "create_agg_metrics_df(paths.RESULTS_PATH/\"side-effects/labels.xlsx\", paths.RESULTS_PATH/\"side-effects/side-effects_outlines_Llama2-MedTuned-13b_4bit_few_shot_vanilla_10_examples.pt\", model=model, tokenizer=tokenizer, threshold = 0.5)"
   ]
  },
  {
   "cell_type": "code",
   "execution_count": 110,
   "metadata": {},
   "outputs": [
    {
     "data": {
      "text/plain": [
       "side_effects_precision      0.343980\n",
       "side_effects_recall         0.656667\n",
       "side_effects_f1             0.421826\n",
       "medication_precision        0.432687\n",
       "medication_recall           0.845000\n",
       "medication_f1               0.532716\n",
       "duplicated                 41.000000\n",
       "successful                100.000000\n",
       "dtype: float64"
      ]
     },
     "execution_count": 110,
     "metadata": {},
     "output_type": "execute_result"
    }
   ],
   "source": [
    "create_agg_metrics_df(paths.RESULTS_PATH/\"side-effects/labels.xlsx\", paths.RESULTS_PATH/\"side-effects/side-effects_outlines_Llama2-MedTuned-13b_4bit_few_shot_instruction_10_examples.pt\", model=model, tokenizer=tokenizer, threshold = 0.5)"
   ]
  },
  {
   "cell_type": "markdown",
   "metadata": {},
   "source": [
    "## RAG"
   ]
  },
  {
   "cell_type": "code",
   "execution_count": 111,
   "metadata": {},
   "outputs": [
    {
     "data": {
      "text/plain": [
       "side_effects_precision     0.289988\n",
       "side_effects_recall        0.530000\n",
       "side_effects_f1            0.346468\n",
       "medication_precision       0.401992\n",
       "medication_recall          0.778333\n",
       "medication_f1              0.490021\n",
       "duplicated                24.000000\n",
       "successful                99.000000\n",
       "dtype: float64"
      ]
     },
     "execution_count": 111,
     "metadata": {},
     "output_type": "execute_result"
    }
   ],
   "source": [
    "# Zero Shot Vanilla\n",
    "create_agg_metrics_df(paths.RESULTS_PATH/\"side-effects/labels.xlsx\", paths.RESULTS_PATH/\"side-effects/side-effects_outlines_Llama2-MedTuned-13b_4bit_zero_shot_vanilla_rag.pt\", model=model, tokenizer=tokenizer, threshold = 0.5)\n"
   ]
  },
  {
   "cell_type": "code",
   "execution_count": 112,
   "metadata": {},
   "outputs": [
    {
     "data": {
      "text/plain": [
       "side_effects_precision     0.313845\n",
       "side_effects_recall        0.540000\n",
       "side_effects_f1            0.369103\n",
       "medication_precision       0.422183\n",
       "medication_recall          0.768333\n",
       "medication_f1              0.506132\n",
       "duplicated                25.000000\n",
       "successful                99.000000\n",
       "dtype: float64"
      ]
     },
     "execution_count": 112,
     "metadata": {},
     "output_type": "execute_result"
    }
   ],
   "source": [
    "# Zero Shot instruction\n",
    "create_agg_metrics_df(paths.RESULTS_PATH/\"side-effects/labels.xlsx\", paths.RESULTS_PATH/\"side-effects/side-effects_outlines_Llama2-MedTuned-13b_4bit_zero_shot_instruction_rag.pt\", model=model, tokenizer=tokenizer, threshold = 0.5)\n"
   ]
  },
  {
   "cell_type": "code",
   "execution_count": 113,
   "metadata": {},
   "outputs": [
    {
     "data": {
      "text/plain": [
       "side_effects_precision     0.366198\n",
       "side_effects_recall        0.538333\n",
       "side_effects_f1            0.409179\n",
       "medication_precision       0.429722\n",
       "medication_recall          0.680000\n",
       "medication_f1              0.489893\n",
       "duplicated                50.000000\n",
       "successful                96.000000\n",
       "dtype: float64"
      ]
     },
     "execution_count": 113,
     "metadata": {},
     "output_type": "execute_result"
    }
   ],
   "source": [
    "# Few Shot Vanilla\n",
    "create_agg_metrics_df(paths.RESULTS_PATH/\"side-effects/labels.xlsx\", paths.RESULTS_PATH/\"side-effects/side-effects_outlines_Llama2-MedTuned-13b_4bit_few_shot_vanilla_10_examples_rag.pt\", model=model, tokenizer=tokenizer, threshold = 0.5)"
   ]
  },
  {
   "cell_type": "code",
   "execution_count": 114,
   "metadata": {},
   "outputs": [
    {
     "data": {
      "text/plain": [
       "side_effects_precision     0.335929\n",
       "side_effects_recall        0.605000\n",
       "side_effects_f1            0.405405\n",
       "medication_precision       0.436619\n",
       "medication_recall          0.791667\n",
       "medication_f1              0.526373\n",
       "duplicated                46.000000\n",
       "successful                97.000000\n",
       "dtype: float64"
      ]
     },
     "execution_count": 114,
     "metadata": {},
     "output_type": "execute_result"
    }
   ],
   "source": [
    "create_agg_metrics_df(paths.RESULTS_PATH/\"side-effects/labels.xlsx\", paths.RESULTS_PATH/\"side-effects/side-effects_outlines_Llama2-MedTuned-13b_4bit_few_shot_instruction_10_examples_rag.pt\", model=model, tokenizer=tokenizer, threshold = 0.5)"
   ]
  },
  {
   "cell_type": "markdown",
   "metadata": {},
   "source": [
    "## S2A"
   ]
  },
  {
   "cell_type": "code",
   "execution_count": 115,
   "metadata": {},
   "outputs": [
    {
     "data": {
      "text/plain": [
       "side_effects_precision      0.546429\n",
       "side_effects_recall         0.586667\n",
       "side_effects_f1             0.554500\n",
       "medication_precision        0.806429\n",
       "medication_recall           0.870000\n",
       "medication_f1               0.820833\n",
       "duplicated                 12.000000\n",
       "successful                100.000000\n",
       "dtype: float64"
      ]
     },
     "execution_count": 115,
     "metadata": {},
     "output_type": "execute_result"
    }
   ],
   "source": [
    "# Zero Shot Vanilla\n",
    "create_agg_metrics_df(paths.RESULTS_PATH/\"side-effects/labels.xlsx\", paths.RESULTS_PATH/\"side-effects/side-effects_outlines_Llama2-MedTuned-13b_4bit_zero_shot_vanilla_s2a.pt\", model=model, tokenizer=tokenizer, threshold = 0.5)\n"
   ]
  },
  {
   "cell_type": "code",
   "execution_count": 116,
   "metadata": {},
   "outputs": [
    {
     "data": {
      "text/plain": [
       "side_effects_precision     0.697262\n",
       "side_effects_recall        0.731667\n",
       "side_effects_f1            0.706500\n",
       "medication_precision       0.953095\n",
       "medication_recall          0.990000\n",
       "medication_f1              0.961500\n",
       "duplicated                19.000000\n",
       "successful                92.000000\n",
       "dtype: float64"
      ]
     },
     "execution_count": 116,
     "metadata": {},
     "output_type": "execute_result"
    }
   ],
   "source": [
    "# Zero Shot instruction\n",
    "create_agg_metrics_df(paths.RESULTS_PATH/\"side-effects/labels.xlsx\", paths.RESULTS_PATH/\"side-effects/side-effects_outlines_Llama2-MedTuned-13b_4bit_zero_shot_instruction_s2a.pt\", model=model, tokenizer=tokenizer, threshold = 0.5)\n"
   ]
  },
  {
   "cell_type": "code",
   "execution_count": 117,
   "metadata": {},
   "outputs": [
    {
     "data": {
      "text/plain": [
       "side_effects_precision     0.719524\n",
       "side_effects_recall        0.728333\n",
       "side_effects_f1            0.710667\n",
       "medication_precision       0.882857\n",
       "medication_recall          0.900000\n",
       "medication_f1              0.874667\n",
       "duplicated                32.000000\n",
       "successful                97.000000\n",
       "dtype: float64"
      ]
     },
     "execution_count": 117,
     "metadata": {},
     "output_type": "execute_result"
    }
   ],
   "source": [
    "# Few Shot Vanilla\n",
    "create_agg_metrics_df(paths.RESULTS_PATH/\"side-effects/labels.xlsx\", paths.RESULTS_PATH/\"side-effects/side-effects_outlines_Llama2-MedTuned-13b_4bit_few_shot_vanilla_10_examples_s2a.pt\", model=model, tokenizer=tokenizer, threshold = 0.5)"
   ]
  },
  {
   "cell_type": "code",
   "execution_count": 118,
   "metadata": {},
   "outputs": [
    {
     "data": {
      "text/plain": [
       "side_effects_precision     0.671429\n",
       "side_effects_recall        0.713333\n",
       "side_effects_f1            0.670389\n",
       "medication_precision       0.851429\n",
       "medication_recall          0.900000\n",
       "medication_f1              0.851056\n",
       "duplicated                29.000000\n",
       "successful                98.000000\n",
       "dtype: float64"
      ]
     },
     "execution_count": 118,
     "metadata": {},
     "output_type": "execute_result"
    }
   ],
   "source": [
    "# Few Shot Instruction\n",
    "create_agg_metrics_df(paths.RESULTS_PATH/\"side-effects/labels.xlsx\", paths.RESULTS_PATH/\"side-effects/side-effects_outlines_Llama2-MedTuned-13b_4bit_few_shot_instruction_10_examples_s2a.pt\", model=model, tokenizer=tokenizer, threshold = 0.5)"
   ]
  },
  {
   "cell_type": "markdown",
   "metadata": {},
   "source": [
    "## Summary"
   ]
  },
  {
   "cell_type": "code",
   "execution_count": 119,
   "metadata": {},
   "outputs": [],
   "source": [
    "def latex_metrics(metrics:pd.DataFrame)->str:\n",
    "    \"\"\"\n",
    "    Convert the metrics dataframe to a latex table.\n",
    "    \"\"\"\n",
    "    dfs = []\n",
    "    for strat, group in metrics.groupby(\"strategy\"):\n",
    "        cols = [col for col in metrics.columns if col not in [\"strategy\", \"approach\"]]\n",
    "        df_base = group[group[\"approach\"] == \"Base\"][cols].reset_index(drop=True)\n",
    "        df_base.columns = [f\"{col}_base\" for col in cols]\n",
    "        df_rag = group[group[\"approach\"] == \"S2A-1\"][cols].reset_index(drop=True)\n",
    "        df_rag.columns = [f\"{col}_rag\" for col in cols]\n",
    "        df_s2a = group[group[\"approach\"] == \"S2A-2\"][cols].reset_index(drop=True)\n",
    "        df_s2a.columns = [f\"{col}_s2a\" for col in cols]\n",
    "        df = pd.concat([df_base, df_rag, df_s2a], axis=1)\n",
    "        df[\"strategy\"] = strat\n",
    "        dfs.append(df)\n",
    "\n",
    "    return pd.concat(dfs, axis=0)"
   ]
  },
  {
   "cell_type": "code",
   "execution_count": 120,
   "metadata": {},
   "outputs": [],
   "source": [
    "results = summarize(file_paths, paths.RESULTS_PATH/\"side-effects/labels.xlsx\", model=model, tokenizer=tokenizer, threshold = 0.5)\n",
    "results = results.round(2)\n",
    "# results.to_csv(paths.RESULTS_PATH/\"side-effects/summary13b.csv\", index=False)"
   ]
  },
  {
   "cell_type": "code",
   "execution_count": 121,
   "metadata": {},
   "outputs": [
    {
     "data": {
      "text/html": [
       "<div>\n",
       "<style scoped>\n",
       "    .dataframe tbody tr th:only-of-type {\n",
       "        vertical-align: middle;\n",
       "    }\n",
       "\n",
       "    .dataframe tbody tr th {\n",
       "        vertical-align: top;\n",
       "    }\n",
       "\n",
       "    .dataframe thead th {\n",
       "        text-align: right;\n",
       "    }\n",
       "</style>\n",
       "<table border=\"1\" class=\"dataframe\">\n",
       "  <thead>\n",
       "    <tr style=\"text-align: right;\">\n",
       "      <th></th>\n",
       "      <th>side_effects_precision</th>\n",
       "      <th>side_effects_recall</th>\n",
       "      <th>side_effects_f1</th>\n",
       "      <th>medication_precision</th>\n",
       "      <th>medication_recall</th>\n",
       "      <th>medication_f1</th>\n",
       "      <th>duplicated</th>\n",
       "      <th>successful</th>\n",
       "      <th>approach</th>\n",
       "      <th>strategy</th>\n",
       "    </tr>\n",
       "  </thead>\n",
       "  <tbody>\n",
       "    <tr>\n",
       "      <th>0</th>\n",
       "      <td>0.19</td>\n",
       "      <td>0.46</td>\n",
       "      <td>0.25</td>\n",
       "      <td>0.31</td>\n",
       "      <td>0.75</td>\n",
       "      <td>0.42</td>\n",
       "      <td>11.0</td>\n",
       "      <td>96.0</td>\n",
       "      <td>Base</td>\n",
       "      <td>Zero-Shot Base</td>\n",
       "    </tr>\n",
       "    <tr>\n",
       "      <th>1</th>\n",
       "      <td>0.29</td>\n",
       "      <td>0.58</td>\n",
       "      <td>0.36</td>\n",
       "      <td>0.43</td>\n",
       "      <td>0.88</td>\n",
       "      <td>0.54</td>\n",
       "      <td>13.0</td>\n",
       "      <td>94.0</td>\n",
       "      <td>Base</td>\n",
       "      <td>Zero-Shot Instruction</td>\n",
       "    </tr>\n",
       "    <tr>\n",
       "      <th>2</th>\n",
       "      <td>0.36</td>\n",
       "      <td>0.59</td>\n",
       "      <td>0.42</td>\n",
       "      <td>0.44</td>\n",
       "      <td>0.72</td>\n",
       "      <td>0.51</td>\n",
       "      <td>41.0</td>\n",
       "      <td>95.0</td>\n",
       "      <td>Base</td>\n",
       "      <td>Few-Shot Base</td>\n",
       "    </tr>\n",
       "    <tr>\n",
       "      <th>3</th>\n",
       "      <td>0.34</td>\n",
       "      <td>0.66</td>\n",
       "      <td>0.42</td>\n",
       "      <td>0.43</td>\n",
       "      <td>0.84</td>\n",
       "      <td>0.53</td>\n",
       "      <td>41.0</td>\n",
       "      <td>100.0</td>\n",
       "      <td>Base</td>\n",
       "      <td>Few-Shot Instruction</td>\n",
       "    </tr>\n",
       "    <tr>\n",
       "      <th>4</th>\n",
       "      <td>0.29</td>\n",
       "      <td>0.53</td>\n",
       "      <td>0.35</td>\n",
       "      <td>0.40</td>\n",
       "      <td>0.78</td>\n",
       "      <td>0.49</td>\n",
       "      <td>24.0</td>\n",
       "      <td>99.0</td>\n",
       "      <td>S2A-1</td>\n",
       "      <td>Zero-Shot Base</td>\n",
       "    </tr>\n",
       "    <tr>\n",
       "      <th>5</th>\n",
       "      <td>0.31</td>\n",
       "      <td>0.54</td>\n",
       "      <td>0.37</td>\n",
       "      <td>0.42</td>\n",
       "      <td>0.77</td>\n",
       "      <td>0.51</td>\n",
       "      <td>25.0</td>\n",
       "      <td>99.0</td>\n",
       "      <td>S2A-1</td>\n",
       "      <td>Zero-Shot Instruction</td>\n",
       "    </tr>\n",
       "    <tr>\n",
       "      <th>6</th>\n",
       "      <td>0.37</td>\n",
       "      <td>0.54</td>\n",
       "      <td>0.41</td>\n",
       "      <td>0.43</td>\n",
       "      <td>0.68</td>\n",
       "      <td>0.49</td>\n",
       "      <td>50.0</td>\n",
       "      <td>96.0</td>\n",
       "      <td>S2A-1</td>\n",
       "      <td>Few-Shot Base</td>\n",
       "    </tr>\n",
       "    <tr>\n",
       "      <th>7</th>\n",
       "      <td>0.34</td>\n",
       "      <td>0.60</td>\n",
       "      <td>0.41</td>\n",
       "      <td>0.44</td>\n",
       "      <td>0.79</td>\n",
       "      <td>0.53</td>\n",
       "      <td>46.0</td>\n",
       "      <td>97.0</td>\n",
       "      <td>S2A-1</td>\n",
       "      <td>Few-Shot Instruction</td>\n",
       "    </tr>\n",
       "    <tr>\n",
       "      <th>8</th>\n",
       "      <td>0.55</td>\n",
       "      <td>0.59</td>\n",
       "      <td>0.55</td>\n",
       "      <td>0.81</td>\n",
       "      <td>0.87</td>\n",
       "      <td>0.82</td>\n",
       "      <td>12.0</td>\n",
       "      <td>100.0</td>\n",
       "      <td>S2A-2</td>\n",
       "      <td>Zero-Shot Base</td>\n",
       "    </tr>\n",
       "    <tr>\n",
       "      <th>9</th>\n",
       "      <td>0.70</td>\n",
       "      <td>0.73</td>\n",
       "      <td>0.71</td>\n",
       "      <td>0.95</td>\n",
       "      <td>0.99</td>\n",
       "      <td>0.96</td>\n",
       "      <td>19.0</td>\n",
       "      <td>92.0</td>\n",
       "      <td>S2A-2</td>\n",
       "      <td>Zero-Shot Instruction</td>\n",
       "    </tr>\n",
       "    <tr>\n",
       "      <th>10</th>\n",
       "      <td>0.72</td>\n",
       "      <td>0.73</td>\n",
       "      <td>0.71</td>\n",
       "      <td>0.88</td>\n",
       "      <td>0.90</td>\n",
       "      <td>0.87</td>\n",
       "      <td>32.0</td>\n",
       "      <td>97.0</td>\n",
       "      <td>S2A-2</td>\n",
       "      <td>Few-Shot Base</td>\n",
       "    </tr>\n",
       "    <tr>\n",
       "      <th>11</th>\n",
       "      <td>0.67</td>\n",
       "      <td>0.71</td>\n",
       "      <td>0.67</td>\n",
       "      <td>0.85</td>\n",
       "      <td>0.90</td>\n",
       "      <td>0.85</td>\n",
       "      <td>29.0</td>\n",
       "      <td>98.0</td>\n",
       "      <td>S2A-2</td>\n",
       "      <td>Few-Shot Instruction</td>\n",
       "    </tr>\n",
       "  </tbody>\n",
       "</table>\n",
       "</div>"
      ],
      "text/plain": [
       "    side_effects_precision  side_effects_recall  side_effects_f1  \\\n",
       "0                     0.19                 0.46             0.25   \n",
       "1                     0.29                 0.58             0.36   \n",
       "2                     0.36                 0.59             0.42   \n",
       "3                     0.34                 0.66             0.42   \n",
       "4                     0.29                 0.53             0.35   \n",
       "5                     0.31                 0.54             0.37   \n",
       "6                     0.37                 0.54             0.41   \n",
       "7                     0.34                 0.60             0.41   \n",
       "8                     0.55                 0.59             0.55   \n",
       "9                     0.70                 0.73             0.71   \n",
       "10                    0.72                 0.73             0.71   \n",
       "11                    0.67                 0.71             0.67   \n",
       "\n",
       "    medication_precision  medication_recall  medication_f1  duplicated  \\\n",
       "0                   0.31               0.75           0.42        11.0   \n",
       "1                   0.43               0.88           0.54        13.0   \n",
       "2                   0.44               0.72           0.51        41.0   \n",
       "3                   0.43               0.84           0.53        41.0   \n",
       "4                   0.40               0.78           0.49        24.0   \n",
       "5                   0.42               0.77           0.51        25.0   \n",
       "6                   0.43               0.68           0.49        50.0   \n",
       "7                   0.44               0.79           0.53        46.0   \n",
       "8                   0.81               0.87           0.82        12.0   \n",
       "9                   0.95               0.99           0.96        19.0   \n",
       "10                  0.88               0.90           0.87        32.0   \n",
       "11                  0.85               0.90           0.85        29.0   \n",
       "\n",
       "    successful approach               strategy  \n",
       "0         96.0     Base         Zero-Shot Base  \n",
       "1         94.0     Base  Zero-Shot Instruction  \n",
       "2         95.0     Base          Few-Shot Base  \n",
       "3        100.0     Base   Few-Shot Instruction  \n",
       "4         99.0    S2A-1         Zero-Shot Base  \n",
       "5         99.0    S2A-1  Zero-Shot Instruction  \n",
       "6         96.0    S2A-1          Few-Shot Base  \n",
       "7         97.0    S2A-1   Few-Shot Instruction  \n",
       "8        100.0    S2A-2         Zero-Shot Base  \n",
       "9         92.0    S2A-2  Zero-Shot Instruction  \n",
       "10        97.0    S2A-2          Few-Shot Base  \n",
       "11        98.0    S2A-2   Few-Shot Instruction  "
      ]
     },
     "execution_count": 121,
     "metadata": {},
     "output_type": "execute_result"
    }
   ],
   "source": [
    "results"
   ]
  },
  {
   "cell_type": "code",
   "execution_count": null,
   "metadata": {},
   "outputs": [],
   "source": [
    "thesis13b = latex_metrics(results)\n",
    "thesis13b_precision = thesis13b[[\"strategy\"] + [col for col in thesis13b.columns if \"precision\" in col]]\n",
    "thesis13b_recall = thesis13b[[\"strategy\"] + [col for col in thesis13b.columns if \"recall\" in col]]\n",
    "thesis13b_f1 = thesis13b[[\"strategy\"] + [col for col in thesis13b.columns if \"f1\" in col]]\n",
    "\n",
    "# thesis13b_precision.to_csv(paths.RESULTS_PATH/\"side-effects/thesis13b_precision.csv\", index=False)\n",
    "# thesis13b_recall.to_csv(paths.RESULTS_PATH/\"side-effects/thesis13b_recall.csv\", index=False)\n",
    "# thesis13b_f1.to_csv(paths.RESULTS_PATH/\"side-effects/thesis13b_f1.csv\", index=False)"
   ]
  },
  {
   "cell_type": "markdown",
   "metadata": {},
   "source": [
    "- Model seems to have difficulties if there is no medication mentioned with side effects. It repeats the examples. I could set a threshold of 3 or more repeated examples is indication that model is confused, so just put \"unknown/unknown\"\n",
    "- also split medications that contain \"/\" into two lists\n",
    "- concatenate the side effects for the same medications with \",\""
   ]
  },
  {
   "cell_type": "markdown",
   "metadata": {},
   "source": [
    "# 7B"
   ]
  },
  {
   "cell_type": "markdown",
   "metadata": {},
   "source": [
    "## Base"
   ]
  },
  {
   "cell_type": "code",
   "execution_count": 122,
   "metadata": {},
   "outputs": [
    {
     "data": {
      "text/plain": [
       "side_effects_precision     0.142353\n",
       "side_effects_recall        0.198333\n",
       "side_effects_f1            0.149508\n",
       "medication_precision       0.232186\n",
       "medication_recall          0.301667\n",
       "medication_f1              0.239222\n",
       "duplicated                35.000000\n",
       "successful                65.000000\n",
       "dtype: float64"
      ]
     },
     "execution_count": 122,
     "metadata": {},
     "output_type": "execute_result"
    }
   ],
   "source": [
    "# Zero Shot Vanilla\n",
    "create_agg_metrics_df(paths.RESULTS_PATH/\"side-effects/labels.xlsx\", paths.RESULTS_PATH/\"side-effects/side-effects_outlines_Llama2-MedTuned-7b_4bit_zero_shot_vanilla.pt\", model=model, tokenizer=tokenizer, threshold = 0.5)\n"
   ]
  },
  {
   "cell_type": "code",
   "execution_count": 123,
   "metadata": {},
   "outputs": [
    {
     "data": {
      "text/plain": [
       "side_effects_precision     0.131762\n",
       "side_effects_recall        0.170000\n",
       "side_effects_f1            0.138556\n",
       "medication_precision       0.202595\n",
       "medication_recall          0.248333\n",
       "medication_f1              0.209222\n",
       "duplicated                 5.000000\n",
       "successful                98.000000\n",
       "dtype: float64"
      ]
     },
     "execution_count": 123,
     "metadata": {},
     "output_type": "execute_result"
    }
   ],
   "source": [
    "# Zero Shot instruction\n",
    "create_agg_metrics_df(paths.RESULTS_PATH/\"side-effects/labels.xlsx\", paths.RESULTS_PATH/\"side-effects/side-effects_outlines_Llama2-MedTuned-7b_4bit_zero_shot_instruction.pt\", model=model, tokenizer=tokenizer, threshold = 0.5)\n"
   ]
  },
  {
   "cell_type": "code",
   "execution_count": 124,
   "metadata": {},
   "outputs": [
    {
     "data": {
      "text/plain": [
       "side_effects_precision     0.328333\n",
       "side_effects_recall        0.330000\n",
       "side_effects_f1            0.325000\n",
       "medication_precision       0.398333\n",
       "medication_recall          0.378333\n",
       "medication_f1              0.380000\n",
       "duplicated                18.000000\n",
       "successful                98.000000\n",
       "dtype: float64"
      ]
     },
     "execution_count": 124,
     "metadata": {},
     "output_type": "execute_result"
    }
   ],
   "source": [
    "# Few Shot Vanilla\n",
    "create_agg_metrics_df(paths.RESULTS_PATH/\"side-effects/labels.xlsx\", paths.RESULTS_PATH/\"side-effects/side-effects_outlines_Llama2-MedTuned-7b_4bit_few_shot_vanilla_10_examples.pt\", model=model, tokenizer=tokenizer, threshold = 0.5)"
   ]
  },
  {
   "cell_type": "code",
   "execution_count": 125,
   "metadata": {},
   "outputs": [
    {
     "data": {
      "text/plain": [
       "side_effects_precision     0.343333\n",
       "side_effects_recall        0.331667\n",
       "side_effects_f1            0.334444\n",
       "medication_precision       0.393333\n",
       "medication_recall          0.366667\n",
       "medication_f1              0.374444\n",
       "duplicated                22.000000\n",
       "successful                93.000000\n",
       "dtype: float64"
      ]
     },
     "execution_count": 125,
     "metadata": {},
     "output_type": "execute_result"
    }
   ],
   "source": [
    "create_agg_metrics_df(paths.RESULTS_PATH/\"side-effects/labels.xlsx\", paths.RESULTS_PATH/\"side-effects/side-effects_outlines_Llama2-MedTuned-7b_4bit_few_shot_instruction_10_examples.pt\", model=model, tokenizer=tokenizer, threshold = 0.5)"
   ]
  },
  {
   "cell_type": "markdown",
   "metadata": {},
   "source": [
    "## RAG"
   ]
  },
  {
   "cell_type": "code",
   "execution_count": 126,
   "metadata": {},
   "outputs": [
    {
     "data": {
      "text/plain": [
       "side_effects_precision      0.285000\n",
       "side_effects_recall         0.295000\n",
       "side_effects_f1             0.284000\n",
       "medication_precision        0.420357\n",
       "medication_recall           0.428333\n",
       "medication_f1               0.413444\n",
       "duplicated                 18.000000\n",
       "successful                100.000000\n",
       "dtype: float64"
      ]
     },
     "execution_count": 126,
     "metadata": {},
     "output_type": "execute_result"
    }
   ],
   "source": [
    "# Zero Shot Vanilla\n",
    "create_agg_metrics_df(paths.RESULTS_PATH/\"side-effects/labels.xlsx\", paths.RESULTS_PATH/\"side-effects/side-effects_outlines_Llama2-MedTuned-7b_4bit_zero_shot_vanilla_rag.pt\", model=model, tokenizer=tokenizer, threshold = 0.5)\n"
   ]
  },
  {
   "cell_type": "code",
   "execution_count": 127,
   "metadata": {},
   "outputs": [
    {
     "data": {
      "text/plain": [
       "side_effects_precision     0.260333\n",
       "side_effects_recall        0.270000\n",
       "side_effects_f1            0.261190\n",
       "medication_precision       0.412333\n",
       "medication_recall          0.408333\n",
       "medication_f1              0.402381\n",
       "duplicated                19.000000\n",
       "successful                99.000000\n",
       "dtype: float64"
      ]
     },
     "execution_count": 127,
     "metadata": {},
     "output_type": "execute_result"
    }
   ],
   "source": [
    "# Zero Shot instruction\n",
    "create_agg_metrics_df(paths.RESULTS_PATH/\"side-effects/labels.xlsx\", paths.RESULTS_PATH/\"side-effects/side-effects_outlines_Llama2-MedTuned-7b_4bit_zero_shot_instruction_rag.pt\", model=model, tokenizer=tokenizer, threshold = 0.5)\n"
   ]
  },
  {
   "cell_type": "code",
   "execution_count": 128,
   "metadata": {},
   "outputs": [
    {
     "data": {
      "text/plain": [
       "side_effects_precision      0.295000\n",
       "side_effects_recall         0.300000\n",
       "side_effects_f1             0.296667\n",
       "medication_precision        0.385000\n",
       "medication_recall           0.378333\n",
       "medication_f1               0.378333\n",
       "duplicated                 24.000000\n",
       "successful                100.000000\n",
       "dtype: float64"
      ]
     },
     "execution_count": 128,
     "metadata": {},
     "output_type": "execute_result"
    }
   ],
   "source": [
    "# Few Shot Vanilla\n",
    "create_agg_metrics_df(paths.RESULTS_PATH/\"side-effects/labels.xlsx\", paths.RESULTS_PATH/\"side-effects/side-effects_outlines_Llama2-MedTuned-7b_4bit_few_shot_vanilla_10_examples_rag.pt\", model=model, tokenizer=tokenizer, threshold = 0.5)"
   ]
  },
  {
   "cell_type": "code",
   "execution_count": 129,
   "metadata": {},
   "outputs": [
    {
     "data": {
      "text/plain": [
       "side_effects_precision     0.313929\n",
       "side_effects_recall        0.325000\n",
       "side_effects_f1            0.313167\n",
       "medication_precision       0.397262\n",
       "medication_recall          0.403333\n",
       "medication_f1              0.389833\n",
       "duplicated                29.000000\n",
       "successful                97.000000\n",
       "dtype: float64"
      ]
     },
     "execution_count": 129,
     "metadata": {},
     "output_type": "execute_result"
    }
   ],
   "source": [
    "create_agg_metrics_df(paths.RESULTS_PATH/\"side-effects/labels.xlsx\", paths.RESULTS_PATH/\"side-effects/side-effects_outlines_Llama2-MedTuned-7b_4bit_few_shot_instruction_10_examples_rag.pt\", model=model, tokenizer=tokenizer, threshold = 0.5)"
   ]
  },
  {
   "cell_type": "markdown",
   "metadata": {},
   "source": [
    "## S2A"
   ]
  },
  {
   "cell_type": "code",
   "execution_count": 130,
   "metadata": {},
   "outputs": [
    {
     "data": {
      "text/plain": [
       "side_effects_precision      0.533333\n",
       "side_effects_recall         0.488333\n",
       "side_effects_f1             0.503333\n",
       "medication_precision        0.790000\n",
       "medication_recall           0.720000\n",
       "medication_f1               0.743333\n",
       "duplicated                  1.000000\n",
       "successful                100.000000\n",
       "dtype: float64"
      ]
     },
     "execution_count": 130,
     "metadata": {},
     "output_type": "execute_result"
    }
   ],
   "source": [
    "# Zero Shot Vanilla\n",
    "create_agg_metrics_df(paths.RESULTS_PATH/\"side-effects/labels.xlsx\", paths.RESULTS_PATH/\"side-effects/side-effects_outlines_Llama2-MedTuned-7b_4bit_zero_shot_vanilla_s2a.pt\", model=model, tokenizer=tokenizer, threshold = 0.5)\n"
   ]
  },
  {
   "cell_type": "code",
   "execution_count": 131,
   "metadata": {},
   "outputs": [
    {
     "data": {
      "text/plain": [
       "side_effects_precision     0.556667\n",
       "side_effects_recall        0.500000\n",
       "side_effects_f1            0.518333\n",
       "medication_precision       0.820000\n",
       "medication_recall          0.743333\n",
       "medication_f1              0.768333\n",
       "duplicated                 5.000000\n",
       "successful                99.000000\n",
       "dtype: float64"
      ]
     },
     "execution_count": 131,
     "metadata": {},
     "output_type": "execute_result"
    }
   ],
   "source": [
    "# Zero Shot instruction\n",
    "create_agg_metrics_df(paths.RESULTS_PATH/\"side-effects/labels.xlsx\", paths.RESULTS_PATH/\"side-effects/side-effects_outlines_Llama2-MedTuned-7b_4bit_zero_shot_instruction_s2a.pt\", model=model, tokenizer=tokenizer, threshold = 0.5)\n"
   ]
  },
  {
   "cell_type": "code",
   "execution_count": 132,
   "metadata": {},
   "outputs": [
    {
     "data": {
      "text/plain": [
       "side_effects_precision     0.370000\n",
       "side_effects_recall        0.331667\n",
       "side_effects_f1            0.343333\n",
       "medication_precision       0.550000\n",
       "medication_recall          0.486667\n",
       "medication_f1              0.506667\n",
       "duplicated                12.000000\n",
       "successful                99.000000\n",
       "dtype: float64"
      ]
     },
     "execution_count": 132,
     "metadata": {},
     "output_type": "execute_result"
    }
   ],
   "source": [
    "# Few Shot Vanilla\n",
    "create_agg_metrics_df(paths.RESULTS_PATH/\"side-effects/labels.xlsx\", paths.RESULTS_PATH/\"side-effects/side-effects_outlines_Llama2-MedTuned-7b_4bit_few_shot_vanilla_10_examples_s2a.pt\", model=model, tokenizer=tokenizer, threshold = 0.5)"
   ]
  },
  {
   "cell_type": "code",
   "execution_count": 133,
   "metadata": {},
   "outputs": [
    {
     "data": {
      "text/plain": [
       "side_effects_precision     0.340000\n",
       "side_effects_recall        0.313333\n",
       "side_effects_f1            0.321667\n",
       "medication_precision       0.470000\n",
       "medication_recall          0.418333\n",
       "medication_f1              0.435000\n",
       "duplicated                20.000000\n",
       "successful                96.000000\n",
       "dtype: float64"
      ]
     },
     "execution_count": 133,
     "metadata": {},
     "output_type": "execute_result"
    }
   ],
   "source": [
    "create_agg_metrics_df(paths.RESULTS_PATH/\"side-effects/labels.xlsx\", paths.RESULTS_PATH/\"side-effects/side-effects_outlines_Llama2-MedTuned-7b_4bit_few_shot_instruction_10_examples_s2a.pt\", model=model, tokenizer=tokenizer, threshold = 0.5)"
   ]
  },
  {
   "cell_type": "code",
   "execution_count": 134,
   "metadata": {},
   "outputs": [],
   "source": [
    "file_paths7b = [paths.RESULTS_PATH/\"side-effects/side-effects_outlines_Llama2-MedTuned-7b_4bit_zero_shot_vanilla.pt\",\n",
    "              paths.RESULTS_PATH/\"side-effects/side-effects_outlines_Llama2-MedTuned-7b_4bit_zero_shot_instruction.pt\",\n",
    "              paths.RESULTS_PATH/\"side-effects/side-effects_outlines_Llama2-MedTuned-7b_4bit_few_shot_vanilla_10_examples.pt\",\n",
    "              paths.RESULTS_PATH/\"side-effects/side-effects_outlines_Llama2-MedTuned-7b_4bit_few_shot_instruction_10_examples.pt\",\n",
    "              paths.RESULTS_PATH/\"side-effects/side-effects_outlines_Llama2-MedTuned-7b_4bit_zero_shot_vanilla_rag.pt\",\n",
    "              paths.RESULTS_PATH/\"side-effects/side-effects_outlines_Llama2-MedTuned-7b_4bit_zero_shot_instruction_rag.pt\",\n",
    "              paths.RESULTS_PATH/\"side-effects/side-effects_outlines_Llama2-MedTuned-7b_4bit_few_shot_vanilla_10_examples_rag.pt\",\n",
    "              paths.RESULTS_PATH/\"side-effects/side-effects_outlines_Llama2-MedTuned-7b_4bit_few_shot_instruction_10_examples_rag.pt\",\n",
    "              paths.RESULTS_PATH/\"side-effects/side-effects_outlines_Llama2-MedTuned-7b_4bit_zero_shot_vanilla_s2a.pt\",\n",
    "              paths.RESULTS_PATH/\"side-effects/side-effects_outlines_Llama2-MedTuned-7b_4bit_zero_shot_instruction_s2a.pt\",\n",
    "              paths.RESULTS_PATH/\"side-effects/side-effects_outlines_Llama2-MedTuned-7b_4bit_few_shot_vanilla_10_examples_s2a.pt\",\n",
    "              paths.RESULTS_PATH/\"side-effects/side-effects_outlines_Llama2-MedTuned-7b_4bit_few_shot_instruction_10_examples_s2a.pt\",]"
   ]
  },
  {
   "cell_type": "code",
   "execution_count": 135,
   "metadata": {},
   "outputs": [],
   "source": [
    "results7b = summarize(file_paths7b, paths.RESULTS_PATH/\"side-effects/labels.xlsx\", model=model, tokenizer=tokenizer, threshold = 0.5)\n",
    "results7b = results7b.round(2)\n",
    "# results7b.to_csv(paths.RESULTS_PATH/\"side-effects/summary7b.csv\", index=False)"
   ]
  },
  {
   "cell_type": "code",
   "execution_count": 136,
   "metadata": {},
   "outputs": [
    {
     "data": {
      "text/html": [
       "<div>\n",
       "<style scoped>\n",
       "    .dataframe tbody tr th:only-of-type {\n",
       "        vertical-align: middle;\n",
       "    }\n",
       "\n",
       "    .dataframe tbody tr th {\n",
       "        vertical-align: top;\n",
       "    }\n",
       "\n",
       "    .dataframe thead th {\n",
       "        text-align: right;\n",
       "    }\n",
       "</style>\n",
       "<table border=\"1\" class=\"dataframe\">\n",
       "  <thead>\n",
       "    <tr style=\"text-align: right;\">\n",
       "      <th></th>\n",
       "      <th>side_effects_precision</th>\n",
       "      <th>side_effects_recall</th>\n",
       "      <th>side_effects_f1</th>\n",
       "      <th>medication_precision</th>\n",
       "      <th>medication_recall</th>\n",
       "      <th>medication_f1</th>\n",
       "      <th>duplicated</th>\n",
       "      <th>successful</th>\n",
       "      <th>approach</th>\n",
       "      <th>strategy</th>\n",
       "    </tr>\n",
       "  </thead>\n",
       "  <tbody>\n",
       "    <tr>\n",
       "      <th>0</th>\n",
       "      <td>0.14</td>\n",
       "      <td>0.20</td>\n",
       "      <td>0.15</td>\n",
       "      <td>0.23</td>\n",
       "      <td>0.30</td>\n",
       "      <td>0.24</td>\n",
       "      <td>35.0</td>\n",
       "      <td>65.0</td>\n",
       "      <td>Base</td>\n",
       "      <td>Zero-Shot Base</td>\n",
       "    </tr>\n",
       "    <tr>\n",
       "      <th>1</th>\n",
       "      <td>0.13</td>\n",
       "      <td>0.17</td>\n",
       "      <td>0.14</td>\n",
       "      <td>0.20</td>\n",
       "      <td>0.25</td>\n",
       "      <td>0.21</td>\n",
       "      <td>5.0</td>\n",
       "      <td>98.0</td>\n",
       "      <td>Base</td>\n",
       "      <td>Zero-Shot Instruction</td>\n",
       "    </tr>\n",
       "    <tr>\n",
       "      <th>2</th>\n",
       "      <td>0.33</td>\n",
       "      <td>0.33</td>\n",
       "      <td>0.32</td>\n",
       "      <td>0.40</td>\n",
       "      <td>0.38</td>\n",
       "      <td>0.38</td>\n",
       "      <td>18.0</td>\n",
       "      <td>98.0</td>\n",
       "      <td>Base</td>\n",
       "      <td>Few-Shot Base</td>\n",
       "    </tr>\n",
       "    <tr>\n",
       "      <th>3</th>\n",
       "      <td>0.34</td>\n",
       "      <td>0.33</td>\n",
       "      <td>0.33</td>\n",
       "      <td>0.39</td>\n",
       "      <td>0.37</td>\n",
       "      <td>0.37</td>\n",
       "      <td>22.0</td>\n",
       "      <td>93.0</td>\n",
       "      <td>Base</td>\n",
       "      <td>Few-Shot Instruction</td>\n",
       "    </tr>\n",
       "    <tr>\n",
       "      <th>4</th>\n",
       "      <td>0.28</td>\n",
       "      <td>0.30</td>\n",
       "      <td>0.28</td>\n",
       "      <td>0.42</td>\n",
       "      <td>0.43</td>\n",
       "      <td>0.41</td>\n",
       "      <td>18.0</td>\n",
       "      <td>100.0</td>\n",
       "      <td>S2A-1</td>\n",
       "      <td>Zero-Shot Base</td>\n",
       "    </tr>\n",
       "    <tr>\n",
       "      <th>5</th>\n",
       "      <td>0.26</td>\n",
       "      <td>0.27</td>\n",
       "      <td>0.26</td>\n",
       "      <td>0.41</td>\n",
       "      <td>0.41</td>\n",
       "      <td>0.40</td>\n",
       "      <td>19.0</td>\n",
       "      <td>99.0</td>\n",
       "      <td>S2A-1</td>\n",
       "      <td>Zero-Shot Instruction</td>\n",
       "    </tr>\n",
       "    <tr>\n",
       "      <th>6</th>\n",
       "      <td>0.30</td>\n",
       "      <td>0.30</td>\n",
       "      <td>0.30</td>\n",
       "      <td>0.38</td>\n",
       "      <td>0.38</td>\n",
       "      <td>0.38</td>\n",
       "      <td>24.0</td>\n",
       "      <td>100.0</td>\n",
       "      <td>S2A-1</td>\n",
       "      <td>Few-Shot Base</td>\n",
       "    </tr>\n",
       "    <tr>\n",
       "      <th>7</th>\n",
       "      <td>0.31</td>\n",
       "      <td>0.32</td>\n",
       "      <td>0.31</td>\n",
       "      <td>0.40</td>\n",
       "      <td>0.40</td>\n",
       "      <td>0.39</td>\n",
       "      <td>29.0</td>\n",
       "      <td>97.0</td>\n",
       "      <td>S2A-1</td>\n",
       "      <td>Few-Shot Instruction</td>\n",
       "    </tr>\n",
       "    <tr>\n",
       "      <th>8</th>\n",
       "      <td>0.53</td>\n",
       "      <td>0.49</td>\n",
       "      <td>0.50</td>\n",
       "      <td>0.79</td>\n",
       "      <td>0.72</td>\n",
       "      <td>0.74</td>\n",
       "      <td>1.0</td>\n",
       "      <td>100.0</td>\n",
       "      <td>S2A-2</td>\n",
       "      <td>Zero-Shot Base</td>\n",
       "    </tr>\n",
       "    <tr>\n",
       "      <th>9</th>\n",
       "      <td>0.56</td>\n",
       "      <td>0.50</td>\n",
       "      <td>0.52</td>\n",
       "      <td>0.82</td>\n",
       "      <td>0.74</td>\n",
       "      <td>0.77</td>\n",
       "      <td>5.0</td>\n",
       "      <td>99.0</td>\n",
       "      <td>S2A-2</td>\n",
       "      <td>Zero-Shot Instruction</td>\n",
       "    </tr>\n",
       "    <tr>\n",
       "      <th>10</th>\n",
       "      <td>0.37</td>\n",
       "      <td>0.33</td>\n",
       "      <td>0.34</td>\n",
       "      <td>0.55</td>\n",
       "      <td>0.49</td>\n",
       "      <td>0.51</td>\n",
       "      <td>12.0</td>\n",
       "      <td>99.0</td>\n",
       "      <td>S2A-2</td>\n",
       "      <td>Few-Shot Base</td>\n",
       "    </tr>\n",
       "    <tr>\n",
       "      <th>11</th>\n",
       "      <td>0.34</td>\n",
       "      <td>0.31</td>\n",
       "      <td>0.32</td>\n",
       "      <td>0.47</td>\n",
       "      <td>0.42</td>\n",
       "      <td>0.44</td>\n",
       "      <td>20.0</td>\n",
       "      <td>96.0</td>\n",
       "      <td>S2A-2</td>\n",
       "      <td>Few-Shot Instruction</td>\n",
       "    </tr>\n",
       "  </tbody>\n",
       "</table>\n",
       "</div>"
      ],
      "text/plain": [
       "    side_effects_precision  side_effects_recall  side_effects_f1  \\\n",
       "0                     0.14                 0.20             0.15   \n",
       "1                     0.13                 0.17             0.14   \n",
       "2                     0.33                 0.33             0.32   \n",
       "3                     0.34                 0.33             0.33   \n",
       "4                     0.28                 0.30             0.28   \n",
       "5                     0.26                 0.27             0.26   \n",
       "6                     0.30                 0.30             0.30   \n",
       "7                     0.31                 0.32             0.31   \n",
       "8                     0.53                 0.49             0.50   \n",
       "9                     0.56                 0.50             0.52   \n",
       "10                    0.37                 0.33             0.34   \n",
       "11                    0.34                 0.31             0.32   \n",
       "\n",
       "    medication_precision  medication_recall  medication_f1  duplicated  \\\n",
       "0                   0.23               0.30           0.24        35.0   \n",
       "1                   0.20               0.25           0.21         5.0   \n",
       "2                   0.40               0.38           0.38        18.0   \n",
       "3                   0.39               0.37           0.37        22.0   \n",
       "4                   0.42               0.43           0.41        18.0   \n",
       "5                   0.41               0.41           0.40        19.0   \n",
       "6                   0.38               0.38           0.38        24.0   \n",
       "7                   0.40               0.40           0.39        29.0   \n",
       "8                   0.79               0.72           0.74         1.0   \n",
       "9                   0.82               0.74           0.77         5.0   \n",
       "10                  0.55               0.49           0.51        12.0   \n",
       "11                  0.47               0.42           0.44        20.0   \n",
       "\n",
       "    successful approach               strategy  \n",
       "0         65.0     Base         Zero-Shot Base  \n",
       "1         98.0     Base  Zero-Shot Instruction  \n",
       "2         98.0     Base          Few-Shot Base  \n",
       "3         93.0     Base   Few-Shot Instruction  \n",
       "4        100.0    S2A-1         Zero-Shot Base  \n",
       "5         99.0    S2A-1  Zero-Shot Instruction  \n",
       "6        100.0    S2A-1          Few-Shot Base  \n",
       "7         97.0    S2A-1   Few-Shot Instruction  \n",
       "8        100.0    S2A-2         Zero-Shot Base  \n",
       "9         99.0    S2A-2  Zero-Shot Instruction  \n",
       "10        99.0    S2A-2          Few-Shot Base  \n",
       "11        96.0    S2A-2   Few-Shot Instruction  "
      ]
     },
     "execution_count": 136,
     "metadata": {},
     "output_type": "execute_result"
    }
   ],
   "source": [
    "results7b"
   ]
  },
  {
   "cell_type": "code",
   "execution_count": null,
   "metadata": {},
   "outputs": [],
   "source": [
    "thesis7b = latex_metrics(results7b)\n",
    "thesis7b_precision = thesis7b[[\"strategy\"] + [col for col in thesis7b.columns if \"precision\" in col]]\n",
    "thesis7b_recall = thesis7b[[\"strategy\"] + [col for col in thesis7b.columns if \"recall\" in col]]\n",
    "thesis7b_f1 = thesis7b[[\"strategy\"] + [col for col in thesis7b.columns if \"f1\" in col]]\n",
    "\n",
    "# thesis7b_precision.to_csv(paths.RESULTS_PATH/\"side-effects/thesis7b_precision.csv\", index=False)\n",
    "# thesis7b_recall.to_csv(paths.RESULTS_PATH/\"side-effects/thesis7b_recall.csv\", index=False)\n",
    "# thesis7b_f1.to_csv(paths.RESULTS_PATH/\"side-effects/thesis7b_f1.csv\", index=False)"
   ]
  },
  {
   "cell_type": "markdown",
   "metadata": {},
   "source": [
    "# 13B Lora"
   ]
  },
  {
   "cell_type": "code",
   "execution_count": 137,
   "metadata": {},
   "outputs": [],
   "source": [
    "file_paths13b_lora = [\n",
    "              paths.RESULTS_PATH/\"side-effects/side-effects_outlines_Llama2-MedTuned-13b-LoRa-merged_4bit_few_shot_instruction_10_examples.pt\",\n",
    "              paths.RESULTS_PATH/\"side-effects/side-effects_outlines_Llama2-MedTuned-13b-LoRa-merged_4bit_zero_shot_vanilla_rag.pt\",\n",
    "              paths.RESULTS_PATH/\"side-effects/side-effects_outlines_Llama2-MedTuned-13b-LoRa-merged_4bit_zero_shot_instruction_rag.pt\",\n",
    "              paths.RESULTS_PATH/\"side-effects/side-effects_outlines_Llama2-MedTuned-13b-LoRa-merged_4bit_few_shot_vanilla_10_examples_rag.pt\",\n",
    "              paths.RESULTS_PATH/\"side-effects/side-effects_outlines_Llama2-MedTuned-13b-LoRa-merged_4bit_few_shot_instruction_10_examples_rag.pt\",\n",
    "              paths.RESULTS_PATH/\"side-effects/side-effects_outlines_Llama2-MedTuned-13b-LoRa-merged_4bit_zero_shot_vanilla_s2a.pt\",\n",
    "              paths.RESULTS_PATH/\"side-effects/side-effects_outlines_Llama2-MedTuned-13b-LoRa-merged_4bit_zero_shot_instruction_s2a.pt\",\n",
    "              paths.RESULTS_PATH/\"side-effects/side-effects_outlines_Llama2-MedTuned-13b-LoRa-merged_4bit_few_shot_vanilla_10_examples_s2a.pt\",\n",
    "              paths.RESULTS_PATH/\"side-effects/side-effects_outlines_Llama2-MedTuned-13b-LoRa-merged_4bit_few_shot_instruction_10_examples_s2a.pt\",]"
   ]
  },
  {
   "cell_type": "code",
   "execution_count": 138,
   "metadata": {},
   "outputs": [],
   "source": [
    "results13b_lora = summarize(file_paths13b_lora, paths.RESULTS_PATH/\"side-effects/labels.xlsx\", model=model, tokenizer=tokenizer, threshold = 0.5)"
   ]
  },
  {
   "cell_type": "code",
   "execution_count": 139,
   "metadata": {},
   "outputs": [
    {
     "data": {
      "text/html": [
       "<div>\n",
       "<style scoped>\n",
       "    .dataframe tbody tr th:only-of-type {\n",
       "        vertical-align: middle;\n",
       "    }\n",
       "\n",
       "    .dataframe tbody tr th {\n",
       "        vertical-align: top;\n",
       "    }\n",
       "\n",
       "    .dataframe thead th {\n",
       "        text-align: right;\n",
       "    }\n",
       "</style>\n",
       "<table border=\"1\" class=\"dataframe\">\n",
       "  <thead>\n",
       "    <tr style=\"text-align: right;\">\n",
       "      <th></th>\n",
       "      <th>side_effects_precision</th>\n",
       "      <th>side_effects_recall</th>\n",
       "      <th>side_effects_f1</th>\n",
       "      <th>medication_precision</th>\n",
       "      <th>medication_recall</th>\n",
       "      <th>medication_f1</th>\n",
       "      <th>duplicated</th>\n",
       "      <th>successful</th>\n",
       "      <th>approach</th>\n",
       "      <th>strategy</th>\n",
       "    </tr>\n",
       "  </thead>\n",
       "  <tbody>\n",
       "    <tr>\n",
       "      <th>0</th>\n",
       "      <td>0.14</td>\n",
       "      <td>0.34</td>\n",
       "      <td>0.18</td>\n",
       "      <td>0.20</td>\n",
       "      <td>0.54</td>\n",
       "      <td>0.26</td>\n",
       "      <td>79.0</td>\n",
       "      <td>97.0</td>\n",
       "      <td>Base</td>\n",
       "      <td>Few-Shot Instruction</td>\n",
       "    </tr>\n",
       "    <tr>\n",
       "      <th>1</th>\n",
       "      <td>0.25</td>\n",
       "      <td>0.34</td>\n",
       "      <td>0.28</td>\n",
       "      <td>0.31</td>\n",
       "      <td>0.44</td>\n",
       "      <td>0.35</td>\n",
       "      <td>63.0</td>\n",
       "      <td>56.0</td>\n",
       "      <td>S2A-1</td>\n",
       "      <td>Zero-Shot Base</td>\n",
       "    </tr>\n",
       "    <tr>\n",
       "      <th>2</th>\n",
       "      <td>0.28</td>\n",
       "      <td>0.52</td>\n",
       "      <td>0.34</td>\n",
       "      <td>0.38</td>\n",
       "      <td>0.73</td>\n",
       "      <td>0.47</td>\n",
       "      <td>20.0</td>\n",
       "      <td>100.0</td>\n",
       "      <td>S2A-1</td>\n",
       "      <td>Zero-Shot Instruction</td>\n",
       "    </tr>\n",
       "    <tr>\n",
       "      <th>3</th>\n",
       "      <td>0.34</td>\n",
       "      <td>0.36</td>\n",
       "      <td>0.34</td>\n",
       "      <td>0.43</td>\n",
       "      <td>0.45</td>\n",
       "      <td>0.43</td>\n",
       "      <td>46.0</td>\n",
       "      <td>77.0</td>\n",
       "      <td>S2A-1</td>\n",
       "      <td>Few-Shot Base</td>\n",
       "    </tr>\n",
       "    <tr>\n",
       "      <th>4</th>\n",
       "      <td>0.32</td>\n",
       "      <td>0.48</td>\n",
       "      <td>0.36</td>\n",
       "      <td>0.42</td>\n",
       "      <td>0.74</td>\n",
       "      <td>0.50</td>\n",
       "      <td>39.0</td>\n",
       "      <td>98.0</td>\n",
       "      <td>S2A-1</td>\n",
       "      <td>Few-Shot Instruction</td>\n",
       "    </tr>\n",
       "    <tr>\n",
       "      <th>5</th>\n",
       "      <td>0.42</td>\n",
       "      <td>0.44</td>\n",
       "      <td>0.42</td>\n",
       "      <td>0.76</td>\n",
       "      <td>0.82</td>\n",
       "      <td>0.77</td>\n",
       "      <td>13.0</td>\n",
       "      <td>95.0</td>\n",
       "      <td>S2A-2</td>\n",
       "      <td>Zero-Shot Base</td>\n",
       "    </tr>\n",
       "    <tr>\n",
       "      <th>6</th>\n",
       "      <td>0.49</td>\n",
       "      <td>0.52</td>\n",
       "      <td>0.49</td>\n",
       "      <td>0.82</td>\n",
       "      <td>0.88</td>\n",
       "      <td>0.83</td>\n",
       "      <td>14.0</td>\n",
       "      <td>97.0</td>\n",
       "      <td>S2A-2</td>\n",
       "      <td>Zero-Shot Instruction</td>\n",
       "    </tr>\n",
       "    <tr>\n",
       "      <th>7</th>\n",
       "      <td>0.66</td>\n",
       "      <td>0.61</td>\n",
       "      <td>0.63</td>\n",
       "      <td>0.84</td>\n",
       "      <td>0.77</td>\n",
       "      <td>0.79</td>\n",
       "      <td>24.0</td>\n",
       "      <td>96.0</td>\n",
       "      <td>S2A-2</td>\n",
       "      <td>Few-Shot Base</td>\n",
       "    </tr>\n",
       "    <tr>\n",
       "      <th>8</th>\n",
       "      <td>0.61</td>\n",
       "      <td>0.64</td>\n",
       "      <td>0.61</td>\n",
       "      <td>0.82</td>\n",
       "      <td>0.85</td>\n",
       "      <td>0.81</td>\n",
       "      <td>37.0</td>\n",
       "      <td>98.0</td>\n",
       "      <td>S2A-2</td>\n",
       "      <td>Few-Shot Instruction</td>\n",
       "    </tr>\n",
       "  </tbody>\n",
       "</table>\n",
       "</div>"
      ],
      "text/plain": [
       "   side_effects_precision  side_effects_recall  side_effects_f1  \\\n",
       "0                    0.14                 0.34             0.18   \n",
       "1                    0.25                 0.34             0.28   \n",
       "2                    0.28                 0.52             0.34   \n",
       "3                    0.34                 0.36             0.34   \n",
       "4                    0.32                 0.48             0.36   \n",
       "5                    0.42                 0.44             0.42   \n",
       "6                    0.49                 0.52             0.49   \n",
       "7                    0.66                 0.61             0.63   \n",
       "8                    0.61                 0.64             0.61   \n",
       "\n",
       "   medication_precision  medication_recall  medication_f1  duplicated  \\\n",
       "0                  0.20               0.54           0.26        79.0   \n",
       "1                  0.31               0.44           0.35        63.0   \n",
       "2                  0.38               0.73           0.47        20.0   \n",
       "3                  0.43               0.45           0.43        46.0   \n",
       "4                  0.42               0.74           0.50        39.0   \n",
       "5                  0.76               0.82           0.77        13.0   \n",
       "6                  0.82               0.88           0.83        14.0   \n",
       "7                  0.84               0.77           0.79        24.0   \n",
       "8                  0.82               0.85           0.81        37.0   \n",
       "\n",
       "   successful approach               strategy  \n",
       "0        97.0     Base   Few-Shot Instruction  \n",
       "1        56.0    S2A-1         Zero-Shot Base  \n",
       "2       100.0    S2A-1  Zero-Shot Instruction  \n",
       "3        77.0    S2A-1          Few-Shot Base  \n",
       "4        98.0    S2A-1   Few-Shot Instruction  \n",
       "5        95.0    S2A-2         Zero-Shot Base  \n",
       "6        97.0    S2A-2  Zero-Shot Instruction  \n",
       "7        96.0    S2A-2          Few-Shot Base  \n",
       "8        98.0    S2A-2   Few-Shot Instruction  "
      ]
     },
     "execution_count": 139,
     "metadata": {},
     "output_type": "execute_result"
    }
   ],
   "source": [
    "results13b_lora = results13b_lora.round(2)\n",
    "results13b_lora"
   ]
  }
 ],
 "metadata": {
  "kernelspec": {
   "display_name": "inf-extr-BlECHwmE-py3.10",
   "language": "python",
   "name": "python3"
  },
  "language_info": {
   "codemirror_mode": {
    "name": "ipython",
    "version": 3
   },
   "file_extension": ".py",
   "mimetype": "text/x-python",
   "name": "python",
   "nbconvert_exporter": "python",
   "pygments_lexer": "ipython3",
   "version": "3.10.12"
  }
 },
 "nbformat": 4,
 "nbformat_minor": 2
}

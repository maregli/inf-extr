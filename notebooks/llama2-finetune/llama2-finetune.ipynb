{
 "cells": [
  {
   "cell_type": "code",
   "execution_count": null,
   "id": "b7c836af-5638-484f-a431-c2ee674b762c",
   "metadata": {},
   "outputs": [],
   "source": [
    "import sys\n",
    "import os\n",
    "sys.path.append(os.getcwd()+\"/../..\")\n",
    "\n",
    "from src import paths\n",
    "from src import paths"
   ]
  },
  {
   "cell_type": "markdown",
   "id": "f6ba6756",
   "metadata": {},
   "source": [
    "# Training Progress\n",
    "\n",
    "Loss is CrossEntropy Loss with labels being the tokens shifted by one, so token is predicted by n preceeding tokens. See Source code of LLama:\n",
    "https://github.com/huggingface/transformers/blob/main/src/transformers/models/llama/modeling_llama.py#L1217"
   ]
  },
  {
   "cell_type": "code",
   "execution_count": null,
   "id": "f4d9cd3d",
   "metadata": {},
   "outputs": [],
   "source": [
    "import matplotlib.pyplot as plt\n",
    "import pandas as pd\n",
    "import seaborn as sns\n",
    "import numpy as np\n",
    "from matplotlib import colors as mcolors\n",
    "import torch"
   ]
  },
  {
   "cell_type": "code",
   "execution_count": null,
   "id": "f26cc033",
   "metadata": {},
   "outputs": [],
   "source": [
    "logs_1024 = torch.load(paths.MODEL_PATH/\"Llama2-MedTuned-13b-1024-lora/log_history.pt\")\n",
    "logs_512 = torch.load(paths.MODEL_PATH/\"Llama2-MedTuned-13b-512-lora/log_history.pt\")"
   ]
  },
  {
   "cell_type": "code",
   "execution_count": null,
   "id": "239a89b0",
   "metadata": {},
   "outputs": [],
   "source": [
    "def plot_loss_over_epochs(loss_data, title=\"Loss Over Epochs\", save_dir:str = None):\n",
    "    # Convert the data to a DataFrame\n",
    "    df = pd.DataFrame(loss_data)\n",
    "\n",
    "    viridis_cmap = plt.get_cmap('viridis_r')\n",
    "    cmap = sns.color_palette(\"ch:s=.25,rot=-.25\", as_cmap=True)\n",
    "\n",
    "    # Extract a subset of colors from the \"viridis\" colormap\n",
    "    start_index = 120  # Start index of colors to include\n",
    "    end_index = 200 # End index of colors to include\n",
    "    subset_colors = viridis_cmap(np.linspace(start_index / 255, end_index / 255, end_index - start_index + 1))\n",
    "\n",
    "    # Create a custom colormap using the subset of colors\n",
    "    custom_cmap = mcolors.ListedColormap(subset_colors)\n",
    "    custom_cmap = sns.color_palette(\"light:#5A9\", as_cmap=True)\n",
    "\n",
    "\n",
    "    # Create the plot\n",
    "    sns.set_theme(style=\"whitegrid\")\n",
    "    plt.figure(figsize=(10, 6))\n",
    "    ax = sns.lineplot(x='epoch', y='loss', data=df, marker='o', color = custom_cmap(400), linewidth=2.5, markersize=8)\n",
    "\n",
    "    # Add labels and title\n",
    "    ax.set(xlabel='Epoch', ylabel='Loss', title=title)\n",
    "\n",
    "    # Show the plot\n",
    "    plt.ylabel(\"CE-Loss\", fontsize=20, fontweight='bold', labelpad=15)\n",
    "    plt.xlabel(\"Epoch\", fontsize=20, fontweight='bold', labelpad=15)\n",
    "    plt.ylim(2.2, 3.1)\n",
    "    plt.tight_layout()\n",
    "\n",
    "    if save_dir:\n",
    "        plt.savefig(save_dir, dpi=300)\n",
    "    plt.show()"
   ]
  },
  {
   "cell_type": "code",
   "execution_count": null,
   "id": "b5c81697",
   "metadata": {},
   "outputs": [],
   "source": [
    "plot_loss_over_epochs(logs_1024[:-1], title=\"\", save_dir = paths.THESIS_PATH/\"llama2-finetuning-1024.png\")"
   ]
  },
  {
   "cell_type": "code",
   "execution_count": null,
   "id": "2206ee8b",
   "metadata": {},
   "outputs": [],
   "source": [
    "plot_loss_over_epochs(logs_512[:-1], title=\"\", save_dir = paths.THESIS_PATH/\"llama2-finetuning-512.png\")"
   ]
  }
 ],
 "metadata": {
  "kernelspec": {
   "display_name": "Python 3 (ipykernel)",
   "language": "python",
   "name": "python3"
  },
  "language_info": {
   "codemirror_mode": {
    "name": "ipython",
    "version": 3
   },
   "file_extension": ".py",
   "mimetype": "text/x-python",
   "name": "python",
   "nbconvert_exporter": "python",
   "pygments_lexer": "ipython3",
   "version": "3.10.12"
  }
 },
 "nbformat": 4,
 "nbformat_minor": 5
}

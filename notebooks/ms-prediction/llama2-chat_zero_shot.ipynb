{
 "cells": [
  {
   "cell_type": "code",
   "execution_count": 122,
   "metadata": {},
   "outputs": [],
   "source": [
    "from transformers import AutoTokenizer, AutoModelForCausalLM, BitsAndBytesConfig, DataCollatorWithPadding, AutoModelForSequenceClassification, StoppingCriteria\n",
    "\n",
    "from datasets import DatasetDict, Features, Sequence, Value, load_dataset\n",
    "\n",
    "import torch\n",
    "from torch.utils.data import DataLoader\n",
    "from torch.profiler import profile, record_function, ProfilerActivity\n",
    "import gc\n",
    "\n",
    "import os\n",
    "import sys\n",
    "sys.path.append(os.getcwd()+\"/../..\")\n",
    "from src import paths\n",
    "\n",
    "import pandas as pd\n",
    "\n",
    "from tqdm import tqdm\n",
    "\n",
    "from src.utils import performance_metrics, plot_confusion_matrix, ms_label2id, ms_id2label"
   ]
  },
  {
   "cell_type": "code",
   "execution_count": 2,
   "metadata": {},
   "outputs": [
    {
     "name": "stdout",
     "output_type": "stream",
     "text": [
      "GPU 0: NVIDIA GeForce RTX 3090\n",
      "   Total Memory: 23.69 GB\n",
      "   Free Memory: 23.43 GB\n",
      "   Allocated Memory : 0.00 GB\n",
      "   Reserved Memory : 0.00 GB\n"
     ]
    }
   ],
   "source": [
    "def check_gpu_memory():\n",
    "    if torch.cuda.is_available():\n",
    "        num_gpus = torch.cuda.device_count()\n",
    "        for gpu_id in range(num_gpus):\n",
    "            free_mem, total_mem = torch.cuda.mem_get_info(gpu_id)\n",
    "            gpu_properties = torch.cuda.get_device_properties(gpu_id)\n",
    "            print(f\"GPU {gpu_id}: {gpu_properties.name}\")\n",
    "            print(f\"   Total Memory: {total_mem / (1024 ** 3):.2f} GB\")\n",
    "            print(f\"   Free Memory: {free_mem / (1024 ** 3):.2f} GB\")\n",
    "            print(f\"   Allocated Memory : {torch.cuda.memory_allocated(gpu_id) / (1024 ** 3):.2f} GB\")\n",
    "            print(f\"   Reserved Memory : {torch.cuda.memory_reserved(gpu_id) / (1024 ** 3):.2f} GB\")\n",
    "    else:\n",
    "        print(\"No GPU available.\")\n",
    "# Call the function to check GPU memory\n",
    "check_gpu_memory()"
   ]
  },
  {
   "cell_type": "markdown",
   "metadata": {},
   "source": [
    "# LLAMA2"
   ]
  },
  {
   "cell_type": "code",
   "execution_count": 3,
   "metadata": {},
   "outputs": [],
   "source": [
    "model_name = \"llama2-chat\"\n",
    "device = torch.device(\"cuda\") if torch.cuda.is_available() else torch.device(\"cpu\")"
   ]
  },
  {
   "cell_type": "code",
   "execution_count": 4,
   "metadata": {},
   "outputs": [
    {
     "name": "stdout",
     "output_type": "stream",
     "text": [
      "Memory before Model is loaded:\n",
      "\n",
      "GPU 0: NVIDIA GeForce RTX 3090\n",
      "   Total Memory: 23.69 GB\n",
      "   Free Memory: 23.43 GB\n",
      "   Allocated Memory : 0.00 GB\n",
      "   Reserved Memory : 0.00 GB\n"
     ]
    },
    {
     "data": {
      "application/vnd.jupyter.widget-view+json": {
       "model_id": "a195ab428aff4911bcecebb7a5b2fbfd",
       "version_major": 2,
       "version_minor": 0
      },
      "text/plain": [
       "Loading checkpoint shards:   0%|          | 0/6 [00:00<?, ?it/s]"
      ]
     },
     "metadata": {},
     "output_type": "display_data"
    },
    {
     "name": "stdout",
     "output_type": "stream",
     "text": [
      "Memory after Model is loaded:\n",
      "\n",
      "GPU 0: NVIDIA GeForce RTX 3090\n",
      "   Total Memory: 23.69 GB\n",
      "   Free Memory: 19.51 GB\n",
      "   Allocated Memory : 3.69 GB\n",
      "   Reserved Memory : 3.88 GB\n"
     ]
    }
   ],
   "source": [
    "# Low precision config\n",
    "print(\"Memory before Model is loaded:\\n\")\n",
    "check_gpu_memory()\n",
    "bnb_config = BitsAndBytesConfig(\n",
    "    load_in_4bit=True,\n",
    "    bnb_4bit_use_double_quant=True,\n",
    "    bnb_4bit_quant_type=\"nf4\",\n",
    "    bnb_4bit_compute_dtype=torch.bfloat16\n",
    ")\n",
    "\n",
    "# Load model and tokenizer\n",
    "model = AutoModelForCausalLM.from_pretrained(paths.MODEL_PATH/model_name, \n",
    "                                             device_map=\"auto\", \n",
    "                                             quantization_config = bnb_config, \n",
    "                                            attn_implementation=\"flash_attention_2\")\n",
    "print(\"Memory after Model is loaded:\\n\")\n",
    "check_gpu_memory()"
   ]
  },
  {
   "cell_type": "code",
   "execution_count": 5,
   "metadata": {},
   "outputs": [
    {
     "name": "stdout",
     "output_type": "stream",
     "text": [
      "Vocabulary Size without Pad Token:  32000\n",
      "Tokenizer pad token ID: 32000\n",
      "Model pad token ID: 32000\n",
      "Model config pad token ID: 32000\n",
      "Vocabulary Size with Pad Token:  32001\n"
     ]
    }
   ],
   "source": [
    "tokenizer = AutoTokenizer.from_pretrained(paths.MODEL_PATH/model_name, padding_side='left')\n",
    "print(\"Vocabulary Size without Pad Token: \", len(tokenizer))\n",
    "\n",
    "# Check if the pad token is already in the tokenizer vocabulary\n",
    "if '<pad>' not in tokenizer.get_vocab():\n",
    "    # Add the pad token\n",
    "    tokenizer.add_special_tokens({\"pad_token\":\"<pad>\"})\n",
    "\n",
    "#Resize the embeddings\n",
    "model.resize_token_embeddings(len(tokenizer))\n",
    "\n",
    "#Configure the pad token in the model\n",
    "model.config.pad_token_id = tokenizer.pad_token_id\n",
    "\n",
    "# Check if they are equal\n",
    "assert model.config.pad_token_id == tokenizer.pad_token_id, \"The model's pad token ID does not match the tokenizer's pad token ID!\"\n",
    "\n",
    "# Print the pad token ids\n",
    "print('Tokenizer pad token ID:', tokenizer.pad_token_id)\n",
    "print('Model pad token ID:', model.config.pad_token_id)\n",
    "print('Model config pad token ID:', model.config.pad_token_id)\n",
    "print(\"Vocabulary Size with Pad Token: \", len(tokenizer))"
   ]
  },
  {
   "cell_type": "code",
   "execution_count": 81,
   "metadata": {},
   "outputs": [],
   "source": [
    "# Llama-2 chat template\n",
    "base_prompt = \"<s>[INST]<<SYS>>{system_prompt}<</SYS>>{user_input}[/INST] \\n\\nBased on the information provided in the text, the patient's diagnosis can be classified as\"\n",
    "system_prompt =  (\"You are a specialized medical language processor for German medical reports. \"\n",
    "                  \"Users will present you with medical reports in German and request the extraction of specific diagnostic information. \"\n",
    "                  \"Your responses should be concise, as short as possible and based solely on the information available in the input text. \"\n",
    "                  \"If the required information is not present, explicitly mention it.\"\n",
    "                 )\n",
    "task_instruction = (\"Your task is to extract the type of multiple Sclerosis (MS) from a medical report. There are 3 types: \"\n",
    "                    \"primary progressive MS, secondary progressive MS and relapsing remitting MS) \"\n",
    "                    \"Here are the German translations of these types: primary progressive multiple sclerosis = primär progrediente Multiple Sklerose\"\n",
    "                    \", secondary progressive multiple sclerosis = sekundär progrediente Multiple Sklerose, relapsing remitting multiple sclerosis = schubförmig remittierende Multiple Sklerose.\"\n",
    "                    #\"a diagnosis following V.a. or V.d. means suspected and should only be used as the main diagnosis if it is the only one. \"\n",
    "                    \"The diagnosis is provided in the text you just have to extract it. \"\n",
    "                    \"Your answer should solely consist of either \\\"primary progressive multiple sclerosis\\\", \\\"secondary progressive multiple sclerosis\\\" or \\\"relapsing remitting multiple sclerosis\\\".\"\n",
    "                    \"Here is the medical report: \"\n",
    "                   )\n",
    "def format_prompt(user_input):\n",
    "    input = base_prompt.format(system_prompt = system_prompt,\n",
    "                               user_input =  task_instruction  + user_input)\n",
    "    return tokenizer(input, return_tensors = \"pt\")"
   ]
  },
  {
   "cell_type": "code",
   "execution_count": 87,
   "metadata": {},
   "outputs": [],
   "source": [
    "# Trying to make output more consistent by stopping on MS, https://github.com/huggingface/transformers/issues/26959\n",
    "class EosListStoppingCriteria(StoppingCriteria):\n",
    "    def __init__(self, eos_sequence = [835, 2799, 4080, 29901]):\n",
    "        self.eos_sequence = eos_sequence\n",
    "\n",
    "    def __call__(self, input_ids: torch.LongTensor, scores: torch.FloatTensor, **kwargs) -> bool:\n",
    "        last_ids = input_ids[:,-len(self.eos_sequence):].tolist()\n",
    "        return self.eos_sequence in last_ids\n",
    "ms_stop = EosListStoppingCriteria(tokenizer(\"multiple sclerosis\", add_special_tokens = False)[\"input_ids\"])"
   ]
  },
  {
   "cell_type": "code",
   "execution_count": 148,
   "metadata": {},
   "outputs": [],
   "source": [
    "# Llama 2 without SYS\n",
    "base_prompt_no_sys = \"<s>[INST]{user_input}[/INST] \\nBased on the information provided in the text, the patient's diagnosis can be classified\"\n",
    "def format_prompt_no_sys(user_input):\n",
    "    input = base_prompt_no_sys.format(user_input = \"The patient's diagnosis in the following text can be classified as primary progressive, secondary progressive or relapsing remitting. Based on these categories, extract the diagnosis from the first lines of the following text: \" + user_input)\n",
    "    return tokenizer(input, return_tensors = \"pt\")"
   ]
  },
  {
   "cell_type": "code",
   "execution_count": 112,
   "metadata": {},
   "outputs": [],
   "source": [
    "# Llama 2 few shot\n",
    "def format_prompt_no_sys_text(user_input):\n",
    "    input = base_prompt_no_sys.format(user_input = user_input)\n",
    "    return input\n",
    "def format_prompt_one_shot(example1text, example1label, user_input):\n",
    "    input = format_prompt_no_sys_text(example1text) + example1label + \"</s> \\n\\n\" + format_prompt_no_sys_text(user_input)\n",
    "    return tokenizer(input, return_tensors = \"pt\")"
   ]
  },
  {
   "cell_type": "code",
   "execution_count": 113,
   "metadata": {},
   "outputs": [],
   "source": [
    "def format_prompt_few_shot(example1text, example1label, example2text, example2label, user_input):\n",
    "    examples = format_prompt_no_sys_text(example1text) + example1label + \"</s> \\n\\n\" + format_prompt_no_sys_text(example2text) + example2label + \"</s> \\n\\n\"\n",
    "    input = examples + format_prompt_no_sys_text(user_input)\n",
    "    return tokenizer(input, return_tensors = \"pt\")"
   ]
  },
  {
   "cell_type": "code",
   "execution_count": 65,
   "metadata": {},
   "outputs": [
    {
     "data": {
      "text/plain": [
       "tensor([[    1,     1,   518,  ...,   338, 29901, 29871]])"
      ]
     },
     "execution_count": 65,
     "metadata": {},
     "output_type": "execute_result"
    }
   ],
   "source": [
    "format_prompt_one_shot(ppms_example[\"text\"], ppms_example[\"labels\"],spms_example[\"text\"])[\"input_ids\"]"
   ]
  },
  {
   "cell_type": "code",
   "execution_count": 73,
   "metadata": {},
   "outputs": [
    {
     "data": {
      "text/plain": [
       "{'input_ids': tensor([[    1,     1,   518,  ...,   338, 29901, 29871]]), 'attention_mask': tensor([[1, 1, 1,  ..., 1, 1, 1]])}"
      ]
     },
     "execution_count": 73,
     "metadata": {},
     "output_type": "execute_result"
    }
   ],
   "source": [
    "format_prompt_few_shot(ppms_example[\"text\"][:100], \"PPMS\", spms_example[\"text\"][:100], \"SPMS\", rrms_example[\"text\"])"
   ]
  },
  {
   "cell_type": "code",
   "execution_count": 9,
   "metadata": {},
   "outputs": [],
   "source": [
    "# Load data\n",
    "data_files = {\"train\": \"ms-diag_clean_train.csv\", \"validation\": \"ms-diag_clean_val.csv\", \"test\": \"ms-diag_clean_test.csv\"}\n",
    "df = load_dataset(os.path.join(paths.DATA_PATH_PREPROCESSED,'ms-diag'), data_files = data_files)"
   ]
  },
  {
   "cell_type": "code",
   "execution_count": 10,
   "metadata": {},
   "outputs": [],
   "source": [
    "ppms_example = df[\"train\"].filter(lambda e: e[\"labels\"] == \"primary_progressive_multiple_sclerosis\")[0]\n",
    "spms_example = df[\"train\"].filter(lambda e: e[\"labels\"] == \"secondary_progressive_multiple_sclerosis\")[0]\n",
    "rrms_example = df[\"train\"].filter(lambda e: e[\"labels\"] == \"relapsing_remitting_multiple_sclerosis\")[0]"
   ]
  },
  {
   "cell_type": "code",
   "execution_count": 58,
   "metadata": {},
   "outputs": [],
   "source": [
    "encoded_labels = tokenizer([\"Primär progrediente Multiple Sklerose\", \"Sekundär progrediente Multiple Sklerose\", \"Schubförmig remittierende Multiple Sklerose\"], add_special_tokens=False)[\"input_ids\"]\n",
    "encoded_bad_words = tokenizer([\"user\"], add_special_tokens = False)[\"input_ids\"]"
   ]
  },
  {
   "cell_type": "code",
   "execution_count": 88,
   "metadata": {},
   "outputs": [
    {
     "name": "stdout",
     "output_type": "stream",
     "text": [
      "secondary_progressive_multiple_sclerosis\n",
      "['[INST]<<SYS>>You are a specialized medical language processor for German medical reports. Users will present you with medical reports in German and request the extraction of specific diagnostic information. Your responses should be concise, as short as possible and based solely on the information available in the input text. If the required information is not present, explicitly mention it.<</SYS>>Your task is to extract the type of multiple Sclerosis (MS) from a medical report. There are 3 types: primary progressive MS, secondary progressive MS and relapsing remitting MS) Here are the German translations of these types: primary progressive multiple sclerosis = primär progrediente Multiple Sklerose, secondary progressive multiple sclerosis = sekundär progrediente Multiple Sklerose, relapsing remitting multiple sclerosis = schubförmig remittierende Multiple Sklerose.The diagnosis is provided in the text you just have to extract it. Your answer should solely consist of either \"primary progressive multiple sclerosis\", \"secondary progressive multiple sclerosis\" or \"relapsing remitting multiple sclerosis\".Here is the medical report: Multiple Sklerose mit sekundär progredientem Verlauf seit ca. 2004 (EM 1983, ED 1996) klinisch: aktuell spastische Hemiparese li[/INST] \\n\\nBased on the information provided in the text, the patient\\'s diagnosis can be classified as \"secondary progressive multiple sclerosis']\n",
      "primary_progressive_multiple_sclerosis\n",
      "['[INST]<<SYS>>You are a specialized medical language processor for German medical reports. Users will present you with medical reports in German and request the extraction of specific diagnostic information. Your responses should be concise, as short as possible and based solely on the information available in the input text. If the required information is not present, explicitly mention it.<</SYS>>Your task is to extract the type of multiple Sclerosis (MS) from a medical report. There are 3 types: primary progressive MS, secondary progressive MS and relapsing remitting MS) Here are the German translations of these types: primary progressive multiple sclerosis = primär progrediente Multiple Sklerose, secondary progressive multiple sclerosis = sekundär progrediente Multiple Sklerose, relapsing remitting multiple sclerosis = schubförmig remittierende Multiple Sklerose.The diagnosis is provided in the text you just have to extract it. Your answer should solely consist of either \"primary progressive multiple sclerosis\", \"secondary progressive multiple sclerosis\" or \"relapsing remitting multiple sclerosis\".Here is the medical report: V.a. primär progrediente Multiple Sklerose, EM 08/2016, ED 10/2018, EDSS 4.5 INDENT aktuell: klinisch: nicht aktiv, radiologisch[/INST] \\n\\nBased on the information provided in the text, the patient\\'s diagnosis can be classified as \"primary progressive multiple sclerosis']\n",
      "relapsing_remitting_multiple_sclerosis\n",
      "['[INST]<<SYS>>You are a specialized medical language processor for German medical reports. Users will present you with medical reports in German and request the extraction of specific diagnostic information. Your responses should be concise, as short as possible and based solely on the information available in the input text. If the required information is not present, explicitly mention it.<</SYS>>Your task is to extract the type of multiple Sclerosis (MS) from a medical report. There are 3 types: primary progressive MS, secondary progressive MS and relapsing remitting MS) Here are the German translations of these types: primary progressive multiple sclerosis = primär progrediente Multiple Sklerose, secondary progressive multiple sclerosis = sekundär progrediente Multiple Sklerose, relapsing remitting multiple sclerosis = schubförmig remittierende Multiple Sklerose.The diagnosis is provided in the text you just have to extract it. Your answer should solely consist of either \"primary progressive multiple sclerosis\", \"secondary progressive multiple sclerosis\" or \"relapsing remitting multiple sclerosis\".Here is the medical report: Schubförmige Multiple Sklerose (EM 09/2015, ED 11/2015), EDSS 0,0 Anamnestisch INDENT schub- und beschwerdefrei Klinisch:  INDEN[/INST] \\n\\nBased on the information provided in the text, the patient\\'s diagnosis can be classified as \"relapsing remitting multiple sclerosis']\n",
      "relapsing_remitting_multiple_sclerosis\n",
      "['[INST]<<SYS>>You are a specialized medical language processor for German medical reports. Users will present you with medical reports in German and request the extraction of specific diagnostic information. Your responses should be concise, as short as possible and based solely on the information available in the input text. If the required information is not present, explicitly mention it.<</SYS>>Your task is to extract the type of multiple Sclerosis (MS) from a medical report. There are 3 types: primary progressive MS, secondary progressive MS and relapsing remitting MS) Here are the German translations of these types: primary progressive multiple sclerosis = primär progrediente Multiple Sklerose, secondary progressive multiple sclerosis = sekundär progrediente Multiple Sklerose, relapsing remitting multiple sclerosis = schubförmig remittierende Multiple Sklerose.The diagnosis is provided in the text you just have to extract it. Your answer should solely consist of either \"primary progressive multiple sclerosis\", \"secondary progressive multiple sclerosis\" or \"relapsing remitting multiple sclerosis\".Here is the medical report: Schubförmige Multiple Sklerose, EM 03/2019, ED 12/2019, EDSS 1.5 INDENT aktuell:klinisch aktiv, radiologisch aktiv, keine Progre[/INST] \\n\\nBased on the information provided in the text, the patient\\'s diagnosis can be classified as:\\n\\n\"relapsing remitting multiple sclerosis']\n",
      "relapsing_remitting_multiple_sclerosis\n",
      "['[INST]<<SYS>>You are a specialized medical language processor for German medical reports. Users will present you with medical reports in German and request the extraction of specific diagnostic information. Your responses should be concise, as short as possible and based solely on the information available in the input text. If the required information is not present, explicitly mention it.<</SYS>>Your task is to extract the type of multiple Sclerosis (MS) from a medical report. There are 3 types: primary progressive MS, secondary progressive MS and relapsing remitting MS) Here are the German translations of these types: primary progressive multiple sclerosis = primär progrediente Multiple Sklerose, secondary progressive multiple sclerosis = sekundär progrediente Multiple Sklerose, relapsing remitting multiple sclerosis = schubförmig remittierende Multiple Sklerose.The diagnosis is provided in the text you just have to extract it. Your answer should solely consist of either \"primary progressive multiple sclerosis\", \"secondary progressive multiple sclerosis\" or \"relapsing remitting multiple sclerosis\".Here is the medical report: Schubförmige Multiple Sklerose (RRMS), EDSS 2.0 (ES 10/2006, ED 2/2007) INDENT aktuell: klinisch nicht aktiv, radiologisch nicht[/INST] \\n\\nBased on the information provided in the text, the patient\\'s diagnosis can be classified as \"relapsing remitting multiple sclerosis']\n",
      "primary_progressive_multiple_sclerosis\n",
      "['[INST]<<SYS>>You are a specialized medical language processor for German medical reports. Users will present you with medical reports in German and request the extraction of specific diagnostic information. Your responses should be concise, as short as possible and based solely on the information available in the input text. If the required information is not present, explicitly mention it.<</SYS>>Your task is to extract the type of multiple Sclerosis (MS) from a medical report. There are 3 types: primary progressive MS, secondary progressive MS and relapsing remitting MS) Here are the German translations of these types: primary progressive multiple sclerosis = primär progrediente Multiple Sklerose, secondary progressive multiple sclerosis = sekundär progrediente Multiple Sklerose, relapsing remitting multiple sclerosis = schubförmig remittierende Multiple Sklerose.The diagnosis is provided in the text you just have to extract it. Your answer should solely consist of either \"primary progressive multiple sclerosis\", \"secondary progressive multiple sclerosis\" or \"relapsing remitting multiple sclerosis\".Here is the medical report: Primär progrediente Multiple Sklerose, EM ca. 2010, ED 06/2016  INDENT EDSS 07/2020: 6.0 INDENT Klinik:   INDENT Deutliche Versc[/INST] \\n\\nBased on the information provided in the text, the patient\\'s diagnosis can be classified as:\\n\\nprimary progressive multiple sclerosis']\n",
      "relapsing_remitting_multiple_sclerosis\n",
      "['[INST]<<SYS>>You are a specialized medical language processor for German medical reports. Users will present you with medical reports in German and request the extraction of specific diagnostic information. Your responses should be concise, as short as possible and based solely on the information available in the input text. If the required information is not present, explicitly mention it.<</SYS>>Your task is to extract the type of multiple Sclerosis (MS) from a medical report. There are 3 types: primary progressive MS, secondary progressive MS and relapsing remitting MS) Here are the German translations of these types: primary progressive multiple sclerosis = primär progrediente Multiple Sklerose, secondary progressive multiple sclerosis = sekundär progrediente Multiple Sklerose, relapsing remitting multiple sclerosis = schubförmig remittierende Multiple Sklerose.The diagnosis is provided in the text you just have to extract it. Your answer should solely consist of either \"primary progressive multiple sclerosis\", \"secondary progressive multiple sclerosis\" or \"relapsing remitting multiple sclerosis\".Here is the medical report: Multiple Sklerose, schubförmiger Verlauf (EM 2006, ED 06.08.2014) INDENT Verlauf: INDENT 2006: Koordinationsstörung der rechten [/INST] \\n\\nBased on the information provided in the text, the patient\\'s diagnosis can be classified as:\\n\\n\"relapsing remitting multiple sclerosis']\n",
      "relapsing_remitting_multiple_sclerosis\n",
      "['[INST]<<SYS>>You are a specialized medical language processor for German medical reports. Users will present you with medical reports in German and request the extraction of specific diagnostic information. Your responses should be concise, as short as possible and based solely on the information available in the input text. If the required information is not present, explicitly mention it.<</SYS>>Your task is to extract the type of multiple Sclerosis (MS) from a medical report. There are 3 types: primary progressive MS, secondary progressive MS and relapsing remitting MS) Here are the German translations of these types: primary progressive multiple sclerosis = primär progrediente Multiple Sklerose, secondary progressive multiple sclerosis = sekundär progrediente Multiple Sklerose, relapsing remitting multiple sclerosis = schubförmig remittierende Multiple Sklerose.The diagnosis is provided in the text you just have to extract it. Your answer should solely consist of either \"primary progressive multiple sclerosis\", \"secondary progressive multiple sclerosis\" or \"relapsing remitting multiple sclerosis\".Here is the medical report: Vd.a. Lokal-Injektions-Reaktion auf Interferon beta-Injektion INDENT DD kontaktallergische Reaktion auf Rebif[/INST] \\n\\nBased on the information provided in the text, the patient\\'s diagnosis can be classified as:\\n\\n\"relapsing remitting multiple sclerosis']\n",
      "relapsing_remitting_multiple_sclerosis\n",
      "['[INST]<<SYS>>You are a specialized medical language processor for German medical reports. Users will present you with medical reports in German and request the extraction of specific diagnostic information. Your responses should be concise, as short as possible and based solely on the information available in the input text. If the required information is not present, explicitly mention it.<</SYS>>Your task is to extract the type of multiple Sclerosis (MS) from a medical report. There are 3 types: primary progressive MS, secondary progressive MS and relapsing remitting MS) Here are the German translations of these types: primary progressive multiple sclerosis = primär progrediente Multiple Sklerose, secondary progressive multiple sclerosis = sekundär progrediente Multiple Sklerose, relapsing remitting multiple sclerosis = schubförmig remittierende Multiple Sklerose.The diagnosis is provided in the text you just have to extract it. Your answer should solely consist of either \"primary progressive multiple sclerosis\", \"secondary progressive multiple sclerosis\" or \"relapsing remitting multiple sclerosis\".Here is the medical report: Schubförmig remittierende Multiple Sklerose (EM 04/2011, ED 11/2011) EDSS 1.0 Aktuell:  subjektiv beschwerdefrei, Pallhypästhesi[/INST] \\n\\nBased on the information provided in the text, the patient\\'s diagnosis can be classified as \"relapsing remitting multiple sclerosis']\n",
      "relapsing_remitting_multiple_sclerosis\n",
      "['[INST]<<SYS>>You are a specialized medical language processor for German medical reports. Users will present you with medical reports in German and request the extraction of specific diagnostic information. Your responses should be concise, as short as possible and based solely on the information available in the input text. If the required information is not present, explicitly mention it.<</SYS>>Your task is to extract the type of multiple Sclerosis (MS) from a medical report. There are 3 types: primary progressive MS, secondary progressive MS and relapsing remitting MS) Here are the German translations of these types: primary progressive multiple sclerosis = primär progrediente Multiple Sklerose, secondary progressive multiple sclerosis = sekundär progrediente Multiple Sklerose, relapsing remitting multiple sclerosis = schubförmig remittierende Multiple Sklerose.The diagnosis is provided in the text you just have to extract it. Your answer should solely consist of either \"primary progressive multiple sclerosis\", \"secondary progressive multiple sclerosis\" or \"relapsing remitting multiple sclerosis\".Here is the medical report: Schubförmige multiple Sklerose (RRMS), Erstmanifestation 2009, Erstdiagnose 09/2012 mit/bei: INDENT EDSS 06/2015: 2.5  INDENT St[/INST] \\n\\nBased on the information provided in the text, the patient\\'s diagnosis can be classified as \"relapsing remitting multiple sclerosis']\n"
     ]
    }
   ],
   "source": [
    "for i in range(10):\n",
    "    example = df[\"train\"][i]\n",
    "    prompt_encoded = format_prompt(example[\"text\"][:128])\n",
    "    # prompt_encoded = format_prompt_no_sys(example[\"text\"])\n",
    "    # prompt_encoded = format_prompt_one_shot(ppms_example[\"text\"], \"primary progressive multiple sclerosis\", example[\"text\"])\n",
    "    # prompt_encoded = format_prompt_few_shot(ppms_example[\"text\"][:80], \"primary progressive multiple sclerosis\", spms_example[\"text\"][:80], \"secondary progressive multiple sclerosis\", example[\"text\"])\n",
    "    return_tokens = model.generate(**prompt_encoded, max_new_tokens=100, temperature = 1, top_p = 1, do_sample = False, stopping_criteria = [ms_stop])\n",
    "    print(example[\"labels\"])\n",
    "    print(tokenizer.batch_decode(return_tokens, skip_special_tokens=True))"
   ]
  },
  {
   "cell_type": "code",
   "execution_count": 100,
   "metadata": {},
   "outputs": [
    {
     "name": "stderr",
     "output_type": "stream",
     "text": [
      "100%|██████████| 123/123 [01:49<00:00,  1.13it/s]\n",
      "100%|██████████| 123/123 [02:24<00:00,  1.18s/it]\n"
     ]
    }
   ],
   "source": [
    "def zero_shot_inference(data, truncation):\n",
    "    labels = []\n",
    "    results = []\n",
    "\n",
    "    for i in tqdm(range(len(data))):\n",
    "        example = data[i]\n",
    "        prompt_encoded = format_prompt(example[\"text\"][:truncation])\n",
    "        \n",
    "        # Use model.generate with torch.no_grad() for inference\n",
    "        with torch.no_grad():\n",
    "            return_tokens = model.generate(\n",
    "                **prompt_encoded,\n",
    "                max_new_tokens=100,\n",
    "                temperature=1,\n",
    "                top_p=1,\n",
    "                do_sample=False,\n",
    "                stopping_criteria=[ms_stop]\n",
    "            )\n",
    "\n",
    "        result = tokenizer.batch_decode(return_tokens, skip_special_tokens=True)[0]\n",
    "        \n",
    "        prefix = \"Based on the information provided in the text, the patient's diagnosis can be classified as\"\n",
    "        result = result.split(prefix)[-1].strip()\n",
    "        \n",
    "        labels.append(example[\"labels\"])\n",
    "        results.append(result)\n",
    "\n",
    "    # Fix the DataFrame creation\n",
    "    return pd.DataFrame({\"labels\": labels, \"results\": results})\n",
    "\n",
    "data = df[\"train\"]\n",
    "train_data_128 = zero_shot_inference(data, 128)\n",
    "train_data_full = zero_shot_inference(data, -1)"
   ]
  },
  {
   "cell_type": "code",
   "execution_count": 128,
   "metadata": {},
   "outputs": [
    {
     "name": "stderr",
     "output_type": "stream",
     "text": [
      "  0%|          | 0/59 [00:00<?, ?it/s]/cluster/customapps/biomed/grlab/users/eglimar/conda/envs/inf-extr/lib/python3.9/site-packages/transformers/generation/utils.py:1636: UserWarning: You are calling .generate() with the `input_ids` being on a device type different than your model's device. `input_ids` is on cpu, whereas the model is on cuda. You may experience unexpected behaviors or slower generation. Please make sure that you have put `input_ids` to the correct device by calling for example input_ids = input_ids.to('cuda') before running `.generate()`.\n",
      "  warnings.warn(\n",
      "100%|██████████| 59/59 [00:52<00:00,  1.12it/s]\n",
      "100%|██████████| 59/59 [01:05<00:00,  1.11s/it]\n"
     ]
    }
   ],
   "source": [
    "data = df[\"test\"]\n",
    "test_data_128 = zero_shot_inference(data, 128)\n",
    "test_data_full = zero_shot_inference(data, -1)"
   ]
  },
  {
   "cell_type": "code",
   "execution_count": null,
   "metadata": {},
   "outputs": [],
   "source": [
    "label_mapping = {'primary progressive multiple sclerosis': 'primary_progressive_multiple_sclerosis',\n",
    "                 'secondary progressive multiple sclerosis': 'secondary_progressive_multiple_sclerosis',\n",
    "                 'relapsing remitting multiple sclerosis': 'relapsing_remitting_multiple_sclerosis'}\n",
    "\n",
    "def map_strings_to_labels(input_string:str):\n",
    "    for key in label_mapping.keys():\n",
    "        if key in input_string.strip().lower():\n",
    "            return label_mapping.get(key, None)"
   ]
  },
  {
   "cell_type": "code",
   "execution_count": 109,
   "metadata": {},
   "outputs": [],
   "source": [
    "train_data_128[\"results_clean\"] = train_data_128[\"results\"].apply(map_strings_to_labels)\n",
    "train_data_full[\"results_clean\"] = train_data_full[\"results\"].apply(map_strings_to_labels)"
   ]
  },
  {
   "cell_type": "code",
   "execution_count": 121,
   "metadata": {},
   "outputs": [
    {
     "name": "stdout",
     "output_type": "stream",
     "text": [
      "{'accuracy': 0.8780487804878049, 'f1': 0.7832528180354267, 'precision': 0.7844423617619495, 'recall': 0.890909090909091}\n"
     ]
    },
    {
     "data": {
      "image/png": "[encoded data removed]",
      "text/plain": [
       "<Figure size 640x480 with 2 Axes>"
      ]
     },
     "metadata": {},
     "output_type": "display_data"
    }
   ],
   "source": [
    "data = train_data_128\n",
    "labels = [ms_label2id[label] for label in data.labels]\n",
    "preds = [ms_label2id[res] for res in data.results_clean]\n",
    "print(performance_metrics(preds, labels))\n",
    "plot_confusion_matrix(preds, labels, label2id = ms_label2id)"
   ]
  },
  {
   "cell_type": "code",
   "execution_count": 125,
   "metadata": {},
   "outputs": [
    {
     "name": "stdout",
     "output_type": "stream",
     "text": [
      "Entry:  15\n",
      "Label relapsing_remitting_multiple_sclerosis\n",
      "Predicted primary_progressive_multiple_sclerosis\n",
      "Text:  Immunität gegen Hepatitis A/-B INDENT St.n. vollständiger Hepatitis A/-B-Impfung INDENT Dokumentierter Hepatitis B-Impftitier > 1000 IE/l\n",
      "\n",
      "\n",
      "Entry:  18\n",
      "Label relapsing_remitting_multiple_sclerosis\n",
      "Predicted primary_progressive_multiple_sclerosis\n",
      "Text:  Immunität Hepatitis A/-B INDENT Anti-HBs >1000 IE/l 16.01.2020 INDENT Anti-Hep. A-IgG positiv 29.01.2020\n",
      "\n",
      "\n",
      "Entry:  23\n",
      "Label relapsing_remitting_multiple_sclerosis\n",
      "Predicted primary_progressive_multiple_sclerosis\n",
      "Text:  V.a. entzündliche demyelinisierende ZNS-Erkrankung EM 25.08.2020 INDENT mit Progression der intracerebralen bihemisphärischen Raumforderungen, ED 22.09.2020 INDENT anamnestisch: Armschwäche rechts seit dem 25.08.2020, nach initialer Besserung der Symptomatik erneute Verschlechterung seit dem 22.09.2020.  INDENT klinisch:  INDENT Leichte distalbetonte Armparese rechts mit Feinmotoriksstörung der rechten Hand.  INDENT diagnostisch: INDENT Biopsie frontal links 01.10.2020 (fecit Dr. Küffer): Relativ scharf abgegrenzte, makrophagenreiche Läsion mit akuter Demyelinisierung und chronischer Entzündung. Kein Hinweis für einen Tumor. Weitere Spezialfärbungen ausstehend.  INDENT Serum: Quantiferon-Test: negativ, Treponema pallidum: negativ, Borrelia burgdorferi IgG/IgM: negativ  INDENT cMRI 22.09.2020: deutlich grössenprogrediente, irregulär konfigurierte Läsion im Zentrum semiovale links mit nun ausgeprägter, randständig betonter, inhomogener Kontrastmittelaufnahme, Diffusionsrestriktion, zentraler T1- Hypointensität und ausgedehnter umgebender FLAIR-Hyperintensität, die sich fingerförmig ins hochfrontale und präzentral Marklager erstreckt. Progrediente aber insgesamt nur mässige, fokale raumfordernde Wirkung. Grössenregrediente Läsion am kranialen Hinterhorn rechts ohne Kontrastmittelaufnahme. Leicht grössenprogrediente, in der Morphologie etwas veränderte, flau randständig kontrastmittelaufnehmende, zentral zunehmend T1-hypointense Läsion am kaudalen Hinterhorn entlang der Sehbahn rechts INDENT CT Thorax vom 02.10.2020 (mündlicher Befund): keine belastbaren Hinweise für Sarkoidose INDENT cCT 25.08.2020: Keine Blutung. Kein frisch demarkierter Territorialinfarkt, keine Ischämie-Frühzeichen. Kein Nachweis von Gefässabbrüchen, höhergradigen Stenosen oder von Aneurysmata. Bekannter, postischämischer Defekt präcentral kortikal rechts. INDENT cMRI 26.08.2020: Die drei, teils kokardenartigen und ventrikelständigen Läsionen bihemisphärisch sind vom Signalverhalten am ehesten entzündliche Läsionen mit demyelinisierendem Charakter  INDENT Neuroangiologie 26.08.2020: Mässiggradige Atheromatose der extrakraniellen hirnversorgenden Gefässe. INDENT TTE 27.08.2020: keine kardiale Emboliequellen.  INDENT EEG vom 27.08.2020: Normale Grundaktivität. Kein Herdbefund. Keine epilepsie-typische Potentiale. Kein Status epilepticus.   INDENT Lumbalpunktion vom 28.08.2020: 4 Zellen/ul, keine Schrankenfunktionsstörung, intrathekale IgG Synthese, OKB positiv  im Serum und Liquor plus zusätzliche Banden im Liquor, in der FACS Analyse kein Hinweis auf Lymphom, Zytopathologie unauffällig INDENT Vaskulitisscreening: ANA 1:320, ansonsten unauffällig INDENT therapeutisch:  INDENT Steroidstosstherapie mit 1000 mg Methylprednisolon / d vom 29.08.2020 bis 02.09.2020 INDENT Steroidstosstherapie mit 1000 mg Methylprednisolon / d vom 02.10.2020 bis 06.10.2020\n",
      "\n",
      "\n",
      "Entry:  26\n",
      "Label relapsing_remitting_multiple_sclerosis\n",
      "Predicted primary_progressive_multiple_sclerosis\n",
      "Text:  V.a. entzündliche ZNS-Erkrankung, EM 23.11.2015 INDENT DD CIS, ADEM INDENT Anamnese: Kribbeln der linken Körperhälfte seit ca. 23.11.2015 langsam zunehmend; Mutter mit MS INDENT Klinik: sensomotorisches beinbetontes Hemisyndrom links, Koordinationsstörung Hand links, Kraftgrad Bein links M4, im Verlauf zunehmend mit Parese im Arm links distal bis M4 und im Bein links M3, im weiteren Verlauf deutliche Regredienz, bei Austritt residuell diskrete Kraftminderung und Feinmotorikstörung in der linken Hand sowie leichte Hypästhesie und Dysästhesien im Arm links INDENT cMRI: FLAIR/T2 hyperintense Läsionen infratentoriell, juxtacortical und periventrikulär, teils T1 hypointens, die grösste Läsion am Hinterhorn des Ncl. caudatus, bis knapp an die Inselrinde reichend rechts reichert randständig punktuell etwas KM an INDENT Liquoranalyse: 1 Zelle/ul, Protein, Glucose und Lactat normal, OKB im Liquor positiv, grenzwertiger IgG-Index INDENT Blut: Borrelien- und Lues-Serologie negativ, Rheumalabor negativ, Virologie ohne Hinweis auf aktive Infektion INDENT Therapie: Cortisonstoss mit 500 mg Methylprednisolon/d p.o. ab 29.11.2015 über 5 Tage, bei klinischer Progredienz ab 04.12.2015 1000 mg Methylprednisolon/d i.v. über 5 Tage, darunter Regredienz\n",
      "\n",
      "\n",
      "Entry:  29\n",
      "Label secondary_progressive_multiple_sclerosis\n",
      "Predicted relapsing_remitting_multiple_sclerosis\n",
      "Text:  1. Multiple Sklerose mit sekundär chronisch progredientem Verlauf seit 2008, EM 1999, ED 2002, EDSS 6.5 INDENT Aktuell: Klinisch nicht aktiv; radiologisch aktuell nicht beurteilbar; keine Progression (Lublin, 2013) INDENT Klinisch:  INDENT rechtseitig beinbentonte spastische Tetraparese, Blasen- und Mastdarmfunktionsstörung mit Urgesymptomatik und Restharn, vermehrte Fatigue-Symptomatik, Sexualfunktionsstörung INDENT 07/2020: Parästhesien untere Bauch- und Genitalregion sowie zunehmende Sexualfunktionsstörung INDENT Verlauf: INDENT 1999: EM Episode mit Doppelbildern INDENT 2002: Schub mit Gleichgewichtsstörung, Hypästhesie am Rumpf, rückläufig auf Kortison INDENT 2002 bis 2008 weitestgehend stabiler Verlauf ohne weitere Schübe INDENT 2010 subakute Kribbelparästhesien im Kopfbereich und der rechten Körperhälfte mit Regredienz nach oralem Kortisontherapie INDENT seit 2008 V.a. sekundär chronisch-progredienten Verlauf mit chronischer Verschlechterung der Gangstörung, der Blasen- und Sexualfunktionsstörung sowie progredienter Fatigue-Symptomatik INDENT Diagnostik (teilweise extern): INDENT Labor: INDENT Infektionsserologien 01/2018: negativ für HBV, HCV, HIV INDENT Labor 01/2018: blande für Leber-, Nierenwerte, CRP, TSH, Ferritin hochnormal, BB bis auf diskrete Lymphozytopenie von 1.45 G/l unauffällig INDENT 6-min Gehtests von 04/2018 (Rehabilitation Rheinfelden): 100 Meter; dann Beginn Fampyra: 300 Meter INDENT Laborchemisch (Urin) vom 02.11.2018: Erythrozyten leicht erhöht; ansonsten normwertig.  INDENT Laborchemisch (Serum) vom 02.11.2018: Lymphozyten 0.87 G/l (leicht erniedrigt). Leberwerte normal. Immunphänotypisierung: Komplette Depletion der CD19+/CD20+ B-Zellpopulation. INDENT Bildgebend: INDENT MRI Schädel 16.06.2014 (Hirslanden): keine KM-anreichernde Plaques, multiple demylisierende Läsionen stationär zu 03/2011 INDENT MRI Myelon 16.06.2014: Multiple nicht KM-anreichernde Demyelinisierungsherde, stabil zu 03/2011 INDENT MRI Neuroachse 03/2018: progredienter Befund cerebral und spinal, keine aktiven Läsionen INDENT MRI Myelon 01/2019: stationär INDENT MRI Schädel 01/2019: stationär INDENT MRI Schädel, HWS und BWS 08/2019: Stationäre Darstellung der supra- und infratentoriellen demyelinisierenden Läsionen und der demyelinisierenden Myelonläsionen ohne KM-Aufnahme.  INDENT MRI Schädel 2/2020: stabil INDENT MRI WS 2/2020: stabiler Befund  INDENT MRI HWS, BWS und LWS vom 06.08.2020: Stabile spinale Läsionslast ohne Schrankenstörung. INDENT MRI Neuroachse 02/2021: stationärer Befund. INDENT sonstige Diagnostik: INDENT SEP 01/2021: Beidseits linksbetont pathologische Tibialis-SEPs.  INDENT Ganglabor 02/2021): Alle Testergebnisse lagen nachwievor deutlich ausserhalb des Normbereichs von gleichaltrigen gesunden Personen. Im Vergleich zur letzten Untersuchung vor einem Jahr (01/2020) zeigte sich eine deutliche Verschlechterungstendenz. INDENT Therapie: INDENT Steroidstosstherapie 2002 INDENT stationäre Neurorehaklinik (Zihlschlacht  07/2020) INDENT St.n. symptomatischer Therapie mit Fampyra (insgesamt 2 Therapieversuche, gestoppt bei Wirkungslosogkeit und i.R. der kardialen Vorbefunden), Therapieversuch mit Modasomil/Remeron (keine Besserung), Venlafaxin (bei Nebenwirkungen gestoppt), Sirdalud INDENT Rebif 2002, abgesetzt 6 Monate später wegen Unverträglichkeit (grippale Nebenwirkungen) INDENT St.n. Rituximab, 1.Gabe am 31.08.2018, 2. Gabe am 04.03.2019, Therapiepause bei verminderter körperlicher Leistungsfähigkeit, Palpitationen, bei vorbekannter Herzinsuffizienz (siehe Befunde Kardiologie/klin. Pharmakologie) 2. Herzinsuffizienz bei komplettem Linksschenkelblock bislang ungeklärter Ätiologie, ED 12/2016 INDENT Anamnestisch: Atypische thorakale Beschwerden 2016 INDENT TTE 28.12.2016. Linker Ventrikel leichtgradig dilatiert mit mittelschwer eingeschränkter systolischer Funktion (EF biplan 38 %, visuell 30 %) bei septaler, aritero-septaler, anteriorer und apikaler Hypo- bis Akinesie INDENT TTE 04/2019: Normal grosser (EDVI=71 ml/m2), nicht hypertropher linker Ventrikel mit leicht eingeschränkter Auswurffraktion (EF biplan = 41%) bei Dyssynchronie (septal Flash, apical Rocking) bei Linksschenkelblock und angedeuteter septaler Hypokinesie (bei Dyssynchronie schwer beurteilbar). Diastolische Funktion bei Fusion nicht konklusiv beurteilbar, jedoch kein Hinweis auf erhöhte Füllungsdrücke. Trikuspide, leicht fibrosierte Aortenklappe mit normaler Funktion. Mitralklappe mit Prolaps des posterioren Segels und minimer Insuffizienz. Normal dimensionierter linker Vorhof (LAVI=24 ml/m2). Rechter Ventrikel normal gross mit normaler systolischer Funktion, fac=50%, TAPSE=21 mm, S'=15 cm/s. Keine indirekten Hinweise für eine pulmonale Drucksteigerung. INDENT Fahrradergometrie 28.12.2016: Klinisch negativ, elektrisch nicht konklusiv INDENT Koronarangiographie mit Ventrikulographie 16.01.2017: Normale Koronarien, normale LV- Funktion INDENT Kardiovaskulare Risikofaktoren: Familiare Disposition\n",
      "\n",
      "\n",
      "Entry:  34\n",
      "Label relapsing_remitting_multiple_sclerosis\n",
      "Predicted primary_progressive_multiple_sclerosis\n",
      "Text:  Candidamykose Dig. I Hand rechts INDENT Mykologische Kultur vom 16.07.2014 Nagel Dig. I: Candida parapsilosis INDENT Therapie: Itraconazol Tbl. 2x100mg 08/2014-11/2014 INDENT Mykologische Kultur vom 10.11.14: negativ INDENT Mykologische Kultur vom 28.01.2015 Dig I. Hand rechts: negativ INDENT Mykologische Kultur vom 07.04.2015: Handfläche:negativ  INDENT Mykologische Kultur vom  07.04.2015: Nagelmaterial Hand Dig I rechts: negativ.\n",
      "\n",
      "\n",
      "Entry:  39\n",
      "Label relapsing_remitting_multiple_sclerosis\n",
      "Predicted primary_progressive_multiple_sclerosis\n",
      "Text:  Enzephalomyelitis, DD ADEM mit klinisch dissoziierter Sensibilitätsstörung sub Th7 linksseitig sowie zerebellärer Gang- und Standataxie, EM am 5.12.14 INDENT ätiologisch: a.e. autoimmun; immunologisch-infektiologische Labordiagnostik ausstehend INDENT anamnestisch: seit 5.12.14 Schwindel, gefolgt von Gangunsicherheit und Nackenschmerzen INDENT klinisch: dissoziierte Sensibilitätsstörung sub Th7 linksseitig mit gestörtem Temperatur- und Schmerzempfinden, Berührung und Vibrationsempfinden ungestört, Gangunsicherheit nach Schrittwendung, Einbeinstand bds unsicher, Seiltänzergang unsicher, 'painful neck' INDENT diagnostisch:  INDENT MRI BWS 9.12.14: Auf Höhe TH 7/8 als auch auf Höhe TH 10 umschriebene T2w Hyperintensität mit vermehrter Kontrastanreicherung.  INDENT MRI Neurokranium 10.12.14: zahlreiche, infra- und supratentorielle multifokale FLAIR-hyperintense Befunde allesamt KM-aufnehmend, T1 black holes, Thalamusläsion, NB: Pinealiszyste INDENT MRI LWS/HWS 11.12.14: Lateral rechts und posterolateral links T2w Hyperintensität auf Höhe des C2/3 Übergangs mit deutlichen KM-Anreicherung. INDENT Liquorpunktion 10.12.14: 15 Zellen/ul, restlichen Befunde inkl. FACS und Virologie  INDENT ausstehend INDENT Infektionsserologie: Borr., Trep. pall. im Liquor und Serum neg. INDENT therapeutisch: 1g Methylprednisolon/Tag ab 10.12.2014 über 5 Tage \n",
      "\n",
      "\n",
      "Entry:  42\n",
      "Label relapsing_remitting_multiple_sclerosis\n",
      "Predicted primary_progressive_multiple_sclerosis\n",
      "Text:  Clinically isolated Syndrome (CIS), EM 30.07.2013 anamnestisch: seit dem 30.7.2013 Doppelbilder in alle Richungen klinsch: INO rechts (Adduktionsdefizit rechts, dissoziierter Nystagmus links), fraglich auch links, Fazialisparese links mit Stirnastbeteiligung diagnostisch: INDENT Labor 08/2013: BSG, CK, TSH, Transamniasen, Kreatinin, Folsäure und HoloTC im Normbereich; ACE noch ausstehend; HIV- und Borrelien negativ; Hepatitis A und B Serologie negativ; Lues-Serologie noch ausstehend. INDENT Liquor vom 02.08.2013: ZZ 5/ul, Protein, Lactat, Glucose im Normbereich; IgG-Index erhöht mit Vd. a. intrathekale IgG-Synthese, IgA und IgM normal; OCB noch ausstehend INDENT MRI Schädel vom 02.08.2013: KM-aufnehmende Läsion Colliculi facialis links, 2 ältere Läsionen frontal rechts und links INDENT MRI spinal vom 6.8.2013: fraglich zwei ältere Läsionen cervikal und thorakal, DD artefaktbedingt INDENT Tx-Rx vom 08.08.2013: altersentsprechender Normalbefund aetiologisch: am ehesten im Rahmen einer chronisch-entzündlichen ZNS-Erkrankung··therapeutisch: INDENT Solu Medrol 1g/d über 5 Tage (02.08-06.08.2013)\n",
      "\n",
      "\n",
      "Entry:  43\n",
      "Label relapsing_remitting_multiple_sclerosis\n",
      "Predicted primary_progressive_multiple_sclerosis\n",
      "Text:  Ophthalmologische Diagnosen INDENT OU Myopie\n",
      "\n",
      "\n",
      "Entry:  75\n",
      "Label relapsing_remitting_multiple_sclerosis\n",
      "Predicted primary_progressive_multiple_sclerosis\n",
      "Text:  Anpassungsstörung, kurze depressive Reaktion\n",
      "\n",
      "\n",
      "Entry:  78\n",
      "Label relapsing_remitting_multiple_sclerosis\n",
      "Predicted primary_progressive_multiple_sclerosis\n",
      "Text:  St. n. Bimaxilläre Retrognathie mit/bei: INDENT St. n. Le Fort I Osteotomie und sagittale Spaltung Unterkiefer beidseits am 08.02.2011\n",
      "\n",
      "\n",
      "Entry:  92\n",
      "Label relapsing_remitting_multiple_sclerosis\n",
      "Predicted primary_progressive_multiple_sclerosis\n",
      "Text:  Ophthalmologische Diagnose OSPresbyope Beschwerden links bei anisometroper Hyperopie links OUSt. n. LASIK 2007\n",
      "\n",
      "\n",
      "Entry:  95\n",
      "Label relapsing_remitting_multiple_sclerosis\n",
      "Predicted primary_progressive_multiple_sclerosis\n",
      "Text:  Cerebrale FLAIR-Hyperintensitäten bislang ungeklärter Ätiologie, EM 07/2012, ED 02/2014, EDSS 0.0 INDENT Ätiologisch: Unklar, DD vaskulär, DD schubförmige Multiple Sklerose eher unwahrscheinlich INDENT Klinisch/aktuell: nihil INDENT Verlauf: INDENT 08/2012 Anamnestisch Unteramschwäche beidseits über drei Tage INDENT seit 09/2012 intermittierend stechende Muskelschmerzen und passagere Dysästhesien im Bereich beider Arme und Beine, an Frequenz und Dauer nicht zunehmend INDENT Diagnostik: INDENT 12/2012 MRI Gehirn und HWS: multiple periventrikulär betonte T2/FLAIR-Hyperintensitäten, kein Nachweis einer floriden Entzündung; MRI HWS unauffällig (nur schriftlicher Befund) INDENT 12/2012 Neurographien: Medianus, Ulnaris, Suralis normal. INDENT 01/2013 VEP: Normalbefund INDENT 01/2013 Liquor (extern): 1 Zelle/ul, keine Schrankenstörung, Protein 418 mg/l, keine intrathekale IgG Synthese, Zellzahl 1/ul, Borrelien, Herpes simplex sowie VZV-Antikörper negativ INDENT 2014 und 03/2016 Labor: Infektiologisches und immunologisches Screening normwertig. INDENT 01/2014 MRI Gehirn und WS: In Anzahl leicht progrediente supratentorielle Marklagerläsionen, aktuell ohne KM Aufnahme, Keine infratentoriellen Läsioenen. Keine Läsion im Bereich des Myelons.  INDENT 03/2016 MRI Gehirn: Stationärer Befund zu 01/2014 INDENT 10.03.2016 CT Thorax (Spital Horgen): keine Lymphadenopathie, mehrere kleine unspezifische Noduli (ca. 2mm) a.e. Granulome  INDENT 03/2017 cMRI: unverändert INDENT 04/2018 cMRI: unverändert INDENT VEP und OCT 10/2018: Normalbefunde INDENT Liquordiagnostik von 01/2019: unauffällig, keine intrathekale IgG Synthese, MRZ-Reaktion negativ INDENT MOG AK im Serum 01/2019: negativ INDENT 01/2019 cMRI: neue, jedoch nicht aktive demyelinisierende Läsion im Pons rechts, a.e Artefakt. INDENT Therapie: INDENT  01/2015-03/2019 Tecfidera \n",
      "\n",
      "\n",
      "Entry:  102\n",
      "Label relapsing_remitting_multiple_sclerosis\n",
      "Predicted primary_progressive_multiple_sclerosis\n",
      "Text:  1.) Schubförmig verlaufende Multiple Sklerose (ED und EM 2002), EDSS 5.0 2.) Progressive multifokale Leukencephalopathie (PML) ED 10/2011 klinisch INDENT aktuell: spastisches Hemisyndrom rechts mit distal- und beinbetonter Parese & ataktischer Gangstörung, Dystonien der rechten Hand/ sowie beim Sprechen/Schlucken Verlauf: INDENT 06/02 Erstmanifestation mit isolierten Doppelbildern, vollständige Remission INDENT 12/02 Zweiter Schub mit erneuten Doppelbildern und Sensibilitätsstörung der rechten Hand, erneute Schubbhandlung mit Kortison  INDENT Verlauf 2002-2008: anamnestisch 3-4 Schübe pro Jahr, die sich hauptsächlich mit Kribbelparästhesien manifestierten  INDENT 02/2006: Optikusneuritis links INDENT 2009: 1 weiterer Schub INDENT 06/2011: Sensibilitätsstörungen der rechten Körperhälfte (Zunge, Arm, Bein); Cortisonstoss 1g i.v. über 5 Tage INDENT 08/2011: Cortisonstoss über 3 Tage bei fehlender Regredienz von Sprechstörungen und Ungeschicklichkeit in der rechten Hand  INDENT 10/2011: Hemiparese rechts, Dysarthrie und Tremor der rechten Hand im Rahmen einer Tysabri induzierten PML INDENT 11/2011: PML-IRIS mit Zunahme der Hemiparese rechts INDENT 11/2012: Schub mit oralem Kortisonstoss über 5 Tage INDENT 02/2013: Schub mit Zunahme der Koordinationsstörungen Bein rechts, mit Cortison oral behandelt INDENT 08/2013: Schub mit enoralem Taubheitsgefühl, Dysguesie, vermehrter Mundastschwäche rechts, Zunahme der Kraftminderung und Fühlstörung im rechten Beins Diagnostisch:  INDENT MRI Schädel 7.10/2011: PML- suspekte Läsion frontoparietal links INDENT Liquor 10/2011: JCV PCR positiv INDENT MRI Schädel 18.02.2013: aktive demyelinisierende Läsion cerebellär links sowie neue inaktive Läsion am Boden des IV. Ventrikels links INDENT MRI spinal 18.02.2013: Unverändert INDENT MRI Schädel: 28.06.13: Unverändert INDENT MRI Schädel und spinal von 08/2013: neu aufgetretene prominente Läsion der Höhe HWK5 rechts. Keine KM-Aufnahme. Ansonsten stabiler Befund INDENT MRI Hirn 01/2014, 04/2014, 10.2014, 04/2015, 10/2015, 4/2016 : Keine neuen oder Gd+ Läsionen, keine AP für PML-Rezidiv. INDENT MRI Gehirn und HWS 10/2016 stationärer Befund, ohne neue Läsionen, ohne KM-Anreicherung. INDENT MRI Gehirn und HWS 10/2017 stationärer Befund, ohne neue Läsionen, ohne KM-Anreicherung. Therapeutisch: INDENT 10/02-02/08 Rebif s.c.(3x wöchentl. 44ug), von 08/03-01/08 (2/w.  44ug) INDENT Therapiefreies Intervall von zwei Monaten vor Beginn der Therapie mit Tysabri INDENT 03/2008 - 09/2011 Tysabri INDENT Plasmapherese bei PML am 14.10./17.10./20.10.2011  INDENT 11/2011-  03/2013 Rebif 44 ug INDENT 02/2013: Medrolstoss über 3 Tag INDENT bezügl. Dystonien/symptomatisch versuchte Ansätze mit Rivotril, Keppra, Fampridin, Lioresal, Propanolol, Madopar, Botox hätte entweder keinen Effekt oder zu starken Nebenwirkungen wie Übelkeit, weniger Funktionalität INDENT aktuell: keine medikamentöse Therapie gewünscht 3) St.n. symptomatische Epilepsie mit einfach fokalen und komplex fokalen Anfällen, EM 11/2011 INDENT temporäre antiepileptische Therapie mit Levetiracetam 11/2011 - ca. 09/2012 (während PML mit Nachweis von epilepsieverdächtigen und irritativen Potentialen im damaligen EEG) INDENT Routine-EEG seit 08/2013 mit intermittierendem Herdbefund bitemporal ohne epilepsietypische Potentialen zuletzt Langzeit EEG 06/2015 in Lengg: keine AP für epilepsietypische Potenziale.\n",
      "\n",
      "\n",
      "Entry:  120\n",
      "Label relapsing_remitting_multiple_sclerosis\n",
      "Predicted primary_progressive_multiple_sclerosis\n",
      "Text:  V.a. Retrobulbärneuritis links EM 02.09.2020  INDENT ätiologisch: a.e. autoimmun entzündlich INDENT anamnestisch: vor 3 Tagen mit schmerzlosem Verschwommensehen des linken Auges erwacht INDENT klinisch: Visusminderung links, Rotentsättigung links  INDENT diagnostisch: INDENT cMRI: in den nächsten Tagen geplant INDENT Labor: unauffällig INDENT therapeutisch INDENT 1g Methylprednisolon: 1-0-0-0 für 5 Tage beginnend ab 06.09.2020 po INDENT 40mg Pantozol:1-0-0-0 für 6 Tage beginnend ab 06.09.2020 po\n",
      "\n",
      "\n"
     ]
    }
   ],
   "source": [
    "for i, label in enumerate(labels):\n",
    "    if label != preds[i]:\n",
    "        print(\"Entry: \", i)\n",
    "        print(\"Label\", ms_id2label[label])\n",
    "        print(\"Predicted\", ms_id2label[preds[i]])\n",
    "        print(\"Text: \", df[\"train\"][i][\"text\"])\n",
    "        print(\"\\n\")\n",
    "entries_to_drop = [15, 18, 23, 26, 34, 39, 42, 43, 75, 78, 92, 120]"
   ]
  },
  {
   "cell_type": "code",
   "execution_count": 127,
   "metadata": {},
   "outputs": [
    {
     "name": "stdout",
     "output_type": "stream",
     "text": [
      "{'accuracy': 0.972972972972973, 'f1': 0.9207977207977208, 'precision': 0.9298969072164948, 'recall': 0.926530612244898}\n"
     ]
    },
    {
     "data": {
      "image/png": "[encoded data removed]",
      "text/plain": [
       "<Figure size 640x480 with 2 Axes>"
      ]
     },
     "metadata": {},
     "output_type": "display_data"
    }
   ],
   "source": [
    "labels_corrected = [value for index, value in enumerate(labels) if index not in entries_to_drop]\n",
    "preds_corrected = [value for index, value in enumerate(preds) if index not in entries_to_drop]\n",
    "print(performance_metrics(preds_corrected, labels_corrected))\n",
    "plot_confusion_matrix(preds_corrected, labels_corrected, label2id = ms_label2id)"
   ]
  },
  {
   "cell_type": "markdown",
   "metadata": {},
   "source": [
    "# Leo Mistral 7B"
   ]
  },
  {
   "cell_type": "code",
   "execution_count": 15,
   "metadata": {},
   "outputs": [],
   "source": [
    "model_name = \"leo-mistral-hessianai-7b-chat\"\n",
    "device = torch.device(\"cuda\") if torch.cuda.is_available() else torch.device(\"cpu\")\n",
    "# For these models running with CPU mem of 10GB not enough, with 30GB it works, maybe try 15GB should be enough to fit the largest shard which is about \n",
    "# 9.5 GB"
   ]
  },
  {
   "cell_type": "code",
   "execution_count": 2,
   "metadata": {},
   "outputs": [],
   "source": [
    "# model_name = \"leo-hessianai-7b\""
   ]
  },
  {
   "cell_type": "code",
   "execution_count": 4,
   "metadata": {},
   "outputs": [
    {
     "name": "stdout",
     "output_type": "stream",
     "text": [
      "Memory before Model is loaded:\n",
      "\n",
      "GPU 0: NVIDIA GeForce RTX 3090\n",
      "   Total Memory: 23.69 GB\n",
      "   Free Memory: 23.43 GB\n",
      "   Allocated Memory : 0.00 GB\n",
      "   Reserved Memory : 0.00 GB\n"
     ]
    },
    {
     "data": {
      "application/vnd.jupyter.widget-view+json": {
       "model_id": "1d351011e7bb460bae1cbd68c9efa1dc",
       "version_major": 2,
       "version_minor": 0
      },
      "text/plain": [
       "Loading checkpoint shards:   0%|          | 0/2 [00:00<?, ?it/s]"
      ]
     },
     "metadata": {},
     "output_type": "display_data"
    },
    {
     "name": "stdout",
     "output_type": "stream",
     "text": [
      "Memory after Model is loaded:\n",
      "\n",
      "GPU 0: NVIDIA GeForce RTX 3090\n",
      "   Total Memory: 23.69 GB\n",
      "   Free Memory: 18.89 GB\n",
      "   Allocated Memory : 4.35 GB\n",
      "   Reserved Memory : 4.51 GB\n"
     ]
    }
   ],
   "source": [
    "# Low precision config\n",
    "print(\"Memory before Model is loaded:\\n\")\n",
    "check_gpu_memory()\n",
    "bnb_config = BitsAndBytesConfig(\n",
    "    load_in_4bit=True,\n",
    "    bnb_4bit_use_double_quant=True,\n",
    "    bnb_4bit_quant_type=\"nf4\",\n",
    "    bnb_4bit_compute_dtype=torch.bfloat16\n",
    ")\n",
    "\n",
    "# Load model and tokenizer\n",
    "model = AutoModelForCausalLM.from_pretrained(paths.MODEL_PATH/model_name, \n",
    "                                             device_map=\"auto\", \n",
    "                                             quantization_config = bnb_config, \n",
    "                                            attn_implementation=\"flash_attention_2\")\n",
    "print(\"Memory after Model is loaded:\\n\")\n",
    "check_gpu_memory()"
   ]
  },
  {
   "cell_type": "code",
   "execution_count": 7,
   "metadata": {},
   "outputs": [
    {
     "name": "stderr",
     "output_type": "stream",
     "text": [
      "Special tokens have been added in the vocabulary, make sure the associated word embeddings are fine-tuned or trained.\n"
     ]
    }
   ],
   "source": [
    "# For mistral\n",
    "tokenizer = AutoTokenizer.from_pretrained(\n",
    "    paths.MODEL_PATH/model_name,\n",
    "    padding_side=\"left\",\n",
    "    add_eos_token=True)\n",
    "\n",
    "tokenizer.pad_token = tokenizer.eos_token"
   ]
  },
  {
   "cell_type": "code",
   "execution_count": 10,
   "metadata": {},
   "outputs": [],
   "source": [
    "# Load data\n",
    "data_files = {\"train\": \"ms-diag_clean_train.csv\", \"validation\": \"ms-diag_clean_val.csv\", \"test\": \"ms-diag_clean_test.csv\"}\n",
    "df = load_dataset(os.path.join(paths.DATA_PATH_PREPROCESSED,'ms-diag'), data_files = data_files)\n",
    "#df = df.map(preprocess, remove_columns=[\"rid\", \"date\", \"text\"])"
   ]
  },
  {
   "cell_type": "code",
   "execution_count": 43,
   "metadata": {},
   "outputs": [
    {
     "data": {
      "application/vnd.jupyter.widget-view+json": {
       "model_id": "9c82f5352e19470cbf409fbfa0b498db",
       "version_major": 2,
       "version_minor": 0
      },
      "text/plain": [
       "Filter:   0%|          | 0/123 [00:00<?, ? examples/s]"
      ]
     },
     "metadata": {},
     "output_type": "display_data"
    },
    {
     "data": {
      "application/vnd.jupyter.widget-view+json": {
       "model_id": "a7cc18e5b25a45bf995696f22ddcde0a",
       "version_major": 2,
       "version_minor": 0
      },
      "text/plain": [
       "Filter:   0%|          | 0/123 [00:00<?, ? examples/s]"
      ]
     },
     "metadata": {},
     "output_type": "display_data"
    }
   ],
   "source": [
    "ppms_example = df[\"train\"].filter(lambda e: e[\"labels\"] == \"primary_progressive_multiple_sclerosis\")[0]\n",
    "spms_example = df[\"train\"].filter(lambda e: e[\"labels\"] == \"secondary_progressive_multiple_sclerosis\")[0]\n",
    "rrms_example = df[\"train\"].filter(lambda e: e[\"labels\"] == \"relapsing_remitting_multiple_sclerosis\")[0]"
   ]
  },
  {
   "cell_type": "code",
   "execution_count": 74,
   "metadata": {},
   "outputs": [
    {
     "data": {
      "text/plain": [
       "'V.a. primär progrediente Multiple Sklerose, EM 08/2016, ED 10/2018, EDSS 4.5 INDENT aktuell: klinisch: nicht aktiv, radiologisch: unklar, Progression: ja (nach Lublin 2013) INDENT Verlauf:  INDENT 08/2016: Schwäche und Trauma Fuss links mit Fuss, Trauma mit Bimalleolarluxationsfraktur OSG links, postoperativ progrediente Zunahme der Schwäche des linken Fusses INDENT 02/2019: Zunahme der Schwäche und Steifigkeit des linken Beines, seitdem weiter progredienter Verlauf INDENT 10/2020: leichte Schwäche und Steifigkeitsgefühl des rechten Oberarmes INDENT klinisch: INDENT diagnostisch: laborchemisch: INDENT LP vom 27.11.2018 (Spital Bülach): 1 Zelle/ul, Protein normal, keine Schrankenstörung, OKB positiv Bildgebend: INDENT MR BWS-LWS 10/2018 (Spital Bülach): Mehrere T2w hyperintense Signalalteraltionen im posterioren und lateralen Funiculus rechts und singulär im lateralen Funiculus links des thorakalen Myelons, es ergibt sich der Verdacht auf demyelinisierende Plaques. Keine Schrankenstörung als Zeichen einer akuten Entzündungsaktivität. isolierte Diskushernie BWK 2/BWK 3 ohne Nervenwurzelkompression.  INDENT MR Schädel und HWS 11/2018 (Spital Bülach): Gemäss der McDonald Kriterien (Revision 2017): Bsp. Klinische Attacke und räumliche Dissemination erhärtet der intrazerebrale Befund den Verdacht auf eine MS bei demyelinisierenden Plaques in mindestens 6 MS-typischen Lokalisationen (periventrikulär und juxtakortikal. Weiterer Plaque im zervikalen Myelon auf Höhe von HWK 2 links. Kein Nachweis von aktiven Läsionen.  INDENT MR Schädel 04/2019: stationär, keine aktive Läsionen. INDENT MR HWS/BWS/LWS 04/2019: Bekannte Demyelinisierungsherde im zervikalen und thorakalen Myelon. Kein Nachweis neu aufgetretener Plaques. Nach Kontrastmittelapplikation zeigt der Herd auf Höhe BWK 6 eine flaue Anreicherung als Hinweis auf eine gewisse Aktivität. INDENT MRI Schädel 01/2021: Neue, a.e. demyelinisierende Läsion im Gyrus frontalis medius links mit subcorticalen Beteiligung entlang der U-Fasern. Keine sichere Kontrastmittelaufnahme ebenda. Ansonsten konstante Läsionslast supratentoriell und infratentoriell und im zervikalen Myelon, keine Aktivitätszeichen. INDENT MRI HWS 01/2021: Neue kleine demyelinisierende Läsion auf Höhe HWK 6 im Funiculus lateralis rechts sowie auf Höhe HWK 4 im Funiculus lateralis links. Bekannte MS-Läsionen auf Höhe HWK 2/3 etwas regredient. Keine Zeichen einer entzündlichen Aktivität. Gering progredienter medianer Bandscheibenprolaps auf Höhe BWK 2 / 3 mit geringem Umschlagen nach cranial. INDENT therapeutisch: INDENT Methylprednisolon 100mg für 3 Tage am 25.10.2018 INDENT Lioresal 10mg bis 0.5-0.5-2 (Besserung Gangbild, aufgrund starker Müdigkeit gestoppt) INDENT seit 06/2019 Tecfidera 240mg 1-0-1 Status nach Bimalleolarluxationsfraktur OSG links, 08/2016 INDENT Status nach Platten- und Schraubenosteosynthese 11.08.2016'"
      ]
     },
     "execution_count": 74,
     "metadata": {},
     "output_type": "execute_result"
    }
   ],
   "source": [
    "ppms_example[\"text\"]"
   ]
  },
  {
   "cell_type": "code",
   "execution_count": 168,
   "metadata": {},
   "outputs": [],
   "source": [
    "system_prompt = \"\"\"Dies ist eine Unterhaltung zwischen einem intelligenten, hilfsbereitem KI-Assistenten und einem Nutzer.\n",
    "Der Assistent gibt ausführliche, hilfreiche und ehrliche Antworten.\"\"\"\n",
    "few_shot_prompt = f\"\"\"<|im_start|>system\n",
    "{system_prompt}<|im_end|>\n",
    "<|im_start|>user\n",
    "{prompt1}<|im_end|>\n",
    "<|im_start|>assistant\n",
    "{reply1}<|im_end|>\n",
    "<|im_start|>user\n",
    "{prompt2}<|im_end|>\n",
    "<|im_start|>assistant\n",
    "{reply2}<|im_end|>\n",
    "<|im_start|>user\n",
    "{prompt3}<|im_end|>\n",
    "<|im_start|>assistant\n",
    "{reply3}<|im_end|>\n",
    "<|im_start|>user\n",
    "{prompt4}<|im_end|>\n",
    "<|im_start|>assistant\n",
    "\"\"\"\n",
    "zero_shot_prompt = f\"\"\"\n",
    "<|im_start|>system\n",
    "{system_prompt}<|im_end|>\n",
    "<|im_start|>user\n",
    "{prompt1}<|im_end|>\n",
    "<|im_start|>assistant\n",
    "\"\"\"\n",
    "\n",
    "one_shot_prompt = f\"\"\"<|im_start|>system\n",
    "{system_prompt}<|im_end|>\n",
    "<|im_start|>user\n",
    "{prompt1}<|im_end|>\n",
    "<|im_start|>assistant\n",
    "{reply1}<|im_end|>\n",
    "<|im_start|>user\n",
    "{prompt2}<|im_end|>\n",
    "<|im_start|>assistant\n",
    "\"\"\"\n",
    "\n",
    "prompt1 = \"Was ist die MS Diagnose in diesem Text: \" + ppms_example[\"text\"][:80]\n",
    "reply1 = \"Primär progrediente Multiple Sklerose\"\n",
    "prompt2 = \"Was ist die MS Diagnose in diesem Text: \" + spms_example[\"text\"][:80]\n",
    "reply2 = \"Sekundär progrediente Multiple Sklerose\"\n",
    "prompt3 = \"Was ist die MS Diagnose in diesem Text: \" + rrms_example[\"text\"][:80]\n",
    "reply3 = \"Schubförmig remittierende Multiple Sklerose\"\n",
    "prompt4 = \"Was ist die MS Diagnose in diesem Text: \" + df[\"train\"][\"text\"][5][:80]\n",
    "def format_few_shot(system_prompt, prompt1, reply1, prompt2, reply2, prompt3, reply3, prompt4):\n",
    "    input = few_shot_prompt.format(system_prompt,\n",
    "                               prompt1,\n",
    "                              reply1,\n",
    "                              prompt2,\n",
    "                              reply2,\n",
    "                              prompt3,\n",
    "                              reply3,\n",
    "                              prompt4)\n",
    "    return tokenizer(input, return_tensors = \"pt\")\n",
    "\n",
    "def format_one_shot(system_prompt, prompt1, reply1, prompt2):\n",
    "    input = one_shot_prompt.format(system_prompt,\n",
    "                               prompt1,\n",
    "                              reply1,\n",
    "                              prompt2,\n",
    "                              )\n",
    "    print(len(input))\n",
    "    print(input)\n",
    "    return tokenizer(input, return_tensors = \"pt\")\n",
    "\n",
    "def format_zero_shot(system_prompt, prompt1):\n",
    "    input = zero_shot_prompt.format(system_prompt, prompt1)\n",
    "    return tokenizer(input, return_tensors = \"pt\")"
   ]
  },
  {
   "cell_type": "code",
   "execution_count": 176,
   "metadata": {},
   "outputs": [],
   "source": [
    "encoded_labels = tokenizer([\"Primär progrediente Multiple Sklerose\", \"Sekundär progrediente Multiple Sklerose\", \"Schubförmig remittierende Multiple Sklerose\"], add_special_tokens=False)[\"input_ids\"]\n",
    "encoded_bad_words = tokenizer([\"user\"], add_special_tokens = False)[\"input_ids\"]"
   ]
  },
  {
   "cell_type": "code",
   "execution_count": 177,
   "metadata": {},
   "outputs": [
    {
     "data": {
      "text/plain": [
       "<transformers.generation.beam_constraints.DisjunctiveConstraint at 0x1466cec758e0>"
      ]
     },
     "execution_count": 177,
     "metadata": {},
     "output_type": "execute_result"
    }
   ],
   "source": [
    "DisjunctiveConstraint(encoded_labels)"
   ]
  },
  {
   "cell_type": "code",
   "execution_count": 158,
   "metadata": {},
   "outputs": [
    {
     "data": {
      "text/plain": [
       "[11, 13, 14]"
      ]
     },
     "execution_count": 158,
     "metadata": {},
     "output_type": "execute_result"
    }
   ],
   "source": [
    "[len(input) for input in encoded_labels]"
   ]
  },
  {
   "cell_type": "code",
   "execution_count": 184,
   "metadata": {},
   "outputs": [
    {
     "name": "stdout",
     "output_type": "stream",
     "text": [
      "['system\\nDies ist eine Unterhaltung zwischen einem intelligenten, hilfsbereitem KI-Assistenten und einem Nutzer.\\nDer Assistent gibt ausführliche, hilfreiche und ehrliche Antworten. \\n user\\nWas ist die MS Diagnose in diesem Text: V.a. primär progrediente Multiple Sklerose, EM 08/2016, ED 10/2018, EDSS 4.5 IND \\n assistant\\nPrimär progrediente Multiple Sklerose \\n user\\nWas ist die MS Diagnose in diesem Text: Multiple Sklerose mit sekundär progredientem Verlauf seit ca. 2004 (EM 1983, ED  \\n assistant\\nSekundär progrediente Multiple Sklerose \\n user\\nWas ist die MS Diagnose in diesem Text: Schubförmige Multiple Sklerose (EM 09/2015, ED 11/2015), EDSS 0,0 Anamnestisch I \\n assistant\\nSchubförmig remittierende Multiple Sklerose \\n user\\nWas ist die MS Diagnose in diesem Text: Primär progrediente Multiple Sklerose, EM ca. 2010, ED 06/2016  INDENT EDSS 07/2 \\n assistant\\n assistant\\nWähle A, B, C oder D als deine Lösung.\\\\n\\\\nEine kürzlich durchgeführte Studie mit 10.000 Personen ergab, dass']\n"
     ]
    }
   ],
   "source": [
    "prompt_encoded = format_few_shot(system_prompt, prompt1, reply1, prompt2, reply2, prompt3, reply3, prompt4)\n",
    "# prompt_encoded = format_zero_shot(system_prompt, prompt1)\n",
    "# prompt_encoded = format_one_shot(system_prompt, prompt1, reply1, prompt2)\n",
    "return_tokens = model.generate(**prompt_encoded, max_new_tokens=50, temperature = 0, bad_words_ids = encoded_bad_words, num_beams = 2)\n",
    "print(tokenizer.batch_decode(return_tokens, skip_special_tokens=True))"
   ]
  },
  {
   "cell_type": "code",
   "execution_count": 10,
   "metadata": {},
   "outputs": [],
   "source": [
    "tokens = [tokenizer(get_classification_llama(t)) for t in df[\"train\"][\"text\"]]\n",
    "\n",
    "# Default collate function \n",
    "collate_fn = DataCollatorWithPadding(tokenizer, padding=True) #padding=True, 'max_length'\n",
    "\n",
    "dataloader = torch.utils.data.DataLoader(dataset=tokens, collate_fn=collate_fn, batch_size=2, shuffle = False) "
   ]
  },
  {
   "cell_type": "markdown",
   "metadata": {},
   "source": [
    "It seems as though reserved memory is extremely high when using beam search. If I have longer input sequences this will lead to out of memory issues. I will try to set number of tokens to a lower number and check if beam search works then. I truncate the text directly because if I truncate after the prompt insertion I will loose the end of the prompt."
   ]
  },
  {
   "cell_type": "code",
   "execution_count": null,
   "metadata": {},
   "outputs": [
    {
     "name": "stderr",
     "output_type": "stream",
     "text": [
      "You're using a LlamaTokenizerFast tokenizer. Please note that with a fast tokenizer, using the `__call__` method is faster than using a method to encode the text followed by a call to the `pad` method to get a padded encoding.\n"
     ]
    },
    {
     "name": "stdout",
     "output_type": "stream",
     "text": [
      "Memory Consumption before loop\n",
      "\n",
      "GPU 0: NVIDIA GeForce RTX 2080 Ti\n",
      "   Total Memory: 10.75 GB\n",
      "   Free Memory: 5.92 GB\n",
      "   Allocated Memory : 4.26 GB\n",
      "   Reserved Memory : 4.27 GB\n",
      "Memory Consumption before Batch:  0\n",
      "GPU 0: NVIDIA GeForce RTX 2080 Ti\n",
      "   Total Memory: 10.75 GB\n",
      "   Free Memory: 5.92 GB\n",
      "   Allocated Memory : 3.77 GB\n",
      "   Reserved Memory : 4.27 GB\n"
     ]
    }
   ],
   "source": [
    "outputs = []\n",
    "print(\"Memory Consumption before loop\\n\")\n",
    "check_gpu_memory()\n",
    "for idx, batch in enumerate(dataloader):\n",
    "    \n",
    "    torch.cuda.empty_cache()\n",
    "    gc.collect()\n",
    "\n",
    "    print(\"Memory Consumption before Batch: \", idx)\n",
    "    check_gpu_memory()\n",
    "    \n",
    "    input_ids = batch[\"input_ids\"].to(\"cuda\")\n",
    "    attention_mask = batch[\"attention_mask\"].to(\"cuda\")\n",
    "    with torch.inference_mode():\n",
    "        generated_ids = model.generate(input_ids = input_ids, attention_mask = attention_mask, max_new_tokens=20, num_beams=1, do_sample=True, temperature = 0.9, num_return_sequences = 1, top_p = 0.6).to(\"cpu\")\n",
    "    outputs.append(tokenizer.batch_decode(generated_ids, skip_special_tokens=True))\n",
    "    break\n",
    "    outputs"
   ]
  },
  {
   "cell_type": "code",
   "execution_count": 76,
   "metadata": {},
   "outputs": [
    {
     "name": "stdout",
     "output_type": "stream",
     "text": [
      "GPU 0: Tesla V100-SXM2-32GB\n",
      "   Total Memory: 31.74 GB\n",
      "   Free Memory: 22.73 GB\n",
      "   Allocated Memory : 3.70 GB\n",
      "   Reserved Memory : 8.04 GB\n",
      "GPU 0: Tesla V100-SXM2-32GB\n",
      "   Total Memory: 31.74 GB\n",
      "   Free Memory: 26.85 GB\n",
      "   Allocated Memory : 3.70 GB\n",
      "   Reserved Memory : 3.91 GB\n"
     ]
    }
   ],
   "source": [
    "check_gpu_memory()\n",
    "torch.cuda.empty_cache()\n",
    "gc.collect()\n",
    "check_gpu_memory()"
   ]
  },
  {
   "cell_type": "code",
   "execution_count": 77,
   "metadata": {},
   "outputs": [],
   "source": [
    "from itertools import chain\n",
    "outputs = list(chain.from_iterable(outputs))\n",
    "pd.Series(outputs).to_csv(paths.RESULTS_PATH/'ms_diag-llama2-chat_zero_shot-shortened300_beam2.csv')"
   ]
  },
  {
   "cell_type": "code",
   "execution_count": 79,
   "metadata": {},
   "outputs": [],
   "source": [
    "results = [out.split(\"\\nBased on the information provided in the text, the most likely diagnosis for the patient is:\")[1] for out in outputs]"
   ]
  },
  {
   "cell_type": "code",
   "execution_count": 86,
   "metadata": {},
   "outputs": [
    {
     "data": {
      "text/plain": [
       "{'primary_progressive_multiple_sclerosis',\n",
       " 'relapsing_remitting_multiple_sclerosis',\n",
       " 'secondary_progressive_multiple_sclerosis'}"
      ]
     },
     "execution_count": 86,
     "metadata": {},
     "output_type": "execute_result"
    }
   ],
   "source": [
    "set(df[\"train\"][\"labels\"])"
   ]
  },
  {
   "cell_type": "code",
   "execution_count": 87,
   "metadata": {},
   "outputs": [],
   "source": [
    "# Dictionary to map keywords to labels\n",
    "keyword_label_mapping = {\n",
    "    \"RRMS\": 'relapsing_remitting_multiple_sclerosis',\n",
    "    \"SPMS\": 'secondary_progressive_multiple_sclerosis',\n",
    "    \"PPMS\": 'primary_progressive_multiple_sclerosis',\n",
    "}\n",
    "\n",
    "# Function to assign labels based on text content\n",
    "def assign_label(text):\n",
    "    for keyword, label in keyword_label_mapping.items():\n",
    "        if keyword in text:\n",
    "            return label\n",
    "    return \"unknown\"  # Default label if no keyword is found\n",
    "\n",
    "# Assign labels to each text in the list\n",
    "labels = [assign_label(text) for text in results]"
   ]
  },
  {
   "cell_type": "code",
   "execution_count": 99,
   "metadata": {},
   "outputs": [
    {
     "data": {
      "text/plain": [
       "0.6016260162601627"
      ]
     },
     "execution_count": 99,
     "metadata": {},
     "output_type": "execute_result"
    }
   ],
   "source": [
    "correct = 0\n",
    "for i in range(len(labels)):\n",
    "    if labels[i] == df[\"train\"][\"labels\"][i]:\n",
    "        correct += 1\n",
    "correct/len(labels)"
   ]
  }
 ],
 "metadata": {
  "kernelspec": {
   "display_name": "Python 3 (ipykernel)",
   "language": "python",
   "name": "python3"
  },
  "language_info": {
   "codemirror_mode": {
    "name": "ipython",
    "version": 3
   },
   "file_extension": ".py",
   "mimetype": "text/x-python",
   "name": "python",
   "nbconvert_exporter": "python",
   "pygments_lexer": "ipython3",
   "version": "3.9.18"
  }
 },
 "nbformat": 4,
 "nbformat_minor": 4
}

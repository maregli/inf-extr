{
 "cells": [
  {
   "cell_type": "code",
   "execution_count": 38,
   "id": "9e927d5c-5913-48ef-a16e-6b0dfcca48ab",
   "metadata": {},
   "outputs": [],
   "source": [
    "import sys\n",
    "import os\n",
    "sys.path.append(os.getcwd()+\"/../..\")\n",
    "from src import paths\n",
    "\n",
    "import torch\n",
    "import json\n",
    "import pandas as pd"
   ]
  },
  {
   "cell_type": "code",
   "execution_count": 39,
   "id": "e2b46637-3ee8-4978-b394-af305c740224",
   "metadata": {},
   "outputs": [],
   "source": [
    "results = torch.load(\"/cluster/dataset/midatams/inf-extr/results/medication/medication_outlines_Llama2-MedTuned-13b_4bit_few_shot_instruction.pt\")"
   ]
  },
  {
   "cell_type": "code",
   "execution_count": 40,
   "id": "ed62cfe4-bd02-47d2-a29d-c9ebeaa69cb6",
   "metadata": {},
   "outputs": [],
   "source": [
    "dfs = []\n",
    "for idx, (answer, text) in enumerate(zip(results[\"model_answers\"], results[\"text\"])):\n",
    "    answer = json.loads(answer)\n",
    "    medications = answer[\"medications\"]\n",
    "    for med in medications:\n",
    "        med[\"text\"] = text\n",
    "        med[\"id\"] = idx\n",
    "        dfs.append((med))\n",
    "results = pd.DataFrame(dfs)"
   ]
  },
  {
   "cell_type": "code",
   "execution_count": 41,
   "id": "036299bb-a270-4073-bcb1-ecd445e5835c",
   "metadata": {},
   "outputs": [],
   "source": [
    "results.to_csv(paths.RESULTS_PATH/\"medication/labels.csv\")"
   ]
  }
 ],
 "metadata": {
  "kernelspec": {
   "display_name": "Python 3 (ipykernel)",
   "language": "python",
   "name": "python3"
  },
  "language_info": {
   "codemirror_mode": {
    "name": "ipython",
    "version": 3
   },
   "file_extension": ".py",
   "mimetype": "text/x-python",
   "name": "python",
   "nbconvert_exporter": "python",
   "pygments_lexer": "ipython3",
   "version": "3.11.4"
  }
 },
 "nbformat": 4,
 "nbformat_minor": 5
}

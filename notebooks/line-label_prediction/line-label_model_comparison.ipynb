{
 "cells": [
  {
   "cell_type": "code",
   "execution_count": null,
   "metadata": {},
   "outputs": [],
   "source": [
    "import os\n",
    "import sys\n",
    "sys.path.append(os.getcwd()+\"/../..\")\n",
    "from src import paths\n",
    "\n",
    "from src.utils import (\n",
    "                        line_label_id2label, \n",
    "                        line_label_label2id, \n",
    "                        line_label_token_id2label, \n",
    "                        plot_embeddings, \n",
    "                        get_df_classificationreport,\n",
    "                        pretty_confusion_matrix,\n",
    ")\n",
    "\n",
    "import pandas as pd\n",
    "\n",
    "import torch"
   ]
  },
  {
   "cell_type": "markdown",
   "metadata": {},
   "source": [
    "# MedBERT Finetune on Lines"
   ]
  },
  {
   "cell_type": "code",
   "execution_count": null,
   "metadata": {},
   "outputs": [],
   "source": [
    "results = torch.load(paths.RESULTS_PATH/\"line-label\"/\"line-label_medbert-512_class_test.pt\")\n",
    "y_true = results[\"labels\"]\n",
    "last_hidden_state = results[\"last_hidden_state\"] # If inference was run without --output_hidden_states, this will be None and no plottings will be possible\n",
    "y_pred = results[\"preds\"]"
   ]
  },
  {
   "cell_type": "code",
   "execution_count": null,
   "metadata": {},
   "outputs": [],
   "source": [
    "# Last hidden stats is list of tensors, each tensor is (seq_len, hidden_size). Will take CLS token\n",
    "cls_tokens = [tensor[0,:] for tensor in last_hidden_state]\n",
    "\n",
    "embeddings = torch.stack(cls_tokens, dim = 0)"
   ]
  },
  {
   "cell_type": "code",
   "execution_count": null,
   "metadata": {},
   "outputs": [],
   "source": [
    "display_labels = {k:v.replace(\"_\", \"/\") for k,v in line_label_id2label.items()}"
   ]
  },
  {
   "cell_type": "code",
   "execution_count": null,
   "metadata": {},
   "outputs": [],
   "source": [
    "pretty_confusion_matrix(y_true, y_pred, display_labels)"
   ]
  },
  {
   "cell_type": "code",
   "execution_count": null,
   "metadata": {},
   "outputs": [],
   "source": [
    "y_valid = [line_label_id2label[label] for label in y_true]\n",
    "y_pred = [line_label_id2label[pred] for pred in y_pred]\n",
    "get_df_classificationreport(y_valid, y_pred, labels = sorted(line_label_id2label.values())).round(2)"
   ]
  },
  {
   "cell_type": "code",
   "execution_count": null,
   "metadata": {},
   "outputs": [],
   "source": [
    "print(\"Accuracy: \", (pd.Series(y_valid) == pd.Series(y_pred)).mean())"
   ]
  },
  {
   "cell_type": "code",
   "execution_count": null,
   "metadata": {},
   "outputs": [],
   "source": [
    "plot_embeddings(embeddings, [line_label_id2label[label].replace(\"_\", \"/\") for label in y_true], method=\"umap\", )"
   ]
  },
  {
   "cell_type": "code",
   "execution_count": null,
   "metadata": {},
   "outputs": [],
   "source": [
    "# Analysis of FP and TP\n",
    "# results.pop(\"last_hidden_state\")\n",
    "# results_df = pd.DataFrame(results)\n",
    "# results_df.replace(line_label_id2label, inplace = True)"
   ]
  },
  {
   "cell_type": "code",
   "execution_count": null,
   "metadata": {},
   "outputs": [],
   "source": [
    "# pd.set_option('display.max_rows', 100)\n",
    "# pd.set_option('display.max_colwidth', None)\n",
    "# results_df[results_df[\"preds\"] != results_df[\"labels\"]]"
   ]
  },
  {
   "cell_type": "code",
   "execution_count": null,
   "metadata": {},
   "outputs": [],
   "source": [
    "# results_df[results_df[\"labels\"] == \"head\"]"
   ]
  },
  {
   "cell_type": "markdown",
   "metadata": {},
   "source": [
    "# MedBERT Token Classification"
   ]
  },
  {
   "cell_type": "code",
   "execution_count": null,
   "metadata": {},
   "outputs": [],
   "source": [
    "results = torch.load(paths.RESULTS_PATH/\"line-label/line-label_medbert-512_token_test.pt\")"
   ]
  },
  {
   "cell_type": "code",
   "execution_count": null,
   "metadata": {},
   "outputs": [],
   "source": [
    "labels, preds = [], []\n",
    "for obs in results:\n",
    "    labels.extend(obs[\"labs\"])\n",
    "    preds.extend(obs[\"preds\"])\n",
    "y_true = [line_label_label2id[label] for label in labels]\n",
    "y_pred = [line_label_label2id[pred] for pred in preds]\n"
   ]
  },
  {
   "cell_type": "code",
   "execution_count": null,
   "metadata": {},
   "outputs": [],
   "source": [
    "pretty_confusion_matrix(y_true, y_pred, display_labels, save_dir = paths.THESIS_PATH/\"token-level-cm\")"
   ]
  },
  {
   "cell_type": "code",
   "execution_count": null,
   "metadata": {},
   "outputs": [],
   "source": [
    "token_results = get_df_classificationreport(labels, preds, labels = sorted(line_label_id2label.values())).round(2)\n",
    "token_results.to_csv(paths.THESIS_PATH/\"line-label_token_results.csv\")\n",
    "token_results"
   ]
  },
  {
   "cell_type": "code",
   "execution_count": null,
   "metadata": {},
   "outputs": [],
   "source": [
    "print(\"Accuracy: \", (pd.Series(y_true) == pd.Series(y_pred)).mean())"
   ]
  },
  {
   "cell_type": "code",
   "execution_count": null,
   "metadata": {},
   "outputs": [],
   "source": [
    "# Hidden States\n",
    "last_hidden_state = torch.load(paths.RESULTS_PATH/\"line-label/line-label_medbert-512_token_test_hidden_states.pt\")\n",
    "\n",
    "# Only plot B-labels\n",
    "b_labels = [label for label in last_hidden_state[\"labels\"] if label in list(range(8))]\n",
    "b_labels = [line_label_token_id2label[label].replace(\"_\", \"/\") for label in b_labels]\n",
    "b_label_idx = [i for i, label in enumerate(last_hidden_state[\"labels\"]) if label in list(range(8))]\n",
    "b_hidden_states = last_hidden_state[\"last_hidden_states\"][b_label_idx]"
   ]
  },
  {
   "cell_type": "code",
   "execution_count": null,
   "metadata": {},
   "outputs": [],
   "source": [
    "plot_embeddings(b_hidden_states, b_labels, method=\"umap\", save_dir = paths.THESIS_PATH/\"token-label-embeddings.png\")"
   ]
  },
  {
   "cell_type": "markdown",
   "metadata": {},
   "source": [
    "# Comparing Both models\n",
    "Need to truncate the outputs of line classifier too"
   ]
  },
  {
   "cell_type": "code",
   "execution_count": null,
   "metadata": {},
   "outputs": [],
   "source": [
    "res_line = torch.load(paths.RESULTS_PATH/\"line-label\"/\"line-label_medbert-512_class_test.pt\")\n",
    "res_token = torch.load(paths.RESULTS_PATH/\"line-label/line-label_medbert-512_token_test.pt\")"
   ]
  },
  {
   "cell_type": "code",
   "execution_count": null,
   "metadata": {},
   "outputs": [],
   "source": [
    "res_line_rids = pd.DataFrame(res_line[\"rid\"], columns = [\"rid\"])"
   ]
  },
  {
   "cell_type": "code",
   "execution_count": null,
   "metadata": {},
   "outputs": [],
   "source": [
    "indexes = []\n",
    "lengths = 0\n",
    "for rid, data in res_line_rids.groupby(\"rid\"):\n",
    "    # Find corresponding token obs\n",
    "    for obs in res_token:\n",
    "        if obs[\"rid\"] == rid:\n",
    "            length = len(obs[\"labs\"])\n",
    "            break\n",
    "    # Select the indexes up to the length of the token obs\n",
    "    indexes.extend(list(data.index)[:length])"
   ]
  },
  {
   "cell_type": "code",
   "execution_count": null,
   "metadata": {},
   "outputs": [],
   "source": [
    "res_line_df = pd.DataFrame(res_line, columns=res_line.keys())\n",
    "res_line_df = res_line_df.loc[indexes]"
   ]
  },
  {
   "cell_type": "code",
   "execution_count": null,
   "metadata": {},
   "outputs": [],
   "source": [
    "y_true = res_line_df[\"labels\"]\n",
    "last_hidden_state = res_line_df[\"last_hidden_state\"] # If inference was run without --output_hidden_states, this will be None and no plottings will be possible\n",
    "y_pred = res_line_df[\"preds\"]"
   ]
  },
  {
   "cell_type": "code",
   "execution_count": null,
   "metadata": {},
   "outputs": [],
   "source": [
    "# Last hidden stats is list of tensors, each tensor is (seq_len, hidden_size). Will take CLS token\n",
    "cls_tokens = [tensor[0,:] for tensor in last_hidden_state]\n",
    "\n",
    "embeddings = torch.stack(cls_tokens, dim = 0)"
   ]
  },
  {
   "cell_type": "code",
   "execution_count": null,
   "metadata": {},
   "outputs": [],
   "source": [
    "display_labels = {k:v.replace(\"_\", \"/\") for k,v in line_label_id2label.items()}"
   ]
  },
  {
   "cell_type": "code",
   "execution_count": null,
   "metadata": {},
   "outputs": [],
   "source": [
    "pretty_confusion_matrix(y_true, y_pred, display_labels, save_dir = paths.THESIS_PATH/\"line-level-cm.png\")"
   ]
  },
  {
   "cell_type": "code",
   "execution_count": null,
   "metadata": {},
   "outputs": [],
   "source": [
    "y_valid = [line_label_id2label[label] for label in y_true]\n",
    "y_pred = [line_label_id2label[pred] for pred in y_pred]\n",
    "line_results = get_df_classificationreport(y_valid, y_pred, labels = sorted(line_label_id2label.values())).round(2)\n",
    "line_results.to_csv(paths.THESIS_PATH/\"line-label_line_results.csv\")\n",
    "line_results"
   ]
  },
  {
   "cell_type": "code",
   "execution_count": null,
   "metadata": {},
   "outputs": [],
   "source": [
    "print(\"Accuracy: \", (pd.Series(y_valid) == pd.Series(y_pred)).mean())"
   ]
  },
  {
   "cell_type": "code",
   "execution_count": null,
   "metadata": {},
   "outputs": [],
   "source": [
    "plot_embeddings(embeddings, [line_label_id2label[label].replace(\"_\", \"/\") for label in y_true], method=\"umap\", save_dir = paths.THESIS_PATH/\"line-label-embeddings.png\")"
   ]
  },
  {
   "cell_type": "code",
   "execution_count": null,
   "metadata": {},
   "outputs": [],
   "source": [
    "print(pd.concat([line_results.iloc[:, :-1], token_results.iloc[:, 1:-1]], axis = 1).to_latex(index=False, float_format=\"%.2f\"))"
   ]
  }
 ],
 "metadata": {
  "kernelspec": {
   "display_name": "Python 3 (ipykernel)",
   "language": "python",
   "name": "python3"
  },
  "language_info": {
   "codemirror_mode": {
    "name": "ipython",
    "version": 3
   },
   "file_extension": ".py",
   "mimetype": "text/x-python",
   "name": "python",
   "nbconvert_exporter": "python",
   "pygments_lexer": "ipython3",
   "version": "3.10.12"
  }
 },
 "nbformat": 4,
 "nbformat_minor": 4
}

{
 "cells": [
  {
   "cell_type": "code",
   "execution_count": 1,
   "metadata": {},
   "outputs": [],
   "source": [
    "import pandas as pd\n",
    "\n",
    "import sys\n",
    "import os\n",
    "sys.path.append(os.getcwd()+\"/../..\")\n",
    "from src import paths\n",
    "\n",
    "from sklearn.model_selection import train_test_split\n"
   ]
  },
  {
   "cell_type": "code",
   "execution_count": 13,
   "metadata": {},
   "outputs": [],
   "source": [
    "# Diagnosis text\n",
    "text = pd.read_csv(paths.DATA_PATH_SEANTIS/'kisim_diagnoses.csv')\n",
    "\n",
    "# MRI Labels\n",
    "mri = pd.read_csv(paths.DATA_PATH_SEANTIS/'magnetic_resonance_images.csv')"
   ]
  },
  {
   "cell_type": "code",
   "execution_count": 14,
   "metadata": {},
   "outputs": [
    {
     "name": "stdout",
     "output_type": "stream",
     "text": [
      "Index(['research_id', 'mri_kind', 'mri_number_new_enlarged_t2_lesions',\n",
      "       'mri_number_t1_gd_plus_lesions'],\n",
      "      dtype='object')\n"
     ]
    }
   ],
   "source": [
    "# Relevant columns\n",
    "text = text[['research_id', 'diagnosis_label']]\n",
    "mri = mri[['research_id', 'mri_kind', 'mri_number_new_enlarged_t2_lesions', 'mri_number_t1_gd_plus_lesions']]\n",
    "\n",
    "# Rename mri columns\n",
    "print(mri.columns)\n",
    "mri.columns = ['research_id', 'mri_kind', 'new_lesions', 'km_new_lesions']"
   ]
  },
  {
   "cell_type": "code",
   "execution_count": 16,
   "metadata": {},
   "outputs": [
    {
     "data": {
      "text/plain": [
       "new_lesions\n",
       "0.0     939\n",
       "1.0     180\n",
       "2.0      79\n",
       "3.0      39\n",
       "5.0      17\n",
       "4.0      13\n",
       "6.0       8\n",
       "7.0       5\n",
       "9.0       5\n",
       "8.0       4\n",
       "10.0      2\n",
       "18.0      1\n",
       "13.0      1\n",
       "11.0      1\n",
       "15.0      1\n",
       "34.0      1\n",
       "Name: count, dtype: int64"
      ]
     },
     "execution_count": 16,
     "metadata": {},
     "output_type": "execute_result"
    }
   ],
   "source": []
  }
 ],
 "metadata": {
  "kernelspec": {
   "display_name": "inf-extr",
   "language": "python",
   "name": "python3"
  },
  "language_info": {
   "codemirror_mode": {
    "name": "ipython",
    "version": 3
   },
   "file_extension": ".py",
   "mimetype": "text/x-python",
   "name": "python",
   "nbconvert_exporter": "python",
   "pygments_lexer": "ipython3",
   "version": "3.9.18"
  }
 },
 "nbformat": 4,
 "nbformat_minor": 2
}

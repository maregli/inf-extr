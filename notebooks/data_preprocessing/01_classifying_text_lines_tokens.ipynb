{
 "cells": [
  {
   "cell_type": "code",
   "execution_count": 3,
   "metadata": {},
   "outputs": [],
   "source": [
    "import sys\n",
    "import os\n",
    "sys.path.append(os.getcwd()+\"/../..\")\n",
    "\n",
    "from src import paths\n",
    "from src.utils import prepare_pd_dataset_for_lineclass, tokenize_and_align_labels\n",
    "\n",
    "import pandas as pd\n",
    "\n",
    "from datasets import Dataset, DatasetDict, concatenate_datasets\n",
    "\n",
    "import pandas as pd"
   ]
  },
  {
   "cell_type": "markdown",
   "metadata": {},
   "source": [
    "This is a preprocessing step to label all the observations in seantis_kisim.csv, the dataset containing the reports in line splitted format."
   ]
  },
  {
   "cell_type": "code",
   "execution_count": 4,
   "metadata": {},
   "outputs": [
    {
     "data": {
      "text/html": [
       "<div>\n",
       "<style scoped>\n",
       "    .dataframe tbody tr th:only-of-type {\n",
       "        vertical-align: middle;\n",
       "    }\n",
       "\n",
       "    .dataframe tbody tr th {\n",
       "        vertical-align: top;\n",
       "    }\n",
       "\n",
       "    .dataframe thead th {\n",
       "        text-align: right;\n",
       "    }\n",
       "</style>\n",
       "<table border=\"1\" class=\"dataframe\">\n",
       "  <thead>\n",
       "    <tr style=\"text-align: right;\">\n",
       "      <th></th>\n",
       "      <th>rid</th>\n",
       "      <th>text</th>\n",
       "      <th>class_agg</th>\n",
       "    </tr>\n",
       "  </thead>\n",
       "  <tbody>\n",
       "    <tr>\n",
       "      <th>0</th>\n",
       "      <td>016B6D16-2BBA-4C05-A8E4-30F761C95813</td>\n",
       "      <td>Diagnosen allgemein</td>\n",
       "      <td>None</td>\n",
       "    </tr>\n",
       "    <tr>\n",
       "      <th>1</th>\n",
       "      <td>016B6D16-2BBA-4C05-A8E4-30F761C95813</td>\n",
       "      <td>INDENT Schubförmige Multiple Sklerose EM 03.06...</td>\n",
       "      <td>None</td>\n",
       "    </tr>\n",
       "    <tr>\n",
       "      <th>2</th>\n",
       "      <td>016B6D16-2BBA-4C05-A8E4-30F761C95813</td>\n",
       "      <td>INDENT 03/2021: klinisch nicht aktiv, radiolog...</td>\n",
       "      <td>None</td>\n",
       "    </tr>\n",
       "    <tr>\n",
       "      <th>3</th>\n",
       "      <td>016B6D16-2BBA-4C05-A8E4-30F761C95813</td>\n",
       "      <td>INDENT 06/2019 Schub mit Hypästhesie der Beine...</td>\n",
       "      <td>None</td>\n",
       "    </tr>\n",
       "    <tr>\n",
       "      <th>4</th>\n",
       "      <td>016B6D16-2BBA-4C05-A8E4-30F761C95813</td>\n",
       "      <td>INDENT MRI WS 06/2019: kontrastmittelaufnehmen...</td>\n",
       "      <td>None</td>\n",
       "    </tr>\n",
       "    <tr>\n",
       "      <th>...</th>\n",
       "      <td>...</td>\n",
       "      <td>...</td>\n",
       "      <td>...</td>\n",
       "    </tr>\n",
       "    <tr>\n",
       "      <th>5664</th>\n",
       "      <td>C3997B98-9A42-4A63-A6EE-FC2BEDB78D14</td>\n",
       "      <td>INDENT Soor-Stomatitis, ED 07.02.2020</td>\n",
       "      <td>None</td>\n",
       "    </tr>\n",
       "    <tr>\n",
       "      <th>5665</th>\n",
       "      <td>C3997B98-9A42-4A63-A6EE-FC2BEDB78D14</td>\n",
       "      <td>INDENT Bakterieller Harnwegsinfekt, ED 11.02.2020</td>\n",
       "      <td>None</td>\n",
       "    </tr>\n",
       "    <tr>\n",
       "      <th>5666</th>\n",
       "      <td>C3997B98-9A42-4A63-A6EE-FC2BEDB78D14</td>\n",
       "      <td>INDENT Stomatitis aphthosa mit schmerzhafter A...</td>\n",
       "      <td>None</td>\n",
       "    </tr>\n",
       "    <tr>\n",
       "      <th>5667</th>\n",
       "      <td>C3997B98-9A42-4A63-A6EE-FC2BEDB78D14</td>\n",
       "      <td>INDENT Re-Soor-Stomatitis, ED 11.03.2020</td>\n",
       "      <td>None</td>\n",
       "    </tr>\n",
       "    <tr>\n",
       "      <th>5668</th>\n",
       "      <td>C3997B98-9A42-4A63-A6EE-FC2BEDB78D14</td>\n",
       "      <td>Re-Soor-Stomatitis, ED 10.04.2020</td>\n",
       "      <td>None</td>\n",
       "    </tr>\n",
       "  </tbody>\n",
       "</table>\n",
       "<p>5669 rows × 3 columns</p>\n",
       "</div>"
      ],
      "text/plain": [
       "                                       rid  \\\n",
       "0     016B6D16-2BBA-4C05-A8E4-30F761C95813   \n",
       "1     016B6D16-2BBA-4C05-A8E4-30F761C95813   \n",
       "2     016B6D16-2BBA-4C05-A8E4-30F761C95813   \n",
       "3     016B6D16-2BBA-4C05-A8E4-30F761C95813   \n",
       "4     016B6D16-2BBA-4C05-A8E4-30F761C95813   \n",
       "...                                    ...   \n",
       "5664  C3997B98-9A42-4A63-A6EE-FC2BEDB78D14   \n",
       "5665  C3997B98-9A42-4A63-A6EE-FC2BEDB78D14   \n",
       "5666  C3997B98-9A42-4A63-A6EE-FC2BEDB78D14   \n",
       "5667  C3997B98-9A42-4A63-A6EE-FC2BEDB78D14   \n",
       "5668  C3997B98-9A42-4A63-A6EE-FC2BEDB78D14   \n",
       "\n",
       "                                                   text class_agg  \n",
       "0                                   Diagnosen allgemein      None  \n",
       "1     INDENT Schubförmige Multiple Sklerose EM 03.06...      None  \n",
       "2     INDENT 03/2021: klinisch nicht aktiv, radiolog...      None  \n",
       "3     INDENT 06/2019 Schub mit Hypästhesie der Beine...      None  \n",
       "4     INDENT MRI WS 06/2019: kontrastmittelaufnehmen...      None  \n",
       "...                                                 ...       ...  \n",
       "5664              INDENT Soor-Stomatitis, ED 07.02.2020      None  \n",
       "5665  INDENT Bakterieller Harnwegsinfekt, ED 11.02.2020      None  \n",
       "5666  INDENT Stomatitis aphthosa mit schmerzhafter A...      None  \n",
       "5667           INDENT Re-Soor-Stomatitis, ED 11.03.2020      None  \n",
       "5668                  Re-Soor-Stomatitis, ED 10.04.2020      None  \n",
       "\n",
       "[5669 rows x 3 columns]"
      ]
     },
     "execution_count": 4,
     "metadata": {},
     "output_type": "execute_result"
    }
   ],
   "source": [
    "# The dataset needs columns rid, text, class_agg. The text column contains one line of a report per row. \n",
    "# The class_agg column can have all Null values, it will be filled by the lineclass model.\n",
    "\n",
    "df_all = pd.read_csv(paths.DATA_PATH_PREPROCESSED/\"midatams/seantis_kisim.csv\")\n",
    "df_all = df_all[[\"research_id\", \"text\"]].rename(columns={\"research_id\": \"rid\"})\n",
    "df_all[\"class_agg\"] = None\n",
    "df_all"
   ]
  },
  {
   "cell_type": "code",
   "execution_count": 5,
   "metadata": {},
   "outputs": [
    {
     "data": {
      "application/vnd.jupyter.widget-view+json": {
       "model_id": "f875456cc9bd4e9ba908fdef9debb315",
       "version_major": 2,
       "version_minor": 0
      },
      "text/plain": [
       "Saving the dataset (0/1 shards):   0%|          | 0/55 [00:00<?, ? examples/s]"
      ]
     },
     "metadata": {},
     "output_type": "display_data"
    },
    {
     "data": {
      "application/vnd.jupyter.widget-view+json": {
       "model_id": "379d694a699f43638a6d3370a728d7bb",
       "version_major": 2,
       "version_minor": 0
      },
      "text/plain": [
       "Saving the dataset (0/1 shards):   0%|          | 0/4 [00:00<?, ? examples/s]"
      ]
     },
     "metadata": {},
     "output_type": "display_data"
    },
    {
     "data": {
      "application/vnd.jupyter.widget-view+json": {
       "model_id": "93ab391345054a4ab5eff4bb047c5e12",
       "version_major": 2,
       "version_minor": 0
      },
      "text/plain": [
       "Saving the dataset (0/1 shards):   0%|          | 0/15 [00:00<?, ? examples/s]"
      ]
     },
     "metadata": {},
     "output_type": "display_data"
    },
    {
     "data": {
      "application/vnd.jupyter.widget-view+json": {
       "model_id": "84368383e47d4a72a45de0a9ee6122fb",
       "version_major": 2,
       "version_minor": 0
      },
      "text/plain": [
       "Saving the dataset (0/1 shards):   0%|          | 0/299 [00:00<?, ? examples/s]"
      ]
     },
     "metadata": {},
     "output_type": "display_data"
    }
   ],
   "source": [
    "df_train = pd.read_csv(paths.DATA_PATH_PREPROCESSED/\"line-label/line-label_clean_train.csv\")\n",
    "df_val = pd.read_csv(paths.DATA_PATH_PREPROCESSED/\"line-label/line-label_clean_val.csv\")\n",
    "df_test = pd.read_csv(paths.DATA_PATH_PREPROCESSED/\"line-label/line-label_clean_test.csv\")\n",
    "\n",
    "dataset = DatasetDict({\n",
    "    \"train\": Dataset.from_pandas(df_train),\n",
    "    \"val\": Dataset.from_pandas(df_val),\n",
    "    \"test\": Dataset.from_pandas(df_test),\n",
    "    \"all\": Dataset.from_pandas(df_all)\n",
    "})\n",
    "\n",
    "df_token_train = prepare_pd_dataset_for_lineclass(df_train)\n",
    "df_token_val = prepare_pd_dataset_for_lineclass(df_val)\n",
    "df_token_test = prepare_pd_dataset_for_lineclass(df_test)\n",
    "df_token_all = prepare_pd_dataset_for_lineclass(df_all)\n",
    "\n",
    "dataset_token = DatasetDict({\n",
    "    \"train\": Dataset.from_pandas(df_token_train),\n",
    "    \"val\": Dataset.from_pandas(df_token_val),\n",
    "    \"test\": Dataset.from_pandas(df_token_test),\n",
    "    \"all\": Dataset.from_pandas(df_token_all)\n",
    "})\n",
    "\n",
    "# Add a few of the validation examples to the training set\n",
    "dataset_token[\"train\"] = concatenate_datasets([dataset_token[\"train\"], dataset_token[\"val\"].select(range(8))])\n",
    "dataset_token[\"val\"] = dataset_token[\"val\"].select(range(8, len(dataset_token[\"val\"])))\n",
    "\n",
    "# Save the tokenized datasets\n",
    "dataset_token.save_to_disk(paths.DATA_PATH_PREPROCESSED/\"line-label/line-label_for_token_classification\")"
   ]
  }
 ],
 "metadata": {
  "kernelspec": {
   "display_name": "Python 3 (ipykernel)",
   "language": "python",
   "name": "python3"
  },
  "language_info": {
   "codemirror_mode": {
    "name": "ipython",
    "version": 3
   },
   "file_extension": ".py",
   "mimetype": "text/x-python",
   "name": "python",
   "nbconvert_exporter": "python",
   "pygments_lexer": "ipython3",
   "version": "3.9.18"
  }
 },
 "nbformat": 4,
 "nbformat_minor": 4
}

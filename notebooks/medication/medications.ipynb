{
 "cells": [
  {
   "cell_type": "markdown",
   "metadata": {},
   "source": [
    "# Medication Extraction\n",
    "\n",
    "This notebook is intended as an example of extracting medications and their attributes from text.\n",
    "You can specify your own dataset (must contain text), sampler, schema, model, prompting strategy and templates or use the default ones."
   ]
  },
  {
   "cell_type": "code",
   "execution_count": 56,
   "metadata": {},
   "outputs": [],
   "source": [
    "import sys\n",
    "import os\n",
    "sys.path.append(os.getcwd()+\"/../..\")\n",
    "from src import paths\n",
    "\n",
    "import os\n",
    "\n",
    "import torch\n",
    "\n",
    "from src import paths\n",
    "from src.utils import (load_model_and_tokenizer,   \n",
    "                       check_gpu_memory,\n",
    "                       get_format_fun,\n",
    "                        information_retrieval, \n",
    "                        get_sampler,\n",
    "                        get_outlines_generator,\n",
    "                        get_pydantic_schema,\n",
    "                        format_prompt,\n",
    "                        outlines_medication_prompting,\n",
    ")\n",
    "\n",
    "import argparse\n",
    "\n",
    "from datasets import Dataset\n",
    "\n",
    "import json\n",
    "\n",
    "import random"
   ]
  },
  {
   "cell_type": "code",
   "execution_count": 23,
   "metadata": {},
   "outputs": [],
   "source": [
    "MODEL_NAME = \"Llama2-MedTuned-13b\"\n",
    "QUANTIZATION = \"4bit\"\n",
    "PROMPT_STRATEGY = \"few_shot_instruction\"\n",
    "SAMPLER_NAME = \"greedy\"\n",
    "ATTN_IMPLEMENTATION = \"flash_attention_2\" # Only enable this if your GPU is able to use flash_attention_2, check https://github.com/Dao-AILab/flash-attention\n",
    "MAX_TOKENS = 500\n",
    "NUM_EXAMPLES = 10"
   ]
  },
  {
   "cell_type": "code",
   "execution_count": 2,
   "metadata": {},
   "outputs": [
    {
     "name": "stdout",
     "output_type": "stream",
     "text": [
      "GPU 0: NVIDIA GeForce RTX 3090\n",
      "   Total Memory: 23.69 GB\n",
      "   Free Memory: 22.67 GB\n",
      "   Allocated Memory : 0.00 GB\n",
      "   Reserved Memory : 0.00 GB\n"
     ]
    }
   ],
   "source": [
    "# Check GPU Memory, for 13B model should have at least 16GB of VRAM (12 could work for short examples)\n",
    "check_gpu_memory()"
   ]
  },
  {
   "cell_type": "code",
   "execution_count": 7,
   "metadata": {},
   "outputs": [
    {
     "data": {
      "application/vnd.jupyter.widget-view+json": {
       "model_id": "520db2434a0d4576a9e3e1d118c425cf",
       "version_major": 2,
       "version_minor": 0
      },
      "text/plain": [
       "Loading checkpoint shards:   0%|          | 0/3 [00:00<?, ?it/s]"
      ]
     },
     "metadata": {},
     "output_type": "display_data"
    },
    {
     "name": "stdout",
     "output_type": "stream",
     "text": [
      "GPU 0: NVIDIA GeForce RTX 3090\n",
      "   Total Memory: 23.69 GB\n",
      "   Free Memory: 15.55 GB\n",
      "   Allocated Memory : 6.90 GB\n",
      "   Reserved Memory : 7.07 GB\n"
     ]
    }
   ],
   "source": [
    "# Load Model and Tokenizer\n",
    "model, tokenizer = load_model_and_tokenizer(model_name = MODEL_NAME,\n",
    "                                            task_type = \"outlines\",\n",
    "                                            quantization = QUANTIZATION,\n",
    "                                            attn_implementation = ATTN_IMPLEMENTATION,\n",
    "                                            )\n",
    "check_gpu_memory()"
   ]
  },
  {
   "cell_type": "code",
   "execution_count": 25,
   "metadata": {},
   "outputs": [
    {
     "data": {
      "text/plain": [
       "MedicationList(medications=[Medication(name='unknown', dose=-99.0, dose_unit='unknown', morning=-99.0, noon=-99.0, evening=-99.0, night=-99.0, extra='')])"
      ]
     },
     "execution_count": 25,
     "metadata": {},
     "output_type": "execute_result"
    }
   ],
   "source": [
    "# Output schema (you can implement your own, must follow pydantic BaseModel, or check https://github.com/outlines-dev/outlines\n",
    "schema = get_pydantic_schema(schema_name=\"medication\")\n",
    "\n",
    "# Example of what this looks like\n",
    "get_default_pydantic_model(\"medication\")"
   ]
  },
  {
   "cell_type": "code",
   "execution_count": 26,
   "metadata": {},
   "outputs": [],
   "source": [
    "# Get sampler (could also be \"multionmial\" or \"beam\")\n",
    "sampler = get_sampler(SAMPLER_NAME)\n",
    "\n",
    "# Get Generator (for task with JSON output according to schema)\n",
    "generator = get_outlines_generator(model, sampler, task = \"json\", schema = schema)"
   ]
  },
  {
   "cell_type": "code",
   "execution_count": 61,
   "metadata": {},
   "outputs": [],
   "source": [
    "# Load your data\n",
    "df = Dataset.load_from_disk(paths.DATA_PATH_PREPROCESSED/\"medication/kisim_medication_sample\")\n",
    "text = df[\"text\"][1] # Sample of 1"
   ]
  },
  {
   "cell_type": "code",
   "execution_count": 79,
   "metadata": {},
   "outputs": [],
   "source": [
    "# Write your task instruction, system prompt and examples or load default ones\n",
    "with open(paths.DATA_PATH_PREPROCESSED/\"medication/task_instruction.txt\", \"r\") as f:\n",
    "    task_instruction = f.read()\n",
    "\n",
    "with open(paths.DATA_PATH_PREPROCESSED/\"medication/system_prompt.txt\", \"r\") as f:\n",
    "    system_prompt = f.read()\n",
    "\n",
    "with open(paths.DATA_PATH_PREPROCESSED/\"medication/examples.json\", \"r\") as file:\n",
    "    examples = json.load(file)                  \n",
    "\n",
    "# Can also select a subset of examples at random\n",
    "random.seed(42)\n",
    "examples = random.sample(examples, NUM_EXAMPLES)"
   ]
  },
  {
   "cell_type": "code",
   "execution_count": 62,
   "metadata": {},
   "outputs": [],
   "source": [
    "# Load a prompting template and format input\n",
    "format_fun = get_format_fun(prompting_strategy=PROMPT_STRATEGY)\n",
    "input = format_prompt(text = text, format_fun=format_fun, task_instruction = task_instruction, system_prompt = system_prompt, examples = examples)\n",
    "\n",
    "# If you don't want to use any of the templates and formatting you can also use the tokenizer to prepare an input:\n",
    "# input = tokenizer([\"This is a test\"], return_tensors = \"pt\")"
   ]
  },
  {
   "cell_type": "code",
   "execution_count": 63,
   "metadata": {},
   "outputs": [
    {
     "data": {
      "text/plain": [
       "['[INST]<<SYS>>You are a helpful, respectful and honest assistant. Always answer as helpfully as possible, while being safe.\\nYour answers should not include any harmful, unethical, racist, sexist, toxic, dangerous, or illegal content.\\nPlease ensure that your responses are socially unbiased and positive in nature.\\nIf a question does not makeany sense, or is not factually coherent, explain why instead of answering something not correct. \\nIf you don’t know the answer to a question, please don’t share false information.\\n<</SYS>>\\n\\n### Instruction:\\nYour task is to extract specific information from medication descriptions. \\nThe input for this task is a list of medication descriptions, a report or doctors recipe, and the output should be a complete list of dictionaries (one per medication) with the following keys:\\n- name (str): The name of the medication.\\n- dose (float): The dose of the medication.\\n- dose_unit (str): The unit of the dose.\\n- morning (float): The dose to be taken in the morning.\\n- noon (float): The dose to be taken at noon.\\n- evening (float): The dose to be taken in the evening.\\n- night (float): The dose to be taken at night.\\n- extra (str): Any additional information about the medication, especially its intake.\\n\\nThe output format should look like this:\\n[\\n    {name: \"MedicationName1\", dose: MedicationDose1, dose_unit: \"MedicationDoseUnit1\", morning: MorningDose1, noon: NoonDose1, evening: EveningDose1, night: NightDose1, extra: \"ExtraInfo1\"},\\n    {name: \"MedicationName2\", dose: MedicationDose2, dose_unit: \"MedicationDoseUnit2\", morning: MorningDose2, noon: NoonDose2, evening: EveningDose2, night: NightDose2, extra: \"ExtraInfo2\"},\\n    ...\\n]\\n\\n- The MedicationName can consist of multiple words with whitespace and should be returned as a single string. If you don\\'t find any mentions of medications or drugs, it should be represented as \"unknown\".\\n- The MedicationDose is a float value. If the MedicationDose is not detected, it should be represented as -99.\\n- The MedicationDoseUnit can have various formats (e.g. mg, ug, g, stk, ml, tropfen, IE/ml, mmol, unknown, etc.). If the MedicationDoseUnit is not detected, it should be represented as \"unknown\".\\n- The intake doses over the day can be given several ways:\\n    - If the amount of doses is given in the form of float-float-float, it corresponds to MorningDose-NoonDose-EveningDose with NightDose being 0.\\n    - If the amount of doses is given in the form float-float-float-float, it corresponds to MorningDose-NoonDose-EveningDose-NightDose.\\n    - If keywords like \"Morgen\", \"Mittag\", \"Abend\", \"Nacht\" are used, the corresponding dose should be extracted.\\n    - If an intake schema like the ones above is not detected, MorningDose, NoonDose, EveningDose and NightDose should all be represented as -99.\\n- The extra field can contain any additional information about the medication, like its intake (e.g. daily, for 2 weeks). This field can be empty if no additional information is found. \\n\\nHere are some examples to help you understand the task:\\nInput:\\nBlutdruckmessgerät über einen Zeitraum von 3 Wochen\\nOutput:\\n[{name: \"Blutdruckmessgerät\", dose: 1, dose_unit: \"unknown\", morning: -99, noon: -99, evening: -99, night: -99, extra: \"3 Wochen\"}]\\n\\nInput:\\n1 OP Cipralex 20 mg 0.5-0-0 für 4 Tag\\n 3 OP Propranolol 35g 3-0-1-0\\nOutput:\\n[{name: \"Cipralex\", dose: 20, dose_unit: \"mg\", morning: 0.5, noon: 0, evening: 0, night: 0, extra: \"für 4 Tage\"}, {name: \"Propranolol\", dose: 35, dose_unit: \"g\", morning: 3, noon: 0, evening: 1, night: 1, extra: \"\"}]\\n\\nInput:\\n1 Tablette Aspirin 100 mg täglich nach dem Frühstück\\nOutput:\\n[{name: \"Aspirin\", dose: 100, dose_unit: \"mg\", morning: 1, noon: 0, evening: 0, night: 0, extra: \"täglich nach dem Frühstück\"}]\\n\\nInput:\\nStützstrümpfe beidseitig nach Bedarf\\nOutput:\\n[{name: \"Stützstrümpfe\", dose: 2, dose_unit: \"unknown\", morning: -99, noon: -99, evening: -99, night: -99, extra: \"nach Bedarf\"}]\\n\\nInput:\\nIbuprofen 400mg zur Nacht\\nOutput:\\n[{name: \"Ibuprofen\", dose: 400, dose_unit: \"mg\", morning: 0, noon: 0, evening: 0, night: 1, extra: \"zur Nacht\"}]\\n\\nInput:\\n2 Sprühstöße Symbicort 2x täglich morgens und abends\\nOutput:\\n[{name: \"Symbicort\",  dose: 2, dose_unit: \"Sprühstöße\", morning: 1, noon: 0, evening: 1, night: 0, extra: \"2x2 täglich morgens und abends\"}]\\n\\nInput:\\n1 Tablette Pantoprazol 40 mg morgens\\nOutput:\\n[{name: \"Pantoprazol\", dose: 40, dose_unit: \"mg\", morning: 1, noon: 0, evening: 0, night: 0, extra: \"morgens\"}]\\n\\nInput:\\nRezept für Propranolol, einmal täglich, 0.5mg\\nOutput:\\n[{name: \"Propranolol\", dose: 0.5, dose_unit: \"mg\", morning: -99, noon: -99, evening: -99, night: -99, extra: \"einmal täglich\"}]\\n\\nInput:\\nGültigkeit bis Sommer 2024\\nOutput:\\n[{name: \"unknown\", dose: -99, dose_unit: \"unknown\", morning: -99, noon: -99, evening: -99, night: -99, extra: \"bis Sommer 2024\"}]\\n\\nInput:\\nLevocetirizin 5 mg 1-0-1\\nOutput:\\n[{name: \"Levocetirizin\", dose: 5, dose_unit: \"mg\", morning: 1, noon: 0, evening: 1, night: 0, extra: \"\"}]\\n\\n\\nPlease provide your answer for the following Input.\\n\\n### Input:\\nAuge rechts:\\nFloxal AT 4x/d für 5 Tage\\nVitamine A AS zur Nacht[/INST]\\n\\n### Output:\\n']"
      ]
     },
     "execution_count": 63,
     "metadata": {},
     "output_type": "execute_result"
    }
   ],
   "source": [
    "input"
   ]
  },
  {
   "cell_type": "code",
   "execution_count": null,
   "metadata": {},
   "outputs": [],
   "source": [
    "# Get results (note you can also use DataLoaders to submit\n",
    "result = generator(input, max_tokens = MAX_TOKENS)"
   ]
  },
  {
   "cell_type": "code",
   "execution_count": 64,
   "metadata": {},
   "outputs": [
    {
     "name": "stdout",
     "output_type": "stream",
     "text": [
      "{\n",
      "\"medications\": [\n",
      "{\n",
      "\"name\": \"Floxal AT\",\n",
      "\"dose\": 4,\n",
      "\"dose_unit\": \"tablet\",\n",
      "\"morning\": 0,\n",
      "\"noon\": 0,\n",
      "\"evening\": 0,\n",
      "\"night\": 1,\n",
      "\"extra\": \"5 Tage\"\n",
      "},\n",
      "{\n",
      "\"name\": \"Vitamine A AS\",\n",
      "\"dose\": 1,\n",
      "\"dose_unit\": \"tablet\",\n",
      "\"morning\": 0,\n",
      "\"noon\": 0,\n",
      "\"evening\": 0,\n",
      "\"night\": 1,\n",
      "\"extra\": \"zur Nacht\"\n",
      "}\n",
      "]\n",
      "}"
     ]
    }
   ],
   "source": [
    "# Alternatively you can stream the input and observe the progress\n",
    "for token in generator.stream(input, max_tokens = MAX_TOKENS):\n",
    "    print(token, end = \"\")"
   ]
  }
 ],
 "metadata": {
  "kernelspec": {
   "display_name": "Python 3 (ipykernel)",
   "language": "python",
   "name": "python3"
  },
  "language_info": {
   "codemirror_mode": {
    "name": "ipython",
    "version": 3
   },
   "file_extension": ".py",
   "mimetype": "text/x-python",
   "name": "python",
   "nbconvert_exporter": "python",
   "pygments_lexer": "ipython3",
   "version": "3.11.4"
  }
 },
 "nbformat": 4,
 "nbformat_minor": 4
}

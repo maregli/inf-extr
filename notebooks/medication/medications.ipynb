{
 "cells": [
  {
   "cell_type": "code",
   "execution_count": 107,
   "metadata": {},
   "outputs": [],
   "source": [
    "import sys\n",
    "import os\n",
    "sys.path.append(os.getcwd()+\"/../..\")\n",
    "from src import paths\n",
    "\n",
    "from pydantic import BaseModel, Field\n",
    "from enum import Enum, auto\n",
    "from src.utils import (load_model_and_tokenizer, \n",
    "                        get_sampler, \n",
    "                        get_format_fun, \n",
    "                        format_prompt, \n",
    "                        get_outlines_generator, \n",
    "                        get_pydantic_schema, \n",
    "                        outlines_medication_prompting,\n",
    "                        get_default_pydantic_model)\n",
    "\n",
    "from outlines import samplers\n",
    "from outlines.generate import SequenceGenerator\n",
    "from outlines.samplers import Sampler\n",
    "\n",
    "import pandas as pd\n",
    "\n",
    "import json\n",
    "\n",
    "from datasets import Dataset\n",
    "\n",
    "from typing import Callable, Union\n",
    "\n",
    "from pydantic import BaseModel"
   ]
  },
  {
   "cell_type": "code",
   "execution_count": 106,
   "metadata": {},
   "outputs": [
    {
     "data": {
      "text/plain": [
       "<module 'src.utils' from '/cluster/home/eglimar/inf-extr/notebooks/medication/../../src/utils.py'>"
      ]
     },
     "execution_count": 106,
     "metadata": {},
     "output_type": "execute_result"
    }
   ],
   "source": [
    "import importlib\n",
    "import src.utils\n",
    "importlib.reload(src.utils)"
   ]
  },
  {
   "cell_type": "code",
   "execution_count": 136,
   "metadata": {},
   "outputs": [
    {
     "data": {
      "text/plain": [
       "MedicationList(medications=[Medication(name='unknown', unit=<MedicationUnit.unknown: 'unknown'>, amount=-99.0, morning=-99.0, noon=-99.0, evening=-99.0, night=-99.0)])"
      ]
     },
     "execution_count": 136,
     "metadata": {},
     "output_type": "execute_result"
    }
   ],
   "source": [
    "# # Load medication dict\n",
    "# # with open(paths.DATA_PATH_PREPROCESSED/\"medication/medication_dict.json\", \"r\") as f:\n",
    "# #     medication_dict = json.load(f)\n",
    "\n",
    "# # MedicationName = Enum(\"MedicationName\", [(key, value) for key, value in zip(medication_key, medication_names)])\n",
    "\n",
    "# class MedicationUnit(str, Enum):\n",
    "#     mg = \"mg\"\n",
    "#     ug = \"ug\"\n",
    "#     g = \"g\"\n",
    "#     stk = \"stk\"\n",
    "#     tropfen = \"tropfen\"\n",
    "#     ml = \"ml\"\n",
    "#     unknown = \"unknown\"\n",
    "\n",
    "# class Medication(BaseModel):\n",
    "#     name: str\n",
    "#     unit: MedicationUnit\n",
    "#     amount: float\n",
    "#     morning: float\n",
    "#     noon: float\n",
    "#     evening: float\n",
    "#     night: float\n",
    "\n",
    "# class MedicationList(BaseModel):\n",
    "#     medications: list[Medication]\n",
    "\n",
    "# # Instantiate Medication\n",
    "# medication = Medication(\n",
    "#     name=\"unknown\",\n",
    "#     unit=\"unknown\",\n",
    "#     amount=-99,\n",
    "#     morning=-99,\n",
    "#     noon=-99,\n",
    "#     evening=-99,\n",
    "#     night=-99,\n",
    "# )\n",
    "# MedicationList(medications = [medication])"
   ]
  },
  {
   "cell_type": "code",
   "execution_count": 2,
   "metadata": {},
   "outputs": [
    {
     "data": {
      "application/vnd.jupyter.widget-view+json": {
       "model_id": "34e57b5ee34b441394cf1aeb9225935d",
       "version_major": 2,
       "version_minor": 0
      },
      "text/plain": [
       "Loading checkpoint shards:   0%|          | 0/2 [00:00<?, ?it/s]"
      ]
     },
     "metadata": {},
     "output_type": "display_data"
    }
   ],
   "source": [
    "model, tokenizer = load_model_and_tokenizer(\"Llama2-MedTuned-7b\",\n",
    "                                            task_type = \"outlines\",\n",
    "                                            quantization = \"4bit\",\n",
    "                                            attn_implementation = \"flash_attention_2\",\n",
    "                                           )"
   ]
  },
  {
   "cell_type": "code",
   "execution_count": 108,
   "metadata": {},
   "outputs": [],
   "source": [
    "sampler = get_sampler(\"greedy\")\n",
    "schema = get_pydantic_schema(\"medication\")\n",
    "default_model = get_default_pydantic_model(\"medication\")\n",
    "generator = get_outlines_generator(model, sampler, task = \"json\", schema = schema)"
   ]
  },
  {
   "cell_type": "code",
   "execution_count": 109,
   "metadata": {},
   "outputs": [],
   "source": [
    "df = Dataset.load_from_disk(paths.DATA_PATH_PREPROCESSED/\"medication/kisim_medication_sample\")"
   ]
  },
  {
   "cell_type": "code",
   "execution_count": 110,
   "metadata": {},
   "outputs": [
    {
     "name": "stdout",
     "output_type": "stream",
     "text": [
      "---------------\n",
      "0\n",
      "Prednison 100 mg\t1-0-0\t\t24.09. - 07.10.2016\n",
      "Prednison 80 mg\t\t1-0-0\t\t08.10. - 14.10.2016\n",
      "Prednison 60 mg\t\t1-0-0\t\t15.10. - 21.10.2016\n",
      "Prednison 40 mg\t\t1-0-0\t\t22.10.2016 bis auf weiteres\n",
      "\n",
      "Pantozol 40 mg\t\t1-0-0 \t\tfür die Dauer der Prednison-Behandlung\n",
      "---------------\n",
      "1\n",
      "Auge rechts:\n",
      "Floxal AT 4x/d für 5 Tage\n",
      "Vitamine A AS zur Nacht\n",
      "---------------\n",
      "2\n",
      "Volare Handgelenksschiene zur Nacht, bitte 1x für beide Hände\n",
      "\n",
      "Dg.: CTS bds\n",
      "---------------\n",
      "3\n",
      "Ebrufen 200 mg\n",
      "---------------\n",
      "4\n",
      "Paracetamol 500 Hänseler neue Formel Tabl 20 (teilbar)\n",
      "bei Bedarf\n",
      "\n",
      "\n",
      "Ibuprofen Adico Filmtabl 400 mg 50 \n",
      "bei Bedarf\n",
      "\n",
      "Dauerrezept\n",
      "---------------\n",
      "5\n",
      "Nexium MUPS-Tabl 40 mg 14 Stück Einnahme: 1-0-0\n",
      "Zolpidem Winthrop Filmtabl 10mg 10 Stück (teilbar) Einnahme: 0-0-1\n",
      "---------------\n",
      "6\n",
      "Einlagen\n",
      "---------------\n",
      "7\n",
      "Amoxicillin Sandoz (Disp Tabl 1000 mg)\n",
      "---------------\n",
      "8\n",
      "Fampyra 10mg 1-0-1 per os\n",
      "---------------\n",
      "9\n",
      "Burgerstein Vitamin D3 (Kaps)\n",
      "---------------\n",
      "10\n",
      "Novalgin (Filmtabl 500 mg)\n",
      "---------------\n",
      "11\n",
      "Cetallerg 10mg\n",
      "Rp für 12 Monate\n",
      "---------------\n",
      "12\n",
      "Magnesium Diasporal (Gran 300 mg)\n",
      "---------------\n",
      "13\n",
      "Sirdalud MR (Ret Kaps 6 mg)\n",
      "---------------\n",
      "14\n",
      "Pantozol (Filmtabl 40 mg)\n",
      "---------------\n",
      "15\n",
      "Pradif T (Ret Tabl 400 mcg)\n",
      "---------------\n",
      "16\n",
      "Frau Fleseriu-Erhan Adriana geb. 29.8.1972\n",
      "Adresse: Fliederweg 3, 5244 Birrhard\n",
      "Versicherung: Sanitas Nr.: 99396702\n",
      "\n",
      "Gültigkeit: 1 Jahr\n",
      "\n",
      "Tecfidera 240mg 1-0-1\n",
      "---------------\n",
      "17\n",
      "1 volare Handgelenksschiene Typ Mafra (rechts)\n",
      "\n",
      "(Ind. V.a. Karpaltunnelsyndrom rechts)\n",
      "---------------\n",
      "18\n",
      "Lacrycon (Augengel) Tagesdosen\n",
      "---------------\n",
      "19\n",
      "Toviaz (Ret Tabl 4 mg)\n",
      "---------------\n",
      "20\n",
      "Rezept für ein Jahr gültig\n",
      "---------------\n",
      "21\n",
      "Vi-De 3 (Tropfen 4500 IE/ml)\n",
      "---------------\n",
      "22\n",
      "Stüzstrümpfe Stärke 2 bis zu Oberschenkel\n",
      "---------------\n",
      "23\n",
      "1 OP MAGNESIOCARD Gran 10 mmol Orange     1-1-1\n",
      "---------------\n",
      "24\n",
      "Pantozol (Filmtabl 40 mg)\n",
      "---------------\n",
      "25\n",
      "Diprosalic Lösung: 1mal täglich (morgens und abends) tropfenweise auf die Kopfhaut auftragen und leicht einreiben, dann 3x/woche weiter\n",
      "\n",
      "Daivobet Salbe, \n",
      "b. Bedarf auf Psoriasistellen auf dem Körper \n",
      "\n",
      "Dermovate Creme\n",
      "stärker wirksam, auf die infiltrierten Psoriasisstellen im Schub tgl für 10-14 Tage, dann 2-3x/Woche für 4 Wochen\n",
      "\n",
      "Excipial U Lipolotion \n",
      "oder alternativ \n",
      "Excipial U Hydrolotio \n",
      "---------------\n",
      "26\n",
      "Buscopan (Drag 10 mg)\n",
      "---------------\n",
      "27\n",
      "Nasonex Dosier Nasenspray (Nasenspray 50 mcg)\n",
      "---------------\n",
      "28\n",
      "Lyrica 25 mg \t\t0-0-0-1 bei Auftreten von neuropathischen Schmerzen in der Nacht, + 1x Tabl. in Reserve bei Schmerzen (max 0-0-0-2). \n",
      "---------------\n",
      "29\n",
      "Vi-De 3 (Tropfen 4500 IE/ml)\n",
      "---------------\n",
      "30\n",
      "Tegretol CR (Divitabs 200 mg)\n",
      "---------------\n",
      "31\n",
      "Burgerstein\n",
      "---------------\n",
      "32\n",
      "Irfen Dolo 400 mg OPI\n",
      "1x1 bei Bed.\n",
      "---------------\n",
      "33\n",
      "Prednison 20mg\n",
      "1-0-0 5 Tage\n",
      "Pantozol 40mg\n",
      "1-0-0 5 Tage\n",
      "---------------\n",
      "34\n",
      "Micardis Amlo (Tabl) 80/5 mg\n",
      "---------------\n",
      "35\n",
      "Magnesiocard (Gran 10 mmol) Orange Btl\n",
      "---------------\n",
      "36\n",
      "Lyrica (Kaps 150 mg)\n",
      "---------------\n",
      "37\n",
      "Vi-De 3 (Tropfen 4500 IE/ml)\n",
      "---------------\n",
      "38\n",
      "Insulin NovoRapid Penfill (Inj Lös) Patrone\n",
      "---------------\n",
      "39\n",
      "Vi-De 3 (Tropfen 4500 IE/ml)\n",
      "---------------\n",
      "40\n",
      "Defalgan 1 an 2 Tagen pro Woche \n",
      "---------------\n",
      "41\n",
      "Bepanthen (Salbe 5 %)\n",
      "---------------\n",
      "42\n",
      "Nevanac (Susp Opht 0.1 %)\n",
      "---------------\n",
      "43\n",
      "1 Handgelenksschiene zur Nacht rechts\n",
      "---------------\n",
      "44\n",
      "Aspégic (Plv 500 mg) Btl\n",
      "---------------\n",
      "45\n",
      "1 OP Elocom Sa 1x/T für 10 T, alle 2 T für 10 T\n",
      "1 OP Excipial repair\n",
      "---------------\n",
      "46\n",
      "Toviaz 8 mg\t\t\t0-0-0-1, bis auf weiteres\n",
      "\n",
      "Pradif T\t\t\t\t0-0-0-1, bis auf weiteres\n",
      "---------------\n",
      "47\n",
      "Bactrim forte (Tabl) 800/160mg\n",
      "---------------\n",
      "48\n",
      "1 OP Otrivin Spray 3x3/d für 5 Tage\n",
      "1 OP Mefenacid 500mg 1-1-1\n",
      "---------------\n",
      "49\n",
      "Palexia (Filmtabl 50 mg)\n",
      "---------------\n",
      "50\n",
      "Pantozol (Filmtabl 20 mg)\n",
      "---------------\n",
      "51\n",
      "Lithiofor (Ret Tabl 660 mg)\n",
      "---------------\n",
      "52\n",
      "Lacrycon AT bds nach Bedarf\n",
      "---------------\n",
      "53\n",
      "1 OP ALFACORTON Creme 2.5 % \n",
      "---------------\n",
      "54\n",
      "Elocom (Creme 1 mg/g)\n",
      "---------------\n",
      "55\n",
      "Fampyra (DE) Retardtabletten 10mg (Fampridin Retardtabletten)\n",
      "1 -0 -1\n",
      "---------------\n",
      "56\n",
      "Katheter SpeediCat CH 12\n",
      "Gazenkompressen gefaltet\n",
      "Octenisept 500 ml\n",
      "---------------\n",
      "57\n",
      "Vi-De 3 (Tropfen 4500 IE/ml)\n",
      "---------------\n",
      "58\n",
      "Brufen Brausegranulat 600mg   1OP\n",
      "---------------\n",
      "59\n",
      "Dafalgan 1g bei Bedarf (max. 4g pro Tag)\n",
      "---------------\n",
      "60\n",
      "Detrusitol SR 4mg\n",
      "1Tbl. tgl.\n",
      "---------------\n",
      "61\n",
      "Deumavan Salbe (Salbe) Natur ohne Lavendel Tb\n",
      "---------------\n",
      "62\n",
      "1 Blutdruckmessgertät zur Selbstmessung\n",
      "---------------\n",
      "63\n",
      "orthopädische Fusseinlagen bds.\n",
      "---------------\n",
      "64\n",
      "Otrivin Schnupfen (Gtt Nas 0.1 %)\n",
      "---------------\n",
      "65\n",
      "Epiduo Gel\n",
      "flächig auf die Stirn und Schläfen\n",
      "jeden zweiten bis dritten Tag\n",
      "bei guter Verträglichkeit täglich\n",
      "\n",
      "Kann Kleider bleichen! \n",
      "---------------\n",
      "66\n",
      "1 OP Citalopram Ecosol (Filmtabletten 20 mg) 0.5-0-0\n",
      "\n",
      "Gültigkeit: 1 Jahr\n",
      "---------------\n",
      "67\n",
      "Pantozol (Filmtabl 20 mg)\n",
      "---------------\n",
      "68\n",
      "PK-Merz Filmtabl 100 \n",
      "\n",
      "erste Woche 1-0-0\n",
      "bei Bedarf zweite Woche 1-1-0 oder 2-0-0\n",
      "---------------\n",
      "69\n",
      "Vitamin D3 Streuli (Tropfen 4000 IE/ml)\n",
      "---------------\n",
      "70\n",
      "Dafalgan (Tabl 500 mg)\n",
      "---------------\n",
      "71\n",
      "ViDe3 20 Tropfen für drei Wochen\n",
      "---------------\n",
      "72\n",
      "Vi-De 3 (Tropfen 4500 IE/ml)\n",
      "---------------\n",
      "73\n",
      "VITAMIN D3 Streuli Tropfen 4000 E/ml\n",
      "---------------\n",
      "74\n",
      "Prednison-Ausschleichschema:\n",
      "\n",
      "Prednison 15 mg für 5 Tage\n",
      "folgend: Prednison 12,5 mg für 5 Tage\n",
      "\t\tPrednison 10 mg für 5 Tage\n",
      "\t\tPrednison 7,5 mg für 5 Tage\n",
      "\t\tPrednison 5 mg für 5 Tage\n",
      "\t\tPrednison 2,5 mg für 5 Tage\n",
      "\n",
      "Esomeprazol 40 mg für die Dauer der Cortisoneinnahme\n",
      "---------------\n",
      "75\n",
      "Voltaren Retard 75 (Ret Drag 75 mg)\n",
      "---------------\n",
      "76\n",
      "Rezept für 1 Jahr gültig\n",
      "---------------\n",
      "77\n",
      "Fampyra 10 mg \t\t1-1-0\n",
      "Sifrol 0.125 mg \t\t2h vor Schlafegehen\n",
      "---------------\n",
      "78\n",
      "für 1 Jahr \n",
      "\n",
      "Avanex:  Vers.-Nr. 96472969 \n",
      "\n",
      "Tecfidera 120mg 1-0-1 \tfür 1 Woche\n",
      "ab 2. Woche Tecfidra 240mg 1-0-1 \n",
      "\n",
      "---------------\n",
      "79\n",
      "Medrol 100 mg 10-0-0 po 4 Tage\n",
      "Pantoprazol 40 mg 1-0-0- 7 Tage\n",
      "---------------\n",
      "80\n",
      "Vi-De 3 (Tropfen 4500 IE/ml)\n",
      "---------------\n",
      "81\n",
      "Voltaren (Drag 50 mg)\n",
      "---------------\n",
      "82\n",
      "Nexium MUPS-Tabl 20 mg 14 \n",
      "---------------\n",
      "83\n",
      "Dafalgan (Tabl 500 mg)\n",
      "---------------\n",
      "84\n",
      "Brufen 200 mg, bei Bedarf (max 6/Tag)\n",
      "\n",
      "Dafalgan 500 mg, bei Bedarf (max 8/Tag)\n",
      "---------------\n",
      "85\n",
      "Normacol Sachet\n",
      "---------------\n",
      "86\n",
      "Vi-de 3 Tropfen \t\t1x Fläschen aufs Mal, danach 8 Tropfen tgl.\n",
      "---------------\n",
      "87\n",
      "Lioresal 10 mg\n",
      "S: 0-0-1/2 \t3 Tage\n",
      "1/2-0-1/2 \t3 Tage\n",
      "1/2-1/2-1/2 \t3 Tage\n",
      "1/2-1/2-1 \t3 Tage\n",
      "1-1/2-1 \t\t3 Tage\n",
      "dann 1-1-1\n",
      "\n",
      "Bei Abnahme der Kraft oder Nebenwirkungen wie Schläfrigkeit zurück auf die vorherige Dosisstufe\n",
      "\n",
      "---------------\n",
      "88\n",
      "Lioresal (Tabl 10 mg)\n",
      "---------------\n",
      "89\n",
      "Vi-De 3 (Tropfen 4500 IE/ml)\n",
      "---------------\n",
      "90\n",
      "Benexol B12 50 Tbl. \n",
      "(1 Tbl. tgl.)\n",
      "---------------\n",
      "91\n",
      "Aldara 5% Creme Sach 12 \n",
      "S. In der ersten Woche Montag, Mittwoch, Freitag einmal täglich auf roten Fleck an der Stirne auftragen. Falls geringe Rötung, ab der zweiten Woche Anwendung Montag bis Freitag einmal täglich, bis sich eine leicht nässende oder verkrustete Entzündung einstellt (meist nach 2 bis 4 Wochen Anwendung). Dann Stop Aldara und abheilen lassen.\n",
      "---------------\n",
      "92\n",
      "Pantozol 20mg \t\tp.o.\t1-0-0 für 3 Tage\n",
      "Zolpidem 10mg\t\tp.o. 1-0-0 für 3 Tage\n",
      "---------------\n",
      "93\n",
      "Gilenya 0,5 mg p.o.\t1-0-0\n",
      "\n",
      "Assura Kranken- und Unfallversicherung\n",
      "Vers.-Nr. 00000914176\n",
      "\n",
      "1 Jahr gültig\n",
      "---------------\n",
      "94\n",
      "Procutol Shampoo\n",
      "S: 2-3x/Woche zum Duschen\n",
      "---------------\n",
      "95\n",
      "Prednison Galepharm (Tabl 20 mg)\n",
      "---------------\n",
      "96\n",
      "Burfen 600mg b.B. \n",
      "---------------\n",
      "97\n",
      "Gültig für 12 Monate\n",
      "Gilenya®\n",
      "Fingolimod.\n",
      "\n",
      "Eine Kapsel mit 0.5 mg einmal täglich oral\n",
      "\n",
      "für\n",
      "Herr\n",
      "Schumacher Roger\n",
      "Hirzenbachstrasse 32\n",
      "CH-8051, Zürich\n",
      "\n",
      "versichert bei\n",
      "CONCORDIA\n",
      "Vers.-Nr. 989.08.07.009.7 (Hauptgarant) \n",
      "---------------\n",
      "98\n",
      "Eprex (Inj Lös 30000 IE/0.75ml) (Protecs) Fertspr\n",
      "---------------\n",
      "99\n",
      "Rezept für 1 Jahr gültig\n"
     ]
    }
   ],
   "source": [
    "# Look at different medication formats:\n",
    "for idx, text in enumerate(df[\"text\"]):\n",
    "    print(5*\"---\")\n",
    "    print(idx)\n",
    "    print(text)"
   ]
  },
  {
   "cell_type": "code",
   "execution_count": 111,
   "metadata": {},
   "outputs": [],
   "source": [
    "with open(paths.DATA_PATH_PREPROCESSED/\"medication/task_instruction.txt\", \"r\") as f:\n",
    "    task_instruction = f.read()\n",
    "\n",
    "with open(paths.DATA_PATH_PREPROCESSED/\"medication/system_prompt.txt\", \"r\") as f:\n",
    "    system_prompt = f.read()\n",
    "\n",
    "with open(paths.DATA_PATH_PREPROCESSED/\"medication/examples.json\", \"r\") as file:\n",
    "    examples = json.load(file)                  \n",
    "format_fun = get_format_fun(\"few_shot_instruction\")"
   ]
  },
  {
   "cell_type": "code",
   "execution_count": 84,
   "metadata": {},
   "outputs": [],
   "source": [
    "# text_input = format_prompt(df[\"text\"], format_fun, system_prompt = system_prompt, task_instruction=task_instruction, examples = examples)"
   ]
  },
  {
   "cell_type": "code",
   "execution_count": 70,
   "metadata": {},
   "outputs": [
    {
     "ename": "TypeError",
     "evalue": "outlines_prompting_to() got an unexpected keyword argument 'schema'",
     "output_type": "error",
     "traceback": [
      "\u001b[0;31m---------------------------------------------------------------------------\u001b[0m",
      "\u001b[0;31mTypeError\u001b[0m                                 Traceback (most recent call last)",
      "Cell \u001b[0;32mIn[70], line 1\u001b[0m\n\u001b[0;32m----> 1\u001b[0m results, successful \u001b[38;5;241m=\u001b[39m \u001b[43moutlines_prompting_to\u001b[49m\u001b[43m(\u001b[49m\u001b[43mtext\u001b[49m\u001b[43m \u001b[49m\u001b[38;5;241;43m=\u001b[39;49m\u001b[43m \u001b[49m\u001b[43mtext_input\u001b[49m\u001b[43m,\u001b[49m\u001b[43m \u001b[49m\u001b[43mgenerator\u001b[49m\u001b[43m \u001b[49m\u001b[38;5;241;43m=\u001b[39;49m\u001b[43m \u001b[49m\u001b[43mgenerator\u001b[49m\u001b[43m,\u001b[49m\u001b[43m \u001b[49m\u001b[43mschema\u001b[49m\u001b[43m \u001b[49m\u001b[38;5;241;43m=\u001b[39;49m\u001b[43m \u001b[49m\u001b[43mschema\u001b[49m\u001b[43m,\u001b[49m\u001b[43m \u001b[49m\u001b[43mfilename\u001b[49m\u001b[38;5;241;43m=\u001b[39;49m\u001b[38;5;124;43m\"\u001b[39;49m\u001b[38;5;124;43mmedication-few-shot-instruction\u001b[39;49m\u001b[38;5;124;43m\"\u001b[39;49m\u001b[43m,\u001b[49m\u001b[43m \u001b[49m\u001b[43mbatch_size\u001b[49m\u001b[43m \u001b[49m\u001b[38;5;241;43m=\u001b[39;49m\u001b[43m \u001b[49m\u001b[38;5;241;43m1\u001b[39;49m\u001b[43m,\u001b[49m\u001b[43m \u001b[49m\u001b[43mwait_time\u001b[49m\u001b[43m \u001b[49m\u001b[38;5;241;43m=\u001b[39;49m\u001b[43m \u001b[49m\u001b[38;5;241;43m250\u001b[39;49m\u001b[43m)\u001b[49m \n",
      "\u001b[0;31mTypeError\u001b[0m: outlines_prompting_to() got an unexpected keyword argument 'schema'"
     ]
    }
   ],
   "source": [
    "# results, successful = outlines_prompting_to(text = text_input, generator = generator, schema = schema, filename=\"medication-few-shot-instruction\", batch_size = 1, wait_time = 250) "
   ]
  },
  {
   "cell_type": "code",
   "execution_count": 112,
   "metadata": {},
   "outputs": [],
   "source": [
    "test = df[\"text\"][10:13]\n",
    "test_input = format_prompt(test, format_fun, system_prompt = system_prompt, task_instruction=task_instruction, examples = examples)"
   ]
  },
  {
   "cell_type": "code",
   "execution_count": 115,
   "metadata": {},
   "outputs": [
    {
     "name": "stderr",
     "output_type": "stream",
     "text": [
      "Prompting:   0%|          | 0/3 [00:00<?, ?it/s]\n",
      "Stream input:   0%|          | 0/1 [00:00<?, ?it/s]\u001b[A\n",
      "Stream input: 100%|██████████| 1/1 [00:05<00:00,  5.20s/it]\u001b[A\n",
      "Prompting:  33%|███▎      | 1/3 [00:13<00:26, 13.28s/it]   \u001b[A"
     ]
    },
    {
     "name": "stdout",
     "output_type": "stream",
     "text": [
      "Saved intermediate results to /cluster/dataset/midatams/inf-extr/results/intermediate/intermediate_results1710358093.1784801.pt\n"
     ]
    },
    {
     "name": "stderr",
     "output_type": "stream",
     "text": [
      "\n",
      "Stream input:   0%|          | 0/1 [00:00<?, ?it/s]\u001b[A\n",
      "Stream input: 100%|██████████| 1/1 [00:05<00:00,  5.22s/it]\u001b[A\n",
      "Prompting:  67%|██████▋   | 2/3 [00:25<00:12, 12.78s/it]   \u001b[A"
     ]
    },
    {
     "name": "stdout",
     "output_type": "stream",
     "text": [
      "Saved intermediate results to /cluster/dataset/midatams/inf-extr/results/intermediate/intermediate_results1710358093.1784801.pt\n"
     ]
    },
    {
     "name": "stderr",
     "output_type": "stream",
     "text": [
      "\n",
      "Stream input:   0%|          | 0/1 [00:00<?, ?it/s]\u001b[A\n",
      "Stream input: 100%|██████████| 1/1 [00:05<00:00,  5.24s/it]\u001b[A\n",
      "                                                           \u001b[A"
     ]
    },
    {
     "name": "stdout",
     "output_type": "stream",
     "text": [
      "Saved intermediate results to /cluster/dataset/midatams/inf-extr/results/intermediate/intermediate_results1710358093.1784801.pt\n"
     ]
    },
    {
     "name": "stderr",
     "output_type": "stream",
     "text": [
      "\r"
     ]
    }
   ],
   "source": [
    "result, successful = outlines_medication_prompting(text= test_input, generator = generator, max_tokens = 15, batch_size = 1)"
   ]
  },
  {
   "cell_type": "code",
   "execution_count": 121,
   "metadata": {},
   "outputs": [],
   "source": [
    "def medication_prompting_to(text: list[str], generator: SequenceGenerator, default_model:Type[BaseModel], batch_size: int = 1, wait_time:int = 120)-> list[Union[str, BaseModel]]:\n",
    "    \"\"\"\n",
    "    Generates a list of sequences using the given outlines generator and sampler. Function has built in time-out function, as the generation is prone\n",
    "    to hang with a complicated schema.\n",
    "\n",
    "    Args:\n",
    "        text (list[str]): list of strings to be used as prompts\n",
    "        generator (outlines.SequenceGenerator): outlines generator\n",
    "        default_model (Type[BaseModel]): default pydantic model to return if the generation times out\n",
    "        batch_size (int, optional): batch size. Defaults to 1.\n",
    "        wait_time (int, optional): wait time. Defaults to 120.\n",
    "\n",
    "    Returns:\n",
    "        list[Union[str, pydantic.BaseModel]]: list of generated sequences\n",
    "    \"\"\"\n",
    "\n",
    "    dataloader = DataLoader(text, batch_size = batch_size, shuffle = False)\n",
    "\n",
    "    results = []\n",
    "    successful = []\n",
    "\n",
    "    # Save intermediate results\n",
    "    filename = \"intermediate_results\" + str(time.time()) + \".pt\"\n",
    "\n",
    "    def timeout_handler(signum, frame):\n",
    "        raise TimeoutError(\"Timed out\")\n",
    "    \n",
    "    signal.signal(signal.SIGALRM, timeout_handler)\n",
    "\n",
    "    bar_prompt = tqdm(dataloader, desc=\"Prompting\", leave=False)\n",
    "\n",
    "    for batch in bar_prompt:\n",
    "        try:\n",
    "            signal.alarm(wait_time)  # Set the timeout\n",
    "            result = generator(batch)\n",
    "            if batch_size == 1:\n",
    "                result = \n",
    "            results.extend(result)\n",
    "            successful.extend([True] * len(batch))\n",
    "        \n",
    "        except TimeoutError:\n",
    "            print(\"Timed out at observation number\", len(results))\n",
    "            successful.extend([False] * len(batch))\n",
    "            results.extend([default_model for _ in range(len(batch))])\n",
    "\n",
    "        # except TimeoutError:\n",
    "        #     print(\"Timed out, trying stream_input\")\n",
    "        #     bar_stream = tqdm(batch, desc=\"Stream input\", leave=False)\n",
    "        #     for text in bar_stream:\n",
    "        #         _res = stream_input(text, generator)\n",
    "        #         try: \n",
    "        #             _res = schema.model_validate_json(_res)\n",
    "        #             successful.append(True)\n",
    "        #         except:\n",
    "        #             successful.append(False)\n",
    "        #         results.append(_res)\n",
    "        finally:\n",
    "            signal.alarm(0)\n",
    "        print(results)\n",
    "        print(type(results))\n",
    "        print(len(results))\n",
    "        # if batch_size == 1:\n",
    "        #     # Using this because generator returns tuples with the first item being the keys of the highest pedantic schema, the second being the value\n",
    "        #     results_unpacked = [res[1] for res in results]\n",
    "        # results_json = [res.json() for res in results_unpacked]\n",
    "        # results_json += [{\"successful\": s} for s in successful]\n",
    "        # os.makedirs(paths.RESULTS_PATH/\"intermediate\", exist_ok=True)\n",
    "        # torch.save(results_json, paths.RESULTS_PATH/\"intermediate\"/filename)\n",
    "        # print(f\"Saved intermediate results to {paths.RESULTS_PATH/'intermediate'}/{filename}\")\n",
    "    return results, successful"
   ]
  },
  {
   "cell_type": "code",
   "execution_count": 125,
   "metadata": {},
   "outputs": [
    {
     "name": "stderr",
     "output_type": "stream",
     "text": [
      "                                                        "
     ]
    },
    {
     "name": "stdout",
     "output_type": "stream",
     "text": [
      "[MedicationList(medications=[Medication(name='Novalgin', unit=<MedicationUnit.mg: 'mg'>, amount=500.0, morning=1.0, noon=0.0, evening=0.0, night=0.0)]), MedicationList(medications=[Medication(name='Cetallerg', unit=<MedicationUnit.mg: 'mg'>, amount=10.0, morning=1.0, noon=0.0, evening=0.0, night=0.0)])]\n",
      "<class 'list'>\n",
      "2\n"
     ]
    },
    {
     "name": "stderr",
     "output_type": "stream",
     "text": [
      "\r"
     ]
    }
   ],
   "source": [
    "results2, successful2 = outlines_prompting_to(text = test_input, generator = generator, default_model = default_model, batch_size = 2, wait_time = 180) "
   ]
  },
  {
   "cell_type": "code",
   "execution_count": 124,
   "metadata": {},
   "outputs": [
    {
     "data": {
      "text/plain": [
       "[('medications',\n",
       "  [Medication(name='Novalgin', unit=<MedicationUnit.mg: 'mg'>, amount=500.0, morning=1.0, noon=0.0, evening=0.0, night=0.0)]),\n",
       " ('medications',\n",
       "  [Medication(name='Cetallerg', unit=<MedicationUnit.mg: 'mg'>, amount=10.0, morning=1.0, noon=0.0, evening=0.0, night=0.0)])]"
      ]
     },
     "execution_count": 124,
     "metadata": {},
     "output_type": "execute_result"
    }
   ],
   "source": [
    "results"
   ]
  },
  {
   "cell_type": "code",
   "execution_count": 126,
   "metadata": {},
   "outputs": [
    {
     "data": {
      "text/plain": [
       "[MedicationList(medications=[Medication(name='Novalgin', unit=<MedicationUnit.mg: 'mg'>, amount=500.0, morning=1.0, noon=0.0, evening=0.0, night=0.0)]),\n",
       " MedicationList(medications=[Medication(name='Cetallerg', unit=<MedicationUnit.mg: 'mg'>, amount=10.0, morning=1.0, noon=0.0, evening=0.0, night=0.0)])]"
      ]
     },
     "execution_count": 126,
     "metadata": {},
     "output_type": "execute_result"
    }
   ],
   "source": [
    "results2"
   ]
  },
  {
   "cell_type": "code",
   "execution_count": 153,
   "metadata": {},
   "outputs": [
    {
     "data": {
      "text/plain": [
       "src.utils.Medication"
      ]
     },
     "execution_count": 153,
     "metadata": {},
     "output_type": "execute_result"
    }
   ],
   "source": [
    "type(results[0][1][0])"
   ]
  },
  {
   "cell_type": "code",
   "execution_count": 145,
   "metadata": {},
   "outputs": [
    {
     "data": {
      "text/plain": [
       "MedicationList(medications=[Medication(name='Novalgin', unit=<MedicationUnit.mg: 'mg'>, amount=500.0, morning=1.0, noon=0.0, evening=0.0, night=0.0)])"
      ]
     },
     "execution_count": 145,
     "metadata": {},
     "output_type": "execute_result"
    }
   ],
   "source": [
    "# medication\n",
    "\n",
    "MedicationList(medications = results[0][1])"
   ]
  },
  {
   "cell_type": "code",
   "execution_count": 123,
   "metadata": {},
   "outputs": [
    {
     "data": {
      "text/plain": [
       "'{\"name\":\"unknown\",\"unit\":\"unknown\",\"amount\":-99.0,\"morning\":-99.0,\"noon\":-99.0,\"evening\":-99.0,\"night\":-99.0}'"
      ]
     },
     "execution_count": 123,
     "metadata": {},
     "output_type": "execute_result"
    }
   ],
   "source": [
    "default_model.json()"
   ]
  },
  {
   "cell_type": "code",
   "execution_count": 117,
   "metadata": {},
   "outputs": [
    {
     "data": {
      "text/plain": [
       "Medication(name='unknown', unit=<MedicationUnit.unknown: 'unknown'>, amount=-99.0, morning=-99.0, noon=-99.0, evening=-99.0, night=-99.0)"
      ]
     },
     "execution_count": 117,
     "metadata": {},
     "output_type": "execute_result"
    }
   ],
   "source": [
    "default_schema"
   ]
  },
  {
   "cell_type": "code",
   "execution_count": 72,
   "metadata": {},
   "outputs": [
    {
     "data": {
      "text/plain": [
       "['{\"medications\":[{\"name\":\"unknown\",\"unit\":\"unknown\",\"amount\":-99.0,\"morning\":-99.0,\"noon\":-99.0,\"evening\":-99.0,\"night\":-99.0}]}',\n",
       " {'successful': False}]"
      ]
     },
     "execution_count": 72,
     "metadata": {},
     "output_type": "execute_result"
    }
   ],
   "source": [
    "torch.load(paths.RESULTS_PATH/\"intermediate/intermediate_results1710344797.0171728.pt\")"
   ]
  },
  {
   "cell_type": "code",
   "execution_count": 46,
   "metadata": {},
   "outputs": [],
   "source": [
    "filename = \"medication_test\"\n",
    "results_dump = [res.json() for res in results]\n",
    "torch.save(results_dump, paths.RESULTS_PATH/\"medication\"/f\"{filename}.pt\")"
   ]
  },
  {
   "cell_type": "code",
   "execution_count": 45,
   "metadata": {},
   "outputs": [
    {
     "data": {
      "text/plain": [
       "['{\"medications\":[{\"name\":\"Vi-De\",\"unit\":\"tropfen\",\"amount\":4500.0,\"morning\":0.0,\"noon\":0.0,\"evening\":0.0,\"night\":0.0}]}']"
      ]
     },
     "execution_count": 45,
     "metadata": {},
     "output_type": "execute_result"
    }
   ],
   "source": [
    "results_dump"
   ]
  },
  {
   "cell_type": "code",
   "execution_count": 63,
   "metadata": {},
   "outputs": [
    {
     "name": "stdout",
     "output_type": "stream",
     "text": [
      "[INST]<<SYS>>You are a helpful, respectful and honest assistant. Always answer as helpfully as possible, while being safe.\n",
      "Your answers should not include any harmful, unethical, racist, sexist, toxic, dangerous, or illegal content.\n",
      "Please ensure that your responses are socially unbiased and positive in nature.\n",
      "If a question does not makeany sense, or is not factually coherent, explain why instead of answering something not correct. \n",
      "If you don’t know the answer to a question, please don’t share false information.\n",
      "<</SYS>>\n",
      "\n",
      "### Instruction:\n",
      "Your task is to extract specific information from medication descriptions. \n",
      "The input for this task is a list of medication descriptions, a report or doctors recipe, and the output should be a complete list of dictionaries (one per medication) with the following keys:\n",
      "- name (str): The name of the medication.\n",
      "- dose (float): The dose of the medication.\n",
      "- unit (str): The unit of the dose (mg, ug, g, stk).\n",
      "- morning (float): The dose to be taken in the morning.\n",
      "- noon (float): The dose to be taken at noon.\n",
      "- evening (float): The dose to be taken in the evening.\n",
      "- night (float): The dose to be taken at night.\n",
      "\n",
      "The output format should look like this:\n",
      "[\n",
      "    {name: \"MedicationName1\", dose: MedicationDose1, unit: \"MedicationDoseUnit1\", morning: MorningDose1, noon: NoonDose1, evening: EveningDose1, night: NightDose1},\n",
      "    {name: \"MedicationName2\", dose: MedicationDose2, unit: \"MedicationDoseUnit2\", morning: MorningDose2, noon: NoonDose2, evening: EveningDose2, night: NightDose2},\n",
      "    ...\n",
      "]\n",
      "\n",
      "- The MedicationName can consist of multiple words with whitespace and should be returned as a single string. If you don't find any mentions of medications or drugs, it should be represented as \"unknown\".\n",
      "- The MedicationDose should be in one of the following formats: mg, ug, g, stk, ml, tropfen, unknown. If the MedicationDose is not detected, it should be represented as \"unknown\".\n",
      "- The MedicationDoseUnit is a float value. If the MedicationDoseUnit is not detected, it should be represented as -99.\n",
      "- The intake doses over the day can be given in several ways:\n",
      "    - If the amount of doses is given in the form of float-float-float, it corresponds to MorningDose-NoonDose-EveningDose with NightDose being 0.\n",
      "    - If the amount of doses is given in the form float-float-float-float, it corresponds to MorningDose-NoonDose-EveningDose-NightDose.\n",
      "    - If the amount of doses is given in the form of a set number of intakes per day, you can put all doses for the MorningDose.\n",
      "    - If an intake schema like the ones above is not detected, all doses should be represented as -99.\n",
      "\n",
      "Here is an example to help you understand the task:\n",
      "Input:\n",
      "1 OP Cipralex 20 mg 0.5-0-0 für 4 Tag\n",
      " 3 OP Propranolol 35g 3-0-1-0\n",
      "Output:\n",
      "[{name: \"Cipralex\", unit: \"mg\", amount: 20, morning: 0.5, noon: 0, evening: 0, night: 0}, {name: \"Propranolol\", unit: \"g\", amount: 35, morning: 3, noon: 0, evening: 1, night: 1}]\n",
      "Input:\n",
      "Blutdruckmessgerät über einen Zeitraum von 3 Wochen\n",
      "Output:\n",
      "[{name: \"Blutdruckmessgerät\", unit: \"unknown\", amount: 1, morning: -99, noon: -99, evening: -99, night: -99}]\n",
      "Input:\n",
      "Rezept für Propranolol, einmal täglich, 0.5mg\n",
      "Output:\n",
      "[{name: \"Propranolol\", unit: \"mg\", amount: 0.5, morning: 1, noon: 0, evening: 0, night: 0}]\n",
      "\n",
      "Please provide your answer for the following Input.\n",
      "\n",
      "### Input:\n",
      "1 OP Propanolol 20 mg 1-0-1\n",
      "2 OP Medrol 32 mg 1-0-0\n",
      "1 OP Calcimagon D3 forte 1-0-0\n",
      "\n",
      "### Output:\n",
      "[/INST]\n"
     ]
    }
   ],
   "source": [
    "test = df[\"text\"][1]\n",
    "test_few_shot = format_prompt([test], few_shot_instruction, system_prompt = system_prompt, task_instruction=task_instruction, examples = examples)\n",
    "print(test_few_shot[0])"
   ]
  },
  {
   "cell_type": "code",
   "execution_count": 64,
   "metadata": {
    "scrolled": true
   },
   "outputs": [
    {
     "name": "stdout",
     "output_type": "stream",
     "text": [
      "1 OP Propanolol 20 mg 1-0-1\n",
      "2 OP Medrol 32 mg 1-0-0\n",
      "1 OP Calcimagon D3 forte 1-0-0\n",
      "{\n",
      "\"medications\": [\n",
      "{\n",
      "\"name\": \"Propanolol\",\n",
      "\"unit\": \"mg\",\n",
      "\"amount\": 20,\n",
      "\"morning\": 1,\n",
      "\"noon\": 0,\n",
      "\"evening\": 1,\n",
      "\"night\": 0\n",
      "},\n",
      "{\n",
      "\"name\": \"Medrol\",\n",
      "\"unit\": \"mg\",\n",
      "\"amount\": 32,\n",
      "\"morning\": 1,\n",
      "\"noon\": 0,\n",
      "\"evening\": 0,\n",
      "\"night\": 0\n",
      "},\n",
      "{\n",
      "\"name\": \"Calcimagon D3 forte\",\n",
      "\"unit\": \"mg\",\n",
      "\"amount\": 1,\n",
      "\"morning\": 0,\n",
      "\"noon\": 0,\n",
      "\"evening\": 0,\n",
      "\"night\": 0\n",
      "}\n",
      "]\n",
      "}"
     ]
    }
   ],
   "source": [
    "print(test)\n",
    "for token in generator.stream(test_few_shot):\n",
    "    print(token, end =\"\")"
   ]
  },
  {
   "cell_type": "code",
   "execution_count": 65,
   "metadata": {},
   "outputs": [
    {
     "name": "stdout",
     "output_type": "stream",
     "text": [
      "1 OP Propanolol 20 mg 1-0-1\n",
      "2 OP Medrol 32 mg 1-0-0\n",
      "1 OP Calcimagon D3 forte 1-0-0\n",
      "{\n",
      "\"medications\": [\n",
      "{\n",
      "\"name\": \"Propanolol\",\n",
      "\"unit\": \"mg\",\n",
      "\"amount\": 20,\n",
      "\"morning\": 1,\n",
      "\"noon\": 1,\n",
      "\"evening\": 1,\n",
      "\"night\": 1\n",
      "},\n",
      "{\n",
      "\"name\": \"Medrol\",\n",
      "\"unit\": \"mg\",\n",
      "\"amount\": 32,\n",
      "\"morning\": 1,\n",
      "\"noon\": 1,\n",
      "\"evening\": 1,\n",
      "\"night\": 1\n",
      "},\n",
      "{\n",
      "\"name\": \"Calcimagon D3 forte\",\n",
      "\"unit\": \"ml\",\n",
      "\"amount\": 1,\n",
      "\"morning\": 1,\n",
      "\"noon\": 1,\n",
      "\"evening\": 1,\n",
      "\"night\": 1\n",
      "}\n",
      "]\n",
      "}"
     ]
    }
   ],
   "source": [
    "test_instruct= format_prompt([test], zero_shot_instruction, system_prompt = system_prompt, task_instruction=task_instruction, examples = examples)\n",
    "print(test)\n",
    "for token in generator.stream(test_instruct):\n",
    "    print(token, end =\"\")"
   ]
  },
  {
   "cell_type": "code",
   "execution_count": 66,
   "metadata": {},
   "outputs": [
    {
     "name": "stdout",
     "output_type": "stream",
     "text": [
      "Gültig für 12 Monate\n",
      "Gilenya\n",
      "Fingolimod.\n",
      "\n",
      "Eine Kapsel mit 0,5 mg einmal täglich oral\n",
      "\n",
      "für Herr Holenstein Daniel\n",
      "Geboren 14.01.1965\n",
      "Weltiweg 4\n",
      "CH-5330 Bad Zurzach\n",
      "\n",
      "Krankenkasse: Die Eidgenössische Gesundheitskasse\n",
      "Vers.-nummer: 2194915\n",
      "{\n",
      "\"medications\" : [\n",
      "{\n",
      "\"name\" : \"Gilenya\",\n",
      "\"unit\" : \"mg\",\n",
      "\"amount\" : 0.5,\n",
      "\"morning\" : 1,\n",
      "\"noon\" : 0,\n",
      "\"evening\" : 0,\n",
      "\"night\" : 0\n",
      "},\n",
      "{\n",
      "\"name\" : \"Fingolimod\",\n",
      "\"unit\" : \"mg\",\n",
      "\"amount\" : 0.5,\n",
      "\"morning\" : 1,\n",
      "\"noon\" : 0,\n",
      "\"evening\" : 0,\n",
      "\"night\" : 0\n",
      "}\n",
      "]\n",
      "}"
     ]
    }
   ],
   "source": [
    "test1 = df[\"text\"][38]\n",
    "test1_few_shot = format_prompt([test1], few_shot_instruction, system_prompt = system_prompt, task_instruction=task_instruction, examples = examples)\n",
    "print(test1)\n",
    "for token in generator.stream(test1_few_shot):\n",
    "    print(token, end =\"\")"
   ]
  },
  {
   "cell_type": "code",
   "execution_count": 67,
   "metadata": {},
   "outputs": [
    {
     "name": "stdout",
     "output_type": "stream",
     "text": [
      "Gültig für 12 Monate\n",
      "Gilenya\n",
      "Fingolimod.\n",
      "\n",
      "Eine Kapsel mit 0,5 mg einmal täglich oral\n",
      "\n",
      "für Herr Holenstein Daniel\n",
      "Geboren 14.01.1965\n",
      "Weltiweg 4\n",
      "CH-5330 Bad Zurzach\n",
      "\n",
      "Krankenkasse: Die Eidgenössische Gesundheitskasse\n",
      "Vers.-nummer: 2194915\n",
      "{\n",
      "\"medications\" : [\n",
      "{\n",
      "\"name\" : \"Gilenya\",\n",
      "\"unit\" : \"tropfen\",\n",
      "\"amount\" : 0.5\n",
      ",\"morning\" : 0,\n",
      "\"noon\" : 0,\n",
      "\"evening\" : 0,\n",
      "\"night\" : 0\n",
      "}, \n",
      "{\n",
      "\"name\" : \"Fingolimod.\",\n",
      "\"unit\" : \"tropfen\",\n",
      "\"amount\" : 0.5\n",
      ",\"morning\" : 0,\n",
      "\"noon\" : 0,\n",
      "\"evening\" : 0,\n",
      "\"night\" : 0\n",
      "}\n",
      "]\n",
      "}"
     ]
    }
   ],
   "source": [
    "test1_instruct = format_prompt([test1], zero_shot_instruction, system_prompt = system_prompt, task_instruction=task_instruction, examples = examples)\n",
    "print(test1)\n",
    "for token in generator.stream(test1_instruct):\n",
    "    print(token, end =\"\")"
   ]
  },
  {
   "cell_type": "code",
   "execution_count": 68,
   "metadata": {},
   "outputs": [
    {
     "name": "stdout",
     "output_type": "stream",
     "text": [
      "Fussorthese\n",
      "{ \"medications\": [\n",
      "{ \"name\": \"Fussorthese\", \"unit\": \"unknown\", \"amount\": 1, \"morning\": -99, \"noon\": -99, \"evening\": -99, \"night\": -99 }\n",
      "] }"
     ]
    }
   ],
   "source": [
    "test3 = df[\"text\"][23]\n",
    "test3_few_shot = format_prompt([test3], few_shot_instruction, system_prompt = system_prompt, task_instruction=task_instruction, examples = examples)\n",
    "print(test3)\n",
    "for token in generator.stream(test3_few_shot):\n",
    "    print(token, end =\"\")"
   ]
  },
  {
   "cell_type": "code",
   "execution_count": 69,
   "metadata": {},
   "outputs": [
    {
     "name": "stdout",
     "output_type": "stream",
     "text": [
      "Fussorthese\n",
      "{\"medications\": [\n",
      "{\"name\": \"Fussorthese\", \"unit\": \"unknown\", \"amount\": 1, \"morning\": 1, \"noon\": 1, \"evening\": 1, \"night\": 1}\n",
      "]}"
     ]
    }
   ],
   "source": [
    "test3_instruct = format_prompt([test3], zero_shot_instruction, system_prompt = system_prompt, task_instruction=task_instruction, examples = examples)\n",
    "print(test3)\n",
    "for token in generator.stream(test3_instruct):\n",
    "    print(token, end =\"\")"
   ]
  },
  {
   "cell_type": "code",
   "execution_count": 70,
   "metadata": {},
   "outputs": [],
   "source": [
    "result3 = generator(test3)"
   ]
  },
  {
   "cell_type": "code",
   "execution_count": 71,
   "metadata": {},
   "outputs": [
    {
     "data": {
      "text/plain": [
       "MedicationList(medications=[Medication(name='Diclofenac', unit=<MedicationUnit.tropfen: 'tropfen'>, amount=50.0, morning=1.0, noon=1.0, evening=1.0, night=1.0)])"
      ]
     },
     "execution_count": 71,
     "metadata": {},
     "output_type": "execute_result"
    }
   ],
   "source": [
    "result3"
   ]
  },
  {
   "cell_type": "markdown",
   "metadata": {},
   "source": [
    "Problems:\n",
    "- Some inputs are structured with one line per medication e.g. df[\"text\"][0], others are medical recipes like df[\"text\"][38]. The model struggles a bit sometimes with inputs that are not as well structured (but still really good)\n",
    "- The problem above seems to be solvable by providing appropriate examples but I don't know if I get all the different input formats.\n",
    "- Sometimes medications are misspelled (like Propanolol) and model extracts it the way it was (which is the desired behaviour I think, because I don't have the medical expertise to correct it). Unsure what the best way to correct it is.\n",
    "- A lot of times the schema for intake changes, so after 2 weeks maybe it is less or more. Additionally extracting this in detail could be very hard and might negatively affect the performance of the other outputs (which seem more important to me, but I am no doctor). This is also only the case for a few of the examples as far as I can tell.\n",
    "- If the text just mentions \"once daily\" or similar I told the model to map it all in the morning (so once daily is 1-0-0) but not sure if that would be desired behaviour.\n",
    "- How would I evaluate the performance (spelling mistakes, forget medicine etc.). I could evaluate a test set myself (100 examples) but I can't guarantee that the criteria I set would be reasonable from a medical point of view."
   ]
  }
 ],
 "metadata": {
  "kernelspec": {
   "display_name": "Python 3 (ipykernel)",
   "language": "python",
   "name": "python3"
  },
  "language_info": {
   "codemirror_mode": {
    "name": "ipython",
    "version": 3
   },
   "file_extension": ".py",
   "mimetype": "text/x-python",
   "name": "python",
   "nbconvert_exporter": "python",
   "pygments_lexer": "ipython3",
   "version": "3.11.4"
  }
 },
 "nbformat": 4,
 "nbformat_minor": 4
}

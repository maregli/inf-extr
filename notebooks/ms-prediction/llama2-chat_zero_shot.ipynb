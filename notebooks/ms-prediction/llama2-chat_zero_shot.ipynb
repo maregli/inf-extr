{
 "cells": [
  {
   "cell_type": "code",
   "execution_count": 63,
   "metadata": {},
   "outputs": [],
   "source": [
    "\n",
    "import torch\n",
    "from torch.utils.data import DataLoader\n",
    "\n",
    "import os\n",
    "import sys\n",
    "sys.path.append(os.getcwd()+\"/../..\")\n",
    "from src import paths\n",
    "\n",
    "from src.utils import (load_model_and_tokenizer, \n",
    "                       load_ms_data,  \n",
    "                       check_gpu_memory, \n",
    ")\n",
    "\n",
    "import argparse\n",
    "\n",
    "from transformers import DataCollatorWithPadding, AutoModelForCausalLM, AutoTokenizer, GenerationConfig, AutoModel\n",
    "\n",
    "from datasets import concatenate_datasets, Dataset\n",
    "\n",
    "from tqdm import tqdm\n",
    "\n",
    "from typing import Callable\n",
    "\n",
    "import json\n",
    "\n",
    "import outlines"
   ]
  },
  {
   "cell_type": "code",
   "execution_count": 5,
   "metadata": {},
   "outputs": [],
   "source": [
    "import outlines.models as models"
   ]
  },
  {
   "cell_type": "code",
   "execution_count": 6,
   "metadata": {},
   "outputs": [
    {
     "name": "stdout",
     "output_type": "stream",
     "text": [
      "GPU 0: NVIDIA GeForce RTX 3090\n",
      "   Total Memory: 23.69 GB\n",
      "   Free Memory: 23.43 GB\n",
      "   Allocated Memory : 0.00 GB\n",
      "   Reserved Memory : 0.00 GB\n"
     ]
    }
   ],
   "source": [
    "check_gpu_memory()"
   ]
  },
  {
   "cell_type": "code",
   "execution_count": 9,
   "metadata": {},
   "outputs": [],
   "source": [
    "device = torch.device(\"cuda\" if torch.cuda.is_available() else \"cpu\")\n"
   ]
  },
  {
   "cell_type": "markdown",
   "metadata": {
    "jp-MarkdownHeadingCollapsed": true
   },
   "source": [
    "# LLAMA MedTuned 13B"
   ]
  },
  {
   "cell_type": "code",
   "execution_count": 2,
   "metadata": {},
   "outputs": [
    {
     "data": {
      "application/vnd.jupyter.widget-view+json": {
       "model_id": "331c79752e9d4599beedab2146ec4019",
       "version_major": 2,
       "version_minor": 0
      },
      "text/plain": [
       "Loading checkpoint shards:   0%|          | 0/3 [00:00<?, ?it/s]"
      ]
     },
     "metadata": {},
     "output_type": "display_data"
    },
    {
     "name": "stdout",
     "output_type": "stream",
     "text": [
      "Tokenizer pad token ID: 32000\n",
      "Tokenizer special tokens: {'bos_token': '<s>', 'eos_token': '</s>', 'unk_token': '<unk>', 'pad_token': '<pad>'}\n",
      "Model pad token ID: 32000\n",
      "GPU 0: Tesla V100-SXM2-32GB\n",
      "   Total Memory: 31.74 GB\n",
      "   Free Memory: 23.41 GB\n",
      "   Allocated Memory : 7.42 GB\n",
      "   Reserved Memory : 7.59 GB\n"
     ]
    }
   ],
   "source": [
    "MODEL_NAME = \"Llama2-MedTuned-13b\"\n",
    "model, tokenizer = load_model_and_tokenizer(model_name = MODEL_NAME,\n",
    "                                            task_type = \"clm\",\n",
    "                                            quantization = \"4bit\",\n",
    "                                           # attn_implementation = \"flash_attention_2\"\n",
    "                                           )\n",
    "model.config.use_cache = True\n",
    "check_gpu_memory()"
   ]
  },
  {
   "cell_type": "code",
   "execution_count": 10,
   "metadata": {},
   "outputs": [],
   "source": [
    "labels = [\"primary progressive multiple sclerosis\", \"secondary progressive multiple sclerosis\",\n",
    "          \"relapsing remitting multiple sclerosis\",\"not enough info\"]"
   ]
  },
  {
   "cell_type": "code",
   "execution_count": 13,
   "metadata": {},
   "outputs": [
    {
     "name": "stderr",
     "output_type": "stream",
     "text": [
      "100%|██████████| 1/1 [00:00<00:00,  6.87it/s]\n"
     ]
    }
   ],
   "source": [
    "encoded_labels = get_hidden_state([\" \"], model, tokenizer)"
   ]
  },
  {
   "cell_type": "code",
   "execution_count": 3,
   "metadata": {},
   "outputs": [],
   "source": [
    "# Load data\n",
    "df_line = load_ms_data(\"line\")\n",
    "df_all = load_ms_data(\"all\")\n",
    "df_first_last = load_ms_data(\"all_first_line_last\")"
   ]
  },
  {
   "cell_type": "code",
   "execution_count": 7,
   "metadata": {},
   "outputs": [],
   "source": [
    "# Trying to make output more consistent by stopping on MS, https://github.com/huggingface/transformers/issues/26959\n",
    "class EosListStoppingCriteria(StoppingCriteria):\n",
    "    def __init__(self, eos_sequence = [835, 2799, 4080, 29901]):\n",
    "        self.eos_sequence = eos_sequence\n",
    "\n",
    "    def __call__(self, input_ids: torch.LongTensor, scores: torch.FloatTensor, **kwargs) -> bool:\n",
    "        last_ids = input_ids[:,-len(self.eos_sequence):].tolist()\n",
    "        return self.eos_sequence in last_ids\n",
    "ms_stop = EosListStoppingCriteria(tokenizer(\"multiple sclerosis\", add_special_tokens = False)[\"input_ids\"])"
   ]
  },
  {
   "cell_type": "code",
   "execution_count": 5,
   "metadata": {},
   "outputs": [
    {
     "ename": "NameError",
     "evalue": "name 'tokenizer' is not defined",
     "output_type": "error",
     "traceback": [
      "\u001b[0;31m---------------------------------------------------------------------------\u001b[0m",
      "\u001b[0;31mNameError\u001b[0m                                 Traceback (most recent call last)",
      "Cell \u001b[0;32mIn[5], line 1\u001b[0m\n\u001b[0;32m----> 1\u001b[0m generation_config \u001b[38;5;241m=\u001b[39m GenerationConfig(bos_token_id \u001b[38;5;241m=\u001b[39m \u001b[43mtokenizer\u001b[49m\u001b[38;5;241m.\u001b[39mbos_token_id,\n\u001b[1;32m      2\u001b[0m                                      eos_token_id \u001b[38;5;241m=\u001b[39m tokenizer\u001b[38;5;241m.\u001b[39meos_token_id,\n\u001b[1;32m      3\u001b[0m                                      pad_token_id \u001b[38;5;241m=\u001b[39m tokenizer\u001b[38;5;241m.\u001b[39mpad_token_id,\n\u001b[1;32m      4\u001b[0m                                      use_cache \u001b[38;5;241m=\u001b[39m \u001b[38;5;28;01mTrue\u001b[39;00m,\n\u001b[1;32m      5\u001b[0m                                      max_new_tokens \u001b[38;5;241m=\u001b[39m \u001b[38;5;241m20\u001b[39m,\n\u001b[1;32m      6\u001b[0m                                      temperature\u001b[38;5;241m=\u001b[39m\u001b[38;5;241m1\u001b[39m,\n\u001b[1;32m      7\u001b[0m                                      top_p\u001b[38;5;241m=\u001b[39m\u001b[38;5;241m1\u001b[39m,\n\u001b[1;32m      8\u001b[0m                                      do_sample\u001b[38;5;241m=\u001b[39m\u001b[38;5;28;01mFalse\u001b[39;00m,\n\u001b[1;32m      9\u001b[0m                                      output_hidden_states \u001b[38;5;241m=\u001b[39m \u001b[38;5;28;01mFalse\u001b[39;00m,\n\u001b[1;32m     10\u001b[0m                                      return_dict_in_generate \u001b[38;5;241m=\u001b[39m \u001b[38;5;28;01mTrue\u001b[39;00m,\n\u001b[1;32m     11\u001b[0m                                     )\n\u001b[1;32m     13\u001b[0m \u001b[38;5;28;01mdef\u001b[39;00m \u001b[38;5;21msingle_round_inference\u001b[39m(reports:\u001b[38;5;28mlist\u001b[39m[\u001b[38;5;28mstr\u001b[39m], \n\u001b[1;32m     14\u001b[0m                            model:AutoModelForCausalLM, \n\u001b[1;32m     15\u001b[0m                            tokenizer:AutoTokenizer, \n\u001b[0;32m   (...)\u001b[0m\n\u001b[1;32m     20\u001b[0m                            batch_size:\u001b[38;5;28mint\u001b[39m\u001b[38;5;241m=\u001b[39m\u001b[38;5;241m1\u001b[39m,\n\u001b[1;32m     21\u001b[0m                            output_hidden_states:\u001b[38;5;28mbool\u001b[39m \u001b[38;5;241m=\u001b[39m \u001b[38;5;28;01mTrue\u001b[39;00m)\u001b[38;5;241m-\u001b[39m\u001b[38;5;241m>\u001b[39m\u001b[38;5;28mdict\u001b[39m:\n\u001b[1;32m     23\u001b[0m \u001b[38;5;250m    \u001b[39m\u001b[38;5;124;03m\"\"\" Single round inference for the MS extraction task\u001b[39;00m\n\u001b[1;32m     24\u001b[0m \u001b[38;5;124;03m    \u001b[39;00m\n\u001b[1;32m     25\u001b[0m \u001b[38;5;124;03m    Args:\u001b[39;00m\n\u001b[0;32m   (...)\u001b[0m\n\u001b[1;32m     38\u001b[0m \u001b[38;5;124;03m            \u001b[39;00m\n\u001b[1;32m     39\u001b[0m \u001b[38;5;124;03m    \"\"\"\u001b[39;00m\n",
      "\u001b[0;31mNameError\u001b[0m: name 'tokenizer' is not defined"
     ]
    }
   ],
   "source": [
    "generation_config = GenerationConfig(bos_token_id = tokenizer.bos_token_id,\n",
    "                                     eos_token_id = tokenizer.eos_token_id,\n",
    "                                     pad_token_id = tokenizer.pad_token_id,\n",
    "                                     use_cache = True,\n",
    "                                     max_new_tokens = 20,\n",
    "                                     temperature=1,\n",
    "                                     top_p=1,\n",
    "                                     do_sample=False,\n",
    "                                     output_hidden_states = False,\n",
    "                                     return_dict_in_generate = True,\n",
    "                                    )\n",
    "\n",
    "def single_round_inference(reports:list[str], \n",
    "                           model:AutoModelForCausalLM, \n",
    "                           tokenizer:AutoTokenizer, \n",
    "                           format_fun:Callable[[str],str], \n",
    "                           generation_config:GenerationConfig = None,\n",
    "                           prefix:str = \"[/INST]\",\n",
    "                           device:torch.device = torch.device(\"cpu\"),\n",
    "                           batch_size:int=1,\n",
    "                           output_hidden_states:bool = True)->dict:\n",
    "    \n",
    "    \"\"\" Single round inference for the MS extraction task\n",
    "    \n",
    "    Args:\n",
    "        reports (list[str]): list of medical reports\n",
    "        model (AutoModelForCausalLM): model\n",
    "        tokenizer (AutoTokenizer): tokenizer\n",
    "        format_fun (Callable[[str],str]): function to convert input text to desired prompt format\n",
    "        generation_config (GenerationConfig): generation config. Defaults to None. If None, default config is used.\n",
    "        prefix (str): prefix that separates input from output. Defaults to \"[/INST]\".\n",
    "        device (torch.device): device. Defaults to torch.device(\"cpu\").\n",
    "        batch_size (int): batch size. Defaults to 1.\n",
    "        output_hidden_states (bool); whether hidden states should be calculated for model answers. Defaults to True\n",
    "        \n",
    "    Returns:\n",
    "        dict: dictionary with keys report, prediction, last_hidden_states, input_lengths, whole_prompt\n",
    "            \n",
    "    \"\"\"\n",
    "    print(\"Starting Inference\")\n",
    "    tokens = [tokenizer(format_fun(t), add_special_tokens = False, truncation = True) for t in reports]\n",
    "    \n",
    "    collate_fn = DataCollatorWithPadding(tokenizer, padding=True)\n",
    "\n",
    "    dataloader = DataLoader(dataset=tokens, collate_fn=collate_fn, batch_size=batch_size, shuffle = False) \n",
    "\n",
    "    model.eval()\n",
    "\n",
    "    results = []\n",
    "    whole_prompt = []\n",
    "    last_hidden_states = []\n",
    "    input_lengths = [len(t[\"input_ids\"]) for t in tokens]\n",
    "\n",
    "    for idx, batch in enumerate(tqdm(dataloader)):\n",
    "        batch.to(device)\n",
    "        with torch.no_grad():\n",
    "            outputs = model.generate(\n",
    "                **batch,\n",
    "                generation_config=generation_config,\n",
    "            )\n",
    "\n",
    "        # Check GPU memory every 5 batches\n",
    "        if idx % 5 == 0:\n",
    "            check_gpu_memory()\n",
    "\n",
    "\n",
    "        return_tokens = outputs[\"sequences\"].to(\"cpu\")\n",
    "        batch_result = tokenizer.batch_decode(return_tokens, skip_special_tokens=True)\n",
    "        batch_result = [\" \" if result == \"\" else result for result in batch_result]\n",
    "        whole_prompt.extend(batch_result)\n",
    "        batch_result = [\" \" if result == \"\" else result.split(prefix)[-1].lower().strip() for result in batch_result]\n",
    "        print(\"batch results \", batch_result)\n",
    "\n",
    "        print(batch_result)\n",
    "\n",
    "        results.extend(batch_result)\n",
    "        del outputs\n",
    "        torch.cuda.empty_cache()\n",
    "\n",
    "    print(\"Finished Inference\")\n",
    "\n",
    "    if output_hidden_states:\n",
    "        # This separate pass is not time but memory efficient as if the hidden states are calculated during inference,\n",
    "        # hidden states are calculated for every token in the batch and the generated sequence.\n",
    "        print(\"Starting Hidden State Calculation\")\n",
    "        last_hidden_states = get_hidden_state(results, model, tokenizer, device, batch_size)\n",
    "        print(\"Finished Hidden State Calculation\")\n",
    "\n",
    "    else:\n",
    "        last_hidden_states = None\n",
    "\n",
    "        \n",
    "    return {\"report\": reports, \n",
    "            \"prediction\": results, \n",
    "            \"last_hidden_states\": last_hidden_states, \n",
    "            \"input_lengths\":input_lengths,\n",
    "            \"whole_prompt\": whole_prompt}\n",
    "\n",
    "def multi_round_inference(reports:list[str], \n",
    "                          model:AutoModelForCausalLM, \n",
    "                          tokenizer:AutoTokenizer, \n",
    "                          format_fun1:Callable[[str],str],\n",
    "                          format_fun2:Callable[[str],str],\n",
    "                          generation_config:GenerationConfig = None,\n",
    "                          prefix:str = \"[/INST]\",\n",
    "                          device:torch.device = torch.device(\"cpu\"),\n",
    "                          batch_size:int = 1)->dict:\n",
    "    \n",
    "    \"\"\"Multi Round inference for the MS extraction task\n",
    "    \n",
    "    Args:\n",
    "        reports (list[str]): list of medical reports\n",
    "        model (AutoModelForCausalLM): model\n",
    "        tokenizer (AutoTokenizer): tokenizer\n",
    "        format_fun1 (Callable[str,str]): function to convert input text to desired prompt format\n",
    "        format_fun2 (Callable[str,str]): function to convert chat history to desired prompt format\n",
    "        generation_config (GenerationConfig): generation config. Defaults to None. If None, default config is used.\n",
    "        prefix (str): prefix that separates input from output. Defaults to \"[/INST]\".\n",
    "        device (torch.device): device. Defaults to torch.device(\"cpu\").\n",
    "        batch_size (int): batch size. Defaults to 1.\n",
    "        \n",
    "    Returns:\n",
    "        dict: dictionary with keys report, prediction, last_hidden_states, input_lengths, whole_prompt\n",
    "            \n",
    "    \"\"\"\n",
    "    \n",
    "    max_new_tokens = generation_config.max_new_tokens\n",
    "\n",
    "    # For first round don't calculate hidden states and use long max_new_tokens, and low batch size\n",
    "    generation_config.max_new_tokens = 100\n",
    "    output_round1 = single_round_inference(reports=reports,\n",
    "                                           model=model, \n",
    "                                           tokenizer=tokenizer, \n",
    "                                           format_fun=format_fun1,\n",
    "                                           generation_config=generation_config,\n",
    "                                           device=device,\n",
    "                                           batch_size=1,\n",
    "                                           output_hidden_states=False)\n",
    "\n",
    "    # For second round calculate hidden states if desired\n",
    "    generation_config.max_new_tokens = max_new_tokens\n",
    "    chat_history = output_round1[\"whole_prompt\"]\n",
    "    chat_history = [text.split(\"[/INST]\")[-1] for text in chat_history]\n",
    "\n",
    "    return single_round_inference(reports=chat_history,\n",
    "                                  model=model, \n",
    "                                  tokenizer=tokenizer, \n",
    "                                  format_fun=format_fun2,\n",
    "                                  generation_config=generation_config,\n",
    "                                  prefix=prefix,\n",
    "                                  device=device,\n",
    "                                  batch_size=batch_size,\n",
    "                                  output_hidden_states=True)\n",
    "\n",
    "\n",
    "\n",
    "def get_hidden_state(text: list[str], model:AutoModel, tokenizer:AutoTokenizer, device:torch.device=torch.device(\"cpu\"), batch_size:int = 16)->list[torch.Tensor]:\n",
    "    \"\"\"Get hidden state of last layer of model for each prediction in results. Per default the last \n",
    "    \n",
    "    Args:\n",
    "        text (list[str]): a list of input strings to be encoded.\n",
    "        model (AutoModel): model\n",
    "        tokenizer (AutoTokenizer): tokenizer\n",
    "        device (torch.device): device. Defaults to torch.device(\"cpu\").\n",
    "        batch_size (int): batch size. Defaults to 16.\n",
    "        \n",
    "    Returns:\n",
    "        results (dict): results of prompting return with keys report, prediction, last_hidden_states, input_lengths, whole_prompt, encodings\n",
    "            \n",
    "            \n",
    "    \"\"\"\n",
    "\n",
    "    dataset = Dataset.from_dict(tokenizer(text, add_special_tokens = False))\n",
    "    collate_fn = DataCollatorWithPadding(tokenizer = tokenizer, padding = \"longest\")\n",
    "\n",
    "    dataloader = DataLoader(dataset = dataset, batch_size = batch_size, collate_fn = collate_fn)\n",
    "    \n",
    "    encodings = []\n",
    "\n",
    "    for batch in tqdm(dataloader):\n",
    "        batch.to(device)\n",
    "\n",
    "        with torch.no_grad():\n",
    "            outputs = model(**batch, output_hidden_states = True)\n",
    "\n",
    "        last_hidden_state = outputs[\"hidden_states\"][-1]\n",
    "\n",
    "        # For decoder architectures the last token of the sequence contains information about the whole sequence\n",
    "        last_hidden_state = last_hidden_state[:, -1, :]\n",
    "        encodings.append(last_hidden_state)\n",
    "\n",
    "        del last_hidden_state\n",
    "        del outputs\n",
    "        del batch\n",
    "        torch.cuda.empty_cache()\n",
    "        \n",
    "    return torch.cat(encodings, dim=0)"
   ]
  },
  {
   "cell_type": "markdown",
   "metadata": {},
   "source": [
    "## Zero Shot"
   ]
  },
  {
   "cell_type": "markdown",
   "metadata": {},
   "source": [
    "### Vanilla\n",
    "\n",
    "Using the original prompt template of meta Llama2 creators. \\<s>[INST]<\\<SYS>>{system_prompt}<\\</SYS>>{instruction}{input}[/INST]\n",
    "You should set add special tokens to false for the tokenizer otherwise you will have double bos in the beginning of the prompt, if you state it. Gives more control.\n",
    "\n",
    "@misc{touvron2023llama,\r\n",
    "      title={Llama 2: Open Foundation and Fine-Tuned Chat Models}, \r\n",
    "      author={Hugo Touvron and Louis Martin and Kevin Stone and Peter Albert and Amjad Almahairi and Yasmine Babaei and Nikolay Bashlykov and Soumya Batra and Prajjwal Bhargava and Shruti Bhosale and Dan Bikel and Lukas Blecher and Cristian Canton Ferrer and Moya Chen and Guillem Cucurull and David Esiobu and Jude Fernandes and Jeremy Fu and Wenyin Fu and Brian Fuller and Cynthia Gao and Vedanuj Goswami and Naman Goyal and Anthony Hartshorn and Saghar Hosseini and Rui Hou and Hakan Inan and Marcin Kardas and Viktor Kerkez and Madian Khabsa and Isabel Kloumann and Artem Korenev and Punit Singh Koura and Marie-Anne Lachaux and Thibaut Lavril and Jenya Lee and Diana Liskovich and Yinghai Lu and Yuning Mao and Xavier Martinet and Todor Mihaylov and Pushkar Mishra and Igor Molybog and Yixin Nie and Andrew Poulton and Jeremy Reizenstein and Rashi Rungta and Kalyan Saladi and Alan Schelten and Ruan Silva and Eric Michael Smith and Ranjan Subramanian and Xiaoqing Ellen Tan and Binh Tang and Ross Taylor and Adina Williams and Jian Xiang Kuan and Puxin Xu and Zheng Yan and Iliyan Zarov and Yuchen Zhang and Angela Fan and Melanie Kambadur and Sharan Narang and Aurelien Rodriguez and Robert Stojnic and Sergey Edunov and Thomas Scialom},\r\n",
    "      year={2023},\r\n",
    "      eprint={2307.09288},\r\n",
    "      archivePrefix={arXiv},\r\n",
    "      primaryClarbage.\n",
    "\n",
    "This prompt template builds the foundation to all further strategies, otherwise the model's answers are kinda garbage.\n",
    "\n",
    "Hidden states is of format hidden_states (tuple(tuple(torch.FloatTensor)), optional, returned when output_hidden_states=True is passed or when config.output_hidden_states=True) — Tuple (one element for each generated token) of tuples (one element for each layer of the decoder) of torch.FloatTensor of shape (batch_size, generated_length, hidden_size). I will try working with the last hidden state of the first generated token as this is where the model will start it's generation/prediction from..CL}\r\n",
    "}"
   ]
  },
  {
   "cell_type": "code",
   "execution_count": 15,
   "metadata": {},
   "outputs": [],
   "source": [
    "\n",
    "def zero_shot_base(report:str)->str:\n",
    "    \"\"\"Zero-shot base for the MS extraction task\n",
    "\n",
    "    Args:\n",
    "        report (str): medical report\n",
    "\n",
    "    Returns:\n",
    "        str: reformatted medical report with base\n",
    "\n",
    "    \"\"\"\n",
    "    base_prompt = \"<s>[INST]<<SYS>>{system_prompt}<</SYS>>\\n\\n{instruction}{input}[/INST]\\nThe type of multiple sclerosis stated in the german medical report is: \"\n",
    "    system_prompt =  (\"\\nYou are a helpful, respectful and honest assistant. Always answer as helpfully as possible, while being safe. \"\n",
    "                      \"Your answers should not include any harmful, unethical, racist, sexist, toxic, dangerous, or illegal content. \"\n",
    "                       \"Please ensure that your responses are socially unbiased and positive in nature.\\n\\nIf a question does not make \"\n",
    "                        \"any sense, or is not factually coherent, explain why instead of answering something not correct. If you don’t \"\n",
    "                        \"know the answer to a question, please don’t share false information.\\n\"\n",
    "                        )\n",
    "    instruction = (\"Your task is to extract the type of multiple Sclerosis (MS) stated in a German medical report. There are 3 types: \"\n",
    "                        \"\\\"primär progrediente Multiple Sklerose (PPMS)\\\", \\\"sekundär progrediente Multiple Sklerose (SPMS)\\\" and \\\"schubförmig remittierende Multiple Sklerose (RRMS)\\\".\"\n",
    "                        \"The type is provided in the text you just have to extract it. If you cannot match a type exactly answer with \\\"not enough info\\\".\"\n",
    "                        \"Your answer should solely consist of either \\\"primär progrediente Multiple Sklerose (PPMS)\\\", \\\"sekundär progrediente Multiple Sklerose (SPMS)\\\" \"\n",
    "                        \"\\schubförmige remittierende Multiple Sklerose (RRMS)\\\", or \\\"not enough info\\\".\"\n",
    "                        \"\\nHere is the medical report:\\n\"\n",
    "                    )\n",
    "    input = base_prompt.format(system_prompt = system_prompt, instruction = instruction, input =  report)\n",
    "\n",
    "    return input"
   ]
  },
  {
   "cell_type": "code",
   "execution_count": 16,
   "metadata": {},
   "outputs": [
    {
     "name": "stdout",
     "output_type": "stream",
     "text": [
      "Starting Inference\n"
     ]
    },
    {
     "name": "stderr",
     "output_type": "stream",
     "text": [
      " 10%|█         | 1/10 [00:03<00:34,  3.78s/it]"
     ]
    },
    {
     "name": "stdout",
     "output_type": "stream",
     "text": [
      "GPU 0: Tesla V100-SXM2-32GB\n",
      "   Total Memory: 31.74 GB\n",
      "   Free Memory: 22.66 GB\n",
      "   Allocated Memory : 7.74 GB\n",
      "   Reserved Memory : 8.19 GB\n",
      "batch results  ['\"schubförmig remittierende multiple sklerose (rrms)\"']\n",
      "['\"schubförmig remittierende multiple sklerose (rrms)\"']\n"
     ]
    },
    {
     "name": "stderr",
     "output_type": "stream",
     "text": [
      " 20%|██        | 2/10 [00:07<00:30,  3.83s/it]"
     ]
    },
    {
     "name": "stdout",
     "output_type": "stream",
     "text": [
      "batch results  ['\"schubförmig remittierende multiple sklerose (rrms']\n",
      "['\"schubförmig remittierende multiple sklerose (rrms']\n"
     ]
    },
    {
     "name": "stderr",
     "output_type": "stream",
     "text": [
      " 30%|███       | 3/10 [00:11<00:26,  3.83s/it]"
     ]
    },
    {
     "name": "stdout",
     "output_type": "stream",
     "text": [
      "batch results  ['\"primär progrediente multiple sklerose (ppms)\"\\n\\nthis']\n",
      "['\"primär progrediente multiple sklerose (ppms)\"\\n\\nthis']\n"
     ]
    },
    {
     "name": "stderr",
     "output_type": "stream",
     "text": [
      " 40%|████      | 4/10 [00:15<00:23,  3.84s/it]"
     ]
    },
    {
     "name": "stdout",
     "output_type": "stream",
     "text": [
      "batch results  ['\"sekundär progrediente multiple sklerose (spms)\"']\n",
      "['\"sekundär progrediente multiple sklerose (spms)\"']\n"
     ]
    },
    {
     "name": "stderr",
     "output_type": "stream",
     "text": [
      " 50%|█████     | 5/10 [00:19<00:19,  3.86s/it]"
     ]
    },
    {
     "name": "stdout",
     "output_type": "stream",
     "text": [
      "batch results  ['\"schubförmig remittierende multiple sklerose (rrms']\n",
      "['\"schubförmig remittierende multiple sklerose (rrms']\n"
     ]
    },
    {
     "name": "stderr",
     "output_type": "stream",
     "text": [
      " 60%|██████    | 6/10 [00:22<00:15,  3.76s/it]"
     ]
    },
    {
     "name": "stdout",
     "output_type": "stream",
     "text": [
      "GPU 0: Tesla V100-SXM2-32GB\n",
      "   Total Memory: 31.74 GB\n",
      "   Free Memory: 22.68 GB\n",
      "   Allocated Memory : 7.72 GB\n",
      "   Reserved Memory : 8.17 GB\n",
      "batch results  ['\"schubförmig remittierende multiple sklerose (rrms)\"']\n",
      "['\"schubförmig remittierende multiple sklerose (rrms)\"']\n"
     ]
    },
    {
     "name": "stderr",
     "output_type": "stream",
     "text": [
      " 70%|███████   | 7/10 [00:24<00:09,  3.24s/it]"
     ]
    },
    {
     "name": "stdout",
     "output_type": "stream",
     "text": [
      "batch results  ['\"not enough info\"']\n",
      "['\"not enough info\"']\n"
     ]
    },
    {
     "name": "stderr",
     "output_type": "stream",
     "text": [
      " 80%|████████  | 8/10 [00:27<00:05,  2.91s/it]"
     ]
    },
    {
     "name": "stdout",
     "output_type": "stream",
     "text": [
      "batch results  ['\"not enough info\"']\n",
      "['\"not enough info\"']\n"
     ]
    },
    {
     "name": "stderr",
     "output_type": "stream",
     "text": [
      " 90%|█████████ | 9/10 [00:30<00:03,  3.17s/it]"
     ]
    },
    {
     "name": "stdout",
     "output_type": "stream",
     "text": [
      "batch results  ['\"aubagio\" is used to treat \"rrms\".\\ntherefore']\n",
      "['\"aubagio\" is used to treat \"rrms\".\\ntherefore']\n"
     ]
    },
    {
     "name": "stderr",
     "output_type": "stream",
     "text": [
      "100%|██████████| 10/10 [00:34<00:00,  3.47s/it]\n"
     ]
    },
    {
     "name": "stdout",
     "output_type": "stream",
     "text": [
      "batch results  ['\"kein hinweis auf infektion mit hiv, hbv, hcv\"']\n",
      "['\"kein hinweis auf infektion mit hiv, hbv, hcv\"']\n",
      "Finished Inference\n",
      "Starting Hidden State Calculation\n"
     ]
    },
    {
     "name": "stderr",
     "output_type": "stream",
     "text": [
      "100%|██████████| 10/10 [00:04<00:00,  2.07it/s]"
     ]
    },
    {
     "name": "stdout",
     "output_type": "stream",
     "text": [
      "Finished Hidden State Calculation\n"
     ]
    },
    {
     "name": "stderr",
     "output_type": "stream",
     "text": [
      "\n"
     ]
    }
   ],
   "source": [
    "results = single_round_inference(reports = df_line[\"train\"].select(range(10))[\"text\"],\n",
    "                                 model=model, \n",
    "                                 tokenizer= tokenizer,\n",
    "                                 format_fun = zero_shot_base,\n",
    "                                generation_config = generation_config,\n",
    "                                 prefix = \"[/INST]\\nThe type of multiple sclerosis stated in the german medical report is: \",\n",
    "                                device = device)"
   ]
  },
  {
   "cell_type": "markdown",
   "metadata": {},
   "source": [
    "### Instruction\n",
    "\n",
    "Based on the paper of the creators of Llama2-MedTuned\n",
    "\n",
    "@misc{rohanian2023exploring,\r\n",
    "      title={Exploring the Effectiveness of Instruction Tuning in Biomedical Language Processing}, \r\n",
    "      author={Omid Rohanian and Mohammadmahdi Nouriborji and David A. Clifton},\r\n",
    "      year={2023},\r\n",
    "      eprint={2401.00579},\r\n",
    "      archivePrefix={arXiv},\r\n",
    "      primaryClass={cs\n",
    "\n",
    "Formulating the task as an instruction is closer to the fine-tuning of the model..CL}\r\n",
    "}"
   ]
  },
  {
   "cell_type": "code",
   "execution_count": 12,
   "metadata": {},
   "outputs": [],
   "source": [
    "def zero_shot_instruction(report:str)->str:\n",
    "    \"\"\"Zero-shot instruction for the MS extraction task\n",
    "    \n",
    "    Args:\n",
    "        report (str): medical report\n",
    "        \n",
    "        Returns:\n",
    "            str: reformatted medical report with instruction\n",
    "            \n",
    "            \"\"\"\n",
    "    instruction_base_prompt = \"<s>[INST]\\n### Instruction:\\n{instruction}\\n\\n### Input:\\n{input}[/INST]\\n\\n### Output:\\n\"\n",
    "    task_instruction = (\"Your task is to extract the type of multiple Sclerosis (MS) stated in a German medical report. There are 3 types: \"\n",
    "                        \"\\\"primär progrediente Multiple Sklerose (PPMS)\\\", \\\"sekundär progrediente Multiple Sklerose (SPMS)\\\" and \\\"schubförmig remittierende Multiple Sklerose (RRMS)\\\".\"\n",
    "                        \"The type is provided in the text you just have to extract it. If you cannot match a type exactly answer with \\\"not enough info\\\".\"\n",
    "                        \"Your answer should solely consist of either \\\"primär progrediente Multiple Sklerose (PPMS)\\\", \\\"sekundär progrediente Multiple Sklerose (SPMS)\\\" \"\n",
    "                        \"\\schubförmige remittierende Multiple Sklerose (RRMS)\\\", or \\\"not enough info\\\".\"\n",
    "                        \"\\nHere is the medical report:\\n\"\n",
    "                    )\n",
    "    input = instruction_base_prompt.format(instruction = task_instruction, input =  report)\n",
    "\n",
    "    return input\n"
   ]
  },
  {
   "cell_type": "code",
   "execution_count": 13,
   "metadata": {},
   "outputs": [
    {
     "name": "stdout",
     "output_type": "stream",
     "text": [
      "Starting Inference\n"
     ]
    },
    {
     "name": "stderr",
     "output_type": "stream",
     "text": [
      " 10%|█         | 1/10 [00:01<00:11,  1.26s/it]"
     ]
    },
    {
     "name": "stdout",
     "output_type": "stream",
     "text": [
      "GPU 0: Tesla V100-SXM2-32GB\n",
      "   Total Memory: 31.74 GB\n",
      "   Free Memory: 22.75 GB\n",
      "   Allocated Memory : 7.63 GB\n",
      "   Reserved Memory : 8.10 GB\n",
      "batch results  ['not enough info']\n",
      "['not enough info']\n"
     ]
    },
    {
     "name": "stderr",
     "output_type": "stream",
     "text": [
      " 20%|██        | 2/10 [00:02<00:11,  1.41s/it]"
     ]
    },
    {
     "name": "stdout",
     "output_type": "stream",
     "text": [
      "batch results  ['not enough info']\n",
      "['not enough info']\n"
     ]
    },
    {
     "name": "stderr",
     "output_type": "stream",
     "text": [
      " 30%|███       | 3/10 [00:03<00:09,  1.31s/it]"
     ]
    },
    {
     "name": "stdout",
     "output_type": "stream",
     "text": [
      "batch results  ['not enough info']\n",
      "['not enough info']\n"
     ]
    },
    {
     "name": "stderr",
     "output_type": "stream",
     "text": [
      " 40%|████      | 4/10 [00:07<00:12,  2.06s/it]"
     ]
    },
    {
     "name": "stdout",
     "output_type": "stream",
     "text": [
      "batch results  ['primär progrediente multiple sklerose (ppms)']\n",
      "['primär progrediente multiple sklerose (ppms)']\n"
     ]
    },
    {
     "name": "stderr",
     "output_type": "stream",
     "text": [
      " 50%|█████     | 5/10 [00:10<00:12,  2.47s/it]"
     ]
    },
    {
     "name": "stdout",
     "output_type": "stream",
     "text": [
      "batch results  ['primär progrediente multiple sklerose (ppms)']\n",
      "['primär progrediente multiple sklerose (ppms)']\n"
     ]
    },
    {
     "name": "stderr",
     "output_type": "stream",
     "text": [
      " 60%|██████    | 6/10 [00:11<00:08,  2.13s/it]"
     ]
    },
    {
     "name": "stdout",
     "output_type": "stream",
     "text": [
      "GPU 0: Tesla V100-SXM2-32GB\n",
      "   Total Memory: 31.74 GB\n",
      "   Free Memory: 22.76 GB\n",
      "   Allocated Memory : 7.62 GB\n",
      "   Reserved Memory : 8.09 GB\n",
      "batch results  ['not enough info']\n",
      "['not enough info']\n"
     ]
    },
    {
     "name": "stderr",
     "output_type": "stream",
     "text": [
      " 70%|███████   | 7/10 [00:13<00:05,  1.93s/it]"
     ]
    },
    {
     "name": "stdout",
     "output_type": "stream",
     "text": [
      "batch results  ['not enough info']\n",
      "['not enough info']\n"
     ]
    },
    {
     "name": "stderr",
     "output_type": "stream",
     "text": [
      " 80%|████████  | 8/10 [00:14<00:03,  1.70s/it]"
     ]
    },
    {
     "name": "stdout",
     "output_type": "stream",
     "text": [
      "batch results  ['not enough info']\n",
      "['not enough info']\n"
     ]
    },
    {
     "name": "stderr",
     "output_type": "stream",
     "text": [
      " 90%|█████████ | 9/10 [00:16<00:01,  1.62s/it]"
     ]
    },
    {
     "name": "stdout",
     "output_type": "stream",
     "text": [
      "batch results  ['not enough info']\n",
      "['not enough info']\n"
     ]
    },
    {
     "name": "stderr",
     "output_type": "stream",
     "text": [
      "100%|██████████| 10/10 [00:17<00:00,  1.72s/it]\n"
     ]
    },
    {
     "name": "stdout",
     "output_type": "stream",
     "text": [
      "batch results  ['not enough info']\n",
      "['not enough info']\n",
      "Finished Inference\n",
      "Starting Hidden State Calculation\n"
     ]
    },
    {
     "name": "stderr",
     "output_type": "stream",
     "text": [
      "100%|██████████| 10/10 [00:04<00:00,  2.28it/s]"
     ]
    },
    {
     "name": "stdout",
     "output_type": "stream",
     "text": [
      "Finished Hidden State Calculation\n"
     ]
    },
    {
     "name": "stderr",
     "output_type": "stream",
     "text": [
      "\n"
     ]
    }
   ],
   "source": [
    "results = single_round_inference(reports = df_line[\"train\"].select(range(10))[\"text\"],\n",
    "                                 model=model, \n",
    "                                 tokenizer= tokenizer,\n",
    "                                 format_fun = zero_shot_instruction,\n",
    "                                generation_config = generation_config,\n",
    "                                 prefix = \"[/INST]\\n\\n### Output:\\n\",\n",
    "                                device = device)"
   ]
  },
  {
   "cell_type": "markdown",
   "metadata": {},
   "source": [
    "## Few Shot\n",
    "\n",
    "Original Paper suggesting this:\n",
    "\n",
    "@misc{brown2020language,\r\n",
    "      title={Language Models are Few-Shot Learners}, \r\n",
    "      author={Tom B. Brown and Benjamin Mann and Nick Ryder and Melanie Subbiah and Jared Kaplan and Prafulla Dhariwal and Arvind Neelakantan and Pranav Shyam and Girish Sastry and Amanda Askell and Sandhini Agarwal and Ariel Herbert-Voss and Gretchen Krueger and Tom Henighan and Rewon Child and Aditya Ramesh and Daniel M. Ziegler and Jeffrey Wu and Clemens Winter and Christopher Hesse and Mark Chen and Eric Sigler and Mateusz Litwin and Scott Gray and Benjamin Chess and Jack Clark and Christopher Berner and Sam McCandlish and Alec Radford and Ilya Sutskever and Dario Amodei},\r\n",
    "      year={2020},\r\n",
    "      eprint={2005.14165},\r\n",
    "      archivePrefix={arXiv},\r\n",
    "      primaryClass={cs.CL}\r\n",
    "}"
   ]
  },
  {
   "cell_type": "markdown",
   "metadata": {},
   "source": [
    "### Vanilla"
   ]
  },
  {
   "cell_type": "code",
   "execution_count": 13,
   "metadata": {},
   "outputs": [],
   "source": [
    "def few_shot_base(report:str)->str:\n",
    "    \"\"\"Few Shot base for the MS extraction task\n",
    "\n",
    "    Args:\n",
    "        report (str): medical report\n",
    "\n",
    "    Returns:\n",
    "        str: reformatted medical report with base\n",
    "\n",
    "    \"\"\"\n",
    "    base_prompt = \"<s>[INST]<<SYS>>{system_prompt}<</SYS>>\\n\\n{instruction}Report:\\n{input}[/INST]\\nDiagnosis:\\n\"\n",
    "\n",
    "    rrms = 'Schubförmig-remittierende Multiple Sklerose, EM 01/2013, ED 10/2015\\nINDENT EDSS 05/2020: 2.0 [...]'\n",
    "    spms = '1. Sekundär progrediente schubförmige Multiple Sklerose [...]'\n",
    "    ppms = '1. Primär progrediente Multiple Sklerose, EM 1992, ED 1996, aktuell EDSS 7.0 [...]'\n",
    "    no_ms = '[...] INDENT MRI 07/2014: Progrediente supratentorielle MS-Plaques mit Befund-Progredienz im Bereich der Radiatio optica beidseits. [...]'\n",
    "\n",
    "    examples = [ppms, spms, rrms, no_ms]\n",
    "\n",
    "    labels = [\"Schubförmig remittierende Multiple Sklerose (RRMS)\",\n",
    "              \"Sekundär progrediente Multiple Sklerose (SPMS)\",\n",
    "              \"Primär progrediente Multiple Sklerosis (PPMS)\", \n",
    "              \"not enough info\"]\n",
    "    \n",
    "    system_prompt = (\n",
    "    \"\\nYou are a helpful, respectful and honest assistant. Always answer as helpfully as possible, while being safe. \"\n",
    "    \"Your answers should not include any harmful, unethical, racist, sexist, toxic, dangerous, or illegal content. \"\n",
    "    \"Please ensure that your responses are socially unbiased and positive in nature.\\n\\nIf a question does not make \"\n",
    "    \"any sense, or is not factually coherent, explain why instead of answering something not correct. If you don’t \"\n",
    "    \"know the answer to a question, please don’t share false information.\\n\"\n",
    "    )\n",
    "\n",
    "    instruction = (\n",
    "       \"Your task is to extract the type of multiple Sclerosis (MS) stated in a German medical report. There are 3 types: \"\n",
    "        \"\\\"primär progrediente Multiple Sklerose (PPMS)\\\", \\\"sekundär progrediente Multiple Sklerose (SPMS)\\\" and \\\"schubförmig remittierende Multiple Sklerose (RRMS)\\\".\"\n",
    "        \"The type is provided in the text you just have to extract it. If you cannot match a type exactly answer with \\\"not enough info\\\".\"\n",
    "        \"Your answer should solely consist of either \\\"primär progrediente Multiple Sklerose (PPMS)\\\", \\\"sekundär progrediente Multiple Sklerose (SPMS)\\\" \"\n",
    "        \"\\\"schubförmige remittierende Multiple Sklerose (RRMS)\\\", or \\\"not enough info\\\".\"\n",
    "        \"To help you with your task, here are a few excerpts from reports that indiciate what output you should produce:\\n\\n\"\n",
    "        )\n",
    "    \n",
    "    for example, label in zip(examples, labels):\n",
    "        instruction += f\"Report:\\n{example}\\nDiagnosis:\\n{label}\\n\\n\"\n",
    "    \n",
    "    input = base_prompt.format(system_prompt = system_prompt, instruction = instruction, input =  report)\n",
    "    input + \"Diagnosis:\\n\"\n",
    "\n",
    "    return input\n"
   ]
  },
  {
   "cell_type": "code",
   "execution_count": 14,
   "metadata": {},
   "outputs": [
    {
     "name": "stderr",
     "output_type": "stream",
     "text": [
      "100%|██████████| 2/2 [00:12<00:00,  6.04s/it]\n"
     ]
    }
   ],
   "source": [
    "results = single_round_inference(df_line[\"train\"].filter(lambda e: e[\"labels\"] != 3).select(range(2))[\"text\"], model, tokenizer, few_shot_base)"
   ]
  },
  {
   "cell_type": "markdown",
   "metadata": {},
   "source": [
    "### Instruction"
   ]
  },
  {
   "cell_type": "code",
   "execution_count": 16,
   "metadata": {},
   "outputs": [],
   "source": [
    "def few_shot_instruct(report:str)->str:\n",
    "    \"\"\"Few Shot base for the MS extraction task\n",
    "\n",
    "    Args:\n",
    "        report (str): medical report\n",
    "\n",
    "    Returns:\n",
    "        str: reformatted medical report with base\n",
    "\n",
    "    \"\"\"\n",
    "    base_prompt = \"<s>[INST]### Instruction:\\n{instruction}### Input:\\n{input}[/INST]\\n### Output:\\n\"\n",
    "\n",
    "    rrms = 'Schubförmig-remittierende Multiple Sklerose, EM 01/2013, ED 10/2015\\nINDENT EDSS 05/2020: 2.0 [...]'\n",
    "    spms = '1. Sekundär progrediente schubförmige Multiple Sklerose [...]'\n",
    "    ppms = '1. Primär progrediente Multiple Sklerose, EM 1992, ED 1996, aktuell EDSS 7.0 [...]'\n",
    "    no_ms = '[...] INDENT MRI 07/2014: Progrediente supratentorielle MS-Plaques mit Befund-Progredienz im Bereich der Radiatio optica beidseits. [...]'\n",
    "\n",
    "    examples = [ppms, spms, rrms, no_ms]\n",
    "\n",
    "    labels = [\"Schubförmig remittierende Multiple Sklerose (RRMS)\",\n",
    "              \"Sekundär progrediente Multiple Sklerose (SPMS)\",\n",
    "              \"Primär progrediente Multiple Sklerosis (PPMS)\", \n",
    "              \"not enough info\"]\n",
    "\n",
    "    instruction = (\n",
    "        \"Your task is to extract the type of multiple Sclerosis (MS) stated in a German medical report. There are 3 types: \"\n",
    "        \"\\\"primär progrediente Multiple Sklerose (PPMS)\\\", \\\"sekundär progrediente Multiple Sklerose (SPMS)\\\" and \\\"schubförmig remittierende Multiple Sklerose (RRMS)\\\".\"\n",
    "        \"The type is provided in the text you just have to extract it. If you cannot match a type exactly answer with \\\"not enough info\\\".\"\n",
    "        \"Your answer should solely consist of either \\\"primär progrediente Multiple Sklerose (PPMS)\\\", \\\"sekundär progrediente Multiple Sklerose (SPMS)\\\" \"\n",
    "        \"\\\"schubförmige remittierende Multiple Sklerose (RRMS)\\\", or \\\"not enough info\\\".\"\n",
    "        \"To help you with your task, here are a few excerpts from reports that indiciate what output you should produce:\\n\\n\"\n",
    "        )\n",
    "    \n",
    "    for example, label in zip(examples, labels):\n",
    "        instruction += f\"### Input:\\n{example}\\n### Output:\\n{label}\\n\\n\"\n",
    "    \n",
    "    input = base_prompt.format(instruction = instruction, input =  report)\n",
    "\n",
    "    return input\n"
   ]
  },
  {
   "cell_type": "code",
   "execution_count": 17,
   "metadata": {},
   "outputs": [
    {
     "name": "stderr",
     "output_type": "stream",
     "text": [
      "100%|██████████| 2/2 [00:10<00:00,  5.26s/it]\n"
     ]
    }
   ],
   "source": [
    "results = single_round_inference(df_line[\"train\"].filter(lambda e: e[\"labels\"] != 3).select(range(2))[\"text\"], model, tokenizer, few_shot_instruct)"
   ]
  },
  {
   "cell_type": "markdown",
   "metadata": {},
   "source": [
    "## 2 Steps"
   ]
  },
  {
   "cell_type": "code",
   "execution_count": 41,
   "metadata": {},
   "outputs": [],
   "source": [
    "def two_steps_one(report: str)->str:\n",
    "    \"\"\"Two Steps One for the MS extraction task. Encodes the report for first turn of the dialogue.\n",
    "\n",
    "    Args:\n",
    "        report (str): medical report\n",
    "\n",
    "    Returns:\n",
    "        str: reformatted medical report with base\n",
    "\n",
    "    \"\"\"\n",
    "    base_prompt = \"<s>[INST]<<SYS>>{system_prompt}<</SYS>>\\n\\n{instruction}{input}[/INST]\"\n",
    "    system_prompt =  (\"\\nYou are a helpful, respectful and honest assistant. Always answer as helpfully as possible, while being safe. \"\n",
    "                      \"Your answers should not include any harmful, unethical, racist, sexist, toxic, dangerous, or illegal content. \"\n",
    "                       \"Please ensure that your responses are socially unbiased and positive in nature.\\n\\nIf a question does not make \"\n",
    "                        \"any sense, or is not factually coherent, explain why instead of answering something not correct. If you don’t \"\n",
    "                        \"know the answer to a question, please don’t share false information.\\n\"\n",
    "                        )\n",
    "    instruction = (\"Your task is to extract relevant information about the multiple sclerosis diagnosis from the provided German medical report. \"\n",
    "                   \"Identify and summarize all sections discussing \\\"Multiple Sklerose\\\" paying attention to the exact type of multiple sclerosis. \"\n",
    "                   \"There are three types:\\n\"\n",
    "                   \"primär progrediente Multiple Sklerose (PPMS)\\n\"\n",
    "                   \"sekundär progrediente Multiple Sklerose (SPMS)\\n\"\n",
    "                   \"schubförmige Multiple Sklerose (RRMS)\\n\"\n",
    "                   \"If the report lacks information about multiple sclerosis, respond with \\\"not enough info\\\". \"\n",
    "                   \"\\nHere is the Medical Report:\\n \"\n",
    "                   )\n",
    "                   \n",
    "    input = base_prompt.format(system_prompt = system_prompt, instruction = instruction, input =  report)\n",
    "    return input\n",
    "\n",
    "def two_steps_two(chat_history: str)->str:\n",
    "    \"\"\"Two Steps Two for the MS extraction task. Encodes the chat history for second turn of the dialogue.\n",
    "\n",
    "    Args:\n",
    "        chat_history (str): chat history\n",
    "\n",
    "    Returns:\n",
    "        str: reformatted medical report with base\n",
    "\n",
    "    \"\"\"\n",
    "    base_prompt = \"<s>[INST]\\n\\n{instruction}\\n{summary}[/INST]\\nGiven the summary the most likely diagnosis is: \"\n",
    "    instruction = (\n",
    "                   \"Given a summary of a medical report describing a patient's condition related to multiple sclerosis, provide the most likely diagnosis. The possible diagnoses are:\\n\"\n",
    "                   \"- primär progrediente Multiple Sklerose (PPMS)\\n\"\n",
    "                   \"- sekundär progrediente Multiple Sklerose (SPMS)\\n\"\n",
    "                   \"- schubförmige Multiple Sklerose (RRMS)\\n\"\n",
    "                   \"- not enough info\\n\"\n",
    "                   \"Consider the information provided in the summary and select the diagnosis that best fits the patient's condition. If the summary does not contain sufficient information to make a diagnosis, choose \\\"not enough info.\\\" \"\n",
    "                   \"Here is the summary:\\n\"\n",
    "                   )\n",
    "    input = base_prompt.format(instruction = instruction, summary = chat_history)\n",
    "\n",
    "    return input\n",
    "\n"
   ]
  },
  {
   "cell_type": "code",
   "execution_count": 38,
   "metadata": {},
   "outputs": [],
   "source": [
    "def multi_round_inference(reports:list[str], \n",
    "                           model:AutoModelForCausalLM, \n",
    "                           tokenizer:AutoTokenizer, \n",
    "                           format_fun1:Callable[str,str],\n",
    "                          format_fun2:Callable[str,str],\n",
    "                           output_hidden_states:bool = True,\n",
    "                          max_new_tokens:int = 20)->pd.DataFrame:\n",
    "    \n",
    "    \"\"\"Multi Round inference for the MS extraction task\n",
    "    \n",
    "    Args:\n",
    "        reports (list[str]): list of medical reports\n",
    "        model (AutoModelForCausalLM): model\n",
    "        tokenizer (AutoTokenizer): tokenizer\n",
    "        format_fun1 (Callable[str,str]): function to convert input text to desired prompt format\n",
    "        format_fun2 (Callable[str,str]): function to convert chat history to desired prompt format\n",
    "        output_hidden_states (bool); whether hidden states should be calculated. Defaults to True\n",
    "        max_new_tokens (int): The number of tokens to be generated.\n",
    "        \n",
    "    Returns:\n",
    "        pd.DataFrame: results of inference\n",
    "            \n",
    "    \"\"\"\n",
    "\n",
    "    output_round1 = single_round_inference(reports, model, tokenizer, format_fun1, output_hidden_states = False, max_new_tokens = 2)\n",
    "    chat_history = output_round1[\"whole_prompt\"]\n",
    "\n",
    "    return single_round_inference(chat_history, model, tokenizer, format_fun2, output_hidden_states = output_hidden_states, max_new_tokens = max_new_tokens)"
   ]
  },
  {
   "cell_type": "code",
   "execution_count": 6,
   "metadata": {},
   "outputs": [
    {
     "ename": "NameError",
     "evalue": "name 'df_line' is not defined",
     "output_type": "error",
     "traceback": [
      "\u001b[0;31m---------------------------------------------------------------------------\u001b[0m",
      "\u001b[0;31mNameError\u001b[0m                                 Traceback (most recent call last)",
      "Cell \u001b[0;32mIn[6], line 1\u001b[0m\n\u001b[0;32m----> 1\u001b[0m results \u001b[38;5;241m=\u001b[39m multi_round_inference(\u001b[43mdf_line\u001b[49m[\u001b[38;5;124m\"\u001b[39m\u001b[38;5;124mtrain\u001b[39m\u001b[38;5;124m\"\u001b[39m]\u001b[38;5;241m.\u001b[39mfilter(\u001b[38;5;28;01mlambda\u001b[39;00m e: e[\u001b[38;5;124m\"\u001b[39m\u001b[38;5;124mlabels\u001b[39m\u001b[38;5;124m\"\u001b[39m] \u001b[38;5;241m!=\u001b[39m \u001b[38;5;241m3\u001b[39m)\u001b[38;5;241m.\u001b[39mselect(\u001b[38;5;28mrange\u001b[39m(\u001b[38;5;241m2\u001b[39m))[\u001b[38;5;124m\"\u001b[39m\u001b[38;5;124mtext\u001b[39m\u001b[38;5;124m\"\u001b[39m], model, tokenizer, two_steps_one, two_steps_two, max_new_tokens \u001b[38;5;241m=\u001b[39m \u001b[38;5;241m2\u001b[39m)\n",
      "\u001b[0;31mNameError\u001b[0m: name 'df_line' is not defined"
     ]
    }
   ],
   "source": [
    "results = multi_round_inference(df_line[\"train\"].filter(lambda e: e[\"labels\"] != 3).select(range(2))[\"text\"], model, tokenizer, two_steps_one, two_steps_two, max_new_tokens = 2)"
   ]
  },
  {
   "cell_type": "markdown",
   "metadata": {
    "jp-MarkdownHeadingCollapsed": true
   },
   "source": [
    "# LLAMA MedTuned 7B"
   ]
  },
  {
   "cell_type": "code",
   "execution_count": 2,
   "metadata": {},
   "outputs": [
    {
     "data": {
      "application/vnd.jupyter.widget-view+json": {
       "model_id": "6833f29fa86548cf8ced899fbd9448f9",
       "version_major": 2,
       "version_minor": 0
      },
      "text/plain": [
       "Loading checkpoint shards:   0%|          | 0/2 [00:00<?, ?it/s]"
      ]
     },
     "metadata": {},
     "output_type": "display_data"
    },
    {
     "name": "stdout",
     "output_type": "stream",
     "text": [
      "Tokenizer pad token ID: 32000\n",
      "Tokenizer special tokens: {'bos_token': '<s>', 'eos_token': '</s>', 'unk_token': '<unk>', 'pad_token': '<pad>'}\n",
      "Model pad token ID: 32000\n",
      "GPU 0: Tesla V100-SXM2-32GB\n",
      "   Total Memory: 31.74 GB\n",
      "   Free Memory: 26.69 GB\n",
      "   Allocated Memory : 4.17 GB\n",
      "   Reserved Memory : 4.31 GB\n"
     ]
    }
   ],
   "source": [
    "MODEL_NAME = \"Llama2-MedTuned-7b\"\n",
    "model, tokenizer = load_model_and_tokenizer(model_name = MODEL_NAME,\n",
    "                                            task_type = \"clm\",\n",
    "                                            quantization = \"4bit\",\n",
    "                                           # attn_implementation = \"flash_attention_2\"\n",
    "                                           )\n",
    "model.config.use_cache = True\n",
    "check_gpu_memory()"
   ]
  },
  {
   "cell_type": "code",
   "execution_count": 15,
   "metadata": {},
   "outputs": [],
   "source": [
    "generation_config = GenerationConfig(bos_token_id = tokenizer.bos_token_id,\n",
    "                                     eos_token_id = tokenizer.eos_token_id,\n",
    "                                     pad_token_id = tokenizer.pad_token_id,\n",
    "                                     use_cache = True,\n",
    "                                     max_new_tokens = 20,\n",
    "                                     temperature=1,\n",
    "                                     top_p=1,\n",
    "                                     do_sample=False,\n",
    "                                     output_hidden_states = False,\n",
    "                                     return_dict_in_generate = True,\n",
    "                                    )\n",
    "\n",
    "def single_round_inference(reports:list[str], \n",
    "                           model:AutoModelForCausalLM, \n",
    "                           tokenizer:AutoTokenizer, \n",
    "                           format_fun:Callable[[str],str], \n",
    "                           generation_config:GenerationConfig = None,\n",
    "                           prefix:str = \"[/INST]\",\n",
    "                           device:torch.device = torch.device(\"cpu\"),\n",
    "                           batch_size:int=1,\n",
    "                           output_hidden_states:bool = True)->dict:\n",
    "    \n",
    "    \"\"\" Single round inference for the MS extraction task\n",
    "    \n",
    "    Args:\n",
    "        reports (list[str]): list of medical reports\n",
    "        model (AutoModelForCausalLM): model\n",
    "        tokenizer (AutoTokenizer): tokenizer\n",
    "        format_fun (Callable[[str],str]): function to convert input text to desired prompt format\n",
    "        generation_config (GenerationConfig): generation config. Defaults to None. If None, default config is used.\n",
    "        prefix (str): prefix that separates input from output. Defaults to \"[/INST]\".\n",
    "        device (torch.device): device. Defaults to torch.device(\"cpu\").\n",
    "        batch_size (int): batch size. Defaults to 1.\n",
    "        output_hidden_states (bool); whether hidden states should be calculated for model answers. Defaults to True\n",
    "        \n",
    "    Returns:\n",
    "        dict: dictionary with keys report, prediction, last_hidden_states, input_lengths, whole_prompt\n",
    "            \n",
    "    \"\"\"\n",
    "    print(\"Starting Inference\")\n",
    "    tokens = [tokenizer(format_fun(t), add_special_tokens = False, truncation = True) for t in reports]\n",
    "    \n",
    "    collate_fn = DataCollatorWithPadding(tokenizer, padding=True)\n",
    "\n",
    "    dataloader = DataLoader(dataset=tokens, collate_fn=collate_fn, batch_size=batch_size, shuffle = False) \n",
    "\n",
    "    model.eval()\n",
    "\n",
    "    results = []\n",
    "    whole_prompt = []\n",
    "    last_hidden_states = []\n",
    "    input_lengths = [len(t[\"input_ids\"]) for t in tokens]\n",
    "\n",
    "    for idx, batch in enumerate(tqdm(dataloader)):\n",
    "        batch.to(device)\n",
    "        with torch.no_grad():\n",
    "            outputs = model.generate(\n",
    "                **batch,\n",
    "                generation_config=generation_config,\n",
    "            )\n",
    "\n",
    "        # Check GPU memory every 5 batches\n",
    "        if idx % 5 == 0:\n",
    "            check_gpu_memory()\n",
    "\n",
    "\n",
    "        return_tokens = outputs[\"sequences\"].to(\"cpu\")\n",
    "        batch_result = tokenizer.batch_decode(return_tokens, skip_special_tokens=True)\n",
    "        whole_prompt.extend(batch_result)\n",
    "        batch_result = [result.split(prefix)[-1].lower().strip() for result in batch_result]\n",
    "\n",
    "        results.extend(batch_result)\n",
    "        del outputs\n",
    "        torch.cuda.empty_cache()\n",
    "\n",
    "    print(\"Finished Inference\")\n",
    "\n",
    "    if output_hidden_states:\n",
    "        # This separate pass is not time but memory efficient as if the hidden states are calculated during inference,\n",
    "        # hidden states are calculated for every token in the batch and the generated sequence.\n",
    "        print(results)\n",
    "        # If there are \"\" results need to pass \" \"\n",
    "        results_hs = [result if result != \"\" else \" \" for result in results]\n",
    "        print(results_hs)\n",
    "        print(\"Starting Hidden State Calculation\")\n",
    "        last_hidden_states = get_hidden_state(results_hs, model, tokenizer, device, batch_size)\n",
    "        print(\"Finished Hidden State Calculation\")\n",
    "\n",
    "    else:\n",
    "        last_hidden_states = None\n",
    "\n",
    "        \n",
    "    return {\"report\": reports, \n",
    "            \"prediction\": results, \n",
    "            \"last_hidden_states\": last_hidden_states, \n",
    "            \"input_lengths\":input_lengths,\n",
    "            \"whole_prompt\": whole_prompt}\n",
    "\n",
    "def multi_round_inference(reports:list[str], \n",
    "                          model:AutoModelForCausalLM, \n",
    "                          tokenizer:AutoTokenizer, \n",
    "                          format_fun1:Callable[[str],str],\n",
    "                          format_fun2:Callable[[str],str],\n",
    "                          generation_config:GenerationConfig = None,\n",
    "                          prefix:str = \"[/INST]\",\n",
    "                          device:torch.device = torch.device(\"cpu\"),\n",
    "                          batch_size:int = 1)->dict:\n",
    "    \n",
    "    \"\"\"Multi Round inference for the MS extraction task\n",
    "    \n",
    "    Args:\n",
    "        reports (list[str]): list of medical reports\n",
    "        model (AutoModelForCausalLM): model\n",
    "        tokenizer (AutoTokenizer): tokenizer\n",
    "        format_fun1 (Callable[str,str]): function to convert input text to desired prompt format\n",
    "        format_fun2 (Callable[str,str]): function to convert chat history to desired prompt format\n",
    "        generation_config (GenerationConfig): generation config. Defaults to None. If None, default config is used.\n",
    "        prefix (str): prefix that separates input from output. Defaults to \"[/INST]\".\n",
    "        device (torch.device): device. Defaults to torch.device(\"cpu\").\n",
    "        batch_size (int): batch size. Defaults to 1.\n",
    "        \n",
    "    Returns:\n",
    "        dict: dictionary with keys report, prediction, last_hidden_states, input_lengths, whole_prompt\n",
    "            \n",
    "    \"\"\"\n",
    "    \n",
    "    max_new_tokens = generation_config.max_new_tokens\n",
    "\n",
    "    # For first round don't calculate hidden states and use long max_new_tokens, and low batch size\n",
    "    generation_config.max_new_tokens = 100\n",
    "    output_round1 = single_round_inference(reports=reports,\n",
    "                                           model=model, \n",
    "                                           tokenizer=tokenizer, \n",
    "                                           format_fun=format_fun1,\n",
    "                                           generation_config=generation_config,\n",
    "                                           device=device,\n",
    "                                           batch_size=1,\n",
    "                                           output_hidden_states=False)\n",
    "\n",
    "    # For second round calculate hidden states if desired\n",
    "    generation_config.max_new_tokens = max_new_tokens\n",
    "    chat_history = output_round1[\"whole_prompt\"]\n",
    "    chat_history = [text.split(\"[/INST]\")[-1] for text in chat_history]\n",
    "\n",
    "    return single_round_inference(reports=chat_history,\n",
    "                                  model=model, \n",
    "                                  tokenizer=tokenizer, \n",
    "                                  format_fun=format_fun2,\n",
    "                                  generation_config=generation_config,\n",
    "                                  prefix=prefix,\n",
    "                                  device=device,\n",
    "                                  batch_size=batch_size,\n",
    "                                  output_hidden_states=True)\n",
    "\n",
    "\n",
    "\n",
    "def get_hidden_state(text: list[str], model:AutoModel, tokenizer:AutoTokenizer, device:torch.device=torch.device(\"cpu\"), batch_size:int = 16)->list[torch.Tensor]:\n",
    "    \"\"\"Get hidden state of last layer of model for each prediction in results. Per default the last \n",
    "    \n",
    "    Args:\n",
    "        text (list[str]): a list of input strings to be encoded.\n",
    "        model (AutoModel): model\n",
    "        tokenizer (AutoTokenizer): tokenizer\n",
    "        device (torch.device): device. Defaults to torch.device(\"cpu\").\n",
    "        batch_size (int): batch size. Defaults to 16.\n",
    "        \n",
    "    Returns:\n",
    "        results (dict): results of prompting return with keys report, prediction, last_hidden_states, input_lengths, whole_prompt, encodings\n",
    "            \n",
    "            \n",
    "    \"\"\"\n",
    "\n",
    "    dataset = Dataset.from_dict(tokenizer(text, add_special_tokens = False))\n",
    "    collate_fn = DataCollatorWithPadding(tokenizer = tokenizer, padding = \"longest\")\n",
    "\n",
    "    dataloader = DataLoader(dataset = dataset, batch_size = batch_size, collate_fn = collate_fn)\n",
    "    \n",
    "    encodings = []\n",
    "\n",
    "    for batch in tqdm(dataloader):\n",
    "        batch.to(device)\n",
    "\n",
    "        with torch.no_grad():\n",
    "            outputs = model(**batch, output_hidden_states = True)\n",
    "\n",
    "        last_hidden_state = outputs[\"hidden_states\"][-1]\n",
    "\n",
    "        # For decoder architectures the last token of the sequence contains information about the whole sequence\n",
    "        last_hidden_state = last_hidden_state[:, -1, :]\n",
    "        encodings.append(last_hidden_state)\n",
    "\n",
    "        del last_hidden_state\n",
    "        del outputs\n",
    "        del batch\n",
    "        torch.cuda.empty_cache()\n",
    "        \n",
    "    return torch.cat(encodings, dim=0)"
   ]
  },
  {
   "cell_type": "code",
   "execution_count": 10,
   "metadata": {},
   "outputs": [],
   "source": [
    "labels = [\"primary progressive multiple sclerosis\", \"secondary progressive multiple sclerosis\",\n",
    "          \"relapsing remitting multiple sclerosis\",\"not enough info\"]"
   ]
  },
  {
   "cell_type": "code",
   "execution_count": 13,
   "metadata": {},
   "outputs": [
    {
     "name": "stderr",
     "output_type": "stream",
     "text": [
      "100%|██████████| 1/1 [00:00<00:00,  6.87it/s]\n"
     ]
    }
   ],
   "source": [
    "encoded_labels = get_hidden_state([\" \"], model, tokenizer)"
   ]
  },
  {
   "cell_type": "code",
   "execution_count": 5,
   "metadata": {},
   "outputs": [],
   "source": [
    "# Load data\n",
    "df_line = load_ms_data(\"line\")\n",
    "df_all = load_ms_data(\"all\")\n",
    "df_first_last = load_ms_data(\"all_first_line_last\")"
   ]
  },
  {
   "cell_type": "code",
   "execution_count": 7,
   "metadata": {},
   "outputs": [],
   "source": [
    "# Trying to make output more consistent by stopping on MS, https://github.com/huggingface/transformers/issues/26959\n",
    "class EosListStoppingCriteria(StoppingCriteria):\n",
    "    def __init__(self, eos_sequence = [835, 2799, 4080, 29901]):\n",
    "        self.eos_sequence = eos_sequence\n",
    "\n",
    "    def __call__(self, input_ids: torch.LongTensor, scores: torch.FloatTensor, **kwargs) -> bool:\n",
    "        last_ids = input_ids[:,-len(self.eos_sequence):].tolist()\n",
    "        return self.eos_sequence in last_ids\n",
    "ms_stop = EosListStoppingCriteria(tokenizer(\"multiple sclerosis\", add_special_tokens = False)[\"input_ids\"])"
   ]
  },
  {
   "cell_type": "markdown",
   "metadata": {},
   "source": [
    "## Zero Shot"
   ]
  },
  {
   "cell_type": "markdown",
   "metadata": {},
   "source": [
    "### Vanilla\n",
    "\n",
    "Using the original prompt template of meta Llama2 creators. \\<s>[INST]<\\<SYS>>{system_prompt}<\\</SYS>>{instruction}{input}[/INST]\n",
    "You should set add special tokens to false for the tokenizer otherwise you will have double bos in the beginning of the prompt, if you state it. Gives more control.\n",
    "\n",
    "@misc{touvron2023llama,\r\n",
    "      title={Llama 2: Open Foundation and Fine-Tuned Chat Models}, \r\n",
    "      author={Hugo Touvron and Louis Martin and Kevin Stone and Peter Albert and Amjad Almahairi and Yasmine Babaei and Nikolay Bashlykov and Soumya Batra and Prajjwal Bhargava and Shruti Bhosale and Dan Bikel and Lukas Blecher and Cristian Canton Ferrer and Moya Chen and Guillem Cucurull and David Esiobu and Jude Fernandes and Jeremy Fu and Wenyin Fu and Brian Fuller and Cynthia Gao and Vedanuj Goswami and Naman Goyal and Anthony Hartshorn and Saghar Hosseini and Rui Hou and Hakan Inan and Marcin Kardas and Viktor Kerkez and Madian Khabsa and Isabel Kloumann and Artem Korenev and Punit Singh Koura and Marie-Anne Lachaux and Thibaut Lavril and Jenya Lee and Diana Liskovich and Yinghai Lu and Yuning Mao and Xavier Martinet and Todor Mihaylov and Pushkar Mishra and Igor Molybog and Yixin Nie and Andrew Poulton and Jeremy Reizenstein and Rashi Rungta and Kalyan Saladi and Alan Schelten and Ruan Silva and Eric Michael Smith and Ranjan Subramanian and Xiaoqing Ellen Tan and Binh Tang and Ross Taylor and Adina Williams and Jian Xiang Kuan and Puxin Xu and Zheng Yan and Iliyan Zarov and Yuchen Zhang and Angela Fan and Melanie Kambadur and Sharan Narang and Aurelien Rodriguez and Robert Stojnic and Sergey Edunov and Thomas Scialom},\r\n",
    "      year={2023},\r\n",
    "      eprint={2307.09288},\r\n",
    "      archivePrefix={arXiv},\r\n",
    "      primaryClarbage.\n",
    "\n",
    "This prompt template builds the foundation to all further strategies, otherwise the model's answers are kinda garbage.\n",
    "\n",
    "Hidden states is of format hidden_states (tuple(tuple(torch.FloatTensor)), optional, returned when output_hidden_states=True is passed or when config.output_hidden_states=True) — Tuple (one element for each generated token) of tuples (one element for each layer of the decoder) of torch.FloatTensor of shape (batch_size, generated_length, hidden_size). I will try working with the last hidden state of the first generated token as this is where the model will start it's generation/prediction from..CL}\r\n",
    "}"
   ]
  },
  {
   "cell_type": "code",
   "execution_count": 11,
   "metadata": {},
   "outputs": [],
   "source": [
    "\n",
    "def zero_shot_base(report:str)->str:\n",
    "    \"\"\"Zero-shot base for the MS extraction task\n",
    "\n",
    "    Args:\n",
    "        report (str): medical report\n",
    "\n",
    "    Returns:\n",
    "        str: reformatted medical report with base\n",
    "\n",
    "    \"\"\"\n",
    "    base_prompt = \"<s>[INST]<<SYS>>{system_prompt}<</SYS>>\\n\\n{instruction}{input}[/INST]\\nThe type of multiple sclerosis stated in the german medical report is: \"\n",
    "    system_prompt =  (\"\\nYou are a helpful, respectful and honest assistant. Always answer as helpfully as possible, while being safe. \"\n",
    "                      \"Your answers should not include any harmful, unethical, racist, sexist, toxic, dangerous, or illegal content. \"\n",
    "                       \"Please ensure that your responses are socially unbiased and positive in nature.\\n\\nIf a question does not make \"\n",
    "                        \"any sense, or is not factually coherent, explain why instead of answering something not correct. If you don’t \"\n",
    "                        \"know the answer to a question, please don’t share false information.\\n\"\n",
    "                        )\n",
    "    instruction = (\"Your task is to extract the type of multiple Sclerosis (MS) stated in a German medical report. There are 3 types: \"\n",
    "                        \"\\\"primär progrediente Multiple Sklerose (PPMS)\\\", \\\"sekundär progrediente Multiple Sklerose (SPMS)\\\" and \\\"schubförmig remittierende Multiple Sklerose (RRMS)\\\".\"\n",
    "                        \"The type is provided in the text you just have to extract it. If you cannot match a type exactly answer with \\\"not enough info\\\".\"\n",
    "                        \"Your answer should solely consist of either \\\"primär progrediente Multiple Sklerose (PPMS)\\\", \\\"sekundär progrediente Multiple Sklerose (SPMS)\\\" \"\n",
    "                        \"\\schubförmige remittierende Multiple Sklerose (RRMS)\\\", or \\\"not enough info\\\".\"\n",
    "                        \"\\nHere is the medical report:\\n\"\n",
    "                    )\n",
    "    input = base_prompt.format(system_prompt = system_prompt, instruction = instruction, input =  report)\n",
    "\n",
    "    return input"
   ]
  },
  {
   "cell_type": "code",
   "execution_count": 16,
   "metadata": {},
   "outputs": [
    {
     "name": "stdout",
     "output_type": "stream",
     "text": [
      "Starting Inference\n"
     ]
    },
    {
     "name": "stderr",
     "output_type": "stream",
     "text": [
      " 50%|█████     | 1/2 [00:00<00:00,  1.18it/s]"
     ]
    },
    {
     "name": "stdout",
     "output_type": "stream",
     "text": [
      "GPU 0: Tesla V100-SXM2-32GB\n",
      "   Total Memory: 31.74 GB\n",
      "   Free Memory: 26.60 GB\n",
      "   Allocated Memory : 3.88 GB\n",
      "   Reserved Memory : 4.24 GB\n"
     ]
    },
    {
     "name": "stderr",
     "output_type": "stream",
     "text": [
      "100%|██████████| 2/2 [00:01<00:00,  1.18it/s]\n"
     ]
    },
    {
     "name": "stdout",
     "output_type": "stream",
     "text": [
      "Finished Inference\n",
      "['', '']\n",
      "[' ', ' ']\n",
      "Starting Hidden State Calculation\n"
     ]
    },
    {
     "name": "stderr",
     "output_type": "stream",
     "text": [
      "100%|██████████| 2/2 [00:00<00:00,  8.47it/s]"
     ]
    },
    {
     "name": "stdout",
     "output_type": "stream",
     "text": [
      "Finished Hidden State Calculation\n"
     ]
    },
    {
     "name": "stderr",
     "output_type": "stream",
     "text": [
      "\n"
     ]
    }
   ],
   "source": [
    "results = single_round_inference(reports = df_line[\"train\"].select(range(2))[\"text\"],\n",
    "                                 model=model, \n",
    "                                 tokenizer= tokenizer,\n",
    "                                 format_fun = zero_shot_base,\n",
    "                                generation_config = generation_config,\n",
    "                                 prefix = \"[/INST]\\nThe type of multiple sclerosis stated in the german medical report is: \",\n",
    "                                device = device)"
   ]
  },
  {
   "cell_type": "markdown",
   "metadata": {},
   "source": [
    "### Instruction\n",
    "\n",
    "Based on the paper of the creators of Llama2-MedTuned\n",
    "\n",
    "@misc{rohanian2023exploring,\r\n",
    "      title={Exploring the Effectiveness of Instruction Tuning in Biomedical Language Processing}, \r\n",
    "      author={Omid Rohanian and Mohammadmahdi Nouriborji and David A. Clifton},\r\n",
    "      year={2023},\r\n",
    "      eprint={2401.00579},\r\n",
    "      archivePrefix={arXiv},\r\n",
    "      primaryClass={cs\n",
    "\n",
    "Formulating the task as an instruction is closer to the fine-tuning of the model..CL}\r\n",
    "}"
   ]
  },
  {
   "cell_type": "code",
   "execution_count": 17,
   "metadata": {},
   "outputs": [],
   "source": [
    "def zero_shot_instruction(report:str)->str:\n",
    "    \"\"\"Zero-shot instruction for the MS extraction task\n",
    "    \n",
    "    Args:\n",
    "        report (str): medical report\n",
    "        \n",
    "        Returns:\n",
    "            str: reformatted medical report with instruction\n",
    "            \n",
    "            \"\"\"\n",
    "    instruction_base_prompt = \"<s>[INST]\\n### Instruction:\\n{instruction}\\n\\n### Input:\\n{input}[/INST]\\n\\n### Output:\\n\"\n",
    "    task_instruction = (\"Your task is to extract the type of multiple Sclerosis (MS) stated in a German medical report. There are 3 types: \"\n",
    "                        \"\\\"primär progrediente Multiple Sklerose (PPMS)\\\", \\\"sekundär progrediente Multiple Sklerose (SPMS)\\\" and \\\"schubförmig remittierende Multiple Sklerose (RRMS)\\\".\"\n",
    "                        \"The type is provided in the text you just have to extract it. If you cannot match a type exactly answer with \\\"not enough info\\\".\"\n",
    "                        \"Your answer should solely consist of either \\\"primär progrediente Multiple Sklerose (PPMS)\\\", \\\"sekundär progrediente Multiple Sklerose (SPMS)\\\" \"\n",
    "                        \"\\schubförmige remittierende Multiple Sklerose (RRMS)\\\", or \\\"not enough info\\\".\"\n",
    "                        \"\\nHere is the medical report:\\n\"\n",
    "                    )\n",
    "    input = instruction_base_prompt.format(instruction = task_instruction, input =  report)\n",
    "\n",
    "    return input\n"
   ]
  },
  {
   "cell_type": "code",
   "execution_count": 18,
   "metadata": {},
   "outputs": [
    {
     "name": "stdout",
     "output_type": "stream",
     "text": [
      "Starting Inference\n"
     ]
    },
    {
     "name": "stderr",
     "output_type": "stream",
     "text": [
      " 50%|█████     | 1/2 [00:01<00:01,  1.11s/it]"
     ]
    },
    {
     "name": "stdout",
     "output_type": "stream",
     "text": [
      "GPU 0: Tesla V100-SXM2-32GB\n",
      "   Total Memory: 31.74 GB\n",
      "   Free Memory: 26.79 GB\n",
      "   Allocated Memory : 3.82 GB\n",
      "   Reserved Memory : 4.06 GB\n"
     ]
    },
    {
     "name": "stderr",
     "output_type": "stream",
     "text": [
      "100%|██████████| 2/2 [00:03<00:00,  1.90s/it]\n"
     ]
    },
    {
     "name": "stdout",
     "output_type": "stream",
     "text": [
      "Finished Inference\n",
      "['not enough info', 'indent : o\\nmri : o\\n01/2016: : o']\n",
      "['not enough info', 'indent : o\\nmri : o\\n01/2016: : o']\n",
      "Starting Hidden State Calculation\n"
     ]
    },
    {
     "name": "stderr",
     "output_type": "stream",
     "text": [
      "100%|██████████| 2/2 [00:00<00:00,  3.27it/s]"
     ]
    },
    {
     "name": "stdout",
     "output_type": "stream",
     "text": [
      "Finished Hidden State Calculation\n"
     ]
    },
    {
     "name": "stderr",
     "output_type": "stream",
     "text": [
      "\n"
     ]
    }
   ],
   "source": [
    "results = single_round_inference(reports = df_line[\"train\"].select(range(2))[\"text\"],\n",
    "                                 model=model, \n",
    "                                 tokenizer= tokenizer,\n",
    "                                 format_fun = zero_shot_instruction,\n",
    "                                generation_config = generation_config,\n",
    "                                 prefix = \"[/INST]\\n\\n### Output:\\n\",\n",
    "                                device = device)"
   ]
  },
  {
   "cell_type": "markdown",
   "metadata": {},
   "source": [
    "## Few Shot\n",
    "\n",
    "Original Paper suggesting this:\n",
    "\n",
    "@misc{brown2020language,\r\n",
    "      title={Language Models are Few-Shot Learners}, \r\n",
    "      author={Tom B. Brown and Benjamin Mann and Nick Ryder and Melanie Subbiah and Jared Kaplan and Prafulla Dhariwal and Arvind Neelakantan and Pranav Shyam and Girish Sastry and Amanda Askell and Sandhini Agarwal and Ariel Herbert-Voss and Gretchen Krueger and Tom Henighan and Rewon Child and Aditya Ramesh and Daniel M. Ziegler and Jeffrey Wu and Clemens Winter and Christopher Hesse and Mark Chen and Eric Sigler and Mateusz Litwin and Scott Gray and Benjamin Chess and Jack Clark and Christopher Berner and Sam McCandlish and Alec Radford and Ilya Sutskever and Dario Amodei},\r\n",
    "      year={2020},\r\n",
    "      eprint={2005.14165},\r\n",
    "      archivePrefix={arXiv},\r\n",
    "      primaryClass={cs.CL}\r\n",
    "}"
   ]
  },
  {
   "cell_type": "markdown",
   "metadata": {},
   "source": [
    "### Vanilla"
   ]
  },
  {
   "cell_type": "code",
   "execution_count": 13,
   "metadata": {},
   "outputs": [],
   "source": [
    "def few_shot_base(report:str)->str:\n",
    "    \"\"\"Few Shot base for the MS extraction task\n",
    "\n",
    "    Args:\n",
    "        report (str): medical report\n",
    "\n",
    "    Returns:\n",
    "        str: reformatted medical report with base\n",
    "\n",
    "    \"\"\"\n",
    "    base_prompt = \"<s>[INST]<<SYS>>{system_prompt}<</SYS>>\\n\\n{instruction}Report:\\n{input}[/INST]\\nDiagnosis:\\n\"\n",
    "\n",
    "    rrms = 'Schubförmig-remittierende Multiple Sklerose, EM 01/2013, ED 10/2015\\nINDENT EDSS 05/2020: 2.0 [...]'\n",
    "    spms = '1. Sekundär progrediente schubförmige Multiple Sklerose [...]'\n",
    "    ppms = '1. Primär progrediente Multiple Sklerose, EM 1992, ED 1996, aktuell EDSS 7.0 [...]'\n",
    "    no_ms = '[...] INDENT MRI 07/2014: Progrediente supratentorielle MS-Plaques mit Befund-Progredienz im Bereich der Radiatio optica beidseits. [...]'\n",
    "\n",
    "    examples = [ppms, spms, rrms, no_ms]\n",
    "\n",
    "    labels = [\"Schubförmig remittierende Multiple Sklerose (RRMS)\",\n",
    "              \"Sekundär progrediente Multiple Sklerose (SPMS)\",\n",
    "              \"Primär progrediente Multiple Sklerosis (PPMS)\", \n",
    "              \"not enough info\"]\n",
    "    \n",
    "    system_prompt = (\n",
    "    \"\\nYou are a helpful, respectful and honest assistant. Always answer as helpfully as possible, while being safe. \"\n",
    "    \"Your answers should not include any harmful, unethical, racist, sexist, toxic, dangerous, or illegal content. \"\n",
    "    \"Please ensure that your responses are socially unbiased and positive in nature.\\n\\nIf a question does not make \"\n",
    "    \"any sense, or is not factually coherent, explain why instead of answering something not correct. If you don’t \"\n",
    "    \"know the answer to a question, please don’t share false information.\\n\"\n",
    "    )\n",
    "\n",
    "    instruction = (\n",
    "       \"Your task is to extract the type of multiple Sclerosis (MS) stated in a German medical report. There are 3 types: \"\n",
    "        \"\\\"primär progrediente Multiple Sklerose (PPMS)\\\", \\\"sekundär progrediente Multiple Sklerose (SPMS)\\\" and \\\"schubförmig remittierende Multiple Sklerose (RRMS)\\\".\"\n",
    "        \"The type is provided in the text you just have to extract it. If you cannot match a type exactly answer with \\\"not enough info\\\".\"\n",
    "        \"Your answer should solely consist of either \\\"primär progrediente Multiple Sklerose (PPMS)\\\", \\\"sekundär progrediente Multiple Sklerose (SPMS)\\\" \"\n",
    "        \"\\\"schubförmige remittierende Multiple Sklerose (RRMS)\\\", or \\\"not enough info\\\".\"\n",
    "        \"To help you with your task, here are a few excerpts from reports that indiciate what output you should produce:\\n\\n\"\n",
    "        )\n",
    "    \n",
    "    for example, label in zip(examples, labels):\n",
    "        instruction += f\"Report:\\n{example}\\nDiagnosis:\\n{label}\\n\\n\"\n",
    "    \n",
    "    input = base_prompt.format(system_prompt = system_prompt, instruction = instruction, input =  report)\n",
    "    input + \"Diagnosis:\\n\"\n",
    "\n",
    "    return input\n"
   ]
  },
  {
   "cell_type": "code",
   "execution_count": 14,
   "metadata": {},
   "outputs": [
    {
     "name": "stderr",
     "output_type": "stream",
     "text": [
      "100%|██████████| 2/2 [00:12<00:00,  6.04s/it]\n"
     ]
    }
   ],
   "source": [
    "results = single_round_inference(df_line[\"train\"].filter(lambda e: e[\"labels\"] != 3).select(range(2))[\"text\"], model, tokenizer, few_shot_base)"
   ]
  },
  {
   "cell_type": "markdown",
   "metadata": {},
   "source": [
    "### Instruction"
   ]
  },
  {
   "cell_type": "code",
   "execution_count": 16,
   "metadata": {},
   "outputs": [],
   "source": [
    "def few_shot_instruct(report:str)->str:\n",
    "    \"\"\"Few Shot base for the MS extraction task\n",
    "\n",
    "    Args:\n",
    "        report (str): medical report\n",
    "\n",
    "    Returns:\n",
    "        str: reformatted medical report with base\n",
    "\n",
    "    \"\"\"\n",
    "    base_prompt = \"<s>[INST]### Instruction:\\n{instruction}### Input:\\n{input}[/INST]\\n### Output:\\n\"\n",
    "\n",
    "    rrms = 'Schubförmig-remittierende Multiple Sklerose, EM 01/2013, ED 10/2015\\nINDENT EDSS 05/2020: 2.0 [...]'\n",
    "    spms = '1. Sekundär progrediente schubförmige Multiple Sklerose [...]'\n",
    "    ppms = '1. Primär progrediente Multiple Sklerose, EM 1992, ED 1996, aktuell EDSS 7.0 [...]'\n",
    "    no_ms = '[...] INDENT MRI 07/2014: Progrediente supratentorielle MS-Plaques mit Befund-Progredienz im Bereich der Radiatio optica beidseits. [...]'\n",
    "\n",
    "    examples = [ppms, spms, rrms, no_ms]\n",
    "\n",
    "    labels = [\"Schubförmig remittierende Multiple Sklerose (RRMS)\",\n",
    "              \"Sekundär progrediente Multiple Sklerose (SPMS)\",\n",
    "              \"Primär progrediente Multiple Sklerosis (PPMS)\", \n",
    "              \"not enough info\"]\n",
    "\n",
    "    instruction = (\n",
    "        \"Your task is to extract the type of multiple Sclerosis (MS) stated in a German medical report. There are 3 types: \"\n",
    "        \"\\\"primär progrediente Multiple Sklerose (PPMS)\\\", \\\"sekundär progrediente Multiple Sklerose (SPMS)\\\" and \\\"schubförmig remittierende Multiple Sklerose (RRMS)\\\".\"\n",
    "        \"The type is provided in the text you just have to extract it. If you cannot match a type exactly answer with \\\"not enough info\\\".\"\n",
    "        \"Your answer should solely consist of either \\\"primär progrediente Multiple Sklerose (PPMS)\\\", \\\"sekundär progrediente Multiple Sklerose (SPMS)\\\" \"\n",
    "        \"\\\"schubförmige remittierende Multiple Sklerose (RRMS)\\\", or \\\"not enough info\\\".\"\n",
    "        \"To help you with your task, here are a few excerpts from reports that indiciate what output you should produce:\\n\\n\"\n",
    "        )\n",
    "    \n",
    "    for example, label in zip(examples, labels):\n",
    "        instruction += f\"### Input:\\n{example}\\n### Output:\\n{label}\\n\\n\"\n",
    "    \n",
    "    input = base_prompt.format(instruction = instruction, input =  report)\n",
    "\n",
    "    return input\n"
   ]
  },
  {
   "cell_type": "code",
   "execution_count": 17,
   "metadata": {},
   "outputs": [
    {
     "name": "stderr",
     "output_type": "stream",
     "text": [
      "100%|██████████| 2/2 [00:10<00:00,  5.26s/it]\n"
     ]
    }
   ],
   "source": [
    "results = single_round_inference(df_line[\"train\"].filter(lambda e: e[\"labels\"] != 3).select(range(2))[\"text\"], model, tokenizer, few_shot_instruct)"
   ]
  },
  {
   "cell_type": "markdown",
   "metadata": {},
   "source": [
    "## 2 Steps"
   ]
  },
  {
   "cell_type": "code",
   "execution_count": 41,
   "metadata": {},
   "outputs": [],
   "source": [
    "def two_steps_one(report: str)->str:\n",
    "    \"\"\"Two Steps One for the MS extraction task. Encodes the report for first turn of the dialogue.\n",
    "\n",
    "    Args:\n",
    "        report (str): medical report\n",
    "\n",
    "    Returns:\n",
    "        str: reformatted medical report with base\n",
    "\n",
    "    \"\"\"\n",
    "    base_prompt = \"<s>[INST]<<SYS>>{system_prompt}<</SYS>>\\n\\n{instruction}{input}[/INST]\"\n",
    "    system_prompt =  (\"\\nYou are a helpful, respectful and honest assistant. Always answer as helpfully as possible, while being safe. \"\n",
    "                      \"Your answers should not include any harmful, unethical, racist, sexist, toxic, dangerous, or illegal content. \"\n",
    "                       \"Please ensure that your responses are socially unbiased and positive in nature.\\n\\nIf a question does not make \"\n",
    "                        \"any sense, or is not factually coherent, explain why instead of answering something not correct. If you don’t \"\n",
    "                        \"know the answer to a question, please don’t share false information.\\n\"\n",
    "                        )\n",
    "    instruction = (\"Your task is to extract relevant information about the multiple sclerosis diagnosis from the provided German medical report. \"\n",
    "                   \"Identify and summarize all sections discussing \\\"Multiple Sklerose\\\" paying attention to the exact type of multiple sclerosis. \"\n",
    "                   \"There are three types:\\n\"\n",
    "                   \"primär progrediente Multiple Sklerose (PPMS)\\n\"\n",
    "                   \"sekundär progrediente Multiple Sklerose (SPMS)\\n\"\n",
    "                   \"schubförmige Multiple Sklerose (RRMS)\\n\"\n",
    "                   \"If the report lacks information about multiple sclerosis, respond with \\\"not enough info\\\". \"\n",
    "                   \"\\nHere is the Medical Report:\\n \"\n",
    "                   )\n",
    "                   \n",
    "    input = base_prompt.format(system_prompt = system_prompt, instruction = instruction, input =  report)\n",
    "    return input\n",
    "\n",
    "def two_steps_two(chat_history: str)->str:\n",
    "    \"\"\"Two Steps Two for the MS extraction task. Encodes the chat history for second turn of the dialogue.\n",
    "\n",
    "    Args:\n",
    "        chat_history (str): chat history\n",
    "\n",
    "    Returns:\n",
    "        str: reformatted medical report with base\n",
    "\n",
    "    \"\"\"\n",
    "    base_prompt = \"<s>[INST]\\n\\n{instruction}\\n{summary}[/INST]\\nGiven the summary the most likely diagnosis is: \"\n",
    "    instruction = (\n",
    "                   \"Given a summary of a medical report describing a patient's condition related to multiple sclerosis, provide the most likely diagnosis. The possible diagnoses are:\\n\"\n",
    "                   \"- primär progrediente Multiple Sklerose (PPMS)\\n\"\n",
    "                   \"- sekundär progrediente Multiple Sklerose (SPMS)\\n\"\n",
    "                   \"- schubförmige Multiple Sklerose (RRMS)\\n\"\n",
    "                   \"- not enough info\\n\"\n",
    "                   \"Consider the information provided in the summary and select the diagnosis that best fits the patient's condition. If the summary does not contain sufficient information to make a diagnosis, choose \\\"not enough info.\\\" \"\n",
    "                   \"Here is the summary:\\n\"\n",
    "                   )\n",
    "    input = base_prompt.format(instruction = instruction, summary = chat_history)\n",
    "\n",
    "    return input\n",
    "\n"
   ]
  },
  {
   "cell_type": "code",
   "execution_count": 38,
   "metadata": {},
   "outputs": [],
   "source": [
    "def multi_round_inference(reports:list[str], \n",
    "                           model:AutoModelForCausalLM, \n",
    "                           tokenizer:AutoTokenizer, \n",
    "                           format_fun1:Callable[str,str],\n",
    "                          format_fun2:Callable[str,str],\n",
    "                           output_hidden_states:bool = True,\n",
    "                          max_new_tokens:int = 20)->pd.DataFrame:\n",
    "    \n",
    "    \"\"\"Multi Round inference for the MS extraction task\n",
    "    \n",
    "    Args:\n",
    "        reports (list[str]): list of medical reports\n",
    "        model (AutoModelForCausalLM): model\n",
    "        tokenizer (AutoTokenizer): tokenizer\n",
    "        format_fun1 (Callable[str,str]): function to convert input text to desired prompt format\n",
    "        format_fun2 (Callable[str,str]): function to convert chat history to desired prompt format\n",
    "        output_hidden_states (bool); whether hidden states should be calculated. Defaults to True\n",
    "        max_new_tokens (int): The number of tokens to be generated.\n",
    "        \n",
    "    Returns:\n",
    "        pd.DataFrame: results of inference\n",
    "            \n",
    "    \"\"\"\n",
    "\n",
    "    output_round1 = single_round_inference(reports, model, tokenizer, format_fun1, output_hidden_states = False, max_new_tokens = 2)\n",
    "    chat_history = output_round1[\"whole_prompt\"]\n",
    "\n",
    "    return single_round_inference(chat_history, model, tokenizer, format_fun2, output_hidden_states = output_hidden_states, max_new_tokens = max_new_tokens)"
   ]
  },
  {
   "cell_type": "code",
   "execution_count": 6,
   "metadata": {},
   "outputs": [
    {
     "ename": "NameError",
     "evalue": "name 'df_line' is not defined",
     "output_type": "error",
     "traceback": [
      "\u001b[0;31m---------------------------------------------------------------------------\u001b[0m",
      "\u001b[0;31mNameError\u001b[0m                                 Traceback (most recent call last)",
      "Cell \u001b[0;32mIn[6], line 1\u001b[0m\n\u001b[0;32m----> 1\u001b[0m results \u001b[38;5;241m=\u001b[39m multi_round_inference(\u001b[43mdf_line\u001b[49m[\u001b[38;5;124m\"\u001b[39m\u001b[38;5;124mtrain\u001b[39m\u001b[38;5;124m\"\u001b[39m]\u001b[38;5;241m.\u001b[39mfilter(\u001b[38;5;28;01mlambda\u001b[39;00m e: e[\u001b[38;5;124m\"\u001b[39m\u001b[38;5;124mlabels\u001b[39m\u001b[38;5;124m\"\u001b[39m] \u001b[38;5;241m!=\u001b[39m \u001b[38;5;241m3\u001b[39m)\u001b[38;5;241m.\u001b[39mselect(\u001b[38;5;28mrange\u001b[39m(\u001b[38;5;241m2\u001b[39m))[\u001b[38;5;124m\"\u001b[39m\u001b[38;5;124mtext\u001b[39m\u001b[38;5;124m\"\u001b[39m], model, tokenizer, two_steps_one, two_steps_two, max_new_tokens \u001b[38;5;241m=\u001b[39m \u001b[38;5;241m2\u001b[39m)\n",
      "\u001b[0;31mNameError\u001b[0m: name 'df_line' is not defined"
     ]
    }
   ],
   "source": [
    "results = multi_round_inference(df_line[\"train\"].filter(lambda e: e[\"labels\"] != 3).select(range(2))[\"text\"], model, tokenizer, two_steps_one, two_steps_two, max_new_tokens = 2)"
   ]
  },
  {
   "cell_type": "markdown",
   "metadata": {},
   "source": [
    "# Outlines"
   ]
  },
  {
   "cell_type": "code",
   "execution_count": 61,
   "metadata": {},
   "outputs": [],
   "source": [
    "%load_ext autoreload\n",
    "%autoreload 2"
   ]
  },
  {
   "cell_type": "code",
   "execution_count": 62,
   "metadata": {},
   "outputs": [],
   "source": [
    "from transformers import BitsAndBytesConfig\n",
    "from outlines import samplers\n",
    "from torch.utils.data import DataLoader"
   ]
  },
  {
   "cell_type": "code",
   "execution_count": 7,
   "metadata": {},
   "outputs": [
    {
     "data": {
      "application/vnd.jupyter.widget-view+json": {
       "model_id": "7cf79f6842cb4b86b54fcac5baffcfd0",
       "version_major": 2,
       "version_minor": 0
      },
      "text/plain": [
       "Loading checkpoint shards:   0%|          | 0/3 [00:00<?, ?it/s]"
      ]
     },
     "metadata": {},
     "output_type": "display_data"
    }
   ],
   "source": [
    "quantization_config = BitsAndBytesConfig(load_in_4bit=True,\n",
    "                                            bnb_4bit_use_double_quant=True,\n",
    "                                            bnb_4bit_quant_type=\"nf4\",\n",
    "                                            bnb_4bit_compute_dtype=torch.bfloat16,\n",
    "                                            )\n",
    "model = models.transformers(\n",
    "    model_name=paths.MODEL_PATH/\"Llama2-MedTuned-13b\",\n",
    "    device=\"cuda\",\n",
    "    model_kwargs={\n",
    "        \"device_map\": \"auto\",\n",
    "        \"quantization_config\": quantization_config,\n",
    "        \"attn_implementation\": \"flash_attention_2\",\n",
    "    },\n",
    ")\n",
    "sampler = samplers.greedy()"
   ]
  },
  {
   "cell_type": "code",
   "execution_count": 48,
   "metadata": {},
   "outputs": [],
   "source": [
    "results_input = torch.load(paths.RESULTS_PATH/\"ms-diag/ms-diag_outlines_Llama2-MedTuned-7b_4bit_all_test_few_shot_vanilla_rag.pt\")"
   ]
  },
  {
   "cell_type": "code",
   "execution_count": 269,
   "metadata": {},
   "outputs": [],
   "source": [
    "# Load Task instructions, system prompt and examples\n",
    "with open(paths.DATA_PATH_PREPROCESSED/\"ms-diag/task_instruction.txt\", \"r\") as f:\n",
    "    task_instruction = f.read()\n",
    "\n",
    "with open(paths.DATA_PATH_PREPROCESSED/\"ms-diag/system_prompt.txt\", \"r\") as f:\n",
    "    system_prompt = f.read()\n",
    "\n",
    "with open(paths.DATA_PATH_PREPROCESSED/\"ms-diag/examples.json\", \"r\") as f:\n",
    "    examples = json.load(f)   "
   ]
  },
  {
   "cell_type": "code",
   "execution_count": 270,
   "metadata": {},
   "outputs": [
    {
     "data": {
      "text/plain": [
       "['Schubförmige Multiple Sklerose (EM, ED 12/2005), EDSS 1.0',\n",
       " 'Schubförmige Multiple Sklerose, EM 05/2018, ED 07/2018',\n",
       " 'Primär chronisch progrediente Multiple Sklerose, EM 2008, ED 2012, EDSS 4.0',\n",
       " 'Schubförmig-remittierende Multiple Sklerose, EM und ED 04/2007\\nINDENT EDSS 05/2019: 2.0',\n",
       " 'Multiple Sklerose, schubförmiger Verlauf (EM 2006, ED 06.08.2014)',\n",
       " 'Primär chronisch progrediente Multiple Sklerose (PPMS), EM 03/2017, ED 08/2017, EDSS 6.0',\n",
       " 'Schubförmige Multiple Sklerose (EM und ED 05/2013), EDSS 2.0',\n",
       " 'Schubförmige multiple Sklerose (ED Januar 2013)',\n",
       " 'V.a. primär progrediente Multiple Sklerose, EM 08/2016, ED 10/2018, EDSS 4.5',\n",
       " 'Schubförmig remittierende Multiple Sklerose (EM 09/14), EDSS 0.0',\n",
       " 'Schubförmige Multiple Sklerose (EM 05/2015, ED 07/2015)\\nEDSS: 2.0 (Pyz: 1.0; Sens: 2.0; Cerebral/Fatigue: 2.0)',\n",
       " ' Schubförmige Multiple Sklerose (EM 04/2010, ED 06/2010), EDSS: 2.0',\n",
       " 'Schubförmige Multiple Sklerose (RRMS), EM 05/2003, ED 08/2003, EDSS 2.0 ',\n",
       " 'Schubförmige Multiple Sklerose (ES und ED 4/03, aktueller EDSS 0.0)',\n",
       " 'Schubförmige Multiple Sklerose, EM 09/2020, ED 12/2020, EDSS 3.0 ',\n",
       " 'Schubförmige Multiple Sklerose\\nES 03, ED 10/2008 (gesichert nach McDonald Kriterien)',\n",
       " 'Schubförmige Multiple Sklerose, EM 2000, ED 2014, EDSS 1.0',\n",
       " 'Schubförmig verlaufende Multiple Sklerose, Erstmanifestation 10/2010, Erstdiagnose 02/2012 mit/bei:\\nINDENT EDSS 05/2017: 1.5',\n",
       " 'Schubförmig remittierende Multiple Sklerose (RRMS), EDSS 2.0 (EM 1993, ED 2003)',\n",
       " 'Hochgradiger V.a. entzündliche ZNS-Erkrankung ED 03.05.2019, EM 30.04.2019\\nINDENT ätiologisch: möglicherweise multiple Sklerose',\n",
       " 'Entzündliche ZNS-Erkrankung, möglicherweise Multiple Sklerose vom schubförmig-remittierenden Verlaufstyp (ED 12/2015 Spital Linth)',\n",
       " 'Multiple Sklerose mit vorherrschend schubförmigem Verlauf: Ohne Angabe einer akuten Exazerbation oder Progression',\n",
       " '1. Multiple Sklerose a.e. primär progredient, EM 2011, ED 03/2015, EDSS 3.5',\n",
       " 'Schubförmige Multiple Sklerose (EM 12/2009, ED 09/2010), aktueller EDSS 0',\n",
       " 'Schubförmig-remittierende Multiple Sklerose ',\n",
       " 'Vd.a. autoimmun-entzündliche ZNS-Ekrankung, am ehesten einer schubförmig-remittierenden multiplen Sklerose entsprechend (EM 1997):',\n",
       " 'Schubförmige Multiple Sklerose, EM 5/2015, ED 1/2016, EDSS 1.0',\n",
       " 'Schubförmige Multiple Sklerose, ED 07/2016',\n",
       " 'Chronisch-demyelinisierende ZNS-Erkrankung, EM 01/2016, ED 02/2018\\nINDENT ätiologisch: a.e. schubförmige Multiple Sklerose (McDonald Kriterien 2010 erfüllt, Ausschlussdiagnostik noch nicht komplettiert)',\n",
       " 'Schubförmige Multiple Sklerose (EM 12/2006, ED 06/2015), EDSS 3.0',\n",
       " 'Schubförmige Multiple Sklerose mit Residuen, EM 2000, ED 2006, EDSS 6.5',\n",
       " 'Multiple Sklerose, schubförmige Verlaufsform (EM 03/2015, ED 05/2015), EDSS 1.5',\n",
       " 'Multiple Sklerose mit sekundär progredientem Verlauf seit ca. 2004 (EM 1983, ED 1996)',\n",
       " 'INDENT Multiple Sklerose, schubförmiger Verlauf mit Residuen (ED: 9/2004)',\n",
       " 'Schubförmige Multiple Sklerose (EM 2002?/12/2004, ED 5/2009)',\n",
       " 'Sekundär progrediente Multiple Sklerose (EM 1998, ED 1999), EDSS 7.0',\n",
       " 'Schubförmige Multiple Sklerose (ED 01/2013), EDSS 0',\n",
       " 'Schubförmige Multiple Sklerose (EM 11/13, ED 1/2017) EDSS 1.5',\n",
       " 'Schubförmige Multiple Sklerose (EM vermutlich 2007; ED 10/09), EDSS 2.0',\n",
       " 'Schubförmige Multiple Sklerose EM und ED 08/2018, EDSS 2.5\\nINDENT EDSS 01/2021: 2.5',\n",
       " 'Schubförmige Multiple Sklerose, EM 06/2017, ED 07/2017, EDSS 1.0',\n",
       " 'Schubförmig verlaufende Multiple Sklerose (EM 10/2012), EDSS 1.0',\n",
       " 'Multiple Sklerose sekundär progredient mit überlagernden Schüben, EM 2005 ED 2006 EDSS 4.0',\n",
       " 'Schubförmige Multiple Sklerose EM 07/2016, ED 08/2017, EDSS 4.0',\n",
       " 'Multiple Sklerose (EM 05/2011, ED 09/2011)',\n",
       " 'Schubförmige Multiple Sklerose (EM 07/2015, ED 01/2017)']"
      ]
     },
     "execution_count": 270,
     "metadata": {},
     "output_type": "execute_result"
    }
   ],
   "source": [
    "results_input[\"text\"][:-12]"
   ]
  },
  {
   "cell_type": "code",
   "execution_count": 258,
   "metadata": {},
   "outputs": [],
   "source": [
    "def zero_shot_instruction(input:str)->str:\n",
    "    \"\"\"Zero-shot instruction for the MS extraction task\n",
    "    \n",
    "    Args:\n",
    "        input (str): user input (medical report)\n",
    "        system_prompt (str): system prompt\n",
    "        task_instruction (str): instruction for the task\n",
    "        \n",
    "        Returns:\n",
    "            str: reformatted medical report with instruction\n",
    "            \n",
    "    \"\"\"\n",
    "    \n",
    "\n",
    "    instruction_base_prompt = \"[INST]<<SYS>>{system_prompt}<</SYS>>\\n### Instruction:\\n{task_instruction}\\n\\n### Input:\\n{input}[/INST]\\n\\n### Output:\\n\"\n",
    "    \n",
    "    system_prompt = \"\"\"You are a helpful, respectful and honest assistant. Always answer as helpfully as possible, while being safe.\n",
    "Your answers should not include any harmful, unethical, racist, sexist, toxic, dangerous, or illegal content.\n",
    "Please ensure that your responses are socially unbiased and positive in nature.\n",
    "If a question does not makeany sense, or is not factually coherent, explain why instead of answering something not correct. \n",
    "If you don’t know the answer to a question, please don’t share false information.\n",
    "\"\"\"\n",
    "    task_instruction = \"\"\"Your task is to extract the diagnosis corresponding to a type of multiple sclerosis (MS) stated in a German medical report. The input for this task is a German medical report, and the output should be the type of MS.\n",
    "There are three types of multiple sclerosis in German:\n",
    "- primär progrediente Multiple Sklerose (PPMS)\n",
    "- sekundär progrediente Multiple Sklerose (SPMS)\n",
    "- schubförmig remittierende Multiple Sklerose (RRMS)\n",
    "\n",
    "The type is provided in the text, and your task is to extract it. If you cannot match a type exactly, please answer with 'not enough info'.\n",
    "Your answer should solely consist of one of the following:\n",
    "- primär progrediente Multiple Sklerose\n",
    "- sekundär progrediente Multiple Sklerose\n",
    "- schubförmige remittierende Multiple Sklerose\n",
    "- not enough info\n",
    "\"\"\"\n",
    "    \n",
    "    input = instruction_base_prompt.format(system_prompt = system_prompt, task_instruction = task_instruction, input = input)\n",
    "\n",
    "    return input\n"
   ]
  },
  {
   "cell_type": "code",
   "execution_count": 74,
   "metadata": {},
   "outputs": [],
   "source": [
    "def few_shot_instruction(input:str, task_instruction:str, examples:list[dict], *args, **kwargs)->str:\n",
    "    \"\"\"Few Shot Instruction for the MS extraction task\n",
    "\n",
    "    Args:\n",
    "        input (str): user input (medical report)\n",
    "        system_prompt (str): system prompt\n",
    "        task_instruction (str): instruction for the task\n",
    "        examples (list[dict]): examples for the task. Each dict contains a text and a label.\n",
    "\n",
    "    Returns:\n",
    "        str: reformatted medical report with examples and instruction\n",
    "\n",
    "    \"\"\"\n",
    "    base_prompt = (\"[INST]n### Instruction:\\n{task_instruction}\\n\"\n",
    "                   \"Here are some examples to help you understand the task:\\n{examples}\\n\"\n",
    "                   \"Please provide your answer for the following Input.\\n\\n\"\n",
    "                   \"### Input:\\n{input}\\n\\n### Output:\\n[/INST]\")\n",
    "\n",
    "    insert_examples = \"\"\n",
    "\n",
    "    for example in examples:\n",
    "        text = example[\"text\"]\n",
    "        label = example[\"labels\"]\n",
    "        insert_examples += f\"Input:\\n{text}\\nOutput:\\n{label}\\n\\n\"\n",
    "    \n",
    "    input = base_prompt.format(task_instruction = task_instruction, examples = insert_examples, input = input)\n",
    "\n",
    "    return input"
   ]
  },
  {
   "cell_type": "code",
   "execution_count": 232,
   "metadata": {},
   "outputs": [],
   "source": [
    "def zero_shot_base(input:str)->str:\n",
    "    \"\"\"Zero-shot base for Llama prompting\n",
    "\n",
    "    Args:\n",
    "        input (str): user input (medical report)\n",
    "        system_prompt (str): system prompt\n",
    "        task_instruction (str): instruction for the task\n",
    "\n",
    "    Returns:\n",
    "        str: reformatted medical report\n",
    "\n",
    "    \"\"\"\n",
    "    base_prompt = \"[INST]{task_instruction}\\nHere is the Input:\\n{input}[/INST] Output:\\n\"\n",
    "\n",
    "    task_instruction = \"\"\"Your task is to extract the diagnosis corresponding to a type of multiple sclerosis (MS) stated in a German medical report. The input for this task is a German medical report, and the output should be the type of MS.\n",
    "There are three types of multiple sclerosis in German:\n",
    "- primär progrediente Multiple Sklerose (PPMS)\n",
    "- sekundär progrediente Multiple Sklerose (SPMS)\n",
    "- schubförmig remittierende Multiple Sklerose (RRMS)\n",
    "\n",
    "The type is provided in the text, and your task is to extract it. If you cannot match a type exactly, please answer with 'not enough info'.\n",
    "Your answer should solely consist of one of the following:\n",
    "- primär progrediente Multiple Sklerose\n",
    "- sekundär progrediente Multiple Sklerose\n",
    "- schubförmige remittierende Multiple Sklerose\n",
    "- not enough info\n",
    "\"\"\"\n",
    "    \n",
    "    input = base_prompt.format(task_instruction = task_instruction, input =  input)\n",
    "\n",
    "    return input"
   ]
  },
  {
   "cell_type": "code",
   "execution_count": 52,
   "metadata": {},
   "outputs": [],
   "source": [
    "def zero_shot_instruction(report:str, task_instruction)->str:\n",
    "    \"\"\"Zero-shot instruction for the MS extraction task\n",
    "    \n",
    "    Args:\n",
    "        report (str): medical report\n",
    "        \n",
    "        Returns:\n",
    "            str: reformatted medical report with instruction\n",
    "            \n",
    "            \"\"\"\n",
    "    instruction_base_prompt = \"[INST]\\n### Instruction:\\n{instruction}\\n\\n### Input:\\n{input}[/INST]\\n\\n### Output:\\n\"\n",
    "\n",
    "    input = instruction_base_prompt.format(instruction = task_instruction, input =  report)\n",
    "\n",
    "    return input"
   ]
  },
  {
   "cell_type": "code",
   "execution_count": 197,
   "metadata": {},
   "outputs": [],
   "source": [
    "def zero_shot_instruction(report:str)->str:\n",
    "    \"\"\"Zero-shot instruction for the MS extraction task\n",
    "    \n",
    "    Args:\n",
    "        report (str): medical report\n",
    "        \n",
    "        Returns:\n",
    "            str: reformatted medical report with instruction\n",
    "            \n",
    "            \"\"\"\n",
    "    instruction_base_prompt = \"<s>[INST]\\n### Instruction:\\n{instruction}\\n\\n### Input:\\n{input}[/INST]\\n\\n### Output:\\n\"\n",
    "    task_instruction = (\"Your task is to extract the type of multiple Sclerosis (MS) stated in a German medical report. There are 3 types: \"\n",
    "                        \"\\\"primär progrediente Multiple Sklerose (PPMS)\\\", \\\"sekundär progrediente Multiple Sklerose (SPMS)\\\" and \\\"schubförmig remittierende Multiple Sklerose (RRMS)\\\".\"\n",
    "                        \"The type is provided in the text you just have to extract it. If you cannot match a type exactly answer with \\\"not enough info\\\".\"\n",
    "                        \"Your answer should solely consist of either \\\"primär progrediente Multiple Sklerose (PPMS)\\\", \\\"sekundär progrediente Multiple Sklerose (SPMS)\\\" \"\n",
    "                        \"\\schubförmige remittierende Multiple Sklerose (RRMS)\\\", or \\\"not enough info\\\".\"\n",
    "                        \"\\nHere is the medical report:\\n\"\n",
    "                    )\n",
    "    input = instruction_base_prompt.format(instruction = task_instruction, input =  report)\n",
    "\n",
    "    return input"
   ]
  },
  {
   "cell_type": "code",
   "execution_count": 176,
   "metadata": {},
   "outputs": [],
   "source": [
    "# ms_data_diag = load_ms_data(\"line\")[\"test\"].filter(lambda e: e[\"labels\"] != 3)\n",
    "# ms_data_no_diag = load_ms_data(\"line\")[\"test\"].filter(lambda e: e[\"labels\"] == 3).select(range(15))\n",
    "# ms_data = concatenate_datasets([ms_data_diag, ms_data_no_diag])\n",
    "ms_data = load_ms_data(\"all\")[\"test\"]"
   ]
  },
  {
   "cell_type": "code",
   "execution_count": 316,
   "metadata": {},
   "outputs": [
    {
     "data": {
      "text/plain": [
       "<module 'src.utils' from '/cluster/home/eglimar/inf-extr/notebooks/ms-prediction/../../src/utils.py'>"
      ]
     },
     "execution_count": 316,
     "metadata": {},
     "output_type": "execute_result"
    }
   ],
   "source": [
    "import importlib\n",
    "import src.utils\n",
    "importlib.reload(src.utils)"
   ]
  },
  {
   "cell_type": "code",
   "execution_count": 317,
   "metadata": {},
   "outputs": [],
   "source": [
    "from src.utils import get_format_fun, format_prompt"
   ]
  },
  {
   "cell_type": "code",
   "execution_count": 326,
   "metadata": {},
   "outputs": [],
   "source": [
    "format_fun = get_format_fun(\"few_shot_instruction\")"
   ]
  },
  {
   "cell_type": "code",
   "execution_count": 327,
   "metadata": {},
   "outputs": [],
   "source": [
    "inputs = format_prompt(results_input[\"text\"][:-12], format_fun, task_instruction = task_instruction, system_prompt = system_prompt, examples = examples)"
   ]
  },
  {
   "cell_type": "code",
   "execution_count": 329,
   "metadata": {},
   "outputs": [],
   "source": [
    "# inputs = [zero_shot_instruction(text) for text in results_input[\"text\"][:-12]]\n",
    "test_loader = DataLoader(inputs, batch_size = 8, shuffle = False)\n",
    "\n",
    "sampler = samplers.greedy()\n",
    "\n",
    "generator = outlines.generate.choice(model, [\"primär progrediente Multiple Sklerose (PPMS)\",\n",
    "                                             \"sekundär progrediente Multiple Sklerose (SPMS)\",\n",
    "                                            \"schubförmig remittierende Multiple Sklerose (RRMS)\",\n",
    "                                            \"other\"], sampler=sampler)"
   ]
  },
  {
   "cell_type": "code",
   "execution_count": 330,
   "metadata": {},
   "outputs": [
    {
     "name": "stdout",
     "output_type": "stream",
     "text": [
      "[INST]<<SYS>>You are a helpful, respectful and honest assistant. Always answer as helpfully as possible, while being safe.\n",
      "Your answers should not include any harmful, unethical, racist, sexist, toxic, dangerous, or illegal content.\n",
      "Please ensure that your responses are socially unbiased and positive in nature.\n",
      "If a question does not makeany sense, or is not factually coherent, explain why instead of answering something not correct. \n",
      "If you don’t know the answer to a question, please don’t share false information.\n",
      "<</SYS>>\n",
      "\n",
      "### Instruction:\n",
      "Your task is to extract the diagnosis corresponding to a type of multiple sclerosis (MS) stated in a German medical report. The input for this task is a German medical report, and the output should be the type of MS.\n",
      "There are three types of multiple sclerosis in German:\n",
      "- primär progrediente Multiple Sklerose (PPMS)\n",
      "- sekundär progrediente Multiple Sklerose (SPMS)\n",
      "- schubförmig remittierende Multiple Sklerose (RRMS)\n",
      "\n",
      "The type is provided in the text, and your task is to extract it. If you cannot match a type exactly, please answer with 'other'.\n",
      "Your answer should solely consist of one of the following:\n",
      "- primär progrediente Multiple Sklerose\n",
      "- sekundär progrediente Multiple Sklerose\n",
      "- schubförmige remittierende Multiple Sklerose\n",
      "- other\n",
      "\n",
      "Here are some examples to help you understand the task:\n",
      "Input:\n",
      "Primär chronisch progrediente Multiple Sklerose, EM 2008, ED 2012, EDSS 4.0\n",
      "aktuell: klinisch: stabil, radiologisch: stabil, Progression: ja (nach Lublin et al. 2013)\n",
      "INDENT Besserung der Kraft im lin...\n",
      "Output:\n",
      "primär progrediente Multiple Sklerose\n",
      "\n",
      "Input:\n",
      "Schubförmige Multiple Sklerose (EM, ED 12/2005), EDSS 1.0\n",
      "klinisch fraglich aktiv, radiologisch aktiv, keine Progression (nach Lubin et al. 2013)\n",
      "klinisch aktuell: Verschwommensehen bds angegeben, Sch...\n",
      "Output:\n",
      "schubförmige remittierende Multiple Sklerose\n",
      "\n",
      "Input:\n",
      "Multiple Sklerose mit sekundär progredientem Verlauf seit ca. 2004 (EM 1983, ED 1996)\n",
      "klinisch:\n",
      "aktuell spastische Hemiparese links, stark eingeschränkte Gehstrecke (Rollator, Rollauto für längere Str...\n",
      "Output:\n",
      "sekundär progrediente Multiple Sklerose\n",
      "\n",
      "Input:\n",
      "St. n. Bimaxilläre Retrognathie mit/bei:\n",
      "INDENT St. n. Le Fort I Osteotomie und sagittale Spaltung Unterkiefer beidseits am 08.02.2011...\n",
      "Output:\n",
      "other\n",
      "\n",
      "\n",
      "Please provide your answer for the following Input.\n",
      "\n",
      "### Input:\n",
      "Schubförmige Multiple Sklerose (EM, ED 12/2005), EDSS 1.0[/INST]\n",
      "\n",
      "### Output:\n",
      "\n"
     ]
    }
   ],
   "source": [
    "print(inputs[0])"
   ]
  },
  {
   "cell_type": "code",
   "execution_count": 331,
   "metadata": {},
   "outputs": [
    {
     "name": "stderr",
     "output_type": "stream",
     "text": [
      "100%|██████████| 6/6 [05:07<00:00, 51.26s/it]\n"
     ]
    }
   ],
   "source": [
    "results = []\n",
    "for batch in tqdm(test_loader):\n",
    "    answer = generator(batch)\n",
    "    results.extend(answer)"
   ]
  },
  {
   "cell_type": "code",
   "execution_count": 332,
   "metadata": {},
   "outputs": [
    {
     "data": {
      "text/plain": [
       "['schubförmig remittierende Multiple Sklerose RRMS',\n",
       " 'schubförmig remittierende Multiple Sklerose RRMS',\n",
       " 'primär progrediente Multiple Sklerose PPMS',\n",
       " 'schubförmig remittierende Multiple Sklerose RRMS',\n",
       " 'schubförmig remittierende Multiple Sklerose RRMS',\n",
       " 'primär progrediente Multiple Sklerose PPMS',\n",
       " 'schubförmig remittierende Multiple Sklerose RRMS',\n",
       " 'schubförmig remittierende Multiple Sklerose RRMS',\n",
       " 'primär progrediente Multiple Sklerose PPMS',\n",
       " 'schubförmig remittierende Multiple Sklerose RRMS',\n",
       " 'schubförmig remittierende Multiple Sklerose RRMS',\n",
       " 'schubförmig remittierende Multiple Sklerose RRMS',\n",
       " 'schubförmig remittierende Multiple Sklerose RRMS',\n",
       " 'schubförmig remittierende Multiple Sklerose RRMS',\n",
       " 'schubförmig remittierende Multiple Sklerose RRMS',\n",
       " 'schubförmig remittierende Multiple Sklerose RRMS',\n",
       " 'schubförmig remittierende Multiple Sklerose RRMS',\n",
       " 'schubförmig remittierende Multiple Sklerose RRMS',\n",
       " 'schubförmig remittierende Multiple Sklerose RRMS',\n",
       " 'other',\n",
       " 'schubförmig remittierende Multiple Sklerose RRMS',\n",
       " 'schubförmig remittierende Multiple Sklerose RRMS',\n",
       " 'primär progrediente Multiple Sklerose PPMS',\n",
       " 'schubförmig remittierende Multiple Sklerose RRMS',\n",
       " 'schubförmig remittierende Multiple Sklerose RRMS',\n",
       " 'schubförmig remittierende Multiple Sklerose RRMS',\n",
       " 'schubförmig remittierende Multiple Sklerose RRMS',\n",
       " 'schubförmig remittierende Multiple Sklerose RRMS',\n",
       " 'schubförmig remittierende Multiple Sklerose RRMS',\n",
       " 'schubförmig remittierende Multiple Sklerose RRMS',\n",
       " 'schubförmig remittierende Multiple Sklerose RRMS',\n",
       " 'schubförmig remittierende Multiple Sklerose RRMS',\n",
       " 'sekundär progrediente Multiple Sklerose SPMS',\n",
       " 'schubförmig remittierende Multiple Sklerose RRMS',\n",
       " 'schubförmig remittierende Multiple Sklerose RRMS',\n",
       " 'sekundär progrediente Multiple Sklerose SPMS',\n",
       " 'schubförmig remittierende Multiple Sklerose RRMS',\n",
       " 'schubförmig remittierende Multiple Sklerose RRMS',\n",
       " 'schubförmig remittierende Multiple Sklerose RRMS',\n",
       " 'schubförmig remittierende Multiple Sklerose RRMS',\n",
       " 'schubförmig remittierende Multiple Sklerose RRMS',\n",
       " 'schubförmig remittierende Multiple Sklerose RRMS',\n",
       " 'schubförmig remittierende Multiple Sklerose RRMS',\n",
       " 'schubförmig remittierende Multiple Sklerose RRMS',\n",
       " 'other',\n",
       " 'schubförmig remittierende Multiple Sklerose RRMS']"
      ]
     },
     "execution_count": 332,
     "metadata": {},
     "output_type": "execute_result"
    }
   ],
   "source": [
    "results"
   ]
  },
  {
   "cell_type": "code",
   "execution_count": 335,
   "metadata": {},
   "outputs": [],
   "source": [
    "label_mappings = dict(zip([\"primär progrediente Multiple Sklerose PPMS\",\n",
    "                                             \"sekundär progrediente Multiple Sklerose SPMS\",\n",
    "                                            \"schubförmig remittierende Multiple Sklerose RRMS\",\n",
    "                                            \"other\"], [0,2,1,3]))"
   ]
  },
  {
   "cell_type": "code",
   "execution_count": 336,
   "metadata": {},
   "outputs": [],
   "source": [
    "results_mapped = [label_mappings[pred] for pred in results]"
   ]
  },
  {
   "cell_type": "code",
   "execution_count": 337,
   "metadata": {},
   "outputs": [],
   "source": [
    "outputs = {\"labels\": results_input[\"labels\"][:-12], \"preds\":results_mapped, \"text\": results_input[\"text\"][:-12]}\n",
    "# torch.save(outputs, paths.RESULTS_PATH/\"ms-diag\"/\"ms-diag_Llama2-MedTuned-13b_4bit_all_instruction_outlines\")"
   ]
  },
  {
   "cell_type": "code",
   "execution_count": 175,
   "metadata": {},
   "outputs": [],
   "source": [
    "outputs = torch.load(paths.RESULTS_PATH/\"ms-diag\"/\"ms-diag_Llama2-MedTuned-13b_4bit_all_instruction_outlines\")"
   ]
  },
  {
   "cell_type": "code",
   "execution_count": 27,
   "metadata": {},
   "outputs": [],
   "source": [
    "from sklearn.metrics import (classification_report)"
   ]
  },
  {
   "cell_type": "code",
   "execution_count": 338,
   "metadata": {},
   "outputs": [
    {
     "name": "stdout",
     "output_type": "stream",
     "text": [
      "              precision    recall  f1-score   support\n",
      "\n",
      "           0       1.00      1.00      1.00         4\n",
      "           1       0.97      0.95      0.96        39\n",
      "           2       1.00      0.67      0.80         3\n",
      "           3       0.00      0.00      0.00         0\n",
      "\n",
      "    accuracy                           0.93        46\n",
      "   macro avg       0.74      0.65      0.69        46\n",
      "weighted avg       0.98      0.93      0.95        46\n",
      "\n"
     ]
    },
    {
     "name": "stderr",
     "output_type": "stream",
     "text": [
      "/cluster/customapps/biomed/grlab/users/eglimar/software/virtualenvs/inf-extr-RuZI_Gck-py3.11/lib/python3.11/site-packages/sklearn/metrics/_classification.py:1509: UndefinedMetricWarning: Recall is ill-defined and being set to 0.0 in labels with no true samples. Use `zero_division` parameter to control this behavior.\n",
      "  _warn_prf(average, modifier, f\"{metric.capitalize()} is\", len(result))\n",
      "/cluster/customapps/biomed/grlab/users/eglimar/software/virtualenvs/inf-extr-RuZI_Gck-py3.11/lib/python3.11/site-packages/sklearn/metrics/_classification.py:1509: UndefinedMetricWarning: Recall is ill-defined and being set to 0.0 in labels with no true samples. Use `zero_division` parameter to control this behavior.\n",
      "  _warn_prf(average, modifier, f\"{metric.capitalize()} is\", len(result))\n",
      "/cluster/customapps/biomed/grlab/users/eglimar/software/virtualenvs/inf-extr-RuZI_Gck-py3.11/lib/python3.11/site-packages/sklearn/metrics/_classification.py:1509: UndefinedMetricWarning: Recall is ill-defined and being set to 0.0 in labels with no true samples. Use `zero_division` parameter to control this behavior.\n",
      "  _warn_prf(average, modifier, f\"{metric.capitalize()} is\", len(result))\n"
     ]
    }
   ],
   "source": [
    "print(classification_report(y_true = outputs[\"labels\"], y_pred = outputs[\"preds\"]))"
   ]
  },
  {
   "cell_type": "code",
   "execution_count": 339,
   "metadata": {},
   "outputs": [
    {
     "data": {
      "text/html": [
       "<div>\n",
       "<style scoped>\n",
       "    .dataframe tbody tr th:only-of-type {\n",
       "        vertical-align: middle;\n",
       "    }\n",
       "\n",
       "    .dataframe tbody tr th {\n",
       "        vertical-align: top;\n",
       "    }\n",
       "\n",
       "    .dataframe thead th {\n",
       "        text-align: right;\n",
       "    }\n",
       "</style>\n",
       "<table border=\"1\" class=\"dataframe\">\n",
       "  <thead>\n",
       "    <tr style=\"text-align: right;\">\n",
       "      <th></th>\n",
       "      <th>labels</th>\n",
       "      <th>preds</th>\n",
       "      <th>text</th>\n",
       "    </tr>\n",
       "  </thead>\n",
       "  <tbody>\n",
       "    <tr>\n",
       "      <th>0</th>\n",
       "      <td>1</td>\n",
       "      <td>1</td>\n",
       "      <td>Schubförmige Multiple Sklerose (EM, ED 12/2005...</td>\n",
       "    </tr>\n",
       "    <tr>\n",
       "      <th>1</th>\n",
       "      <td>1</td>\n",
       "      <td>1</td>\n",
       "      <td>Schubförmige Multiple Sklerose, EM 05/2018, ED...</td>\n",
       "    </tr>\n",
       "    <tr>\n",
       "      <th>2</th>\n",
       "      <td>0</td>\n",
       "      <td>0</td>\n",
       "      <td>Primär chronisch progrediente Multiple Skleros...</td>\n",
       "    </tr>\n",
       "    <tr>\n",
       "      <th>3</th>\n",
       "      <td>1</td>\n",
       "      <td>1</td>\n",
       "      <td>Schubförmig-remittierende Multiple Sklerose, E...</td>\n",
       "    </tr>\n",
       "    <tr>\n",
       "      <th>4</th>\n",
       "      <td>1</td>\n",
       "      <td>1</td>\n",
       "      <td>Multiple Sklerose, schubförmiger Verlauf (EM 2...</td>\n",
       "    </tr>\n",
       "    <tr>\n",
       "      <th>5</th>\n",
       "      <td>0</td>\n",
       "      <td>0</td>\n",
       "      <td>Primär chronisch progrediente Multiple Skleros...</td>\n",
       "    </tr>\n",
       "    <tr>\n",
       "      <th>6</th>\n",
       "      <td>1</td>\n",
       "      <td>1</td>\n",
       "      <td>Schubförmige Multiple Sklerose (EM und ED 05/2...</td>\n",
       "    </tr>\n",
       "    <tr>\n",
       "      <th>7</th>\n",
       "      <td>1</td>\n",
       "      <td>1</td>\n",
       "      <td>Schubförmige multiple Sklerose (ED Januar 2013)</td>\n",
       "    </tr>\n",
       "    <tr>\n",
       "      <th>8</th>\n",
       "      <td>0</td>\n",
       "      <td>0</td>\n",
       "      <td>V.a. primär progrediente Multiple Sklerose, EM...</td>\n",
       "    </tr>\n",
       "    <tr>\n",
       "      <th>9</th>\n",
       "      <td>1</td>\n",
       "      <td>1</td>\n",
       "      <td>Schubförmig remittierende Multiple Sklerose (E...</td>\n",
       "    </tr>\n",
       "    <tr>\n",
       "      <th>10</th>\n",
       "      <td>1</td>\n",
       "      <td>1</td>\n",
       "      <td>Schubförmige Multiple Sklerose (EM 05/2015, ED...</td>\n",
       "    </tr>\n",
       "    <tr>\n",
       "      <th>11</th>\n",
       "      <td>1</td>\n",
       "      <td>1</td>\n",
       "      <td>Schubförmige Multiple Sklerose (EM 04/2010, E...</td>\n",
       "    </tr>\n",
       "    <tr>\n",
       "      <th>12</th>\n",
       "      <td>1</td>\n",
       "      <td>1</td>\n",
       "      <td>Schubförmige Multiple Sklerose (RRMS), EM 05/2...</td>\n",
       "    </tr>\n",
       "    <tr>\n",
       "      <th>13</th>\n",
       "      <td>1</td>\n",
       "      <td>1</td>\n",
       "      <td>Schubförmige Multiple Sklerose (ES und ED 4/03...</td>\n",
       "    </tr>\n",
       "    <tr>\n",
       "      <th>14</th>\n",
       "      <td>1</td>\n",
       "      <td>1</td>\n",
       "      <td>Schubförmige Multiple Sklerose, EM 09/2020, ED...</td>\n",
       "    </tr>\n",
       "    <tr>\n",
       "      <th>15</th>\n",
       "      <td>1</td>\n",
       "      <td>1</td>\n",
       "      <td>Schubförmige Multiple Sklerose\\nES 03, ED 10/2...</td>\n",
       "    </tr>\n",
       "    <tr>\n",
       "      <th>16</th>\n",
       "      <td>1</td>\n",
       "      <td>1</td>\n",
       "      <td>Schubförmige Multiple Sklerose, EM 2000, ED 20...</td>\n",
       "    </tr>\n",
       "    <tr>\n",
       "      <th>17</th>\n",
       "      <td>1</td>\n",
       "      <td>1</td>\n",
       "      <td>Schubförmig verlaufende Multiple Sklerose, Ers...</td>\n",
       "    </tr>\n",
       "    <tr>\n",
       "      <th>18</th>\n",
       "      <td>1</td>\n",
       "      <td>1</td>\n",
       "      <td>Schubförmig remittierende Multiple Sklerose (R...</td>\n",
       "    </tr>\n",
       "    <tr>\n",
       "      <th>19</th>\n",
       "      <td>1</td>\n",
       "      <td>3</td>\n",
       "      <td>Hochgradiger V.a. entzündliche ZNS-Erkrankung ...</td>\n",
       "    </tr>\n",
       "    <tr>\n",
       "      <th>20</th>\n",
       "      <td>1</td>\n",
       "      <td>1</td>\n",
       "      <td>Entzündliche ZNS-Erkrankung, möglicherweise Mu...</td>\n",
       "    </tr>\n",
       "    <tr>\n",
       "      <th>21</th>\n",
       "      <td>1</td>\n",
       "      <td>1</td>\n",
       "      <td>Multiple Sklerose mit vorherrschend schubförmi...</td>\n",
       "    </tr>\n",
       "    <tr>\n",
       "      <th>22</th>\n",
       "      <td>0</td>\n",
       "      <td>0</td>\n",
       "      <td>1. Multiple Sklerose a.e. primär progredient, ...</td>\n",
       "    </tr>\n",
       "    <tr>\n",
       "      <th>23</th>\n",
       "      <td>1</td>\n",
       "      <td>1</td>\n",
       "      <td>Schubförmige Multiple Sklerose (EM 12/2009, ED...</td>\n",
       "    </tr>\n",
       "    <tr>\n",
       "      <th>24</th>\n",
       "      <td>1</td>\n",
       "      <td>1</td>\n",
       "      <td>Schubförmig-remittierende Multiple Sklerose</td>\n",
       "    </tr>\n",
       "    <tr>\n",
       "      <th>25</th>\n",
       "      <td>1</td>\n",
       "      <td>1</td>\n",
       "      <td>Vd.a. autoimmun-entzündliche ZNS-Ekrankung, am...</td>\n",
       "    </tr>\n",
       "    <tr>\n",
       "      <th>26</th>\n",
       "      <td>1</td>\n",
       "      <td>1</td>\n",
       "      <td>Schubförmige Multiple Sklerose, EM 5/2015, ED ...</td>\n",
       "    </tr>\n",
       "    <tr>\n",
       "      <th>27</th>\n",
       "      <td>1</td>\n",
       "      <td>1</td>\n",
       "      <td>Schubförmige Multiple Sklerose, ED 07/2016</td>\n",
       "    </tr>\n",
       "    <tr>\n",
       "      <th>28</th>\n",
       "      <td>1</td>\n",
       "      <td>1</td>\n",
       "      <td>Chronisch-demyelinisierende ZNS-Erkrankung, EM...</td>\n",
       "    </tr>\n",
       "    <tr>\n",
       "      <th>29</th>\n",
       "      <td>1</td>\n",
       "      <td>1</td>\n",
       "      <td>Schubförmige Multiple Sklerose (EM 12/2006, ED...</td>\n",
       "    </tr>\n",
       "    <tr>\n",
       "      <th>30</th>\n",
       "      <td>1</td>\n",
       "      <td>1</td>\n",
       "      <td>Schubförmige Multiple Sklerose mit Residuen, E...</td>\n",
       "    </tr>\n",
       "    <tr>\n",
       "      <th>31</th>\n",
       "      <td>1</td>\n",
       "      <td>1</td>\n",
       "      <td>Multiple Sklerose, schubförmige Verlaufsform (...</td>\n",
       "    </tr>\n",
       "    <tr>\n",
       "      <th>32</th>\n",
       "      <td>2</td>\n",
       "      <td>2</td>\n",
       "      <td>Multiple Sklerose mit sekundär progredientem V...</td>\n",
       "    </tr>\n",
       "    <tr>\n",
       "      <th>33</th>\n",
       "      <td>1</td>\n",
       "      <td>1</td>\n",
       "      <td>INDENT Multiple Sklerose, schubförmiger Verlau...</td>\n",
       "    </tr>\n",
       "    <tr>\n",
       "      <th>34</th>\n",
       "      <td>1</td>\n",
       "      <td>1</td>\n",
       "      <td>Schubförmige Multiple Sklerose (EM 2002?/12/20...</td>\n",
       "    </tr>\n",
       "    <tr>\n",
       "      <th>35</th>\n",
       "      <td>2</td>\n",
       "      <td>2</td>\n",
       "      <td>Sekundär progrediente Multiple Sklerose (EM 19...</td>\n",
       "    </tr>\n",
       "    <tr>\n",
       "      <th>36</th>\n",
       "      <td>1</td>\n",
       "      <td>1</td>\n",
       "      <td>Schubförmige Multiple Sklerose (ED 01/2013), E...</td>\n",
       "    </tr>\n",
       "    <tr>\n",
       "      <th>37</th>\n",
       "      <td>1</td>\n",
       "      <td>1</td>\n",
       "      <td>Schubförmige Multiple Sklerose (EM 11/13, ED 1...</td>\n",
       "    </tr>\n",
       "    <tr>\n",
       "      <th>38</th>\n",
       "      <td>1</td>\n",
       "      <td>1</td>\n",
       "      <td>Schubförmige Multiple Sklerose (EM vermutlich ...</td>\n",
       "    </tr>\n",
       "    <tr>\n",
       "      <th>39</th>\n",
       "      <td>1</td>\n",
       "      <td>1</td>\n",
       "      <td>Schubförmige Multiple Sklerose EM und ED 08/20...</td>\n",
       "    </tr>\n",
       "    <tr>\n",
       "      <th>40</th>\n",
       "      <td>1</td>\n",
       "      <td>1</td>\n",
       "      <td>Schubförmige Multiple Sklerose, EM 06/2017, ED...</td>\n",
       "    </tr>\n",
       "    <tr>\n",
       "      <th>41</th>\n",
       "      <td>1</td>\n",
       "      <td>1</td>\n",
       "      <td>Schubförmig verlaufende Multiple Sklerose (EM ...</td>\n",
       "    </tr>\n",
       "    <tr>\n",
       "      <th>42</th>\n",
       "      <td>2</td>\n",
       "      <td>1</td>\n",
       "      <td>Multiple Sklerose sekundär progredient mit übe...</td>\n",
       "    </tr>\n",
       "    <tr>\n",
       "      <th>43</th>\n",
       "      <td>1</td>\n",
       "      <td>1</td>\n",
       "      <td>Schubförmige Multiple Sklerose EM 07/2016, ED ...</td>\n",
       "    </tr>\n",
       "    <tr>\n",
       "      <th>44</th>\n",
       "      <td>1</td>\n",
       "      <td>3</td>\n",
       "      <td>Multiple Sklerose (EM 05/2011, ED 09/2011)</td>\n",
       "    </tr>\n",
       "    <tr>\n",
       "      <th>45</th>\n",
       "      <td>1</td>\n",
       "      <td>1</td>\n",
       "      <td>Schubförmige Multiple Sklerose (EM 07/2015, ED...</td>\n",
       "    </tr>\n",
       "  </tbody>\n",
       "</table>\n",
       "</div>"
      ],
      "text/plain": [
       "    labels  preds                                               text\n",
       "0        1      1  Schubförmige Multiple Sklerose (EM, ED 12/2005...\n",
       "1        1      1  Schubförmige Multiple Sklerose, EM 05/2018, ED...\n",
       "2        0      0  Primär chronisch progrediente Multiple Skleros...\n",
       "3        1      1  Schubförmig-remittierende Multiple Sklerose, E...\n",
       "4        1      1  Multiple Sklerose, schubförmiger Verlauf (EM 2...\n",
       "5        0      0  Primär chronisch progrediente Multiple Skleros...\n",
       "6        1      1  Schubförmige Multiple Sklerose (EM und ED 05/2...\n",
       "7        1      1    Schubförmige multiple Sklerose (ED Januar 2013)\n",
       "8        0      0  V.a. primär progrediente Multiple Sklerose, EM...\n",
       "9        1      1  Schubförmig remittierende Multiple Sklerose (E...\n",
       "10       1      1  Schubförmige Multiple Sklerose (EM 05/2015, ED...\n",
       "11       1      1   Schubförmige Multiple Sklerose (EM 04/2010, E...\n",
       "12       1      1  Schubförmige Multiple Sklerose (RRMS), EM 05/2...\n",
       "13       1      1  Schubförmige Multiple Sklerose (ES und ED 4/03...\n",
       "14       1      1  Schubförmige Multiple Sklerose, EM 09/2020, ED...\n",
       "15       1      1  Schubförmige Multiple Sklerose\\nES 03, ED 10/2...\n",
       "16       1      1  Schubförmige Multiple Sklerose, EM 2000, ED 20...\n",
       "17       1      1  Schubförmig verlaufende Multiple Sklerose, Ers...\n",
       "18       1      1  Schubförmig remittierende Multiple Sklerose (R...\n",
       "19       1      3  Hochgradiger V.a. entzündliche ZNS-Erkrankung ...\n",
       "20       1      1  Entzündliche ZNS-Erkrankung, möglicherweise Mu...\n",
       "21       1      1  Multiple Sklerose mit vorherrschend schubförmi...\n",
       "22       0      0  1. Multiple Sklerose a.e. primär progredient, ...\n",
       "23       1      1  Schubförmige Multiple Sklerose (EM 12/2009, ED...\n",
       "24       1      1       Schubförmig-remittierende Multiple Sklerose \n",
       "25       1      1  Vd.a. autoimmun-entzündliche ZNS-Ekrankung, am...\n",
       "26       1      1  Schubförmige Multiple Sklerose, EM 5/2015, ED ...\n",
       "27       1      1         Schubförmige Multiple Sklerose, ED 07/2016\n",
       "28       1      1  Chronisch-demyelinisierende ZNS-Erkrankung, EM...\n",
       "29       1      1  Schubförmige Multiple Sklerose (EM 12/2006, ED...\n",
       "30       1      1  Schubförmige Multiple Sklerose mit Residuen, E...\n",
       "31       1      1  Multiple Sklerose, schubförmige Verlaufsform (...\n",
       "32       2      2  Multiple Sklerose mit sekundär progredientem V...\n",
       "33       1      1  INDENT Multiple Sklerose, schubförmiger Verlau...\n",
       "34       1      1  Schubförmige Multiple Sklerose (EM 2002?/12/20...\n",
       "35       2      2  Sekundär progrediente Multiple Sklerose (EM 19...\n",
       "36       1      1  Schubförmige Multiple Sklerose (ED 01/2013), E...\n",
       "37       1      1  Schubförmige Multiple Sklerose (EM 11/13, ED 1...\n",
       "38       1      1  Schubförmige Multiple Sklerose (EM vermutlich ...\n",
       "39       1      1  Schubförmige Multiple Sklerose EM und ED 08/20...\n",
       "40       1      1  Schubförmige Multiple Sklerose, EM 06/2017, ED...\n",
       "41       1      1  Schubförmig verlaufende Multiple Sklerose (EM ...\n",
       "42       2      1  Multiple Sklerose sekundär progredient mit übe...\n",
       "43       1      1  Schubförmige Multiple Sklerose EM 07/2016, ED ...\n",
       "44       1      3         Multiple Sklerose (EM 05/2011, ED 09/2011)\n",
       "45       1      1  Schubförmige Multiple Sklerose (EM 07/2015, ED..."
      ]
     },
     "execution_count": 339,
     "metadata": {},
     "output_type": "execute_result"
    }
   ],
   "source": [
    "import pandas as pd\n",
    "pd.DataFrame(outputs)"
   ]
  },
  {
   "cell_type": "code",
   "execution_count": 147,
   "metadata": {},
   "outputs": [],
   "source": [
    "import matplotlib.pyplot as plt\n",
    "import seaborn as sns\n",
    "from sklearn.metrics import confusion_matrix\n",
    "import matplotlib.colors as mcolors\n",
    "import numpy as np\n",
    "\n",
    "\n",
    "viridis_cmap = plt.get_cmap('viridis_r')\n",
    "cmap = sns.color_palette(\"ch:s=.25,rot=-.25\", as_cmap=True)\n",
    "\n",
    "# Extract a subset of colors from the \"viridis\" colormap\n",
    "start_index = 120  # Start index of colors to include\n",
    "end_index = 200 # End index of colors to include\n",
    "subset_colors = viridis_cmap(np.linspace(start_index / 255, end_index / 255, end_index - start_index + 1))\n",
    "\n",
    "# Create a custom colormap using the subset of colors\n",
    "custom_cmap = mcolors.ListedColormap(subset_colors)\n",
    "custom_cmap = sns.color_palette(\"light:#5A9\", as_cmap=True)\n",
    "\n",
    "def pretty_confusion_matrix(y_true, y_pred, labels):\n",
    "    # Create the confusion matrix\n",
    "    cm = confusion_matrix(y_true=y_true, y_pred=y_pred)\n",
    "\n",
    "    # Plotting the confusion matrix\n",
    "    plt.figure(figsize=(10, 8))\n",
    "    sns.set_theme(font_scale=1.2)  # Adjust font size for labels\n",
    "    sns.heatmap(cm, annot=True, fmt='d', cmap=custom_cmap, cbar=False,\n",
    "                yticklabels=labels, xticklabels=labels, alpha=0.9, linewidths=0.5, linecolor='lightgrey')\n",
    "    plt.xlabel('Predicted Label')\n",
    "    plt.ylabel('True Label')\n",
    "    plt.xticks(rotation=45, ha='right')  # Rotate x-axis labels for better readability\n",
    "    plt.yticks(rotation=0)\n",
    "    plt.grid(False)\n",
    "    plt.tight_layout()\n",
    "    plt.show()\n"
   ]
  },
  {
   "cell_type": "code",
   "execution_count": 182,
   "metadata": {},
   "outputs": [
    {
     "data": {
      "image/png": "[encoded data removed]",
      "text/plain": [
       "<Figure size 1000x800 with 1 Axes>"
      ]
     },
     "metadata": {},
     "output_type": "display_data"
    }
   ],
   "source": [
    "pretty_confusion_matrix(y_true = outputs[\"labels\"], y_pred = outputs[\"preds\"], labels = [\"PPMS\", \"RRMS\", \"SPMS\", \"other\"])"
   ]
  },
  {
   "cell_type": "code",
   "execution_count": 184,
   "metadata": {},
   "outputs": [
    {
     "name": "stdout",
     "output_type": "stream",
     "text": [
      "Label : 1\n",
      "Pred : 0\n",
      "Text: \n",
      " Schubförmig-remittierende Multiple Sklerose, EM und ED 04/2007\n",
      "INDENT Diagnostik\n",
      "INDENT EDSS 05/2019: 2.0\n",
      "INDENT MRI-Neuroachse 08/2018: Intrakraniell sowie spinal kein Nachweis von neuen oder KM-aufnehmenden Läsionen\n",
      "INDENT MRI Schädel vom 08/2013: 1 neue gliotische Läsion im Übergang Mittelhirn zu oberem Kleinhirnschenkel der linken Seite\n",
      "INDENT MRI Neuroachse vom 09/2012: Fraglich neue Läsion im Centrum semiovale post rechts, ansonsten stabiler Befund zerebral. Spinal fragliche Progredienz der Läsionen des thorakalen Myelons\n",
      "INDENT Sensomotorisches Querschnittsyndrom, sensibel: sub-Th1, rechts-betont sowie distal-betont an allen Extremitäten, motorische Parese Kleinfinger rechts 04/2007\n",
      "INDENT MRI Schädel vom 04/2007: ausgedehnt KM-aufnehmende Läsion C1-3, 2 kleine Läsionen obere u. untere BWS; multiple (> 20), nicht KM-aufnehmende periventrikuläre T2-Läsionen \n",
      "INDENT Liquor 04/2007: Zellzahl 8/µlL Protein 0,48 g/L, IgG-Index 1.44, OKB positiv\n",
      "INDENT Therapie:\n",
      "INDENT aktuell: Teriflunomid (Aubagio) seit 05/2018\n",
      "INDENT St.n. Plegridy 09/2015 - 05/2018\n",
      "INDENT St.n. Tecfidera Therapie 05. - 06/2016\n",
      "INDENT St.n. immunmodulatorische Therapie mit Betaferon 09/2007 -  03/2015\n",
      "INDENT St.n. Solu-Medrol 3x 1 g 04/2007 \n",
      "Label : 1\n",
      "Pred : 3\n",
      "Text: \n",
      " Hochgradiger V.a. entzündliche ZNS-Erkrankung ED 03.05.2019, EM 30.04.2019\n",
      "INDENT ätiologisch: möglicherweise multiple Sklerose\n",
      "INDENT anamnestisch: seit 4 Tagen aufsteigende Dysästhesie von den Füssen bis etwa T12, distal betont; St. n. Atemwegsinfektion vor einigen Tagen\n",
      "INDENT klinisch: Dysästhesie sub Th12, Hypopallästhesie malleolar bds 7/8, Lagesinn und Temperatursinn erhalten,  keine Visusstörungen, leicht gesteigerte Reflexe (BSR und PSR bds) \n",
      "INDENT diagnostisch\n",
      "INDENT MRI BWS/HWS 03.05.2019: Intraspinale intramedulläre flau T2-hyperintense, kontrastmittelaufnehmende Läsion auf Höhe HWK1/HWK2 mit hochgradiger Verdacht auf Myelitis. Weitere T2-hyperintense intramedulläre Signalanhebungen auf Höhe BWK5 - BWK8 ohne Kontrastmittelaufnahme.\n",
      "INDENT LP 03.05.2019: Zellzahl 11, Protein 0,565 g/l, OKB positiv (5 Banden)\n",
      "INDENT Labor: AQP-4-Ak und Vaskulitis-Screening im Serum negativ\n",
      "INDENT Urin-Status 03.05.2019: blande\n",
      "INDENT cMRI vom 06.05.2019: Gliotischer Defekt des Crus posterior der Capsula interna links\n",
      "INDENT Elektrophysiologie vom 07.05.2019: normale Tibialis-SEPs.\n",
      "INDENT therapeutisch\n",
      "INDENT Kortisonstoss mit Solu-Medrol 1g/d i.v. vom 04.05-08.05.2019\n",
      "Label : 3\n",
      "Pred : 0\n",
      "Text: \n",
      " Cerebrale FLAIR-Hyperintensitäten bislang ungeklärter Ätiologie, EM 07/2012, ED 02/2014, EDSS 0.0\n",
      "INDENT Ätiologisch: Unklar, DD vaskulär, DD schubförmige Multiple Sklerose eher unwahrscheinlich\n",
      "INDENT Klinisch/aktuell: nihil\n",
      "INDENT Verlauf:\n",
      "INDENT 08/2012 Anamnestisch Unteramschwäche beidseits über drei Tage\n",
      "INDENT seit 09/2012 intermittierend stechende Muskelschmerzen und passagere Dysästhesien im Bereich beider Arme und Beine, an Frequenz und Dauer nicht zunehmend\n",
      "INDENT Diagnostik:\n",
      "INDENT 12/2012 MRI Gehirn und HWS: multiple periventrikulär betonte T2/FLAIR-Hyperintensitäten, kein Nachweis einer floriden Entzündung; MRI HWS unauffällig (nur schriftlicher Befund)\n",
      "INDENT 12/2012 Neurographien: Medianus, Ulnaris, Suralis normal.\n",
      "INDENT 01/2013 VEP: Normalbefund\n",
      "INDENT 01/2013 Liquor (extern): 1 Zelle/ul, keine Schrankenstörung, Protein 418 mg/l, keine intrathekale IgG Synthese, Zellzahl 1/ul, Borrelien, Herpes simplex sowie VZV-Antikörper negativ\n",
      "INDENT 2014 und 03/2016 Labor: Infektiologisches und immunologisches Screening normwertig.\n",
      "INDENT 01/2014 MRI Gehirn und WS: In Anzahl leicht progrediente supratentorielle Marklagerläsionen, aktuell ohne KM Aufnahme, Keine infratentoriellen Läsioenen. Keine Läsion im Bereich des Myelons. \n",
      "INDENT 03/2016 MRI Gehirn: Stationärer Befund zu 01/2014\n",
      "INDENT 10.03.2016 CT Thorax (Spital Horgen): keine Lymphadenopathie, mehrere kleine unspezifische Noduli (ca. 2mm) a.e. Granulome \n",
      "INDENT 03/2017 cMRI: unverändert\n",
      "INDENT 04/2018 cMRI: unverändert\n",
      "INDENT VEP und OCT 10/2018: Normalbefunde\n",
      "INDENT Liquordiagnostik von 01/2019: unauffällig, keine intrathekale IgG Synthese, MRZ-Reaktion negativ\n",
      "INDENT MOG AK im Serum 01/2019: negativ\n",
      "INDENT 01/2019 cMRI: neue, jedoch nicht aktive demyelinisierende Läsion im Pons rechts, a.e Artefakt.\n",
      "INDENT Therapie:\n",
      "INDENT  01/2015-03/2019 Tecfidera \n",
      "Label : 1\n",
      "Pred : 0\n",
      "Text: \n",
      " Vd.a. autoimmun-entzündliche ZNS-Ekrankung, am ehesten einer schubförmig-remittierenden multiplen Sklerose entsprechend (EM 1997):\n",
      "INDENT aktuell Vd. a. zweiten Schub (Erstereignis 1997): \n",
      "INDENT seit 4-5 Wochen Schwäche re Bein und Arm; klinisch: leichtgradige Tetraparese rechtsbetont, Hypästhesie an beiden Fussohlen, zerebelläre Ataxie, Blickrichtungsnystagmus re>li,  Finger-Nase-Versuch dysmetrisch bds (li> re) Knie-Hacke-Versuch dysmetrisch bds. Links Dys-und Bradydiadochokinese, EDSS 3.0.\n",
      "INDENT aktenanamnestisch: \n",
      "INDENT 1997 (Dr. Riederer): bei rez. Schwindelattacken mit Bewusstlosigkeit und motorischen Störungen am li Bein (im Verlauf komplett regredient) Vd.a. erster Schub einer Enzephalomyelitis disseminata \n",
      "INDENT 2000 (Dr. Riederer): Dg einer MS, zurzeit ohne Hinweise für eine Reaktivierung\n",
      "INDENT diagnostisch:\n",
      "INDENT 1997 cMRI: multiple Signalveränderungen periventrikulär bds., vereinbar mit Entmarkungen\n",
      "INDENT 2000 cMRI: multiple Signalveränderungen, a.e. unverändert im Vergleich zur Voruntersuchung \n",
      "INDENT 03/2014 Rö-Thorax: keine AP für mediastinale oder intrapulmonale Raumforderungen. Leicht degenerative Veränderungen der BWS. \n",
      "INDENT 03/2014 Liquor: gestörte Blut-Hirn-Schranke (Albumin-Quotient 22.0 x10^-3, Albumin 1070 mg/l); Hinweise auf intrathekale IgG-Synthese (IgG-Index 0.82); ZZ=15/ul, Glukose und Laktat normwertig; OKBs pos.\n",
      "INDENT 21.3.2014 MRI der Neuroachse: multiple demyelinisierende Läsionen zerebral und spinal mit KM-Enhancement\n",
      "INDENT 2.4.2014 MRI Gehirn (nach Solu-Medrol Stosstherapie): Verglichen mit der Voruntersuchung vom 21.03.2014 deutliche regrediente KM-Aufnahme der bekannten multiplen MS Plaques mit geringem Restbefund. Keine neuen Plaques.   \n",
      "INDENT 03/2014 laborchemisch: Vaskulitis-Screening, anti-NMO, HIV, HCV, TSH, Folsäure, Holotranscobalamin, CRP, Leber-/Niere-Werte, Glukose, Eletkrolyte, Blutbild, Gerinnung unauffällig; 25-Hydroxy-Vitamin D mit 7.5 µg/l erniedrigt, Anti-HBs positiv (135 IE/l);Lues-Serologie neg., Borrelien Serologie: IgG im Liquor und Serum pos., IgM neg (Hinweis auf eine abgelaufene Borrelieninfektion)\n",
      "INDENT therapeutisch:\n",
      "INDENT 03/2014 Solu-Medrol 1g/d über 5 Tage vom 26.3-30.3.14\n",
      "Label : 3\n",
      "Pred : 0\n",
      "Text: \n",
      " Klinisch isoliertes Syndrom bei Retrobulbärneuritis des rechten Auges, EM 10/2015, ED 10/2015\n",
      "INDENT anamnestisch: seit Anfang 10/2015 Verschwommensehen beidseits und sowie Bulbusbewegungsschmerz rechtes Auge, Rotentsättigung des rechten Auges, Verschwommensehen beidseits, RAPD rechts, Grippaler Atemwegsinfekt mit Husten, Schupfen, Kopf- und Halsschmerzen und teils subfebrilen Temperaturen.\n",
      "INDENT klinisch: aktuell VOD 0.75, bds. verplumpter Einbeinsprung, Fatigue, EDSS 1.5.\n",
      "INDENT diagnostisch:\n",
      "INDENT MRI Gehirn 15.10.2015: N. opticus rechts im Seitenvergleich verdickt mit minimal erhöhtem Signal in den T2-Bildern sowie leichtem Enhancement nach KM-Gabe. Cerebral einzelne demyelinisierende Läsionen im Marklager (mehrere sehr kleine supratentoriell teils periventrikulär und eine etwas grössere infratentoriell) ohne pathologisches KM-Enhancement.\n",
      "INDENT Lumbalpunktion 16.10.2015: Zellzahl 3/ul, Totalprotein leicht vermindert, intrathekale IgG Synthese, OKBs im Liquor pos. AQP4 IgG und MOG IgG neg.\n",
      "INDENT Vaskulitisscreening neg.\n",
      "INDENT Folsäure, Vit. B12, Vit D3 normwertig.\n",
      "INDENT Virologische Serologie HIV neg., CMV/EBV/HSV/VZV je IgG pos., IgM neg.\n",
      "INDENT Mikrobiologische Serologie: Borrelia burgdorferi 20.10.2015 IgG neg. IgM grenzwertig -> Wiederholung 23.10.2015 IgG neg., IgM pos. -> Serologie aus Liquor IgG und IgM neg.\n",
      "INDENT MRI Gehirn und WS 29.12.2015: Aktuell kein Anhaltspunkt für eine Neuritis Nervi opticiim übrigen stationärer Befund. Kein Anhaltspunkt für Läsionen im Myelon.\n",
      "INDENT therapeutisch:\n",
      "INDENT Kortisonstosstherapie Soulmedrol i.v. 1g/d 20.-24.10.2015\n",
      "INDENT Therapiebeginn mit Copaxone (Glatirameracetat) geplant\n",
      "Label : 3\n",
      "Pred : 0\n",
      "Text: \n",
      " Lumboradikuläres Reizsyndrom mit sensorisches Ausfallsyndrom S1 rechts\n",
      "INDENT Fehlender ASR rechts, Hyposensibilität Dermatom S1 rechts\n",
      "INDENT MRI LWS 23.5.13, extern/Medizinisch Radiologisches Institut Bahnhofplatz: Kompression der Nervenwurzel S1 rechts\n",
      "INDENT Periradikuläre Steroidinfiltration S1 rechts am 23.5.13 (Medizinisch Radiologisches Institut Bahnhofplatz)\n",
      "Label : 1\n",
      "Pred : 0\n",
      "Text: \n",
      " Multiple Sklerose, schubförmige Verlaufsform (EM 03/2015, ED 05/2015), EDSS 1.5\n",
      "Aktuell\n",
      "INDENT subjektive Beschwerdefreiheit, residuelle Kribbelparästhesien der Unterschenkel\n",
      "Klinisch: \n",
      "INDENT residuelle Visusminderung, sonst unauffälliger neurologischer Befund\n",
      "Verlauf: \n",
      "INDENT seit 2014: diskrete Visusminderung im linken Auge\n",
      "INDENT 03/2015: Schub mit Kribbelparästhesien Unterschenkel bds., MER UEX rechts gesteigert, Stand- und Gangataxie\n",
      "Diagnostik:\n",
      "Labor:\n",
      "INDENT Labor/Immunologie: unauffällig\n",
      "INDENT Serologie: HSV 1+2 Ig erhöht, IgM grenzwertig (Serum), im weiteren kein Erregernachweis\n",
      "INDENT Liquor 27.04.2015: ZZ 6/µl, OKB positiv\n",
      "Bildgebung:\n",
      "INDENT MRI LWS 07.04.15: Solitäre T2-hyperintense, inhomogen kontrastmittelaufnehmende Läsion (9 mm Durchmesser) im Myelon auf Höhe des BWK 11.\n",
      "INDENT MRI Gehirn und WS 21.04.2015: Mehrere supratentorielle demyelinisierende Läsionen des Hirnparenchyms, eine davon im Forceps major rechtsseitig mit KM-Anreicherung. Vorbeschriebene bekannte demyelinisierenden Läsion des thorakalen Myelons auf Höhe BWK11\n",
      "INDENT MRI Gehirn und WS 01/2016: Neu / besser demarkierte Läsion Höhe HWK6/7 linksseitig posterior sowie neue Läsion pericallosal am Vorderhorn linksseitig, keine KM-Aufnahme.\n",
      "INDENT cMRI  07/2016: Eine neu aufgetretene FLAIR hyperintense Läsion im Marklager links temporal mit KM-Enhancement.\n",
      "INDENT MRI WS 07/2016: Im Verlauf kein relevanter Befundwandel. Keine neu aufgetretenen demyelinisierende Läsionen. kein pathologisches KM-Enhancement.\n",
      "INDENT 02/2017 MRI Neuroachse: stabiler Befund\n",
      "INDENT 07/2017 cMRI: stationärer Befund. Bei Bewegungsartefakten etwas eingeschränkte Beurteilbarkeit, keine KM-Aufnahme\n",
      "INDENT 08/2017 spinales MRI: Unverändert vorbestehenden Läsionen auf Höhe C6/7, sowie T11 ohne Anzeichen einer aktiven Läsion.\n",
      "INDENT 08/2018 cMRI: eine neue demyelinisierende Läsion im frontalen Marklager links, keine KM-Aufnahme, ansonsten stationäre Befunde\n",
      "sonstige Diagnostik:\n",
      "INDENT 08/2017 VEP: normale, seitenvergleichbare P100. Stabiler Befund\n",
      "INDENT 08/2017 Ganzfeld-ERG:  normale, seitenvergleichbare skotopisch eund photopische Antworten bds.\n",
      "INDENT 08/2017 multifokales Elektroretinogramm (61 Hexagone): normale, seitenvergleichbare P1 Amplituden und Gipfelzeiten ohne fokale Störungen bds. Im Vgl. zu 2016 stabil bis verbessert\n",
      "Therapie:\n",
      "INDENT Solumedrol 28.04.2015-02.05.2015\n",
      "INDENT Copaxone seit 30.07.2015\n",
      "Hypothyreose, ideopathisch\n",
      "INDENT derzeitige Therapie: Thyroxin 75µg 1-0-0\n",
      "Label : 1\n",
      "Pred : 0\n",
      "Text: \n",
      " INDENT 39-jährige Patientin mit primärer Sterilität seit 15 Jahren (1998)\n",
      "INDENT Multiple Sklerose, schubförmiger Verlauf mit Residuen (ED: 9/2004)\n",
      "INDENT Beim Partner Verdacht auf Subfertilität bei hypo- bis normogonadotropem Hypogonadismus, Status nach off label use Clomifen 50 mg jeden 2. Tag und anschliessender probatorischer Spermienaufbereitung\n",
      "Label : 1\n",
      "Pred : 0\n",
      "Text: \n",
      " Schubförmige Multiple Sklerose (EM vermutlich 2007; ED 10/09), EDSS 2.0\n",
      "INDENT Aktuell: klinisch nicht aktiv, radiologisch aktiv, keine Progression (nach Lublin et al. 2013)\n",
      "INDENT Klinisch: Kein fokal-neurologisches Defizit. Mittelgradige Fatigue, eingeschränkte Gehstrecke 500-1000m\n",
      "INDENT Verlauf: \n",
      "INDENT 2007 anamnestisch Kribbelparästhesien Bein rechts\n",
      "INDENT 02/2008 anamnestisch zwei Wochen anhaltende Schmerzen beim Blick nach rechts, Blitze-Sehen beim Blick nach rechts, keine Visusminderung\n",
      "INDENT 01/2009: anamnestisch Taubheitsgefühl Arm und Bein links (n. Mononucleosis infectiosa)\n",
      "INDENT 09/2009 Retrobulbärneuritis rechts, komplett regredient\n",
      "INDENT 02/2010 Schub mit Dysästhesien und leichter Hypästhesie des rechten Beins ab Th 8, Dysästhesien im Versorgungsgebiet des Trigeminusstirnasts links, Reflexsteigerung rechtes Bein\n",
      "INDENT 10/2010: Schub mit Dysästhesien der linken Körperhälfte sub Th 8 sowie des linken Oberarms, Hypästhesie des linken Unterschenkels, Fatigue\n",
      "INDENT 08/2017 fraglich Schub mit Dysästhesien im linken Arm, Gesicht und Brustbereich, DD funktionell\n",
      "INDENT 09/2020: neu aufgetretene leichtgradige zentrale Fazialisparese links mit Hypästhesie im V2-Bereich links sowie Hypästhesie digiti mani I u. II links.\n",
      "INDENT Diagnostik:\n",
      "INDENT 10/2009 Liquor: OKB positiv\n",
      "INDENT 10/2009 MRI Gehirn: Multiple entzündliche Herde supra- und infratentoriell (davon neun akute entzündliche Läsionen) sowie akute Retrobulbärneuritis mit KM-Aufnahme re\n",
      "INDENT 11/2009 MRI WS: zumindest 7 entzündliche Läsionen der Medulla spinalis\n",
      "INDENT 02/2010 MRI Gehirn und WS: 7 neue, akut entzündliche Läsionen, davon 6 supratentoriell und eine spinal in Höhe HWK7/BWK1\n",
      "INDENT 08/2010: Tysabri-Antikörper positiv\n",
      "INDENT 01/2011 MRI Gehirn und WS: Kleinste aktive Läsionen im frontalen Zentrum semiovale rechts, im zervikalen Myelon im Bereich der Seitenstränge rechts, sowie Th12 in den Seitensträngen links.\n",
      "INDENT 12/2012 MRI Gehirn und WS: Zwei neu aufgetretene demyelinisierende Läsionen im Bereich des linken Centrum semiovale, 2x KM-Aufnahme bereits bekannter Läsionen.\n",
      "INDENT 11/2013 MRI Gehirn: Stationär zu 12/2012\n",
      "INDENT 05/2014 MRI WS: Stationärer Befund zu 01/2011\n",
      "INDENT 05/2014 MRI Gehirn: Mehrere grössenprogrediente und neu KM-aufnehmende Läsionen\n",
      "INDENT 10/2014 MRI Gehirn: Neue Läsionen mit KM-Anreicherung im Gyrus parahippocampalis rechts sowie paraventrikulär aussen am rechten Temporalhorn \n",
      "INDENT 11/2014 MRI WS: Neue KM-aufnehmende Läsion im posterolateralen Bereich des Myelons auf Höhe HWK2, neue nicht KM-aufnehmende Läsion im posterioren Funiculus auf Höhe BWK 8\n",
      "INDENT 06/2015 MRI Gehirn: Neue KM-aufnehmende Läsionen paratrigonal bds. bzw. Übergang Corona radiata zum Zentrum semiovale rechts, sowie medial der Pyramide rechts\n",
      "INDENT 11/2015 MRI Gehirn und WS: Gehirn stationär zu 06/2015, WS stationär zu 11/2014\n",
      "INDENT cMRI 29.06.2017: 3 neue Läsionen, 2 davon mit leichter KM-Aufnahme, callosal rechts, paratrigonal links und im Centrum semiovale rechts\n",
      "INDENT 02/2019: Zwei kleine zwischenzeitlich neu aufgetretene demyelinisierende Läsionen infratentoriell im Tegmentum mesencephali rechts, und im Funiculus posterior des mit abgebildeten Myelons auf Höhe HWK 1/2.\n",
      "INDENT 08/2019 cMRI: stationärer Befund\n",
      "INDENT 02/2020 MRI Neuroachse: keine neuen Läsionen\n",
      "INDENT 09/2020 cMRI und HWS: Supratentoriell 4 neue Läsionen mit Schrankenstörung, die grösste Läsion findet sich im Gyrus precentralis rechts. Darüberhinaus supra- und infratentoriell je eine neu aufgetretene Läsion ohne Schrankenstörung sowie fraglich leicht progrediente Läsionen am Hinterhorn des rechten Seitenventrikels. Im zervikalen und oberen thorakalen Myelon mehrere unveränderte Herde aber keine neu Läsionen.\n",
      "INDENT cMRI vom 03/2021:  stationäre ausgeprägte supra- und infratentorielle Läsionslast, eine neuen demyelinisierenden Läsionen.\n",
      "INDENT sMRI vom 03/2021: stationär, keine neuen deymelinisierenden Läsionen.\n",
      "INDENT Therapie:\n",
      "INDENT 20.-22.10.09 SoluMedrol 1g über 3 Tage, 02/2010 Solu Medrol 1g i.v. über 4  Tage\n",
      "INDENT 03/2010 - 07/2010 Tysabri (Natalizumab), Infusionsreaktion bei 2. und 3. Infusion, anaphylaktische Reaktion bei 5. Infusion mit konsekutivem Abbruch\n",
      "INDENT 07/2010 - 11/2014 Copaxone, sistiert bei MR-morphologischer Progredienz\n",
      "INDENT 12/2014 - 08/2015 Tecfidera, sistiert bei gastrointestinalen Nebenwirkungen\n",
      "INDENT 08/2015 - 04/2017 Gilenya, sistiert wegen Kinderwunsch\n",
      "INDENT Wiederbeginn mit Gilenya 10/2018 -> ca 2 Wochen Unterbruch 02/2020\n",
      "INDENT 07.- 08.09.2020. SoluMedrol 1g i.v. 09.-11.09.2020 SoluMedrol 500 mg p.o.\n",
      "INDENT geplante Therapie mit Ocrevus ab 05/2021\n",
      "Label : 1\n",
      "Pred : 0\n",
      "Text: \n",
      " Schubförmige Multiple Sklerose EM und ED 08/2018, EDSS 2.5\n",
      "INDENT EDSS 01/2021: 2.5\n",
      "INDENT anamnestisch: Fatigue, Konzetrationsstörung, Hypästhesie der rechten Körperhälfte (Oberkörper inkl. Gesicht), Temperature-Störung der linken Hände.\n",
      "INDENT Diagnostik:\n",
      "INDENT MRI Schädel 08/2018: Multiple supratentoriell Läsionen in einem für eine entzündlich demyelinisierende ZNS-Erkrankung typischen Verteilungsmuster, teils als 'black holes' abgrenzbar ohne Zeichen einer Aktivität. 3/4 Barkhof-Kriterien erfüllt. \n",
      "INDENT MRI HWS/BWS 09/2018: Zervikale Myelonläsion Höhe HWK 2/3 paramedian rechts mit pathologischer Kontrastmittelaufnahme, am ehesten einer aktiv-entzündlichen Läsion im Rahmen einer entzündlich demyelinisierenden ZNS-Erkrankung entsprechend\n",
      "INDENT MRI Schädel und HWS 11/2018: Demyelinisierende Myelonläsion auf Höhe HWK 2/3 mit kompletter Rückbildung der Aktivität. Keine zwischenzeitlich neu aufgetretenen oder aktiven Läsionen intrakraniell oder im zervikalen Rückenmark.\n",
      "INDENT MRI Schädel und HWS/BWS 02/2019: Stationär\n",
      "INDENT MRI Schädel 01/2020: Stationär\n",
      "INDENT MRI Schädel 01/2021: Stationär\n",
      "INDENT Labor:\n",
      "INDENT Liquor 08/2018: Zellzahl 3/µl, Totalprotein 628 mg/l,  IgG-Index 0.7, OKB positiv (Typ II)\n",
      "INDENT Infektiologisches Screening 08/2018: HIV, HBV, HCV. Lues, Borrelien negativ\n",
      "INDENT Immunologisches Screening 08/2018: ANA, RF, Anti-CCP, Anti-native DNA, Anti-SSA/B (Ro/La), Anti-Cardiolipin, ANCA negativ\n",
      "INDENT JCV-Ak Test 09/2018: Positiv (Titer 0.37)\n",
      "INDENT Therpaie:\n",
      "INDENT St.n. Kortisonstoss 08/2018, 09/2018 sowie 11/2018\n",
      "INDENT St.n. Plasmapherese 10/2018\n",
      "INDENT Unter Gilenya seit 11/2018\n",
      "Label : 1\n",
      "Pred : 0\n",
      "Text: \n",
      " Schubförmige Multiple Sklerose EM 07/2016, ED 08/2017, EDSS 4.0\n",
      "Anamnestisch:\n",
      "INDENT Keine Verbesserung nach 2x Kortisonstosstherapie. Weiterhin Verschwommensehen beidseits sowie Zunahme der Gangunsicherheit und der Kribbelparästhesien der Arme und Beine, residuell seit 07/2016 bekannte Kopfschmerzsymptomatik.\n",
      "Klinisch: \n",
      "INDENT Parese der Beine rechtsbetont mit Absinken im BVV bds., leichtgradige Parese des rechten Armes mit Absinken im AVV rechts. Kribbelparästhesien der Arme und Beine mit leichter Pallhypästhesie biradial und bimalleolär sowie weitestgehend fehlender Spitz-Stumpf-Diskrimination. Fallneigung nach rechts im Romberg-Versuch. Fernvisus bei 0,28 bds s.c.\n",
      "Verlauf: \n",
      "INDENT 07/2016: Neuritis nervi optici rechts.\n",
      "INDENT 12/2017: Kopfschmerzen, verschwommenes Sehen, Schmerzen bei Augenbewegungen rechtsbetont. \n",
      "INDENT 04/2017: Fraglicher Schub bei beidseitiger Visusminderung (re > li) mit Verschwommensehen über mehrere Monate ohne Farbentsättigung oder Augenmotilitätsstörungen\n",
      "INDENT 09/2017: Schwindel mit Gangunsicherheit, fragl. Verschlechterung des Visus rechts\n",
      "INDENT 10/2017: Schub mit Sehminderung auf dem linken Auge, retrobulbäre Schmerzsymptomatik, Zunahme der Gangunsicherheit, Parese im rechten Arm\n",
      "Diagnostisch: \n",
      "Labor\n",
      "INDENT 07/2016 Infektiologisches Screening: Quantiferon-Test negativ, Lues negativ, Borrelia IgG nicht reaktiv, Borrelia IgM reaktiv, CMV negativ, HSV-1 negativ, HSV-2  negativ, Toxoplasmose negativ, VZV negativ, HIV negativ, Immunologisches Screening: ACE, ANCA-, Anti-Cardiolipin-, AQP4- und MOG-IgG negativ.\n",
      "INDENT 0972016 Infektiologisches Screening: Borrelia unauffällig.\n",
      "INDENT 07/2016 Liquor: 6 Zellen/µl, OKBs im Liquor positiv, Borrelien IgM/IgG im Liquor nicht reaktiv.\n",
      "INDENT 08/2017 Quantiferon-Test: Tbc-Antigen-Test negativ.\n",
      "Bildgebung\n",
      "INDENT 07/2016 cMRI: Am ehesten entzündliche Veränderung des Nervus opticus rechts. Zwei weitere Läsionen.\n",
      "INDENT 11/2016 MRI cranial & spinal: Stationär, leichte degenerative Veränderungen LWK4/5 und LWK5/S1.\n",
      "INDENT 04/2017 cMRI: Neue Läsionen in der Corona radiata beidseits, am Gyrus supramarginalis rechts mit perifokalem Ödem sowie am Gyrus frontalis inferior rechts. Weitere neue KM-aufnehmende  Läsionen. Spinal keine Läsionen oder KM-Aufnahmen.\n",
      "INDENT 09/2017 cMRI: Progression der FLAIR hyperintensen Läsionen supra- und infratentoriell. Zwei neue KM-aufnehmende Läsionen links periventrikulär auf Höhe der Cella media sowie rechts zerebellär. \n",
      "INDENT 10/2017 MRI (HWS und zerebral): Zerebral stationäre Läsionslast ohne KM-Aufnahme. Spinal kein Nachweis T2-hyperintenser Läsionen.\n",
      "Weitere Untersuchungen:\n",
      "INDENT 07/2016 Ophthalmologische Untersuchung: Fernvisus: Re: 0.6, li: 1.0, kein RAPD, keine Rotentsättigung.\n",
      "INDENT 01/2017 Ophthalmologische Untersuchung: Fernvisus: Re: 0.6, li: 0.6, 06/2017 re: 1.0, li: 1.0. \n",
      "INDENT 02/2017 OCT: Normwertige RNFL; 09/2017: links unauffällig, rechts minim reduziert. \n",
      "INDENT 08/2017 Elektroretinogramm: Unauffällig.\n",
      "INDENT 09/2017 OCT: Re. 0.46, li. 1.01.\n",
      "INDENT 11/2017 OCT: Re. 0.46, li. 0.38.\n",
      "Therapeutisch:  \n",
      "INDENT Steroidpulstherapie 16.07.-20.07.2016.\n",
      "INDENT Seit 30.08.2017: Therapie mit Aubagio.\n",
      "INDENT Kortisonstosstherapie vom 28.09. - 02.10.2017 (1g i.v.).\n",
      "INDENT Kortisonstosstherapie vom 07.11.-11.11.2017 (2g i.v.) mit Ausschleichen über 10 Tage (keine Besserung).\n",
      "INDENT Plasmapheresetherapie vom 15.01.2018 bis zum 26.01.2018.\n",
      "Label : 1\n",
      "Pred : 0\n",
      "Text: \n",
      " Multiple Sklerose (EM 05/2011, ED 09/2011)\n",
      "INDENT aktuell:   EDSS 2.5 residuell gelegentlicher Schwankschwindel bei schnellen  Bewegungen und Lagewechseln.\n",
      "INDENT Verlauf:\n",
      "INDENT 05. 2011: Schub mit schleichendem Beginn im Mai 2011 mit Doppelbildern und Schwankschwindel, leichter Gangataxie, Kribbelparästhesien Dig V links. Deutliche Regredienz der Symptome auf Solumedrol (08/2011)\n",
      "INDENT diagnostisch:\n",
      "INDENT 10.8.11: VEP pds opB\n",
      "INDENT 10.8.11 MRI Schädel: multiple entzündliche Läsionen juxtacortical, periventrikulär, infratentoriell, teils mit peripherem KM-Enhancement\n",
      "INDENT 10.8.11 CT Thorax-Abdomen: keine AP für Tumor oder Entzündung\n",
      "INDENT 10.8.11 Liquor: 7 Zellen/ul, mononukleär. IgGIndex 1.45, OKB positiv im Liquor, negativ im Serum. Im Reiberschema intrathekale IgG Synthese (kein IgA, kein IgM). \n",
      "INDENT 10.8.11 intrathekale Ig-Bildung gegen Borrelia burgdorferi anzunehmen (im Immunoblot des Liquors IgG reaktiv, IgM negativ)\n",
      "INDENT 18.8.11 MRI HWS, BWS, LWS: mutliple entzündlcihe Läsionen mit T2    Signalalteration auf Höhe HWK, BWK und LWK, keine KM-Anreicherung\n",
      "INDENT Vorabklärung Fingolimod: VZV IgG pos., Leberwerte normal, kein Diabetes. Keine Arrhythmie, kein Maculaödem (Ophta 10.10.11), wenige Nävuszellnävi vom junktionalen Typ ohne Hinweise für Malignität (Derma 30.9.11) \n",
      "INDENT 17.02.2012 MRI Schädel/spinal: Bekannte multiple MS-Läsionen supra- und infratentoriell mit 3 neuen Läsionen cerebral ohne KM-Anreicherung.\n",
      "INDENT Therapie: \n",
      "INDENT Solumedrol 1g über 3d (11.-13.08.), darunter klinisch deutliche \n",
      "INDENT Regredienz \n",
      "INDENT seit 31.10.2011 Gilenya 0.5mg p.o.tgl \n"
     ]
    }
   ],
   "source": [
    "for label, pred, text in zip(*outputs.values()):\n",
    "    if label != pred:\n",
    "        print(\"Label :\", label)\n",
    "        print(\"Pred :\", pred)\n",
    "        print(\"Text: \\n\", text)"
   ]
  },
  {
   "cell_type": "code",
   "execution_count": 183,
   "metadata": {},
   "outputs": [
    {
     "name": "stdout",
     "output_type": "stream",
     "text": [
      "GPU 0: NVIDIA GeForce RTX 3090\n",
      "   Total Memory: 23.69 GB\n",
      "   Free Memory: 2.95 GB\n",
      "   Allocated Memory : 6.92 GB\n",
      "   Reserved Memory : 19.43 GB\n"
     ]
    }
   ],
   "source": [
    "check_gpu_memory()"
   ]
  },
  {
   "cell_type": "code",
   "execution_count": 155,
   "metadata": {},
   "outputs": [],
   "source": [
    "# ms_data_diag = load_ms_data(\"line\")[\"test\"].filter(lambda e: e[\"labels\"] != 3)\n",
    "# ms_data_no_diag = load_ms_data(\"line\")[\"test\"].filter(lambda e: e[\"labels\"] == 3).select(range(15))\n",
    "# ms_data = concatenate_datasets([ms_data_diag, ms_data_no_diag])\n",
    "ms_data = load_ms_data(\"line\")[\"test\"]"
   ]
  },
  {
   "cell_type": "code",
   "execution_count": 156,
   "metadata": {},
   "outputs": [],
   "source": [
    "inputs = [zero_shot_instruction(text) for text in ms_data[\"text\"]]\n",
    "test_loader = DataLoader(inputs, batch_size = 4, shuffle = False)\n",
    "\n",
    "sampler = samplers.greedy()\n",
    "\n",
    "generator = outlines.generate.choice(model, [\"primär progrediente Multiple Sklerose (PPMS)\",\n",
    "                                             \"sekundär progrediente Multiple Sklerose (SPMS)\",\n",
    "                                            \"schubförmig remittierende Multiple Sklerose (RRMS)\",\n",
    "                                            \"not enough info\"], sampler=sampler)"
   ]
  },
  {
   "cell_type": "code",
   "execution_count": 157,
   "metadata": {},
   "outputs": [
    {
     "name": "stderr",
     "output_type": "stream",
     "text": [
      "100%|██████████| 263/263 [24:22<00:00,  5.56s/it]\n"
     ]
    }
   ],
   "source": [
    "results = []\n",
    "for batch in tqdm(test_loader):\n",
    "    answer = generator(batch)\n",
    "    results.extend(answer)"
   ]
  },
  {
   "cell_type": "code",
   "execution_count": 158,
   "metadata": {},
   "outputs": [],
   "source": [
    "label_mappings = dict(zip([\"primär progrediente Multiple Sklerose PPMS\",\n",
    "                                             \"sekundär progrediente Multiple Sklerose SPMS\",\n",
    "                                            \"schubförmig remittierende Multiple Sklerose RRMS\",\n",
    "                                            \"not enough info\"], [0,2,1,3]))"
   ]
  },
  {
   "cell_type": "code",
   "execution_count": 159,
   "metadata": {},
   "outputs": [],
   "source": [
    "results_mapped = [label_mappings[pred] for pred in results]"
   ]
  },
  {
   "cell_type": "code",
   "execution_count": 174,
   "metadata": {},
   "outputs": [],
   "source": [
    "outputs = {\"labels\": ms_data[\"labels\"], \"preds\":results_mapped, \"text\": ms_data[\"text\"]}\n",
    "torch.save(outputs, paths.RESULTS_PATH/\"ms-diag\"/\"ms-diag_Llama2-MedTuned-13b_4bit_line_instruction_outlines\")"
   ]
  },
  {
   "cell_type": "code",
   "execution_count": 164,
   "metadata": {},
   "outputs": [
    {
     "name": "stdout",
     "output_type": "stream",
     "text": [
      "              precision    recall  f1-score   support\n",
      "\n",
      "           0       0.05      1.00      0.10         4\n",
      "           1       0.61      0.95      0.74        39\n",
      "           2       0.75      1.00      0.86         3\n",
      "           3       1.00      0.91      0.95      1004\n",
      "\n",
      "    accuracy                           0.91      1050\n",
      "   macro avg       0.60      0.96      0.66      1050\n",
      "weighted avg       0.98      0.91      0.94      1050\n",
      "\n"
     ]
    }
   ],
   "source": [
    "print(classification_report(y_true = outputs[\"labels\"], y_pred = outputs[\"preds\"]))"
   ]
  },
  {
   "cell_type": "code",
   "execution_count": 165,
   "metadata": {},
   "outputs": [
    {
     "data": {
      "image/png": "[encoded data removed]",
      "text/plain": [
       "<Figure size 1000x800 with 1 Axes>"
      ]
     },
     "metadata": {},
     "output_type": "display_data"
    }
   ],
   "source": [
    "pretty_confusion_matrix(y_true = outputs[\"labels\"], y_pred = outputs[\"preds\"], labels = [\"PPMS\", \"RRMS\", \"SPMS\", \"other\"])"
   ]
  },
  {
   "cell_type": "code",
   "execution_count": 173,
   "metadata": {},
   "outputs": [
    {
     "name": "stdout",
     "output_type": "stream",
     "text": [
      "Label : 3\n",
      "Pred : 0\n",
      "Text: \n",
      " INDENT - aktuell: beschwerdefrei\n",
      "Label : 3\n",
      "Pred : 0\n",
      "Text: \n",
      " INDENT - 10/2013 MRI cerebral/ spinal: Im Myelon zeigen sich 3 zervikale und 4 thorakale Läsionen, grösste Läsion auf Höhe HWK2 umfasst nahezu die dorsalen 2/3, ist ödematös und weist ein diskretes Enhancement auf. Zwei neu aufgetretene Herde einer mit Kontrastmittelenhancement subependymal links am Truncus des Corpus callosum, der zweite ohne Aktivität im Forceps minor links. Flaue Läsion in der Medulla oblongata mit fraglichem Enhancement. Ansonsten intrakraniellen Herde stationär ohne Aktivität. \n",
      "Label : 3\n",
      "Pred : 0\n",
      "Text: \n",
      " INDENT Klinik\n",
      "Label : 3\n",
      "Pred : 1\n",
      "Text: \n",
      " INDENT 28.09.14: Neuritis nervi optici rechts - Remittiert bis ca. 11/14\n",
      "Label : 3\n",
      "Pred : 1\n",
      "Text: \n",
      " INDENT ca. 12/14: anamnestisch Neuritis nervi optici links - komplett remittiert\n",
      "Label : 3\n",
      "Pred : 0\n",
      "Text: \n",
      " Anamnestisch:\n",
      "Label : 3\n",
      "Pred : 0\n",
      "Text: \n",
      " Klinisch: \n",
      "Label : 3\n",
      "Pred : 1\n",
      "Text: \n",
      " INDENT 04/2017: Fraglicher Schub bei beidseitiger Visusminderung (re > li) mit Verschwommensehen über mehrere Monate ohne Farbentsättigung oder Augenmotilitätsstörungen\n",
      "Label : 3\n",
      "Pred : 0\n",
      "Text: \n",
      " Diagnostisch: \n",
      "Label : 3\n",
      "Pred : 0\n",
      "Text: \n",
      " Labor\n",
      "Label : 3\n",
      "Pred : 0\n",
      "Text: \n",
      " INDENT 09/2017 cMRI: Progression der FLAIR hyperintensen Läsionen supra- und infratentoriell. Zwei neue KM-aufnehmende Läsionen links periventrikulär auf Höhe der Cella media sowie rechts zerebellär. \n",
      "Label : 3\n",
      "Pred : 0\n",
      "Text: \n",
      " INDENT Klinisch: Thermhypästhesie der rechten Körperhälfte, leichte Ataxie im Finger-Nase-Versuch rechts, Lhermitte-Zeichen positiv \n",
      "Label : 3\n",
      "Pred : 1\n",
      "Text: \n",
      " INDENT 02/2018. Schubereignis mit Hypästhesie der Finger- und Zehenspitzen linksseitig\n",
      "Label : 3\n",
      "Pred : 1\n",
      "Text: \n",
      " INDENT seit 03/2017: IVIG (Schubaktivität)\n",
      "Label : 3\n",
      "Pred : 0\n",
      "Text: \n",
      " INDENT 01/2017 MRI Kopf und WS: eine neue Läsion sowie progrediente demyelinisierende Plaque subzentral rechts. Regrediente Kontrastmittelanreicherung intrakraniell bei Rest-Kontrastmittelanreicherung um die demyelinisierende Plaque im Bereich der Pons paramedian links. WS: stationär\n",
      "Label : 3\n",
      "Pred : 0\n",
      "Text: \n",
      " Labor\n",
      "Label : 3\n",
      "Pred : 1\n",
      "Text: \n",
      " INDENT aktuell Vd. a. zweiten Schub (Erstereignis 1997): \n",
      "Label : 3\n",
      "Pred : 1\n",
      "Text: \n",
      " INDENT 2010 Taubheitsgefühl beider Beine, sequentiell auftretend, positives Lhermitte-Zeichen, DD 1. Schub\n",
      "Label : 3\n",
      "Pred : 0\n",
      "Text: \n",
      " INDENT 09/2016: Optikusneuritis links mit Verschwommensehen links \n",
      "Label : 3\n",
      "Pred : 0\n",
      "Text: \n",
      " Labor:\n",
      "Label : 3\n",
      "Pred : 0\n",
      "Text: \n",
      " Therapeutisch:\n",
      "Label : 3\n",
      "Pred : 1\n",
      "Text: \n",
      " INDENT 03/2014 - 10/2016 Gilenya abgesetzt wegen Schub\n",
      "Label : 3\n",
      "Pred : 1\n",
      "Text: \n",
      " INDENT Ätiologisch: Unklar, DD vaskulär, DD schubförmige Multiple Sklerose eher unwahrscheinlich\n",
      "Label : 3\n",
      "Pred : 0\n",
      "Text: \n",
      " INDENT Klinisch/aktuell: nihil\n",
      "Label : 3\n",
      "Pred : 0\n",
      "Text: \n",
      " INDENT - 12/12 MRI spinal: Multiple T2-hyperintense Läsionen im Bereiche des zervikalen sowie des thorakalen Myelons und auch des Pons, die mit demyelinisierenden inaktiven Herden vereinbar sind. Fokale links medio laterale Diskushernie auf Höhe der BWK 6-7mit leichtgradiger Einengung des Spinal-kanals aber ohne Kompression neuraler Strukturen. Nebenbefundlich Hämangiom im BWK 7. \n",
      "Label : 3\n",
      "Pred : 0\n",
      "Text: \n",
      " INDENT Diagnostik: \n",
      "Label : 3\n",
      "Pred : 0\n",
      "Text: \n",
      " INDENT Anamnese: Kribbeln der linken Körperhälfte seit ca. 23.11.2015 langsam zunehmend; Mutter mit MS\n",
      "Label : 3\n",
      "Pred : 0\n",
      "Text: \n",
      " INDENT Klinik: sensomotorisches beinbetontes Hemisyndrom links, Koordinationsstörung Hand links, Kraftgrad Bein links M4, im Verlauf zunehmend mit Parese im Arm links distal bis M4 und im Bein links M3, im weiteren Verlauf deutliche Regredienz, bei Austritt residuell diskrete Kraftminderung und Feinmotorikstörung in der linken Hand sowie leichte Hypästhesie und Dysästhesien im Arm links\n",
      "Label : 3\n",
      "Pred : 0\n",
      "Text: \n",
      " Diagnostisch:\n",
      "Label : 3\n",
      "Pred : 0\n",
      "Text: \n",
      " INDENT Klinisch: Nicht aktiv; radiologisch: Nicht aktiv; Progression: Nein (Lublin, 2013)\n",
      "Label : 3\n",
      "Pred : 0\n",
      "Text: \n",
      " INDENT 05/2013: Erstmanifestation mit Optikusneuritis rechts\n",
      "Label : 3\n",
      "Pred : 1\n",
      "Text: \n",
      " INDENT 25.06.2013 Schub: Hemihypästhesie rechts (distal betont), nach Cortison vollständig regredient\n",
      "Label : 3\n",
      "Pred : 0\n",
      "Text: \n",
      " INDENT 5. Gabe (525mg) \n",
      "Label : 3\n",
      "Pred : 0\n",
      "Text: \n",
      " Klinisch\n",
      "Label : 3\n",
      "Pred : 1\n",
      "Text: \n",
      " INDENT -  1. Schub (4/03): Parese und Sensibilitätsstörung linke Hand (Remission)\n",
      "Label : 3\n",
      "Pred : 1\n",
      "Text: \n",
      " INDENT -  2. Schub (10/03): inkomplettes sensibles Querschnittssyndrom Höhe Th8 (Remission)\n",
      "Label : 3\n",
      "Pred : 1\n",
      "Text: \n",
      "    diskrete Schwäche linker Arm und fraglich auch rechtes Bein (Remission)\n",
      "Label : 3\n",
      "Pred : 0\n",
      "Text: \n",
      " INDENT -  4. Schub 06/13: Retrobulbärneuritis links \n",
      "Label : 3\n",
      "Pred : 1\n",
      "Text: \n",
      " INDENT 1993 erster Schub, anamnestisch Schwäche des Beins rechts über 1 Monat\n",
      "Label : 3\n",
      "Pred : 1\n",
      "Text: \n",
      " INDENT 03/2003 zweiter Schub mit Koordinationsstörung des rechten Beins und Feinmotorikstörung der rechten Hand\n",
      "Label : 3\n",
      "Pred : 0\n",
      "Text: \n",
      " INDENT Therapeutisch:\n",
      "Label : 3\n",
      "Pred : 0\n",
      "Text: \n",
      " INDENT Bisheriger Verlauf: schleichend progredient, radiologisch: leicht progredient, Progression: ja (nach Lublin et al. 2013)\n",
      "Label : 3\n",
      "Pred : 0\n",
      "Text: \n",
      " aktuell: klinisch aktiv, radiologisch nicht aktiv, Progression ja (nach Lublin et al. 2013)\n",
      "Label : 3\n",
      "Pred : 1\n",
      "Text: \n",
      " 12/16 fraglicher Schub mit Verschlechterung der Gangstörung, Cortisongabe in Italien\n",
      "Label : 3\n",
      "Pred : 0\n",
      "Text: \n",
      " Klinisch: \n",
      "Label : 3\n",
      "Pred : 1\n",
      "Text: \n",
      " Anfang 06/2017: Rezidivierende Kribbelparästhesien im rechten Bein. Nach Kortison im 07/2017 vollständige Regredienz.\n",
      "Label : 3\n",
      "Pred : 1\n",
      "Text: \n",
      " 03.07.2017: Schub mit Abduzensparese links. Nach Kortison vollständige Regredienz.\n",
      "Label : 3\n",
      "Pred : 0\n",
      "Text: \n",
      " Diagnostisch:\n",
      "Label : 3\n",
      "Pred : 0\n",
      "Text: \n",
      " Labor\n",
      "Label : 3\n",
      "Pred : 0\n",
      "Text: \n",
      " INDENT Anamnestisch: beschwerdefrei\n",
      "Label : 3\n",
      "Pred : 1\n",
      "Text: \n",
      " INDENT mindestens 3 Schübe mit INO, Augenmotilitätsstörungen, Facialislähmung links, leichtem Hemi-Syndrom links\n",
      "Label : 3\n",
      "Pred : 0\n",
      "Text: \n",
      " INDENT Therapeutisch:\n",
      "Label : 3\n",
      "Pred : 0\n",
      "Text: \n",
      " INDENT aktuell: klinisch: nicht aktiv, radiologisch: unklar, Progression: ja (nach Lublin 2013)\n",
      "Label : 3\n",
      "Pred : 0\n",
      "Text: \n",
      " INDENT 02/2019: Zunahme der Schwäche und Steifigkeit des linken Beines, seitdem weiter progredienter Verlauf\n",
      "Label : 3\n",
      "Pred : 0\n",
      "Text: \n",
      " laborchemisch:\n",
      "Label : 3\n",
      "Pred : 0\n",
      "Text: \n",
      " INDENT MR Schädel und HWS 11/2018 (Spital Bülach): Gemäss der McDonald Kriterien (Revision 2017): Bsp. Klinische Attacke und räumliche Dissemination erhärtet der intrazerebrale Befund den Verdacht auf eine MS bei demyelinisierenden Plaques in mindestens 6 MS-typischen Lokalisationen (periventrikulär und juxtakortikal. Weiterer Plaque im zervikalen Myelon auf Höhe von HWK 2 links. Kein Nachweis von aktiven Läsionen. \n",
      "Label : 3\n",
      "Pred : 0\n",
      "Text: \n",
      " INDENT MRI HWS 01/2021: Neue kleine demyelinisierende Läsion auf Höhe HWK 6 im Funiculus lateralis rechts sowie auf Höhe HWK 4 im Funiculus lateralis links. Bekannte MS-Läsionen auf Höhe HWK 2/3 etwas regredient. Keine Zeichen einer entzündlichen Aktivität. Gering progredienter medianer Bandscheibenprolaps auf Höhe BWK 2 / 3 mit geringem Umschlagen nach cranial.\n",
      "Label : 3\n",
      "Pred : 0\n",
      "Text: \n",
      " INDENT MRI Schädel 08/2018: Multiple supratentoriell Läsionen in einem für eine entzündlich demyelinisierende ZNS-Erkrankung typischen Verteilungsmuster, teils als 'black holes' abgrenzbar ohne Zeichen einer Aktivität. 3/4 Barkhof-Kriterien erfüllt. \n",
      "Label : 3\n",
      "Pred : 0\n",
      "Text: \n",
      " INDENT Therpaie:\n",
      "Label : 3\n",
      "Pred : 0\n",
      "Text: \n",
      " Partner:\n",
      "Label : 3\n",
      "Pred : 1\n",
      "Text: \n",
      " Aktuell: Intermittierende Parästhesien rechte Flanke, ohne Provokation (eher kein Lhermitte)\n",
      "Label : 3\n",
      "Pred : 0\n",
      "Text: \n",
      " Diagnostisch:\n",
      "Label : 3\n",
      "Pred : 0\n",
      "Text: \n",
      " klinisch: \n",
      "Label : 3\n",
      "Pred : 0\n",
      "Text: \n",
      " INDENT anamestisch: \n",
      "Label : 3\n",
      "Pred : 0\n",
      "Text: \n",
      " INDENT anamnestisch: Ende September 2020 aufgewacht mit Kribbeln in beiden Beinen und gestörter Erektion für 2-3 Tage, nach 2-3 Tage Kribbeln aufsteigend in Rumpf und Fingerspitzen, aktuell in den Beinen nicht mehr vorhanden. Aktuell seit zwei Wochen leiche Schwäche, Taubheit und Koordinationsstörung der linken Hand.\n",
      "Label : 3\n",
      "Pred : 1\n",
      "Text: \n",
      " INDENT MRI Gehirn 11/2020: Multiple Läsionen infra- und supratentoriell in einem entzündlichen Verteilungsmuster, teilweise mit Kontrastmittelaufnahme, sehr suggestiv für das Vorliegen einer chronisch entzündlichen demyelinisierenden ZNS-Erkrankung. Die bildgebenden McDonald Kriterien für Dissemination in Zeit und Ort sind erfüllt. Vd. a. akuten entzündlichen Schub.\n",
      "Label : 3\n",
      "Pred : 1\n",
      "Text: \n",
      " INDENT MRI WS 11/2020: Mehrere Läsionen des zervikalen und thorkalen Myelons, sehr suggestiv für chronisch enzündliche demyelinisierende ZNS-Erkrankung. Kontrastmittelaufnahme im Bereich des zervikalen Myelons, Vd. a. akuten entzündlichen Schub.\n",
      "Label : 3\n",
      "Pred : 0\n",
      "Text: \n",
      " INDENT 17.02.2012 MRI Schädel/spinal: Bekannte multiple MS-Läsionen supra- und infratentoriell mit 3 neuen Läsionen cerebral ohne KM-Anreicherung.\n",
      "Label : 3\n",
      "Pred : 0\n",
      "Text: \n",
      " INDENT Regredienz \n",
      "Label : 3\n",
      "Pred : 0\n",
      "Text: \n",
      " INDENT 09/2009 Retrobulbärneuritis rechts, komplett regredient\n",
      "Label : 3\n",
      "Pred : 0\n",
      "Text: \n",
      " INDENT 09/2020 cMRI und HWS: Supratentoriell 4 neue Läsionen mit Schrankenstörung, die grösste Läsion findet sich im Gyrus precentralis rechts. Darüberhinaus supra- und infratentoriell je eine neu aufgetretene Läsion ohne Schrankenstörung sowie fraglich leicht progrediente Läsionen am Hinterhorn des rechten Seitenventrikels. Im zervikalen und oberen thorakalen Myelon mehrere unveränderte Herde aber keine neu Läsionen.\n",
      "Label : 3\n",
      "Pred : 0\n",
      "Text: \n",
      " INDENT - MRI zerebral und spinal 10/2011: Multiple supratentorielle MS- Plaques, im Wesentlichen \n",
      "Label : 3\n",
      "Pred : 0\n",
      "Text: \n",
      "  - Therapeutisch:\n",
      "Label : 3\n",
      "Pred : 0\n",
      "Text: \n",
      " Klinisch:\n",
      "Label : 3\n",
      "Pred : 0\n",
      "Text: \n",
      " Diagnostisch: \n",
      "Label : 3\n",
      "Pred : 0\n",
      "Text: \n",
      " Therapeutisch:\n",
      "Label : 3\n",
      "Pred : 0\n",
      "Text: \n",
      " INDENT Klinisch: Residuelle periphere Fazialisparese links (Stirnrunzeln, Signe des cils, verminderter Augenschlag, Mundast), Kribbelparästhesien,  positives Babinski-Zeichen bds., erschöpfliche Fusskloni bds. (2-3), leichte Ataxie beim Finger-Nase-Versuch links, leicht schwankender Romberg-Versuch, positiver Unterberger Tretversuch nach links sowie sehr unsicherer Seiltänzergang. Blasenentleerungstörung.\n",
      "Label : 3\n",
      "Pred : 0\n",
      "Text: \n",
      " INDENT Therapeutisch:\n",
      "Label : 3\n",
      "Pred : 0\n",
      "Text: \n",
      " INDENT Labor: \n",
      "Label : 3\n",
      "Pred : 1\n",
      "Text: \n",
      " INDENT 05/2003 Schub mit Hemisyndrom links\n",
      "Label : 3\n",
      "Pred : 1\n",
      "Text: \n",
      " INDENT 12/2017 Schub mit Hypästhesie rechte Hand und rechter Fuss mit unvollständiger Rückbildung nach Cortison\n",
      "Label : 3\n",
      "Pred : 0\n",
      "Text: \n",
      " Labor\n",
      "Label : 3\n",
      "Pred : 0\n",
      "Text: \n",
      " klinisch:\n",
      "Label : 3\n",
      "Pred : 0\n",
      "Text: \n",
      " INDENT 04.11.13: Retrobulbärneuritis links mit Visusverlust, Fingerperimetrie links eingeschränkt, deutliche RAPD mit residueller Visusstörung links (Farbwahrnehmung, Visus 0.8 links)\n",
      "Label : 3\n",
      "Pred : 0\n",
      "Text: \n",
      " Labor\n",
      "Label : 3\n",
      "Pred : 0\n",
      "Text: \n",
      " INDENT Klinisch: nicht aktiv, radiologisch: aktiv, Progression: nein (nach Lublin et al. 2013)\n",
      "Label : 3\n",
      "Pred : 0\n",
      "Text: \n",
      " INDENT Seit 10/2009 rasch progrediente Verschlechterung der Gehfähigkeit\n",
      "Label : 3\n",
      "Pred : 0\n",
      "Text: \n",
      " INDENT Therapeutisch:\n",
      "Label : 3\n",
      "Pred : 0\n",
      "Text: \n",
      " klinisch:\n",
      "Label : 3\n",
      "Pred : 2\n",
      "Text: \n",
      " INDENT Eine Reha ist nötig um weiterer Immobilisierung entgegenzuwirken und eine Verbesserung der Gehstrecke zu erreichen, die Spastik adequat zu behandeln sowie Copingstrategien zu entwickeln. (s. Einzelpunkte). Bei Sekundär progredienter MS sind die medikamentösen Behandlungsmöglichkeiten sehr eingeschränkt. Die Rehabilitation ist eine der wichtigsten Massnahmen um einer Immobilisierung und vollständigen Rollstuhlpflicht entgegenzuwirken.\n",
      "Label : 3\n",
      "Pred : 0\n",
      "Text: \n",
      " Klinisch: \n",
      "Label : 3\n",
      "Pred : 0\n",
      "Text: \n",
      " Labor:\n",
      "Label : 3\n",
      "Pred : 0\n",
      "Text: \n",
      " Labor: \n",
      "Label : 3\n",
      "Pred : 0\n",
      "Text: \n",
      " INDENT 04/2017 MRI cerebral & spinal: supratentoriell neue und teils grössenprogrediente Läsionen, partiell mit vermehrter Kontrastanreicherung sowie eine neue Läsion im Mesencephalon / Crus cerebri rechts. Spinale multiple neue Läsionen teils auch mit punktförmiger Kontrastanreicherung bei Th5/6 sowie Progredienz einer vorbestehenden Läsion auf Höhe TH 10. \n",
      "Label : 1\n",
      "Pred : 3\n",
      "Text: \n",
      " INDENT ätiologisch: möglicherweise multiple Sklerose\n",
      "Label : 1\n",
      "Pred : 3\n",
      "Text: \n",
      " Multiple Sklerose (EM 05/2011, ED 09/2011)\n"
     ]
    }
   ],
   "source": [
    "for label, pred, text in zip(*outputs.values()):\n",
    "    if label != pred:\n",
    "        print(\"Label :\", label)\n",
    "        print(\"Pred :\", pred)\n",
    "        print(\"Text: \\n\", text)"
   ]
  },
  {
   "cell_type": "markdown",
   "metadata": {},
   "source": [
    "# Testing"
   ]
  }
 ],
 "metadata": {
  "kernelspec": {
   "display_name": "Python 3 (ipykernel)",
   "language": "python",
   "name": "python3"
  },
  "language_info": {
   "codemirror_mode": {
    "name": "ipython",
    "version": 3
   },
   "file_extension": ".py",
   "mimetype": "text/x-python",
   "name": "python",
   "nbconvert_exporter": "python",
   "pygments_lexer": "ipython3",
   "version": "3.11.4"
  }
 },
 "nbformat": 4,
 "nbformat_minor": 4
}

{
 "cells": [
  {
   "cell_type": "markdown",
   "metadata": {},
   "source": [
    "# MS Preprocessing\n",
    "To get comparability to old project I will use parts of their data preprocessing. Specifically I use the seantis_kisim.csv that they have prepared. Their approach:\n",
    "\n",
    "1. Extract the longest diagnosis per rid (most lines) from the csv and if the rid had a manually line labelled text, they used this instead.\n",
    "2. Results in dataset consisting of text lines per row with a label for the line.\n",
    "\n",
    "Further processing:\n",
    "\n",
    "3. Merge diagnoses.csv and line labelled dataset by rid. Clean the labels. Correct SPMS and PPMS labels that are wrong.\n",
    "4. Get a list of eligible rid (rids with text that have at least one dm line).\n",
    "5. Df1: concatenate all dm lines per eligible rid for the text.\n",
    "6. Df2: concatenate all text per eligible rid."
   ]
  },
  {
   "cell_type": "code",
   "execution_count": 61,
   "metadata": {},
   "outputs": [],
   "source": [
    "import pandas as pd\n",
    "import torch\n",
    "import sys\n",
    "import os\n",
    "sys.path.append(os.getcwd()+\"/../..\")\n",
    "\n",
    "from src import paths\n",
    "from src.utils import ms_label2id\n",
    "\n",
    "from datasets import DatasetDict, Dataset\n",
    "\n",
    "from sklearn.model_selection import train_test_split"
   ]
  },
  {
   "cell_type": "code",
   "execution_count": 62,
   "metadata": {},
   "outputs": [],
   "source": [
    "# Line Labelled dataset\n",
    "data = torch.load(paths.RESULTS_PATH/\"line-label/line-label_medbert-512_token_finetuned_all.pt\")\n",
    "\n",
    "data_list = []\n",
    "for obs in data:\n",
    "    _df = pd.DataFrame(obs[\"text\"], columns=[\"text\"])\n",
    "    _df[\"class2\"] = obs[\"preds\"]\n",
    "    _df[\"rid\"] = obs[\"rid\"]\n",
    "    data_list.append(_df)\n",
    "\n",
    "data_df = pd.concat(data_list)\n",
    "\n",
    "data_df.to_csv(paths.DATA_PATH_PREPROCESSED/\"ms-diag/line-label_medbert-512_token_finetuned_all.csv\", index=False)"
   ]
  },
  {
   "cell_type": "code",
   "execution_count": 63,
   "metadata": {},
   "outputs": [],
   "source": [
    "# Line labelled dataset from classifier 1\n",
    "df_text = pd.read_csv(os.path.join(paths.DATA_PATH_PREPROCESSED, \"ms-diag\", \"line-label_medbert-512_token_finetuned_all.csv\"))[[\"rid\", \"text\", \"class2\"]]\n",
    "df_labels = pd.read_csv(os.path.join(paths.DATA_PATH_SEANTIS, \"diagnoses.csv\"))\n",
    "\n",
    "# In old approach they only used confirmed diagnosis\n",
    "df_labels = df_labels[df_labels[\"diagnosis_reliability\"] == \"confirmed\"]\n",
    "df_labels = df_labels[[\"research_id\", \"disease\"]].rename(columns={\"disease\": \"labels\", \"research_id\": \"rid\"})"
   ]
  },
  {
   "cell_type": "code",
   "execution_count": 64,
   "metadata": {},
   "outputs": [],
   "source": [
    "# Merge with diagnoses.csv\n",
    "df_merged = pd.merge(df_text, df_labels, on=\"rid\", how=\"inner\")"
   ]
  },
  {
   "cell_type": "code",
   "execution_count": 65,
   "metadata": {},
   "outputs": [],
   "source": [
    "# English Labels\n",
    "english_labels = set([\"relapsing_remitting_multiple_sclerosis\", \"secondary_progressive_multiple_sclerosis\", \"primary_progressive_multiple_sclerosis\"])\n",
    "other_labels = set(df_merged[\"labels\"].unique()) - english_labels"
   ]
  },
  {
   "cell_type": "code",
   "execution_count": 66,
   "metadata": {},
   "outputs": [
    {
     "data": {
      "text/plain": [
       "{'Multiple Sklerose',\n",
       " 'Multiple Sklerose a.e. primär progredient',\n",
       " 'Multiple Sklerose mit a.e. primär-progredientem Verlauf',\n",
       " 'Multiple Sklerose mit am ehesten progredientem Verlauf',\n",
       " 'Progressive multifokale Leukencephalopathie (PML)',\n",
       " 'Schubförmig remittierende Multiple Sklerose ',\n",
       " 'Schubförmig remittierende Multiple Sklerose (RRMS)',\n",
       " 'Schubförmige Multiple Sklerose',\n",
       " 'St.n. symptomatischer Epilepsie mit einfach fokalen und komplex fokalen Anfällen'}"
      ]
     },
     "execution_count": 66,
     "metadata": {},
     "output_type": "execute_result"
    }
   ],
   "source": [
    "other_labels"
   ]
  },
  {
   "cell_type": "code",
   "execution_count": 67,
   "metadata": {},
   "outputs": [
    {
     "name": "stdout",
     "output_type": "stream",
     "text": [
      "['Multiple Sklerose a.e. primär progredient']\n",
      "1. Multiple Sklerose a.e. primär progredient, EM 2011, ED 03/2015, EDSS 3.5 INDENT klinisch: nicht aktiv, radiologisch: nicht aktiv, Progression: nein (nach Lublin et al. 2013) INDENT aktuell: im langfristigen Verlauf langsame Besserung der spastisch-ataktischen Gangstörung  Verlauf: INDENT 1997 Episode mit aufsteigenden Sensibilitätsstörungen der Beine. Abklärungen erfolgten in der Neurologie USZ (LP, MRI, evozierte Potentiale), eine Diagnose wurde jedoch nicht gestellt  INDENT 1997-2011 Anamnestisch keine neurologische Symptomatik eruierbar INDENT 2011-2016 langsam progrediente, rechtsbetonte spastisch-ataktische Gangstörung, distal betonte Pallhypästhesie und eingeschränktes Lageempfinden der unteren Extremität Diagnostik: Bildgebung INDENT 06.02.2015 MRI Wirbelsäule: Multietagere multiple T2 hyperintense Läsionen cervicothorakal, V.a. Gd-Aufnahme auf Niveau BWK 5 - BWK 7 INDENT 18.02.2015 MRI Gehirn: Multiple T2w- und FLAIRw-hyperintense supra- und infratentorielle Läsionen, passend zu einer demyelinisiernden Erkrankung. Vd. a. leichte Opticusneuritis links INDENT MRI Schädel/WS 02/2016: multiple neue KM anreicherne Läsionen cerebral und spinal, teils ringförmig INDENT 01/2017 MRI Kopf und WS: eine neue Läsion sowie progrediente demyelinisierende Plaque subzentral rechts. Regrediente Kontrastmittelanreicherung intrakraniell bei Rest-Kontrastmittelanreicherung um die demyelinisierende Plaque im Bereich der Pons paramedian links. WS: stationär INDENT 09/2017 MRI Neuroachse: Unveränderte demyelinisierende Läsionen intrakraniell und spinal; weiterhin ohne Hinweis auf Aktivität; stationäre Myelonatrophie zervikal INDENT 09/2018 MRI WS: Unveränderte demyelinisierende Läsionen des Myelons ohne Nachweis neuer oder aktiver Herde. Stationäre Myelonatrophie zervikal. INDENT 02/2019 MRI Schädel: ausgedehnte Läsionen ohne Anhalt für neue oder aktive Herde INDENT 10/2019 MRI Schädel: bekannte, extensive Darstellung Demyelinisierungsherde, kein Anhalt für neue oder aktive Herde    Labor INDENT Liquor 12.02.2015: ZZ 8/µl,  IgG Index 1.85, OKB positiv\n",
      "['Multiple Sklerose']\n",
      "Multiple Sklerose, a.e. mit schubförmiger Verlaufsform mit unvollständiger Remission, DD SPMS nach oligosymptomatischer RRMS, EM 12/2016, ED 03/2017, EDSS 2.5 INDENT aktuell: Seit einigen Tagen Lage- und bewegungsabhängig Drehschwindelattacken für wenige Sekunden INDENT Klinisch residuell: leichtgradige Paraspastik der Beine, Fatigue-Symptomatik, stechende Schmerzen der Handinnenflächen bds., DD neuropathisch, EDSS 2.5 INDENT Verlauf: INDENT 12/2016: muskelkaterartige Schmerzen der Beine und Paraspastik der Beine mit Progredienz innerhalb von 4 Wochen, ohne Regredienz INDENT 05/2017: stechende Schmerzen im Bereich beider Handinnenflächen mit Entwicklung innerhalb von 2 Wochen, im Verlauf Regredienz und erneutes Auftreten mit fluktuierenden Symptomen INDENT 11/2017: nach Masern-Impfung schubartige Verschlechterung mit Schwindel-Symptomatik, partielle Rgredienz nach Cortison-Stosstherapie INDENT Diagnostik: INDENT Liquor: 04/2017: 2 Zellen/ul, normaler Alb Q, intrathekale IgG Synthese im Reiberdiagramm, OKB im Liquor positiv INDENT Laborabklärungen: Lupus Antigoagulans, Anti-Phsopholipid-Ak, Anti-SSA/B, Anti- RNP/Sm, Anti-Sm, NMO-Ak, AntidsDNA, ANA, RF, und ANCA negativ, ACE, Vitamin B12 und Routinelabor bland INDENT Serologien 03/2017: Borrelien, Lues und HIV negativ INDENT ENMG Dr. Schnyder 12.06.2017: normale sensomotorische Neurographien des N. unlaris und N. medianus rechts INDENT Serologie 10/2017: HIV, HCV, HBV und Quantiferon Test negativ INDENT Neuropsychologie 08/2017:  leichte frontale Dysfunktionen, ansonsten durchwegs normgerechte testdiagnostische Befunde. Fatigue-Symptomatik. V.a. Anpassungsstörung mit depressiver Entwicklung INDENT Bildgebung INDENT 03/2017 MRI Schädel: multiple T2-hyperintense Läsionen morphologisch passend zu einer MS, die MAGNIMS Kriterien für örtliche Dissemination sind erfüllt. Keine Zeichen der Aktivität. INDENT 03/2017 MRI spinal: keine intramedulläre Läsion\n",
      "['Multiple Sklerose mit am ehesten progredientem Verlauf']\n",
      " Multiple Sklerose mit a.e. progredientem Verlauf, (EM 2012, ED 07/2013), EDSS 6.0 DD progressiv relapsing aktuell:klinisch nicht aktiv, radiologisch nicht aktiv, progredient (nach Lublin et al. 2013) Aktuell: rechtsbetonte spastische Paraparese der Beine mit spastisch-aktaktischem Gangbild. Distal betonte Hypästhesie der Beine sub L1 sowie der Hände beidseits. Verlauf: Seit 11/2012 progrediente Gangstörung mit Schwäche und Sensibilitätsstörung beider Beine re>li, Sensibilitätsstörungen im Gesicht rechts (regredient) sowie an den oberen und unteren Extremitäten (gebessert) 12/2014 Optikusneuritis rechts   Diagnostik: Labor:  Liquor vom 07/2013: Zellzahl 11/µl (0-4), intrathekale IgG- und IgM-Synthese, oligoklonale Banden positiv  JCV-Status: postiv bei 3,96  Bildgebung: MRI Gehirn und WS 07/2013: Multiple MS typische Läsionen im Gehirn supra- und infratentoriell sowie auf der gesamten Länge des Rückenmarks. Keine aktiven Plaques. Erweiterte MS Basisdiagnostik  (inkl. Borrelien-, HIV- und Hepatitis-Serologie, Sarkoidose, Vaskulitiden, Vitamin B12 / Folsäure) unauffällig. Überlangkettige Fettsäuren und Phytansäure normal. MRI Gehirn und WS 06/2015: Stationärer Befund zu 07/2013 MRI Gehirn und WS 04/2016: Stationärer Befund  MRI Gehirn und WS 11/2016: Prominente demyelinisierende Läsion pontomedullär, in der Voruntersuchung nicht eindeutig abgrenzbar, ansonsten stationärer Befund 11/2017 cMRI: zwei neue T2-hyperintense Läsionen occipitotemporal links ohne Kontrastmittelaufnahme. Zudem ist die pontomedulläre Läsion leicht grössenprogredient MRI Neuroachse 07/2018: 2 neue Läsionen infratentoriell MRI Neuroachse 03/2019: stabiler Befund Therapie: Stationäre Rehabilitation in Valens (6 Wochen, 09/2013 und 09/2016), ambulante Physiotherapie und MTT Steroidstosstherapie in Intervallen, initial alle 4 Wochen, danach alle 3 Monate. 1. Steroidstoss: 12.8.13 - 16.8.13 (5d) 2. Steroidstoss. 30.9.13 - 2.10.13 (3d) \n",
      "['Schubförmige Multiple Sklerose']\n",
      "Immunität Masern/Mumps/Röteln INDENT Mumps anamnestisch durchgemacht INDENT St.n. zweimaliger Masern-Impfung INDENT Röteln IgG positiv 31 IE/ml IgG 18.02.2020\n",
      "['Multiple Sklerose mit a.e. primär-progredientem Verlauf']\n",
      "Multiple Sklerose mit primär-progredientem Verlauf, EM 2012, ED 2015 INDENT EDSS 3.5 INDENT Klinisch nicht aktiv, radiologisch nicht aktiv, Progression unklar (nach Lublin et al. 2013) INDENT Verlauf:  INDENT Seit 2013 anamnestisch schleichende Progredienz der Gangstörung INDENT Seit 2014 kognitive Defizite INDENT Seit 11/2020 Gang-, Koordinations- und leichte Artikulationsstörung, Hemihypästhesie links, Feinmotorikstörung Hand links INDENT Diagnostik:  INDENT Bildgebung:  INDENT MRI Neuroachse 03/2020: stationär INDENT MRI Schädel 09/2019: stationär INDENT MRI Schädel 04/2019: stationär INDENT MRI Neuroachse 09/2018: keine neuen oder aktiven Läsionen INDENT MRI Schädel 01/2018: stationärer Befund ohne neue oder aktive Läsionen INDENT MRI Schädel 06/2016: 2 neue Läsionen parietales Marklager rechts, keine akute Entzündung INDENT MRI spinal 05/2015: 4 postentzündliche Myelonläsionen, keine akute Entzündung, multisegmentale degenerative Veränderungen mit Einengung der Intervertebralkanäle C4 beidseits INDENT MRI Schädel 04/2015: zahlreiche supra- und infratentorielle Läsionen mit MS-typischer Morphologie und Verteilungsmuster, keine akute Entzündung, Myelonläsion auf Höhe C3/4 INDENT Liquor/Labor: INDENT Liquor 05/2015: Intrathekale IgG-Synthese, positive OKBs INDENT Serum 05/2015 : Negativ für Borr. IgG/IgM, FSME IgG/IgM, HIV, ANA, ANCA, Kardiolipin IgG, beta2-Glykoprotein IgG/IgM, Kardiolipin IgM bei 21 kU/l leicht erhöht   INDENT Zusatzdiagnostik: INDENT 01/2018 MEPs, SEPs ohne Leitungsstörung, VEPs mit unverändert grenzwertiger Latenz der P100 bds. INDENT Neuropsychologie 02/2019: Neurokognitiv zeigt sich in der aktuellen Untersuchung bis auf eine diskret reduzierte verbale Erfassungsspanne ein stabiles Leistungsprofil mit im Verlgeich zum Vorbefund vom 05.03.2018 signifikanten Verbesserungen in der figuralen Geläufigkeit sowie beim Wiedererkennen figuraler Inhalte.  INDENT Therapie: INDENT Unter Ocrelizumab seit 04/2018\n",
      "['Progressive multifokale Leukencephalopathie (PML)'\n",
      " 'relapsing_remitting_multiple_sclerosis'\n",
      " 'St.n. symptomatischer Epilepsie mit einfach fokalen und komplex fokalen Anfällen']\n",
      "1.) Schubförmig verlaufende Multiple Sklerose (ED und EM 2002), EDSS 5.0 1.) Schubförmig verlaufende Multiple Sklerose (ED und EM 2002), EDSS 5.0 1.) Schubförmig verlaufende Multiple Sklerose (ED und EM 2002), EDSS 5.0 2.) Progressive multifokale Leukencephalopathie (PML) ED 10/2011 2.) Progressive multifokale Leukencephalopathie (PML) ED 10/2011 2.) Progressive multifokale Leukencephalopathie (PML) ED 10/2011 klinisch klinisch klinisch INDENT aktuell: spastisches Hemisyndrom rechts mit distal- und beinbetonter Parese & ataktischer Gangstörung, Dystonien der rechten Hand/ sowie beim Sprechen/Schlucken INDENT aktuell: spastisches Hemisyndrom rechts mit distal- und beinbetonter Parese & ataktischer Gangstörung, Dystonien der rechten Hand/ sowie beim Sprechen/Schlucken INDENT aktuell: spastisches Hemisyndrom rechts mit distal- und beinbetonter Parese & ataktischer Gangstörung, Dystonien der rechten Hand/ sowie beim Sprechen/Schlucken Verlauf: Verlauf: Verlauf: INDENT 06/02 Erstmanifestation mit isolierten Doppelbildern, vollständige Remission INDENT 06/02 Erstmanifestation mit isolierten Doppelbildern, vollständige Remission INDENT 06/02 Erstmanifestation mit isolierten Doppelbildern, vollständige Remission INDENT 12/02 Zweiter Schub mit erneuten Doppelbildern und Sensibilitätsstörung der rechten Hand, erneute Schubbhandlung mit Kortison  INDENT 12/02 Zweiter Schub mit erneuten Doppelbildern und Sensibilitätsstörung der rechten Hand, erneute Schubbhandlung mit Kortison  INDENT 12/02 Zweiter Schub mit erneuten Doppelbildern und Sensibilitätsstörung der rechten Hand, erneute Schubbhandlung mit Kortison  INDENT Verlauf 2002-2008: anamnestisch 3-4 Schübe pro Jahr, die sich hauptsächlich mit Kribbelparästhesien manifestierten  INDENT Verlauf 2002-2008: anamnestisch 3-4 Schübe pro Jahr, die sich hauptsächlich mit Kribbelparästhesien manifestierten  INDENT Verlauf 2002-2008: anamnestisch 3-4 Schübe pro Jahr, die sich hauptsächlich mit Kribbelparästhesien manifestierten  INDENT 02/2006: Optikusneuritis links INDENT 02/2006: Optikusneuritis links INDENT 02/2006: Optikusneuritis links INDENT 2009: 1 weiterer Schub INDENT 2009: 1 weiterer Schub INDENT 2009: 1 weiterer Schub INDENT 06/2011: Sensibilitätsstörungen der rechten Körperhälfte (Zunge, Arm, Bein); Cortisonstoss 1g i.v. über 5 Tage INDENT 06/2011: Sensibilitätsstörungen der rechten Körperhälfte (Zunge, Arm, Bein); Cortisonstoss 1g i.v. über 5 Tage INDENT 06/2011: Sensibilitätsstörungen der rechten Körperhälfte (Zunge, Arm, Bein); Cortisonstoss 1g i.v. über 5 Tage INDENT 08/2011: Cortisonstoss über 3 Tage bei fehlender Regredienz von Sprechstörungen und Ungeschicklichkeit in der rechten Hand  INDENT 08/2011: Cortisonstoss über 3 Tage bei fehlender Regredienz von Sprechstörungen und Ungeschicklichkeit in der rechten Hand  INDENT 08/2011: Cortisonstoss über 3 Tage bei fehlender Regredienz von Sprechstörungen und Ungeschicklichkeit in der rechten Hand  INDENT 10/2011: Hemiparese rechts, Dysarthrie und Tremor der rechten Hand im Rahmen einer Tysabri induzierten PML INDENT 10/2011: Hemiparese rechts, Dysarthrie und Tremor der rechten Hand im Rahmen einer Tysabri induzierten PML INDENT 10/2011: Hemiparese rechts, Dysarthrie und Tremor der rechten Hand im Rahmen einer Tysabri induzierten PML INDENT 11/2011: PML-IRIS mit Zunahme der Hemiparese rechts INDENT 11/2011: PML-IRIS mit Zunahme der Hemiparese rechts INDENT 11/2011: PML-IRIS mit Zunahme der Hemiparese rechts INDENT 11/2012: Schub mit oralem Kortisonstoss über 5 Tage INDENT 11/2012: Schub mit oralem Kortisonstoss über 5 Tage INDENT 11/2012: Schub mit oralem Kortisonstoss über 5 Tage INDENT 02/2013: Schub mit Zunahme der Koordinationsstörungen Bein rechts, mit Cortison oral behandelt INDENT 02/2013: Schub mit Zunahme der Koordinationsstörungen Bein rechts, mit Cortison oral behandelt INDENT 02/2013: Schub mit Zunahme der Koordinationsstörungen Bein rechts, mit Cortison oral behandelt INDENT 08/2013: Schub mit enoralem Taubheitsgefühl, Dysguesie, vermehrter Mundastschwäche rechts, Zunahme der Kraftminderung und Fühlstörung im rechten Beins INDENT 08/2013: Schub mit enoralem Taubheitsgefühl, Dysguesie, vermehrter Mundastschwäche rechts, Zunahme der Kraftminderung und Fühlstörung im rechten Beins INDENT 08/2013: Schub mit enoralem Taubheitsgefühl, Dysguesie, vermehrter Mundastschwäche rechts, Zunahme der Kraftminderung und Fühlstörung im rechten Beins Diagnostisch:  Diagnostisch:  Diagnostisch:  INDENT MRI Schädel 7.10/2011: PML- suspekte Läsion frontoparietal links INDENT MRI Schädel 7.10/2011: PML- suspekte Läsion frontoparietal links INDENT MRI Schädel 7.10/2011: PML- suspekte Läsion frontoparietal links INDENT Liquor 10/2011: JCV PCR positiv INDENT Liquor 10/2011: JCV PCR positiv INDENT Liquor 10/2011: JCV PCR positiv INDENT MRI Schädel 18.02.2013: aktive demyelinisierende Läsion cerebellär links sowie neue inaktive Läsion am Boden des IV. Ventrikels links INDENT MRI Schädel 18.02.2013: aktive demyelinisierende Läsion cerebellär links sowie neue inaktive Läsion am Boden des IV. Ventrikels links INDENT MRI Schädel 18.02.2013: aktive demyelinisierende Läsion cerebellär links sowie neue inaktive Läsion am Boden des IV. Ventrikels links INDENT MRI spinal 18.02.2013: Unverändert INDENT MRI spinal 18.02.2013: Unverändert INDENT MRI spinal 18.02.2013: Unverändert INDENT MRI Schädel: 28.06.13: Unverändert INDENT MRI Schädel: 28.06.13: Unverändert INDENT MRI Schädel: 28.06.13: Unverändert INDENT MRI Schädel und spinal von 08/2013: neu aufgetretene prominente Läsion der Höhe HWK5 rechts. Keine KM-Aufnahme. Ansonsten stabiler Befund INDENT MRI Schädel und spinal von 08/2013: neu aufgetretene prominente Läsion der Höhe HWK5 rechts. Keine KM-Aufnahme. Ansonsten stabiler Befund INDENT MRI Schädel und spinal von 08/2013: neu aufgetretene prominente Läsion der Höhe HWK5 rechts. Keine KM-Aufnahme. Ansonsten stabiler Befund\n",
      "['Multiple Sklerose a.e. primär progredient']\n",
      "1. Multiple Sklerose, a.e. primär-progredient, DD aufgelagerte Schübe (EM 2008, ED 11/2011), EDSS 6.0 Aktuell: klinisch nicht aktiv, radiologisch fraglich aktiv (DD technisch bedingt), keine Progression (nach Lublin et al. 2013) Verlauf: INDENT 2008: Lhermitte-Zeichen mit elektrischer Sensation vom Hals bis in das linke Bein INDENT 2008: progredientes Schleifen des linken Beines, Gehstrecke > 5km INDENT 2008-2011: stetige Verschlechterung der Gangstörung im linken Bein INDENT 2011: Diagnosestellung: Gehstrecke mit Pause nach 30 Minuten, anschliessend Schmerzen im Rücken, aber uneingeschränkte Gehstrecke INDENT 2015: Gehstrecke 300 m ohne Pause und Hilfe INDENT 06/2016: massive Verschlechterung der Gehstrecke auf 34 m, nach Aufenthalt in Valens ca. 500 m mit Schiene INDENT 06/2017: massive Verschlechterung mit Gehstreckenminderung und Schwäche im linken Bein (200 m) und linken Arm, zudem langsame Verschlechterung im rechten Bein mit Kraftminderung und leichter Spastik INDENT 01/2018: EDSS 5.0 INDENT 05/2018: Gehstrecke mit bds. Gehhilfe ca. 150 - 200 m, EDSS 6.5 Radiologisch: INDENT 16.10.2017 cMRI: Keine Hinweise auf aktive Entzündung. Läsionslast im Gehirn ist unverämdert zu 16.06.2016. Diffuser Befall im Halsmark ohne merkliche Änderung.Thorakal keine sicheren Herde nachweisbar. INDENT cMRI 02/2018: stationäre Läsionslast, diskrete infratentorielle Volumenminderung INDENT MRI Neuroachse 08/2018: stabiler Befund INDENT MRI Neuroachse 01/2019: stabiler Befund INDENT cMRI 12.07.2019: 3 neue, kleine demyelinisierende Läsionen ohne Kontrastmittelanreicherung in der superioren Medulla oblongata anterior rechts, rechts temporooccipital juxtakortikal und rechts im inferioren Anteil des Gyrus praecentralis juxtakortikal (DD technisch bedingt bei Wechsel des MRI-Geräts)\n",
      "['Schubförmig remittierende Multiple Sklerose ']\n",
      "Multiple Sklerose\n",
      "['Schubförmig remittierende Multiple Sklerose (RRMS)']\n",
      "Schubförmig remittierende Multiple Sklerose (EM 04/2011, ED 11/2011) EDSS 1.0 Aktuell:  subjektiv beschwerdefrei, Pallhypästhesie bimalleolär (6/8)  Verlauf: INDENT 2005: sensible Symptomatik linke grosse Zehe für mehrere Monate, vollständige Remission INDENT 2010: sensible Symptomatik der Hand (Seite nicht eruierbar) für 2 Wochen,  vollständige Remission INDENT 03/2011: internukleäre Ophtalmoplegie bds (li>re), EDSS 2.5, im Verlauf vollständige Remission INDENT 01/2015: inkompletter sensibler Querschnitt links  sub Th6 (Beginn 12/2014), vollständige Remission Diagnostisch:  Labor INDENT 03/2011 Immunologisches Screening: unauffällig INDENT 03/2011 Liquor: 5 Zellen/µl,  OKB positiv in Liquor und Serum, IgG Index erhöht, IgG und IgM Synthese.  INDENT JCV-Serologie 12/2011: positiv; 08/2013: positiv, Index 1.922; 01/2015: positiv, Index 2.26 INDENT 10/2017 Serologie: HCV, HIV neg., Anti-HBs 16 (>10), HBs-Ag negativ, VZV IgG positiv, VZV IgM neg. Bildgebung INDENT 2011 - 03/2016  MRIs cranial wie auch spinal: jeweils neue, teils auch aktive Läsionen; nur während Tysabri-Therapie Stabilität INDENT 09/2016  - 10/2016 cMRI: stationäre Befunde, keine KM-Anreicherung INDENT 10/2017 cMRI: Neue T2-hyperintense Läsion peritrigonal links sowie in Grösse zugenommene Läsion im Thalamus rechts angrenzend an Capsula interna. Keine KM-Aufnahme weitere Untersuchungen INDENT 03/2011 VEP und Medianus-SEP: normal  INDENT 03/2012 NPSY: ingesamt weitgehend unauffälliges kognitives Leistungsprofil, kein Hinweis auf Depressions- oder Fatiguesymptomatik Therapeutisch:  INDENT 04/2011 Solumedrol i.v., darunter Hautrötungen mit urtikariellen Läsionen, Übelkeit, Schwellung der Lider, daher Wechsel auf Fortecortin und Tavegyl  INDENT 14.4.2011 - 3.1.2012 Betaferon 1mg s.c jeden 2. Tag\n"
     ]
    }
   ],
   "source": [
    "# Check non english labels\n",
    "pd.set_option('display.max_colwidth', None)\n",
    "pd.set_option('display.max_rows', None)\n",
    "\n",
    "for rid, rid_data in df_merged.groupby(\"rid\"):\n",
    "    if rid_data.labels.isin(other_labels).any():\n",
    "        print(rid_data.labels.unique())\n",
    "        print(rid_data[\"text\"].str.cat(sep = \" \"))"
   ]
  },
  {
   "cell_type": "code",
   "execution_count": 68,
   "metadata": {},
   "outputs": [],
   "source": [
    "# Remap non english labels if possible\n",
    "map_dict = {\n",
    "    \"Multiple Sklerose a.e. primär progredient\": \"primary_progressive_multiple_sclerosis\",\n",
    "    \"Multiple Sklerose mit a.e. primär-progredientem Verlauf\": \"primary_progressive_multiple_sclerosis\",\n",
    "    \"Schubförmig remittierende Multiple Sklerose (RRMS)\": \"relapsing_remitting_multiple_sclerosis\",\n",
    "}\n",
    "df_merged = df_merged.replace(map_dict)"
   ]
  },
  {
   "cell_type": "code",
   "execution_count": 69,
   "metadata": {},
   "outputs": [],
   "source": [
    "# Remove all non english labels\n",
    "df_merged = df_merged[df_merged[\"labels\"].isin(english_labels)]"
   ]
  },
  {
   "cell_type": "code",
   "execution_count": 42,
   "metadata": {},
   "outputs": [
    {
     "name": "stdout",
     "output_type": "stream",
     "text": [
      "2A9F4832-B09D-470A-B05F-519854310DBB\n",
      "Schubförmige Multiple Sklerose (ED 1990), EDSS 6.5, V.a. sekundär-progredienten Verlauf\n",
      "INDENT aktuell: seit Ende 03/2018 aufgrund schwerer Belastungssituation am Arbeitsplatz zunehmende schmerzhafte Krämpfe aller Extremitäten rechts- und beinbetont, Zunahme der Beinschwäche, zusätzlich Gedächtnis- und Konzentrationsstörungen, am Eintrittstag bei allgemeinem Schwächegefühl nicht mehr aufstehen können\n",
      "INDENT anamnestisch: Gehstrecke zuvor 150 m mit Gehhilfe, vermehrte Sturzanfälligkeit, Harninkontinenz, leichte Fatigue-Symptomatik\n",
      "INDENT klinisch: rechts- und beinbetonte spastische Tetraparese, Gang- und Standataxie, Sensibilitätsminderung der rechten Extremität, neurogene Blasenfunktionsstörung \n",
      "INDENT Verlauf:\n",
      "INDENT EM: Müdigkeit schon als Kind\n",
      "INDENT ED 1990: beide Beine plötzlich gelähmt\n",
      "INDENT 05/2009: deutliche Verschlechterung der vorbestehenden Gang- und Standunsicherheit durch starken Schwankschwindel\n",
      "INDENT 2010-2011: Gehhilfe\n",
      "INDENT 2012: Valens\n",
      "INDENT 2016: Gehstrecke 150m mit Gehhilfe\n",
      "INDENT 11/2016: Schub mit linksseitiger sensomotorischer Hemisymptomatik\n",
      "INDENT 2017: Valens\n",
      "INDENT 06/2017: letzter Schub ausgelöst durch Kieferhöhlenentzündung\n",
      "INDENT Diagnostik:\n",
      "INDENT 1990: Lumbalpunktion (Dr. Bevermeier)\n",
      "INDENT 03/2015 MRI spinal: T2-Läsionen im Myelon auf Höhe C1, C3, und C5/6, bei C3 und C5/6 ist das Myelon zusätzlich atroph, im STIR-Bild zeigen sich weitere Signalveränderungen im hochthorakalen Myelon, keine KM-Aufnahme\n",
      "INDENT 11/2016 cMRI: Nachweis von multiplen Signalveränderungen im Gehirn, passend zu Entmarkungen im Rahmen der bekannten MS, keine KM-Anreicherung, Diffusionsstörungen kortikal frontal rechts ohne ADC-Senkung, dese Diffusionsstörung ist bereits am 23.01.2014 in gleicher Art und Weise sichtbar gewesen, normal weite intrakrankielle Liquorräume, keine Veränderugen zu 23.01.2014\n",
      "INDENT 01/2018: HBV-, HCV- und HIV Serologie negativ\n",
      "\n",
      "\n",
      "39D432B0-902B-49D9-B727-12EDC053B09E\n",
      "Glomeruläre Mikrohämaturie unklarer Genese\n",
      "INDENT DD Syndrom der dünnen Basalmembran, IgA-Nephritis, andere GN\n",
      "INDENT erhaltene Nierenfunktion, eGFR nach CKD EPi von 92ml/min\n",
      "INDENT blande urologische Abklärung\n",
      "INDENT unauffälliges CT Abdomen 01/2016\n",
      "INDENT unauffällige Zystoskopie 03/2016 (Dr. Hermanns)\n",
      "INDENT unauffällige gynäkologische Abklärung\n",
      "INDENT St. n. Hysterektomie\n",
      "INDENT anamnestisch unauffällige gynäkologische Untersuchung 2016\n",
      "\n",
      "\n",
      "55DADCF5-ABAF-43E8-B8FC-10E2966E8A32\n",
      "1. Multiple Sklerose mit sekundär chronisch progredientem Verlauf seit 2008, EM 1999, ED 2002, EDSS 6.5\n",
      "INDENT Aktuell: Klinisch nicht aktiv; radiologisch aktuell nicht beurteilbar; keine Progression (Lublin, 2013)\n",
      "INDENT Klinisch: \n",
      "INDENT rechtseitig beinbentonte spastische Tetraparese, Blasen- und Mastdarmfunktionsstörung mit Urgesymptomatik und Restharn, vermehrte Fatigue-Symptomatik, Sexualfunktionsstörung\n",
      "INDENT 07/2020: Parästhesien untere Bauch- und Genitalregion sowie zunehmende Sexualfunktionsstörung\n",
      "INDENT Verlauf:\n",
      "INDENT 1999: EM Episode mit Doppelbildern\n",
      "INDENT 2002: Schub mit Gleichgewichtsstörung, Hypästhesie am Rumpf, rückläufig auf Kortison\n",
      "INDENT 2002 bis 2008 weitestgehend stabiler Verlauf ohne weitere Schübe\n",
      "INDENT 2010 subakute Kribbelparästhesien im Kopfbereich und der rechten Körperhälfte mit Regredienz nach oralem Kortisontherapie\n",
      "INDENT seit 2008 V.a. sekundär chronisch-progredienten Verlauf mit chronischer Verschlechterung der Gangstörung, der Blasen- und Sexualfunktionsstörung sowie progredienter Fatigue-Symptomatik\n",
      "INDENT Diagnostik (teilweise extern):\n",
      "INDENT Labor:\n",
      "INDENT Infektionsserologien 01/2018: negativ für HBV, HCV, HIV\n",
      "INDENT Labor 01/2018: blande für Leber-, Nierenwerte, CRP, TSH, Ferritin hochnormal, BB bis auf diskrete Lymphozytopenie von 1.45 G/l unauffällig\n",
      "INDENT 6-min Gehtests von 04/2018 (Rehabilitation Rheinfelden): 100 Meter; dann Beginn Fampyra: 300 Meter\n",
      "INDENT Laborchemisch (Urin) vom 02.11.2018: Erythrozyten leicht erhöht; ansonsten normwertig. \n",
      "INDENT Laborchemisch (Serum) vom 02.11.2018: Lymphozyten 0.87 G/l (leicht erniedrigt). Leberwerte normal. Immunphänotypisierung: Komplette Depletion der CD19+/CD20+ B-Zellpopulation.\n",
      "INDENT Bildgebend:\n",
      "INDENT MRI Schädel 16.06.2014 (Hirslanden): keine KM-anreichernde Plaques, multiple demylisierende Läsionen stationär zu 03/2011\n",
      "INDENT MRI Myelon 16.06.2014: Multiple nicht KM-anreichernde Demyelinisierungsherde, stabil zu 03/2011\n",
      "INDENT MRI Neuroachse 03/2018: progredienter Befund cerebral und spinal, keine aktiven Läsionen\n",
      "\n",
      "\n",
      "72C0291F-085F-4AED-9526-80DC13318958\n",
      "Multiple Sklerose, sekundär progredient seit 2005 (ES 1979, ED 1988), EDSS aktuell 6.5\n",
      "aktuell:klinisch nicht aktiv, radiologisch unklar, Progression ja (nach Lublin et al. 2013)\n",
      "klinisch: \n",
      "INDENT - aktuell: Gangataxie, leichte spastische Paraparese, Pallhypästhesie, Visusminderung (li>re),   neurogene Blastenfunktionsstörung, schwere kognitive Defizite, submanische Stimmungslage. Fatigue \n",
      "INDENT - Verlauf: \n",
      "INDENT - seit 2005 keine sichere klinische Verschlechterung bei fraglich \n",
      "  überlagerten Schüben.\n",
      "INDENT - 1979-1988: 12 Schübe, initial mit Hemisyndrom rechts, in der Folge \n",
      "  Sehstörungen und weitere motorische Defizite \n",
      "diagnostisch:\n",
      "INDENT - 02/88 MRI Schädel: ausgedehnte Hyperintensitäten periventrikulär und in den \n",
      "  Stammganglien und im rechten Brachium conjunctivum\n",
      "INDENT - 02/88 Liquor: positive OKB\n",
      "INDENT - 04/11 Neuropsychologische Untersuchung: schwere kognitive Minderleistungen, \n",
      "  leichtgradige körperlich betonte Fatiguesymptomatik\n",
      "INDENT - 06/12 MRI Schädel und WS: Ausgedehnte konfluierende periventrikuläre demyelinisierende Läsionen sowie infratentorielle Demyelinisierungsherde. Keine aktiven Läsionen. Demyelinisierungsherde auf Höhe von C3-5 im zervikalen Myelon. \n",
      "therapeutisch: \n",
      "INDENT - 1995-10/1999 Betaferon, 06/2000-01/2002 Rebif, 2/2002-10/2005 Avonex, selbständig \n",
      "  abgesetzt wegen fehlender Wirkung.\n",
      "INDENT - aktuell: keine Basistherapie \n",
      "\n",
      "\n",
      "763EC115-4945-4536-A788-A1CC7B8A6A79\n",
      "Sekundär progrediente Multiple Sklerose (EM 1998, ED 1999), EDSS 7.0\n",
      "INDENT aktuell: klinisch nicht aktiv, radiologisch aktiv, Progression seit 2010 (nach Lublin et al. 2013)\n",
      "INDENT klinisch: Bein und linksbetonte Tetraparese, cerebelläres Syndrom, Fatigue, Urgesymptomatik \n",
      "INDENT Verlauf:\n",
      "INDENT 04/2013 50-100 m ohne Hilfe, Beginn Gehstocknutzung\n",
      "INDENT 09/2014 Beginn Rollatornutzung und Rollstuhlnutzung, Gehstrecke mit beidseitiger Gehhilfe 20 m\n",
      "INDENT 01/2019 Elektrorollstuhl\n",
      "INDENT Diagnostik:\n",
      "INDENT Lumbalpunktion vom 20.05.1999: Zellzahl 14ul, Oligoklonale Banden unklar. Virologische Untersuchung (CMV, VZV, HHV-6, HSV, Enteroviren) negativ. Toxoplasma gondii PCR negativ. Borrelien-Serologie negativ.\n",
      "INDENT VEP vom 20.05.1999: beidseits pathologische Latenzen\n",
      "INDENT Röntgen Thorax vom 20.05.1999: keine Hinweise auf Sarkoidose\n",
      "INDENT cMRI 29.05.1999: Multiple cerebrale Läsionen mit Kontrastmittelanreicherung\n",
      "INDENT 10/2012: JC-Virus pos.\n",
      "INDENT cMRI 10/2012: stabil zu 04/2010\n",
      "INDENT MRI cerebral und spinal 21.02.2014: neue Kontrastmitteaufnehemnde Läsionen spinal und cerebral im Vergleich zu 10/2012\n",
      "INDENT MRI Neuroachse: 06/2019: multiple neue Läsionen mit Kontrastmittelaufnahme\n",
      "INDENT Therapie:\n",
      "INDENT 05/2010 Rebif bis 01.01.2014 \n",
      "INDENT 09/2014 bis 12/2018 Gilenya\n",
      "INDENT Aminopyrimidin seit 10/2013 10 mg 1-1-0\n",
      "\n",
      "\n",
      "786DE63D-D0A9-4380-9BD6-3E5EF553376A\n",
      "Multiple Sklerose sekundär progredient mit überlagernden Schüben, EM 2005 ED 2006 EDSS 4.0\n",
      "aktuell: klinisch aktiv, radiologisch nicht aktiv, Progression ja (nach Lublin et al. 2013)\n",
      "neu aufgetretene Sensibilitätsstörung linker Fuss seit Mitte Juni mit unvollständiger Rückbildung unter Cortison\n",
      "Verlauf: \n",
      "Retrobulbärneuritis im linken Auge 2005. \n",
      "drei Monate später (2005) in beiden Händen Sensibilitätsstörungen\n",
      "erneut ca. drei Monate später Sensibilitätsstörungen der Zunge und der rechten Gesichtshälfte\n",
      "2006 - 2009 stabiler Verlauf ohne Beschwerden\n",
      "ab 2009 Mühe mit Rennen, ab 2013 progrediente Gangstörung mit Spastik\n",
      "12/16 fraglicher Schub mit Verschlechterung der Gangstörung, Cortisongabe in Italien\n",
      "06/2019: Schub mit Hypästhesie des linken Fusses und zweimaliger Cortisonstosstherapie\n",
      "Diagnostisch\n",
      "oligoklonale Banden im Liquor positiv, Aquaporin-4-AK negativ; immunologisches Screening bis auf unspezifisch erhöhte ANA (1:160) unauffällig\n",
      "MRI Schädel und Wirbelsäule vom 01/17:  wenige Läsionen im Neurokranium, ausgedehnte Läsionen im Halsmark und untere BWS\n",
      "MRI Gehirn 08/2017: Demyelinisierender Plaque auf Höhe der 'root entry zone' des Nervus trigeminus rechts, vorbestehend. Insgesamt stationärer Befund \n",
      "MRI Neuroachse 07/2018: stabiler Befund\n",
      "MRI Neuroachse 07/2019: stabiler Befund\n",
      "therapeutisch:\n",
      "Rebif 09/2006- 2016 (aufgrund von Kopfschmerzen nach Einnahme abgesetzt)  \n",
      "B-Zell-depletierende Therapie mit Rituximab empfohlen\n",
      "Gehäufte Exazerbationen einer bekannten Trigeminusneuropathie rechts mit Sensibliltätsstörung des linken Beins\n",
      "ätiologisch: demyelinisierende Plaque (i.R.v. Diagnose 2) auf Höhe der 'root entry zone' des Nervus trigeminus rechts und Auslassung der Carbamazepinmedikation DD: zusätzlicher Gefäss-Nerv-Konflikt\n",
      "aktuell: kaum Beschwerden\n",
      "diagnostisch: \n",
      "Labor vom 18.07.2018: Natrium 130, CK 378\n",
      "EKG vom 18.07.2018: nc SR, ST, keine Erregungsrückbildungsstörungen\n",
      "therapeutisch im Verlauf: \n",
      "Pregabalin anamnestisch nur wenige Tage eingenommen wg. befürchteter Nebenwirkungen\n",
      "Carbamazepin mit anamnestisch guter Wirkung, aber auch Nebenwirkungen wie Schwindel, Gangunsicherheit, Benommenheit\n",
      "Keppra bislang nicht regelmässig eingenommen\n",
      "\n",
      "\n",
      "8BE4E431-291A-4722-B78F-3CD446550505\n",
      "Sekundär progrediente Multiple Sklerose (ED 08/2003), EDSS 7.5 \n",
      "Verlauf:\n",
      "INDENT 1992 mögliche pontocerebellärer Störung mit Drehschwindel \n",
      "INDENT 06/2003 Schub mit sensomotorischem Hemisyndrom rechts, nur inkompletter Remission\n",
      "INDENT 11/2010 und 06/2013 Schub mit je akuter Verschlechterung der Hemiparese rechts und der Gangstörung\n",
      "INDENT seit 01/2015 progrediente Gehstreckenverkürzung (anamnestisch): mit beidseitiger Gehhilfe: max. 20-30m 01/2017, max. 1-2m 08/2017, 10/2017 vorwiegend im Rollstuhl\n",
      "diagnostisch:\n",
      "Labor\n",
      "INDENT 2003 Liquor: 3 Zellen/ul, OKB pos., IgG-Index 0.85\n",
      "INDENT 08/2010: immunologisches Screening unauffällig (abg. von erhöhtem ANCA-Titer, ANAs 1:80)\n",
      "Bildgebung\n",
      "INDENT 11/2010 Neuroangiologie: unauffällig\n",
      "INDENT 06/2013 MRI Kopf und WS: Zunehmende Ausdehnung der T2W-hyperintensen Plaque dorsal BWK 8 nach caudal bis dorsal BWK10 mit V.a. flaue KM-aufnahme. Ansonsten unverändert\n",
      "INDENT 02/2017 cMRI und 02/2016 MRI Kopf und WS: Stationärer Befund zu 06/2013\n",
      "INDENT MRI spinale Achse 05/17: Im Wesentlichen unverändertes chronisches Kompressions-Myelopathie Syndrom dualer Genese (degenerativ und demyelinisierend). Teils Regredienz der spinalen Läsionen der HWS. \n",
      "INDENT MRI cerebral 08/2017: Neue KM-Aufnahme einer vorbestehenden Läsion im Centrum semiovale links. Progrediente T2-Hyperintense Läsion angrenzend an das Okzipitalhorn des Seitenventrikels links KM-Aufnahme. Ansonsten stationär.\n",
      "Sonstige Untersuchungen\n",
      "INDENT 10/2010 NPSY: leichtgradige kognitive Minderleistungen in Visuokonstruktion, selektiver Aufmerksamkeit; mnestische Störung\n",
      "therapeutisch:\n",
      "INDENT 11/2010 Cortisonstosstherapie, 5 Tage\n",
      "INDENT 11/2010 - 11/2014 Avonex i.m. 1x/ Woche\n",
      "INDENT 14. - 18.06.2013 Cortisonstoss 1g/ Tag\n",
      "INDENT 11/2014 - 08/2017 Tecfidera, keine relevanten Nebenwirkungen\n",
      "INDENT seit 02/2016 Fampyra 10 mg 1 - 0 - 1 \n",
      "\n",
      "\n",
      "AF834D8D-F7DB-4B22-BB01-29F10EE6A828\n",
      "Schubförmige Multiple Sklerose (RRMS), (EM 2012, ED 07/2014) EDSS 6.5   \n",
      "aktuell: keine neuen Beschwerden seit 12/2015, residuell: Intermittierendes Verschwommensehen, Beinspastik bds, Parese Hüft/Knieflexion/extens. M4/5 bds., Fussflexion/-extension bds. M2/5; starkes Lhermitte-Phänomen mit blitzartigem Einschiessen auch nachts aus dem Schlaf heraus (zuletzt unter Lyrica Durchschlafen möglich), Fatigue, Rotentsättigung am linken Auge, Sehen insg. linksseitig anstrengender, Spastik der Digg. III bis V links, eingeschränkte Gehstrecke\n",
      "Verlauf:\n",
      "INDENT -12/2015: Schwäche und Koordinationsstörung der linken Hand, residuelle Spastik der Digg. III bis V links, Visusverschlechterung links \n",
      "INDENT - 03/2015: spastische Tonuserhöhung der Beine anamnestisch verschlechtert (kein Schubereignis)\n",
      "INDENT - 06/2014: Drehschwindel, Nausea / Erbrechen, Stang und Gangataxie\n",
      "INDENT - 09/2013: Verschwommensehen am linken Auge\n",
      "INDENT - 2012: Episode mit Schwankschwindel\n",
      "diagnostisch:\n",
      "INDENT - 07/2014: laborchemisch: Vaskulitisserologie unauffällig, HIV, HBV, HCV, Lues-/Borrelienserologie unauffällig, Anti NMO neg, Folsäure und Holotranscobalamin normwertig           \n",
      "INDENT - 07/2014: Liquor: 7 Zellen/µl, Protein: 487ng/l OKB fraglich pos.\n",
      "INDENT - 07/2014 cMRI (Bahnhofsplatz) 07.14: multiple, teils KM-aufnehmende Läsionen infra- und              supratentoriell; spinales MRI: MS-Plaques im bulbo-spinalen Übergang zentral und in der posterioren Medulla oblongata sowie auf Höhe HWK 2 / 3 zentral betont und im Funiculus anterolateralis linksseitig Höhe HWK4 / 5. Thorakale MS-Plaques Läsionen sehr diskret abgrenzbar auf Höhe  BWK 3 / 4 und um den Zentralkanal sowie posterolateral rechtsseitige auf Höhe BWK 5 / 6. Alle Läsionen ohne KM-Anreicherung.\n",
      "\n",
      "\n",
      "B886879A-5109-46FD-A2B0-9DCA2DA733F8\n",
      "1. Schubförmige Multiple Sklerose (RRMS) (ES 1999, ED 04/2004), EDSS 6.0\n",
      "klinisch:\n",
      "INDENT aktuell: Gehfähigkeit seit letzter Kontrolle subjektiv zunehmend eingeschränkt\n",
      "INDENT residuell: spastisch-ataktisches Gangbild, Babinski-Zeichen beidseits positiv, Pallhypästhesie, imperativer Harndrang, Konzentrationsstörungen, leichte Fatigue, depressive Episode. \n",
      "Verlauf:\n",
      "INDENT 1999: Erstsymptomatik mit Gefühlsstörung im Gesicht re und Oberschenkel re     \n",
      "INDENT 2004: Schub mit Gehstörung, Parästhesie Körperhälfte li, Gleichgewichtsstörungen, Parese Bein li, unter Cortison komplette Remission\n",
      "INDENT 2006/ 2007: zwei Schübe mit ausgeprägter Gehverschlechterung, Taubheitsgefühl links, inkl. Gesicht und Ataxie; inkomplette Remission nach Cortison mit weiterhin bestehender leichter Ataxie\n",
      "INDENT 09/2007: Schub mit Parästhesien Finger, linke Hand und Fuss, Gehverschlechterung, unter Cortison gute Rückbildung \n",
      "INDENT 09/2008: leichter Schub mit Kribbelparästhesien in beiden Händen, Zunahme der Ataxie, unter Cortison nahezu komplette Remission\n",
      "INDENT 08/2015: Schub mit progredienter Verschlechterung der Kraft in den Beinen re>li & des Gleichgewichts, Gehen max. 20min (zuvor ca. 45min) möglich\n",
      "INDENT 07/2016: weiterhin bestehende Kraftminderung in den Beinen re>li sowie des Gleichgewichts; Verschlechterung seit letztem Schub (08/2015), Gehen max. 45 min/3 km, Residuen unverändert: leichte Fühlstörung Dig 1-3 linke Hand u. rechter Fuss, belastungsabhängige Beinschwäche links mit dezentem Absinken im BHV links; Babinski-Zeichen bds positiv.\n",
      "diagnostisch:\n",
      "Labor\n",
      "INDENT JCV-Serologie: 05/2011 positiv (Patientin wünscht Fortführung der Therapie), 09/2013 Index 0.50, 03/2014 negativ (Index 0.32), 03/2016 positiv (Index 0.63), 09/2016 negativ (Index 0.29), 03/2017 negativ\n",
      "INDENT Liquor 06/2014: JCV-PCR negativ\n",
      "Bildgebung\n",
      "INDENT 01/2014 MRI cerebral, 06/2014 MRI spinal & cerebral: stationärer Befund\n",
      "INDENT 10/2014 MRI spinal & cerebral: fraglich neue Läsion auf Höhe Th6, cerebral stationär\n",
      "\n",
      "\n",
      "C0784569-1E15-4FBE-A4B2-F9473975D199\n",
      "Colitis ulcerosa, ED 03/2019\n",
      "INDENT Diagnostik:\n",
      "INDENT Koloskopie 23.07.2019: Colitis ulcerosa bis zur rechten Kolonflexur (Mayo-Score 6)\n",
      "INDENT Histologie passend zu Manifestation einer Colitis ulcerosa\n",
      "INDENT Calprotectin 16.09.2019: 284 ug/g\n",
      "INDENT Therapie:\n",
      "INDENT Cortiment 9 mg Beginn 27.09.2019, Spiricort\n",
      "INDENT Prednison, aktuell 15 mg/Tag\n",
      "INDENT Prophylaxe mit Cotrimoxazol 3x/Woche\n",
      "INDENT Natalizumab einmalig 07/2019\n",
      "INDENT 12.09.2019:Positivität für JC-Virus Antikörper\n",
      "INDENT Vedolizumab 300 mg erstmals 01.10.2019\n",
      "INDENT Bisherige Therapie:\n",
      "INDENT Kortikosteroid und Metronidazol bis 02.08.2019\n",
      "INDENT Mesalazin p.o. bis 08/2019\n",
      "INDENT Rektosigmoidoskopie 19.09.2019: leichte Kolitis\n",
      "INDENT Histologie: Leichte chronische Entzündung. Keine Dysplasie oder Malignität. CMV negativ\n",
      "\n",
      "\n",
      "CACC4AEC-E2E4-429E-8697-5FC53727E31A\n",
      "Schubförmige, unvollständig remittierende Multiple Sklerose mit sekundär progredientem Verlauf, EM 2007, ED 2010, EDSS 6.5\n",
      "INDENT aktuell: klinisch: nicht aktiv, radiologisch: nicht aktiv, Progression: ja (nach Lublin et al. 2013)\n",
      "anamnestisch: zunehmende Einschränkung der Gehfähigkeit mit deutlicher Progredienz seit 2017\n",
      "klinisch: rechts- und beinbetonte Tetraparese (Arm distal betont), überwiegend rollstuhlmobil\n",
      "Verlauf:\n",
      "INDENT 2007: febriler Infekt mit Steifheit der Beine, spontane Regredienz nach 2-3 Tagen\n",
      "INDENT 2008: Hinken des linken Beines nach 30min Gehzeit mit sukzessiver Verkürzung der Latenz bis zum Auftreten des Hinkens bis 09/2009 -> erstmaliges Ansprechen von Aussenstehenden\n",
      "INDENT 12/2009: zentraler Lagerungsschwindel\n",
      "INDENT 2017: progrediente Verschlechterung der Gehfähigkeit mit 2 Walkingstöcken, längere Strecken mit dem Rollstuhl\n",
      "diagnostisch:\n",
      "Labor\n",
      "INDENT Liquor: Befund nicht vorliegend\n",
      "INDENT Virologisches & bakteriologisches Screening: HIV, HBV, HCV; Treponema pallidum, Borrelia burdorferi; Befunde nicht vorliegend\n",
      "INDENT Immunologisches Screening: ANA, RF, Anti-CCP, Anti-native DNA, Anti-SSA/B (Ro/La), Anti-Cardiolipin, ANCA; Befunde nicht vorliegend\n",
      "INDENT JC-Virus: Befund nicht vorliegend\n",
      "Bildgebung\n",
      "INDENT cMRI vom 07.10.2015 (Spital Netz Bern): Status idem zu 11/2014\n",
      "INDENT cMRI vom 06.04.2016 (Spital Aarberg): Stable disease zu 10/2015, keine Progression, keine Aktivität. Kein Anhalt für PML\n",
      "INDENT MRI gesamte WS vom 16.08.2016 (InselSpital Bern): Kein Nachweis einer akuten Pathologie im Rahmen der intrathekalen Kathetereinlage\n",
      "INDENT cMRI vom 09.12.2016 (InselSpital Bern): Multiple infra- und supratentorielle Läsionen bei bekannter MS. Keine Schrankenstörung. Keine Anhaltspunkte für eine PML; keine Voruntersuchungen zum Vergleich vorliegend.\n",
      "\n",
      "\n",
      "CB96C8EB-8D90-4D3A-B9D1-F02F1AD11377\n",
      "Sekundär chronisch progrediente1 Multiple Sklerose (SPMS) ab ca. 2011, EM 06/2006, ED 2006, EDSS 6.5\n",
      "INDENT ktuell: klinisch: nicht aktiv, radiologisch stabil, keine Progression (nach Lublin et al. 2013)\n",
      "INDENT klinisch: rechtsbetonte Paraparese und -spastik der Beine mit Fussheberparese rechtsbetont und deutlich spastisch-ataktischer Gangstörung nur an konstant 2 Gehstöcken möglich, Hyperhidrosis der Hände und Füsse bds.\n",
      "Verlauf:\n",
      "INDENT 06/2006: erster Schub mit Hemianopsie nach links, unter Kortison regredient\n",
      "INDENT 11/2006: Schub mit beinbetontem motorischem Hemisyndrom links, unter Kortison regredient mit residueller leichter Beinschwäche links\n",
      "INDENT ab 2011 leichte Gangataxie mit schleichender Verschlechterung\n",
      "INDENT ab 2013: allmähliches Schwächegefühl im rechten Bein\n",
      "INDENT 11/2014: zunehmende Gangstörung, rechtsbetont schlechter\n",
      "INDENT ab 01/2018: meist 2 Gehstöcken. ca. 100 m\n",
      "diagnostisch:\n",
      "Bildgebung: \n",
      "INDENT MRI Schädel 06/2006: aktive T2-hyperintense Läsionen im Gyrus supramarginalis links und Radiatio optica rechts und weitere nicht KM-aufnehmende Läsionen cerebral\n",
      "INDENT MRI Schädel 11/2012: neu kleiner nicht aktiver Herd pontocerebellär  links, zunehmende Hirnatrophie\n",
      "INDENT MRI Schädel 11/2013: stabiler Befund\n",
      "INDENT MRI Schädel/WS 08/2015: stabiler Befund\n",
      "INDENT MRI Schädel 07/2018: stabiler Befund\n",
      "INDENT MRI WS 08/2018: mehrere inaktive Läsionen, keine Voraufnahmen zum Vergleich vorhanden\n",
      "INDENT MRI Neuroachse 04/2019: stabiler Befund\n",
      "INDENT MRI Schädel 17.10.2019: stabiler Befund\n",
      "INDENT MRI Schädel 20.10.2020: stabiler Befund\n",
      "INDENT MRI Neuroachse 20.10.2020: stabiler Befund\n",
      "Labor/Liquor\n",
      "INDENT Liquor 21.06.2016, USZ: OKBs pos.\n",
      "INDENT ergänzende Umfeldabklärungen 08/2018: unauffällige ANA, ANCA, anti-SSA/B, Immunfixation, sowie RF, negative HIV Serologie, kein Anhalt für HCV oder HBV Infektion\n",
      "\n",
      "\n",
      "E81AD81E-7504-4FFE-AA11-77E288E77CEC\n",
      "Multiple Sklerose mit sekundär progredientem Verlauf seit ca. 2004 (EM 1983, ED 1996)\n",
      "klinisch:\n",
      "aktuell spastische Hemiparese links, stark eingeschränkte Gehstrecke (Rollator, Rollauto für längere Strecken ), Miktionsstörung, Fatigue-Syndrom, Abduzensparese rechts\n",
      "letzter eindeutiger Schub 2001, 1983 Neuritis optici bds., 1996 sensibler Querschnitt Th5, seit 2004 zunehmende Gehbehinderung (04/2007 EDSS 5.5), deutliche Verschlechterung nach Patellafraktur 2014, seitdem Ausgangniveua nicht erreicht\n",
      "bildgebend:\n",
      "2005 MRI cerebral sowie HWS und BWS: Cerebral alte Läsion ohne KM-Anreicherung, spinal werden aktive Herde auf Höhe C4 und Th1/2 beschrieben.\n",
      "01/2006 Kontroll-MRI spinal ohne aktive entzündliche Läsionen. Alte Läsionen sowie eine Verschmächtigung des Rückenmarks auf Höhe C2/3.\n",
      "therapeutisch:\n",
      "2004 Methylprednisolon oral, Beginn mit 500 mg, schrittweise Reduktion über 3 Wochen. Darunter keine Besserung des Zustandsbildes\n",
      "keine immunmodulatorische Basistherapie \n",
      "INDENT Eine Reha ist nötig um weiterer Immobilisierung entgegenzuwirken und eine Verbesserung der Gehstrecke zu erreichen, die Spastik adequat zu behandeln sowie Copingstrategien zu entwickeln. (s. Einzelpunkte). Bei Sekundär progredienter MS sind die medikamentösen Behandlungsmöglichkeiten sehr eingeschränkt. Die Rehabilitation ist eine der wichtigsten Massnahmen um einer Immobilisierung und vollständigen Rollstuhlpflicht entgegenzuwirken.\n",
      "\n",
      "\n"
     ]
    }
   ],
   "source": [
    "# Because mapping was done manually, check if label matches text for classes with low counts like SPMS\n",
    "for rid, rid_data in df_merged[df_merged[\"labels\"] == \"secondary_progressive_multiple_sclerosis\"].groupby(\"rid\"):\n",
    "    print(rid)\n",
    "    print(rid_data[\"text\"].str.cat(sep = \"\\n\"))\n",
    "    print(\"\\n\")"
   ]
  },
  {
   "cell_type": "code",
   "execution_count": 75,
   "metadata": {},
   "outputs": [
    {
     "data": {
      "text/plain": [
       "(13,)"
      ]
     },
     "execution_count": 75,
     "metadata": {},
     "output_type": "execute_result"
    }
   ],
   "source": [
    "spms_wrong = [\"2A9F4832-B09D-470A-B05F-519854310DBB\",\n",
    "              \"39D432B0-902B-49D9-B727-12EDC053B09E\",\n",
    "              \"AF834D8D-F7DB-4B22-BB01-29F10EE6A828\",\n",
    "              \"B886879A-5109-46FD-A2B0-9DCA2DA733F8\",\n",
    "              \"C0784569-1E15-4FBE-A4B2-F9473975D199\"\n",
    "                ]\n",
    "df_merged[df_merged[\"labels\"] == \"secondary_progressive_multiple_sclerosis\"].rid.unique().shape\n",
    "# Because of this exclusion we end up with less training examples than in their original approach"
   ]
  },
  {
   "cell_type": "code",
   "execution_count": 76,
   "metadata": {},
   "outputs": [],
   "source": [
    "# Drop entries with wrong label\n",
    "df_merged = df_merged[~df_merged[\"rid\"].isin(spms_wrong)]"
   ]
  },
  {
   "cell_type": "code",
   "execution_count": 77,
   "metadata": {},
   "outputs": [
    {
     "name": "stdout",
     "output_type": "stream",
     "text": [
      "0A7AF4C2-ADD6-4B72-9869-4D190928F8C3\n",
      "v.v Primar progrediente multiple Sklerose\n",
      "\n",
      "\n",
      "11A4453B-76B6-4558-8126-EEFEA6935C91\n",
      "1. Multiple Sklerose a.e. primär progredient, EM 2011, ED 03/2015, EDSS 3.5\n",
      "INDENT klinisch: nicht aktiv, radiologisch: nicht aktiv, Progression: nein (nach Lublin et al. 2013)\n",
      "INDENT aktuell: im langfristigen Verlauf langsame Besserung der spastisch-ataktischen Gangstörung \n",
      "Verlauf:\n",
      "INDENT 1997 Episode mit aufsteigenden Sensibilitätsstörungen der Beine. Abklärungen erfolgten in der Neurologie USZ (LP, MRI, evozierte Potentiale), eine Diagnose wurde jedoch nicht gestellt \n",
      "INDENT 1997-2011 Anamnestisch keine neurologische Symptomatik eruierbar\n",
      "INDENT 2011-2016 langsam progrediente, rechtsbetonte spastisch-ataktische Gangstörung, distal betonte Pallhypästhesie und eingeschränktes Lageempfinden der unteren Extremität\n",
      "Diagnostik:\n",
      "Bildgebung\n",
      "INDENT 06.02.2015 MRI Wirbelsäule: Multietagere multiple T2 hyperintense Läsionen cervicothorakal, V.a. Gd-Aufnahme auf Niveau BWK 5 - BWK 7\n",
      "INDENT 18.02.2015 MRI Gehirn: Multiple T2w- und FLAIRw-hyperintense supra- und infratentorielle Läsionen, passend zu einer demyelinisiernden Erkrankung. Vd. a. leichte Opticusneuritis links\n",
      "INDENT MRI Schädel/WS 02/2016: multiple neue KM anreicherne Läsionen cerebral und spinal, teils ringförmig\n",
      "INDENT 01/2017 MRI Kopf und WS: eine neue Läsion sowie progrediente demyelinisierende Plaque subzentral rechts. Regrediente Kontrastmittelanreicherung intrakraniell bei Rest-Kontrastmittelanreicherung um die demyelinisierende Plaque im Bereich der Pons paramedian links. WS: stationär\n",
      "INDENT 09/2017 MRI Neuroachse: Unveränderte demyelinisierende Läsionen intrakraniell und spinal; weiterhin ohne Hinweis auf Aktivität; stationäre Myelonatrophie zervikal\n",
      "INDENT 09/2018 MRI WS: Unveränderte demyelinisierende Läsionen des Myelons ohne Nachweis neuer oder aktiver Herde. Stationäre Myelonatrophie zervikal.\n",
      "INDENT 02/2019 MRI Schädel: ausgedehnte Läsionen ohne Anhalt für neue oder aktive Herde\n",
      "INDENT 10/2019 MRI Schädel: bekannte, extensive Darstellung Demyelinisierungsherde, kein Anhalt für neue oder aktive Herde   \n",
      "Labor\n",
      "INDENT Liquor 12.02.2015: ZZ 8/µl,  IgG Index 1.85, OKB positiv\n",
      "\n",
      "\n",
      "5CA80E8A-71BC-48C0-B652-CDEBEF93AC28\n",
      "1. Primär progrediente Multiple Sklerose, EM 1992, ED 1996, aktuell EDSS 7.0\n",
      "INDENT Verlauf: Erstmanifestation mit Sensibilitätsstörungen am rechten Bein. Seitdem progrediente Beinschwäche sowie Extremitätenataxie, im gesamten Krankheitsverlauf kein Hinweis auf schubverdächtige Episoden\n",
      "INDENT Klinisch aktuell: Sakkadierte Blickfolge, bitemporal eingeschränkte Gesichtsfelder, Dysarthrie, links-/bein- und proximal betonte spastische Tetraparese, Babinski bds. positiv. Rechts- und beinbetonter Holmestremor aller vier Extremitäten, Rumpfataxie, Lagesinn an beiden Füssen erloschen, Pallästhesie malleolär rechts 4/8, links 3/8, mässige Fatigue, neurogene Blasen- und Mastdarmstörung, 10 m am Rollator, darüberhinaus Rollstuhl-mobil.\n",
      "INDENT Diagnostik:\n",
      "INDENT 1996 Lumbalpunktion: OKB positiv\n",
      "INDENT 04/2013 MRI Gehirn : multiple demyelinisierende Läsionen supra- und infratentoriell, 1 Läsion im linken Lobulus paracentralis mit KM- Anreicherung\n",
      "INDENT 04/2013 MRI Wirbelsäule: Multiple spinale Läsionen, keine KM- Aufnahme\n",
      "INDENT 04/2013 Neuropsychologische Testung: Minderfunktionen fronto-subkortikaler Regelkreise und frontaler Areale. Kein dementielles Zustandsbild\n",
      "INDENT 04/2013 EEG: Normale Grundaktivität, intermittierender leichter/ mässiger Herdbefund bitemporal seitenalternierend, unter/nach Hyperventilation akzentuiert mit irritativen Potentialen ebenda, keine epilepsietypische Potentiale\n",
      "INDENT 09/2013 Psychiatrische Untersuchung (Hegibach): Unauffälliger Status\n",
      "INDENT 03/2017 cMRI: bekannte diffuse Beteiligung der supratentoriellen weissen Substanz und mit deutlicher Atrophie des Hirnparenchyms. Zusätzlich bekannte multiple Läsionen infratentoriell. Eine Läsion im linken Lobulus paracentralis zeigt aktuell keine sichere KM-Anreicherung soweit bei Artefakten beurteilbar. \n",
      "INDENT MRI Neuroachse 04/2018: überwiegend stabile Befunde; V.a. 1 neue spinale Läsion (DD Artefakt), zerebral stabile Befunde\n",
      "INDENT 05/2018 Serologien (HIV, HBV, HCV): keine Infektion, kein Impfstatus\n",
      "INDENT MRI Wirbelsäule vom 09.11.2018: Erschwerte Beurteilbarkeit wegen Bewegungsartefakten. Keine klaren Hinweise auf neue oder aktive Läsionen.\n",
      "INDENT MRI Gehirn vom 23.11.2018: Keine neuen oder aktiven Läsionen.\n",
      "\n",
      "\n",
      "745DA433-83BC-48B0-889D-9578F7F7C3D8\n",
      "Primär chronisch progrediente Multiple Sklerose (PPMS), EM 03/2017, ED 08/2017, EDSS 6.0\n",
      "INDENT aktuell(10.04.19): \n",
      "INDENT anamnestisch: seit 1 Woche bestehende Verschlechterung des Allgemeinzustands, Patient berichtet über Fatigue und allgemeine Schwäche. Ausserdem sei er verlangsamt beim Sprechen und bei körperlichen Aktivitäten, hierbei auch Schwindel. Leichte Visusverschlechterung li>re sei ihm auch aufgefallen. Auch das rechte Bein sei schwächer.\n",
      "INDENT klinisch: psychomotorische Verlangsamung, leichte Dysarthrie, Visusverminderung, keine sonstigen neu hinzugetretenen neurologischen Ausfälle, vorbekannte Parese beinbetont rechts, rechtsbetonte Extremitätenataxie. \n",
      "INDENT diagnostisch: \n",
      "INDENT Labor: bland, kein Infektnachweis\n",
      "INDENT Serologie: CMV und EBV negativ. \n",
      "INDENT Bisheriger Verlauf: schleichend progredient, radiologisch: leicht progredient, Progression: ja (nach Lublin et al. 2013)\n",
      "INDENT ab 03/2017 leichte Drangsymptomatik der Blase\n",
      "INDENT ab 04/2017 Visusminderung links ohne Farbentsättigung oder Bulbusbewegungsschmerz\n",
      "INDENT ab 05/2017 Kraftminderung des rechten Beines ab ca. 1 km Gehstrecke\n",
      "INDENT ab 10/2017 weitere Kraftminderung des rechten Beines auf 500 m Gehstreck am Stück\n",
      "INDENT ab 11/2017 leichte Visusminderung rechts \n",
      "INDENT ab 03/2018 nach Ocrevus-Erstgabe elektrisierende Schmerzen in Unterarmen und Oberschenkeln bds.\n",
      "INDENT ab 04/2018  beginnende Verschlechterung der Kraft im linken Arm\n",
      "INDENT klinisch: spastisch-ataktische Gangstörung mit Stand- und Gang sowie leichter rechtbetonter Extremitätenataxie, leichte distal betonte Kraftminderung der Hände bds. rechtsbetont, mässige Fussheberparese rechts, Fernvisusminderung bds. von 0.5, aktuelle Gehstrecke 200m\n",
      "INDENT diagnostisch:\n",
      "INDENT Liquor 08/2017: OKBs pos. \n",
      "INDENT Auto-AK-Screening und Infektionsserologien 01/2018: unauffällig für ANA, ANCA, RF, Kardiolipin-AK, negativ für HBV, HCV, HIV, Borrelien, Lues\n",
      "INDENT VEPs 07/2017: bds. deutlich pathologische Latenzen\n",
      "\n",
      "\n",
      "7C694045-8AFF-46EC-A410-D904065A52FC\n",
      "Primär Progrediente Multiple Sklerose, EM ca. 07/2017, ED 07/2018 EDSS 3.0\n",
      "INDENT aktuell klinisch nicht aktiv, radiologisch aktiv, aktuell keine Progression, gemäss Lublin kriterien\n",
      "INDENT Verlauf:\n",
      "INDENT Gehstrecke 2017 im Sommer noch mehrere KM ohne Probleme\n",
      "INDENT Gehstrecke Sommer 2018 500m, teils sehr unsicher\n",
      "INDENT Fühlstörungen im Bereich C6 links am ehesten radikulär\n",
      "INDENT Diagnostik:\n",
      "INDENT LP 07/2018: ZZ 9/ml, Protein 308mg/l, intrathekale IgG und IgM Produktion, pos. OKB (Typ 2), pos MRZ Reaktion\n",
      "INDENT Serologie: ANA, anti-CCP, ANCA, anti-Phospholipid-Ak, Immunfixation, Aquaporin4-Ak, NMO-Ak, Borrelien und HIV Serologie unauffällig\n",
      "INDENT cMRI 13.07.2018: Multiple demyelinisierende Läsionen subependymal, im Balken, der Balkenstrahlung, juxtacortical sowie infratentoriell mit einer Gd+ Läsion\n",
      "INDENT MRI Myelon 10.07.2018: multiple Läsionen des Myelons, eine davon mit flauer KM-Aufnahme, mittelgradige Enge HWK 5/6 bds mit möglicher Reizung der C6 Wurzel\n",
      "INDENT VEP: rechts leicht verzögert, links normal\n",
      "INDENT SSEP bds. mässiggradig verzögert\n",
      "INDENT MRI Neuroachse 03/2019: eine neue Läsion im hinteren Balken am ehesten ohne Schrankenstörung\n",
      "INDENT cMRI 09/2019: stabiler Befund\n",
      "INDENT Therapie:\n",
      "INDENT Medrol 500mg/d 20. - 25.07.2018\n",
      "INDENT am 30.10.2018 1. Teil der Erstgabe Ocrevus, am 13.11.2018 2. Teil der Erstgabe Ocrevus\n",
      "INDENT CD20-Antikörper-Therapie-assoziierte subakute Aggravation neurologischer Symptome unter Ocrelizumab nach dem 1. Teil des 1. Zyklus Ocrevus \n",
      "INDENT 2. Zyklus am 15.05.2019\n",
      "INDENT Therapieversuch mit Fampyra im 04/2019: keine Verbesserung\n",
      "\n",
      "\n",
      "9AFE6951-3D0F-4B6E-B989-124481C73826\n",
      "Primär progrediente Multiple Sklerose, EM ca. 2010, ED 06/2016 \n",
      "INDENT EDSS 07/2020: 6.0\n",
      "INDENT Klinik:  \n",
      "INDENT Deutliche Verschlechterung der Gehstrecke auf wenige Schritte, spastisch-ataktische rechtsbetonte Paraparese der Beine mit leichter Hyperreflexie, Urge-Symptomatik, Pallanästhesie bimalleolär\n",
      "INDENT Stand/Gangunsicherheit ca. seit 2010, im Verlauf schleichend zunehmend\n",
      "INDENT Deutliche Zunahme der Parese nach Kreuzbeinfraktur im 07/2019\n",
      "INDENT Diagnostik: \n",
      "INDENT Labor\n",
      "INDENT Liquor: Zellzahl, EW, Glu normal, oligoklonale Banden positiv \n",
      "INDENT Borrelien, Lues, HIV Serologie negativ, ANA negativ\n",
      "INDENT Bildgebung\n",
      "INDENT MRI gesamte Neuroachse 06/2016: Zahlreiche MS-typische Herde zerebral und spinal, ein KM-aufnehmender Herd temporal rechts\n",
      "INDENT MRI gesamte Neuroachse 07/2018: Nachweis einer neuen links zerebellären, DD demyelinisierenden Läsion. Sonst stationäre Zahl und Morphologie der multiplen supra- und infratentoriellen demyelinisierende Lä-sionen. Kein Hinweis auf KM-Anreicherung im Sinne einer Aktivität. Multiple vorbekannte Myelonläsionen, keine neuen Läsionen, keine Schrankenstörung. Hochgradige Spinalkanalstenose L3/4\n",
      "INDENT cMRI 10/2019: 3 neue Läsionen ohne Schrankenstörung\n",
      "INDENT Therapie: \n",
      "INDENT Keine spezifische Therapie, regelmässige Physiotherapie\n",
      "\n",
      "\n",
      "9B962F57-AF41-42EE-B7B5-A99BFCDBEE51\n",
      "V.a. primär progrediente Multiple Sklerose, EM 08/2016, ED 10/2018, EDSS 4.5\n",
      "INDENT aktuell: klinisch: nicht aktiv, radiologisch: unklar, Progression: ja (nach Lublin 2013)\n",
      "INDENT Verlauf: \n",
      "INDENT 08/2016: Schwäche und Trauma Fuss links mit Fuss, Trauma mit Bimalleolarluxationsfraktur OSG links, postoperativ progrediente Zunahme der Schwäche des linken Fusses\n",
      "INDENT 02/2019: Zunahme der Schwäche und Steifigkeit des linken Beines, seitdem weiter progredienter Verlauf\n",
      "INDENT 10/2020: leichte Schwäche und Steifigkeitsgefühl des rechten Oberarmes\n",
      "INDENT klinisch:\n",
      "INDENT diagnostisch:\n",
      "laborchemisch:\n",
      "INDENT LP vom 27.11.2018 (Spital Bülach): 1 Zelle/ul, Protein normal, keine Schrankenstörung, OKB positiv\n",
      "Bildgebend:\n",
      "INDENT MR BWS-LWS 10/2018 (Spital Bülach): Mehrere T2w hyperintense Signalalteraltionen im posterioren und lateralen Funiculus rechts und singulär im lateralen Funiculus links des thorakalen Myelons, es ergibt sich der Verdacht auf demyelinisierende Plaques. Keine Schrankenstörung als Zeichen einer akuten Entzündungsaktivität. isolierte Diskushernie BWK 2/BWK 3 ohne Nervenwurzelkompression. \n",
      "INDENT MR Schädel und HWS 11/2018 (Spital Bülach): Gemäss der McDonald Kriterien (Revision 2017): Bsp. Klinische Attacke und räumliche Dissemination erhärtet der intrazerebrale Befund den Verdacht auf eine MS bei demyelinisierenden Plaques in mindestens 6 MS-typischen Lokalisationen (periventrikulär und juxtakortikal. Weiterer Plaque im zervikalen Myelon auf Höhe von HWK 2 links. Kein Nachweis von aktiven Läsionen. \n",
      "INDENT MR Schädel 04/2019: stationär, keine aktive Läsionen.\n",
      "INDENT MR HWS/BWS/LWS 04/2019: Bekannte Demyelinisierungsherde im zervikalen und thorakalen Myelon. Kein Nachweis neu aufgetretener Plaques. Nach Kontrastmittelapplikation zeigt der Herd auf Höhe BWK 6 eine flaue Anreicherung als Hinweis auf eine gewisse Aktivität.\n",
      "INDENT MRI Schädel 01/2021: Neue, a.e. demyelinisierende Läsion im Gyrus frontalis medius links mit subcorticalen Beteiligung entlang der U-Fasern. Keine sichere Kontrastmittelaufnahme ebenda. Ansonsten konstante Läsionslast supratentoriell und infratentoriell und im zervikalen Myelon, keine Aktivitätszeichen.\n",
      "\n",
      "\n",
      "9FFAE238-BD0D-4231-B754-4EDC64A6FCCC\n",
      "Multiple Sklerose mit primär-progredientem Verlauf, EM 2012, ED 2015\n",
      "INDENT EDSS 3.5\n",
      "INDENT Klinisch nicht aktiv, radiologisch nicht aktiv, Progression unklar (nach Lublin et al. 2013)\n",
      "INDENT Verlauf: \n",
      "INDENT Seit 2013 anamnestisch schleichende Progredienz der Gangstörung\n",
      "INDENT Seit 2014 kognitive Defizite\n",
      "INDENT Seit 11/2020 Gang-, Koordinations- und leichte Artikulationsstörung, Hemihypästhesie links, Feinmotorikstörung Hand links\n",
      "INDENT Diagnostik: \n",
      "INDENT Bildgebung: \n",
      "INDENT MRI Neuroachse 03/2020: stationär\n",
      "INDENT MRI Schädel 09/2019: stationär\n",
      "INDENT MRI Schädel 04/2019: stationär\n",
      "INDENT MRI Neuroachse 09/2018: keine neuen oder aktiven Läsionen\n",
      "INDENT MRI Schädel 01/2018: stationärer Befund ohne neue oder aktive Läsionen\n",
      "INDENT MRI Schädel 06/2016: 2 neue Läsionen parietales Marklager rechts, keine akute Entzündung\n",
      "INDENT MRI spinal 05/2015: 4 postentzündliche Myelonläsionen, keine akute Entzündung, multisegmentale degenerative Veränderungen mit Einengung der Intervertebralkanäle C4 beidseits\n",
      "INDENT MRI Schädel 04/2015: zahlreiche supra- und infratentorielle Läsionen mit MS-typischer Morphologie und Verteilungsmuster, keine akute Entzündung, Myelonläsion auf Höhe C3/4\n",
      "INDENT Liquor/Labor:\n",
      "INDENT Liquor 05/2015: Intrathekale IgG-Synthese, positive OKBs\n",
      "INDENT Serum 05/2015 : Negativ für Borr. IgG/IgM, FSME IgG/IgM, HIV, ANA, ANCA, Kardiolipin IgG, beta2-Glykoprotein IgG/IgM, Kardiolipin IgM bei 21 kU/l leicht erhöht  \n",
      "INDENT Zusatzdiagnostik:\n",
      "INDENT 01/2018 MEPs, SEPs ohne Leitungsstörung, VEPs mit unverändert grenzwertiger Latenz der P100 bds.\n",
      "INDENT Neuropsychologie 02/2019: Neurokognitiv zeigt sich in der aktuellen Untersuchung bis auf eine diskret reduzierte verbale Erfassungsspanne ein stabiles Leistungsprofil mit im Verlgeich zum Vorbefund vom 05.03.2018 signifikanten Verbesserungen in der figuralen Geläufigkeit sowie beim Wiedererkennen figuraler Inhalte. \n",
      "INDENT Therapie:\n",
      "INDENT Unter Ocrelizumab seit 04/2018\n",
      "\n",
      "\n",
      "B0B07B18-0211-4467-8489-581AC761D297\n",
      "Primär chronisch progrediente Multiple Sklerose, EM 2008, ED 2012, EDSS 4.0\n",
      "aktuell: klinisch: stabil, radiologisch: stabil, Progression: ja (nach Lublin et al. 2013)\n",
      "INDENT Besserung der Kraft im linken Bein. Probleme beim Laufen, leichte Urge-Symptomatik und gelegentliche Einschlafprobleme. Klinisch spastisch-ataktisches Gangbild mit linksbetonter Spastik in den UE, beidseits gesteigerter PSR, Fallneigung im Rombergstehversuch nach hinten. Leichte Pallhypästhesie der UE (6/8).\n",
      "INDENT Verlauf: \n",
      "INDENT 1996 Sturz mit dem Rad\n",
      "INDENT 2008 Lähmung des linken Beines nach körperl. Belastung, Parästhesien skelettal und im li. Oberschenkel\n",
      "INDENT seit ca. 2013 neurogene Blasenstörung mit Dranginkontinenz\n",
      "INDENT seit ca. 2014 progrediente Schwäche des rechten Beines\n",
      "INDENT 02/2018: CD20-Antikörper-Therapie-assoziierte subakute Aggravation neurologischer Symptome unter Ocrelizumab\n",
      "INDENT Diagnostik:\n",
      "INDENT 2009 MRI Gehirn und WS: 3 periventrikuläre Läsionen, 1 Läsion auf Höhe C3/C4\n",
      "INDENT 06/2012 Lumbalpunktion und Serum: TSH normal, ANA, CCP-Ak, Anti-Streptolysin, c-ANCA, p-ANCA, Glykoprotein 1, Hepatitis, HIV, Borrelien, T. pallidum negativ, unauffällige Elektrophorese, OKB im Liquor positiv (Fr. Dr. Strasser in Solothurn)\n",
      "INDENT 12/2014 MRI Gehirn und WS: 1 neue Läsion im rechten frontalen Marklager, multiple T2-hyperintense Läsionen cervical ab C3, alle Läsionen ohne KM-Aufnahme \n",
      "INDENT 03/2016 MRI Gehirn und Wirbelsäule: stationärer Befund zu 12/2014\n",
      "INDENT 03/2017 MRI Gehirn: stationärer Befund\n",
      "INDENT 03/2018 MRI Neuroachse: stationärer Befund\n",
      "INDENT AK-Diagnostik: negativ für HBV, HCV, HIV\n",
      "INDENT Therapie: \n",
      "INDENT 03/2015 - 12/2017 Fampyra® 10 mg 1-0-1\n",
      "INDENT Sativex® Spray \n",
      "\n",
      "\n",
      "B9DF209B-BC2B-4B43-9985-9E6D245D67FF\n",
      "Primär chronisch-progredienter MS mit fraglichen Schüben (EM 2007, ED 2009), EDSS 8.5\n",
      "INDENT Aktuell klinische Verschlechterung i.R. der Dignose 1)\n",
      "INDENT klinisch: aktiv, radiologisch: stabil, Progression: ja (nach Lublin et al. 2013)\n",
      "Anamnestisch:\n",
      "INDENT seit Herbst 2017: Verschlechterung der mot. Funktion\n",
      "INDENT seit 04.11.17 Zunahme der Kraftlosigkeit der Arme und Beine rechtsbetont mit zwei konsekutiven Stürzen und Zunahme der Tagesmüdigkeit.\n",
      "INDENT Rezidivierende Harnwegsinfekte unter Rituximab\n",
      "INDENT Aktuell: Seit ca 1 Woche langsam progrediente Verschlechterung der Gehfähigkeit, Schwierigkeiten bei Miktion und Stuhlgang, seit 04.08. Harnverhalt\n",
      "Klinisch:\n",
      "INDENT vorbekannt: INO bds., schwere rechbetonte spastische Tetraparese, neurogene Blasendysfunktion, Fernvisusminderung (OCT re. 0.3, li. 0.4 c.c.)\n",
      "INDENT Aktuell: Zunahme der Tetraparese (selbständiger Transfers nicht mehr möglich) Harnverhalt, schwere Obstipation. \n",
      "INDENT EDSS aktuell 8.5\n",
      "Verlauf:\n",
      "INDENT seit 2007 Kraftminderung und Gehverschlechterung\n",
      "INDENT 03/2009 Kraftminderung und Spastik in den Beinen linksbetont\n",
      "INDENT 08/2009 intermittierende Sehstörungen bds.\n",
      "INDENT 10/2009 EDSS 4.0 (Gehstrecke ca 2 km, keine Gehhilfe)\n",
      "INDENT 11/2011 Schubartiges Ereignis mit akuter Gangverschlechterung bei Infekt der oberen Atemwege, aber mit neuer KM-aufnehmender Läsion und persistierender Einschränkung nach Ausheilung des Infekts\n",
      "INDENT 06/2012 EDSS 6.0 (Gehstrecke ca 210 m in 6 min mit 2 Gehstöcken T25ft Lauftest: 7.9 GS bds)\n",
      "INDENT 10/2014: weiter zunehmende Verschlechterung der Gangstörung mit zunehmender Parese des rechten Arms, INO links\n",
      "INDENT 11/2017: fraglicher Schub mit Zunahme der horizontalen Doppelbilder, Retrobulbärschmerz und Fernvisusminderung rechts sowie Zunahme der Kraftlosigkeit in Armen und Beinen rechtsbetont mit zweimaligem Sturzereignis\n",
      "Diagnostik:\n",
      "INDENT 07/2009 LP: 2 Zellen/µl, OKBs negativ / schwach positiv zu bewerten, IgG-Index und ACE normal\n",
      "INDENT 07/2009 Borrelien, Lues negativ, ANA-Titer <1:80, RF unauffällig\n",
      "\n",
      "\n",
      "D32F0EA9-537A-49FA-805B-D6A02A8BF7E7\n",
      "Primär chronisch progrediente Multiple Sklerose, EM ca. Anfang 2017, ED 08/2017\n",
      "INDENT Verlauf:\n",
      "INDENT 2016 noch 16 stündige Wandertouren möglich\n",
      "INDENT seit Anfang 2017 schleichend progrediente Schwäche des linken Beines und Gangstörung\n",
      "INDENT 07/2018: Gehstrecke ca. 3-4km, deutliche Gangströrung bereits ab dem ersten Schritt\n",
      "INDENT Klinik: linksbetont spastisch-ataktischens Gangbild, gesteigtere Reflexe linksbetont, v.A. neurogene Blasenstörung, EDSS 3.0\n",
      "INDENT Diagnostik:\n",
      "INDENT Liquor 08/2017 (extern): ZZ 1/ ul, Protein 326mg/l, intrathekale IgG, geringer auch IkM Synthese, pos. OKB (Typ 2)\n",
      "INDENT Serologie 08/2017: ANA/ ENA Screen, anti-ds-DNAk-Ak, \n",
      "INDENT MRI Neuroachse 08/2017: multiple Gd- Demyelinisierungen juxtacortical, infratentoriell, des Balkens sowie periventrikulär; Diffuse Hyperintensität des MyelonTh6-11, Atrophie von Thorakal- und Cervicalmark, keine KM-Aufnahme, \n",
      "INDENT SSEP 08/2017: leicht pathologisch verzögerte Mediauns-SSEP bds., deutlich pathologische Tibialis-SSEP bds.\n",
      "INDENT VEP 07/2018: pathologische VEP bds.\n",
      "INDENT MRI Neuroachse 08/2018: im Wesentlichen unveränderte demyelinisierende Veränderungen von Gehirn und Rückenmark, lediglich die Läsion der rostralen MEdulla oblongate kommt etwas besser zur Darstellung\n",
      "INDENT Serologie 07/2018: HIV, HVB und HBV-Serologie negativ, ANCA negativ, Holo Tc und Vitamin D oberhalb des messbaren Bereiches, pTH 36 ng/l (normwertig)\n",
      "INDENT Therapie\n",
      "INDENT seit Anfang Juli 2018 Vitamin Substitution nach dem Coimbra-Protokoll (Vit D 80000U/d) geplant bis November\n",
      "INDENT am 12.12.2018 1. Teil Ocrevus-Erstgabe, am 28.12.2018 2. Teil Ocrevus Erstgabe\n",
      "\n",
      "\n",
      "D5CD046C-1F79-487E-9B8A-EFE9E108DCC5\n",
      "1. Multiple Sklerose, a.e. primär-progredient, DD aufgelagerte Schübe (EM 2008, ED 11/2011), EDSS 6.0\n",
      "Aktuell: klinisch nicht aktiv, radiologisch fraglich aktiv (DD technisch bedingt), keine Progression (nach Lublin et al. 2013)\n",
      "Verlauf:\n",
      "INDENT 2008: Lhermitte-Zeichen mit elektrischer Sensation vom Hals bis in das linke Bein\n",
      "INDENT 2008: progredientes Schleifen des linken Beines, Gehstrecke > 5km\n",
      "INDENT 2008-2011: stetige Verschlechterung der Gangstörung im linken Bein\n",
      "INDENT 2011: Diagnosestellung: Gehstrecke mit Pause nach 30 Minuten, anschliessend Schmerzen im Rücken, aber uneingeschränkte Gehstrecke\n",
      "INDENT 2015: Gehstrecke 300 m ohne Pause und Hilfe\n",
      "INDENT 06/2016: massive Verschlechterung der Gehstrecke auf 34 m, nach Aufenthalt in Valens ca. 500 m mit Schiene\n",
      "INDENT 06/2017: massive Verschlechterung mit Gehstreckenminderung und Schwäche im linken Bein (200 m) und linken Arm, zudem langsame Verschlechterung im rechten Bein mit Kraftminderung und leichter Spastik\n",
      "INDENT 01/2018: EDSS 5.0\n",
      "INDENT 05/2018: Gehstrecke mit bds. Gehhilfe ca. 150 - 200 m, EDSS 6.5\n",
      "Radiologisch:\n",
      "INDENT 16.10.2017 cMRI: Keine Hinweise auf aktive Entzündung. Läsionslast im Gehirn ist unverämdert zu 16.06.2016. Diffuser Befall im Halsmark ohne merkliche Änderung.Thorakal keine sicheren Herde nachweisbar.\n",
      "INDENT cMRI 02/2018: stationäre Läsionslast, diskrete infratentorielle Volumenminderung\n",
      "INDENT MRI Neuroachse 08/2018: stabiler Befund\n",
      "INDENT MRI Neuroachse 01/2019: stabiler Befund\n",
      "INDENT cMRI 12.07.2019: 3 neue, kleine demyelinisierende Läsionen ohne Kontrastmittelanreicherung in der superioren Medulla oblongata anterior rechts, rechts temporooccipital juxtakortikal und rechts im inferioren Anteil des Gyrus praecentralis juxtakortikal (DD technisch bedingt bei Wechsel des MRI-Geräts)\n",
      "\n",
      "\n",
      "DA54B1C1-5867-4C53-9AAE-1B1C224729DE\n",
      "Primär-progrediente Multiple Sklerose, EM 1987, ED 1994, EDSS 8.0\n",
      "Anamnestisch: beinbetonten, teils nächtliche, teils durch minime Blasenfüllung auftretende Spastiken der Beine, Feinmotorikstörungen der Hände mit zunehmnder Verschlechterung, Fatigue\n",
      "Klinisch: bein- und rechtssbetonte spastische Tetraparese, neurogene Blasenstörung mit suprapubischen DK, Anus präter, Feinmotorikstörung, Fatigue\n",
      "Verlauf: \n",
      "INDENT 1987: Gefühlsstörungen (Hypästhesie) beim Laufen in den Beinen, Gangstörungen mit Koordinationsproblemen und Stolpern\n",
      "INDENT 1992 Trigeminusneurie rechts 2. und 3. Nerv\n",
      "INDENT 1994: ED Schulthessklinik, 20 km laufen kein Problem\n",
      "INDENT Ende 1990er Jahre 2-3 km Laufen mit Pausen\n",
      "INDENT 2004: 100-200 m mit einseitiger Gehhilfe\n",
      "INDENT ab 09/2004: nach dem Einsetzten der Baclofenpumpe Rollstuhlpflichtigkeit\n",
      "INDENT Port-a-Cath- Einlage im 04/18\n",
      "Diagnostik:\n",
      "INDENT 1994: LP mit MS-typischen Bild\n",
      "INDENT MRI Balgrist (2016-2017) \n",
      "INDENT 26.11.2015 MRI HWS/BWS: Längerstreckige zervikale Myelopathie mit begleitender Myelonatrophie, beginnend auf Höhe C3/4 bis C6 ohne sichtbare pathologische KM-Anreicherung. Neu aufgetretende kleine fokale Flüssigkeits-isointense Läsion im Funikullus posterior rechts von 1,5mm auf Höhe C4/5. Weiterhin langstreckige thorakale Myelopathie von C7-L1 sich ausdehnend. In der sagittalen T2w sichtbar.\n",
      "INDENT cMRI 28.7.2016: Periventrikuläre, subkortikale und infratentorielle Marklagerveränderungen. Im Vergleich zu 05/2011 keine progredienn im Verlauf. Black holes in der T1-Sequenz. Kein Nachweis einer Schrankenstörung. Im angeschnittenen zervikalen Myelon bekanntermassen ausgeprägte myelopathische Veränderungen.\n",
      "INDENT cMRI und spinal 09/2017: Soweit mit der Voruntersuchung vergleichbar in etwa unverändertes Ausmass der nicht-aktiven intrazerebralen MS Läsionen. Etwas progrediente Hirnatrophie.\n",
      "INDENT cMRI vom 09/18: im Vergleich zu MRI 2016 neue demyelinisierende Läsion im Pons links. \n",
      "Therapie:\n",
      "INDENT 1990er Jahre: Copaxone\n",
      "INDENT 1990er Jahre: Betaferone\n",
      "\n",
      "\n"
     ]
    }
   ],
   "source": [
    "# Check primary_progressive_multiple_sclerosis\n",
    "for rid, rid_data in df_merged[df_merged[\"labels\"] == \"primary_progressive_multiple_sclerosis\"].groupby(\"rid\"):\n",
    "    print(rid)\n",
    "    print(rid_data[\"text\"].str.cat(sep = \"\\n\"))\n",
    "    print(\"\\n\")"
   ]
  },
  {
   "cell_type": "code",
   "execution_count": 78,
   "metadata": {},
   "outputs": [],
   "source": [
    "# Eligible research_ids, i.e. those with at least one \"dm\" class2\n",
    "eligible_rids = df_merged[df_merged[\"class2\"] == \"dm\"][\"rid\"].unique()\n",
    "\n",
    "# Filter df_merged for eligible rids\n",
    "df_merged = df_merged[df_merged[\"rid\"].isin(eligible_rids)]"
   ]
  },
  {
   "cell_type": "code",
   "execution_count": 79,
   "metadata": {},
   "outputs": [],
   "source": [
    "# Df1: contains all dm entries per rid keeping the labels\n",
    "df1 = df_merged[df_merged[\"class2\"] == \"dm\"].groupby(\"rid\").agg({\"text\": \"\\n\".join, \"labels\": \"first\"}).reset_index()\n",
    "\n",
    "# Df2: contains all text entries per rid keeping the labels\n",
    "df2 = df_merged.groupby(\"rid\").agg({\"text\": \"\\n\".join, \"labels\": \"first\"}).reset_index()"
   ]
  },
  {
   "cell_type": "code",
   "execution_count": 80,
   "metadata": {},
   "outputs": [
    {
     "data": {
      "text/plain": [
       "True"
      ]
     },
     "execution_count": 80,
     "metadata": {},
     "output_type": "execute_result"
    }
   ],
   "source": [
    "len(df1) == len(df2) # Check if same number of rids"
   ]
  },
  {
   "cell_type": "code",
   "execution_count": 81,
   "metadata": {},
   "outputs": [],
   "source": [
    "# Train Val Test split\n",
    "df1train, df1test = train_test_split(df1, test_size=0.3, random_state=42, stratify=df1[\"labels\"])\n",
    "df1train, df1val = train_test_split(df1train, test_size=0.1, random_state=42, stratify=df1train[\"labels\"])\n",
    "\n",
    "df2train, df2test = train_test_split(df2, test_size=0.3, random_state=42, stratify=df2[\"labels\"])\n",
    "df2train, df2val = train_test_split(df2train, test_size=0.1, random_state=42, stratify=df2train[\"labels\"])"
   ]
  },
  {
   "cell_type": "code",
   "execution_count": 82,
   "metadata": {},
   "outputs": [
    {
     "data": {
      "application/vnd.jupyter.widget-view+json": {
       "model_id": "a7b458f11a0e412188dd75014be37cdd",
       "version_major": 2,
       "version_minor": 0
      },
      "text/plain": [
       "Map:   0%|          | 0/96 [00:00<?, ? examples/s]"
      ]
     },
     "metadata": {},
     "output_type": "display_data"
    },
    {
     "data": {
      "application/vnd.jupyter.widget-view+json": {
       "model_id": "79429a6c87654cf0a4d8ed5d70f4fc4a",
       "version_major": 2,
       "version_minor": 0
      },
      "text/plain": [
       "Map:   0%|          | 0/11 [00:00<?, ? examples/s]"
      ]
     },
     "metadata": {},
     "output_type": "display_data"
    },
    {
     "data": {
      "application/vnd.jupyter.widget-view+json": {
       "model_id": "847864a6182143e09c3a2f5bec22f3fd",
       "version_major": 2,
       "version_minor": 0
      },
      "text/plain": [
       "Map:   0%|          | 0/47 [00:00<?, ? examples/s]"
      ]
     },
     "metadata": {},
     "output_type": "display_data"
    },
    {
     "data": {
      "application/vnd.jupyter.widget-view+json": {
       "model_id": "7c47c921317d4178bfffc99a8805c8a0",
       "version_major": 2,
       "version_minor": 0
      },
      "text/plain": [
       "Map:   0%|          | 0/96 [00:00<?, ? examples/s]"
      ]
     },
     "metadata": {},
     "output_type": "display_data"
    },
    {
     "data": {
      "application/vnd.jupyter.widget-view+json": {
       "model_id": "849491b07212488c831492d45d04c98d",
       "version_major": 2,
       "version_minor": 0
      },
      "text/plain": [
       "Map:   0%|          | 0/11 [00:00<?, ? examples/s]"
      ]
     },
     "metadata": {},
     "output_type": "display_data"
    },
    {
     "data": {
      "application/vnd.jupyter.widget-view+json": {
       "model_id": "a744603bc0fd4b2b9107bc7274e1875f",
       "version_major": 2,
       "version_minor": 0
      },
      "text/plain": [
       "Map:   0%|          | 0/47 [00:00<?, ? examples/s]"
      ]
     },
     "metadata": {},
     "output_type": "display_data"
    },
    {
     "data": {
      "application/vnd.jupyter.widget-view+json": {
       "model_id": "8df277d8105a4624973e1e35c79e040f",
       "version_major": 2,
       "version_minor": 0
      },
      "text/plain": [
       "Saving the dataset (0/1 shards):   0%|          | 0/96 [00:00<?, ? examples/s]"
      ]
     },
     "metadata": {},
     "output_type": "display_data"
    },
    {
     "data": {
      "application/vnd.jupyter.widget-view+json": {
       "model_id": "1adb9cc6f62848db899eec92733073ec",
       "version_major": 2,
       "version_minor": 0
      },
      "text/plain": [
       "Saving the dataset (0/1 shards):   0%|          | 0/11 [00:00<?, ? examples/s]"
      ]
     },
     "metadata": {},
     "output_type": "display_data"
    },
    {
     "data": {
      "application/vnd.jupyter.widget-view+json": {
       "model_id": "6bab8fc46a1b44b9877cc5c1a31db0df",
       "version_major": 2,
       "version_minor": 0
      },
      "text/plain": [
       "Saving the dataset (0/1 shards):   0%|          | 0/47 [00:00<?, ? examples/s]"
      ]
     },
     "metadata": {},
     "output_type": "display_data"
    },
    {
     "data": {
      "application/vnd.jupyter.widget-view+json": {
       "model_id": "adb219bf047b4dc18d2fd450aa72e47d",
       "version_major": 2,
       "version_minor": 0
      },
      "text/plain": [
       "Saving the dataset (0/1 shards):   0%|          | 0/96 [00:00<?, ? examples/s]"
      ]
     },
     "metadata": {},
     "output_type": "display_data"
    },
    {
     "data": {
      "application/vnd.jupyter.widget-view+json": {
       "model_id": "8af220f9ef0b460dbae7f5022f6e88be",
       "version_major": 2,
       "version_minor": 0
      },
      "text/plain": [
       "Saving the dataset (0/1 shards):   0%|          | 0/11 [00:00<?, ? examples/s]"
      ]
     },
     "metadata": {},
     "output_type": "display_data"
    },
    {
     "data": {
      "application/vnd.jupyter.widget-view+json": {
       "model_id": "5b3da56b1aee46eaba4aae6e1633442d",
       "version_major": 2,
       "version_minor": 0
      },
      "text/plain": [
       "Saving the dataset (0/1 shards):   0%|          | 0/47 [00:00<?, ? examples/s]"
      ]
     },
     "metadata": {},
     "output_type": "display_data"
    }
   ],
   "source": [
    "# Create HuggingFace Dataset\n",
    "def create_hf_dataset(train:pd.DataFrame, val:pd.DataFrame, test:pd.DataFrame):\n",
    "    \"\"\"Create HuggingFace Dataset from train, val and test dataframes. Remaps labels to ids and drops unnecessary columns.\n",
    "    \n",
    "    Args:\n",
    "        train (pd.DataFrame): Training dataframe\n",
    "        val (pd.DataFrame): Validation dataframe\n",
    "        test (pd.DataFrame): Test dataframe\n",
    "        \n",
    "        Returns:\n",
    "            DatasetDict: HuggingFace DatasetDict\n",
    "            \n",
    "    \"\"\"\n",
    "    dataset = DatasetDict({\n",
    "        \"train\": Dataset.from_pandas(train),\n",
    "        \"val\": Dataset.from_pandas(val),\n",
    "        \"test\": Dataset.from_pandas(test),\n",
    "    })\n",
    "\n",
    "    # Map the labels to ids\n",
    "    dataset = dataset.map(lambda e: {\"labels\": [ms_label2id[l] for l in e[\"labels\"]]}, batched=True)\n",
    "\n",
    "    # Drop __index_level_0__ column\n",
    "    dataset = dataset.remove_columns([\"__index_level_0__\", \"rid\"])\n",
    "\n",
    "    return dataset\n",
    "\n",
    "dataset1 = create_hf_dataset(df1train, df1val, df1test)\n",
    "dataset2 = create_hf_dataset(df2train, df2val, df2test)\n",
    "\n",
    "# Save the dataset\n",
    "dataset1.save_to_disk(os.path.join(paths.DATA_PATH_PREPROCESSED, \"ms-diag/ms_diag_only_dm\"))\n",
    "dataset2.save_to_disk(os.path.join(paths.DATA_PATH_PREPROCESSED, \"ms-diag/ms_diag_all_text\"))"
   ]
  },
  {
   "cell_type": "markdown",
   "metadata": {},
   "source": [
    "# Summary"
   ]
  },
  {
   "cell_type": "code",
   "execution_count": 60,
   "metadata": {},
   "outputs": [
    {
     "name": "stdout",
     "output_type": "stream",
     "text": [
      "Label distribution all:\n",
      "labels\n",
      "relapsing_remitting_multiple_sclerosis      133\n",
      "primary_progressive_multiple_sclerosis       13\n",
      "secondary_progressive_multiple_sclerosis      8\n",
      "Name: count, dtype: int64 \n",
      "\n",
      "\n",
      "Label distribution dm:\n",
      "labels\n",
      "relapsing_remitting_multiple_sclerosis      133\n",
      "primary_progressive_multiple_sclerosis       13\n",
      "secondary_progressive_multiple_sclerosis      8\n",
      "Name: count, dtype: int64 \n",
      "\n",
      "\n"
     ]
    }
   ],
   "source": [
    "# Label distribution\n",
    "print(\"Label distribution all:\")\n",
    "print(df2.labels.value_counts(), \"\\n\\n\")\n",
    "\n",
    "print(\"Label distribution dm:\")\n",
    "print(df1.labels.value_counts(), \"\\n\\n\")"
   ]
  }
 ],
 "metadata": {
  "kernelspec": {
   "display_name": "Python 3 (ipykernel)",
   "language": "python",
   "name": "python3"
  },
  "language_info": {
   "codemirror_mode": {
    "name": "ipython",
    "version": 3
   },
   "file_extension": ".py",
   "mimetype": "text/x-python",
   "name": "python",
   "nbconvert_exporter": "python",
   "pygments_lexer": "ipython3",
   "version": "3.9.18"
  }
 },
 "nbformat": 4,
 "nbformat_minor": 4
}

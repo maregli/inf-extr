{
 "cells": [
  {
   "cell_type": "code",
   "execution_count": 26,
   "metadata": {},
   "outputs": [],
   "source": [
    "import sys\n",
    "import os\n",
    "sys.path.append(os.getcwd()+\"/../..\")\n",
    "from src import paths\n",
    "\n",
    "from src.utils import get_default_pydantic_model, SideEffect, SideEffectList\n",
    "\n",
    "import pandas as pd\n",
    "import torch\n",
    "\n",
    "import json\n",
    "\n",
    "import numpy as np\n",
    "\n",
    "from transformers import BertModel, BertTokenizer\n",
    "from sklearn.metrics.pairwise import cosine_similarity\n",
    "\n",
    "import seaborn as sns\n",
    "import matplotlib.pyplot as plt\n",
    "import pandas as pd"
   ]
  },
  {
   "cell_type": "code",
   "execution_count": 27,
   "metadata": {},
   "outputs": [
    {
     "name": "stderr",
     "output_type": "stream",
     "text": [
      "Some weights of BertModel were not initialized from the model checkpoint at /mnt/c/Users/marc_/OneDrive/ETH/MSC_Thesis/inf-extr/resources/models/medbert-512 and are newly initialized: ['bert.pooler.dense.bias', 'bert.pooler.dense.weight']\n",
      "You should probably TRAIN this model on a down-stream task to be able to use it for predictions and inference.\n"
     ]
    }
   ],
   "source": [
    "device = torch.device(\"cuda\" if torch.cuda.is_available() else \"cpu\")\n",
    "\n",
    "default_model = get_default_pydantic_model(\"side_effects\")\n",
    "model = BertModel.from_pretrained(os.path.join(paths.MODEL_PATH, \"medbert-512\")).to(device)\n",
    "tokenizer = BertTokenizer.from_pretrained(os.path.join(paths.MODEL_PATH, \"medbert-512\"))"
   ]
  },
  {
   "cell_type": "code",
   "execution_count": 240,
   "metadata": {},
   "outputs": [],
   "source": [
    "def high_cosine_similarity(ground_truth:str, prediction:str, model:BertModel, tokenizer:BertTokenizer, threshhold:float = 0.7):\n",
    "    \"\"\"\n",
    "    Calculate if the cosine similarity between the ground truth and the prediction is higher than the threshhold.\n",
    "\n",
    "    Args:\n",
    "        ground_truth (str): The ground truth text.\n",
    "        prediction (str): The predicted text.\n",
    "        model (BertModel): BertModel object to calculate the cosine similarity.\n",
    "        tokenizer (BertTokenizer): BertTokenizer object to tokenize the text.\n",
    "        threshhold (float, optional): The threshhold for the cosine similarity. Defaults to 0.7.\n",
    "\n",
    "    Returns:\n",
    "        bool: True if the cosine similarity is higher than the threshhold, False otherwise.\n",
    "    \"\"\"\n",
    "\n",
    "    with torch.no_grad():\n",
    "        ground_truth = model(**tokenizer(ground_truth, return_tensors=\"pt\", padding=True, truncation=True, max_length=512).to(model.device))[\"last_hidden_state\"].to(\"cpu\")\n",
    "        prediction = model(**tokenizer(prediction, return_tensors=\"pt\", padding=True, truncation=True, max_length=512).to(model.device))[\"last_hidden_state\"].to(\"cpu\")\n",
    "        ground_truth = ground_truth.mean(dim=1)\n",
    "        prediction = prediction.mean(dim=1)\n",
    "        return cosine_similarity(ground_truth, prediction).item() > threshhold\n",
    "\n",
    "def preprocess_group(grouped_df: pd.DataFrame)->pd.DataFrame:\n",
    "    \"\"\"\n",
    "    Preprocess a group of rows (grouped by obs index) from the dataframe. The preprocessing consists of:\n",
    "    - Fusing all the unique side effects per medication with \",\" (so only one row per medication is left)\n",
    "    - Splitting the medications by \"/\" if necessary\n",
    "\n",
    "    Args:\n",
    "        grouped_df (pd.DataFrame): A group of rows from the dataframe.\n",
    "\n",
    "    Returns:\n",
    "        pd.DataFrame: A dataframe with the group preprocessed.\n",
    "    \"\"\"\n",
    "\n",
    "    df = []\n",
    "    \n",
    "    # group by medication name\n",
    "    for med, group in grouped_df.groupby(\"medication\"):\n",
    "       # Fuse all the unique side effects with \",\"\n",
    "        side_effects = group[\"side_effect\"].unique()\n",
    "        side_effects = \", \".join(side_effects)\n",
    "        text = group[\"text\"].iloc[0]\n",
    "        original_text = group[\"original_text\"].iloc[0]\n",
    "        index = group[\"index\"].iloc[0]\n",
    "\n",
    "        new_row = {\"medication\": med, \"side_effect\": side_effects, \"text\": text, \"original_text\": original_text, \"index\": index, \"successful\": group[\"successful\"].iloc[0]}\n",
    "        # Append the new row to the dataframe\n",
    "        df.append(new_row)\n",
    "\n",
    "    return pd.DataFrame(df)\n",
    "\n",
    "def prepare_results(path: str)->pd.DataFrame:\n",
    "    \"\"\" \n",
    "    Prepare the results from the model to be compared with the labels. The preprocessing consists of:\n",
    "    - Fixing the model answers, replacing them with the default model answer if they are invalid (in regards to JSON structure).\n",
    "    - Grouping the results by index and preprocessing the group. (See preprocess_group() function for more details.)\n",
    "    - Lowercasing and converting everything to string.\n",
    "\n",
    "    Args:\n",
    "        path (str): Path to the results file.\n",
    "        \n",
    "    Returns:\n",
    "        pd.DataFrame: A dataframe with the results preprocessed.\n",
    "    \"\"\"\n",
    "    results = torch.load(path)\n",
    "    df = pd.DataFrame(results)\n",
    "\n",
    "    df[\"successful\"] = True\n",
    "\n",
    "    # Fix model_answers\n",
    "    for idx, row in df.iterrows():\n",
    "        try:\n",
    "            # Does model answer have key \"side_effects\"?\n",
    "            answer = json.loads(row[\"model_answers\"])\n",
    "\n",
    "            # Is answer a valid SideEffectList?\n",
    "            SideEffectList(**answer)\n",
    "\n",
    "            # Is the element an empty list?\n",
    "            if len(answer[\"side_effects\"]) == 0:\n",
    "                raise ValueError(\"Empty list\")\n",
    "            \n",
    "            # Are all the elements valid SideEffect?\n",
    "            for med in answer[\"side_effects\"]:\n",
    "                SideEffect(**med)\n",
    "            \n",
    "            df.at[idx, \"model_answers\"] = json.dumps(answer)\n",
    "\n",
    "            \n",
    "        except:\n",
    "            df.at[idx, \"model_answers\"] = default_model.model_dump_json()\n",
    "            # print(f\"Error at index {idx}\")\n",
    "            df.at[idx, \"successful\"] = False\n",
    "    \n",
    "    dfs = []\n",
    "    for idx, row in df.iterrows():\n",
    "        row = row.to_dict()\n",
    "        answer = json.loads(row[\"model_answers\"])\n",
    "        medications = answer[\"side_effects\"]\n",
    "        for med in medications:\n",
    "            med[\"text\"] = row.get(\"text\", \"\")\n",
    "            med[\"original_text\"] = row.get(\"original_text\", \"\")\n",
    "            med[\"index\"] = row.get(\"index\", \"\")\n",
    "            med[\"successful\"] = row.get(\"successful\", \"\")\n",
    "            dfs.append((med))\n",
    "\n",
    "    res = pd.DataFrame(dfs)\n",
    "\n",
    "    res = res.sort_values(by=\"index\")\n",
    "\n",
    "    # Group by index and preprocess\n",
    "    _dfs = []\n",
    "\n",
    "    for index, group in res.groupby(\"index\"):\n",
    "        _dfs.append(preprocess_group(group))\n",
    "\n",
    "    res = pd.concat(_dfs)\n",
    "\n",
    "    # Convert everything to string and lowercase\n",
    "    res = res.map(lambda x: str(x).lower())\n",
    "\n",
    "    return res\n",
    "\n",
    "def prepare_labels(path: str)->pd.DataFrame:\n",
    "    \"\"\"\n",
    "    Prepare the labels to be compared with the results. The preprocessing consists of:\n",
    "    - Lowercasing and converting everything to string.\n",
    "\n",
    "    Args:\n",
    "        path (str): Path to the labels file.\n",
    "\n",
    "    Returns:\n",
    "\n",
    "        pd.DataFrame: A dataframe with the labels preprocessed.\n",
    "    \"\"\"\n",
    "    labels = pd.read_excel(path) \n",
    "\n",
    "    # Convert everything to string and lowercase\n",
    "    labels = labels.map(lambda x: str(x).lower())\n",
    "\n",
    "    return labels\n",
    "\n",
    "def calculate_precision_recall_f1(ground_truth:list[str], predicted:list[str])->tuple[float, float, float]:\n",
    "    \"\"\"\n",
    "    Calculate precision and recall from two lists of strings, allowing for partial string matches.\n",
    "    A string does not have to be exactly the same to be considered a match, it is enough if one string is a substring of the other.\n",
    "    This function is used to evaluate the medication names.\n",
    "\n",
    "    Args:\n",
    "        ground_truth (list[str]): List of ground truth medication names\n",
    "        predicted (list[str]): List of predicted medication names\n",
    "\n",
    "    Returns:\n",
    "        tuple[float, float, float]: A tuple with the precision, recall and f1 score.\n",
    "    \"\"\"\n",
    "    # Convert lists to sets for easier comparison\n",
    "    ground_truth_set = set(ground_truth)\n",
    "    predicted_set = set(predicted)\n",
    "\n",
    "    # Initialize counters\n",
    "    true_positives = 0\n",
    "    false_positives = 0\n",
    "\n",
    "    # Calculate True Positives and False Positives\n",
    "    for pred_med in predicted_set:\n",
    "        found_match = False\n",
    "        for truth_med in ground_truth_set:\n",
    "            if pred_med in truth_med or truth_med in pred_med:\n",
    "                true_positives += 1\n",
    "                found_match = True\n",
    "                break\n",
    "        if not found_match:\n",
    "            false_positives += 1\n",
    "\n",
    "    # Calculate False Negatives\n",
    "    false_negatives = len(ground_truth_set) - true_positives\n",
    "\n",
    "    # Calculate Precision\n",
    "    if true_positives + false_positives == 0:\n",
    "        precision = 0  # Handle division by zero\n",
    "    else:\n",
    "        precision = true_positives / (true_positives + false_positives)\n",
    "\n",
    "    # Calculate Recall\n",
    "    if true_positives + false_negatives == 0:\n",
    "        recall = 0  # Handle division by zero\n",
    "    else:\n",
    "        recall = true_positives / (true_positives + false_negatives)\n",
    "\n",
    "    # Calculate F1 Score\n",
    "    if precision + recall == 0:\n",
    "        f1 = 0\n",
    "    else:\n",
    "        f1 = 2 * (precision * recall) / (precision + recall)\n",
    "\n",
    "    return precision, recall, f1\n",
    "\n",
    "def string_match(ground_truth:list[dict], predicted:list[dict], model:BertModel, tokenizer:BertTokenizer, threshold:float=0.9)->tuple[float, float, float]:\n",
    "    \"\"\" \n",
    "    Calculate if the strings match (based on cosine similarity) from two lists of dictionaries. This function is used to evaluate the side effects.\n",
    "\n",
    "    Args:\n",
    "        ground_truth (list): List of ground truth medication names and their side effect.\n",
    "        predicted (list): List of predicted medication names and their side effect.\n",
    "        model (BertModel): BertModel object to calculate the cosine similarity.\n",
    "        tokenizer (BertTokenizer): BertTokenizer object to tokenize the text.\n",
    "    \"\"\"\n",
    "\n",
    "    # Match the prediction to the ground truth with medication name\n",
    "    tp = 0\n",
    "    fn = 0\n",
    "    fp = 0\n",
    "\n",
    "    for pred_id, pred in enumerate(predicted):\n",
    "        for gt_id, gt in enumerate(ground_truth):\n",
    "            if pred[\"medication\"] in gt[\"medication\"] or gt[\"medication\"] in pred[\"medication\"]:\n",
    "                if high_cosine_similarity([pred[\"side_effect\"]], [gt[\"side_effect\"]], model, tokenizer, threshold):\n",
    "                    tp += 1\n",
    "                else:\n",
    "                    fp += 1\n",
    "                    fn += 1\n",
    "                # Remove the ground truth and prediction from the list\n",
    "                ground_truth.pop(gt_id)\n",
    "                predicted.pop(pred_id)\n",
    "\n",
    "    # For remaining ground truth\n",
    "    fn += len(ground_truth)\n",
    "    fp += len(predicted)\n",
    "\n",
    "    # Calculate Precision\n",
    "    if tp + fp == 0:\n",
    "        precision = 0\n",
    "    else:\n",
    "        precision = tp / (tp + fp)\n",
    "\n",
    "    # Calculate Recall\n",
    "    if tp + fn == 0:\n",
    "        recall = 0\n",
    "    else:\n",
    "        recall = tp / (tp + fn)\n",
    "\n",
    "    # Calculate F1 Score\n",
    "    if precision + recall == 0:\n",
    "        f1 = 0\n",
    "    else:\n",
    "        f1 = 2 * (precision * recall) / (precision + recall)\n",
    "\n",
    "    return precision, recall, f1\n",
    "\n",
    "\n",
    "def create_metrics_df(labels_path:str, results_path:str, *args, **kwargs)->pd.DataFrame:\n",
    "    \"\"\"\n",
    "    Create a dataframe with the metrics for each index. The metrics are:\n",
    "    - Precision, Recall and F1 score for medication names\n",
    "    - Precision, Recall and F1 score for side effects\n",
    "\n",
    "    Args:\n",
    "        labels_path (str): Path to the labels file.\n",
    "        results_path (str): Path to the results file.\n",
    "\n",
    "    Returns:\n",
    "        pd.DataFrame: A dataframe with the metrics for each index.\n",
    "    \"\"\"\n",
    "    \n",
    "    labels = prepare_labels(labels_path)\n",
    "    res = prepare_results(results_path)\n",
    "    model = kwargs.get(\"model\")\n",
    "    tokenizer = kwargs.get(\"tokenizer\")\n",
    "    threshold = kwargs.get(\"threshold\", 0.9)\n",
    "\n",
    "    dfs = []\n",
    "    for index, group in res.groupby(\"index\"):\n",
    "        text = group[\"text\"].iloc[0]\n",
    "        original_text = group[\"original_text\"].iloc[0]\n",
    "        index = group[\"index\"].iloc[0]\n",
    "        preds_med = group[\"medication\"].to_list()\n",
    "        preds_se = group[\"side_effect\"].to_list()\n",
    "        labels_med = labels[labels[\"index\"] == index][\"medication\"].to_list()\n",
    "        labels_se = labels[labels[\"index\"] == index][\"side_effect\"].to_list()\n",
    "\n",
    "        # Side effects\n",
    "        ground_truth = labels[labels[\"index\"] == index].to_dict(orient=\"records\")\n",
    "        predicted = group.to_dict(orient=\"records\")\n",
    "        assert model is not None and tokenizer is not None, \"Model and tokenizer must be provided as keyword arguments for side effects evaluation.\"\n",
    "        side_effects_precision, side_effects_recall, side_effects_f1 = string_match(ground_truth, predicted, model, tokenizer, threshold)\n",
    "\n",
    "        # Medication\n",
    "        ground_truth = labels[labels[\"index\"] == index][\"medication\"].to_list()\n",
    "        predicted = group[\"medication\"].to_list()\n",
    "        medication_precision, medication_recall, medication_f1 = calculate_precision_recall_f1(ground_truth, predicted)\n",
    "\n",
    "        \n",
    "        if group[\"successful\"].iloc[0] == \"false\":\n",
    "            successful = False\n",
    "        else:\n",
    "            successful = True\n",
    "\n",
    "        dfs.append({\"text\": text, \n",
    "                    \"original_text\": original_text, \n",
    "                    \"index\": index, \n",
    "                    \"preds_med\": preds_med,\n",
    "                    \"labels_med\": labels_med,\n",
    "                    \"preds_se\": preds_se,\n",
    "                    \"labels_se\": labels_se,\n",
    "                    \"successful\": successful,\n",
    "                    \"side_effects_precision\": side_effects_precision, \"side_effects_recall\": side_effects_recall, \"side_effects_f1\": side_effects_f1, \"medication_precision\": medication_precision, \"medication_recall\": medication_recall, \"medication_f1\": medication_f1})\n",
    "\n",
    "    return pd.DataFrame(dfs)\n",
    "\n",
    "def create_agg_metrics_df(labels_path:str, results_path:str, *args, **kwargs)->pd.DataFrame:\n",
    "    \"\"\"\n",
    "    Create a dataframe with the aggregated metrics for the whole dataset. The metrics are:\n",
    "    - Precision, Recall and F1 score for medication names\n",
    "    - Precision, Recall and F1 score for side effects\n",
    "\n",
    "    Args:\n",
    "        labels_path (str): Path to the labels file.\n",
    "        results_path (str): Path to the results file.\n",
    "        scorer (BERTScorer): BERTScorer object to score the similarity between the side effects.\n",
    "\n",
    "    Returns:\n",
    "        pd.DataFrame: A dataframe with the aggregated metrics for the whole dataset.\n",
    "    \"\"\"\n",
    "    metrics = create_metrics_df(labels_path, results_path, *args, **kwargs)\n",
    "\n",
    "    # Calculate the average of the metrics\n",
    "    agg_metrics = metrics.agg({\"side_effects_precision\": \"mean\", \"side_effects_recall\": \"mean\", \"side_effects_f1\": \"mean\", \"medication_precision\": \"mean\", \"medication_recall\": \"mean\", \"medication_f1\": \"mean\", \"successful\": \"sum\"})\n",
    "\n",
    "    return agg_metrics"
   ]
  },
  {
   "cell_type": "code",
   "execution_count": 130,
   "metadata": {},
   "outputs": [],
   "source": [
    "def summarize(paths:list[str], labels:str, *args, **kwargs)->pd.DataFrame:\n",
    "    \"\"\"\n",
    "    Summarize the results from the model. The summary consists of:\n",
    "    - Precision, Recall and F1 score for medication names\n",
    "    - Precision, Recall and F1 score for side effects\n",
    "    - Aggregated metrics for the whole dataset\n",
    "\n",
    "    Args:\n",
    "        paths (list): List of paths to the results files.\n",
    "        labels (str): Path to the labels file.\n",
    "\n",
    "    Returns:\n",
    "        pd.DataFrame: A dataframe with the summary of the results.\n",
    "    \"\"\"\n",
    "    dfs = []\n",
    "    for path in paths:\n",
    "        metrics = create_agg_metrics_df(labels, path, *args, **kwargs)\n",
    "        path = str(path)\n",
    "        if path.endswith(\"rag.pt\"):\n",
    "            metrics[\"approach\"] = \"S2A-1\"\n",
    "        elif path.endswith(\"s2a.pt\"):\n",
    "            metrics[\"approach\"] = \"S2A-2\"\n",
    "        else:\n",
    "            metrics[\"approach\"] = \"Base\"\n",
    "        \n",
    "        if \"few_shot_vanilla\" in path:\n",
    "            metrics[\"strategy\"] = \"Few-Shot Base\"\n",
    "        elif \"few_shot_instruction\" in path:\n",
    "            metrics[\"strategy\"] = \"Few-Shot Instruction\"\n",
    "        elif \"zero_shot_vanilla\" in path:\n",
    "            metrics[\"strategy\"] = \"Zero-Shot Base\"\n",
    "        elif \"zero_shot_instruction\" in path:\n",
    "            metrics[\"strategy\"] = \"Zero-Shot Instruction\"\n",
    "        else:\n",
    "            ValueError(\"Unknown strategy\")\n",
    "        dfs.append(metrics)\n",
    "    return pd.DataFrame(dfs)"
   ]
  },
  {
   "cell_type": "markdown",
   "metadata": {},
   "source": [
    "# 13B"
   ]
  },
  {
   "cell_type": "markdown",
   "metadata": {},
   "source": [
    "## Base"
   ]
  },
  {
   "cell_type": "code",
   "execution_count": 32,
   "metadata": {},
   "outputs": [
    {
     "data": {
      "text/plain": [
       "side_effects_precision     0.188383\n",
       "side_effects_recall        0.460000\n",
       "side_effects_f1            0.253639\n",
       "medication_precision       0.311031\n",
       "medication_recall          0.755000\n",
       "medication_f1              0.416100\n",
       "duplicated                 0.000000\n",
       "successful                96.000000\n",
       "dtype: float64"
      ]
     },
     "execution_count": 32,
     "metadata": {},
     "output_type": "execute_result"
    }
   ],
   "source": [
    "# Zero Shot Vanilla\n",
    "create_agg_metrics_df(paths.RESULTS_PATH/\"side-effects/labels.xlsx\", paths.RESULTS_PATH/\"side-effects/side-effects_outlines_Llama2-MedTuned-13b_4bit_zero_shot_vanilla.pt\", model=model, tokenizer=tokenizer, threshold = 0.5)\n"
   ]
  },
  {
   "cell_type": "code",
   "execution_count": 33,
   "metadata": {},
   "outputs": [
    {
     "data": {
      "text/plain": [
       "side_effects_precision     0.291452\n",
       "side_effects_recall        0.576667\n",
       "side_effects_f1            0.361858\n",
       "medication_precision       0.426976\n",
       "medication_recall          0.881667\n",
       "medication_f1              0.538124\n",
       "duplicated                 1.000000\n",
       "successful                94.000000\n",
       "dtype: float64"
      ]
     },
     "execution_count": 33,
     "metadata": {},
     "output_type": "execute_result"
    }
   ],
   "source": [
    "# Zero Shot instruction\n",
    "create_agg_metrics_df(paths.RESULTS_PATH/\"side-effects/labels.xlsx\", paths.RESULTS_PATH/\"side-effects/side-effects_outlines_Llama2-MedTuned-13b_4bit_zero_shot_instruction.pt\", model=model, tokenizer=tokenizer, threshold = 0.5)"
   ]
  },
  {
   "cell_type": "code",
   "execution_count": 34,
   "metadata": {},
   "outputs": [
    {
     "data": {
      "text/plain": [
       "side_effects_precision     0.359786\n",
       "side_effects_recall        0.586667\n",
       "side_effects_f1            0.419866\n",
       "medication_precision       0.435881\n",
       "medication_recall          0.725000\n",
       "medication_f1              0.509802\n",
       "duplicated                 8.000000\n",
       "successful                95.000000\n",
       "dtype: float64"
      ]
     },
     "execution_count": 34,
     "metadata": {},
     "output_type": "execute_result"
    }
   ],
   "source": [
    "# Few Shot Vanilla\n",
    "create_agg_metrics_df(paths.RESULTS_PATH/\"side-effects/labels.xlsx\", paths.RESULTS_PATH/\"side-effects/side-effects_outlines_Llama2-MedTuned-13b_4bit_few_shot_vanilla_10_examples.pt\", model=model, tokenizer=tokenizer, threshold = 0.5)"
   ]
  },
  {
   "cell_type": "code",
   "execution_count": 35,
   "metadata": {},
   "outputs": [
    {
     "data": {
      "text/plain": [
       "side_effects_precision      0.343980\n",
       "side_effects_recall         0.656667\n",
       "side_effects_f1             0.421826\n",
       "medication_precision        0.432687\n",
       "medication_recall           0.845000\n",
       "medication_f1               0.532716\n",
       "duplicated                 16.000000\n",
       "successful                100.000000\n",
       "dtype: float64"
      ]
     },
     "execution_count": 35,
     "metadata": {},
     "output_type": "execute_result"
    }
   ],
   "source": [
    "create_agg_metrics_df(paths.RESULTS_PATH/\"side-effects/labels.xlsx\", paths.RESULTS_PATH/\"side-effects/side-effects_outlines_Llama2-MedTuned-13b_4bit_few_shot_instruction_10_examples.pt\", model=model, tokenizer=tokenizer, threshold = 0.5)"
   ]
  },
  {
   "cell_type": "markdown",
   "metadata": {},
   "source": [
    "## RAG"
   ]
  },
  {
   "cell_type": "code",
   "execution_count": 36,
   "metadata": {},
   "outputs": [
    {
     "data": {
      "text/plain": [
       "side_effects_precision     0.289488\n",
       "side_effects_recall        0.530000\n",
       "side_effects_f1            0.345992\n",
       "medication_precision       0.401453\n",
       "medication_recall          0.778333\n",
       "medication_f1              0.489483\n",
       "duplicated                 0.000000\n",
       "successful                99.000000\n",
       "dtype: float64"
      ]
     },
     "execution_count": 36,
     "metadata": {},
     "output_type": "execute_result"
    }
   ],
   "source": [
    "# Zero Shot Vanilla\n",
    "create_agg_metrics_df(paths.RESULTS_PATH/\"side-effects/labels.xlsx\", paths.RESULTS_PATH/\"side-effects/side-effects_outlines_Llama2-MedTuned-13b_4bit_zero_shot_vanilla_rag.pt\", model=model, tokenizer=tokenizer, threshold = 0.5)\n"
   ]
  },
  {
   "cell_type": "code",
   "execution_count": 37,
   "metadata": {},
   "outputs": [
    {
     "data": {
      "text/plain": [
       "side_effects_precision     0.313012\n",
       "side_effects_recall        0.540000\n",
       "side_effects_f1            0.368437\n",
       "medication_precision       0.421310\n",
       "medication_recall          0.768333\n",
       "medication_f1              0.505404\n",
       "duplicated                 0.000000\n",
       "successful                99.000000\n",
       "dtype: float64"
      ]
     },
     "execution_count": 37,
     "metadata": {},
     "output_type": "execute_result"
    }
   ],
   "source": [
    "# Zero Shot instruction\n",
    "create_agg_metrics_df(paths.RESULTS_PATH/\"side-effects/labels.xlsx\", paths.RESULTS_PATH/\"side-effects/side-effects_outlines_Llama2-MedTuned-13b_4bit_zero_shot_instruction_rag.pt\", model=model, tokenizer=tokenizer, threshold = 0.5)\n"
   ]
  },
  {
   "cell_type": "code",
   "execution_count": 38,
   "metadata": {},
   "outputs": [
    {
     "data": {
      "text/plain": [
       "side_effects_precision     0.366198\n",
       "side_effects_recall        0.538333\n",
       "side_effects_f1            0.409179\n",
       "medication_precision       0.429722\n",
       "medication_recall          0.680000\n",
       "medication_f1              0.489893\n",
       "duplicated                 9.000000\n",
       "successful                96.000000\n",
       "dtype: float64"
      ]
     },
     "execution_count": 38,
     "metadata": {},
     "output_type": "execute_result"
    }
   ],
   "source": [
    "# Few Shot Vanilla\n",
    "create_agg_metrics_df(paths.RESULTS_PATH/\"side-effects/labels.xlsx\", paths.RESULTS_PATH/\"side-effects/side-effects_outlines_Llama2-MedTuned-13b_4bit_few_shot_vanilla_10_examples_rag.pt\", model=model, tokenizer=tokenizer, threshold = 0.5)"
   ]
  },
  {
   "cell_type": "code",
   "execution_count": 39,
   "metadata": {},
   "outputs": [
    {
     "data": {
      "text/plain": [
       "side_effects_precision     0.335929\n",
       "side_effects_recall        0.605000\n",
       "side_effects_f1            0.405405\n",
       "medication_precision       0.436619\n",
       "medication_recall          0.791667\n",
       "medication_f1              0.526373\n",
       "duplicated                 6.000000\n",
       "successful                97.000000\n",
       "dtype: float64"
      ]
     },
     "execution_count": 39,
     "metadata": {},
     "output_type": "execute_result"
    }
   ],
   "source": [
    "create_agg_metrics_df(paths.RESULTS_PATH/\"side-effects/labels.xlsx\", paths.RESULTS_PATH/\"side-effects/side-effects_outlines_Llama2-MedTuned-13b_4bit_few_shot_instruction_10_examples_rag.pt\", model=model, tokenizer=tokenizer, threshold = 0.5)"
   ]
  },
  {
   "cell_type": "markdown",
   "metadata": {},
   "source": [
    "## S2A"
   ]
  },
  {
   "cell_type": "code",
   "execution_count": 40,
   "metadata": {},
   "outputs": [
    {
     "data": {
      "text/plain": [
       "side_effects_precision      0.546429\n",
       "side_effects_recall         0.586667\n",
       "side_effects_f1             0.554500\n",
       "medication_precision        0.806429\n",
       "medication_recall           0.870000\n",
       "medication_f1               0.820833\n",
       "duplicated                  2.000000\n",
       "successful                100.000000\n",
       "dtype: float64"
      ]
     },
     "execution_count": 40,
     "metadata": {},
     "output_type": "execute_result"
    }
   ],
   "source": [
    "# Zero Shot Vanilla\n",
    "create_agg_metrics_df(paths.RESULTS_PATH/\"side-effects/labels.xlsx\", paths.RESULTS_PATH/\"side-effects/side-effects_outlines_Llama2-MedTuned-13b_4bit_zero_shot_vanilla_s2a.pt\", model=model, tokenizer=tokenizer, threshold = 0.5)\n"
   ]
  },
  {
   "cell_type": "code",
   "execution_count": 41,
   "metadata": {},
   "outputs": [
    {
     "data": {
      "text/plain": [
       "side_effects_precision     0.697262\n",
       "side_effects_recall        0.731667\n",
       "side_effects_f1            0.706500\n",
       "medication_precision       0.953095\n",
       "medication_recall          0.990000\n",
       "medication_f1              0.961500\n",
       "duplicated                 0.000000\n",
       "successful                92.000000\n",
       "dtype: float64"
      ]
     },
     "execution_count": 41,
     "metadata": {},
     "output_type": "execute_result"
    }
   ],
   "source": [
    "# Zero Shot instruction\n",
    "create_agg_metrics_df(paths.RESULTS_PATH/\"side-effects/labels.xlsx\", paths.RESULTS_PATH/\"side-effects/side-effects_outlines_Llama2-MedTuned-13b_4bit_zero_shot_instruction_s2a.pt\", model=model, tokenizer=tokenizer, threshold = 0.5)\n"
   ]
  },
  {
   "cell_type": "code",
   "execution_count": 42,
   "metadata": {},
   "outputs": [
    {
     "data": {
      "text/plain": [
       "side_effects_precision     0.709524\n",
       "side_effects_recall        0.728333\n",
       "side_effects_f1            0.707333\n",
       "medication_precision       0.882857\n",
       "medication_recall          0.910000\n",
       "medication_f1              0.881333\n",
       "duplicated                 3.000000\n",
       "successful                97.000000\n",
       "dtype: float64"
      ]
     },
     "execution_count": 42,
     "metadata": {},
     "output_type": "execute_result"
    }
   ],
   "source": [
    "# Few Shot Vanilla\n",
    "create_agg_metrics_df(paths.RESULTS_PATH/\"side-effects/labels.xlsx\", paths.RESULTS_PATH/\"side-effects/side-effects_outlines_Llama2-MedTuned-13b_4bit_few_shot_vanilla_10_examples_s2a.pt\", model=model, tokenizer=tokenizer, threshold = 0.5)"
   ]
  },
  {
   "cell_type": "code",
   "execution_count": 43,
   "metadata": {},
   "outputs": [
    {
     "data": {
      "text/plain": [
       "side_effects_precision     0.661429\n",
       "side_effects_recall        0.713333\n",
       "side_effects_f1            0.667056\n",
       "medication_precision       0.851429\n",
       "medication_recall          0.910000\n",
       "medication_f1              0.857722\n",
       "duplicated                 8.000000\n",
       "successful                98.000000\n",
       "dtype: float64"
      ]
     },
     "execution_count": 43,
     "metadata": {},
     "output_type": "execute_result"
    }
   ],
   "source": [
    "# Few Shot Instruction\n",
    "create_agg_metrics_df(paths.RESULTS_PATH/\"side-effects/labels.xlsx\", paths.RESULTS_PATH/\"side-effects/side-effects_outlines_Llama2-MedTuned-13b_4bit_few_shot_instruction_10_examples_s2a.pt\", model=model, tokenizer=tokenizer, threshold = 0.5)"
   ]
  },
  {
   "cell_type": "markdown",
   "metadata": {},
   "source": [
    "## Summary"
   ]
  },
  {
   "cell_type": "code",
   "execution_count": 44,
   "metadata": {},
   "outputs": [],
   "source": [
    "def latex_metrics(metrics:pd.DataFrame)->str:\n",
    "    \"\"\"\n",
    "    Convert the metrics dataframe to a latex table.\n",
    "    \"\"\"\n",
    "    dfs = []\n",
    "    for strat, group in metrics.groupby(\"strategy\"):\n",
    "        cols = [col for col in metrics.columns if col not in [\"strategy\", \"approach\"]]\n",
    "        df_base = group[group[\"approach\"] == \"Base\"][cols].reset_index(drop=True)\n",
    "        df_base.columns = [f\"{col}_base\" for col in cols]\n",
    "        df_rag = group[group[\"approach\"] == \"S2A-1\"][cols].reset_index(drop=True)\n",
    "        df_rag.columns = [f\"{col}_rag\" for col in cols]\n",
    "        df_s2a = group[group[\"approach\"] == \"S2A-2\"][cols].reset_index(drop=True)\n",
    "        df_s2a.columns = [f\"{col}_s2a\" for col in cols]\n",
    "        df = pd.concat([df_base, df_rag, df_s2a], axis=1)\n",
    "        df[\"strategy\"] = strat\n",
    "        dfs.append(df)\n",
    "\n",
    "    return pd.concat(dfs, axis=0)"
   ]
  },
  {
   "cell_type": "code",
   "execution_count": 131,
   "metadata": {},
   "outputs": [],
   "source": [
    "file_paths = [paths.RESULTS_PATH/\"side-effects/side-effects_outlines_Llama2-MedTuned-13b_4bit_zero_shot_vanilla.pt\",\n",
    "              paths.RESULTS_PATH/\"side-effects/side-effects_outlines_Llama2-MedTuned-13b_4bit_zero_shot_instruction.pt\",\n",
    "              paths.RESULTS_PATH/\"side-effects/side-effects_outlines_Llama2-MedTuned-13b_4bit_few_shot_vanilla_10_examples.pt\",\n",
    "              paths.RESULTS_PATH/\"side-effects/side-effects_outlines_Llama2-MedTuned-13b_4bit_few_shot_instruction_10_examples.pt\",\n",
    "              paths.RESULTS_PATH/\"side-effects/side-effects_outlines_Llama2-MedTuned-13b_4bit_zero_shot_vanilla_rag.pt\",\n",
    "              paths.RESULTS_PATH/\"side-effects/side-effects_outlines_Llama2-MedTuned-13b_4bit_zero_shot_instruction_rag.pt\",\n",
    "              paths.RESULTS_PATH/\"side-effects/side-effects_outlines_Llama2-MedTuned-13b_4bit_few_shot_vanilla_10_examples_rag.pt\",\n",
    "              paths.RESULTS_PATH/\"side-effects/side-effects_outlines_Llama2-MedTuned-13b_4bit_few_shot_instruction_10_examples_rag.pt\",\n",
    "              paths.RESULTS_PATH/\"side-effects/side-effects_outlines_Llama2-MedTuned-13b_4bit_zero_shot_vanilla_s2a.pt\",\n",
    "              paths.RESULTS_PATH/\"side-effects/side-effects_outlines_Llama2-MedTuned-13b_4bit_zero_shot_instruction_s2a.pt\",\n",
    "              paths.RESULTS_PATH/\"side-effects/side-effects_outlines_Llama2-MedTuned-13b_4bit_few_shot_vanilla_10_examples_s2a.pt\",\n",
    "              paths.RESULTS_PATH/\"side-effects/side-effects_outlines_Llama2-MedTuned-13b_4bit_few_shot_instruction_10_examples_s2a.pt\",]"
   ]
  },
  {
   "cell_type": "code",
   "execution_count": 133,
   "metadata": {},
   "outputs": [],
   "source": [
    "results = summarize(file_paths, paths.RESULTS_PATH/\"side-effects/labels.xlsx\", model=model, tokenizer=tokenizer, threshold = 0.7)\n",
    "results = results.round(2)\n",
    "# results.to_csv(paths.RESULTS_PATH/\"side-effects/summary13b.csv\", index=False)"
   ]
  },
  {
   "cell_type": "code",
   "execution_count": 134,
   "metadata": {},
   "outputs": [
    {
     "data": {
      "text/html": [
       "<div>\n",
       "<style scoped>\n",
       "    .dataframe tbody tr th:only-of-type {\n",
       "        vertical-align: middle;\n",
       "    }\n",
       "\n",
       "    .dataframe tbody tr th {\n",
       "        vertical-align: top;\n",
       "    }\n",
       "\n",
       "    .dataframe thead th {\n",
       "        text-align: right;\n",
       "    }\n",
       "</style>\n",
       "<table border=\"1\" class=\"dataframe\">\n",
       "  <thead>\n",
       "    <tr style=\"text-align: right;\">\n",
       "      <th></th>\n",
       "      <th>side_effects_precision</th>\n",
       "      <th>side_effects_recall</th>\n",
       "      <th>side_effects_f1</th>\n",
       "      <th>medication_precision</th>\n",
       "      <th>medication_recall</th>\n",
       "      <th>medication_f1</th>\n",
       "      <th>successful</th>\n",
       "      <th>approach</th>\n",
       "      <th>strategy</th>\n",
       "    </tr>\n",
       "  </thead>\n",
       "  <tbody>\n",
       "    <tr>\n",
       "      <th>0</th>\n",
       "      <td>0.16</td>\n",
       "      <td>0.36</td>\n",
       "      <td>0.21</td>\n",
       "      <td>0.31</td>\n",
       "      <td>0.74</td>\n",
       "      <td>0.41</td>\n",
       "      <td>96.0</td>\n",
       "      <td>Base</td>\n",
       "      <td>Zero-Shot Base</td>\n",
       "    </tr>\n",
       "    <tr>\n",
       "      <th>1</th>\n",
       "      <td>0.26</td>\n",
       "      <td>0.46</td>\n",
       "      <td>0.31</td>\n",
       "      <td>0.43</td>\n",
       "      <td>0.87</td>\n",
       "      <td>0.54</td>\n",
       "      <td>94.0</td>\n",
       "      <td>Base</td>\n",
       "      <td>Zero-Shot Instruction</td>\n",
       "    </tr>\n",
       "    <tr>\n",
       "      <th>2</th>\n",
       "      <td>0.34</td>\n",
       "      <td>0.54</td>\n",
       "      <td>0.39</td>\n",
       "      <td>0.44</td>\n",
       "      <td>0.72</td>\n",
       "      <td>0.51</td>\n",
       "      <td>95.0</td>\n",
       "      <td>Base</td>\n",
       "      <td>Few-Shot Base</td>\n",
       "    </tr>\n",
       "    <tr>\n",
       "      <th>3</th>\n",
       "      <td>0.31</td>\n",
       "      <td>0.61</td>\n",
       "      <td>0.38</td>\n",
       "      <td>0.43</td>\n",
       "      <td>0.83</td>\n",
       "      <td>0.53</td>\n",
       "      <td>100.0</td>\n",
       "      <td>Base</td>\n",
       "      <td>Few-Shot Instruction</td>\n",
       "    </tr>\n",
       "    <tr>\n",
       "      <th>4</th>\n",
       "      <td>0.25</td>\n",
       "      <td>0.42</td>\n",
       "      <td>0.29</td>\n",
       "      <td>0.40</td>\n",
       "      <td>0.77</td>\n",
       "      <td>0.48</td>\n",
       "      <td>99.0</td>\n",
       "      <td>S2A-1</td>\n",
       "      <td>Zero-Shot Base</td>\n",
       "    </tr>\n",
       "    <tr>\n",
       "      <th>5</th>\n",
       "      <td>0.27</td>\n",
       "      <td>0.42</td>\n",
       "      <td>0.31</td>\n",
       "      <td>0.42</td>\n",
       "      <td>0.76</td>\n",
       "      <td>0.50</td>\n",
       "      <td>99.0</td>\n",
       "      <td>S2A-1</td>\n",
       "      <td>Zero-Shot Instruction</td>\n",
       "    </tr>\n",
       "    <tr>\n",
       "      <th>6</th>\n",
       "      <td>0.35</td>\n",
       "      <td>0.52</td>\n",
       "      <td>0.40</td>\n",
       "      <td>0.42</td>\n",
       "      <td>0.67</td>\n",
       "      <td>0.48</td>\n",
       "      <td>96.0</td>\n",
       "      <td>S2A-1</td>\n",
       "      <td>Few-Shot Base</td>\n",
       "    </tr>\n",
       "    <tr>\n",
       "      <th>7</th>\n",
       "      <td>0.33</td>\n",
       "      <td>0.59</td>\n",
       "      <td>0.40</td>\n",
       "      <td>0.43</td>\n",
       "      <td>0.78</td>\n",
       "      <td>0.52</td>\n",
       "      <td>97.0</td>\n",
       "      <td>S2A-1</td>\n",
       "      <td>Few-Shot Instruction</td>\n",
       "    </tr>\n",
       "    <tr>\n",
       "      <th>8</th>\n",
       "      <td>0.41</td>\n",
       "      <td>0.46</td>\n",
       "      <td>0.43</td>\n",
       "      <td>0.80</td>\n",
       "      <td>0.86</td>\n",
       "      <td>0.81</td>\n",
       "      <td>100.0</td>\n",
       "      <td>S2A-2</td>\n",
       "      <td>Zero-Shot Base</td>\n",
       "    </tr>\n",
       "    <tr>\n",
       "      <th>9</th>\n",
       "      <td>0.54</td>\n",
       "      <td>0.56</td>\n",
       "      <td>0.55</td>\n",
       "      <td>0.93</td>\n",
       "      <td>0.97</td>\n",
       "      <td>0.94</td>\n",
       "      <td>92.0</td>\n",
       "      <td>S2A-2</td>\n",
       "      <td>Zero-Shot Instruction</td>\n",
       "    </tr>\n",
       "    <tr>\n",
       "      <th>10</th>\n",
       "      <td>0.67</td>\n",
       "      <td>0.68</td>\n",
       "      <td>0.66</td>\n",
       "      <td>0.88</td>\n",
       "      <td>0.90</td>\n",
       "      <td>0.87</td>\n",
       "      <td>97.0</td>\n",
       "      <td>S2A-2</td>\n",
       "      <td>Few-Shot Base</td>\n",
       "    </tr>\n",
       "    <tr>\n",
       "      <th>11</th>\n",
       "      <td>0.64</td>\n",
       "      <td>0.69</td>\n",
       "      <td>0.64</td>\n",
       "      <td>0.85</td>\n",
       "      <td>0.90</td>\n",
       "      <td>0.86</td>\n",
       "      <td>98.0</td>\n",
       "      <td>S2A-2</td>\n",
       "      <td>Few-Shot Instruction</td>\n",
       "    </tr>\n",
       "  </tbody>\n",
       "</table>\n",
       "</div>"
      ],
      "text/plain": [
       "    side_effects_precision  side_effects_recall  side_effects_f1  \\\n",
       "0                     0.16                 0.36             0.21   \n",
       "1                     0.26                 0.46             0.31   \n",
       "2                     0.34                 0.54             0.39   \n",
       "3                     0.31                 0.61             0.38   \n",
       "4                     0.25                 0.42             0.29   \n",
       "5                     0.27                 0.42             0.31   \n",
       "6                     0.35                 0.52             0.40   \n",
       "7                     0.33                 0.59             0.40   \n",
       "8                     0.41                 0.46             0.43   \n",
       "9                     0.54                 0.56             0.55   \n",
       "10                    0.67                 0.68             0.66   \n",
       "11                    0.64                 0.69             0.64   \n",
       "\n",
       "    medication_precision  medication_recall  medication_f1  successful  \\\n",
       "0                   0.31               0.74           0.41        96.0   \n",
       "1                   0.43               0.87           0.54        94.0   \n",
       "2                   0.44               0.72           0.51        95.0   \n",
       "3                   0.43               0.83           0.53       100.0   \n",
       "4                   0.40               0.77           0.48        99.0   \n",
       "5                   0.42               0.76           0.50        99.0   \n",
       "6                   0.42               0.67           0.48        96.0   \n",
       "7                   0.43               0.78           0.52        97.0   \n",
       "8                   0.80               0.86           0.81       100.0   \n",
       "9                   0.93               0.97           0.94        92.0   \n",
       "10                  0.88               0.90           0.87        97.0   \n",
       "11                  0.85               0.90           0.86        98.0   \n",
       "\n",
       "   approach               strategy  \n",
       "0      Base         Zero-Shot Base  \n",
       "1      Base  Zero-Shot Instruction  \n",
       "2      Base          Few-Shot Base  \n",
       "3      Base   Few-Shot Instruction  \n",
       "4     S2A-1         Zero-Shot Base  \n",
       "5     S2A-1  Zero-Shot Instruction  \n",
       "6     S2A-1          Few-Shot Base  \n",
       "7     S2A-1   Few-Shot Instruction  \n",
       "8     S2A-2         Zero-Shot Base  \n",
       "9     S2A-2  Zero-Shot Instruction  \n",
       "10    S2A-2          Few-Shot Base  \n",
       "11    S2A-2   Few-Shot Instruction  "
      ]
     },
     "execution_count": 134,
     "metadata": {},
     "output_type": "execute_result"
    }
   ],
   "source": [
    "results"
   ]
  },
  {
   "cell_type": "code",
   "execution_count": 135,
   "metadata": {},
   "outputs": [],
   "source": [
    "thesis13b = latex_metrics(results)\n",
    "thesis13b_precision = thesis13b[[\"strategy\"] + [col for col in thesis13b.columns if \"precision\" in col]]\n",
    "thesis13b_recall = thesis13b[[\"strategy\"] + [col for col in thesis13b.columns if \"recall\" in col]]\n",
    "thesis13b_f1 = thesis13b[[\"strategy\"] + [col for col in thesis13b.columns if \"f1\" in col]]\n",
    "\n",
    "# thesis13b_precision.to_csv(paths.RESULTS_PATH/\"side-effects/thesis13b_precision.csv\", index=False)\n",
    "# thesis13b_recall.to_csv(paths.RESULTS_PATH/\"side-effects/thesis13b_recall.csv\", index=False)\n",
    "# thesis13b_f1.to_csv(paths.RESULTS_PATH/\"side-effects/thesis13b_f1.csv\", index=False)"
   ]
  },
  {
   "cell_type": "markdown",
   "metadata": {},
   "source": [
    "- Model seems to have difficulties if there is no medication mentioned with side effects. The tuned model does not have this problem I think, show example\n",
    "- also split medications that contain \"/\" into two lists\n",
    "- concatenate the side effects for the same medications with \",\""
   ]
  },
  {
   "cell_type": "markdown",
   "metadata": {},
   "source": [
    "# 7B"
   ]
  },
  {
   "cell_type": "markdown",
   "metadata": {},
   "source": [
    "## Base"
   ]
  },
  {
   "cell_type": "code",
   "execution_count": 48,
   "metadata": {},
   "outputs": [
    {
     "data": {
      "text/plain": [
       "side_effects_precision     0.142172\n",
       "side_effects_recall        0.198333\n",
       "side_effects_f1            0.149190\n",
       "medication_precision       0.232005\n",
       "medication_recall          0.301667\n",
       "medication_f1              0.238905\n",
       "duplicated                 0.000000\n",
       "successful                65.000000\n",
       "dtype: float64"
      ]
     },
     "execution_count": 48,
     "metadata": {},
     "output_type": "execute_result"
    }
   ],
   "source": [
    "# Zero Shot Vanilla\n",
    "create_agg_metrics_df(paths.RESULTS_PATH/\"side-effects/labels.xlsx\", paths.RESULTS_PATH/\"side-effects/side-effects_outlines_Llama2-MedTuned-7b_4bit_zero_shot_vanilla.pt\", model=model, tokenizer=tokenizer, threshold = 0.5)\n"
   ]
  },
  {
   "cell_type": "code",
   "execution_count": 49,
   "metadata": {},
   "outputs": [
    {
     "data": {
      "text/plain": [
       "side_effects_precision     0.131762\n",
       "side_effects_recall        0.170000\n",
       "side_effects_f1            0.138556\n",
       "medication_precision       0.202595\n",
       "medication_recall          0.248333\n",
       "medication_f1              0.209222\n",
       "duplicated                 0.000000\n",
       "successful                98.000000\n",
       "dtype: float64"
      ]
     },
     "execution_count": 49,
     "metadata": {},
     "output_type": "execute_result"
    }
   ],
   "source": [
    "# Zero Shot instruction\n",
    "create_agg_metrics_df(paths.RESULTS_PATH/\"side-effects/labels.xlsx\", paths.RESULTS_PATH/\"side-effects/side-effects_outlines_Llama2-MedTuned-7b_4bit_zero_shot_instruction.pt\", model=model, tokenizer=tokenizer, threshold = 0.5)\n"
   ]
  },
  {
   "cell_type": "code",
   "execution_count": 50,
   "metadata": {},
   "outputs": [
    {
     "data": {
      "text/plain": [
       "side_effects_precision     0.328333\n",
       "side_effects_recall        0.330000\n",
       "side_effects_f1            0.325000\n",
       "medication_precision       0.398333\n",
       "medication_recall          0.383333\n",
       "medication_f1              0.383333\n",
       "duplicated                 0.000000\n",
       "successful                98.000000\n",
       "dtype: float64"
      ]
     },
     "execution_count": 50,
     "metadata": {},
     "output_type": "execute_result"
    }
   ],
   "source": [
    "# Few Shot Vanilla\n",
    "create_agg_metrics_df(paths.RESULTS_PATH/\"side-effects/labels.xlsx\", paths.RESULTS_PATH/\"side-effects/side-effects_outlines_Llama2-MedTuned-7b_4bit_few_shot_vanilla_10_examples.pt\", model=model, tokenizer=tokenizer, threshold = 0.5)"
   ]
  },
  {
   "cell_type": "code",
   "execution_count": 51,
   "metadata": {},
   "outputs": [
    {
     "data": {
      "text/plain": [
       "side_effects_precision     0.343333\n",
       "side_effects_recall        0.331667\n",
       "side_effects_f1            0.334444\n",
       "medication_precision       0.393333\n",
       "medication_recall          0.371667\n",
       "medication_f1              0.377778\n",
       "duplicated                 0.000000\n",
       "successful                93.000000\n",
       "dtype: float64"
      ]
     },
     "execution_count": 51,
     "metadata": {},
     "output_type": "execute_result"
    }
   ],
   "source": [
    "create_agg_metrics_df(paths.RESULTS_PATH/\"side-effects/labels.xlsx\", paths.RESULTS_PATH/\"side-effects/side-effects_outlines_Llama2-MedTuned-7b_4bit_few_shot_instruction_10_examples.pt\", model=model, tokenizer=tokenizer, threshold = 0.5)"
   ]
  },
  {
   "cell_type": "markdown",
   "metadata": {},
   "source": [
    "## RAG"
   ]
  },
  {
   "cell_type": "code",
   "execution_count": 52,
   "metadata": {},
   "outputs": [
    {
     "data": {
      "text/plain": [
       "side_effects_precision      0.280000\n",
       "side_effects_recall         0.295000\n",
       "side_effects_f1             0.280667\n",
       "medication_precision        0.410357\n",
       "medication_recall           0.428333\n",
       "medication_f1               0.408444\n",
       "duplicated                  0.000000\n",
       "successful                100.000000\n",
       "dtype: float64"
      ]
     },
     "execution_count": 52,
     "metadata": {},
     "output_type": "execute_result"
    }
   ],
   "source": [
    "# Zero Shot Vanilla\n",
    "create_agg_metrics_df(paths.RESULTS_PATH/\"side-effects/labels.xlsx\", paths.RESULTS_PATH/\"side-effects/side-effects_outlines_Llama2-MedTuned-7b_4bit_zero_shot_vanilla_rag.pt\", model=model, tokenizer=tokenizer, threshold = 0.5)\n"
   ]
  },
  {
   "cell_type": "code",
   "execution_count": 53,
   "metadata": {},
   "outputs": [
    {
     "data": {
      "text/plain": [
       "side_effects_precision     0.255000\n",
       "side_effects_recall        0.270000\n",
       "side_effects_f1            0.257500\n",
       "medication_precision       0.406667\n",
       "medication_recall          0.408333\n",
       "medication_f1              0.398333\n",
       "duplicated                 0.000000\n",
       "successful                99.000000\n",
       "dtype: float64"
      ]
     },
     "execution_count": 53,
     "metadata": {},
     "output_type": "execute_result"
    }
   ],
   "source": [
    "# Zero Shot instruction\n",
    "create_agg_metrics_df(paths.RESULTS_PATH/\"side-effects/labels.xlsx\", paths.RESULTS_PATH/\"side-effects/side-effects_outlines_Llama2-MedTuned-7b_4bit_zero_shot_instruction_rag.pt\", model=model, tokenizer=tokenizer, threshold = 0.5)\n"
   ]
  },
  {
   "cell_type": "code",
   "execution_count": 54,
   "metadata": {},
   "outputs": [
    {
     "data": {
      "text/plain": [
       "side_effects_precision      0.295000\n",
       "side_effects_recall         0.300000\n",
       "side_effects_f1             0.296667\n",
       "medication_precision        0.385000\n",
       "medication_recall           0.378333\n",
       "medication_f1               0.378333\n",
       "duplicated                  0.000000\n",
       "successful                100.000000\n",
       "dtype: float64"
      ]
     },
     "execution_count": 54,
     "metadata": {},
     "output_type": "execute_result"
    }
   ],
   "source": [
    "# Few Shot Vanilla\n",
    "create_agg_metrics_df(paths.RESULTS_PATH/\"side-effects/labels.xlsx\", paths.RESULTS_PATH/\"side-effects/side-effects_outlines_Llama2-MedTuned-7b_4bit_few_shot_vanilla_10_examples_rag.pt\", model=model, tokenizer=tokenizer, threshold = 0.5)"
   ]
  },
  {
   "cell_type": "code",
   "execution_count": 55,
   "metadata": {},
   "outputs": [
    {
     "data": {
      "text/plain": [
       "side_effects_precision     0.313929\n",
       "side_effects_recall        0.325000\n",
       "side_effects_f1            0.313167\n",
       "medication_precision       0.397262\n",
       "medication_recall          0.403333\n",
       "medication_f1              0.389833\n",
       "duplicated                 0.000000\n",
       "successful                97.000000\n",
       "dtype: float64"
      ]
     },
     "execution_count": 55,
     "metadata": {},
     "output_type": "execute_result"
    }
   ],
   "source": [
    "create_agg_metrics_df(paths.RESULTS_PATH/\"side-effects/labels.xlsx\", paths.RESULTS_PATH/\"side-effects/side-effects_outlines_Llama2-MedTuned-7b_4bit_few_shot_instruction_10_examples_rag.pt\", model=model, tokenizer=tokenizer, threshold = 0.5)"
   ]
  },
  {
   "cell_type": "markdown",
   "metadata": {},
   "source": [
    "## S2A"
   ]
  },
  {
   "cell_type": "code",
   "execution_count": 56,
   "metadata": {},
   "outputs": [
    {
     "data": {
      "text/plain": [
       "side_effects_precision      0.533333\n",
       "side_effects_recall         0.488333\n",
       "side_effects_f1             0.503333\n",
       "medication_precision        0.790000\n",
       "medication_recall           0.720000\n",
       "medication_f1               0.743333\n",
       "duplicated                  0.000000\n",
       "successful                100.000000\n",
       "dtype: float64"
      ]
     },
     "execution_count": 56,
     "metadata": {},
     "output_type": "execute_result"
    }
   ],
   "source": [
    "# Zero Shot Vanilla\n",
    "create_agg_metrics_df(paths.RESULTS_PATH/\"side-effects/labels.xlsx\", paths.RESULTS_PATH/\"side-effects/side-effects_outlines_Llama2-MedTuned-7b_4bit_zero_shot_vanilla_s2a.pt\", model=model, tokenizer=tokenizer, threshold = 0.5)\n"
   ]
  },
  {
   "cell_type": "code",
   "execution_count": 57,
   "metadata": {},
   "outputs": [
    {
     "data": {
      "text/plain": [
       "side_effects_precision     0.556667\n",
       "side_effects_recall        0.500000\n",
       "side_effects_f1            0.518333\n",
       "medication_precision       0.820000\n",
       "medication_recall          0.743333\n",
       "medication_f1              0.768333\n",
       "duplicated                 0.000000\n",
       "successful                99.000000\n",
       "dtype: float64"
      ]
     },
     "execution_count": 57,
     "metadata": {},
     "output_type": "execute_result"
    }
   ],
   "source": [
    "# Zero Shot instruction\n",
    "create_agg_metrics_df(paths.RESULTS_PATH/\"side-effects/labels.xlsx\", paths.RESULTS_PATH/\"side-effects/side-effects_outlines_Llama2-MedTuned-7b_4bit_zero_shot_instruction_s2a.pt\", model=model, tokenizer=tokenizer, threshold = 0.5)\n"
   ]
  },
  {
   "cell_type": "code",
   "execution_count": 58,
   "metadata": {},
   "outputs": [
    {
     "data": {
      "text/plain": [
       "side_effects_precision     0.370000\n",
       "side_effects_recall        0.331667\n",
       "side_effects_f1            0.343333\n",
       "medication_precision       0.550000\n",
       "medication_recall          0.491667\n",
       "medication_f1              0.510000\n",
       "duplicated                 0.000000\n",
       "successful                99.000000\n",
       "dtype: float64"
      ]
     },
     "execution_count": 58,
     "metadata": {},
     "output_type": "execute_result"
    }
   ],
   "source": [
    "# Few Shot Vanilla\n",
    "create_agg_metrics_df(paths.RESULTS_PATH/\"side-effects/labels.xlsx\", paths.RESULTS_PATH/\"side-effects/side-effects_outlines_Llama2-MedTuned-7b_4bit_few_shot_vanilla_10_examples_s2a.pt\", model=model, tokenizer=tokenizer, threshold = 0.5)"
   ]
  },
  {
   "cell_type": "code",
   "execution_count": 59,
   "metadata": {},
   "outputs": [
    {
     "data": {
      "text/plain": [
       "side_effects_precision     0.340000\n",
       "side_effects_recall        0.313333\n",
       "side_effects_f1            0.321667\n",
       "medication_precision       0.470000\n",
       "medication_recall          0.423333\n",
       "medication_f1              0.438333\n",
       "duplicated                 0.000000\n",
       "successful                96.000000\n",
       "dtype: float64"
      ]
     },
     "execution_count": 59,
     "metadata": {},
     "output_type": "execute_result"
    }
   ],
   "source": [
    "create_agg_metrics_df(paths.RESULTS_PATH/\"side-effects/labels.xlsx\", paths.RESULTS_PATH/\"side-effects/side-effects_outlines_Llama2-MedTuned-7b_4bit_few_shot_instruction_10_examples_s2a.pt\", model=model, tokenizer=tokenizer, threshold = 0.5)"
   ]
  },
  {
   "cell_type": "code",
   "execution_count": 60,
   "metadata": {},
   "outputs": [],
   "source": [
    "file_paths7b = [paths.RESULTS_PATH/\"side-effects/side-effects_outlines_Llama2-MedTuned-7b_4bit_zero_shot_vanilla.pt\",\n",
    "              paths.RESULTS_PATH/\"side-effects/side-effects_outlines_Llama2-MedTuned-7b_4bit_zero_shot_instruction.pt\",\n",
    "              paths.RESULTS_PATH/\"side-effects/side-effects_outlines_Llama2-MedTuned-7b_4bit_few_shot_vanilla_10_examples.pt\",\n",
    "              paths.RESULTS_PATH/\"side-effects/side-effects_outlines_Llama2-MedTuned-7b_4bit_few_shot_instruction_10_examples.pt\",\n",
    "              paths.RESULTS_PATH/\"side-effects/side-effects_outlines_Llama2-MedTuned-7b_4bit_zero_shot_vanilla_rag.pt\",\n",
    "              paths.RESULTS_PATH/\"side-effects/side-effects_outlines_Llama2-MedTuned-7b_4bit_zero_shot_instruction_rag.pt\",\n",
    "              paths.RESULTS_PATH/\"side-effects/side-effects_outlines_Llama2-MedTuned-7b_4bit_few_shot_vanilla_10_examples_rag.pt\",\n",
    "              paths.RESULTS_PATH/\"side-effects/side-effects_outlines_Llama2-MedTuned-7b_4bit_few_shot_instruction_10_examples_rag.pt\",\n",
    "              paths.RESULTS_PATH/\"side-effects/side-effects_outlines_Llama2-MedTuned-7b_4bit_zero_shot_vanilla_s2a.pt\",\n",
    "              paths.RESULTS_PATH/\"side-effects/side-effects_outlines_Llama2-MedTuned-7b_4bit_zero_shot_instruction_s2a.pt\",\n",
    "              paths.RESULTS_PATH/\"side-effects/side-effects_outlines_Llama2-MedTuned-7b_4bit_few_shot_vanilla_10_examples_s2a.pt\",\n",
    "              paths.RESULTS_PATH/\"side-effects/side-effects_outlines_Llama2-MedTuned-7b_4bit_few_shot_instruction_10_examples_s2a.pt\",]"
   ]
  },
  {
   "cell_type": "code",
   "execution_count": 61,
   "metadata": {},
   "outputs": [],
   "source": [
    "results7b = summarize(file_paths7b, paths.RESULTS_PATH/\"side-effects/labels.xlsx\", model=model, tokenizer=tokenizer, threshold = 0.5)\n",
    "results7b = results7b.round(2)\n",
    "# results7b.to_csv(paths.RESULTS_PATH/\"side-effects/summary7b.csv\", index=False)"
   ]
  },
  {
   "cell_type": "code",
   "execution_count": 62,
   "metadata": {},
   "outputs": [
    {
     "data": {
      "text/html": [
       "<div>\n",
       "<style scoped>\n",
       "    .dataframe tbody tr th:only-of-type {\n",
       "        vertical-align: middle;\n",
       "    }\n",
       "\n",
       "    .dataframe tbody tr th {\n",
       "        vertical-align: top;\n",
       "    }\n",
       "\n",
       "    .dataframe thead th {\n",
       "        text-align: right;\n",
       "    }\n",
       "</style>\n",
       "<table border=\"1\" class=\"dataframe\">\n",
       "  <thead>\n",
       "    <tr style=\"text-align: right;\">\n",
       "      <th></th>\n",
       "      <th>side_effects_precision</th>\n",
       "      <th>side_effects_recall</th>\n",
       "      <th>side_effects_f1</th>\n",
       "      <th>medication_precision</th>\n",
       "      <th>medication_recall</th>\n",
       "      <th>medication_f1</th>\n",
       "      <th>duplicated</th>\n",
       "      <th>successful</th>\n",
       "      <th>approach</th>\n",
       "      <th>strategy</th>\n",
       "    </tr>\n",
       "  </thead>\n",
       "  <tbody>\n",
       "    <tr>\n",
       "      <th>0</th>\n",
       "      <td>0.14</td>\n",
       "      <td>0.20</td>\n",
       "      <td>0.15</td>\n",
       "      <td>0.23</td>\n",
       "      <td>0.30</td>\n",
       "      <td>0.24</td>\n",
       "      <td>0.0</td>\n",
       "      <td>65.0</td>\n",
       "      <td>Base</td>\n",
       "      <td>Zero-Shot Base</td>\n",
       "    </tr>\n",
       "    <tr>\n",
       "      <th>1</th>\n",
       "      <td>0.13</td>\n",
       "      <td>0.17</td>\n",
       "      <td>0.14</td>\n",
       "      <td>0.20</td>\n",
       "      <td>0.25</td>\n",
       "      <td>0.21</td>\n",
       "      <td>0.0</td>\n",
       "      <td>98.0</td>\n",
       "      <td>Base</td>\n",
       "      <td>Zero-Shot Instruction</td>\n",
       "    </tr>\n",
       "    <tr>\n",
       "      <th>2</th>\n",
       "      <td>0.33</td>\n",
       "      <td>0.33</td>\n",
       "      <td>0.32</td>\n",
       "      <td>0.40</td>\n",
       "      <td>0.38</td>\n",
       "      <td>0.38</td>\n",
       "      <td>0.0</td>\n",
       "      <td>98.0</td>\n",
       "      <td>Base</td>\n",
       "      <td>Few-Shot Base</td>\n",
       "    </tr>\n",
       "    <tr>\n",
       "      <th>3</th>\n",
       "      <td>0.34</td>\n",
       "      <td>0.33</td>\n",
       "      <td>0.33</td>\n",
       "      <td>0.39</td>\n",
       "      <td>0.37</td>\n",
       "      <td>0.38</td>\n",
       "      <td>0.0</td>\n",
       "      <td>93.0</td>\n",
       "      <td>Base</td>\n",
       "      <td>Few-Shot Instruction</td>\n",
       "    </tr>\n",
       "    <tr>\n",
       "      <th>4</th>\n",
       "      <td>0.28</td>\n",
       "      <td>0.30</td>\n",
       "      <td>0.28</td>\n",
       "      <td>0.41</td>\n",
       "      <td>0.43</td>\n",
       "      <td>0.41</td>\n",
       "      <td>0.0</td>\n",
       "      <td>100.0</td>\n",
       "      <td>S2A-1</td>\n",
       "      <td>Zero-Shot Base</td>\n",
       "    </tr>\n",
       "    <tr>\n",
       "      <th>5</th>\n",
       "      <td>0.26</td>\n",
       "      <td>0.27</td>\n",
       "      <td>0.26</td>\n",
       "      <td>0.41</td>\n",
       "      <td>0.41</td>\n",
       "      <td>0.40</td>\n",
       "      <td>0.0</td>\n",
       "      <td>99.0</td>\n",
       "      <td>S2A-1</td>\n",
       "      <td>Zero-Shot Instruction</td>\n",
       "    </tr>\n",
       "    <tr>\n",
       "      <th>6</th>\n",
       "      <td>0.30</td>\n",
       "      <td>0.30</td>\n",
       "      <td>0.30</td>\n",
       "      <td>0.38</td>\n",
       "      <td>0.38</td>\n",
       "      <td>0.38</td>\n",
       "      <td>0.0</td>\n",
       "      <td>100.0</td>\n",
       "      <td>S2A-1</td>\n",
       "      <td>Few-Shot Base</td>\n",
       "    </tr>\n",
       "    <tr>\n",
       "      <th>7</th>\n",
       "      <td>0.31</td>\n",
       "      <td>0.32</td>\n",
       "      <td>0.31</td>\n",
       "      <td>0.40</td>\n",
       "      <td>0.40</td>\n",
       "      <td>0.39</td>\n",
       "      <td>0.0</td>\n",
       "      <td>97.0</td>\n",
       "      <td>S2A-1</td>\n",
       "      <td>Few-Shot Instruction</td>\n",
       "    </tr>\n",
       "    <tr>\n",
       "      <th>8</th>\n",
       "      <td>0.53</td>\n",
       "      <td>0.49</td>\n",
       "      <td>0.50</td>\n",
       "      <td>0.79</td>\n",
       "      <td>0.72</td>\n",
       "      <td>0.74</td>\n",
       "      <td>0.0</td>\n",
       "      <td>100.0</td>\n",
       "      <td>S2A-2</td>\n",
       "      <td>Zero-Shot Base</td>\n",
       "    </tr>\n",
       "    <tr>\n",
       "      <th>9</th>\n",
       "      <td>0.56</td>\n",
       "      <td>0.50</td>\n",
       "      <td>0.52</td>\n",
       "      <td>0.82</td>\n",
       "      <td>0.74</td>\n",
       "      <td>0.77</td>\n",
       "      <td>0.0</td>\n",
       "      <td>99.0</td>\n",
       "      <td>S2A-2</td>\n",
       "      <td>Zero-Shot Instruction</td>\n",
       "    </tr>\n",
       "    <tr>\n",
       "      <th>10</th>\n",
       "      <td>0.37</td>\n",
       "      <td>0.33</td>\n",
       "      <td>0.34</td>\n",
       "      <td>0.55</td>\n",
       "      <td>0.49</td>\n",
       "      <td>0.51</td>\n",
       "      <td>0.0</td>\n",
       "      <td>99.0</td>\n",
       "      <td>S2A-2</td>\n",
       "      <td>Few-Shot Base</td>\n",
       "    </tr>\n",
       "    <tr>\n",
       "      <th>11</th>\n",
       "      <td>0.34</td>\n",
       "      <td>0.31</td>\n",
       "      <td>0.32</td>\n",
       "      <td>0.47</td>\n",
       "      <td>0.42</td>\n",
       "      <td>0.44</td>\n",
       "      <td>0.0</td>\n",
       "      <td>96.0</td>\n",
       "      <td>S2A-2</td>\n",
       "      <td>Few-Shot Instruction</td>\n",
       "    </tr>\n",
       "  </tbody>\n",
       "</table>\n",
       "</div>"
      ],
      "text/plain": [
       "    side_effects_precision  side_effects_recall  side_effects_f1  \\\n",
       "0                     0.14                 0.20             0.15   \n",
       "1                     0.13                 0.17             0.14   \n",
       "2                     0.33                 0.33             0.32   \n",
       "3                     0.34                 0.33             0.33   \n",
       "4                     0.28                 0.30             0.28   \n",
       "5                     0.26                 0.27             0.26   \n",
       "6                     0.30                 0.30             0.30   \n",
       "7                     0.31                 0.32             0.31   \n",
       "8                     0.53                 0.49             0.50   \n",
       "9                     0.56                 0.50             0.52   \n",
       "10                    0.37                 0.33             0.34   \n",
       "11                    0.34                 0.31             0.32   \n",
       "\n",
       "    medication_precision  medication_recall  medication_f1  duplicated  \\\n",
       "0                   0.23               0.30           0.24         0.0   \n",
       "1                   0.20               0.25           0.21         0.0   \n",
       "2                   0.40               0.38           0.38         0.0   \n",
       "3                   0.39               0.37           0.38         0.0   \n",
       "4                   0.41               0.43           0.41         0.0   \n",
       "5                   0.41               0.41           0.40         0.0   \n",
       "6                   0.38               0.38           0.38         0.0   \n",
       "7                   0.40               0.40           0.39         0.0   \n",
       "8                   0.79               0.72           0.74         0.0   \n",
       "9                   0.82               0.74           0.77         0.0   \n",
       "10                  0.55               0.49           0.51         0.0   \n",
       "11                  0.47               0.42           0.44         0.0   \n",
       "\n",
       "    successful approach               strategy  \n",
       "0         65.0     Base         Zero-Shot Base  \n",
       "1         98.0     Base  Zero-Shot Instruction  \n",
       "2         98.0     Base          Few-Shot Base  \n",
       "3         93.0     Base   Few-Shot Instruction  \n",
       "4        100.0    S2A-1         Zero-Shot Base  \n",
       "5         99.0    S2A-1  Zero-Shot Instruction  \n",
       "6        100.0    S2A-1          Few-Shot Base  \n",
       "7         97.0    S2A-1   Few-Shot Instruction  \n",
       "8        100.0    S2A-2         Zero-Shot Base  \n",
       "9         99.0    S2A-2  Zero-Shot Instruction  \n",
       "10        99.0    S2A-2          Few-Shot Base  \n",
       "11        96.0    S2A-2   Few-Shot Instruction  "
      ]
     },
     "execution_count": 62,
     "metadata": {},
     "output_type": "execute_result"
    }
   ],
   "source": [
    "results7b"
   ]
  },
  {
   "cell_type": "code",
   "execution_count": 63,
   "metadata": {},
   "outputs": [],
   "source": [
    "thesis7b = latex_metrics(results7b)\n",
    "thesis7b_precision = thesis7b[[\"strategy\"] + [col for col in thesis7b.columns if \"precision\" in col]]\n",
    "thesis7b_recall = thesis7b[[\"strategy\"] + [col for col in thesis7b.columns if \"recall\" in col]]\n",
    "thesis7b_f1 = thesis7b[[\"strategy\"] + [col for col in thesis7b.columns if \"f1\" in col]]\n",
    "\n",
    "# thesis7b_precision.to_csv(paths.RESULTS_PATH/\"side-effects/thesis7b_precision.csv\", index=False)\n",
    "# thesis7b_recall.to_csv(paths.RESULTS_PATH/\"side-effects/thesis7b_recall.csv\", index=False)\n",
    "# thesis7b_f1.to_csv(paths.RESULTS_PATH/\"side-effects/thesis7b_f1.csv\", index=False)"
   ]
  },
  {
   "cell_type": "markdown",
   "metadata": {},
   "source": [
    "# 13B Lora"
   ]
  },
  {
   "cell_type": "code",
   "execution_count": 244,
   "metadata": {},
   "outputs": [],
   "source": [
    "file_paths13b_lora_1024 = [\n",
    "                paths.RESULTS_PATH/\"side-effects/side-effects_outlines_Llama2-MedTuned-13b-1024-lora-merged_4bit_zero_shot_vanilla.pt\",\n",
    "              paths.RESULTS_PATH/\"side-effects/side-effects_outlines_Llama2-MedTuned-13b-1024-lora-merged_4bit_zero_shot_instruction.pt\",\n",
    "              paths.RESULTS_PATH/\"side-effects/side-effects_outlines_Llama2-MedTuned-13b-1024-lora-merged_4bit_few_shot_vanilla_10_examples.pt\",\n",
    "              paths.RESULTS_PATH/\"side-effects/side-effects_outlines_Llama2-MedTuned-13b-1024-lora-merged_4bit_few_shot_instruction_10_examples.pt\",\n",
    "              # paths.RESULTS_PATH/\"side-effects/side-effects_outlines_Llama2-MedTuned-13b-1024-lora-merged_4bit_zero_shot_vanilla_rag.pt\",\n",
    "              paths.RESULTS_PATH/\"side-effects/side-effects_outlines_Llama2-MedTuned-13b-1024-lora-merged_4bit_zero_shot_instruction_rag.pt\",\n",
    "              paths.RESULTS_PATH/\"side-effects/side-effects_outlines_Llama2-MedTuned-13b-1024-lora-merged_4bit_few_shot_vanilla_10_examples_rag.pt\",\n",
    "              paths.RESULTS_PATH/\"side-effects/side-effects_outlines_Llama2-MedTuned-13b-1024-lora-merged_4bit_few_shot_instruction_10_examples_rag.pt\",\n",
    "              paths.RESULTS_PATH/\"side-effects/side-effects_outlines_Llama2-MedTuned-13b-1024-lora-merged_4bit_zero_shot_vanilla_s2a.pt\",\n",
    "              paths.RESULTS_PATH/\"side-effects/side-effects_outlines_Llama2-MedTuned-13b-1024-lora-merged_4bit_zero_shot_instruction_s2a.pt\",\n",
    "              paths.RESULTS_PATH/\"side-effects/side-effects_outlines_Llama2-MedTuned-13b-1024-lora-merged_4bit_few_shot_vanilla_10_examples_s2a.pt\",\n",
    "              paths.RESULTS_PATH/\"side-effects/side-effects_outlines_Llama2-MedTuned-13b-1024-lora-merged_4bit_few_shot_instruction_10_examples_s2a.pt\",]"
   ]
  },
  {
   "cell_type": "code",
   "execution_count": 245,
   "metadata": {},
   "outputs": [],
   "source": [
    "results13b_lora_1024 = summarize(file_paths13b_lora_1024, paths.RESULTS_PATH/\"side-effects/labels.xlsx\", model=model, tokenizer=tokenizer, threshold = 0.7)"
   ]
  },
  {
   "cell_type": "code",
   "execution_count": 246,
   "metadata": {},
   "outputs": [
    {
     "data": {
      "text/html": [
       "<div>\n",
       "<style scoped>\n",
       "    .dataframe tbody tr th:only-of-type {\n",
       "        vertical-align: middle;\n",
       "    }\n",
       "\n",
       "    .dataframe tbody tr th {\n",
       "        vertical-align: top;\n",
       "    }\n",
       "\n",
       "    .dataframe thead th {\n",
       "        text-align: right;\n",
       "    }\n",
       "</style>\n",
       "<table border=\"1\" class=\"dataframe\">\n",
       "  <thead>\n",
       "    <tr style=\"text-align: right;\">\n",
       "      <th></th>\n",
       "      <th>side_effects_precision</th>\n",
       "      <th>side_effects_recall</th>\n",
       "      <th>side_effects_f1</th>\n",
       "      <th>medication_precision</th>\n",
       "      <th>medication_recall</th>\n",
       "      <th>medication_f1</th>\n",
       "      <th>successful</th>\n",
       "      <th>approach</th>\n",
       "      <th>strategy</th>\n",
       "    </tr>\n",
       "  </thead>\n",
       "  <tbody>\n",
       "    <tr>\n",
       "      <th>0</th>\n",
       "      <td>0.16</td>\n",
       "      <td>0.33</td>\n",
       "      <td>0.20</td>\n",
       "      <td>0.31</td>\n",
       "      <td>0.72</td>\n",
       "      <td>0.41</td>\n",
       "      <td>99.0</td>\n",
       "      <td>Base</td>\n",
       "      <td>Zero-Shot Base</td>\n",
       "    </tr>\n",
       "    <tr>\n",
       "      <th>1</th>\n",
       "      <td>0.20</td>\n",
       "      <td>0.37</td>\n",
       "      <td>0.25</td>\n",
       "      <td>0.39</td>\n",
       "      <td>0.78</td>\n",
       "      <td>0.49</td>\n",
       "      <td>97.0</td>\n",
       "      <td>Base</td>\n",
       "      <td>Zero-Shot Instruction</td>\n",
       "    </tr>\n",
       "    <tr>\n",
       "      <th>2</th>\n",
       "      <td>0.29</td>\n",
       "      <td>0.49</td>\n",
       "      <td>0.34</td>\n",
       "      <td>0.39</td>\n",
       "      <td>0.69</td>\n",
       "      <td>0.47</td>\n",
       "      <td>95.0</td>\n",
       "      <td>Base</td>\n",
       "      <td>Few-Shot Base</td>\n",
       "    </tr>\n",
       "    <tr>\n",
       "      <th>3</th>\n",
       "      <td>0.29</td>\n",
       "      <td>0.50</td>\n",
       "      <td>0.34</td>\n",
       "      <td>0.42</td>\n",
       "      <td>0.76</td>\n",
       "      <td>0.50</td>\n",
       "      <td>98.0</td>\n",
       "      <td>Base</td>\n",
       "      <td>Few-Shot Instruction</td>\n",
       "    </tr>\n",
       "    <tr>\n",
       "      <th>4</th>\n",
       "      <td>0.30</td>\n",
       "      <td>0.47</td>\n",
       "      <td>0.34</td>\n",
       "      <td>0.42</td>\n",
       "      <td>0.77</td>\n",
       "      <td>0.51</td>\n",
       "      <td>98.0</td>\n",
       "      <td>S2A-1</td>\n",
       "      <td>Zero-Shot Instruction</td>\n",
       "    </tr>\n",
       "    <tr>\n",
       "      <th>5</th>\n",
       "      <td>0.38</td>\n",
       "      <td>0.51</td>\n",
       "      <td>0.41</td>\n",
       "      <td>0.47</td>\n",
       "      <td>0.63</td>\n",
       "      <td>0.50</td>\n",
       "      <td>98.0</td>\n",
       "      <td>S2A-1</td>\n",
       "      <td>Few-Shot Base</td>\n",
       "    </tr>\n",
       "    <tr>\n",
       "      <th>6</th>\n",
       "      <td>0.35</td>\n",
       "      <td>0.63</td>\n",
       "      <td>0.42</td>\n",
       "      <td>0.41</td>\n",
       "      <td>0.76</td>\n",
       "      <td>0.50</td>\n",
       "      <td>99.0</td>\n",
       "      <td>S2A-1</td>\n",
       "      <td>Few-Shot Instruction</td>\n",
       "    </tr>\n",
       "    <tr>\n",
       "      <th>7</th>\n",
       "      <td>0.44</td>\n",
       "      <td>0.50</td>\n",
       "      <td>0.46</td>\n",
       "      <td>0.76</td>\n",
       "      <td>0.86</td>\n",
       "      <td>0.79</td>\n",
       "      <td>100.0</td>\n",
       "      <td>S2A-2</td>\n",
       "      <td>Zero-Shot Base</td>\n",
       "    </tr>\n",
       "    <tr>\n",
       "      <th>8</th>\n",
       "      <td>0.55</td>\n",
       "      <td>0.57</td>\n",
       "      <td>0.55</td>\n",
       "      <td>0.88</td>\n",
       "      <td>0.92</td>\n",
       "      <td>0.89</td>\n",
       "      <td>95.0</td>\n",
       "      <td>S2A-2</td>\n",
       "      <td>Zero-Shot Instruction</td>\n",
       "    </tr>\n",
       "    <tr>\n",
       "      <th>9</th>\n",
       "      <td>0.72</td>\n",
       "      <td>0.73</td>\n",
       "      <td>0.72</td>\n",
       "      <td>0.91</td>\n",
       "      <td>0.94</td>\n",
       "      <td>0.91</td>\n",
       "      <td>94.0</td>\n",
       "      <td>S2A-2</td>\n",
       "      <td>Few-Shot Base</td>\n",
       "    </tr>\n",
       "    <tr>\n",
       "      <th>10</th>\n",
       "      <td>0.71</td>\n",
       "      <td>0.74</td>\n",
       "      <td>0.71</td>\n",
       "      <td>0.92</td>\n",
       "      <td>0.96</td>\n",
       "      <td>0.93</td>\n",
       "      <td>98.0</td>\n",
       "      <td>S2A-2</td>\n",
       "      <td>Few-Shot Instruction</td>\n",
       "    </tr>\n",
       "  </tbody>\n",
       "</table>\n",
       "</div>"
      ],
      "text/plain": [
       "    side_effects_precision  side_effects_recall  side_effects_f1  \\\n",
       "0                     0.16                 0.33             0.20   \n",
       "1                     0.20                 0.37             0.25   \n",
       "2                     0.29                 0.49             0.34   \n",
       "3                     0.29                 0.50             0.34   \n",
       "4                     0.30                 0.47             0.34   \n",
       "5                     0.38                 0.51             0.41   \n",
       "6                     0.35                 0.63             0.42   \n",
       "7                     0.44                 0.50             0.46   \n",
       "8                     0.55                 0.57             0.55   \n",
       "9                     0.72                 0.73             0.72   \n",
       "10                    0.71                 0.74             0.71   \n",
       "\n",
       "    medication_precision  medication_recall  medication_f1  successful  \\\n",
       "0                   0.31               0.72           0.41        99.0   \n",
       "1                   0.39               0.78           0.49        97.0   \n",
       "2                   0.39               0.69           0.47        95.0   \n",
       "3                   0.42               0.76           0.50        98.0   \n",
       "4                   0.42               0.77           0.51        98.0   \n",
       "5                   0.47               0.63           0.50        98.0   \n",
       "6                   0.41               0.76           0.50        99.0   \n",
       "7                   0.76               0.86           0.79       100.0   \n",
       "8                   0.88               0.92           0.89        95.0   \n",
       "9                   0.91               0.94           0.91        94.0   \n",
       "10                  0.92               0.96           0.93        98.0   \n",
       "\n",
       "   approach               strategy  \n",
       "0      Base         Zero-Shot Base  \n",
       "1      Base  Zero-Shot Instruction  \n",
       "2      Base          Few-Shot Base  \n",
       "3      Base   Few-Shot Instruction  \n",
       "4     S2A-1  Zero-Shot Instruction  \n",
       "5     S2A-1          Few-Shot Base  \n",
       "6     S2A-1   Few-Shot Instruction  \n",
       "7     S2A-2         Zero-Shot Base  \n",
       "8     S2A-2  Zero-Shot Instruction  \n",
       "9     S2A-2          Few-Shot Base  \n",
       "10    S2A-2   Few-Shot Instruction  "
      ]
     },
     "execution_count": 246,
     "metadata": {},
     "output_type": "execute_result"
    }
   ],
   "source": [
    "results13b_lora_1024 = results13b_lora_1024.round(2)\n",
    "results13b_lora_1024"
   ]
  },
  {
   "cell_type": "code",
   "execution_count": 254,
   "metadata": {},
   "outputs": [],
   "source": [
    "file_paths13b_lora_512 = [\n",
    "              #   paths.RESULTS_PATH/\"side-effects/side-effects_outlines_Llama2-MedTuned-13b-512-lora-merged_4bit_zero_shot_vanilla.pt\",\n",
    "              # paths.RESULTS_PATH/\"side-effects/side-effects_outlines_Llama2-MedTuned-13b-512-lora-merged_4bit_zero_shot_instruction.pt\",\n",
    "              # paths.RESULTS_PATH/\"side-effects/side-effects_outlines_Llama2-MedTuned-13b-512-lora-merged_4bit_few_shot_vanilla_10_examples.pt\",\n",
    "            #   paths.RESULTS_PATH/\"side-effects/side-effects_outlines_Llama2-MedTuned-13b-512-lora-merged_4bit_few_shot_instruction_10_examples.pt\",\n",
    "              # paths.RESULTS_PATH/\"side-effects/side-effects_outlines_Llama2-MedTuned-13b-512-lora-merged_4bit_zero_shot_vanilla_rag.pt\",\n",
    "              paths.RESULTS_PATH/\"side-effects/side-effects_outlines_Llama2-MedTuned-13b-512-lora-merged_4bit_zero_shot_instruction_rag.pt\",\n",
    "              paths.RESULTS_PATH/\"side-effects/side-effects_outlines_Llama2-MedTuned-13b-512-lora-merged_4bit_few_shot_vanilla_10_examples_rag.pt\",\n",
    "              paths.RESULTS_PATH/\"side-effects/side-effects_outlines_Llama2-MedTuned-13b-512-lora-merged_4bit_few_shot_instruction_10_examples_rag.pt\",\n",
    "              paths.RESULTS_PATH/\"side-effects/side-effects_outlines_Llama2-MedTuned-13b-512-lora-merged_4bit_zero_shot_vanilla_s2a.pt\",\n",
    "              paths.RESULTS_PATH/\"side-effects/side-effects_outlines_Llama2-MedTuned-13b-512-lora-merged_4bit_zero_shot_instruction_s2a.pt\",\n",
    "              paths.RESULTS_PATH/\"side-effects/side-effects_outlines_Llama2-MedTuned-13b-512-lora-merged_4bit_few_shot_vanilla_10_examples_s2a.pt\",\n",
    "              paths.RESULTS_PATH/\"side-effects/side-effects_outlines_Llama2-MedTuned-13b-512-lora-merged_4bit_few_shot_instruction_10_examples_s2a.pt\",]"
   ]
  },
  {
   "cell_type": "code",
   "execution_count": 255,
   "metadata": {},
   "outputs": [],
   "source": [
    "results13b_lora_512 = summarize(file_paths13b_lora_512, paths.RESULTS_PATH/\"side-effects/labels.xlsx\", model=model, tokenizer=tokenizer, threshold = 0.7)"
   ]
  },
  {
   "cell_type": "code",
   "execution_count": 256,
   "metadata": {},
   "outputs": [
    {
     "data": {
      "text/html": [
       "<div>\n",
       "<style scoped>\n",
       "    .dataframe tbody tr th:only-of-type {\n",
       "        vertical-align: middle;\n",
       "    }\n",
       "\n",
       "    .dataframe tbody tr th {\n",
       "        vertical-align: top;\n",
       "    }\n",
       "\n",
       "    .dataframe thead th {\n",
       "        text-align: right;\n",
       "    }\n",
       "</style>\n",
       "<table border=\"1\" class=\"dataframe\">\n",
       "  <thead>\n",
       "    <tr style=\"text-align: right;\">\n",
       "      <th></th>\n",
       "      <th>side_effects_precision</th>\n",
       "      <th>side_effects_recall</th>\n",
       "      <th>side_effects_f1</th>\n",
       "      <th>medication_precision</th>\n",
       "      <th>medication_recall</th>\n",
       "      <th>medication_f1</th>\n",
       "      <th>successful</th>\n",
       "      <th>approach</th>\n",
       "      <th>strategy</th>\n",
       "    </tr>\n",
       "  </thead>\n",
       "  <tbody>\n",
       "    <tr>\n",
       "      <th>0</th>\n",
       "      <td>0.28</td>\n",
       "      <td>0.45</td>\n",
       "      <td>0.32</td>\n",
       "      <td>0.41</td>\n",
       "      <td>0.78</td>\n",
       "      <td>0.50</td>\n",
       "      <td>99.0</td>\n",
       "      <td>S2A-1</td>\n",
       "      <td>Zero-Shot Instruction</td>\n",
       "    </tr>\n",
       "    <tr>\n",
       "      <th>1</th>\n",
       "      <td>0.34</td>\n",
       "      <td>0.42</td>\n",
       "      <td>0.36</td>\n",
       "      <td>0.45</td>\n",
       "      <td>0.56</td>\n",
       "      <td>0.47</td>\n",
       "      <td>99.0</td>\n",
       "      <td>S2A-1</td>\n",
       "      <td>Few-Shot Base</td>\n",
       "    </tr>\n",
       "    <tr>\n",
       "      <th>2</th>\n",
       "      <td>0.31</td>\n",
       "      <td>0.59</td>\n",
       "      <td>0.38</td>\n",
       "      <td>0.40</td>\n",
       "      <td>0.78</td>\n",
       "      <td>0.49</td>\n",
       "      <td>99.0</td>\n",
       "      <td>S2A-1</td>\n",
       "      <td>Few-Shot Instruction</td>\n",
       "    </tr>\n",
       "    <tr>\n",
       "      <th>3</th>\n",
       "      <td>0.42</td>\n",
       "      <td>0.48</td>\n",
       "      <td>0.44</td>\n",
       "      <td>0.78</td>\n",
       "      <td>0.87</td>\n",
       "      <td>0.81</td>\n",
       "      <td>100.0</td>\n",
       "      <td>S2A-2</td>\n",
       "      <td>Zero-Shot Base</td>\n",
       "    </tr>\n",
       "    <tr>\n",
       "      <th>4</th>\n",
       "      <td>0.53</td>\n",
       "      <td>0.56</td>\n",
       "      <td>0.54</td>\n",
       "      <td>0.87</td>\n",
       "      <td>0.92</td>\n",
       "      <td>0.88</td>\n",
       "      <td>96.0</td>\n",
       "      <td>S2A-2</td>\n",
       "      <td>Zero-Shot Instruction</td>\n",
       "    </tr>\n",
       "    <tr>\n",
       "      <th>5</th>\n",
       "      <td>0.67</td>\n",
       "      <td>0.69</td>\n",
       "      <td>0.66</td>\n",
       "      <td>0.84</td>\n",
       "      <td>0.90</td>\n",
       "      <td>0.84</td>\n",
       "      <td>97.0</td>\n",
       "      <td>S2A-2</td>\n",
       "      <td>Few-Shot Base</td>\n",
       "    </tr>\n",
       "    <tr>\n",
       "      <th>6</th>\n",
       "      <td>0.63</td>\n",
       "      <td>0.68</td>\n",
       "      <td>0.64</td>\n",
       "      <td>0.86</td>\n",
       "      <td>0.93</td>\n",
       "      <td>0.87</td>\n",
       "      <td>98.0</td>\n",
       "      <td>S2A-2</td>\n",
       "      <td>Few-Shot Instruction</td>\n",
       "    </tr>\n",
       "  </tbody>\n",
       "</table>\n",
       "</div>"
      ],
      "text/plain": [
       "   side_effects_precision  side_effects_recall  side_effects_f1  \\\n",
       "0                    0.28                 0.45             0.32   \n",
       "1                    0.34                 0.42             0.36   \n",
       "2                    0.31                 0.59             0.38   \n",
       "3                    0.42                 0.48             0.44   \n",
       "4                    0.53                 0.56             0.54   \n",
       "5                    0.67                 0.69             0.66   \n",
       "6                    0.63                 0.68             0.64   \n",
       "\n",
       "   medication_precision  medication_recall  medication_f1  successful  \\\n",
       "0                  0.41               0.78           0.50        99.0   \n",
       "1                  0.45               0.56           0.47        99.0   \n",
       "2                  0.40               0.78           0.49        99.0   \n",
       "3                  0.78               0.87           0.81       100.0   \n",
       "4                  0.87               0.92           0.88        96.0   \n",
       "5                  0.84               0.90           0.84        97.0   \n",
       "6                  0.86               0.93           0.87        98.0   \n",
       "\n",
       "  approach               strategy  \n",
       "0    S2A-1  Zero-Shot Instruction  \n",
       "1    S2A-1          Few-Shot Base  \n",
       "2    S2A-1   Few-Shot Instruction  \n",
       "3    S2A-2         Zero-Shot Base  \n",
       "4    S2A-2  Zero-Shot Instruction  \n",
       "5    S2A-2          Few-Shot Base  \n",
       "6    S2A-2   Few-Shot Instruction  "
      ]
     },
     "execution_count": 256,
     "metadata": {},
     "output_type": "execute_result"
    }
   ],
   "source": [
    "results13b_lora_512 = results13b_lora_512.round(2)\n",
    "results13b_lora_512"
   ]
  },
  {
   "cell_type": "markdown",
   "metadata": {},
   "source": [
    "# Threshold\n",
    "Will compare effects of threshold for few shot instruction s2a on results"
   ]
  },
  {
   "cell_type": "code",
   "execution_count": 145,
   "metadata": {},
   "outputs": [],
   "source": [
    "threshold_files = [\n",
    "    paths.RESULTS_PATH/\"side-effects/side-effects_outlines_Llama2-MedTuned-13b_4bit_few_shot_instruction_10_examples_s2a.pt\",\n",
    "    paths.RESULTS_PATH/\"side-effects/side-effects_outlines_Llama2-MedTuned-13b-512-lora-merged_4bit_few_shot_instruction_10_examples_s2a.pt\",\n",
    "    paths.RESULTS_PATH/\"side-effects/side-effects_outlines_Llama2-MedTuned-13b-1024-lora-merged_4bit_few_shot_instruction_10_examples_s2a.pt\",\n",
    "                   ]"
   ]
  },
  {
   "cell_type": "code",
   "execution_count": 225,
   "metadata": {},
   "outputs": [],
   "source": [
    "thresholds = np.linspace(0, 1, 11)\n",
    "dfs = []\n",
    "for threshold in thresholds:\n",
    "    _df = summarize(threshold_files, paths.RESULTS_PATH/\"side-effects/labels.xlsx\", model=model, tokenizer=tokenizer, threshold = threshold)\n",
    "    _df[\"model\"] = [\"Llama2-MedTuned-13B\", \"Llama2-MedTuned-13B-lora-512\", \"Llama2-MedTuned-13B-lora-1024\"]\n",
    "    _df[\"threshold\"] = threshold\n",
    "    dfs.append(_df)"
   ]
  },
  {
   "cell_type": "code",
   "execution_count": 230,
   "metadata": {},
   "outputs": [],
   "source": [
    "df_thresholds = pd.concat(dfs, axis=0)\n",
    "df_thresholds.drop(columns=[\"successful\", \"medication_precision\", \"medication_recall\", \"medication_f1\",\t\"successful\",\"approach\", \"strategy\"], inplace=True)"
   ]
  },
  {
   "cell_type": "code",
   "execution_count": 236,
   "metadata": {},
   "outputs": [],
   "source": [
    "def plot_line_plot_group(x:pd.Series, y:pd.Series, groups:pd.Series, title:str = \"Line Plot\",\n",
    "                             xlabel:str = \"Threshold\", ylabel:str = \"Recall\"):\n",
    "    \"\"\"\n",
    "    Plot a line plot with different color for group.\n",
    "\n",
    "    Args:\n",
    "        x (pd.Series): x values.\n",
    "        y (pd.Series): y values.\n",
    "        groups (pd.Series): group values.\n",
    "        title (str): Title of the plot.\n",
    "        color_palette (np.ndarray): Color palette to use.\n",
    "    \"\"\"\n",
    "\n",
    "    assert len(x) == len(y) == len(groups), \"Length of x, y and group must be the same.\"\n",
    "\n",
    "    unique_groups = groups.unique()\n",
    "\n",
    "    data = pd.DataFrame({\"x\": x, \"y\": y, \"groups\": groups})\n",
    "\n",
    "    plt.figure(figsize=(10, 6))\n",
    "\n",
    "    sns.lineplot(data=data, x=\"x\", y=\"y\", hue=\"groups\", palette=\"viridis\")\n",
    "\n",
    "    plt.title(title)\n",
    "    plt.xlabel(xlabel)\n",
    "    plt.ylabel(ylabel)\n",
    "\n",
    "    plt.legend()\n",
    "    plt.grid(True)\n",
    "    plt.show()"
   ]
  },
  {
   "cell_type": "code",
   "execution_count": 241,
   "metadata": {},
   "outputs": [
    {
     "data": {
      "image/png": "[encoded data removed]",
      "text/plain": [
       "<Figure size 1000x600 with 1 Axes>"
      ]
     },
     "metadata": {},
     "output_type": "display_data"
    }
   ],
   "source": [
    "plot_line_plot_group(df_thresholds[\"threshold\"], df_thresholds[\"side_effects_recall\"], df_thresholds[\"model\"], title=\"Recall vs Threshold\", ylabel=\"Recall\", xlabel=\"Threshold\")"
   ]
  },
  {
   "cell_type": "code",
   "execution_count": 242,
   "metadata": {},
   "outputs": [
    {
     "data": {
      "image/png": "[encoded data removed]",
      "text/plain": [
       "<Figure size 1000x600 with 1 Axes>"
      ]
     },
     "metadata": {},
     "output_type": "display_data"
    }
   ],
   "source": [
    "plot_line_plot_group(df_thresholds[\"threshold\"], df_thresholds[\"side_effects_precision\"], df_thresholds[\"model\"], title=\"Precision vs Threshold\", ylabel=\"Precision\", xlabel=\"Threshold\")"
   ]
  },
  {
   "cell_type": "code",
   "execution_count": 243,
   "metadata": {},
   "outputs": [
    {
     "data": {
      "image/png": "[encoded data removed]",
      "text/plain": [
       "<Figure size 1000x600 with 1 Axes>"
      ]
     },
     "metadata": {},
     "output_type": "display_data"
    }
   ],
   "source": [
    "plot_line_plot_group(df_thresholds[\"threshold\"], df_thresholds[\"side_effects_f1\"], df_thresholds[\"model\"], title=\"F1 vs Threshold\", ylabel=\"F1\", xlabel=\"Threshold\")"
   ]
  }
 ],
 "metadata": {
  "kernelspec": {
   "display_name": "Python 3 (ipykernel)",
   "language": "python",
   "name": "python3"
  },
  "language_info": {
   "codemirror_mode": {
    "name": "ipython",
    "version": 3
   },
   "file_extension": ".py",
   "mimetype": "text/x-python",
   "name": "python",
   "nbconvert_exporter": "python",
   "pygments_lexer": "ipython3",
   "version": "3.10.12"
  }
 },
 "nbformat": 4,
 "nbformat_minor": 4
}

{
 "cells": [
  {
   "cell_type": "code",
   "execution_count": null,
   "metadata": {},
   "outputs": [],
   "source": [
    "import sys\n",
    "import os\n",
    "sys.path.append(os.getcwd()+\"/../..\")\n",
    "from src import paths\n",
    "import pandas as pd\n",
    "import importlib\n",
    "from src.data.data_loader import get_nested_csv"
   ]
  },
  {
   "cell_type": "code",
   "execution_count": null,
   "metadata": {},
   "outputs": [],
   "source": [
    "# Kisim Diagnoses\n",
    "# Extracting the data\n",
    "df = get_nested_csv(dir_name=\"seantis\", file_name=\"kisim_diagnoses.csv\")\n",
    "\n",
    "# Saving the data\n",
    "df.to_csv(os.path.join(paths.DATA_PATH_PREPROCESSED, \"kisim_diagnoses_extracted.csv\"), index=False)"
   ]
  },
  {
   "cell_type": "code",
   "execution_count": null,
   "metadata": {},
   "outputs": [],
   "source": [
    "# Diagnoses\n",
    "# Extracting the data\n",
    "df = get_nested_csv(dir_name=\"seantis\", file_name=\"diagnoses.csv\")\n",
    "\n",
    "# Saving the data\n",
    "df.to_csv(os.path.join(paths.DATA_PATH_PREPROCESSED, \"diagnoses_extracted.csv\"), index=False)"
   ]
  }
 ],
 "metadata": {
  "kernelspec": {
   "display_name": "inf-extr",
   "language": "python",
   "name": "python3"
  },
  "language_info": {
   "codemirror_mode": {
    "name": "ipython",
    "version": 3
   },
   "file_extension": ".py",
   "mimetype": "text/x-python",
   "name": "python",
   "nbconvert_exporter": "python",
   "pygments_lexer": "ipython3",
   "version": "3.9.18"
  }
 },
 "nbformat": 4,
 "nbformat_minor": 2
}

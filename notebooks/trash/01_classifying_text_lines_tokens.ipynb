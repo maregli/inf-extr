{
 "cells": [
  {
   "cell_type": "markdown",
   "metadata": {},
   "source": [
    "# Line Label Token Preprocessing\n",
    "\n",
    "This notebooks is used to create the dataset for the line-label task using the token level approach. Be sure to first run:\n",
    "\n",
    "1. notebooks/preprocessing_old_project\n",
    "2. notebooks/01_classifying"
   ]
  },
  {
   "cell_type": "code",
   "execution_count": null,
   "metadata": {},
   "outputs": [],
   "source": [
    "import sys\n",
    "import os\n",
    "sys.path.append(os.getcwd()+\"/../..\")\n",
    "\n",
    "from src import paths\n",
    "from src.utils import prepare_pd_dataset_for_lineclass\n",
    "\n",
    "import pandas as pd\n",
    "\n",
    "from datasets import Dataset, DatasetDict, concatenate_datasets"
   ]
  },
  {
   "cell_type": "markdown",
   "metadata": {},
   "source": [
    "This is a preprocessing step to label all the observations in seantis_kisim.csv, the dataset containing the reports in line splitted format."
   ]
  },
  {
   "cell_type": "code",
   "execution_count": null,
   "metadata": {},
   "outputs": [],
   "source": [
    "# The dataset needs columns rid, text, class_agg. The text column contains one line of a report per row. \n",
    "# The class_agg column can have all Null values, it will be filled by the lineclass model.\n",
    "\n",
    "df_all = pd.read_csv(paths.DATA_PATH_PREPROCESSED/\"midatams/seantis_kisim.csv\")\n",
    "df_all = df_all[[\"research_id\", \"text\"]].rename(columns={\"research_id\": \"rid\"})\n",
    "df_all[\"class_agg\"] = None\n",
    "df_all"
   ]
  },
  {
   "cell_type": "code",
   "execution_count": null,
   "metadata": {},
   "outputs": [],
   "source": [
    "df_train = pd.read_csv(paths.DATA_PATH_PREPROCESSED/\"line-label/line-label_clean_train.csv\")\n",
    "df_val = pd.read_csv(paths.DATA_PATH_PREPROCESSED/\"line-label/line-label_clean_val.csv\")\n",
    "df_test = pd.read_csv(paths.DATA_PATH_PREPROCESSED/\"line-label/line-label_clean_test.csv\")\n",
    "\n",
    "dataset = DatasetDict({\n",
    "    \"train\": Dataset.from_pandas(df_train),\n",
    "    \"val\": Dataset.from_pandas(df_val),\n",
    "    \"test\": Dataset.from_pandas(df_test),\n",
    "    \"all\": Dataset.from_pandas(df_all)\n",
    "})\n",
    "\n",
    "df_token_train = prepare_pd_dataset_for_lineclass(df_train)\n",
    "df_token_val = prepare_pd_dataset_for_lineclass(df_val)\n",
    "df_token_test = prepare_pd_dataset_for_lineclass(df_test)\n",
    "df_token_all = prepare_pd_dataset_for_lineclass(df_all)\n",
    "\n",
    "dataset_token = DatasetDict({\n",
    "    \"train\": Dataset.from_pandas(df_token_train),\n",
    "    \"val\": Dataset.from_pandas(df_token_val),\n",
    "    \"test\": Dataset.from_pandas(df_token_test),\n",
    "    \"all\": Dataset.from_pandas(df_token_all)\n",
    "})\n",
    "\n",
    "# Add a few of the validation examples to the training set\n",
    "dataset_token[\"train\"] = concatenate_datasets([dataset_token[\"train\"], dataset_token[\"val\"].select(range(8))])\n",
    "dataset_token[\"val\"] = dataset_token[\"val\"].select(range(8, len(dataset_token[\"val\"])))\n",
    "\n",
    "# Save the tokenized datasets\n",
    "dataset_token.save_to_disk(paths.DATA_PATH_PREPROCESSED/\"line-label/line-label_for_token_classification\")"
   ]
  }
 ],
 "metadata": {
  "kernelspec": {
   "display_name": "Python 3 (ipykernel)",
   "language": "python",
   "name": "python3"
  },
  "language_info": {
   "codemirror_mode": {
    "name": "ipython",
    "version": 3
   },
   "file_extension": ".py",
   "mimetype": "text/x-python",
   "name": "python",
   "nbconvert_exporter": "python",
   "pygments_lexer": "ipython3",
   "version": "3.9.0"
  }
 },
 "nbformat": 4,
 "nbformat_minor": 4
}

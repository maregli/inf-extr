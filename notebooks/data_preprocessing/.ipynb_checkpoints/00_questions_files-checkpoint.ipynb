{
 "cells": [
  {
   "cell_type": "code",
   "execution_count": null,
   "id": "da952469",
   "metadata": {},
   "outputs": [],
   "source": [
    "import sys\n",
    "import os\n",
    "sys.path.append(os.getcwd()+\"/../..\")\n",
    "from src import paths\n",
    "import pandas as pd\n",
    "import importlib\n",
    "from src.data import data_loader"
   ]
  },
  {
   "cell_type": "markdown",
   "id": "5e56de7b",
   "metadata": {},
   "source": [
    "## Kisim Diagnosis\n",
    "\n",
    "There are multiple subdirectotires relating to imports from different dates in the data/seantis directory. There seem to be two files of interest for the MS task: diagnoses.csv and kisim_diagnoses.csv"
   ]
  },
  {
   "cell_type": "code",
   "execution_count": null,
   "id": "0250c40c",
   "metadata": {},
   "outputs": [],
   "source": [
    "def get_seantis_csv(file_name: str):\n",
    "    \"\"\"\n",
    "    Returns a joint pandas dataframe from all csv files with\n",
    "    the specified file name in the seantis folder.\n",
    "\n",
    "    :param file_name: The name of the csv file to be read.\n",
    "    \"\"\"\n",
    "    list_dfs = []\n",
    "\n",
    "    for root, dirs, files in os.walk(os.path.join(paths.DATA_PATH, \"seantis\")):\n",
    "        if \"imported_\" in root:\n",
    "            try:\n",
    "                _df = pd.read_csv(os.path.join(root, file_name))\n",
    "                list_dfs.append(_df)\n",
    "            except FileNotFoundError:\n",
    "                print(f\"File not found in: {root}\")\n",
    "                continue\n",
    "            except UnicodeDecodeError:\n",
    "                print(f\"UnicodeDecodeError in: {root}\")\n",
    "                continue\n",
    "\n",
    "    df = pd.concat(list_dfs)\n",
    "    return df"
   ]
  },
  {
   "cell_type": "code",
   "execution_count": null,
   "id": "b9aba628",
   "metadata": {},
   "outputs": [],
   "source": [
    "# Diagnoses.csv files\n",
    "diagnoses = get_seantis_csv(\"diagnoses.csv\")\n",
    "display(diagnoses.head())\n",
    "\n",
    "# Count duplicate research ids\n",
    "print(\"Duplicate research_ids: \", diagnoses.research_id.duplicated().sum())"
   ]
  },
  {
   "cell_type": "code",
   "execution_count": null,
   "id": "bb6f1ab3",
   "metadata": {},
   "outputs": [],
   "source": [
    "# Kisim Diagnoses \n",
    "kisim_diagnoses = get_seantis_csv(\"kisim_diagnoses.csv\")\n",
    "display(kisim_diagnoses.head())\n",
    "\n",
    "#Count duplicate diagnosis ids\n",
    "print(\"Duplicate diagnosis_id: \", kisim_diagnoses.diagnosis_id.duplicated().sum())"
   ]
  },
  {
   "cell_type": "code",
   "execution_count": null,
   "id": "533d46d1",
   "metadata": {},
   "outputs": [],
   "source": []
  }
 ],
 "metadata": {
  "kernelspec": {
   "display_name": "Python 3 (ipykernel)",
   "language": "python",
   "name": "python3"
  },
  "language_info": {
   "codemirror_mode": {
    "name": "ipython",
    "version": 3
   },
   "file_extension": ".py",
   "mimetype": "text/x-python",
   "name": "python",
   "nbconvert_exporter": "python",
   "pygments_lexer": "ipython3",
   "version": "3.10.13"
  }
 },
 "nbformat": 4,
 "nbformat_minor": 5
}

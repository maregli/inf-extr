{
 "cells": [
  {
   "cell_type": "code",
   "execution_count": null,
   "metadata": {},
   "outputs": [],
   "source": [
    "import torch\n",
    "import umap\n",
    "import pandas as pd\n",
    "import numpy as np\n",
    "import os\n",
    "import sys\n",
    "sys.path.append(os.getcwd()+\"/../..\")\n",
    "from src import paths\n",
    "import matplotlib.pyplot as plt\n",
    "from sklearn.decomposition import PCA\n",
    "from sklearn.metrics import f1_score, precision_score, recall_score, ConfusionMatrixDisplay"
   ]
  },
  {
   "cell_type": "code",
   "execution_count": null,
   "metadata": {},
   "outputs": [],
   "source": [
    "def plot_embeddings(embeddings: torch.tensor, labels:list, title = \"plot\", method=\"pca\", aggregation=\"mean\"):\n",
    "    \"\"\"\n",
    "    Plot embeddings using PCA or UMAP\n",
    "    \"\"\"\n",
    "\n",
    "    # Create a PCA object\n",
    "    if method == \"umap\":\n",
    "        reducer = umap.UMAP()\n",
    "    elif method == \"pca\":\n",
    "        reducer = PCA(n_components=2)\n",
    "    elif method == \"tsne\":\n",
    "        reducer = TSNE(n_components=2, perplexity=5, n_iter=250)\n",
    "    else:\n",
    "        raise ValueError(\"Reducer Method not implemented\")\n",
    "\n",
    "    # Aggregate embeddings along sequence dimension\n",
    "    if aggregation == \"mean\":\n",
    "        embeddings = torch.mean(embeddings, dim=1)\n",
    "    elif aggregation == \"cls\":\n",
    "        embeddings = embeddings[:,0,:]\n",
    "    else:\n",
    "        raise ValueError(\"Aggregation method not implemented\")\n",
    "\n",
    "    # Fit and transform the embeddings using the PCA object\n",
    "    principalComponents = reducer.fit_transform(embeddings)\n",
    "\n",
    "    # Create a dataframe with the embeddings and the corresponding labels\n",
    "    df_embeddings = pd.DataFrame(principalComponents, columns=['x', 'y'])\n",
    "    df_embeddings['label'] = labels\n",
    "    \n",
    "    for label in df_embeddings['label'].unique():\n",
    "        _df = df_embeddings[df_embeddings['label'] == label]\n",
    "        plt.scatter(_df['x'], _df['y'], alpha=0.5)\n",
    "        plt.legend(df_embeddings['label'].unique())\n",
    "\n",
    "    # Add a title and show the plot\n",
    "    plt.title(title)\n",
    "\n",
    "    plt.show()"
   ]
  },
  {
   "cell_type": "code",
   "execution_count": null,
   "metadata": {},
   "outputs": [],
   "source": [
    "def summarise_line_label_performance(results_path: str):\n",
    "\n",
    "    \"\"\"\n",
    "    Summarise the performance of a line labelling model on a given dataset split and plot the embeddings. Results dictionary\n",
    "    should contain embeddings torch.tensor(n_test_samples, seq_length, n_classes), logits torch.tensor(n_test_samples, n_classes) and \n",
    "    true OHE labels (n_test_samples, n_classes).\n",
    "\n",
    "    Args:\n",
    "        results_path (str): Path to the results of classifier 1. Contains dictionary with embeddings, logits and true OHE labels.\n",
    "\n",
    "    Returns:\n",
    "        None \n",
    "    \"\"\"\n",
    "\n",
    "    # Load dataset\n",
    "    dataset = torch.load(results_path)\n",
    "    \n",
    "    embeddings = dataset[\"embeddings\"]\n",
    "    logits = dataset[\"logits\"]\n",
    "    labels = dataset[\"labels\"]\n",
    "    print(\"Embeddings shape: \", embeddings.shape)\n",
    "    print(\"Predictions shape: \", logits.shape)\n",
    "    print(\"Labels shape: \", labels.shape)\n",
    "    print(\"Labels example: \", labels[0])\n",
    "    \n",
    "    # Import label dict\n",
    "    import json\n",
    "    with open(os.path.join(paths.DATA_PATH_PREPROCESSED, \"line_labelling/line_labelling_clean_class_mapping.json\"), \"r\") as f:\n",
    "        label_dict = json.load(f)\n",
    "        \n",
    "    # Accuracy\n",
    "    preds = np.argmax(logits, axis=1)\n",
    "    labels = np.argmax(labels, axis=1)\n",
    "    \n",
    "    # Map labels to class names\n",
    "    label_names = [label_dict[str(label.item())] for label in labels]\n",
    "\n",
    "    print(f\"Accuracy: {torch.sum(preds == labels) / len(labels)}\")\n",
    "    \n",
    "    # f1 score, precision, recall\n",
    "    print(f\"F1 Score: {f1_score(labels, preds, average='weighted')}\")\n",
    "    print(f\"Precision: {precision_score(labels, preds, average='weighted')}\")\n",
    "    print(f\"Recall: {recall_score(labels, preds, average='weighted')}\")\n",
    "    \n",
    "    # Confusion Matrix\n",
    "    plt.figure(figsize=(8, 6))\n",
    "    ConfusionMatrixDisplay.from_predictions(labels, preds, xticks_rotation=90, display_labels=list(label_dict.values()))\n",
    "    \n",
    "    # Plot embeddings PCA\n",
    "    plt.figure(figsize=(8, 6))\n",
    "    plot_embeddings(embeddings=embeddings, labels=label_names, method=\"pca\", aggregation=\"mean\")\n",
    "    \n",
    "    # Plot embeddings UMAP\n",
    "    plt.figure(figsize=(8, 6))\n",
    "    plot_embeddings(embeddings=embeddings, labels=label_names, method=\"umap\", aggregation=\"mean\")"
   ]
  },
  {
   "cell_type": "markdown",
   "metadata": {},
   "source": [
    "## Medbert Line Label Performance"
   ]
  },
  {
   "cell_type": "code",
   "execution_count": null,
   "metadata": {},
   "outputs": [],
   "source": [
    "summarise_line_label_performance(paths.RESULTS_PATH/'line_labelling/medBERT-finetuned-test_output.pt')"
   ]
  },
  {
   "cell_type": "markdown",
   "metadata": {},
   "source": [
    "## Bert Base Multilingual cased Performance"
   ]
  },
  {
   "cell_type": "code",
   "execution_count": null,
   "metadata": {},
   "outputs": [],
   "source": [
    "summarise_line_label_performance(paths.RESULTS_PATH/'line_labelling/BERT-multilingual-finetuned-test_output.pt')"
   ]
  }
 ],
 "metadata": {
  "kernelspec": {
   "display_name": "Python 3 (ipykernel)",
   "language": "python",
   "name": "python3"
  },
  "language_info": {
   "codemirror_mode": {
    "name": "ipython",
    "version": 3
   },
   "file_extension": ".py",
   "mimetype": "text/x-python",
   "name": "python",
   "nbconvert_exporter": "python",
   "pygments_lexer": "ipython3",
   "version": "3.9.18"
  }
 },
 "nbformat": 4,
 "nbformat_minor": 2
}

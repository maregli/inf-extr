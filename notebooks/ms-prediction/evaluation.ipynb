{
 "cells": [
  {
   "cell_type": "code",
   "execution_count": 1,
   "id": "38412455-78c3-4c9c-8c5d-e40fcfcf948c",
   "metadata": {},
   "outputs": [],
   "source": [
    "import os\n",
    "import sys\n",
    "sys.path.append(os.getcwd()+\"/../..\")\n",
    "from src import paths\n",
    "\n",
    "import torch\n",
    "\n",
    "from src.utils import plot_embeddings, plot_confusion_matrix, performance_metrics"
   ]
  },
  {
   "cell_type": "code",
   "execution_count": null,
   "id": "01c9e654",
   "metadata": {},
   "outputs": [],
   "source": [
    "# Data\n",
    "file_name = \"\"\n",
    "data = torch.load(paths.RESULTS_PATH/file_name)"
   ]
  },
  {
   "cell_type": "code",
   "execution_count": null,
   "id": "05cbf209",
   "metadata": {},
   "outputs": [],
   "source": [
    "# Plot embeddings\n",
    "embeddings = torch.cat(data[\"last_hidden_state\"],dim = 0)\n",
    "labels = data[\"labels\"]\n",
    "test_preds = data[\"test_preds\"]\n",
    "\n",
    "plot_embeddings(embeddings, labels, test_preds, \"PCA\")"
   ]
  },
  {
   "cell_type": "code",
   "execution_count": null,
   "id": "6aada686",
   "metadata": {},
   "outputs": [],
   "source": [
    "# Plot confusion matrix\n",
    "plot_confusion_matrix(labels, test_preds, \"Confusion Matrix\")"
   ]
  },
  {
   "cell_type": "code",
   "execution_count": null,
   "id": "08d02758",
   "metadata": {},
   "outputs": [],
   "source": [
    "# Performance metrics\n",
    "performance_metrics(labels, test_preds, \"Performance Metrics\")"
   ]
  }
 ],
 "metadata": {
  "kernelspec": {
   "display_name": "Python 3 (ipykernel)",
   "language": "python",
   "name": "python3"
  },
  "language_info": {
   "codemirror_mode": {
    "name": "ipython",
    "version": 3
   },
   "file_extension": ".py",
   "mimetype": "text/x-python",
   "name": "python",
   "nbconvert_exporter": "python",
   "pygments_lexer": "ipython3",
   "version": "3.9.18"
  }
 },
 "nbformat": 4,
 "nbformat_minor": 5
}

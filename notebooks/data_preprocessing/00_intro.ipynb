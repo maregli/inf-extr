{
 "cells": [
  {
   "cell_type": "markdown",
   "metadata": {},
   "source": [
    "# Data and file structure\n",
    "\n",
    "The available raw data for midatams is stored in the data folder. There are two directories of interest:\n",
    "\n",
    "- data/seantis: contains reports (text) and labels for seantis data in csv format. The data in this folder will be used to train various classifiers.\n",
    "- data/reports_with_struct_data: this data (rsd) will be labelled with the trained classifiers. There is some overlap between these reports and the seantis reports.\n",
    "\n",
    "The data was imported from the hospital at various stages in time, thus the `imported_time` subdirectories in `data/seantis` and `data/reports_with_struct_data`. Of interest is only the newest one `imported_20210507`. To match reports to labels I will use the `research_id` entry provided in the datafiles. This id is unique to a single patient.\n",
    "\n",
    "In the rest of this notebook I provide a short overview of the tasks I want to perform on the data as well as the data files I will be using for this. The tasks were defined by a previous project, the goal of this thesis is to reimplement these tasks with more modern approaches.\n",
    "\n",
    "## 01 Classifying text lines\n",
    "\n",
    "A classifier is trained to classify single text lines of a report. For example, the lines can be classified as containing a diagnosis (`\"dm\"`) or history (`his`) of a patient. For all classes see the file `01_classifying_text_lines`. This task was used as a preprocessing step to later steps of structured information extraction. So that only lines classified as containing a diagnosis will be fed to a downstream classifier, extracting the exact diagnosis. This step might be unnecessary with modern transformers that can handle longer text inputs.\n",
    "\n",
    "## 02 Classifiyng MS-Diagnosis\n",
    "\n"
   ]
  },
  {
   "cell_type": "code",
   "execution_count": 5,
   "metadata": {},
   "outputs": [],
   "source": [
    "import sys\n",
    "import os\n",
    "sys.path.append(os.getcwd()+\"/../..\")\n",
    "from src import paths\n",
    "import pandas as pd\n",
    "import importlib\n",
    "from src.data.data_loader import get_nested_csv"
   ]
  },
  {
   "cell_type": "code",
   "execution_count": 13,
   "metadata": {},
   "outputs": [],
   "source": [
    "# Kisim Diagnoses\n",
    "# Extracting the data\n",
    "df = get_nested_csv(dir_name=\"seantis\", file_name=\"kisim_diagnoses.csv\")\n",
    "\n",
    "# Saving the data\n",
    "df.to_csv(os.path.join(paths.DATA_PATH_PREPROCESSED, \"kisim_diagnoses_extracted.csv\"), index=False)"
   ]
  },
  {
   "cell_type": "code",
   "execution_count": 10,
   "metadata": {},
   "outputs": [],
   "source": [
    "# Diagnoses\n",
    "# Extracting the data\n",
    "df = get_nested_csv(dir_name=\"seantis\", file_name=\"diagnoses.csv\")\n",
    "\n",
    "# Saving the data\n",
    "df.to_csv(os.path.join(paths.DATA_PATH_PREPROCESSED, \"diagnoses_extracted.csv\"), index=False)"
   ]
  }
 ],
 "metadata": {
  "kernelspec": {
   "display_name": "inf-extr",
   "language": "python",
   "name": "python3"
  },
  "language_info": {
   "codemirror_mode": {
    "name": "ipython",
    "version": 3
   },
   "file_extension": ".py",
   "mimetype": "text/x-python",
   "name": "python",
   "nbconvert_exporter": "python",
   "pygments_lexer": "ipython3",
   "version": "0.0.0"
  }
 },
 "nbformat": 4,
 "nbformat_minor": 2
}

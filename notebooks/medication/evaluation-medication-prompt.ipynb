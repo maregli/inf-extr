{
 "cells": [
  {
   "cell_type": "code",
   "execution_count": 4,
   "id": "9e927d5c-5913-48ef-a16e-6b0dfcca48ab",
   "metadata": {},
   "outputs": [],
   "source": [
    "import sys\n",
    "import os\n",
    "sys.path.append(os.getcwd()+\"/../..\")\n",
    "from src import paths\n",
    "\n",
    "from src.utils import (load_model_and_tokenizer, \n",
    "                        get_sampler, \n",
    "                        get_format_fun, \n",
    "                        format_prompt, \n",
    "                        get_outlines_generator, \n",
    "                        get_pydantic_schema, \n",
    "                        outlines_medication_prompting,\n",
    "                        get_default_pydantic_model)\n",
    "\n",
    "import pandas as pd\n",
    "\n",
    "import json"
   ]
  },
  {
   "cell_type": "code",
   "execution_count": 6,
   "id": "53630d20-5ca1-4096-905f-3f59d99f971c",
   "metadata": {},
   "outputs": [],
   "source": [
    "import torch\n",
    "import json"
   ]
  },
  {
   "cell_type": "code",
   "execution_count": 2,
   "id": "e2b46637-3ee8-4978-b394-af305c740224",
   "metadata": {},
   "outputs": [],
   "source": [
    "results = torch.load(\"/cluster/dataset/midatams/inf-extr/results/medication/medication_outlines_Llama2-MedTuned-13b_4bit_zero_shot_vanilla.pt\")"
   ]
  },
  {
   "cell_type": "code",
   "execution_count": 11,
   "id": "5a959625-92b7-46f8-b580-98b6b23049a1",
   "metadata": {},
   "outputs": [
    {
     "data": {
      "text/plain": [
       "{'medications': [{'name': 'Prednison',\n",
       "   'unit': 'mg',\n",
       "   'amount': 100.0,\n",
       "   'morning': 1.0,\n",
       "   'noon': 1.0,\n",
       "   'evening': 1.0,\n",
       "   'night': 0.0},\n",
       "  {'name': 'Prednison',\n",
       "   'unit': 'mg',\n",
       "   'amount': 80.0,\n",
       "   'morning': 1.0,\n",
       "   'noon': 1.0,\n",
       "   'evening': 1.0,\n",
       "   'night': 0.0},\n",
       "  {'name': 'Prednison',\n",
       "   'unit': 'mg',\n",
       "   'amount': 60.0,\n",
       "   'morning': 1.0,\n",
       "   'noon': 1.0,\n",
       "   'evening': 1.0,\n",
       "   'night': 0.0},\n",
       "  {'name': 'Prednison',\n",
       "   'unit': 'mg',\n",
       "   'amount': 40.0,\n",
       "   'morning': 1.0,\n",
       "   'noon': 1.0,\n",
       "   'evening': 1.0,\n",
       "   'night': 0.0},\n",
       "  {'name': 'Pantozol',\n",
       "   'unit': 'mg',\n",
       "   'amount': 40.0,\n",
       "   'morning': 1.0,\n",
       "   'noon': 1.0,\n",
       "   'evening': 1.0,\n",
       "   'night': 0.0}]}"
      ]
     },
     "execution_count": 11,
     "metadata": {},
     "output_type": "execute_result"
    }
   ],
   "source": [
    "json.loads(results[\"model_answers\"][0])"
   ]
  }
 ],
 "metadata": {
  "kernelspec": {
   "display_name": "Python 3 (ipykernel)",
   "language": "python",
   "name": "python3"
  },
  "language_info": {
   "codemirror_mode": {
    "name": "ipython",
    "version": 3
   },
   "file_extension": ".py",
   "mimetype": "text/x-python",
   "name": "python",
   "nbconvert_exporter": "python",
   "pygments_lexer": "ipython3",
   "version": "3.11.4"
  }
 },
 "nbformat": 4,
 "nbformat_minor": 5
}
